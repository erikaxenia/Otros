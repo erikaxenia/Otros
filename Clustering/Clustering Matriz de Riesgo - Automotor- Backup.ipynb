{
 "cells": [
  {
   "cell_type": "markdown",
   "metadata": {},
   "source": [
    "## MATRIZ DE RIESGO - CLUSTERING"
   ]
  },
  {
   "cell_type": "code",
   "execution_count": 1,
   "metadata": {},
   "outputs": [
    {
     "name": "stderr",
     "output_type": "stream",
     "text": [
      "C:\\Users\\eangenello\\AppData\\Local\\Continuum\\anaconda3\\lib\\site-packages\\ipykernel\\parentpoller.py:116: UserWarning: Parent poll failed.  If the frontend dies,\n",
      "                the kernel may be left running.  Please let us know\n",
      "                about your system (bitness, Python, etc.) at\n",
      "                ipython-dev@scipy.org\n",
      "  ipython-dev@scipy.org\"\"\")\n"
     ]
    }
   ],
   "source": [
    "import pandas as pd\n",
    "import numpy.random as rnd\n",
    "import numpy as np\n",
    "\n",
    "# Cluster \n",
    "from scipy.spatial import distance_matrix\n",
    "from scipy.cluster.vq import vq, kmeans\n",
    "from scipy.spatial.distance import cdist\n",
    "from sklearn.cluster import AffinityPropagation\n",
    "from sklearn import metrics\n",
    "from sklearn.datasets.samples_generator import make_blobs\n",
    "from sklearn.cluster import KMeans\n",
    "from scipy.cluster.hierarchy import dendrogram, linkage\n",
    "\n",
    "# PCA\n",
    "from sklearn.preprocessing import StandardScaler\n",
    "from sklearn.decomposition import PCA as sklearnPCA\n",
    "from sklearn import decomposition\n",
    "from sklearn import preprocessing\n",
    "\n",
    "# Graficas\n",
    "import matplotlib.pyplot as plt\n",
    "from mpl_toolkits.mplot3d import Axes3D\n",
    "from itertools import cycle\n",
    "import seaborn as sns\n",
    "\n",
    "%matplotlib inline\n",
    "\n",
    "pd.options.display.float_format = '{:,.3f}'.format\n",
    "plt.rcParams['figure.figsize'] = (7, 5)"
   ]
  },
  {
   "cell_type": "code",
   "execution_count": 2,
   "metadata": {
    "collapsed": true
   },
   "outputs": [],
   "source": [
    "data = pd.read_excel(r'C:\\Users\\eangenello\\Desktop\\PYTHON\\input\\MATRIZ\\Indicadores Matriz de Riesgo.xlsx')"
   ]
  },
  {
   "cell_type": "code",
   "execution_count": 3,
   "metadata": {},
   "outputs": [
    {
     "data": {
      "text/html": [
       "<div>\n",
       "<style scoped>\n",
       "    .dataframe tbody tr th:only-of-type {\n",
       "        vertical-align: middle;\n",
       "    }\n",
       "\n",
       "    .dataframe tbody tr th {\n",
       "        vertical-align: top;\n",
       "    }\n",
       "\n",
       "    .dataframe thead th {\n",
       "        text-align: right;\n",
       "    }\n",
       "</style>\n",
       "<table border=\"1\" class=\"dataframe\">\n",
       "  <thead>\n",
       "    <tr style=\"text-align: right;\">\n",
       "      <th></th>\n",
       "      <th>Segmento</th>\n",
       "      <th>Cod Cia</th>\n",
       "      <th>DenominacionCorta</th>\n",
       "      <th>periodo</th>\n",
       "      <th>ind_01</th>\n",
       "      <th>num_Ind_01</th>\n",
       "      <th>den_Ind_01</th>\n",
       "      <th>ind_02</th>\n",
       "      <th>num_Ind_02</th>\n",
       "      <th>den_Ind_02</th>\n",
       "      <th>...</th>\n",
       "      <th>den_Ind_40</th>\n",
       "      <th>ind_41</th>\n",
       "      <th>num_Ind_41</th>\n",
       "      <th>den_Ind_41</th>\n",
       "      <th>ind_42</th>\n",
       "      <th>num_Ind_42</th>\n",
       "      <th>den_Ind_42</th>\n",
       "      <th>ind_43</th>\n",
       "      <th>num_Ind_43</th>\n",
       "      <th>den_Ind_43</th>\n",
       "    </tr>\n",
       "  </thead>\n",
       "  <tbody>\n",
       "    <tr>\n",
       "      <th>0</th>\n",
       "      <td>Personas_s/RM</td>\n",
       "      <td>822</td>\n",
       "      <td>INSTITUTO DE JUJUY</td>\n",
       "      <td>2012-2</td>\n",
       "      <td>-0</td>\n",
       "      <td>0.000</td>\n",
       "      <td>3.000</td>\n",
       "      <td>-0</td>\n",
       "      <td>0.000</td>\n",
       "      <td>3.000</td>\n",
       "      <td>...</td>\n",
       "      <td>0.000</td>\n",
       "      <td>387,69097668131125380196012166</td>\n",
       "      <td>5735888</td>\n",
       "      <td>14795</td>\n",
       "      <td>15085,8958333333</td>\n",
       "      <td>724,123.000</td>\n",
       "      <td>48.000</td>\n",
       "      <td>15085,8958333333</td>\n",
       "      <td>724,123.000</td>\n",
       "      <td>48.000</td>\n",
       "    </tr>\n",
       "    <tr>\n",
       "      <th>1</th>\n",
       "      <td>Patrimoniales_Mixtas</td>\n",
       "      <td>823</td>\n",
       "      <td>IÚNIGO</td>\n",
       "      <td>2012-2</td>\n",
       "      <td>-0</td>\n",
       "      <td>0.000</td>\n",
       "      <td>3,665,705.000</td>\n",
       "      <td>-0</td>\n",
       "      <td>0.000</td>\n",
       "      <td>3,665,705.000</td>\n",
       "      <td>...</td>\n",
       "      <td>0.000</td>\n",
       "      <td>74,16577861587392932931184199</td>\n",
       "      <td>14434218</td>\n",
       "      <td>194621</td>\n",
       "      <td>0,672766652474309</td>\n",
       "      <td>3,288,219.000</td>\n",
       "      <td>4,887,607.000</td>\n",
       "      <td>0,672766652474309</td>\n",
       "      <td>3,288,219.000</td>\n",
       "      <td>4,887,607.000</td>\n",
       "    </tr>\n",
       "    <tr>\n",
       "      <th>2</th>\n",
       "      <td>Automotores</td>\n",
       "      <td>2</td>\n",
       "      <td>SMG</td>\n",
       "      <td>2012-3</td>\n",
       "      <td>0,146802925879989</td>\n",
       "      <td>41,770,748.000</td>\n",
       "      <td>284,536,209.000</td>\n",
       "      <td>0,139001427483297</td>\n",
       "      <td>8,058,769.000</td>\n",
       "      <td>57,976,160.000</td>\n",
       "      <td>...</td>\n",
       "      <td>nan</td>\n",
       "      <td>0,5918434595360580881707175794</td>\n",
       "      <td>33452221</td>\n",
       "      <td>56522076</td>\n",
       "      <td>0,421782094960691</td>\n",
       "      <td>54,141,183.000</td>\n",
       "      <td>128,362,924.000</td>\n",
       "      <td>0,47388384323878</td>\n",
       "      <td>46,894,994.000</td>\n",
       "      <td>98,958,837.000</td>\n",
       "    </tr>\n",
       "    <tr>\n",
       "      <th>3</th>\n",
       "      <td>Personas_s/RM</td>\n",
       "      <td>6</td>\n",
       "      <td>SURCO</td>\n",
       "      <td>2012-3</td>\n",
       "      <td>5,28517543245643E-02</td>\n",
       "      <td>1,023,863.000</td>\n",
       "      <td>19,372,356.000</td>\n",
       "      <td>NaN</td>\n",
       "      <td>nan</td>\n",
       "      <td>5,284,657.000</td>\n",
       "      <td>...</td>\n",
       "      <td>nan</td>\n",
       "      <td>318,61462722769224444490123127</td>\n",
       "      <td>31000566</td>\n",
       "      <td>97298</td>\n",
       "      <td>0,372488110469793</td>\n",
       "      <td>9,516,993.000</td>\n",
       "      <td>25,549,790.000</td>\n",
       "      <td>0,376081738996534</td>\n",
       "      <td>9,510,393.000</td>\n",
       "      <td>25,288,101.000</td>\n",
       "    </tr>\n",
       "    <tr>\n",
       "      <th>4</th>\n",
       "      <td>Patrimoniales_Mixtas</td>\n",
       "      <td>7</td>\n",
       "      <td>CAMINOS PROTEGIDOS</td>\n",
       "      <td>2012-3</td>\n",
       "      <td>-0</td>\n",
       "      <td>0.000</td>\n",
       "      <td>6,515,693.000</td>\n",
       "      <td>-0</td>\n",
       "      <td>0.000</td>\n",
       "      <td>2,733,053.000</td>\n",
       "      <td>...</td>\n",
       "      <td>0.000</td>\n",
       "      <td>78,684587253461694745725627481</td>\n",
       "      <td>27690916</td>\n",
       "      <td>351923</td>\n",
       "      <td>0,161439910008841</td>\n",
       "      <td>627,453.000</td>\n",
       "      <td>3,886,604.000</td>\n",
       "      <td>0,166781140703654</td>\n",
       "      <td>627,453.000</td>\n",
       "      <td>3,762,134.000</td>\n",
       "    </tr>\n",
       "  </tbody>\n",
       "</table>\n",
       "<p>5 rows × 130 columns</p>\n",
       "</div>"
      ],
      "text/plain": [
       "               Segmento  Cod Cia   DenominacionCorta periodo  \\\n",
       "0         Personas_s/RM      822  INSTITUTO DE JUJUY  2012-2   \n",
       "1  Patrimoniales_Mixtas      823              IÚNIGO  2012-2   \n",
       "2           Automotores        2                 SMG  2012-3   \n",
       "3         Personas_s/RM        6               SURCO  2012-3   \n",
       "4  Patrimoniales_Mixtas        7  CAMINOS PROTEGIDOS  2012-3   \n",
       "\n",
       "                 ind_01     num_Ind_01      den_Ind_01             ind_02  \\\n",
       "0                    -0          0.000           3.000                 -0   \n",
       "1                    -0          0.000   3,665,705.000                 -0   \n",
       "2     0,146802925879989 41,770,748.000 284,536,209.000  0,139001427483297   \n",
       "3  5,28517543245643E-02  1,023,863.000  19,372,356.000                NaN   \n",
       "4                    -0          0.000   6,515,693.000                 -0   \n",
       "\n",
       "     num_Ind_02     den_Ind_02      ...       den_Ind_40  \\\n",
       "0         0.000          3.000      ...            0.000   \n",
       "1         0.000  3,665,705.000      ...            0.000   \n",
       "2 8,058,769.000 57,976,160.000      ...              nan   \n",
       "3           nan  5,284,657.000      ...              nan   \n",
       "4         0.000  2,733,053.000      ...            0.000   \n",
       "\n",
       "                           ind_41  num_Ind_41 den_Ind_41             ind_42  \\\n",
       "0  387,69097668131125380196012166     5735888      14795   15085,8958333333   \n",
       "1   74,16577861587392932931184199    14434218     194621  0,672766652474309   \n",
       "2  0,5918434595360580881707175794    33452221   56522076  0,421782094960691   \n",
       "3  318,61462722769224444490123127    31000566      97298  0,372488110469793   \n",
       "4  78,684587253461694745725627481    27690916     351923  0,161439910008841   \n",
       "\n",
       "      num_Ind_42      den_Ind_42             ind_43     num_Ind_43  \\\n",
       "0    724,123.000          48.000   15085,8958333333    724,123.000   \n",
       "1  3,288,219.000   4,887,607.000  0,672766652474309  3,288,219.000   \n",
       "2 54,141,183.000 128,362,924.000   0,47388384323878 46,894,994.000   \n",
       "3  9,516,993.000  25,549,790.000  0,376081738996534  9,510,393.000   \n",
       "4    627,453.000   3,886,604.000  0,166781140703654    627,453.000   \n",
       "\n",
       "      den_Ind_43  \n",
       "0         48.000  \n",
       "1  4,887,607.000  \n",
       "2 98,958,837.000  \n",
       "3 25,288,101.000  \n",
       "4  3,762,134.000  \n",
       "\n",
       "[5 rows x 130 columns]"
      ]
     },
     "execution_count": 3,
     "metadata": {},
     "output_type": "execute_result"
    }
   ],
   "source": [
    "data.head()"
   ]
  },
  {
   "cell_type": "code",
   "execution_count": 4,
   "metadata": {
    "collapsed": true
   },
   "outputs": [],
   "source": [
    "#Filtro período\n",
    "data = data[(data.periodo=='2019-2')]\n",
    "\n",
    "# Reemplazo NA\n",
    "data = data.fillna(0)\n",
    "\n",
    "# Remplazo los \"den_cero\"\n",
    "data = data.replace(to_replace='den_cero', value=0)\n",
    "\n",
    "#Quito outlier\n",
    "#data=data[(data['Cod Cia']!=389)]\n",
    "\n",
    "# Quito cia: LIDERAR MOTOS QUE NO EMITE HACE 3 MESES\n",
    "data = data[(data['Cod Cia']!=858)]"
   ]
  },
  {
   "cell_type": "code",
   "execution_count": 5,
   "metadata": {
    "collapsed": true
   },
   "outputs": [],
   "source": [
    "#Filtro las columnas\n",
    "\n",
    "colum = ['Cod Cia','Segmento','ind_01','ind_02','ind_03','ind_04','ind_05','ind_06','ind_08','ind_09','ind_10','ind_11','ind_12',\n",
    "'ind_13','ind_14','ind_15','ind_16','ind_17','ind_18','ind_19','ind_20','ind_21','ind_22','ind_23','ind_24','ind_25',\n",
    "'ind_26','ind_27','ind_28','ind_29','ind_30','ind_31','ind_32','ind_33','ind_34','ind_35','ind_36','ind_37','ind_38',\n",
    "'ind_39','ind_40','ind_41','ind_42','ind_43']\n",
    "\n",
    "data = data[colum]"
   ]
  },
  {
   "cell_type": "markdown",
   "metadata": {},
   "source": [
    "### Dataset Automotor"
   ]
  },
  {
   "cell_type": "code",
   "execution_count": 6,
   "metadata": {
    "collapsed": true
   },
   "outputs": [],
   "source": [
    "data_autom= data.copy()\n",
    "\n",
    "# Filtro ramo automotor\n",
    "data_autom= data_autom[(data_autom.Segmento=='Automotores')]\n",
    "\n",
    "# Reseteo el indice\n",
    "data_autom= data_autom.reset_index()\n",
    "\n",
    "# Me quedo a parte con la columna de compañias\n",
    "cias_autom = data_autom['Cod Cia']\n",
    "\n",
    "# Filtro todo lo que no sea indicadores\n",
    "data_autom= data_autom.iloc[:, 3:]\n",
    "\n",
    "# Quito indicadores que no se calculan para AUTOMOTORES (26, 33, 40)\n",
    "data_autom=data_autom.drop({'ind_26','ind_33', 'ind_40'}, 1)"
   ]
  },
  {
   "cell_type": "code",
   "execution_count": 7,
   "metadata": {
    "collapsed": true
   },
   "outputs": [],
   "source": [
    "# Reemplazo punto por coma y lo convierto en flotante\n",
    "\n",
    "for i in data_autom.columns:\n",
    "    data_autom[i] = data_autom[i].map(lambda x: x if isinstance(x,int) else float(x.replace(\",\",\".\")))"
   ]
  },
  {
   "cell_type": "code",
   "execution_count": 8,
   "metadata": {},
   "outputs": [
    {
     "data": {
      "text/html": [
       "<div>\n",
       "<style scoped>\n",
       "    .dataframe tbody tr th:only-of-type {\n",
       "        vertical-align: middle;\n",
       "    }\n",
       "\n",
       "    .dataframe tbody tr th {\n",
       "        vertical-align: top;\n",
       "    }\n",
       "\n",
       "    .dataframe thead th {\n",
       "        text-align: right;\n",
       "    }\n",
       "</style>\n",
       "<table border=\"1\" class=\"dataframe\">\n",
       "  <thead>\n",
       "    <tr style=\"text-align: right;\">\n",
       "      <th></th>\n",
       "      <th>ind_01</th>\n",
       "      <th>ind_02</th>\n",
       "      <th>ind_03</th>\n",
       "      <th>ind_04</th>\n",
       "      <th>ind_05</th>\n",
       "      <th>ind_06</th>\n",
       "      <th>ind_08</th>\n",
       "      <th>ind_09</th>\n",
       "      <th>ind_10</th>\n",
       "      <th>ind_11</th>\n",
       "      <th>...</th>\n",
       "      <th>ind_32</th>\n",
       "      <th>ind_34</th>\n",
       "      <th>ind_35</th>\n",
       "      <th>ind_36</th>\n",
       "      <th>ind_37</th>\n",
       "      <th>ind_38</th>\n",
       "      <th>ind_39</th>\n",
       "      <th>ind_41</th>\n",
       "      <th>ind_42</th>\n",
       "      <th>ind_43</th>\n",
       "    </tr>\n",
       "  </thead>\n",
       "  <tbody>\n",
       "    <tr>\n",
       "      <th>0</th>\n",
       "      <td>0.119</td>\n",
       "      <td>0.068</td>\n",
       "      <td>0.007</td>\n",
       "      <td>0.242</td>\n",
       "      <td>-0.034</td>\n",
       "      <td>0.846</td>\n",
       "      <td>0.000</td>\n",
       "      <td>0.232</td>\n",
       "      <td>0.000</td>\n",
       "      <td>0.050</td>\n",
       "      <td>...</td>\n",
       "      <td>1.679</td>\n",
       "      <td>0.096</td>\n",
       "      <td>0.269</td>\n",
       "      <td>0.291</td>\n",
       "      <td>1.342</td>\n",
       "      <td>0.837</td>\n",
       "      <td>0.725</td>\n",
       "      <td>2.950</td>\n",
       "      <td>0.417</td>\n",
       "      <td>0.504</td>\n",
       "    </tr>\n",
       "    <tr>\n",
       "      <th>1</th>\n",
       "      <td>0.100</td>\n",
       "      <td>0.006</td>\n",
       "      <td>0.011</td>\n",
       "      <td>0.345</td>\n",
       "      <td>-0.015</td>\n",
       "      <td>0.858</td>\n",
       "      <td>0.000</td>\n",
       "      <td>0.526</td>\n",
       "      <td>0.002</td>\n",
       "      <td>0.266</td>\n",
       "      <td>...</td>\n",
       "      <td>1.398</td>\n",
       "      <td>0.199</td>\n",
       "      <td>0.288</td>\n",
       "      <td>0.125</td>\n",
       "      <td>1.156</td>\n",
       "      <td>0.567</td>\n",
       "      <td>0.558</td>\n",
       "      <td>12.987</td>\n",
       "      <td>0.541</td>\n",
       "      <td>0.589</td>\n",
       "    </tr>\n",
       "    <tr>\n",
       "      <th>2</th>\n",
       "      <td>0.115</td>\n",
       "      <td>0.023</td>\n",
       "      <td>0.011</td>\n",
       "      <td>0.270</td>\n",
       "      <td>-0.055</td>\n",
       "      <td>0.874</td>\n",
       "      <td>0.356</td>\n",
       "      <td>0.093</td>\n",
       "      <td>0.000</td>\n",
       "      <td>0.000</td>\n",
       "      <td>...</td>\n",
       "      <td>1.637</td>\n",
       "      <td>0.297</td>\n",
       "      <td>0.209</td>\n",
       "      <td>0.129</td>\n",
       "      <td>1.195</td>\n",
       "      <td>0.612</td>\n",
       "      <td>0.585</td>\n",
       "      <td>5.675</td>\n",
       "      <td>0.537</td>\n",
       "      <td>0.583</td>\n",
       "    </tr>\n",
       "    <tr>\n",
       "      <th>3</th>\n",
       "      <td>0.234</td>\n",
       "      <td>0.233</td>\n",
       "      <td>0.010</td>\n",
       "      <td>0.225</td>\n",
       "      <td>-0.022</td>\n",
       "      <td>0.824</td>\n",
       "      <td>0.324</td>\n",
       "      <td>0.428</td>\n",
       "      <td>0.071</td>\n",
       "      <td>0.061</td>\n",
       "      <td>...</td>\n",
       "      <td>1.639</td>\n",
       "      <td>0.153</td>\n",
       "      <td>0.190</td>\n",
       "      <td>0.333</td>\n",
       "      <td>1.231</td>\n",
       "      <td>0.803</td>\n",
       "      <td>0.846</td>\n",
       "      <td>10.476</td>\n",
       "      <td>0.367</td>\n",
       "      <td>0.428</td>\n",
       "    </tr>\n",
       "    <tr>\n",
       "      <th>4</th>\n",
       "      <td>0.117</td>\n",
       "      <td>0.015</td>\n",
       "      <td>0.049</td>\n",
       "      <td>0.229</td>\n",
       "      <td>-0.030</td>\n",
       "      <td>0.781</td>\n",
       "      <td>0.441</td>\n",
       "      <td>0.627</td>\n",
       "      <td>0.002</td>\n",
       "      <td>0.161</td>\n",
       "      <td>...</td>\n",
       "      <td>1.250</td>\n",
       "      <td>0.260</td>\n",
       "      <td>0.175</td>\n",
       "      <td>0.086</td>\n",
       "      <td>1.027</td>\n",
       "      <td>0.549</td>\n",
       "      <td>0.586</td>\n",
       "      <td>8.565</td>\n",
       "      <td>0.438</td>\n",
       "      <td>0.478</td>\n",
       "    </tr>\n",
       "  </tbody>\n",
       "</table>\n",
       "<p>5 rows × 39 columns</p>\n",
       "</div>"
      ],
      "text/plain": [
       "   ind_01  ind_02  ind_03  ind_04  ind_05  ind_06  ind_08  ind_09  ind_10  \\\n",
       "0   0.119   0.068   0.007   0.242  -0.034   0.846   0.000   0.232   0.000   \n",
       "1   0.100   0.006   0.011   0.345  -0.015   0.858   0.000   0.526   0.002   \n",
       "2   0.115   0.023   0.011   0.270  -0.055   0.874   0.356   0.093   0.000   \n",
       "3   0.234   0.233   0.010   0.225  -0.022   0.824   0.324   0.428   0.071   \n",
       "4   0.117   0.015   0.049   0.229  -0.030   0.781   0.441   0.627   0.002   \n",
       "\n",
       "   ind_11   ...    ind_32  ind_34  ind_35  ind_36  ind_37  ind_38  ind_39  \\\n",
       "0   0.050   ...     1.679   0.096   0.269   0.291   1.342   0.837   0.725   \n",
       "1   0.266   ...     1.398   0.199   0.288   0.125   1.156   0.567   0.558   \n",
       "2   0.000   ...     1.637   0.297   0.209   0.129   1.195   0.612   0.585   \n",
       "3   0.061   ...     1.639   0.153   0.190   0.333   1.231   0.803   0.846   \n",
       "4   0.161   ...     1.250   0.260   0.175   0.086   1.027   0.549   0.586   \n",
       "\n",
       "   ind_41  ind_42  ind_43  \n",
       "0   2.950   0.417   0.504  \n",
       "1  12.987   0.541   0.589  \n",
       "2   5.675   0.537   0.583  \n",
       "3  10.476   0.367   0.428  \n",
       "4   8.565   0.438   0.478  \n",
       "\n",
       "[5 rows x 39 columns]"
      ]
     },
     "execution_count": 8,
     "metadata": {},
     "output_type": "execute_result"
    }
   ],
   "source": [
    "data_autom.head()"
   ]
  },
  {
   "cell_type": "code",
   "execution_count": 9,
   "metadata": {},
   "outputs": [
    {
     "data": {
      "text/plain": [
       "(45, 39)"
      ]
     },
     "execution_count": 9,
     "metadata": {},
     "output_type": "execute_result"
    }
   ],
   "source": [
    "# Cantidad de Filas + Cantidad de Columnas\n",
    "\n",
    "data_autom.shape"
   ]
  },
  {
   "cell_type": "markdown",
   "metadata": {},
   "source": [
    "### Normalización"
   ]
  },
  {
   "cell_type": "code",
   "execution_count": 56,
   "metadata": {
    "collapsed": true
   },
   "outputs": [],
   "source": [
    "# Metodo máximo minimo\n",
    "# por columna\n",
    "data_autom_norm = pd.DataFrame()\n",
    "\n",
    "for i in data_autom.columns:\n",
    "    data_autom_norm[i] = (data_autom[i] - data_autom[i].min()) /(data_autom[i].max() - data_autom[i].min())\n",
    "    \n",
    "#data_autom_norm = (data_autom - data_autom.min()) /(data_autom.max() - data_autom.min())"
   ]
  },
  {
   "cell_type": "code",
   "execution_count": 11,
   "metadata": {
    "collapsed": true,
    "scrolled": true
   },
   "outputs": [],
   "source": [
    "#%% Se normalizan los datos con MinMax()\n",
    "#min_max_scaler = preprocessing.MinMaxScaler() \n",
    "#data_autom_norm = pd.DataFrame(data=min_max_scaler.fit_transform(data_autom), columns= data_autom.columns) # Hay que convertir a DF el resultado."
   ]
  },
  {
   "cell_type": "code",
   "execution_count": 12,
   "metadata": {
    "collapsed": true
   },
   "outputs": [],
   "source": [
    "#scalar = StandardScaler()\n",
    "\n",
    "#data_autom_norm_standar = pd.DataFrame(data=scalar.fit_transform(data_autom),  columns= data_autom.columns)"
   ]
  },
  {
   "cell_type": "code",
   "execution_count": 13,
   "metadata": {},
   "outputs": [
    {
     "data": {
      "text/html": [
       "<div>\n",
       "<style scoped>\n",
       "    .dataframe tbody tr th:only-of-type {\n",
       "        vertical-align: middle;\n",
       "    }\n",
       "\n",
       "    .dataframe tbody tr th {\n",
       "        vertical-align: top;\n",
       "    }\n",
       "\n",
       "    .dataframe thead th {\n",
       "        text-align: right;\n",
       "    }\n",
       "</style>\n",
       "<table border=\"1\" class=\"dataframe\">\n",
       "  <thead>\n",
       "    <tr style=\"text-align: right;\">\n",
       "      <th></th>\n",
       "      <th>ind_01</th>\n",
       "      <th>ind_02</th>\n",
       "      <th>ind_03</th>\n",
       "      <th>ind_04</th>\n",
       "      <th>ind_05</th>\n",
       "      <th>ind_06</th>\n",
       "      <th>ind_08</th>\n",
       "      <th>ind_09</th>\n",
       "      <th>ind_10</th>\n",
       "      <th>ind_11</th>\n",
       "      <th>...</th>\n",
       "      <th>ind_32</th>\n",
       "      <th>ind_34</th>\n",
       "      <th>ind_35</th>\n",
       "      <th>ind_36</th>\n",
       "      <th>ind_37</th>\n",
       "      <th>ind_38</th>\n",
       "      <th>ind_39</th>\n",
       "      <th>ind_41</th>\n",
       "      <th>ind_42</th>\n",
       "      <th>ind_43</th>\n",
       "    </tr>\n",
       "  </thead>\n",
       "  <tbody>\n",
       "    <tr>\n",
       "      <th>0</th>\n",
       "      <td>0.241</td>\n",
       "      <td>0.092</td>\n",
       "      <td>0.027</td>\n",
       "      <td>0.410</td>\n",
       "      <td>0.882</td>\n",
       "      <td>0.830</td>\n",
       "      <td>0.000</td>\n",
       "      <td>0.272</td>\n",
       "      <td>0.000</td>\n",
       "      <td>0.150</td>\n",
       "      <td>...</td>\n",
       "      <td>0.166</td>\n",
       "      <td>0.000</td>\n",
       "      <td>0.109</td>\n",
       "      <td>0.672</td>\n",
       "      <td>0.210</td>\n",
       "      <td>0.155</td>\n",
       "      <td>0.126</td>\n",
       "      <td>0.004</td>\n",
       "      <td>0.051</td>\n",
       "      <td>0.186</td>\n",
       "    </tr>\n",
       "    <tr>\n",
       "      <th>1</th>\n",
       "      <td>0.203</td>\n",
       "      <td>0.008</td>\n",
       "      <td>0.044</td>\n",
       "      <td>0.608</td>\n",
       "      <td>0.954</td>\n",
       "      <td>0.847</td>\n",
       "      <td>0.000</td>\n",
       "      <td>0.618</td>\n",
       "      <td>0.003</td>\n",
       "      <td>0.805</td>\n",
       "      <td>...</td>\n",
       "      <td>0.129</td>\n",
       "      <td>0.230</td>\n",
       "      <td>0.123</td>\n",
       "      <td>0.288</td>\n",
       "      <td>0.181</td>\n",
       "      <td>0.074</td>\n",
       "      <td>0.075</td>\n",
       "      <td>0.019</td>\n",
       "      <td>0.104</td>\n",
       "      <td>0.217</td>\n",
       "    </tr>\n",
       "    <tr>\n",
       "      <th>2</th>\n",
       "      <td>0.233</td>\n",
       "      <td>0.031</td>\n",
       "      <td>0.045</td>\n",
       "      <td>0.464</td>\n",
       "      <td>0.802</td>\n",
       "      <td>0.869</td>\n",
       "      <td>0.485</td>\n",
       "      <td>0.110</td>\n",
       "      <td>0.000</td>\n",
       "      <td>0.000</td>\n",
       "      <td>...</td>\n",
       "      <td>0.161</td>\n",
       "      <td>0.448</td>\n",
       "      <td>0.066</td>\n",
       "      <td>0.297</td>\n",
       "      <td>0.187</td>\n",
       "      <td>0.088</td>\n",
       "      <td>0.083</td>\n",
       "      <td>0.008</td>\n",
       "      <td>0.103</td>\n",
       "      <td>0.215</td>\n",
       "    </tr>\n",
       "    <tr>\n",
       "      <th>3</th>\n",
       "      <td>0.473</td>\n",
       "      <td>0.315</td>\n",
       "      <td>0.041</td>\n",
       "      <td>0.379</td>\n",
       "      <td>0.926</td>\n",
       "      <td>0.799</td>\n",
       "      <td>0.442</td>\n",
       "      <td>0.503</td>\n",
       "      <td>0.119</td>\n",
       "      <td>0.184</td>\n",
       "      <td>...</td>\n",
       "      <td>0.161</td>\n",
       "      <td>0.127</td>\n",
       "      <td>0.053</td>\n",
       "      <td>0.768</td>\n",
       "      <td>0.193</td>\n",
       "      <td>0.144</td>\n",
       "      <td>0.164</td>\n",
       "      <td>0.015</td>\n",
       "      <td>0.030</td>\n",
       "      <td>0.158</td>\n",
       "    </tr>\n",
       "    <tr>\n",
       "      <th>4</th>\n",
       "      <td>0.237</td>\n",
       "      <td>0.020</td>\n",
       "      <td>0.200</td>\n",
       "      <td>0.387</td>\n",
       "      <td>0.896</td>\n",
       "      <td>0.741</td>\n",
       "      <td>0.602</td>\n",
       "      <td>0.736</td>\n",
       "      <td>0.004</td>\n",
       "      <td>0.488</td>\n",
       "      <td>...</td>\n",
       "      <td>0.110</td>\n",
       "      <td>0.366</td>\n",
       "      <td>0.041</td>\n",
       "      <td>0.197</td>\n",
       "      <td>0.161</td>\n",
       "      <td>0.069</td>\n",
       "      <td>0.084</td>\n",
       "      <td>0.012</td>\n",
       "      <td>0.060</td>\n",
       "      <td>0.176</td>\n",
       "    </tr>\n",
       "  </tbody>\n",
       "</table>\n",
       "<p>5 rows × 39 columns</p>\n",
       "</div>"
      ],
      "text/plain": [
       "   ind_01  ind_02  ind_03  ind_04  ind_05  ind_06  ind_08  ind_09  ind_10  \\\n",
       "0   0.241   0.092   0.027   0.410   0.882   0.830   0.000   0.272   0.000   \n",
       "1   0.203   0.008   0.044   0.608   0.954   0.847   0.000   0.618   0.003   \n",
       "2   0.233   0.031   0.045   0.464   0.802   0.869   0.485   0.110   0.000   \n",
       "3   0.473   0.315   0.041   0.379   0.926   0.799   0.442   0.503   0.119   \n",
       "4   0.237   0.020   0.200   0.387   0.896   0.741   0.602   0.736   0.004   \n",
       "\n",
       "   ind_11   ...    ind_32  ind_34  ind_35  ind_36  ind_37  ind_38  ind_39  \\\n",
       "0   0.150   ...     0.166   0.000   0.109   0.672   0.210   0.155   0.126   \n",
       "1   0.805   ...     0.129   0.230   0.123   0.288   0.181   0.074   0.075   \n",
       "2   0.000   ...     0.161   0.448   0.066   0.297   0.187   0.088   0.083   \n",
       "3   0.184   ...     0.161   0.127   0.053   0.768   0.193   0.144   0.164   \n",
       "4   0.488   ...     0.110   0.366   0.041   0.197   0.161   0.069   0.084   \n",
       "\n",
       "   ind_41  ind_42  ind_43  \n",
       "0   0.004   0.051   0.186  \n",
       "1   0.019   0.104   0.217  \n",
       "2   0.008   0.103   0.215  \n",
       "3   0.015   0.030   0.158  \n",
       "4   0.012   0.060   0.176  \n",
       "\n",
       "[5 rows x 39 columns]"
      ]
     },
     "execution_count": 13,
     "metadata": {},
     "output_type": "execute_result"
    }
   ],
   "source": [
    "# Media y Varianza\n",
    "\n",
    "#normalize = Normalizer()\n",
    "\n",
    "#data_autom_norm= pd.DataFrame(data=normalize.fit_transform(data_autom),  columns= data_autom.columns)\n",
    "\n",
    "data_autom_norm.head()"
   ]
  },
  {
   "cell_type": "code",
   "execution_count": 14,
   "metadata": {
    "collapsed": true
   },
   "outputs": [],
   "source": [
    "#data_autom_norm.to_excel(r'C:\\Users\\eangenello\\Desktop\\AutomotorNorm.xlsx', sheet_name='Autom', index=False)"
   ]
  },
  {
   "cell_type": "markdown",
   "metadata": {},
   "source": [
    "### Correlación"
   ]
  },
  {
   "cell_type": "code",
   "execution_count": 15,
   "metadata": {},
   "outputs": [
    {
     "data": {
      "text/html": [
       "<div>\n",
       "<style scoped>\n",
       "    .dataframe tbody tr th:only-of-type {\n",
       "        vertical-align: middle;\n",
       "    }\n",
       "\n",
       "    .dataframe tbody tr th {\n",
       "        vertical-align: top;\n",
       "    }\n",
       "\n",
       "    .dataframe thead th {\n",
       "        text-align: right;\n",
       "    }\n",
       "</style>\n",
       "<table border=\"1\" class=\"dataframe\">\n",
       "  <thead>\n",
       "    <tr style=\"text-align: right;\">\n",
       "      <th></th>\n",
       "      <th>ind_01</th>\n",
       "      <th>ind_02</th>\n",
       "      <th>ind_03</th>\n",
       "      <th>ind_04</th>\n",
       "      <th>ind_05</th>\n",
       "      <th>ind_06</th>\n",
       "      <th>ind_08</th>\n",
       "      <th>ind_09</th>\n",
       "      <th>ind_10</th>\n",
       "      <th>ind_11</th>\n",
       "      <th>...</th>\n",
       "      <th>ind_32</th>\n",
       "      <th>ind_34</th>\n",
       "      <th>ind_35</th>\n",
       "      <th>ind_36</th>\n",
       "      <th>ind_37</th>\n",
       "      <th>ind_38</th>\n",
       "      <th>ind_39</th>\n",
       "      <th>ind_41</th>\n",
       "      <th>ind_42</th>\n",
       "      <th>ind_43</th>\n",
       "    </tr>\n",
       "  </thead>\n",
       "  <tbody>\n",
       "    <tr>\n",
       "      <th>ind_01</th>\n",
       "      <td>1.000</td>\n",
       "      <td>0.758</td>\n",
       "      <td>0.276</td>\n",
       "      <td>0.147</td>\n",
       "      <td>0.044</td>\n",
       "      <td>0.123</td>\n",
       "      <td>0.223</td>\n",
       "      <td>0.256</td>\n",
       "      <td>0.030</td>\n",
       "      <td>0.202</td>\n",
       "      <td>...</td>\n",
       "      <td>-0.099</td>\n",
       "      <td>-0.233</td>\n",
       "      <td>-0.162</td>\n",
       "      <td>0.852</td>\n",
       "      <td>0.039</td>\n",
       "      <td>-0.164</td>\n",
       "      <td>-0.119</td>\n",
       "      <td>-0.236</td>\n",
       "      <td>-0.193</td>\n",
       "      <td>0.094</td>\n",
       "    </tr>\n",
       "    <tr>\n",
       "      <th>ind_02</th>\n",
       "      <td>0.758</td>\n",
       "      <td>1.000</td>\n",
       "      <td>0.134</td>\n",
       "      <td>0.079</td>\n",
       "      <td>0.072</td>\n",
       "      <td>0.167</td>\n",
       "      <td>0.233</td>\n",
       "      <td>0.339</td>\n",
       "      <td>-0.014</td>\n",
       "      <td>0.057</td>\n",
       "      <td>...</td>\n",
       "      <td>-0.069</td>\n",
       "      <td>-0.233</td>\n",
       "      <td>-0.114</td>\n",
       "      <td>0.725</td>\n",
       "      <td>0.028</td>\n",
       "      <td>-0.088</td>\n",
       "      <td>-0.075</td>\n",
       "      <td>-0.168</td>\n",
       "      <td>-0.152</td>\n",
       "      <td>0.055</td>\n",
       "    </tr>\n",
       "    <tr>\n",
       "      <th>ind_03</th>\n",
       "      <td>0.276</td>\n",
       "      <td>0.134</td>\n",
       "      <td>1.000</td>\n",
       "      <td>0.018</td>\n",
       "      <td>-0.075</td>\n",
       "      <td>-0.114</td>\n",
       "      <td>0.180</td>\n",
       "      <td>0.254</td>\n",
       "      <td>-0.050</td>\n",
       "      <td>-0.026</td>\n",
       "      <td>...</td>\n",
       "      <td>0.191</td>\n",
       "      <td>0.155</td>\n",
       "      <td>-0.101</td>\n",
       "      <td>0.138</td>\n",
       "      <td>0.051</td>\n",
       "      <td>-0.164</td>\n",
       "      <td>-0.128</td>\n",
       "      <td>0.108</td>\n",
       "      <td>-0.023</td>\n",
       "      <td>0.151</td>\n",
       "    </tr>\n",
       "    <tr>\n",
       "      <th>ind_04</th>\n",
       "      <td>0.147</td>\n",
       "      <td>0.079</td>\n",
       "      <td>0.018</td>\n",
       "      <td>1.000</td>\n",
       "      <td>-0.083</td>\n",
       "      <td>-0.037</td>\n",
       "      <td>-0.135</td>\n",
       "      <td>-0.025</td>\n",
       "      <td>-0.141</td>\n",
       "      <td>-0.021</td>\n",
       "      <td>...</td>\n",
       "      <td>-0.079</td>\n",
       "      <td>-0.066</td>\n",
       "      <td>0.185</td>\n",
       "      <td>0.226</td>\n",
       "      <td>0.026</td>\n",
       "      <td>-0.059</td>\n",
       "      <td>-0.050</td>\n",
       "      <td>-0.179</td>\n",
       "      <td>0.121</td>\n",
       "      <td>0.068</td>\n",
       "    </tr>\n",
       "    <tr>\n",
       "      <th>ind_05</th>\n",
       "      <td>0.044</td>\n",
       "      <td>0.072</td>\n",
       "      <td>-0.075</td>\n",
       "      <td>-0.083</td>\n",
       "      <td>1.000</td>\n",
       "      <td>0.503</td>\n",
       "      <td>-0.011</td>\n",
       "      <td>0.023</td>\n",
       "      <td>0.129</td>\n",
       "      <td>0.104</td>\n",
       "      <td>...</td>\n",
       "      <td>-0.486</td>\n",
       "      <td>-0.228</td>\n",
       "      <td>-0.353</td>\n",
       "      <td>0.085</td>\n",
       "      <td>-0.287</td>\n",
       "      <td>-0.466</td>\n",
       "      <td>-0.467</td>\n",
       "      <td>0.115</td>\n",
       "      <td>-0.407</td>\n",
       "      <td>-0.279</td>\n",
       "    </tr>\n",
       "  </tbody>\n",
       "</table>\n",
       "<p>5 rows × 39 columns</p>\n",
       "</div>"
      ],
      "text/plain": [
       "        ind_01  ind_02  ind_03  ind_04  ind_05  ind_06  ind_08  ind_09  \\\n",
       "ind_01   1.000   0.758   0.276   0.147   0.044   0.123   0.223   0.256   \n",
       "ind_02   0.758   1.000   0.134   0.079   0.072   0.167   0.233   0.339   \n",
       "ind_03   0.276   0.134   1.000   0.018  -0.075  -0.114   0.180   0.254   \n",
       "ind_04   0.147   0.079   0.018   1.000  -0.083  -0.037  -0.135  -0.025   \n",
       "ind_05   0.044   0.072  -0.075  -0.083   1.000   0.503  -0.011   0.023   \n",
       "\n",
       "        ind_10  ind_11   ...    ind_32  ind_34  ind_35  ind_36  ind_37  \\\n",
       "ind_01   0.030   0.202   ...    -0.099  -0.233  -0.162   0.852   0.039   \n",
       "ind_02  -0.014   0.057   ...    -0.069  -0.233  -0.114   0.725   0.028   \n",
       "ind_03  -0.050  -0.026   ...     0.191   0.155  -0.101   0.138   0.051   \n",
       "ind_04  -0.141  -0.021   ...    -0.079  -0.066   0.185   0.226   0.026   \n",
       "ind_05   0.129   0.104   ...    -0.486  -0.228  -0.353   0.085  -0.287   \n",
       "\n",
       "        ind_38  ind_39  ind_41  ind_42  ind_43  \n",
       "ind_01  -0.164  -0.119  -0.236  -0.193   0.094  \n",
       "ind_02  -0.088  -0.075  -0.168  -0.152   0.055  \n",
       "ind_03  -0.164  -0.128   0.108  -0.023   0.151  \n",
       "ind_04  -0.059  -0.050  -0.179   0.121   0.068  \n",
       "ind_05  -0.466  -0.467   0.115  -0.407  -0.279  \n",
       "\n",
       "[5 rows x 39 columns]"
      ]
     },
     "execution_count": 15,
     "metadata": {},
     "output_type": "execute_result"
    }
   ],
   "source": [
    "mat_correl = np.corrcoef(pd.DataFrame.transpose(data_autom))\n",
    "\n",
    "col=['ind_01', 'ind_02', 'ind_03', 'ind_04', 'ind_05', 'ind_06', 'ind_08',\n",
    "       'ind_09', 'ind_10', 'ind_11', 'ind_12', 'ind_13', 'ind_14', 'ind_15',\n",
    "       'ind_16', 'ind_17', 'ind_18', 'ind_19', 'ind_20', 'ind_21', 'ind_22',\n",
    "       'ind_23', 'ind_24', 'ind_25', 'ind_27', 'ind_28', 'ind_29', 'ind_30',\n",
    "       'ind_31', 'ind_32', 'ind_34', 'ind_35', 'ind_36', 'ind_37', 'ind_38',\n",
    "       'ind_39', 'ind_41', 'ind_42', 'ind_43']\n",
    "\n",
    "mat_correl = pd.DataFrame(mat_correl, columns=col , index=col)\n",
    "mat_correl.head()"
   ]
  },
  {
   "cell_type": "code",
   "execution_count": 16,
   "metadata": {
    "collapsed": true,
    "scrolled": true
   },
   "outputs": [],
   "source": [
    "#mat_correl.to_excel(r'output\\Correlación.xlsx')"
   ]
  },
  {
   "cell_type": "code",
   "execution_count": 17,
   "metadata": {
    "collapsed": true
   },
   "outputs": [],
   "source": [
    "# Quito los indicadores correlacionados por más del 85%\n",
    "\n",
    "# 'ind_27','ind_29','ind_25','ind_39','ind_42','ind_43','ind_39'\n",
    "\n",
    "#autom_model = data_autom_norm.drop({'ind_27','ind_29','ind_25','ind_39','ind_42','ind_43','ind_39'},1)"
   ]
  },
  {
   "cell_type": "code",
   "execution_count": 18,
   "metadata": {
    "collapsed": true
   },
   "outputs": [],
   "source": [
    "# Me quedo con los indicadores raíz\n",
    "\n",
    "autom_model = data_autom_norm[['ind_04','ind_20','ind_22','ind_19']]\n"
   ]
  },
  {
   "cell_type": "code",
   "execution_count": 55,
   "metadata": {},
   "outputs": [
    {
     "data": {
      "text/html": [
       "<div>\n",
       "<style scoped>\n",
       "    .dataframe tbody tr th:only-of-type {\n",
       "        vertical-align: middle;\n",
       "    }\n",
       "\n",
       "    .dataframe tbody tr th {\n",
       "        vertical-align: top;\n",
       "    }\n",
       "\n",
       "    .dataframe thead th {\n",
       "        text-align: right;\n",
       "    }\n",
       "</style>\n",
       "<table border=\"1\" class=\"dataframe\">\n",
       "  <thead>\n",
       "    <tr style=\"text-align: right;\">\n",
       "      <th></th>\n",
       "      <th>ind_04</th>\n",
       "      <th>ind_20</th>\n",
       "      <th>ind_22</th>\n",
       "      <th>ind_19</th>\n",
       "    </tr>\n",
       "  </thead>\n",
       "  <tbody>\n",
       "    <tr>\n",
       "      <th>0</th>\n",
       "      <td>0.410</td>\n",
       "      <td>0.651</td>\n",
       "      <td>0.301</td>\n",
       "      <td>0.930</td>\n",
       "    </tr>\n",
       "    <tr>\n",
       "      <th>1</th>\n",
       "      <td>0.608</td>\n",
       "      <td>0.882</td>\n",
       "      <td>0.045</td>\n",
       "      <td>0.964</td>\n",
       "    </tr>\n",
       "    <tr>\n",
       "      <th>2</th>\n",
       "      <td>0.464</td>\n",
       "      <td>0.758</td>\n",
       "      <td>0.001</td>\n",
       "      <td>0.956</td>\n",
       "    </tr>\n",
       "    <tr>\n",
       "      <th>3</th>\n",
       "      <td>0.379</td>\n",
       "      <td>0.885</td>\n",
       "      <td>0.436</td>\n",
       "      <td>0.948</td>\n",
       "    </tr>\n",
       "    <tr>\n",
       "      <th>4</th>\n",
       "      <td>0.387</td>\n",
       "      <td>1.000</td>\n",
       "      <td>0.131</td>\n",
       "      <td>0.987</td>\n",
       "    </tr>\n",
       "    <tr>\n",
       "      <th>5</th>\n",
       "      <td>0.347</td>\n",
       "      <td>0.824</td>\n",
       "      <td>0.252</td>\n",
       "      <td>0.959</td>\n",
       "    </tr>\n",
       "    <tr>\n",
       "      <th>6</th>\n",
       "      <td>0.476</td>\n",
       "      <td>0.702</td>\n",
       "      <td>0.000</td>\n",
       "      <td>0.980</td>\n",
       "    </tr>\n",
       "    <tr>\n",
       "      <th>7</th>\n",
       "      <td>0.574</td>\n",
       "      <td>0.736</td>\n",
       "      <td>0.125</td>\n",
       "      <td>0.945</td>\n",
       "    </tr>\n",
       "    <tr>\n",
       "      <th>8</th>\n",
       "      <td>0.447</td>\n",
       "      <td>0.858</td>\n",
       "      <td>0.051</td>\n",
       "      <td>0.967</td>\n",
       "    </tr>\n",
       "    <tr>\n",
       "      <th>9</th>\n",
       "      <td>0.175</td>\n",
       "      <td>0.896</td>\n",
       "      <td>1.000</td>\n",
       "      <td>0.992</td>\n",
       "    </tr>\n",
       "    <tr>\n",
       "      <th>10</th>\n",
       "      <td>0.427</td>\n",
       "      <td>0.842</td>\n",
       "      <td>0.293</td>\n",
       "      <td>0.967</td>\n",
       "    </tr>\n",
       "    <tr>\n",
       "      <th>11</th>\n",
       "      <td>0.204</td>\n",
       "      <td>0.742</td>\n",
       "      <td>0.044</td>\n",
       "      <td>0.952</td>\n",
       "    </tr>\n",
       "    <tr>\n",
       "      <th>12</th>\n",
       "      <td>0.276</td>\n",
       "      <td>0.711</td>\n",
       "      <td>0.354</td>\n",
       "      <td>0.956</td>\n",
       "    </tr>\n",
       "    <tr>\n",
       "      <th>13</th>\n",
       "      <td>0.276</td>\n",
       "      <td>0.799</td>\n",
       "      <td>0.362</td>\n",
       "      <td>0.952</td>\n",
       "    </tr>\n",
       "    <tr>\n",
       "      <th>14</th>\n",
       "      <td>0.307</td>\n",
       "      <td>0.711</td>\n",
       "      <td>0.377</td>\n",
       "      <td>0.944</td>\n",
       "    </tr>\n",
       "    <tr>\n",
       "      <th>15</th>\n",
       "      <td>0.356</td>\n",
       "      <td>0.898</td>\n",
       "      <td>0.169</td>\n",
       "      <td>0.971</td>\n",
       "    </tr>\n",
       "    <tr>\n",
       "      <th>16</th>\n",
       "      <td>0.397</td>\n",
       "      <td>0.986</td>\n",
       "      <td>0.305</td>\n",
       "      <td>0.964</td>\n",
       "    </tr>\n",
       "    <tr>\n",
       "      <th>17</th>\n",
       "      <td>0.276</td>\n",
       "      <td>0.824</td>\n",
       "      <td>0.529</td>\n",
       "      <td>0.949</td>\n",
       "    </tr>\n",
       "    <tr>\n",
       "      <th>18</th>\n",
       "      <td>0.381</td>\n",
       "      <td>0.739</td>\n",
       "      <td>0.136</td>\n",
       "      <td>0.981</td>\n",
       "    </tr>\n",
       "    <tr>\n",
       "      <th>19</th>\n",
       "      <td>0.688</td>\n",
       "      <td>0.907</td>\n",
       "      <td>0.050</td>\n",
       "      <td>0.984</td>\n",
       "    </tr>\n",
       "    <tr>\n",
       "      <th>20</th>\n",
       "      <td>0.045</td>\n",
       "      <td>0.776</td>\n",
       "      <td>0.002</td>\n",
       "      <td>0.786</td>\n",
       "    </tr>\n",
       "    <tr>\n",
       "      <th>21</th>\n",
       "      <td>0.433</td>\n",
       "      <td>0.811</td>\n",
       "      <td>0.365</td>\n",
       "      <td>0.968</td>\n",
       "    </tr>\n",
       "    <tr>\n",
       "      <th>22</th>\n",
       "      <td>0.280</td>\n",
       "      <td>0.409</td>\n",
       "      <td>0.022</td>\n",
       "      <td>0.979</td>\n",
       "    </tr>\n",
       "    <tr>\n",
       "      <th>23</th>\n",
       "      <td>0.274</td>\n",
       "      <td>0.895</td>\n",
       "      <td>0.141</td>\n",
       "      <td>0.980</td>\n",
       "    </tr>\n",
       "    <tr>\n",
       "      <th>24</th>\n",
       "      <td>0.240</td>\n",
       "      <td>0.468</td>\n",
       "      <td>0.170</td>\n",
       "      <td>0.837</td>\n",
       "    </tr>\n",
       "    <tr>\n",
       "      <th>25</th>\n",
       "      <td>0.239</td>\n",
       "      <td>0.737</td>\n",
       "      <td>0.512</td>\n",
       "      <td>0.909</td>\n",
       "    </tr>\n",
       "    <tr>\n",
       "      <th>26</th>\n",
       "      <td>0.386</td>\n",
       "      <td>0.550</td>\n",
       "      <td>0.151</td>\n",
       "      <td>0.968</td>\n",
       "    </tr>\n",
       "    <tr>\n",
       "      <th>27</th>\n",
       "      <td>0.330</td>\n",
       "      <td>0.789</td>\n",
       "      <td>0.688</td>\n",
       "      <td>0.947</td>\n",
       "    </tr>\n",
       "    <tr>\n",
       "      <th>28</th>\n",
       "      <td>0.453</td>\n",
       "      <td>0.699</td>\n",
       "      <td>0.204</td>\n",
       "      <td>0.978</td>\n",
       "    </tr>\n",
       "    <tr>\n",
       "      <th>29</th>\n",
       "      <td>0.259</td>\n",
       "      <td>0.855</td>\n",
       "      <td>0.141</td>\n",
       "      <td>1.000</td>\n",
       "    </tr>\n",
       "    <tr>\n",
       "      <th>30</th>\n",
       "      <td>0.544</td>\n",
       "      <td>0.276</td>\n",
       "      <td>0.073</td>\n",
       "      <td>0.958</td>\n",
       "    </tr>\n",
       "    <tr>\n",
       "      <th>31</th>\n",
       "      <td>0.141</td>\n",
       "      <td>0.590</td>\n",
       "      <td>0.108</td>\n",
       "      <td>0.916</td>\n",
       "    </tr>\n",
       "    <tr>\n",
       "      <th>32</th>\n",
       "      <td>0.794</td>\n",
       "      <td>0.698</td>\n",
       "      <td>0.174</td>\n",
       "      <td>0.982</td>\n",
       "    </tr>\n",
       "    <tr>\n",
       "      <th>33</th>\n",
       "      <td>0.497</td>\n",
       "      <td>0.000</td>\n",
       "      <td>0.655</td>\n",
       "      <td>0.000</td>\n",
       "    </tr>\n",
       "    <tr>\n",
       "      <th>34</th>\n",
       "      <td>0.660</td>\n",
       "      <td>0.697</td>\n",
       "      <td>0.354</td>\n",
       "      <td>0.862</td>\n",
       "    </tr>\n",
       "    <tr>\n",
       "      <th>35</th>\n",
       "      <td>0.208</td>\n",
       "      <td>0.890</td>\n",
       "      <td>0.004</td>\n",
       "      <td>0.959</td>\n",
       "    </tr>\n",
       "    <tr>\n",
       "      <th>36</th>\n",
       "      <td>0.185</td>\n",
       "      <td>0.903</td>\n",
       "      <td>0.205</td>\n",
       "      <td>0.969</td>\n",
       "    </tr>\n",
       "    <tr>\n",
       "      <th>37</th>\n",
       "      <td>0.417</td>\n",
       "      <td>0.560</td>\n",
       "      <td>0.025</td>\n",
       "      <td>0.934</td>\n",
       "    </tr>\n",
       "    <tr>\n",
       "      <th>38</th>\n",
       "      <td>0.324</td>\n",
       "      <td>0.768</td>\n",
       "      <td>0.048</td>\n",
       "      <td>0.944</td>\n",
       "    </tr>\n",
       "    <tr>\n",
       "      <th>39</th>\n",
       "      <td>0.200</td>\n",
       "      <td>0.843</td>\n",
       "      <td>0.066</td>\n",
       "      <td>0.954</td>\n",
       "    </tr>\n",
       "    <tr>\n",
       "      <th>40</th>\n",
       "      <td>0.333</td>\n",
       "      <td>0.740</td>\n",
       "      <td>0.639</td>\n",
       "      <td>0.945</td>\n",
       "    </tr>\n",
       "    <tr>\n",
       "      <th>41</th>\n",
       "      <td>0.111</td>\n",
       "      <td>0.853</td>\n",
       "      <td>0.211</td>\n",
       "      <td>0.948</td>\n",
       "    </tr>\n",
       "    <tr>\n",
       "      <th>42</th>\n",
       "      <td>1.000</td>\n",
       "      <td>0.701</td>\n",
       "      <td>0.053</td>\n",
       "      <td>0.985</td>\n",
       "    </tr>\n",
       "    <tr>\n",
       "      <th>43</th>\n",
       "      <td>0.000</td>\n",
       "      <td>0.903</td>\n",
       "      <td>0.028</td>\n",
       "      <td>0.964</td>\n",
       "    </tr>\n",
       "    <tr>\n",
       "      <th>44</th>\n",
       "      <td>0.409</td>\n",
       "      <td>0.516</td>\n",
       "      <td>0.033</td>\n",
       "      <td>0.942</td>\n",
       "    </tr>\n",
       "  </tbody>\n",
       "</table>\n",
       "</div>"
      ],
      "text/plain": [
       "    ind_04  ind_20  ind_22  ind_19\n",
       "0    0.410   0.651   0.301   0.930\n",
       "1    0.608   0.882   0.045   0.964\n",
       "2    0.464   0.758   0.001   0.956\n",
       "3    0.379   0.885   0.436   0.948\n",
       "4    0.387   1.000   0.131   0.987\n",
       "5    0.347   0.824   0.252   0.959\n",
       "6    0.476   0.702   0.000   0.980\n",
       "7    0.574   0.736   0.125   0.945\n",
       "8    0.447   0.858   0.051   0.967\n",
       "9    0.175   0.896   1.000   0.992\n",
       "10   0.427   0.842   0.293   0.967\n",
       "11   0.204   0.742   0.044   0.952\n",
       "12   0.276   0.711   0.354   0.956\n",
       "13   0.276   0.799   0.362   0.952\n",
       "14   0.307   0.711   0.377   0.944\n",
       "15   0.356   0.898   0.169   0.971\n",
       "16   0.397   0.986   0.305   0.964\n",
       "17   0.276   0.824   0.529   0.949\n",
       "18   0.381   0.739   0.136   0.981\n",
       "19   0.688   0.907   0.050   0.984\n",
       "20   0.045   0.776   0.002   0.786\n",
       "21   0.433   0.811   0.365   0.968\n",
       "22   0.280   0.409   0.022   0.979\n",
       "23   0.274   0.895   0.141   0.980\n",
       "24   0.240   0.468   0.170   0.837\n",
       "25   0.239   0.737   0.512   0.909\n",
       "26   0.386   0.550   0.151   0.968\n",
       "27   0.330   0.789   0.688   0.947\n",
       "28   0.453   0.699   0.204   0.978\n",
       "29   0.259   0.855   0.141   1.000\n",
       "30   0.544   0.276   0.073   0.958\n",
       "31   0.141   0.590   0.108   0.916\n",
       "32   0.794   0.698   0.174   0.982\n",
       "33   0.497   0.000   0.655   0.000\n",
       "34   0.660   0.697   0.354   0.862\n",
       "35   0.208   0.890   0.004   0.959\n",
       "36   0.185   0.903   0.205   0.969\n",
       "37   0.417   0.560   0.025   0.934\n",
       "38   0.324   0.768   0.048   0.944\n",
       "39   0.200   0.843   0.066   0.954\n",
       "40   0.333   0.740   0.639   0.945\n",
       "41   0.111   0.853   0.211   0.948\n",
       "42   1.000   0.701   0.053   0.985\n",
       "43   0.000   0.903   0.028   0.964\n",
       "44   0.409   0.516   0.033   0.942"
      ]
     },
     "execution_count": 55,
     "metadata": {},
     "output_type": "execute_result"
    }
   ],
   "source": [
    "autom_model"
   ]
  },
  {
   "cell_type": "markdown",
   "metadata": {},
   "source": [
    "### Modelo Clustering"
   ]
  },
  {
   "cell_type": "markdown",
   "metadata": {},
   "source": [
    "#### Método del codo (Elbow Method)\n",
    "Este método utiliza los valores de la inercia obtenidos tras aplicar el K-means a diferente número de Clusters (desde 1 a N Clusters), siendo la inercia la suma de las distancias al cuadrado de cada objeto del Cluster a su centroide:\n",
    "\n",
    "<img src=https://jarroba.com/wp-content/uploads/2016/05/kmeans_inercia_jarroba.png>\n",
    "\n",
    "Una vez obtenidos los valores de la inercia tras aplicar el K-means de 1 a N Clusters, representamos en una gráfica lineal la inercia respecto del número de Clusters. En esta gráfica se debería de apreciar un cambio brusco en la evolución de la inercia, teniendo la línea representada una forma similar a la de un brazo y su codo. El punto en el que se observa ese cambio brusco en la inercia nos dirá el número óptimo de Clusters a seleccionar para ese data set; o dicho de otra manera: el punto que representaría al codo del brazo será el número óptimo de Clusters para ese data set."
   ]
  },
  {
   "cell_type": "code",
   "execution_count": 20,
   "metadata": {
    "collapsed": true
   },
   "outputs": [],
   "source": [
    "X = pd.DataFrame(autom_model).values\n",
    "\n",
    "max_k = 10 \n",
    "K = range(1,max_k)\n",
    "ssw = []\n",
    "centroid = [sum(X)/len(X) for i in K]\n",
    "sst = sum(np.min(cdist(X, centroid, 'euclidean'), axis = 1))\n",
    "\n",
    "\n",
    "for k in K:\n",
    "    kmeanModel = KMeans(n_clusters=k).fit(X)\n",
    "    \n",
    "    centers = pd.DataFrame(kmeanModel.cluster_centers_)\n",
    "    labels = kmeanModel.labels_\n",
    "    \n",
    "    ssw_k = sum(np.min(cdist(X, kmeanModel.cluster_centers_, \"euclidean\"), axis = 1))\n",
    "    ssw.append(ssw_k)"
   ]
  },
  {
   "cell_type": "code",
   "execution_count": 21,
   "metadata": {
    "scrolled": true
   },
   "outputs": [
    {
     "data": {
      "image/png": "[encoded data removed]",
      "text/plain": [
       "<Figure size 432x288 with 1 Axes>"
      ]
     },
     "metadata": {
      "needs_background": "light"
     },
     "output_type": "display_data"
    }
   ],
   "source": [
    "#Representación del codo\n",
    "plt.plot(K, ssw, \"bx-\")\n",
    "plt.xlabel(\"k\")\n",
    "plt.ylabel(\"SSw(k)\")\n",
    "plt.title(\"La técnica del codo para encontrar el k óptimo\")\n",
    "plt.show()"
   ]
  },
  {
   "cell_type": "markdown",
   "metadata": {},
   "source": [
    "#### K Means"
   ]
  },
  {
   "cell_type": "code",
   "execution_count": 22,
   "metadata": {},
   "outputs": [
    {
     "data": {
      "text/plain": [
       "(5, 4)"
      ]
     },
     "execution_count": 22,
     "metadata": {},
     "output_type": "execute_result"
    }
   ],
   "source": [
    "# Defino la cantidad de Clusters\n",
    "n_clusters=5\n",
    "\n",
    "# Defino el modelo\n",
    "kmeans = KMeans(n_clusters=n_clusters, random_state=0)\n",
    "\n",
    "# Aplico el modelo al dataset\n",
    "clusters = kmeans.fit_predict(autom_model)\n",
    "\n",
    "# Visualizo la candidad de clusters y centroides\n",
    "kmeans.cluster_centers_.shape"
   ]
  },
  {
   "cell_type": "code",
   "execution_count": 23,
   "metadata": {},
   "outputs": [
    {
     "data": {
      "text/plain": [
       "array([2, 3, 2, 0, 1, 1, 2, 3, 1, 0, 1, 1, 0, 0, 0, 1, 1, 0, 2, 3, 1, 0,\n",
       "       2, 1, 2, 0, 2, 0, 2, 1, 2, 2, 3, 4, 3, 1, 1, 2, 1, 1, 0, 1, 3, 1,\n",
       "       2])"
      ]
     },
     "execution_count": 23,
     "metadata": {},
     "output_type": "execute_result"
    }
   ],
   "source": [
    "# Visualizo el array de clusters\n",
    "clusters"
   ]
  },
  {
   "cell_type": "code",
   "execution_count": 24,
   "metadata": {},
   "outputs": [
    {
     "data": {
      "text/plain": [
       "array([2, 3, 2, 0, 1, 1, 2, 3, 1, 0, 1, 1, 0, 0, 0, 1, 1, 0, 2, 3, 1, 0,\n",
       "       2, 1, 2, 0, 2, 0, 2, 1, 2, 2, 3, 4, 3, 1, 1, 2, 1, 1, 0, 1, 3, 1,\n",
       "       2])"
      ]
     },
     "execution_count": 24,
     "metadata": {},
     "output_type": "execute_result"
    }
   ],
   "source": [
    "# Visualizo las etiquetas del modelo \n",
    "\n",
    "kmeans.labels_"
   ]
  },
  {
   "cell_type": "code",
   "execution_count": 25,
   "metadata": {
    "collapsed": true
   },
   "outputs": [],
   "source": [
    "# Convierto las etiquetas en una serie \n",
    "\n",
    "md_k = pd.Series(kmeans.labels_)"
   ]
  },
  {
   "cell_type": "code",
   "execution_count": 26,
   "metadata": {},
   "outputs": [
    {
     "data": {
      "text/html": [
       "<div>\n",
       "<style scoped>\n",
       "    .dataframe tbody tr th:only-of-type {\n",
       "        vertical-align: middle;\n",
       "    }\n",
       "\n",
       "    .dataframe tbody tr th {\n",
       "        vertical-align: top;\n",
       "    }\n",
       "\n",
       "    .dataframe thead th {\n",
       "        text-align: right;\n",
       "    }\n",
       "</style>\n",
       "<table border=\"1\" class=\"dataframe\">\n",
       "  <thead>\n",
       "    <tr style=\"text-align: right;\">\n",
       "      <th></th>\n",
       "      <th>ind_04</th>\n",
       "      <th>ind_20</th>\n",
       "      <th>ind_22</th>\n",
       "      <th>ind_19</th>\n",
       "      <th>clust_k</th>\n",
       "      <th>cod_cia</th>\n",
       "    </tr>\n",
       "  </thead>\n",
       "  <tbody>\n",
       "    <tr>\n",
       "      <th>0</th>\n",
       "      <td>0.410</td>\n",
       "      <td>0.651</td>\n",
       "      <td>0.301</td>\n",
       "      <td>0.930</td>\n",
       "      <td>2</td>\n",
       "      <td>2</td>\n",
       "    </tr>\n",
       "    <tr>\n",
       "      <th>1</th>\n",
       "      <td>0.608</td>\n",
       "      <td>0.882</td>\n",
       "      <td>0.045</td>\n",
       "      <td>0.964</td>\n",
       "      <td>3</td>\n",
       "      <td>25</td>\n",
       "    </tr>\n",
       "    <tr>\n",
       "      <th>2</th>\n",
       "      <td>0.464</td>\n",
       "      <td>0.758</td>\n",
       "      <td>0.001</td>\n",
       "      <td>0.956</td>\n",
       "      <td>2</td>\n",
       "      <td>32</td>\n",
       "    </tr>\n",
       "    <tr>\n",
       "      <th>3</th>\n",
       "      <td>0.379</td>\n",
       "      <td>0.885</td>\n",
       "      <td>0.436</td>\n",
       "      <td>0.948</td>\n",
       "      <td>0</td>\n",
       "      <td>36</td>\n",
       "    </tr>\n",
       "    <tr>\n",
       "      <th>4</th>\n",
       "      <td>0.387</td>\n",
       "      <td>1.000</td>\n",
       "      <td>0.131</td>\n",
       "      <td>0.987</td>\n",
       "      <td>1</td>\n",
       "      <td>39</td>\n",
       "    </tr>\n",
       "  </tbody>\n",
       "</table>\n",
       "</div>"
      ],
      "text/plain": [
       "   ind_04  ind_20  ind_22  ind_19  clust_k  cod_cia\n",
       "0   0.410   0.651   0.301   0.930        2        2\n",
       "1   0.608   0.882   0.045   0.964        3       25\n",
       "2   0.464   0.758   0.001   0.956        2       32\n",
       "3   0.379   0.885   0.436   0.948        0       36\n",
       "4   0.387   1.000   0.131   0.987        1       39"
      ]
     },
     "execution_count": 26,
     "metadata": {},
     "output_type": "execute_result"
    }
   ],
   "source": [
    "# Genero el dataset con los indicadores, los clusters y la compañía para poder identificarlas \n",
    "\n",
    "Autom_CM = autom_model.copy()\n",
    "Autom_CM[\"clust_k\"] = md_k\n",
    "Autom_CM['cod_cia'] = cias_autom\n",
    "\n",
    "Autom_CM.head()"
   ]
  },
  {
   "cell_type": "code",
   "execution_count": 27,
   "metadata": {},
   "outputs": [
    {
     "data": {
      "text/plain": [
       "(array([10.,  0., 16.,  0.,  0., 12.,  0.,  6.,  0.,  1.]),\n",
       " array([0. , 0.4, 0.8, 1.2, 1.6, 2. , 2.4, 2.8, 3.2, 3.6, 4. ]),\n",
       " <a list of 10 Patch objects>)"
      ]
     },
     "execution_count": 27,
     "metadata": {},
     "output_type": "execute_result"
    },
    {
     "data": {
      "image/png": "[encoded data removed]",
      "text/plain": [
       "<Figure size 432x288 with 1 Axes>"
      ]
     },
     "metadata": {
      "needs_background": "light"
     },
     "output_type": "display_data"
    }
   ],
   "source": [
    "# Veo la frecuencia de los clusters\n",
    "\n",
    "plt.hist(md_k)"
   ]
  },
  {
   "cell_type": "code",
   "execution_count": 34,
   "metadata": {},
   "outputs": [
    {
     "data": {
      "text/html": [
       "<div>\n",
       "<style scoped>\n",
       "    .dataframe tbody tr th:only-of-type {\n",
       "        vertical-align: middle;\n",
       "    }\n",
       "\n",
       "    .dataframe tbody tr th {\n",
       "        vertical-align: top;\n",
       "    }\n",
       "\n",
       "    .dataframe thead th {\n",
       "        text-align: right;\n",
       "    }\n",
       "</style>\n",
       "<table border=\"1\" class=\"dataframe\">\n",
       "  <thead>\n",
       "    <tr style=\"text-align: right;\">\n",
       "      <th></th>\n",
       "      <th>ind_04</th>\n",
       "      <th>ind_20</th>\n",
       "      <th>ind_22</th>\n",
       "      <th>ind_19</th>\n",
       "      <th>clust_k</th>\n",
       "      <th>cod_cia</th>\n",
       "      <th>denominacion_corta_x</th>\n",
       "      <th>denominacion_corta_y</th>\n",
       "    </tr>\n",
       "  </thead>\n",
       "  <tbody>\n",
       "    <tr>\n",
       "      <th>0</th>\n",
       "      <td>0.410</td>\n",
       "      <td>0.651</td>\n",
       "      <td>0.301</td>\n",
       "      <td>0.930</td>\n",
       "      <td>2</td>\n",
       "      <td>2</td>\n",
       "      <td>SMG</td>\n",
       "      <td>SMG</td>\n",
       "    </tr>\n",
       "    <tr>\n",
       "      <th>1</th>\n",
       "      <td>0.608</td>\n",
       "      <td>0.882</td>\n",
       "      <td>0.045</td>\n",
       "      <td>0.964</td>\n",
       "      <td>3</td>\n",
       "      <td>25</td>\n",
       "      <td>SURA</td>\n",
       "      <td>SURA</td>\n",
       "    </tr>\n",
       "    <tr>\n",
       "      <th>2</th>\n",
       "      <td>0.464</td>\n",
       "      <td>0.758</td>\n",
       "      <td>0.001</td>\n",
       "      <td>0.956</td>\n",
       "      <td>2</td>\n",
       "      <td>32</td>\n",
       "      <td>BOSTON</td>\n",
       "      <td>BOSTON</td>\n",
       "    </tr>\n",
       "    <tr>\n",
       "      <th>3</th>\n",
       "      <td>0.379</td>\n",
       "      <td>0.885</td>\n",
       "      <td>0.436</td>\n",
       "      <td>0.948</td>\n",
       "      <td>0</td>\n",
       "      <td>36</td>\n",
       "      <td>ALLIANZ</td>\n",
       "      <td>ALLIANZ</td>\n",
       "    </tr>\n",
       "    <tr>\n",
       "      <th>4</th>\n",
       "      <td>0.387</td>\n",
       "      <td>1.000</td>\n",
       "      <td>0.131</td>\n",
       "      <td>0.987</td>\n",
       "      <td>1</td>\n",
       "      <td>39</td>\n",
       "      <td>QBE BUENOS AIRES</td>\n",
       "      <td>QBE BUENOS AIRES</td>\n",
       "    </tr>\n",
       "  </tbody>\n",
       "</table>\n",
       "</div>"
      ],
      "text/plain": [
       "   ind_04  ind_20  ind_22  ind_19  clust_k  cod_cia denominacion_corta_x  \\\n",
       "0   0.410   0.651   0.301   0.930        2        2                  SMG   \n",
       "1   0.608   0.882   0.045   0.964        3       25                 SURA   \n",
       "2   0.464   0.758   0.001   0.956        2       32               BOSTON   \n",
       "3   0.379   0.885   0.436   0.948        0       36              ALLIANZ   \n",
       "4   0.387   1.000   0.131   0.987        1       39     QBE BUENOS AIRES   \n",
       "\n",
       "  denominacion_corta_y  \n",
       "0                  SMG  \n",
       "1                 SURA  \n",
       "2               BOSTON  \n",
       "3              ALLIANZ  \n",
       "4     QBE BUENOS AIRES  "
      ]
     },
     "execution_count": 34,
     "metadata": {},
     "output_type": "execute_result"
    }
   ],
   "source": [
    "# Agrego la denominación de la compañía\n",
    "\n",
    "den_corta = pd.read_excel(r'C:\\Users\\eangenello\\Desktop\\PYTHON\\input\\ART\\Dataset_Compañías.xlsx', usecols='A,B')\n",
    "\n",
    "Autom_CM = Autom_CM.merge(den_corta, how='left', on=['cod_cia'])\n",
    "\n",
    "Autom_CM.head()"
   ]
  },
  {
   "cell_type": "code",
   "execution_count": 29,
   "metadata": {
    "collapsed": true
   },
   "outputs": [],
   "source": [
    "# Exporto Dataset\n",
    "\n",
    "Autom_CM.to_excel(r'C:\\Users\\eangenello\\Desktop\\PYTHON\\output\\Cluster Automotor.xlsx', sheet_name='Autom', index=False)"
   ]
  },
  {
   "cell_type": "code",
   "execution_count": 77,
   "metadata": {},
   "outputs": [
    {
     "data": {
      "image/png": "[encoded data removed]",
      "text/plain": [
       "<Figure size 288x288 with 1 Axes>"
      ]
     },
     "metadata": {
      "needs_background": "light"
     },
     "output_type": "display_data"
    }
   ],
   "source": [
    "a='ind_04'\n",
    "b='ind_19'\n",
    "\n",
    "fig = plt.figure(figsize = (4,4))\n",
    "ax = fig.add_subplot(1,1,1) \n",
    "ax.set_xlabel(a, fontsize = 12)\n",
    "ax.set_ylabel(b, fontsize = 12)\n",
    "ax.set_title('', fontsize = 15)\n",
    "\n",
    "\n",
    "targets = sorted(Autom_CM['clust_k'].unique())\n",
    "colors = ['rosybrown', 'rosybrown', 'rosybrown', 'rosybrown', 'firebrick']\n",
    "\n",
    "for target, color in zip(targets,colors):\n",
    "    indicesToKeep = Autom_CM['clust_k'] == target\n",
    "    ax.scatter(Autom_CM.loc[indicesToKeep, a]\n",
    "               , Autom_CM.loc[indicesToKeep, b]\n",
    "               , c = color\n",
    "               , s = 50)\n",
    "ax.legend(targets)\n",
    "ax.grid()"
   ]
  },
  {
   "cell_type": "markdown",
   "metadata": {},
   "source": [
    "### PCA para graficar"
   ]
  },
  {
   "cell_type": "markdown",
   "metadata": {},
   "source": [
    "#### Variabilidad a representar"
   ]
  },
  {
   "cell_type": "code",
   "execution_count": 36,
   "metadata": {
    "scrolled": false
   },
   "outputs": [
    {
     "data": {
      "text/plain": [
       "Text(0,0.5,'varianza explicada acumulada')"
      ]
     },
     "execution_count": 36,
     "metadata": {},
     "output_type": "execute_result"
    },
    {
     "data": {
      "image/png": "[encoded data removed]",
      "text/plain": [
       "<Figure size 432x288 with 1 Axes>"
      ]
     },
     "metadata": {
      "needs_background": "light"
     },
     "output_type": "display_data"
    }
   ],
   "source": [
    "pca = sklearnPCA().fit(autom_model)\n",
    "plt.plot(np.cumsum(pca.explained_variance_ratio_))\n",
    "plt.xlabel('cantidad de componentes')\n",
    "plt.ylabel('varianza explicada acumulada')"
   ]
  },
  {
   "cell_type": "code",
   "execution_count": 37,
   "metadata": {},
   "outputs": [
    {
     "data": {
      "text/plain": [
       "3"
      ]
     },
     "execution_count": 37,
     "metadata": {},
     "output_type": "execute_result"
    }
   ],
   "source": [
    "pca_eval = sklearnPCA(0.80).fit(autom_model)\n",
    "pca_eval.n_components_"
   ]
  },
  {
   "cell_type": "markdown",
   "metadata": {},
   "source": [
    "#### Aplico PCA"
   ]
  },
  {
   "cell_type": "code",
   "execution_count": 38,
   "metadata": {
    "collapsed": true
   },
   "outputs": [],
   "source": [
    "# Defino la cantidad de componentes\n",
    "pca = sklearnPCA(n_components=2)\n",
    "\n",
    "# Aplico el modelo al dataset\n",
    "principalComponents = pca.fit_transform(autom_model)"
   ]
  },
  {
   "cell_type": "code",
   "execution_count": 39,
   "metadata": {
    "collapsed": true
   },
   "outputs": [],
   "source": [
    "# Convierto las componentes principales en un dataframe\n",
    "\n",
    "principalDf = pd.DataFrame(data = principalComponents, columns = ['Principal componente 1', 'Principal componente 2'])"
   ]
  },
  {
   "cell_type": "code",
   "execution_count": 40,
   "metadata": {
    "scrolled": true
   },
   "outputs": [
    {
     "data": {
      "text/html": [
       "<div>\n",
       "<style scoped>\n",
       "    .dataframe tbody tr th:only-of-type {\n",
       "        vertical-align: middle;\n",
       "    }\n",
       "\n",
       "    .dataframe tbody tr th {\n",
       "        vertical-align: top;\n",
       "    }\n",
       "\n",
       "    .dataframe thead th {\n",
       "        text-align: right;\n",
       "    }\n",
       "</style>\n",
       "<table border=\"1\" class=\"dataframe\">\n",
       "  <thead>\n",
       "    <tr style=\"text-align: right;\">\n",
       "      <th></th>\n",
       "      <th>Principal componente 1</th>\n",
       "      <th>Principal componente 2</th>\n",
       "    </tr>\n",
       "  </thead>\n",
       "  <tbody>\n",
       "    <tr>\n",
       "      <th>0</th>\n",
       "      <td>0.098</td>\n",
       "      <td>0.043</td>\n",
       "    </tr>\n",
       "    <tr>\n",
       "      <th>1</th>\n",
       "      <td>-0.223</td>\n",
       "      <td>0.114</td>\n",
       "    </tr>\n",
       "    <tr>\n",
       "      <th>2</th>\n",
       "      <td>-0.199</td>\n",
       "      <td>0.136</td>\n",
       "    </tr>\n",
       "    <tr>\n",
       "      <th>3</th>\n",
       "      <td>0.101</td>\n",
       "      <td>-0.191</td>\n",
       "    </tr>\n",
       "    <tr>\n",
       "      <th>4</th>\n",
       "      <td>-0.207</td>\n",
       "      <td>-0.129</td>\n",
       "    </tr>\n",
       "  </tbody>\n",
       "</table>\n",
       "</div>"
      ],
      "text/plain": [
       "   Principal componente 1  Principal componente 2\n",
       "0                   0.098                   0.043\n",
       "1                  -0.223                   0.114\n",
       "2                  -0.199                   0.136\n",
       "3                   0.101                  -0.191\n",
       "4                  -0.207                  -0.129"
      ]
     },
     "execution_count": 40,
     "metadata": {},
     "output_type": "execute_result"
    }
   ],
   "source": [
    "principalDf.head()"
   ]
  },
  {
   "cell_type": "markdown",
   "metadata": {},
   "source": [
    "#### Pesos de las componentes principales"
   ]
  },
  {
   "cell_type": "code",
   "execution_count": 41,
   "metadata": {
    "scrolled": true
   },
   "outputs": [
    {
     "data": {
      "text/plain": [
       "array([[1., 0., 0., 0.],\n",
       "       [0., 1., 0., 0.],\n",
       "       [0., 0., 1., 0.],\n",
       "       [0., 0., 0., 1.]])"
      ]
     },
     "execution_count": 41,
     "metadata": {},
     "output_type": "execute_result"
    }
   ],
   "source": [
    "i = np.identity(autom_model.shape[1])\n",
    "i"
   ]
  },
  {
   "cell_type": "code",
   "execution_count": 42,
   "metadata": {
    "scrolled": true
   },
   "outputs": [
    {
     "data": {
      "text/plain": [
       "array([[ 0.51715676,  1.18177194],\n",
       "       [ 0.13442996, -0.00229506],\n",
       "       [ 1.34645016,  0.16854413],\n",
       "       [ 0.11206016,  0.35105254]])"
      ]
     },
     "execution_count": 42,
     "metadata": {},
     "output_type": "execute_result"
    }
   ],
   "source": [
    "coef = pca.transform(i)\n",
    "coef"
   ]
  },
  {
   "cell_type": "code",
   "execution_count": 43,
   "metadata": {
    "scrolled": true
   },
   "outputs": [
    {
     "data": {
      "text/html": [
       "<div>\n",
       "<style scoped>\n",
       "    .dataframe tbody tr th:only-of-type {\n",
       "        vertical-align: middle;\n",
       "    }\n",
       "\n",
       "    .dataframe tbody tr th {\n",
       "        vertical-align: top;\n",
       "    }\n",
       "\n",
       "    .dataframe thead th {\n",
       "        text-align: right;\n",
       "    }\n",
       "</style>\n",
       "<table border=\"1\" class=\"dataframe\">\n",
       "  <thead>\n",
       "    <tr style=\"text-align: right;\">\n",
       "      <th></th>\n",
       "      <th>PC-1</th>\n",
       "      <th>PC-2</th>\n",
       "    </tr>\n",
       "  </thead>\n",
       "  <tbody>\n",
       "    <tr>\n",
       "      <th>ind_04</th>\n",
       "      <td>0.517</td>\n",
       "      <td>1.182</td>\n",
       "    </tr>\n",
       "    <tr>\n",
       "      <th>ind_20</th>\n",
       "      <td>0.134</td>\n",
       "      <td>-0.002</td>\n",
       "    </tr>\n",
       "    <tr>\n",
       "      <th>ind_22</th>\n",
       "      <td>1.346</td>\n",
       "      <td>0.169</td>\n",
       "    </tr>\n",
       "    <tr>\n",
       "      <th>ind_19</th>\n",
       "      <td>0.112</td>\n",
       "      <td>0.351</td>\n",
       "    </tr>\n",
       "  </tbody>\n",
       "</table>\n",
       "</div>"
      ],
      "text/plain": [
       "        PC-1   PC-2\n",
       "ind_04 0.517  1.182\n",
       "ind_20 0.134 -0.002\n",
       "ind_22 1.346  0.169\n",
       "ind_19 0.112  0.351"
      ]
     },
     "execution_count": 43,
     "metadata": {},
     "output_type": "execute_result"
    }
   ],
   "source": [
    "pd.DataFrame(coef, columns=['PC-1', 'PC-2'], index=autom_model.columns)"
   ]
  },
  {
   "cell_type": "markdown",
   "metadata": {},
   "source": [
    "#### Visualización de los clusters"
   ]
  },
  {
   "cell_type": "code",
   "execution_count": 44,
   "metadata": {
    "scrolled": false
   },
   "outputs": [
    {
     "data": {
      "text/html": [
       "<div>\n",
       "<style scoped>\n",
       "    .dataframe tbody tr th:only-of-type {\n",
       "        vertical-align: middle;\n",
       "    }\n",
       "\n",
       "    .dataframe tbody tr th {\n",
       "        vertical-align: top;\n",
       "    }\n",
       "\n",
       "    .dataframe thead th {\n",
       "        text-align: right;\n",
       "    }\n",
       "</style>\n",
       "<table border=\"1\" class=\"dataframe\">\n",
       "  <thead>\n",
       "    <tr style=\"text-align: right;\">\n",
       "      <th></th>\n",
       "      <th>Principal componente 1</th>\n",
       "      <th>Principal componente 2</th>\n",
       "      <th>clust_k</th>\n",
       "    </tr>\n",
       "  </thead>\n",
       "  <tbody>\n",
       "    <tr>\n",
       "      <th>0</th>\n",
       "      <td>0.098</td>\n",
       "      <td>0.043</td>\n",
       "      <td>2</td>\n",
       "    </tr>\n",
       "    <tr>\n",
       "      <th>1</th>\n",
       "      <td>-0.223</td>\n",
       "      <td>0.114</td>\n",
       "      <td>3</td>\n",
       "    </tr>\n",
       "    <tr>\n",
       "      <th>2</th>\n",
       "      <td>-0.199</td>\n",
       "      <td>0.136</td>\n",
       "      <td>2</td>\n",
       "    </tr>\n",
       "    <tr>\n",
       "      <th>3</th>\n",
       "      <td>0.101</td>\n",
       "      <td>-0.191</td>\n",
       "      <td>0</td>\n",
       "    </tr>\n",
       "    <tr>\n",
       "      <th>4</th>\n",
       "      <td>-0.207</td>\n",
       "      <td>-0.129</td>\n",
       "      <td>1</td>\n",
       "    </tr>\n",
       "  </tbody>\n",
       "</table>\n",
       "</div>"
      ],
      "text/plain": [
       "   Principal componente 1  Principal componente 2  clust_k\n",
       "0                   0.098                   0.043        2\n",
       "1                  -0.223                   0.114        3\n",
       "2                  -0.199                   0.136        2\n",
       "3                   0.101                  -0.191        0\n",
       "4                  -0.207                  -0.129        1"
      ]
     },
     "execution_count": 44,
     "metadata": {},
     "output_type": "execute_result"
    }
   ],
   "source": [
    "# Le agrego el cluster definido previamente \n",
    "finalDf = pd.concat([principalDf, Autom_CM['clust_k']] , axis = 1)\n",
    "finalDf.head()"
   ]
  },
  {
   "cell_type": "code",
   "execution_count": 45,
   "metadata": {},
   "outputs": [
    {
     "data": {
      "text/plain": [
       "[0, 1, 2, 3, 4]"
      ]
     },
     "execution_count": 45,
     "metadata": {},
     "output_type": "execute_result"
    }
   ],
   "source": [
    "sorted(finalDf['clust_k'].unique())"
   ]
  },
  {
   "cell_type": "code",
   "execution_count": 46,
   "metadata": {
    "scrolled": false
   },
   "outputs": [
    {
     "data": {
      "image/png": "[encoded data removed]",
      "text/plain": [
       "<Figure size 504x504 with 1 Axes>"
      ]
     },
     "metadata": {
      "needs_background": "light"
     },
     "output_type": "display_data"
    }
   ],
   "source": [
    "# Grafico\n",
    "\n",
    "fig = plt.figure(figsize = (7,7))\n",
    "ax = fig.add_subplot(1,1,1) \n",
    "ax.set_xlabel('Principal Componente 1', fontsize = 12)\n",
    "ax.set_ylabel('Principal Componente 2', fontsize = 12)\n",
    "ax.set_title('2 Componentes PCA', fontsize = 15)\n",
    "\n",
    "\n",
    "targets = sorted(finalDf['clust_k'].unique())\n",
    "colors = ['r', 'g', 'b', 'k', 'c']\n",
    "\n",
    "for target, color in zip(targets,colors):\n",
    "    indicesToKeep = finalDf['clust_k'] == target\n",
    "    ax.scatter(finalDf.loc[indicesToKeep, 'Principal componente 1']\n",
    "               , finalDf.loc[indicesToKeep, 'Principal componente 2']\n",
    "               , c = color\n",
    "               , s = 50)\n",
    "ax.legend(targets)\n",
    "ax.grid()"
   ]
  },
  {
   "cell_type": "markdown",
   "metadata": {},
   "source": [
    "#### Jerárquico"
   ]
  },
  {
   "cell_type": "code",
   "execution_count": 54,
   "metadata": {},
   "outputs": [
    {
     "data": {
      "text/html": [
       "<div>\n",
       "<style scoped>\n",
       "    .dataframe tbody tr th:only-of-type {\n",
       "        vertical-align: middle;\n",
       "    }\n",
       "\n",
       "    .dataframe tbody tr th {\n",
       "        vertical-align: top;\n",
       "    }\n",
       "\n",
       "    .dataframe thead th {\n",
       "        text-align: right;\n",
       "    }\n",
       "</style>\n",
       "<table border=\"1\" class=\"dataframe\">\n",
       "  <thead>\n",
       "    <tr style=\"text-align: right;\">\n",
       "      <th></th>\n",
       "      <th>ind_04</th>\n",
       "      <th>ind_20</th>\n",
       "      <th>ind_22</th>\n",
       "      <th>ind_19</th>\n",
       "    </tr>\n",
       "  </thead>\n",
       "  <tbody>\n",
       "    <tr>\n",
       "      <th>0</th>\n",
       "      <td>0.410</td>\n",
       "      <td>0.651</td>\n",
       "      <td>0.301</td>\n",
       "      <td>0.930</td>\n",
       "    </tr>\n",
       "    <tr>\n",
       "      <th>1</th>\n",
       "      <td>0.608</td>\n",
       "      <td>0.882</td>\n",
       "      <td>0.045</td>\n",
       "      <td>0.964</td>\n",
       "    </tr>\n",
       "    <tr>\n",
       "      <th>2</th>\n",
       "      <td>0.464</td>\n",
       "      <td>0.758</td>\n",
       "      <td>0.001</td>\n",
       "      <td>0.956</td>\n",
       "    </tr>\n",
       "    <tr>\n",
       "      <th>3</th>\n",
       "      <td>0.379</td>\n",
       "      <td>0.885</td>\n",
       "      <td>0.436</td>\n",
       "      <td>0.948</td>\n",
       "    </tr>\n",
       "    <tr>\n",
       "      <th>4</th>\n",
       "      <td>0.387</td>\n",
       "      <td>1.000</td>\n",
       "      <td>0.131</td>\n",
       "      <td>0.987</td>\n",
       "    </tr>\n",
       "  </tbody>\n",
       "</table>\n",
       "</div>"
      ],
      "text/plain": [
       "   ind_04  ind_20  ind_22  ind_19\n",
       "0   0.410   0.651   0.301   0.930\n",
       "1   0.608   0.882   0.045   0.964\n",
       "2   0.464   0.758   0.001   0.956\n",
       "3   0.379   0.885   0.436   0.948\n",
       "4   0.387   1.000   0.131   0.987"
      ]
     },
     "execution_count": 54,
     "metadata": {},
     "output_type": "execute_result"
    }
   ],
   "source": [
    "autom_model.head()"
   ]
  },
  {
   "cell_type": "code",
   "execution_count": 48,
   "metadata": {},
   "outputs": [
    {
     "data": {
      "text/plain": [
       "Index(['ind_04', 'ind_20', 'ind_22', 'ind_19', 'denominacion_corta_x',\n",
       "       'denominacion_corta_y'],\n",
       "      dtype='object')"
      ]
     },
     "execution_count": 48,
     "metadata": {},
     "output_type": "execute_result"
    }
   ],
   "source": [
    "aut_col= Autom_CM.drop({'clust_k', 'cod_cia'},1)\n",
    "aut_col=aut_col.columns\n",
    "aut_col"
   ]
  },
  {
   "cell_type": "code",
   "execution_count": 49,
   "metadata": {},
   "outputs": [
    {
     "data": {
      "text/html": [
       "<div>\n",
       "<style scoped>\n",
       "    .dataframe tbody tr th:only-of-type {\n",
       "        vertical-align: middle;\n",
       "    }\n",
       "\n",
       "    .dataframe tbody tr th {\n",
       "        vertical-align: top;\n",
       "    }\n",
       "\n",
       "    .dataframe thead th {\n",
       "        text-align: right;\n",
       "    }\n",
       "</style>\n",
       "<table border=\"1\" class=\"dataframe\">\n",
       "  <thead>\n",
       "    <tr style=\"text-align: right;\">\n",
       "      <th></th>\n",
       "      <th>ind_04</th>\n",
       "      <th>ind_20</th>\n",
       "      <th>ind_22</th>\n",
       "      <th>ind_19</th>\n",
       "      <th>denominacion_corta_x</th>\n",
       "      <th>denominacion_corta_y</th>\n",
       "    </tr>\n",
       "  </thead>\n",
       "  <tbody>\n",
       "    <tr>\n",
       "      <th>0</th>\n",
       "      <td>0.410</td>\n",
       "      <td>0.651</td>\n",
       "      <td>0.301</td>\n",
       "      <td>0.930</td>\n",
       "      <td>SMG</td>\n",
       "      <td>SMG</td>\n",
       "    </tr>\n",
       "    <tr>\n",
       "      <th>1</th>\n",
       "      <td>0.608</td>\n",
       "      <td>0.882</td>\n",
       "      <td>0.045</td>\n",
       "      <td>0.964</td>\n",
       "      <td>SURA</td>\n",
       "      <td>SURA</td>\n",
       "    </tr>\n",
       "    <tr>\n",
       "      <th>2</th>\n",
       "      <td>0.464</td>\n",
       "      <td>0.758</td>\n",
       "      <td>0.001</td>\n",
       "      <td>0.956</td>\n",
       "      <td>BOSTON</td>\n",
       "      <td>BOSTON</td>\n",
       "    </tr>\n",
       "    <tr>\n",
       "      <th>3</th>\n",
       "      <td>0.379</td>\n",
       "      <td>0.885</td>\n",
       "      <td>0.436</td>\n",
       "      <td>0.948</td>\n",
       "      <td>ALLIANZ</td>\n",
       "      <td>ALLIANZ</td>\n",
       "    </tr>\n",
       "    <tr>\n",
       "      <th>4</th>\n",
       "      <td>0.387</td>\n",
       "      <td>1.000</td>\n",
       "      <td>0.131</td>\n",
       "      <td>0.987</td>\n",
       "      <td>QBE BUENOS AIRES</td>\n",
       "      <td>QBE BUENOS AIRES</td>\n",
       "    </tr>\n",
       "  </tbody>\n",
       "</table>\n",
       "</div>"
      ],
      "text/plain": [
       "   ind_04  ind_20  ind_22  ind_19 denominacion_corta_x denominacion_corta_y\n",
       "0   0.410   0.651   0.301   0.930                  SMG                  SMG\n",
       "1   0.608   0.882   0.045   0.964                 SURA                 SURA\n",
       "2   0.464   0.758   0.001   0.956               BOSTON               BOSTON\n",
       "3   0.379   0.885   0.436   0.948              ALLIANZ              ALLIANZ\n",
       "4   0.387   1.000   0.131   0.987     QBE BUENOS AIRES     QBE BUENOS AIRES"
      ]
     },
     "execution_count": 49,
     "metadata": {},
     "output_type": "execute_result"
    }
   ],
   "source": [
    "Autom_MJ= Autom_CM[aut_col]\n",
    "Autom_MJ.head()"
   ]
  },
  {
   "cell_type": "code",
   "execution_count": 50,
   "metadata": {
    "scrolled": true
   },
   "outputs": [
    {
     "ename": "KeyError",
     "evalue": "'denominacion_corta'",
     "output_type": "error",
     "traceback": [
      "\u001b[1;31m---------------------------------------------------------------------------\u001b[0m",
      "\u001b[1;31mKeyError\u001b[0m                                  Traceback (most recent call last)",
      "\u001b[1;32m~\\AppData\\Local\\Continuum\\anaconda3\\lib\\site-packages\\pandas\\core\\indexes\\base.py\u001b[0m in \u001b[0;36mget_loc\u001b[1;34m(self, key, method, tolerance)\u001b[0m\n\u001b[0;32m   3077\u001b[0m             \u001b[1;32mtry\u001b[0m\u001b[1;33m:\u001b[0m\u001b[1;33m\u001b[0m\u001b[0m\n\u001b[1;32m-> 3078\u001b[1;33m                 \u001b[1;32mreturn\u001b[0m \u001b[0mself\u001b[0m\u001b[1;33m.\u001b[0m\u001b[0m_engine\u001b[0m\u001b[1;33m.\u001b[0m\u001b[0mget_loc\u001b[0m\u001b[1;33m(\u001b[0m\u001b[0mkey\u001b[0m\u001b[1;33m)\u001b[0m\u001b[1;33m\u001b[0m\u001b[0m\n\u001b[0m\u001b[0;32m   3079\u001b[0m             \u001b[1;32mexcept\u001b[0m \u001b[0mKeyError\u001b[0m\u001b[1;33m:\u001b[0m\u001b[1;33m\u001b[0m\u001b[0m\n",
      "\u001b[1;32mpandas\\_libs\\index.pyx\u001b[0m in \u001b[0;36mpandas._libs.index.IndexEngine.get_loc\u001b[1;34m()\u001b[0m\n",
      "\u001b[1;32mpandas\\_libs\\index.pyx\u001b[0m in \u001b[0;36mpandas._libs.index.IndexEngine.get_loc\u001b[1;34m()\u001b[0m\n",
      "\u001b[1;32mpandas\\_libs\\hashtable_class_helper.pxi\u001b[0m in \u001b[0;36mpandas._libs.hashtable.PyObjectHashTable.get_item\u001b[1;34m()\u001b[0m\n",
      "\u001b[1;32mpandas\\_libs\\hashtable_class_helper.pxi\u001b[0m in \u001b[0;36mpandas._libs.hashtable.PyObjectHashTable.get_item\u001b[1;34m()\u001b[0m\n",
      "\u001b[1;31mKeyError\u001b[0m: 'denominacion_corta'",
      "\nDuring handling of the above exception, another exception occurred:\n",
      "\u001b[1;31mKeyError\u001b[0m                                  Traceback (most recent call last)",
      "\u001b[1;32m<ipython-input-50-4c442a74da53>\u001b[0m in \u001b[0;36m<module>\u001b[1;34m()\u001b[0m\n\u001b[1;32m----> 1\u001b[1;33m \u001b[0mAutom_MJ\u001b[0m\u001b[1;33m=\u001b[0m \u001b[0mAutom_MJ\u001b[0m\u001b[1;33m.\u001b[0m\u001b[0mset_index\u001b[0m\u001b[1;33m(\u001b[0m\u001b[1;34m'denominacion_corta'\u001b[0m\u001b[1;33m)\u001b[0m\u001b[1;33m\u001b[0m\u001b[0m\n\u001b[0m\u001b[0;32m      2\u001b[0m \u001b[0mAutom_MJ\u001b[0m\u001b[1;33m.\u001b[0m\u001b[0mhead\u001b[0m\u001b[1;33m(\u001b[0m\u001b[1;33m)\u001b[0m\u001b[1;33m\u001b[0m\u001b[0m\n",
      "\u001b[1;32m~\\AppData\\Local\\Continuum\\anaconda3\\lib\\site-packages\\pandas\\core\\frame.py\u001b[0m in \u001b[0;36mset_index\u001b[1;34m(self, keys, drop, append, inplace, verify_integrity)\u001b[0m\n\u001b[0;32m   3907\u001b[0m                 \u001b[0mnames\u001b[0m\u001b[1;33m.\u001b[0m\u001b[0mappend\u001b[0m\u001b[1;33m(\u001b[0m\u001b[1;32mNone\u001b[0m\u001b[1;33m)\u001b[0m\u001b[1;33m\u001b[0m\u001b[0m\n\u001b[0;32m   3908\u001b[0m             \u001b[1;32melse\u001b[0m\u001b[1;33m:\u001b[0m\u001b[1;33m\u001b[0m\u001b[0m\n\u001b[1;32m-> 3909\u001b[1;33m                 \u001b[0mlevel\u001b[0m \u001b[1;33m=\u001b[0m \u001b[0mframe\u001b[0m\u001b[1;33m[\u001b[0m\u001b[0mcol\u001b[0m\u001b[1;33m]\u001b[0m\u001b[1;33m.\u001b[0m\u001b[0m_values\u001b[0m\u001b[1;33m\u001b[0m\u001b[0m\n\u001b[0m\u001b[0;32m   3910\u001b[0m                 \u001b[0mnames\u001b[0m\u001b[1;33m.\u001b[0m\u001b[0mappend\u001b[0m\u001b[1;33m(\u001b[0m\u001b[0mcol\u001b[0m\u001b[1;33m)\u001b[0m\u001b[1;33m\u001b[0m\u001b[0m\n\u001b[0;32m   3911\u001b[0m                 \u001b[1;32mif\u001b[0m \u001b[0mdrop\u001b[0m\u001b[1;33m:\u001b[0m\u001b[1;33m\u001b[0m\u001b[0m\n",
      "\u001b[1;32m~\\AppData\\Local\\Continuum\\anaconda3\\lib\\site-packages\\pandas\\core\\frame.py\u001b[0m in \u001b[0;36m__getitem__\u001b[1;34m(self, key)\u001b[0m\n\u001b[0;32m   2686\u001b[0m             \u001b[1;32mreturn\u001b[0m \u001b[0mself\u001b[0m\u001b[1;33m.\u001b[0m\u001b[0m_getitem_multilevel\u001b[0m\u001b[1;33m(\u001b[0m\u001b[0mkey\u001b[0m\u001b[1;33m)\u001b[0m\u001b[1;33m\u001b[0m\u001b[0m\n\u001b[0;32m   2687\u001b[0m         \u001b[1;32melse\u001b[0m\u001b[1;33m:\u001b[0m\u001b[1;33m\u001b[0m\u001b[0m\n\u001b[1;32m-> 2688\u001b[1;33m             \u001b[1;32mreturn\u001b[0m \u001b[0mself\u001b[0m\u001b[1;33m.\u001b[0m\u001b[0m_getitem_column\u001b[0m\u001b[1;33m(\u001b[0m\u001b[0mkey\u001b[0m\u001b[1;33m)\u001b[0m\u001b[1;33m\u001b[0m\u001b[0m\n\u001b[0m\u001b[0;32m   2689\u001b[0m \u001b[1;33m\u001b[0m\u001b[0m\n\u001b[0;32m   2690\u001b[0m     \u001b[1;32mdef\u001b[0m \u001b[0m_getitem_column\u001b[0m\u001b[1;33m(\u001b[0m\u001b[0mself\u001b[0m\u001b[1;33m,\u001b[0m \u001b[0mkey\u001b[0m\u001b[1;33m)\u001b[0m\u001b[1;33m:\u001b[0m\u001b[1;33m\u001b[0m\u001b[0m\n",
      "\u001b[1;32m~\\AppData\\Local\\Continuum\\anaconda3\\lib\\site-packages\\pandas\\core\\frame.py\u001b[0m in \u001b[0;36m_getitem_column\u001b[1;34m(self, key)\u001b[0m\n\u001b[0;32m   2693\u001b[0m         \u001b[1;31m# get column\u001b[0m\u001b[1;33m\u001b[0m\u001b[1;33m\u001b[0m\u001b[0m\n\u001b[0;32m   2694\u001b[0m         \u001b[1;32mif\u001b[0m \u001b[0mself\u001b[0m\u001b[1;33m.\u001b[0m\u001b[0mcolumns\u001b[0m\u001b[1;33m.\u001b[0m\u001b[0mis_unique\u001b[0m\u001b[1;33m:\u001b[0m\u001b[1;33m\u001b[0m\u001b[0m\n\u001b[1;32m-> 2695\u001b[1;33m             \u001b[1;32mreturn\u001b[0m \u001b[0mself\u001b[0m\u001b[1;33m.\u001b[0m\u001b[0m_get_item_cache\u001b[0m\u001b[1;33m(\u001b[0m\u001b[0mkey\u001b[0m\u001b[1;33m)\u001b[0m\u001b[1;33m\u001b[0m\u001b[0m\n\u001b[0m\u001b[0;32m   2696\u001b[0m \u001b[1;33m\u001b[0m\u001b[0m\n\u001b[0;32m   2697\u001b[0m         \u001b[1;31m# duplicate columns & possible reduce dimensionality\u001b[0m\u001b[1;33m\u001b[0m\u001b[1;33m\u001b[0m\u001b[0m\n",
      "\u001b[1;32m~\\AppData\\Local\\Continuum\\anaconda3\\lib\\site-packages\\pandas\\core\\generic.py\u001b[0m in \u001b[0;36m_get_item_cache\u001b[1;34m(self, item)\u001b[0m\n\u001b[0;32m   2487\u001b[0m         \u001b[0mres\u001b[0m \u001b[1;33m=\u001b[0m \u001b[0mcache\u001b[0m\u001b[1;33m.\u001b[0m\u001b[0mget\u001b[0m\u001b[1;33m(\u001b[0m\u001b[0mitem\u001b[0m\u001b[1;33m)\u001b[0m\u001b[1;33m\u001b[0m\u001b[0m\n\u001b[0;32m   2488\u001b[0m         \u001b[1;32mif\u001b[0m \u001b[0mres\u001b[0m \u001b[1;32mis\u001b[0m \u001b[1;32mNone\u001b[0m\u001b[1;33m:\u001b[0m\u001b[1;33m\u001b[0m\u001b[0m\n\u001b[1;32m-> 2489\u001b[1;33m             \u001b[0mvalues\u001b[0m \u001b[1;33m=\u001b[0m \u001b[0mself\u001b[0m\u001b[1;33m.\u001b[0m\u001b[0m_data\u001b[0m\u001b[1;33m.\u001b[0m\u001b[0mget\u001b[0m\u001b[1;33m(\u001b[0m\u001b[0mitem\u001b[0m\u001b[1;33m)\u001b[0m\u001b[1;33m\u001b[0m\u001b[0m\n\u001b[0m\u001b[0;32m   2490\u001b[0m             \u001b[0mres\u001b[0m \u001b[1;33m=\u001b[0m \u001b[0mself\u001b[0m\u001b[1;33m.\u001b[0m\u001b[0m_box_item_values\u001b[0m\u001b[1;33m(\u001b[0m\u001b[0mitem\u001b[0m\u001b[1;33m,\u001b[0m \u001b[0mvalues\u001b[0m\u001b[1;33m)\u001b[0m\u001b[1;33m\u001b[0m\u001b[0m\n\u001b[0;32m   2491\u001b[0m             \u001b[0mcache\u001b[0m\u001b[1;33m[\u001b[0m\u001b[0mitem\u001b[0m\u001b[1;33m]\u001b[0m \u001b[1;33m=\u001b[0m \u001b[0mres\u001b[0m\u001b[1;33m\u001b[0m\u001b[0m\n",
      "\u001b[1;32m~\\AppData\\Local\\Continuum\\anaconda3\\lib\\site-packages\\pandas\\core\\internals.py\u001b[0m in \u001b[0;36mget\u001b[1;34m(self, item, fastpath)\u001b[0m\n\u001b[0;32m   4113\u001b[0m \u001b[1;33m\u001b[0m\u001b[0m\n\u001b[0;32m   4114\u001b[0m             \u001b[1;32mif\u001b[0m \u001b[1;32mnot\u001b[0m \u001b[0misna\u001b[0m\u001b[1;33m(\u001b[0m\u001b[0mitem\u001b[0m\u001b[1;33m)\u001b[0m\u001b[1;33m:\u001b[0m\u001b[1;33m\u001b[0m\u001b[0m\n\u001b[1;32m-> 4115\u001b[1;33m                 \u001b[0mloc\u001b[0m \u001b[1;33m=\u001b[0m \u001b[0mself\u001b[0m\u001b[1;33m.\u001b[0m\u001b[0mitems\u001b[0m\u001b[1;33m.\u001b[0m\u001b[0mget_loc\u001b[0m\u001b[1;33m(\u001b[0m\u001b[0mitem\u001b[0m\u001b[1;33m)\u001b[0m\u001b[1;33m\u001b[0m\u001b[0m\n\u001b[0m\u001b[0;32m   4116\u001b[0m             \u001b[1;32melse\u001b[0m\u001b[1;33m:\u001b[0m\u001b[1;33m\u001b[0m\u001b[0m\n\u001b[0;32m   4117\u001b[0m                 \u001b[0mindexer\u001b[0m \u001b[1;33m=\u001b[0m \u001b[0mnp\u001b[0m\u001b[1;33m.\u001b[0m\u001b[0marange\u001b[0m\u001b[1;33m(\u001b[0m\u001b[0mlen\u001b[0m\u001b[1;33m(\u001b[0m\u001b[0mself\u001b[0m\u001b[1;33m.\u001b[0m\u001b[0mitems\u001b[0m\u001b[1;33m)\u001b[0m\u001b[1;33m)\u001b[0m\u001b[1;33m[\u001b[0m\u001b[0misna\u001b[0m\u001b[1;33m(\u001b[0m\u001b[0mself\u001b[0m\u001b[1;33m.\u001b[0m\u001b[0mitems\u001b[0m\u001b[1;33m)\u001b[0m\u001b[1;33m]\u001b[0m\u001b[1;33m\u001b[0m\u001b[0m\n",
      "\u001b[1;32m~\\AppData\\Local\\Continuum\\anaconda3\\lib\\site-packages\\pandas\\core\\indexes\\base.py\u001b[0m in \u001b[0;36mget_loc\u001b[1;34m(self, key, method, tolerance)\u001b[0m\n\u001b[0;32m   3078\u001b[0m                 \u001b[1;32mreturn\u001b[0m \u001b[0mself\u001b[0m\u001b[1;33m.\u001b[0m\u001b[0m_engine\u001b[0m\u001b[1;33m.\u001b[0m\u001b[0mget_loc\u001b[0m\u001b[1;33m(\u001b[0m\u001b[0mkey\u001b[0m\u001b[1;33m)\u001b[0m\u001b[1;33m\u001b[0m\u001b[0m\n\u001b[0;32m   3079\u001b[0m             \u001b[1;32mexcept\u001b[0m \u001b[0mKeyError\u001b[0m\u001b[1;33m:\u001b[0m\u001b[1;33m\u001b[0m\u001b[0m\n\u001b[1;32m-> 3080\u001b[1;33m                 \u001b[1;32mreturn\u001b[0m \u001b[0mself\u001b[0m\u001b[1;33m.\u001b[0m\u001b[0m_engine\u001b[0m\u001b[1;33m.\u001b[0m\u001b[0mget_loc\u001b[0m\u001b[1;33m(\u001b[0m\u001b[0mself\u001b[0m\u001b[1;33m.\u001b[0m\u001b[0m_maybe_cast_indexer\u001b[0m\u001b[1;33m(\u001b[0m\u001b[0mkey\u001b[0m\u001b[1;33m)\u001b[0m\u001b[1;33m)\u001b[0m\u001b[1;33m\u001b[0m\u001b[0m\n\u001b[0m\u001b[0;32m   3081\u001b[0m \u001b[1;33m\u001b[0m\u001b[0m\n\u001b[0;32m   3082\u001b[0m         \u001b[0mindexer\u001b[0m \u001b[1;33m=\u001b[0m \u001b[0mself\u001b[0m\u001b[1;33m.\u001b[0m\u001b[0mget_indexer\u001b[0m\u001b[1;33m(\u001b[0m\u001b[1;33m[\u001b[0m\u001b[0mkey\u001b[0m\u001b[1;33m]\u001b[0m\u001b[1;33m,\u001b[0m \u001b[0mmethod\u001b[0m\u001b[1;33m=\u001b[0m\u001b[0mmethod\u001b[0m\u001b[1;33m,\u001b[0m \u001b[0mtolerance\u001b[0m\u001b[1;33m=\u001b[0m\u001b[0mtolerance\u001b[0m\u001b[1;33m)\u001b[0m\u001b[1;33m\u001b[0m\u001b[0m\n",
      "\u001b[1;32mpandas\\_libs\\index.pyx\u001b[0m in \u001b[0;36mpandas._libs.index.IndexEngine.get_loc\u001b[1;34m()\u001b[0m\n",
      "\u001b[1;32mpandas\\_libs\\index.pyx\u001b[0m in \u001b[0;36mpandas._libs.index.IndexEngine.get_loc\u001b[1;34m()\u001b[0m\n",
      "\u001b[1;32mpandas\\_libs\\hashtable_class_helper.pxi\u001b[0m in \u001b[0;36mpandas._libs.hashtable.PyObjectHashTable.get_item\u001b[1;34m()\u001b[0m\n",
      "\u001b[1;32mpandas\\_libs\\hashtable_class_helper.pxi\u001b[0m in \u001b[0;36mpandas._libs.hashtable.PyObjectHashTable.get_item\u001b[1;34m()\u001b[0m\n",
      "\u001b[1;31mKeyError\u001b[0m: 'denominacion_corta'"
     ]
    }
   ],
   "source": [
    "Autom_MJ= Autom_MJ.set_index('denominacion_corta')\n",
    "Autom_MJ.head()"
   ]
  },
  {
   "cell_type": "code",
   "execution_count": 51,
   "metadata": {},
   "outputs": [
    {
     "ename": "ValueError",
     "evalue": "could not convert string to float: 'LIBRA'",
     "output_type": "error",
     "traceback": [
      "\u001b[1;31m---------------------------------------------------------------------------\u001b[0m",
      "\u001b[1;31mValueError\u001b[0m                                Traceback (most recent call last)",
      "\u001b[1;32m<ipython-input-51-b0fc293a3813>\u001b[0m in \u001b[0;36m<module>\u001b[1;34m()\u001b[0m\n\u001b[0;32m      2\u001b[0m \u001b[1;31m# las diferencias, dentro de cada cluster, de cada individuo al centroide del cluster\u001b[0m\u001b[1;33m\u001b[0m\u001b[1;33m\u001b[0m\u001b[0m\n\u001b[0;32m      3\u001b[0m \u001b[1;33m\u001b[0m\u001b[0m\n\u001b[1;32m----> 4\u001b[1;33m \u001b[0mZ\u001b[0m \u001b[1;33m=\u001b[0m \u001b[0mlinkage\u001b[0m\u001b[1;33m(\u001b[0m\u001b[0mAutom_MJ\u001b[0m\u001b[1;33m,\u001b[0m \u001b[0mmethod\u001b[0m\u001b[1;33m=\u001b[0m\u001b[1;34m\"ward\"\u001b[0m\u001b[1;33m)\u001b[0m\u001b[1;33m\u001b[0m\u001b[0m\n\u001b[0m\u001b[0;32m      5\u001b[0m \u001b[0mZ\u001b[0m\u001b[1;33m\u001b[0m\u001b[0m\n\u001b[0;32m      6\u001b[0m \u001b[0mplt\u001b[0m\u001b[1;33m.\u001b[0m\u001b[0mfigure\u001b[0m\u001b[1;33m(\u001b[0m\u001b[0mfigsize\u001b[0m\u001b[1;33m=\u001b[0m\u001b[1;33m(\u001b[0m\u001b[1;36m25\u001b[0m\u001b[1;33m,\u001b[0m\u001b[1;36m10\u001b[0m\u001b[1;33m)\u001b[0m\u001b[1;33m)\u001b[0m\u001b[1;33m\u001b[0m\u001b[0m\n",
      "\u001b[1;32m~\\AppData\\Local\\Continuum\\anaconda3\\lib\\site-packages\\scipy\\cluster\\hierarchy.py\u001b[0m in \u001b[0;36mlinkage\u001b[1;34m(y, method, metric, optimal_ordering)\u001b[0m\n\u001b[0;32m    692\u001b[0m         \u001b[1;32mraise\u001b[0m \u001b[0mValueError\u001b[0m\u001b[1;33m(\u001b[0m\u001b[1;34m\"Invalid method: {0}\"\u001b[0m\u001b[1;33m.\u001b[0m\u001b[0mformat\u001b[0m\u001b[1;33m(\u001b[0m\u001b[0mmethod\u001b[0m\u001b[1;33m)\u001b[0m\u001b[1;33m)\u001b[0m\u001b[1;33m\u001b[0m\u001b[0m\n\u001b[0;32m    693\u001b[0m \u001b[1;33m\u001b[0m\u001b[0m\n\u001b[1;32m--> 694\u001b[1;33m     \u001b[0my\u001b[0m \u001b[1;33m=\u001b[0m \u001b[0m_convert_to_double\u001b[0m\u001b[1;33m(\u001b[0m\u001b[0mnp\u001b[0m\u001b[1;33m.\u001b[0m\u001b[0masarray\u001b[0m\u001b[1;33m(\u001b[0m\u001b[0my\u001b[0m\u001b[1;33m,\u001b[0m \u001b[0morder\u001b[0m\u001b[1;33m=\u001b[0m\u001b[1;34m'c'\u001b[0m\u001b[1;33m)\u001b[0m\u001b[1;33m)\u001b[0m\u001b[1;33m\u001b[0m\u001b[0m\n\u001b[0m\u001b[0;32m    695\u001b[0m \u001b[1;33m\u001b[0m\u001b[0m\n\u001b[0;32m    696\u001b[0m     \u001b[1;32mif\u001b[0m \u001b[0my\u001b[0m\u001b[1;33m.\u001b[0m\u001b[0mndim\u001b[0m \u001b[1;33m==\u001b[0m \u001b[1;36m1\u001b[0m\u001b[1;33m:\u001b[0m\u001b[1;33m\u001b[0m\u001b[0m\n",
      "\u001b[1;32m~\\AppData\\Local\\Continuum\\anaconda3\\lib\\site-packages\\scipy\\cluster\\hierarchy.py\u001b[0m in \u001b[0;36m_convert_to_double\u001b[1;34m(X)\u001b[0m\n\u001b[0;32m   1214\u001b[0m \u001b[1;32mdef\u001b[0m \u001b[0m_convert_to_double\u001b[0m\u001b[1;33m(\u001b[0m\u001b[0mX\u001b[0m\u001b[1;33m)\u001b[0m\u001b[1;33m:\u001b[0m\u001b[1;33m\u001b[0m\u001b[0m\n\u001b[0;32m   1215\u001b[0m     \u001b[1;32mif\u001b[0m \u001b[0mX\u001b[0m\u001b[1;33m.\u001b[0m\u001b[0mdtype\u001b[0m \u001b[1;33m!=\u001b[0m \u001b[0mnp\u001b[0m\u001b[1;33m.\u001b[0m\u001b[0mdouble\u001b[0m\u001b[1;33m:\u001b[0m\u001b[1;33m\u001b[0m\u001b[0m\n\u001b[1;32m-> 1216\u001b[1;33m         \u001b[0mX\u001b[0m \u001b[1;33m=\u001b[0m \u001b[0mX\u001b[0m\u001b[1;33m.\u001b[0m\u001b[0mastype\u001b[0m\u001b[1;33m(\u001b[0m\u001b[0mnp\u001b[0m\u001b[1;33m.\u001b[0m\u001b[0mdouble\u001b[0m\u001b[1;33m)\u001b[0m\u001b[1;33m\u001b[0m\u001b[0m\n\u001b[0m\u001b[0;32m   1217\u001b[0m     \u001b[1;32mif\u001b[0m \u001b[1;32mnot\u001b[0m \u001b[0mX\u001b[0m\u001b[1;33m.\u001b[0m\u001b[0mflags\u001b[0m\u001b[1;33m.\u001b[0m\u001b[0mcontiguous\u001b[0m\u001b[1;33m:\u001b[0m\u001b[1;33m\u001b[0m\u001b[0m\n\u001b[0;32m   1218\u001b[0m         \u001b[0mX\u001b[0m \u001b[1;33m=\u001b[0m \u001b[0mX\u001b[0m\u001b[1;33m.\u001b[0m\u001b[0mcopy\u001b[0m\u001b[1;33m(\u001b[0m\u001b[1;33m)\u001b[0m\u001b[1;33m\u001b[0m\u001b[0m\n",
      "\u001b[1;31mValueError\u001b[0m: could not convert string to float: 'LIBRA'"
     ]
    }
   ],
   "source": [
    "# se unen los dos clusters para los cuales se tenga el menor incremento en el valor total de la suma de los cuadrados de \n",
    "# las diferencias, dentro de cada cluster, de cada individuo al centroide del cluster\n",
    "\n",
    "Z = linkage(Autom_MJ, method=\"ward\")\n",
    "Z\n",
    "plt.figure(figsize=(25,10))\n",
    "plt.title(\"Dendrograma jerárquico para el Clustering\")\n",
    "plt.xlabel(\"Companía\")\n",
    "plt.ylabel(\"Distancia\")\n",
    "dendrogram(Z, labels=Autom_MJ.index, leaf_rotation=90., leaf_font_size=10.0, color_threshold=0.5*0.49)\n",
    "\n",
    "#color_threshold: puedo establecer un umbral a partir del cual pintar los cluster\n",
    "\n",
    "plt.show()"
   ]
  },
  {
   "cell_type": "code",
   "execution_count": 52,
   "metadata": {},
   "outputs": [
    {
     "ename": "NameError",
     "evalue": "name 'Z' is not defined",
     "output_type": "error",
     "traceback": [
      "\u001b[1;31m---------------------------------------------------------------------------\u001b[0m",
      "\u001b[1;31mNameError\u001b[0m                                 Traceback (most recent call last)",
      "\u001b[1;32m<ipython-input-52-9f04cf6de0fd>\u001b[0m in \u001b[0;36m<module>\u001b[1;34m()\u001b[0m\n\u001b[1;32m----> 1\u001b[1;33m \u001b[0mZ\u001b[0m\u001b[1;33m[\u001b[0m\u001b[1;33m-\u001b[0m\u001b[1;36m4\u001b[0m\u001b[1;33m:\u001b[0m\u001b[1;33m,\u001b[0m\u001b[1;33m]\u001b[0m\u001b[1;33m\u001b[0m\u001b[0m\n\u001b[0m",
      "\u001b[1;31mNameError\u001b[0m: name 'Z' is not defined"
     ]
    }
   ],
   "source": [
    "Z[-4:,]"
   ]
  },
  {
   "cell_type": "code",
   "execution_count": 30,
   "metadata": {},
   "outputs": [
    {
     "name": "stdout",
     "output_type": "stream",
     "text": [
      "[2.26006929 1.81459378 1.63521128 1.31546503 1.12915458 0.86556403\n",
      " 0.83435725 0.58443342 0.57594332 0.52538971]\n"
     ]
    },
    {
     "data": {
      "image/png": "[encoded data removed]",
      "text/plain": [
       "<Figure size 432x288 with 1 Axes>"
      ]
     },
     "metadata": {
      "needs_background": "light"
     },
     "output_type": "display_data"
    },
    {
     "name": "stdout",
     "output_type": "stream",
     "text": [
      "El número óptimo de cluster es 2\n"
     ]
    }
   ],
   "source": [
    "last = Z[-10:,2]\n",
    "last_rev = last[::-1]\n",
    "print(last_rev)\n",
    "idx = np.arange(1, len(last)+1)\n",
    "plt.plot(idx, last_rev)\n",
    "\n",
    "acc = np.diff(last,2)\n",
    "acc_rev = acc[::-1]\n",
    "plt.plot(idx[:-2]+1, acc_rev)\n",
    "plt.show()\n",
    "k = acc_rev.argmax() +2\n",
    "print(\"El número óptimo de cluster es %s\"%str(k))"
   ]
  },
  {
   "cell_type": "code",
   "execution_count": null,
   "metadata": {
    "collapsed": true
   },
   "outputs": [],
   "source": []
  },
  {
   "cell_type": "code",
   "execution_count": null,
   "metadata": {
    "collapsed": true
   },
   "outputs": [],
   "source": []
  },
  {
   "cell_type": "code",
   "execution_count": null,
   "metadata": {
    "collapsed": true
   },
   "outputs": [],
   "source": []
  }
 ],
 "metadata": {
  "kernelspec": {
   "display_name": "Python 3",
   "language": "python",
   "name": "python3"
  },
  "language_info": {
   "codemirror_mode": {
    "name": "ipython",
    "version": 3
   },
   "file_extension": ".py",
   "mimetype": "text/x-python",
   "name": "python",
   "nbconvert_exporter": "python",
   "pygments_lexer": "ipython3",
   "version": "3.6.3"
  }
 },
 "nbformat": 4,
 "nbformat_minor": 2
}
