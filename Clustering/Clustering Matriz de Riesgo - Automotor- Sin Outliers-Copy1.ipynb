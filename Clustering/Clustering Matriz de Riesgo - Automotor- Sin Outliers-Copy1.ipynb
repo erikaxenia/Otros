{
 "cells": [
  {
   "cell_type": "markdown",
   "metadata": {},
   "source": [
    "## MATRIZ DE RIESGO - CLUSTERING"
   ]
  },
  {
   "cell_type": "code",
   "execution_count": 1,
   "metadata": {
    "collapsed": true
   },
   "outputs": [],
   "source": [
    "import pandas as pd\n",
    "import numpy.random as rnd\n",
    "import numpy as np\n",
    "\n",
    "# Cluster \n",
    "from scipy.spatial import distance_matrix\n",
    "from scipy.cluster.vq import vq, kmeans\n",
    "from scipy.spatial.distance import cdist\n",
    "from sklearn.cluster import AffinityPropagation\n",
    "from sklearn import metrics\n",
    "from sklearn.datasets.samples_generator import make_blobs\n",
    "from sklearn.cluster import KMeans\n",
    "from scipy.cluster.hierarchy import dendrogram, linkage\n",
    "\n",
    "# PCA\n",
    "from sklearn.preprocessing import StandardScaler\n",
    "from sklearn.decomposition import PCA as sklearnPCA\n",
    "from sklearn import decomposition\n",
    "from sklearn import preprocessing\n",
    "\n",
    "# Graficas\n",
    "import matplotlib.pyplot as plt\n",
    "from mpl_toolkits.mplot3d import Axes3D\n",
    "from itertools import cycle\n",
    "import seaborn as sns\n",
    "\n",
    "%matplotlib inline\n",
    "\n",
    "pd.options.display.float_format = '{:,.3f}'.format\n",
    "plt.rcParams['figure.figsize'] = (7, 5)"
   ]
  },
  {
   "cell_type": "code",
   "execution_count": 2,
   "metadata": {
    "collapsed": true
   },
   "outputs": [],
   "source": [
    "cias = pd.read_excel(r'C:\\Users\\eangenello\\Desktop\\Cia_Autom.xlsx')"
   ]
  },
  {
   "cell_type": "code",
   "execution_count": 3,
   "metadata": {
    "collapsed": true
   },
   "outputs": [],
   "source": [
    "data = pd.read_excel(r'C:\\Users\\eangenello\\Desktop\\Balance 2019-2.xlsx')"
   ]
  },
  {
   "cell_type": "code",
   "execution_count": 4,
   "metadata": {
    "collapsed": true
   },
   "outputs": [],
   "source": [
    "data = data.drop('razon_social',1)"
   ]
  },
  {
   "cell_type": "code",
   "execution_count": 5,
   "metadata": {
    "collapsed": true
   },
   "outputs": [],
   "source": [
    "data = data.merge(cias, how='inner', on=['cod_cia'])"
   ]
  },
  {
   "cell_type": "code",
   "execution_count": 6,
   "metadata": {},
   "outputs": [
    {
     "data": {
      "text/html": [
       "<div>\n",
       "<style scoped>\n",
       "    .dataframe tbody tr th:only-of-type {\n",
       "        vertical-align: middle;\n",
       "    }\n",
       "\n",
       "    .dataframe tbody tr th {\n",
       "        vertical-align: top;\n",
       "    }\n",
       "\n",
       "    .dataframe thead th {\n",
       "        text-align: right;\n",
       "    }\n",
       "</style>\n",
       "<table border=\"1\" class=\"dataframe\">\n",
       "  <thead>\n",
       "    <tr style=\"text-align: right;\">\n",
       "      <th></th>\n",
       "      <th>cod_cia</th>\n",
       "      <th>periodo</th>\n",
       "      <th>cod_subramo</th>\n",
       "      <th>desc_subramo</th>\n",
       "      <th>importe</th>\n",
       "      <th>cod_cuenta</th>\n",
       "      <th>desc_cuenta</th>\n",
       "      <th>nivel</th>\n",
       "      <th>id_padre</th>\n",
       "      <th>razon_social</th>\n",
       "    </tr>\n",
       "  </thead>\n",
       "  <tbody>\n",
       "    <tr>\n",
       "      <th>0</th>\n",
       "      <td>2</td>\n",
       "      <td>2019-2</td>\n",
       "      <td>NaN</td>\n",
       "      <td>NaN</td>\n",
       "      <td>6045512945</td>\n",
       "      <td>1.00.00.00.00.00.00.00</td>\n",
       "      <td>ACTIVO</td>\n",
       "      <td>1</td>\n",
       "      <td>NaN</td>\n",
       "      <td>BERNARDINO RIVADAVIA</td>\n",
       "    </tr>\n",
       "    <tr>\n",
       "      <th>1</th>\n",
       "      <td>2</td>\n",
       "      <td>2019-2</td>\n",
       "      <td>NaN</td>\n",
       "      <td>NaN</td>\n",
       "      <td>275225043</td>\n",
       "      <td>1.01.00.00.00.00.00.00</td>\n",
       "      <td>DISPONIBILIDADES</td>\n",
       "      <td>2</td>\n",
       "      <td>1</td>\n",
       "      <td>BERNARDINO RIVADAVIA</td>\n",
       "    </tr>\n",
       "    <tr>\n",
       "      <th>2</th>\n",
       "      <td>2</td>\n",
       "      <td>2019-2</td>\n",
       "      <td>NaN</td>\n",
       "      <td>NaN</td>\n",
       "      <td>15113633</td>\n",
       "      <td>1.01.01.00.00.00.00.00</td>\n",
       "      <td>Caja</td>\n",
       "      <td>3</td>\n",
       "      <td>3</td>\n",
       "      <td>BERNARDINO RIVADAVIA</td>\n",
       "    </tr>\n",
       "    <tr>\n",
       "      <th>3</th>\n",
       "      <td>2</td>\n",
       "      <td>2019-2</td>\n",
       "      <td>NaN</td>\n",
       "      <td>NaN</td>\n",
       "      <td>15113633</td>\n",
       "      <td>1.01.01.01.00.00.00.00</td>\n",
       "      <td>Caja</td>\n",
       "      <td>4</td>\n",
       "      <td>5</td>\n",
       "      <td>BERNARDINO RIVADAVIA</td>\n",
       "    </tr>\n",
       "    <tr>\n",
       "      <th>4</th>\n",
       "      <td>2</td>\n",
       "      <td>2019-2</td>\n",
       "      <td>NaN</td>\n",
       "      <td>NaN</td>\n",
       "      <td>15113633</td>\n",
       "      <td>1.01.01.01.01.00.00.00</td>\n",
       "      <td>Caja</td>\n",
       "      <td>5</td>\n",
       "      <td>7</td>\n",
       "      <td>BERNARDINO RIVADAVIA</td>\n",
       "    </tr>\n",
       "  </tbody>\n",
       "</table>\n",
       "</div>"
      ],
      "text/plain": [
       "   cod_cia periodo cod_subramo desc_subramo     importe  \\\n",
       "0        2  2019-2         NaN          NaN  6045512945   \n",
       "1        2  2019-2         NaN          NaN   275225043   \n",
       "2        2  2019-2         NaN          NaN    15113633   \n",
       "3        2  2019-2         NaN          NaN    15113633   \n",
       "4        2  2019-2         NaN          NaN    15113633   \n",
       "\n",
       "               cod_cuenta       desc_cuenta  nivel id_padre  \\\n",
       "0  1.00.00.00.00.00.00.00            ACTIVO      1      NaN   \n",
       "1  1.01.00.00.00.00.00.00  DISPONIBILIDADES      2        1   \n",
       "2  1.01.01.00.00.00.00.00              Caja      3        3   \n",
       "3  1.01.01.01.00.00.00.00              Caja      4        5   \n",
       "4  1.01.01.01.01.00.00.00              Caja      5        7   \n",
       "\n",
       "           razon_social  \n",
       "0  BERNARDINO RIVADAVIA  \n",
       "1  BERNARDINO RIVADAVIA  \n",
       "2  BERNARDINO RIVADAVIA  \n",
       "3  BERNARDINO RIVADAVIA  \n",
       "4  BERNARDINO RIVADAVIA  "
      ]
     },
     "execution_count": 6,
     "metadata": {},
     "output_type": "execute_result"
    }
   ],
   "source": [
    "data.head()"
   ]
  },
  {
   "cell_type": "code",
   "execution_count": 7,
   "metadata": {
    "collapsed": true
   },
   "outputs": [],
   "source": [
    "data1 = data.pivot_table(index=['cod_cia','razon_social'], values=['importe'], columns=['cod_cuenta'], aggfunc=np.sum)"
   ]
  },
  {
   "cell_type": "code",
   "execution_count": 8,
   "metadata": {},
   "outputs": [
    {
     "data": {
      "text/html": [
       "<div>\n",
       "<style scoped>\n",
       "    .dataframe tbody tr th:only-of-type {\n",
       "        vertical-align: middle;\n",
       "    }\n",
       "\n",
       "    .dataframe tbody tr th {\n",
       "        vertical-align: top;\n",
       "    }\n",
       "\n",
       "    .dataframe thead tr th {\n",
       "        text-align: left;\n",
       "    }\n",
       "\n",
       "    .dataframe thead tr:last-of-type th {\n",
       "        text-align: right;\n",
       "    }\n",
       "</style>\n",
       "<table border=\"1\" class=\"dataframe\">\n",
       "  <thead>\n",
       "    <tr>\n",
       "      <th></th>\n",
       "      <th></th>\n",
       "      <th colspan=\"21\" halign=\"left\">importe</th>\n",
       "    </tr>\n",
       "    <tr>\n",
       "      <th></th>\n",
       "      <th>cod_cuenta</th>\n",
       "      <th>1.00.00.00.00.00.00.00</th>\n",
       "      <th>1.01.00.00.00.00.00.00</th>\n",
       "      <th>1.01.01.00.00.00.00.00</th>\n",
       "      <th>1.01.01.01.00.00.00.00</th>\n",
       "      <th>1.01.01.01.01.00.00.00</th>\n",
       "      <th>1.01.01.01.01.01.00.00</th>\n",
       "      <th>1.01.01.01.01.02.00.00</th>\n",
       "      <th>1.01.01.01.01.03.00.00</th>\n",
       "      <th>1.01.02.00.00.00.00.00</th>\n",
       "      <th>1.01.02.01.00.00.00.00</th>\n",
       "      <th>...</th>\n",
       "      <th>5.02.04.04.02.01.00.00</th>\n",
       "      <th>5.02.04.04.03.00.00.00</th>\n",
       "      <th>5.02.04.04.03.01.00.00</th>\n",
       "      <th>5.02.04.04.04.00.00.00</th>\n",
       "      <th>5.02.04.04.04.50.00.00</th>\n",
       "      <th>5.03.00.00.00.00.00.00</th>\n",
       "      <th>5.03.03.00.00.00.00.00</th>\n",
       "      <th>5.03.03.03.00.00.00.00</th>\n",
       "      <th>5.03.03.03.03.00.00.00</th>\n",
       "      <th>5.03.03.03.03.01.00.00</th>\n",
       "    </tr>\n",
       "    <tr>\n",
       "      <th>cod_cia</th>\n",
       "      <th>razon_social</th>\n",
       "      <th></th>\n",
       "      <th></th>\n",
       "      <th></th>\n",
       "      <th></th>\n",
       "      <th></th>\n",
       "      <th></th>\n",
       "      <th></th>\n",
       "      <th></th>\n",
       "      <th></th>\n",
       "      <th></th>\n",
       "      <th></th>\n",
       "      <th></th>\n",
       "      <th></th>\n",
       "      <th></th>\n",
       "      <th></th>\n",
       "      <th></th>\n",
       "      <th></th>\n",
       "      <th></th>\n",
       "      <th></th>\n",
       "      <th></th>\n",
       "      <th></th>\n",
       "    </tr>\n",
       "  </thead>\n",
       "  <tbody>\n",
       "    <tr>\n",
       "      <th>2</th>\n",
       "      <th>BERNARDINO RIVADAVIA</th>\n",
       "      <td>6,045,512,945.000</td>\n",
       "      <td>275,225,043.000</td>\n",
       "      <td>15,113,633.000</td>\n",
       "      <td>15,113,633.000</td>\n",
       "      <td>15,113,633.000</td>\n",
       "      <td>nan</td>\n",
       "      <td>552,558.000</td>\n",
       "      <td>14,561,075.000</td>\n",
       "      <td>152,591,329.000</td>\n",
       "      <td>152,591,329.000</td>\n",
       "      <td>...</td>\n",
       "      <td>nan</td>\n",
       "      <td>nan</td>\n",
       "      <td>nan</td>\n",
       "      <td>4,065,502.000</td>\n",
       "      <td>4,065,502.000</td>\n",
       "      <td>nan</td>\n",
       "      <td>nan</td>\n",
       "      <td>nan</td>\n",
       "      <td>nan</td>\n",
       "      <td>nan</td>\n",
       "    </tr>\n",
       "    <tr>\n",
       "      <th>25</th>\n",
       "      <th>NORTE</th>\n",
       "      <td>12,711,923,827.000</td>\n",
       "      <td>206,828,899.000</td>\n",
       "      <td>13,531,299.000</td>\n",
       "      <td>13,531,299.000</td>\n",
       "      <td>13,531,299.000</td>\n",
       "      <td>nan</td>\n",
       "      <td>532,390.000</td>\n",
       "      <td>12,998,909.000</td>\n",
       "      <td>193,297,600.000</td>\n",
       "      <td>193,297,600.000</td>\n",
       "      <td>...</td>\n",
       "      <td>nan</td>\n",
       "      <td>nan</td>\n",
       "      <td>nan</td>\n",
       "      <td>nan</td>\n",
       "      <td>nan</td>\n",
       "      <td>nan</td>\n",
       "      <td>nan</td>\n",
       "      <td>nan</td>\n",
       "      <td>nan</td>\n",
       "      <td>nan</td>\n",
       "    </tr>\n",
       "    <tr>\n",
       "      <th>32</th>\n",
       "      <th>MERIDIONAL</th>\n",
       "      <td>2,798,133,205.000</td>\n",
       "      <td>88,732,127.000</td>\n",
       "      <td>740,469.000</td>\n",
       "      <td>740,469.000</td>\n",
       "      <td>740,469.000</td>\n",
       "      <td>48,614.000</td>\n",
       "      <td>87,632.000</td>\n",
       "      <td>604,223.000</td>\n",
       "      <td>42,346,515.000</td>\n",
       "      <td>42,346,515.000</td>\n",
       "      <td>...</td>\n",
       "      <td>0.000</td>\n",
       "      <td>0.000</td>\n",
       "      <td>0.000</td>\n",
       "      <td>145,436,992.000</td>\n",
       "      <td>145,436,992.000</td>\n",
       "      <td>0.000</td>\n",
       "      <td>0.000</td>\n",
       "      <td>0.000</td>\n",
       "      <td>0.000</td>\n",
       "      <td>0.000</td>\n",
       "    </tr>\n",
       "    <tr>\n",
       "      <th>36</th>\n",
       "      <th>FED. PATRONAL</th>\n",
       "      <td>18,239,827,903.000</td>\n",
       "      <td>645,465,707.000</td>\n",
       "      <td>45,461,482.000</td>\n",
       "      <td>45,461,482.000</td>\n",
       "      <td>45,461,482.000</td>\n",
       "      <td>0.000</td>\n",
       "      <td>189,052.000</td>\n",
       "      <td>45,272,430.000</td>\n",
       "      <td>165,006,160.000</td>\n",
       "      <td>165,006,160.000</td>\n",
       "      <td>...</td>\n",
       "      <td>0.000</td>\n",
       "      <td>0.000</td>\n",
       "      <td>0.000</td>\n",
       "      <td>31,371,973.000</td>\n",
       "      <td>31,371,973.000</td>\n",
       "      <td>0.000</td>\n",
       "      <td>0.000</td>\n",
       "      <td>0.000</td>\n",
       "      <td>0.000</td>\n",
       "      <td>0.000</td>\n",
       "    </tr>\n",
       "    <tr>\n",
       "      <th>39</th>\n",
       "      <th>TRIUNFO</th>\n",
       "      <td>11,681,478,262.000</td>\n",
       "      <td>27,753,823.000</td>\n",
       "      <td>3,967,114.000</td>\n",
       "      <td>3,967,114.000</td>\n",
       "      <td>3,967,114.000</td>\n",
       "      <td>0.000</td>\n",
       "      <td>183,672.000</td>\n",
       "      <td>3,783,442.000</td>\n",
       "      <td>21,872,756.000</td>\n",
       "      <td>21,872,756.000</td>\n",
       "      <td>...</td>\n",
       "      <td>0.000</td>\n",
       "      <td>0.000</td>\n",
       "      <td>0.000</td>\n",
       "      <td>0.000</td>\n",
       "      <td>0.000</td>\n",
       "      <td>0.000</td>\n",
       "      <td>0.000</td>\n",
       "      <td>0.000</td>\n",
       "      <td>0.000</td>\n",
       "      <td>0.000</td>\n",
       "    </tr>\n",
       "  </tbody>\n",
       "</table>\n",
       "<p>5 rows × 975 columns</p>\n",
       "</div>"
      ],
      "text/plain": [
       "                                            importe                         \\\n",
       "cod_cuenta                   1.00.00.00.00.00.00.00 1.01.00.00.00.00.00.00   \n",
       "cod_cia razon_social                                                         \n",
       "2       BERNARDINO RIVADAVIA      6,045,512,945.000        275,225,043.000   \n",
       "25      NORTE                    12,711,923,827.000        206,828,899.000   \n",
       "32      MERIDIONAL                2,798,133,205.000         88,732,127.000   \n",
       "36      FED. PATRONAL            18,239,827,903.000        645,465,707.000   \n",
       "39      TRIUNFO                  11,681,478,262.000         27,753,823.000   \n",
       "\n",
       "                                                                            \\\n",
       "cod_cuenta                   1.01.01.00.00.00.00.00 1.01.01.01.00.00.00.00   \n",
       "cod_cia razon_social                                                         \n",
       "2       BERNARDINO RIVADAVIA         15,113,633.000         15,113,633.000   \n",
       "25      NORTE                        13,531,299.000         13,531,299.000   \n",
       "32      MERIDIONAL                      740,469.000            740,469.000   \n",
       "36      FED. PATRONAL                45,461,482.000         45,461,482.000   \n",
       "39      TRIUNFO                       3,967,114.000          3,967,114.000   \n",
       "\n",
       "                                                                            \\\n",
       "cod_cuenta                   1.01.01.01.01.00.00.00 1.01.01.01.01.01.00.00   \n",
       "cod_cia razon_social                                                         \n",
       "2       BERNARDINO RIVADAVIA         15,113,633.000                    nan   \n",
       "25      NORTE                        13,531,299.000                    nan   \n",
       "32      MERIDIONAL                      740,469.000             48,614.000   \n",
       "36      FED. PATRONAL                45,461,482.000                  0.000   \n",
       "39      TRIUNFO                       3,967,114.000                  0.000   \n",
       "\n",
       "                                                                            \\\n",
       "cod_cuenta                   1.01.01.01.01.02.00.00 1.01.01.01.01.03.00.00   \n",
       "cod_cia razon_social                                                         \n",
       "2       BERNARDINO RIVADAVIA            552,558.000         14,561,075.000   \n",
       "25      NORTE                           532,390.000         12,998,909.000   \n",
       "32      MERIDIONAL                       87,632.000            604,223.000   \n",
       "36      FED. PATRONAL                   189,052.000         45,272,430.000   \n",
       "39      TRIUNFO                         183,672.000          3,783,442.000   \n",
       "\n",
       "                                                                            \\\n",
       "cod_cuenta                   1.01.02.00.00.00.00.00 1.01.02.01.00.00.00.00   \n",
       "cod_cia razon_social                                                         \n",
       "2       BERNARDINO RIVADAVIA        152,591,329.000        152,591,329.000   \n",
       "25      NORTE                       193,297,600.000        193,297,600.000   \n",
       "32      MERIDIONAL                   42,346,515.000         42,346,515.000   \n",
       "36      FED. PATRONAL               165,006,160.000        165,006,160.000   \n",
       "39      TRIUNFO                      21,872,756.000         21,872,756.000   \n",
       "\n",
       "                                      ...                                   \\\n",
       "cod_cuenta                            ...           5.02.04.04.02.01.00.00   \n",
       "cod_cia razon_social                  ...                                    \n",
       "2       BERNARDINO RIVADAVIA          ...                              nan   \n",
       "25      NORTE                         ...                              nan   \n",
       "32      MERIDIONAL                    ...                            0.000   \n",
       "36      FED. PATRONAL                 ...                            0.000   \n",
       "39      TRIUNFO                       ...                            0.000   \n",
       "\n",
       "                                                                            \\\n",
       "cod_cuenta                   5.02.04.04.03.00.00.00 5.02.04.04.03.01.00.00   \n",
       "cod_cia razon_social                                                         \n",
       "2       BERNARDINO RIVADAVIA                    nan                    nan   \n",
       "25      NORTE                                   nan                    nan   \n",
       "32      MERIDIONAL                            0.000                  0.000   \n",
       "36      FED. PATRONAL                         0.000                  0.000   \n",
       "39      TRIUNFO                               0.000                  0.000   \n",
       "\n",
       "                                                                            \\\n",
       "cod_cuenta                   5.02.04.04.04.00.00.00 5.02.04.04.04.50.00.00   \n",
       "cod_cia razon_social                                                         \n",
       "2       BERNARDINO RIVADAVIA          4,065,502.000          4,065,502.000   \n",
       "25      NORTE                                   nan                    nan   \n",
       "32      MERIDIONAL                  145,436,992.000        145,436,992.000   \n",
       "36      FED. PATRONAL                31,371,973.000         31,371,973.000   \n",
       "39      TRIUNFO                               0.000                  0.000   \n",
       "\n",
       "                                                                            \\\n",
       "cod_cuenta                   5.03.00.00.00.00.00.00 5.03.03.00.00.00.00.00   \n",
       "cod_cia razon_social                                                         \n",
       "2       BERNARDINO RIVADAVIA                    nan                    nan   \n",
       "25      NORTE                                   nan                    nan   \n",
       "32      MERIDIONAL                            0.000                  0.000   \n",
       "36      FED. PATRONAL                         0.000                  0.000   \n",
       "39      TRIUNFO                               0.000                  0.000   \n",
       "\n",
       "                                                                            \\\n",
       "cod_cuenta                   5.03.03.03.00.00.00.00 5.03.03.03.03.00.00.00   \n",
       "cod_cia razon_social                                                         \n",
       "2       BERNARDINO RIVADAVIA                    nan                    nan   \n",
       "25      NORTE                                   nan                    nan   \n",
       "32      MERIDIONAL                            0.000                  0.000   \n",
       "36      FED. PATRONAL                         0.000                  0.000   \n",
       "39      TRIUNFO                               0.000                  0.000   \n",
       "\n",
       "                                                     \n",
       "cod_cuenta                   5.03.03.03.03.01.00.00  \n",
       "cod_cia razon_social                                 \n",
       "2       BERNARDINO RIVADAVIA                    nan  \n",
       "25      NORTE                                   nan  \n",
       "32      MERIDIONAL                            0.000  \n",
       "36      FED. PATRONAL                         0.000  \n",
       "39      TRIUNFO                               0.000  \n",
       "\n",
       "[5 rows x 975 columns]"
      ]
     },
     "execution_count": 8,
     "metadata": {},
     "output_type": "execute_result"
    }
   ],
   "source": [
    "data1.head()"
   ]
  },
  {
   "cell_type": "code",
   "execution_count": 9,
   "metadata": {
    "collapsed": true
   },
   "outputs": [],
   "source": [
    "data1['cod']=[data1.iloc[i].name[0] for i in range(len(data1.index))]"
   ]
  },
  {
   "cell_type": "code",
   "execution_count": 10,
   "metadata": {
    "collapsed": true
   },
   "outputs": [],
   "source": [
    "data1['Denominacion Corta']=[data1.iloc[i].name[1] for i in range(len(data1.index))]"
   ]
  },
  {
   "cell_type": "code",
   "execution_count": 11,
   "metadata": {
    "collapsed": true
   },
   "outputs": [],
   "source": [
    "data1.to_excel(r'C:\\Users\\eangenello\\Desktop\\PYTHON\\output\\data1.xlsx')"
   ]
  },
  {
   "cell_type": "code",
   "execution_count": 12,
   "metadata": {
    "collapsed": true
   },
   "outputs": [],
   "source": [
    "data = pd.read_excel(r'C:\\Users\\eangenello\\Desktop\\PYTHON\\output\\data1.xlsx')"
   ]
  },
  {
   "cell_type": "code",
   "execution_count": 13,
   "metadata": {
    "collapsed": true
   },
   "outputs": [],
   "source": [
    "cuentas = ['cod_cia', 'Denominacion Corta', '1.00.00.00.00.00.00.00', '1.01.00.00.00.00.00.00',\n",
    "'1.02.00.00.00.00.00.00', '1.03.00.00.00.00.00.00','1.04.00.00.00.00.00.00', '1.05.00.00.00.00.00.00',\n",
    "'1.06.00.00.00.00.00.00', '2.00.00.00.00.00.00.00','2.01.00.00.00.00.00.00', '2.02.00.00.00.00.00.00',\n",
    "'2.03.00.00.00.00.00.00', '2.04.00.00.00.00.00.00','3.00.00.00.00.00.00.00', '3.02.00.00.00.00.00.00',\n",
    "'3.03.00.00.00.00.00.00', '3.04.00.00.00.00.00.00','3.05.00.00.00.00.00.00']"
   ]
  },
  {
   "cell_type": "code",
   "execution_count": 14,
   "metadata": {},
   "outputs": [
    {
     "data": {
      "text/html": [
       "<div>\n",
       "<style scoped>\n",
       "    .dataframe tbody tr th:only-of-type {\n",
       "        vertical-align: middle;\n",
       "    }\n",
       "\n",
       "    .dataframe tbody tr th {\n",
       "        vertical-align: top;\n",
       "    }\n",
       "\n",
       "    .dataframe thead th {\n",
       "        text-align: right;\n",
       "    }\n",
       "</style>\n",
       "<table border=\"1\" class=\"dataframe\">\n",
       "  <thead>\n",
       "    <tr style=\"text-align: right;\">\n",
       "      <th></th>\n",
       "      <th></th>\n",
       "      <th>importe</th>\n",
       "      <th>Unnamed: 1</th>\n",
       "      <th>Unnamed: 2</th>\n",
       "      <th>Unnamed: 3</th>\n",
       "      <th>Unnamed: 4</th>\n",
       "      <th>Unnamed: 5</th>\n",
       "      <th>Unnamed: 6</th>\n",
       "      <th>Unnamed: 7</th>\n",
       "      <th>Unnamed: 8</th>\n",
       "      <th>Unnamed: 9</th>\n",
       "      <th>...</th>\n",
       "      <th>Unnamed: 967</th>\n",
       "      <th>Unnamed: 968</th>\n",
       "      <th>Unnamed: 969</th>\n",
       "      <th>Unnamed: 970</th>\n",
       "      <th>Unnamed: 971</th>\n",
       "      <th>Unnamed: 972</th>\n",
       "      <th>Unnamed: 973</th>\n",
       "      <th>Unnamed: 974</th>\n",
       "      <th>cod</th>\n",
       "      <th>Denominacion Corta</th>\n",
       "    </tr>\n",
       "  </thead>\n",
       "  <tbody>\n",
       "    <tr>\n",
       "      <th>NaN</th>\n",
       "      <th>cod_cuenta</th>\n",
       "      <td>1.00.00.00.00.00.00.00</td>\n",
       "      <td>1.01.00.00.00.00.00.00</td>\n",
       "      <td>1.01.01.00.00.00.00.00</td>\n",
       "      <td>1.01.01.01.00.00.00.00</td>\n",
       "      <td>1.01.01.01.01.00.00.00</td>\n",
       "      <td>1.01.01.01.01.01.00.00</td>\n",
       "      <td>1.01.01.01.01.02.00.00</td>\n",
       "      <td>1.01.01.01.01.03.00.00</td>\n",
       "      <td>1.01.02.00.00.00.00.00</td>\n",
       "      <td>1.01.02.01.00.00.00.00</td>\n",
       "      <td>...</td>\n",
       "      <td>5.02.04.04.03.01.00.00</td>\n",
       "      <td>5.02.04.04.04.00.00.00</td>\n",
       "      <td>5.02.04.04.04.50.00.00</td>\n",
       "      <td>5.03.00.00.00.00.00.00</td>\n",
       "      <td>5.03.03.00.00.00.00.00</td>\n",
       "      <td>5.03.03.03.00.00.00.00</td>\n",
       "      <td>5.03.03.03.03.00.00.00</td>\n",
       "      <td>5.03.03.03.03.01.00.00</td>\n",
       "      <td>nan</td>\n",
       "      <td>NaN</td>\n",
       "    </tr>\n",
       "    <tr>\n",
       "      <th>cod_cia</th>\n",
       "      <th>razon_social</th>\n",
       "      <td>NaN</td>\n",
       "      <td>NaN</td>\n",
       "      <td>NaN</td>\n",
       "      <td>NaN</td>\n",
       "      <td>NaN</td>\n",
       "      <td>NaN</td>\n",
       "      <td>NaN</td>\n",
       "      <td>NaN</td>\n",
       "      <td>NaN</td>\n",
       "      <td>NaN</td>\n",
       "      <td>...</td>\n",
       "      <td>NaN</td>\n",
       "      <td>NaN</td>\n",
       "      <td>NaN</td>\n",
       "      <td>NaN</td>\n",
       "      <td>NaN</td>\n",
       "      <td>NaN</td>\n",
       "      <td>NaN</td>\n",
       "      <td>NaN</td>\n",
       "      <td>nan</td>\n",
       "      <td>NaN</td>\n",
       "    </tr>\n",
       "    <tr>\n",
       "      <th>2</th>\n",
       "      <th>BERNARDINO RIVADAVIA</th>\n",
       "      <td>6045512945</td>\n",
       "      <td>275225043</td>\n",
       "      <td>15113633</td>\n",
       "      <td>15113633</td>\n",
       "      <td>15113633</td>\n",
       "      <td>NaN</td>\n",
       "      <td>552558</td>\n",
       "      <td>14561075</td>\n",
       "      <td>152591329</td>\n",
       "      <td>152591329</td>\n",
       "      <td>...</td>\n",
       "      <td>NaN</td>\n",
       "      <td>4065502</td>\n",
       "      <td>4065502</td>\n",
       "      <td>NaN</td>\n",
       "      <td>NaN</td>\n",
       "      <td>NaN</td>\n",
       "      <td>NaN</td>\n",
       "      <td>NaN</td>\n",
       "      <td>2.000</td>\n",
       "      <td>BERNARDINO RIVADAVIA</td>\n",
       "    </tr>\n",
       "    <tr>\n",
       "      <th>25</th>\n",
       "      <th>NORTE</th>\n",
       "      <td>12711923827</td>\n",
       "      <td>206828899</td>\n",
       "      <td>13531299</td>\n",
       "      <td>13531299</td>\n",
       "      <td>13531299</td>\n",
       "      <td>NaN</td>\n",
       "      <td>532390</td>\n",
       "      <td>12998909</td>\n",
       "      <td>193297600</td>\n",
       "      <td>193297600</td>\n",
       "      <td>...</td>\n",
       "      <td>NaN</td>\n",
       "      <td>NaN</td>\n",
       "      <td>NaN</td>\n",
       "      <td>NaN</td>\n",
       "      <td>NaN</td>\n",
       "      <td>NaN</td>\n",
       "      <td>NaN</td>\n",
       "      <td>NaN</td>\n",
       "      <td>25.000</td>\n",
       "      <td>NORTE</td>\n",
       "    </tr>\n",
       "    <tr>\n",
       "      <th>32</th>\n",
       "      <th>MERIDIONAL</th>\n",
       "      <td>2798133205</td>\n",
       "      <td>88732127</td>\n",
       "      <td>740469</td>\n",
       "      <td>740469</td>\n",
       "      <td>740469</td>\n",
       "      <td>48614</td>\n",
       "      <td>87632</td>\n",
       "      <td>604223</td>\n",
       "      <td>42346515</td>\n",
       "      <td>42346515</td>\n",
       "      <td>...</td>\n",
       "      <td>0</td>\n",
       "      <td>145436992</td>\n",
       "      <td>145436992</td>\n",
       "      <td>0</td>\n",
       "      <td>0</td>\n",
       "      <td>0</td>\n",
       "      <td>0</td>\n",
       "      <td>0</td>\n",
       "      <td>32.000</td>\n",
       "      <td>MERIDIONAL</td>\n",
       "    </tr>\n",
       "  </tbody>\n",
       "</table>\n",
       "<p>5 rows × 977 columns</p>\n",
       "</div>"
      ],
      "text/plain": [
       "                                             importe              Unnamed: 1  \\\n",
       "NaN     cod_cuenta            1.00.00.00.00.00.00.00  1.01.00.00.00.00.00.00   \n",
       "cod_cia razon_social                             NaN                     NaN   \n",
       "2       BERNARDINO RIVADAVIA              6045512945               275225043   \n",
       "25      NORTE                            12711923827               206828899   \n",
       "32      MERIDIONAL                        2798133205                88732127   \n",
       "\n",
       "                                          Unnamed: 2              Unnamed: 3  \\\n",
       "NaN     cod_cuenta            1.01.01.00.00.00.00.00  1.01.01.01.00.00.00.00   \n",
       "cod_cia razon_social                             NaN                     NaN   \n",
       "2       BERNARDINO RIVADAVIA                15113633                15113633   \n",
       "25      NORTE                               13531299                13531299   \n",
       "32      MERIDIONAL                            740469                  740469   \n",
       "\n",
       "                                          Unnamed: 4              Unnamed: 5  \\\n",
       "NaN     cod_cuenta            1.01.01.01.01.00.00.00  1.01.01.01.01.01.00.00   \n",
       "cod_cia razon_social                             NaN                     NaN   \n",
       "2       BERNARDINO RIVADAVIA                15113633                     NaN   \n",
       "25      NORTE                               13531299                     NaN   \n",
       "32      MERIDIONAL                            740469                   48614   \n",
       "\n",
       "                                          Unnamed: 6              Unnamed: 7  \\\n",
       "NaN     cod_cuenta            1.01.01.01.01.02.00.00  1.01.01.01.01.03.00.00   \n",
       "cod_cia razon_social                             NaN                     NaN   \n",
       "2       BERNARDINO RIVADAVIA                  552558                14561075   \n",
       "25      NORTE                                 532390                12998909   \n",
       "32      MERIDIONAL                             87632                  604223   \n",
       "\n",
       "                                          Unnamed: 8              Unnamed: 9  \\\n",
       "NaN     cod_cuenta            1.01.02.00.00.00.00.00  1.01.02.01.00.00.00.00   \n",
       "cod_cia razon_social                             NaN                     NaN   \n",
       "2       BERNARDINO RIVADAVIA               152591329               152591329   \n",
       "25      NORTE                              193297600               193297600   \n",
       "32      MERIDIONAL                          42346515                42346515   \n",
       "\n",
       "                                      ...                     Unnamed: 967  \\\n",
       "NaN     cod_cuenta                    ...           5.02.04.04.03.01.00.00   \n",
       "cod_cia razon_social                  ...                              NaN   \n",
       "2       BERNARDINO RIVADAVIA          ...                              NaN   \n",
       "25      NORTE                         ...                              NaN   \n",
       "32      MERIDIONAL                    ...                                0   \n",
       "\n",
       "                                        Unnamed: 968            Unnamed: 969  \\\n",
       "NaN     cod_cuenta            5.02.04.04.04.00.00.00  5.02.04.04.04.50.00.00   \n",
       "cod_cia razon_social                             NaN                     NaN   \n",
       "2       BERNARDINO RIVADAVIA                 4065502                 4065502   \n",
       "25      NORTE                                    NaN                     NaN   \n",
       "32      MERIDIONAL                         145436992               145436992   \n",
       "\n",
       "                                        Unnamed: 970            Unnamed: 971  \\\n",
       "NaN     cod_cuenta            5.03.00.00.00.00.00.00  5.03.03.00.00.00.00.00   \n",
       "cod_cia razon_social                             NaN                     NaN   \n",
       "2       BERNARDINO RIVADAVIA                     NaN                     NaN   \n",
       "25      NORTE                                    NaN                     NaN   \n",
       "32      MERIDIONAL                                 0                       0   \n",
       "\n",
       "                                        Unnamed: 972            Unnamed: 973  \\\n",
       "NaN     cod_cuenta            5.03.03.03.00.00.00.00  5.03.03.03.03.00.00.00   \n",
       "cod_cia razon_social                             NaN                     NaN   \n",
       "2       BERNARDINO RIVADAVIA                     NaN                     NaN   \n",
       "25      NORTE                                    NaN                     NaN   \n",
       "32      MERIDIONAL                                 0                       0   \n",
       "\n",
       "                                        Unnamed: 974    cod  \\\n",
       "NaN     cod_cuenta            5.03.03.03.03.01.00.00    nan   \n",
       "cod_cia razon_social                             NaN    nan   \n",
       "2       BERNARDINO RIVADAVIA                     NaN  2.000   \n",
       "25      NORTE                                    NaN 25.000   \n",
       "32      MERIDIONAL                                 0 32.000   \n",
       "\n",
       "                                Denominacion Corta  \n",
       "NaN     cod_cuenta                             NaN  \n",
       "cod_cia razon_social                           NaN  \n",
       "2       BERNARDINO RIVADAVIA  BERNARDINO RIVADAVIA  \n",
       "25      NORTE                                NORTE  \n",
       "32      MERIDIONAL                      MERIDIONAL  \n",
       "\n",
       "[5 rows x 977 columns]"
      ]
     },
     "execution_count": 14,
     "metadata": {},
     "output_type": "execute_result"
    }
   ],
   "source": [
    "data.head()"
   ]
  },
  {
   "cell_type": "code",
   "execution_count": 15,
   "metadata": {},
   "outputs": [
    {
     "ename": "KeyError",
     "evalue": "\"['cod_cia' '1.00.00.00.00.00.00.00' '1.01.00.00.00.00.00.00'\\n '1.02.00.00.00.00.00.00' '1.03.00.00.00.00.00.00'\\n '1.04.00.00.00.00.00.00' '1.05.00.00.00.00.00.00'\\n '1.06.00.00.00.00.00.00' '2.00.00.00.00.00.00.00'\\n '2.01.00.00.00.00.00.00' '2.02.00.00.00.00.00.00'\\n '2.03.00.00.00.00.00.00' '2.04.00.00.00.00.00.00'\\n '3.00.00.00.00.00.00.00' '3.02.00.00.00.00.00.00'\\n '3.03.00.00.00.00.00.00' '3.04.00.00.00.00.00.00'\\n '3.05.00.00.00.00.00.00'] not in index\"",
     "output_type": "error",
     "traceback": [
      "\u001b[1;31m---------------------------------------------------------------------------\u001b[0m",
      "\u001b[1;31mKeyError\u001b[0m                                  Traceback (most recent call last)",
      "\u001b[1;32m<ipython-input-15-3793d890e190>\u001b[0m in \u001b[0;36m<module>\u001b[1;34m()\u001b[0m\n\u001b[1;32m----> 1\u001b[1;33m \u001b[0mdata\u001b[0m \u001b[1;33m=\u001b[0m \u001b[0mdata\u001b[0m\u001b[1;33m[\u001b[0m\u001b[0mcuentas\u001b[0m\u001b[1;33m]\u001b[0m\u001b[1;33m\u001b[0m\u001b[0m\n\u001b[0m\u001b[0;32m      2\u001b[0m \u001b[0mdata\u001b[0m\u001b[1;33m.\u001b[0m\u001b[0mhead\u001b[0m\u001b[1;33m(\u001b[0m\u001b[1;33m)\u001b[0m\u001b[1;33m\u001b[0m\u001b[0m\n",
      "\u001b[1;32m~\\AppData\\Local\\Continuum\\anaconda3\\lib\\site-packages\\pandas\\core\\frame.py\u001b[0m in \u001b[0;36m__getitem__\u001b[1;34m(self, key)\u001b[0m\n\u001b[0;32m   2680\u001b[0m         \u001b[1;32mif\u001b[0m \u001b[0misinstance\u001b[0m\u001b[1;33m(\u001b[0m\u001b[0mkey\u001b[0m\u001b[1;33m,\u001b[0m \u001b[1;33m(\u001b[0m\u001b[0mSeries\u001b[0m\u001b[1;33m,\u001b[0m \u001b[0mnp\u001b[0m\u001b[1;33m.\u001b[0m\u001b[0mndarray\u001b[0m\u001b[1;33m,\u001b[0m \u001b[0mIndex\u001b[0m\u001b[1;33m,\u001b[0m \u001b[0mlist\u001b[0m\u001b[1;33m)\u001b[0m\u001b[1;33m)\u001b[0m\u001b[1;33m:\u001b[0m\u001b[1;33m\u001b[0m\u001b[0m\n\u001b[0;32m   2681\u001b[0m             \u001b[1;31m# either boolean or fancy integer index\u001b[0m\u001b[1;33m\u001b[0m\u001b[1;33m\u001b[0m\u001b[0m\n\u001b[1;32m-> 2682\u001b[1;33m             \u001b[1;32mreturn\u001b[0m \u001b[0mself\u001b[0m\u001b[1;33m.\u001b[0m\u001b[0m_getitem_array\u001b[0m\u001b[1;33m(\u001b[0m\u001b[0mkey\u001b[0m\u001b[1;33m)\u001b[0m\u001b[1;33m\u001b[0m\u001b[0m\n\u001b[0m\u001b[0;32m   2683\u001b[0m         \u001b[1;32melif\u001b[0m \u001b[0misinstance\u001b[0m\u001b[1;33m(\u001b[0m\u001b[0mkey\u001b[0m\u001b[1;33m,\u001b[0m \u001b[0mDataFrame\u001b[0m\u001b[1;33m)\u001b[0m\u001b[1;33m:\u001b[0m\u001b[1;33m\u001b[0m\u001b[0m\n\u001b[0;32m   2684\u001b[0m             \u001b[1;32mreturn\u001b[0m \u001b[0mself\u001b[0m\u001b[1;33m.\u001b[0m\u001b[0m_getitem_frame\u001b[0m\u001b[1;33m(\u001b[0m\u001b[0mkey\u001b[0m\u001b[1;33m)\u001b[0m\u001b[1;33m\u001b[0m\u001b[0m\n",
      "\u001b[1;32m~\\AppData\\Local\\Continuum\\anaconda3\\lib\\site-packages\\pandas\\core\\frame.py\u001b[0m in \u001b[0;36m_getitem_array\u001b[1;34m(self, key)\u001b[0m\n\u001b[0;32m   2724\u001b[0m             \u001b[1;32mreturn\u001b[0m \u001b[0mself\u001b[0m\u001b[1;33m.\u001b[0m\u001b[0m_take\u001b[0m\u001b[1;33m(\u001b[0m\u001b[0mindexer\u001b[0m\u001b[1;33m,\u001b[0m \u001b[0maxis\u001b[0m\u001b[1;33m=\u001b[0m\u001b[1;36m0\u001b[0m\u001b[1;33m)\u001b[0m\u001b[1;33m\u001b[0m\u001b[0m\n\u001b[0;32m   2725\u001b[0m         \u001b[1;32melse\u001b[0m\u001b[1;33m:\u001b[0m\u001b[1;33m\u001b[0m\u001b[0m\n\u001b[1;32m-> 2726\u001b[1;33m             \u001b[0mindexer\u001b[0m \u001b[1;33m=\u001b[0m \u001b[0mself\u001b[0m\u001b[1;33m.\u001b[0m\u001b[0mloc\u001b[0m\u001b[1;33m.\u001b[0m\u001b[0m_convert_to_indexer\u001b[0m\u001b[1;33m(\u001b[0m\u001b[0mkey\u001b[0m\u001b[1;33m,\u001b[0m \u001b[0maxis\u001b[0m\u001b[1;33m=\u001b[0m\u001b[1;36m1\u001b[0m\u001b[1;33m)\u001b[0m\u001b[1;33m\u001b[0m\u001b[0m\n\u001b[0m\u001b[0;32m   2727\u001b[0m             \u001b[1;32mreturn\u001b[0m \u001b[0mself\u001b[0m\u001b[1;33m.\u001b[0m\u001b[0m_take\u001b[0m\u001b[1;33m(\u001b[0m\u001b[0mindexer\u001b[0m\u001b[1;33m,\u001b[0m \u001b[0maxis\u001b[0m\u001b[1;33m=\u001b[0m\u001b[1;36m1\u001b[0m\u001b[1;33m)\u001b[0m\u001b[1;33m\u001b[0m\u001b[0m\n\u001b[0;32m   2728\u001b[0m \u001b[1;33m\u001b[0m\u001b[0m\n",
      "\u001b[1;32m~\\AppData\\Local\\Continuum\\anaconda3\\lib\\site-packages\\pandas\\core\\indexing.py\u001b[0m in \u001b[0;36m_convert_to_indexer\u001b[1;34m(self, obj, axis, is_setter)\u001b[0m\n\u001b[0;32m   1325\u001b[0m                 \u001b[1;32mif\u001b[0m \u001b[0mmask\u001b[0m\u001b[1;33m.\u001b[0m\u001b[0many\u001b[0m\u001b[1;33m(\u001b[0m\u001b[1;33m)\u001b[0m\u001b[1;33m:\u001b[0m\u001b[1;33m\u001b[0m\u001b[0m\n\u001b[0;32m   1326\u001b[0m                     raise KeyError('{mask} not in index'\n\u001b[1;32m-> 1327\u001b[1;33m                                    .format(mask=objarr[mask]))\n\u001b[0m\u001b[0;32m   1328\u001b[0m \u001b[1;33m\u001b[0m\u001b[0m\n\u001b[0;32m   1329\u001b[0m                 \u001b[1;32mreturn\u001b[0m \u001b[0mcom\u001b[0m\u001b[1;33m.\u001b[0m\u001b[0m_values_from_object\u001b[0m\u001b[1;33m(\u001b[0m\u001b[0mindexer\u001b[0m\u001b[1;33m)\u001b[0m\u001b[1;33m\u001b[0m\u001b[0m\n",
      "\u001b[1;31mKeyError\u001b[0m: \"['cod_cia' '1.00.00.00.00.00.00.00' '1.01.00.00.00.00.00.00'\\n '1.02.00.00.00.00.00.00' '1.03.00.00.00.00.00.00'\\n '1.04.00.00.00.00.00.00' '1.05.00.00.00.00.00.00'\\n '1.06.00.00.00.00.00.00' '2.00.00.00.00.00.00.00'\\n '2.01.00.00.00.00.00.00' '2.02.00.00.00.00.00.00'\\n '2.03.00.00.00.00.00.00' '2.04.00.00.00.00.00.00'\\n '3.00.00.00.00.00.00.00' '3.02.00.00.00.00.00.00'\\n '3.03.00.00.00.00.00.00' '3.04.00.00.00.00.00.00'\\n '3.05.00.00.00.00.00.00'] not in index\""
     ]
    }
   ],
   "source": [
    "data = data[cuentas]\n",
    "data.head()"
   ]
  },
  {
   "cell_type": "code",
   "execution_count": null,
   "metadata": {
    "collapsed": true
   },
   "outputs": [],
   "source": []
  },
  {
   "cell_type": "code",
   "execution_count": null,
   "metadata": {
    "collapsed": true
   },
   "outputs": [],
   "source": [
    "# Quito outliers\n",
    "data=data[(data['cod_cia']!=389)&(data['cod_cia']!=241)&(data['cod_cia']!=248)]\n",
    "\n",
    "# Quito cia: LIDERAR MOTOS QUE NO EMITE HACE 3 MESES\n",
    "\n",
    "data = data[(data['cod_cia']!=858)]"
   ]
  },
  {
   "cell_type": "code",
   "execution_count": null,
   "metadata": {
    "collapsed": true
   },
   "outputs": [],
   "source": [
    "data.columns"
   ]
  },
  {
   "cell_type": "markdown",
   "metadata": {},
   "source": [
    "### Dataset Automotor"
   ]
  },
  {
   "cell_type": "code",
   "execution_count": null,
   "metadata": {
    "collapsed": true
   },
   "outputs": [],
   "source": [
    "data_autom= data.copy()\n",
    "\n",
    "# Me quedo a parte con la columna de compañias\n",
    "cias_autom = data_autom['cod_cia'].copy()\n",
    "\n",
    "# Filtro todo lo que no sea indicadores\n",
    "data_autom = data_autom.iloc[:, 3:]\n",
    "\n",
    "data_autom = data_autom.replace(to_replace=np.nan, value=0)\n",
    "\n",
    "data_autom = data_autom.astype(np.float64)"
   ]
  },
  {
   "cell_type": "code",
   "execution_count": null,
   "metadata": {
    "collapsed": true
   },
   "outputs": [],
   "source": [
    "# Cantidad de Filas + Cantidad de Columnas\n",
    "\n",
    "data_autom.shape"
   ]
  },
  {
   "cell_type": "markdown",
   "metadata": {},
   "source": [
    "### Normalización"
   ]
  },
  {
   "cell_type": "code",
   "execution_count": null,
   "metadata": {
    "collapsed": true
   },
   "outputs": [],
   "source": [
    "# Metodo máximo minimo\n",
    "\n",
    "data_autom_norm = pd.DataFrame()\n",
    "\n",
    "for i in data_autom.columns:\n",
    "    data_autom_norm[i] = (data_autom[i] - data_autom[i].min()) /(data_autom[i].max() - data_autom[i].min())\n",
    "    \n",
    "#data_autom_norm = (data_autom - data_autom.min()) /(data_autom.max() - data_autom.min())"
   ]
  },
  {
   "cell_type": "code",
   "execution_count": null,
   "metadata": {
    "collapsed": true
   },
   "outputs": [],
   "source": [
    "data_autom_norm.head()"
   ]
  },
  {
   "cell_type": "code",
   "execution_count": null,
   "metadata": {
    "collapsed": true
   },
   "outputs": [],
   "source": [
    "# Me quedo con los indicadores raíz\n",
    "\n",
    "autom_model = data_autom_norm.copy()"
   ]
  },
  {
   "cell_type": "code",
   "execution_count": null,
   "metadata": {
    "collapsed": true
   },
   "outputs": [],
   "source": [
    "autom_model = autom_model.replace(to_replace=np.nan, value=0)\n",
    "\n",
    "autom_model = autom_model.astype(np.float64)"
   ]
  },
  {
   "cell_type": "markdown",
   "metadata": {},
   "source": [
    "### Modelo Clustering"
   ]
  },
  {
   "cell_type": "markdown",
   "metadata": {},
   "source": [
    "#### Método del codo (Elbow Method)\n",
    "Este método utiliza los valores de la inercia obtenidos tras aplicar el K-means a diferente número de Clusters (desde 1 a N Clusters), siendo la inercia la suma de las distancias al cuadrado de cada objeto del Cluster a su centroide:\n",
    "\n",
    "<img src=https://jarroba.com/wp-content/uploads/2016/05/kmeans_inercia_jarroba.png>\n",
    "\n",
    "Una vez obtenidos los valores de la inercia tras aplicar el K-means de 1 a N Clusters, representamos en una gráfica lineal la inercia respecto del número de Clusters. En esta gráfica se debería de apreciar un cambio brusco en la evolución de la inercia, teniendo la línea representada una forma similar a la de un brazo y su codo. El punto en el que se observa ese cambio brusco en la inercia nos dirá el número óptimo de Clusters a seleccionar para ese data set; o dicho de otra manera: el punto que representaría al codo del brazo será el número óptimo de Clusters para ese data set."
   ]
  },
  {
   "cell_type": "code",
   "execution_count": null,
   "metadata": {
    "collapsed": true
   },
   "outputs": [],
   "source": [
    "X = pd.DataFrame(autom_model).values\n",
    "\n",
    "max_k = 10 \n",
    "K = range(1,max_k)\n",
    "ssw = []\n",
    "centroid = [sum(X)/len(X) for i in K]\n",
    "sst = sum(np.min(cdist(X, centroid, 'euclidean'), axis = 1))\n",
    "\n",
    "\n",
    "for k in K:\n",
    "    kmeanModel = KMeans(n_clusters=k).fit(X)\n",
    "    \n",
    "    centers = pd.DataFrame(kmeanModel.cluster_centers_)\n",
    "    labels = kmeanModel.labels_\n",
    "    \n",
    "    ssw_k = sum(np.min(cdist(X, kmeanModel.cluster_centers_, \"euclidean\"), axis = 1))\n",
    "    ssw.append(ssw_k)"
   ]
  },
  {
   "cell_type": "code",
   "execution_count": null,
   "metadata": {
    "collapsed": true,
    "scrolled": true
   },
   "outputs": [],
   "source": [
    "#Representación del codo\n",
    "plt.plot(K, ssw, \"bx-\")\n",
    "plt.xlabel(\"k\")\n",
    "plt.ylabel(\"SSw(k)\")\n",
    "plt.title(\"La técnica del codo para encontrar el k óptimo\")\n",
    "plt.show()"
   ]
  },
  {
   "cell_type": "markdown",
   "metadata": {},
   "source": [
    "#### K Means"
   ]
  },
  {
   "cell_type": "code",
   "execution_count": null,
   "metadata": {
    "collapsed": true
   },
   "outputs": [],
   "source": [
    "# Defino la cantidad de Clusters\n",
    "n_clusters=5\n",
    "\n",
    "# Defino el modelo\n",
    "kmeans = KMeans(n_clusters=n_clusters, random_state=0)\n",
    "\n",
    "# Aplico el modelo al dataset\n",
    "clusters = kmeans.fit_predict(autom_model)\n",
    "\n",
    "# Visualizo la candidad de clusters y centroides\n",
    "kmeans.cluster_centers_.shape"
   ]
  },
  {
   "cell_type": "code",
   "execution_count": null,
   "metadata": {
    "collapsed": true
   },
   "outputs": [],
   "source": [
    "# Visualizo el array de clusters\n",
    "clusters"
   ]
  },
  {
   "cell_type": "code",
   "execution_count": null,
   "metadata": {
    "collapsed": true
   },
   "outputs": [],
   "source": [
    "# Visualizo las etiquetas del modelo \n",
    "\n",
    "kmeans.labels_"
   ]
  },
  {
   "cell_type": "code",
   "execution_count": null,
   "metadata": {
    "collapsed": true
   },
   "outputs": [],
   "source": [
    "# Convierto las etiquetas en una serie \n",
    "\n",
    "md_k = pd.Series(kmeans.labels_)"
   ]
  },
  {
   "cell_type": "code",
   "execution_count": null,
   "metadata": {
    "collapsed": true
   },
   "outputs": [],
   "source": [
    "# Genero el dataset con los indicadores, los clusters y la compañía para poder identificarlas \n",
    "\n",
    "Autom_CM = autom_model.copy()\n",
    "Autom_CM[\"clust_k\"] = md_k\n",
    "Autom_CM['cod_cia'] = cias_autom\n",
    "\n",
    "Autom_CM.head()"
   ]
  },
  {
   "cell_type": "code",
   "execution_count": null,
   "metadata": {
    "collapsed": true
   },
   "outputs": [],
   "source": [
    "# Veo la frecuencia de los clusters\n",
    "\n",
    "plt.hist(md_k)"
   ]
  },
  {
   "cell_type": "code",
   "execution_count": null,
   "metadata": {
    "collapsed": true
   },
   "outputs": [],
   "source": [
    "# Agrego la denominación de la compañía\n",
    "\n",
    "den_corta = pd.read_excel(r'C:\\Users\\eangenello\\Desktop\\PYTHON\\input\\ART\\Dataset_Compañías.xlsx', usecols='A,B')\n",
    "\n",
    "Autom_CM = Autom_CM.merge(den_corta, how='left', on=['cod_cia'])\n",
    "\n",
    "Autom_CM.head()"
   ]
  },
  {
   "cell_type": "code",
   "execution_count": null,
   "metadata": {
    "collapsed": true
   },
   "outputs": [],
   "source": [
    "# Exporto Dataset\n",
    "\n",
    "Autom_CM.to_excel(r'C:\\Users\\eangenello\\Desktop\\PYTHON\\output\\Cluster Automotor.xlsx', sheet_name='Autom', index=False)"
   ]
  },
  {
   "cell_type": "markdown",
   "metadata": {},
   "source": [
    "### PCA para graficar"
   ]
  },
  {
   "cell_type": "markdown",
   "metadata": {},
   "source": [
    "#### Variabilidad a representar"
   ]
  },
  {
   "cell_type": "code",
   "execution_count": null,
   "metadata": {
    "collapsed": true,
    "scrolled": false
   },
   "outputs": [],
   "source": [
    "pca = sklearnPCA().fit(autom_model)\n",
    "plt.plot(np.cumsum(pca.explained_variance_ratio_))\n",
    "plt.xlabel('cantidad de componentes')\n",
    "plt.ylabel('varianza explicada acumulada')"
   ]
  },
  {
   "cell_type": "code",
   "execution_count": null,
   "metadata": {
    "collapsed": true
   },
   "outputs": [],
   "source": [
    "pca_eval = sklearnPCA(0.80).fit(autom_model)\n",
    "pca_eval.n_components_"
   ]
  },
  {
   "cell_type": "markdown",
   "metadata": {},
   "source": [
    "#### Aplico PCA"
   ]
  },
  {
   "cell_type": "code",
   "execution_count": null,
   "metadata": {
    "collapsed": true
   },
   "outputs": [],
   "source": [
    "# Defino la cantidad de componentes\n",
    "pca = sklearnPCA(n_components=2)\n",
    "\n",
    "# Aplico el modelo al dataset\n",
    "principalComponents = pca.fit_transform(autom_model)"
   ]
  },
  {
   "cell_type": "code",
   "execution_count": null,
   "metadata": {
    "collapsed": true
   },
   "outputs": [],
   "source": [
    "# Convierto las componentes principales en un dataframe\n",
    "\n",
    "principalDf = pd.DataFrame(data = principalComponents, columns = ['Principal componente 1', 'Principal componente 2'])"
   ]
  },
  {
   "cell_type": "code",
   "execution_count": null,
   "metadata": {
    "collapsed": true,
    "scrolled": true
   },
   "outputs": [],
   "source": [
    "principalDf.head()"
   ]
  },
  {
   "cell_type": "markdown",
   "metadata": {},
   "source": [
    "#### Pesos de las componentes principales"
   ]
  },
  {
   "cell_type": "code",
   "execution_count": null,
   "metadata": {
    "collapsed": true,
    "scrolled": true
   },
   "outputs": [],
   "source": [
    "i = np.identity(autom_model.shape[1])\n",
    "i"
   ]
  },
  {
   "cell_type": "code",
   "execution_count": null,
   "metadata": {
    "collapsed": true,
    "scrolled": true
   },
   "outputs": [],
   "source": [
    "coef = pca.transform(i)\n",
    "coef"
   ]
  },
  {
   "cell_type": "code",
   "execution_count": null,
   "metadata": {
    "collapsed": true,
    "scrolled": true
   },
   "outputs": [],
   "source": [
    "pd.DataFrame(coef, columns=['PC-1', 'PC-2'], index=autom_model.columns)"
   ]
  },
  {
   "cell_type": "markdown",
   "metadata": {},
   "source": [
    "#### Visualización de los clusters"
   ]
  },
  {
   "cell_type": "code",
   "execution_count": null,
   "metadata": {
    "collapsed": true,
    "scrolled": false
   },
   "outputs": [],
   "source": [
    "# Le agrego el cluster definido previamente \n",
    "finalDf = pd.concat([principalDf, Autom_CM['clust_k']] , axis = 1)\n",
    "finalDf.head()"
   ]
  },
  {
   "cell_type": "code",
   "execution_count": null,
   "metadata": {
    "collapsed": true
   },
   "outputs": [],
   "source": [
    "sorted(finalDf['clust_k'].unique())"
   ]
  },
  {
   "cell_type": "code",
   "execution_count": null,
   "metadata": {
    "collapsed": true,
    "scrolled": false
   },
   "outputs": [],
   "source": [
    "# Grafico\n",
    "\n",
    "fig = plt.figure(figsize = (6,6))\n",
    "ax = fig.add_subplot(1,1,1) \n",
    "ax.set_xlabel('Principal Componente 1', fontsize = 12)\n",
    "ax.set_ylabel('Principal Componente 2', fontsize = 12)\n",
    "ax.set_title('2 Componentes PCA', fontsize = 15)\n",
    "\n",
    "\n",
    "targets = sorted(finalDf['clust_k'].unique())\n",
    "colors = ['r', 'g', 'b', 'k', 'c']\n",
    "\n",
    "for target, color in zip(targets,colors):\n",
    "    indicesToKeep = finalDf['clust_k'] == target\n",
    "    ax.scatter(finalDf.loc[indicesToKeep, 'Principal componente 1']\n",
    "               , finalDf.loc[indicesToKeep, 'Principal componente 2']\n",
    "               , c = color\n",
    "               , s = 50)\n",
    "ax.legend(targets)\n",
    "ax.grid()"
   ]
  },
  {
   "cell_type": "markdown",
   "metadata": {},
   "source": [
    "#### Jerárquico"
   ]
  },
  {
   "cell_type": "code",
   "execution_count": null,
   "metadata": {
    "collapsed": true
   },
   "outputs": [],
   "source": [
    "autom_model.head()"
   ]
  },
  {
   "cell_type": "code",
   "execution_count": null,
   "metadata": {
    "collapsed": true
   },
   "outputs": [],
   "source": [
    "aut_col= Autom_CM.drop({'clust_k', 'cod_cia'},1)\n",
    "aut_col=aut_col.columns\n",
    "aut_col"
   ]
  },
  {
   "cell_type": "code",
   "execution_count": null,
   "metadata": {
    "collapsed": true
   },
   "outputs": [],
   "source": [
    "Autom_MJ= Autom_CM[aut_col]\n",
    "Autom_MJ.head()"
   ]
  },
  {
   "cell_type": "code",
   "execution_count": null,
   "metadata": {
    "collapsed": true,
    "scrolled": true
   },
   "outputs": [],
   "source": [
    "Autom_MJ= Autom_MJ.set_index('denominacion_corta')\n",
    "Autom_MJ.head()"
   ]
  },
  {
   "cell_type": "code",
   "execution_count": null,
   "metadata": {
    "collapsed": true
   },
   "outputs": [],
   "source": [
    "# se unen los dos clusters para los cuales se tenga el menor incremento en el valor total de la suma de los cuadrados de \n",
    "# las diferencias, dentro de cada cluster, de cada individuo al centroide del cluster\n",
    "\n",
    "Z = linkage(Autom_MJ, method=\"ward\")\n",
    "Z\n",
    "plt.figure(figsize=(40,10))\n",
    "plt.title(\"Dendrograma jerárquico para el Clustering\")\n",
    "plt.xlabel(\"Companía\")\n",
    "plt.ylabel(\"Distancia\")\n",
    "dendrogram(Z, labels=Autom_MJ.index, leaf_rotation=90., leaf_font_size=10.0, color_threshold=0.30*5.84)\n",
    "\n",
    "#color_threshold: puedo establecer un umbral a partir del cual pintar los cluster\n",
    "\n",
    "plt.savefig(r'C:\\Users\\eangenello\\Desktop\\d.png')\n",
    "plt.show()"
   ]
  },
  {
   "cell_type": "code",
   "execution_count": null,
   "metadata": {
    "collapsed": true
   },
   "outputs": [],
   "source": [
    "Z[-4:,]"
   ]
  },
  {
   "cell_type": "code",
   "execution_count": null,
   "metadata": {
    "collapsed": true
   },
   "outputs": [],
   "source": []
  },
  {
   "cell_type": "code",
   "execution_count": null,
   "metadata": {
    "collapsed": true
   },
   "outputs": [],
   "source": []
  },
  {
   "cell_type": "code",
   "execution_count": null,
   "metadata": {
    "collapsed": true
   },
   "outputs": [],
   "source": []
  },
  {
   "cell_type": "code",
   "execution_count": null,
   "metadata": {
    "collapsed": true
   },
   "outputs": [],
   "source": []
  }
 ],
 "metadata": {
  "kernelspec": {
   "display_name": "Python 3",
   "language": "python",
   "name": "python3"
  },
  "language_info": {
   "codemirror_mode": {
    "name": "ipython",
    "version": 3
   },
   "file_extension": ".py",
   "mimetype": "text/x-python",
   "name": "python",
   "nbconvert_exporter": "python",
   "pygments_lexer": "ipython3",
   "version": "3.6.3"
  }
 },
 "nbformat": 4,
 "nbformat_minor": 2
}
