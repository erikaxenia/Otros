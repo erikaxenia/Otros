{
 "cells": [
  {
   "cell_type": "markdown",
   "metadata": {},
   "source": [
    "## MATRIZ DE RIESGO - CLUSTERING"
   ]
  },
  {
   "cell_type": "code",
   "execution_count": 100,
   "metadata": {
    "collapsed": true
   },
   "outputs": [],
   "source": [
    "import pandas as pd\n",
    "import numpy.random as rnd\n",
    "import numpy as np\n",
    "\n",
    "# Cluster \n",
    "from scipy.spatial import distance_matrix\n",
    "from scipy.cluster.vq import vq, kmeans\n",
    "from scipy.spatial.distance import cdist\n",
    "from sklearn.cluster import AffinityPropagation\n",
    "from sklearn import metrics\n",
    "from sklearn.datasets.samples_generator import make_blobs\n",
    "from sklearn.cluster import KMeans\n",
    "from scipy.cluster.hierarchy import dendrogram, linkage\n",
    "\n",
    "# PCA\n",
    "from sklearn.preprocessing import StandardScaler\n",
    "from sklearn.decomposition import PCA as sklearnPCA\n",
    "from sklearn import decomposition\n",
    "from sklearn import preprocessing\n",
    "\n",
    "# Graficas\n",
    "import matplotlib.pyplot as plt\n",
    "from mpl_toolkits.mplot3d import Axes3D\n",
    "from itertools import cycle\n",
    "import seaborn as sns\n",
    "\n",
    "%matplotlib inline\n",
    "\n",
    "pd.options.display.float_format = '{:,.3f}'.format\n",
    "plt.rcParams['figure.figsize'] = (7, 5)"
   ]
  },
  {
   "cell_type": "code",
   "execution_count": 101,
   "metadata": {
    "collapsed": true
   },
   "outputs": [],
   "source": [
    "data = pd.read_excel(r'C:\\Users\\eangenello\\Desktop\\PYTHON\\input\\MATRIZ\\Indicadores Matriz de Riesgo.xlsx')"
   ]
  },
  {
   "cell_type": "code",
   "execution_count": 102,
   "metadata": {},
   "outputs": [
    {
     "data": {
      "text/html": [
       "<div>\n",
       "<style scoped>\n",
       "    .dataframe tbody tr th:only-of-type {\n",
       "        vertical-align: middle;\n",
       "    }\n",
       "\n",
       "    .dataframe tbody tr th {\n",
       "        vertical-align: top;\n",
       "    }\n",
       "\n",
       "    .dataframe thead th {\n",
       "        text-align: right;\n",
       "    }\n",
       "</style>\n",
       "<table border=\"1\" class=\"dataframe\">\n",
       "  <thead>\n",
       "    <tr style=\"text-align: right;\">\n",
       "      <th></th>\n",
       "      <th>Segmento</th>\n",
       "      <th>Cod Cia</th>\n",
       "      <th>DenominacionCorta</th>\n",
       "      <th>periodo</th>\n",
       "      <th>ind_01</th>\n",
       "      <th>num_Ind_01</th>\n",
       "      <th>den_Ind_01</th>\n",
       "      <th>ind_02</th>\n",
       "      <th>num_Ind_02</th>\n",
       "      <th>den_Ind_02</th>\n",
       "      <th>...</th>\n",
       "      <th>den_Ind_40</th>\n",
       "      <th>ind_41</th>\n",
       "      <th>num_Ind_41</th>\n",
       "      <th>den_Ind_41</th>\n",
       "      <th>ind_42</th>\n",
       "      <th>num_Ind_42</th>\n",
       "      <th>den_Ind_42</th>\n",
       "      <th>ind_43</th>\n",
       "      <th>num_Ind_43</th>\n",
       "      <th>den_Ind_43</th>\n",
       "    </tr>\n",
       "  </thead>\n",
       "  <tbody>\n",
       "    <tr>\n",
       "      <th>0</th>\n",
       "      <td>Personas_s/RM</td>\n",
       "      <td>822</td>\n",
       "      <td>INSTITUTO DE JUJUY</td>\n",
       "      <td>2012-2</td>\n",
       "      <td>-0</td>\n",
       "      <td>0.000</td>\n",
       "      <td>3.000</td>\n",
       "      <td>-0</td>\n",
       "      <td>0.000</td>\n",
       "      <td>3.000</td>\n",
       "      <td>...</td>\n",
       "      <td>0.000</td>\n",
       "      <td>387,69097668131125380196012166</td>\n",
       "      <td>5735888</td>\n",
       "      <td>14795</td>\n",
       "      <td>15085,8958333333</td>\n",
       "      <td>724,123.000</td>\n",
       "      <td>48.000</td>\n",
       "      <td>15085,8958333333</td>\n",
       "      <td>724,123.000</td>\n",
       "      <td>48.000</td>\n",
       "    </tr>\n",
       "    <tr>\n",
       "      <th>1</th>\n",
       "      <td>Patrimoniales_Mixtas</td>\n",
       "      <td>823</td>\n",
       "      <td>IÚNIGO</td>\n",
       "      <td>2012-2</td>\n",
       "      <td>-0</td>\n",
       "      <td>0.000</td>\n",
       "      <td>3,665,705.000</td>\n",
       "      <td>-0</td>\n",
       "      <td>0.000</td>\n",
       "      <td>3,665,705.000</td>\n",
       "      <td>...</td>\n",
       "      <td>0.000</td>\n",
       "      <td>74,16577861587392932931184199</td>\n",
       "      <td>14434218</td>\n",
       "      <td>194621</td>\n",
       "      <td>0,672766652474309</td>\n",
       "      <td>3,288,219.000</td>\n",
       "      <td>4,887,607.000</td>\n",
       "      <td>0,672766652474309</td>\n",
       "      <td>3,288,219.000</td>\n",
       "      <td>4,887,607.000</td>\n",
       "    </tr>\n",
       "    <tr>\n",
       "      <th>2</th>\n",
       "      <td>Automotores</td>\n",
       "      <td>2</td>\n",
       "      <td>SMG</td>\n",
       "      <td>2012-3</td>\n",
       "      <td>0,146802925879989</td>\n",
       "      <td>41,770,748.000</td>\n",
       "      <td>284,536,209.000</td>\n",
       "      <td>0,139001427483297</td>\n",
       "      <td>8,058,769.000</td>\n",
       "      <td>57,976,160.000</td>\n",
       "      <td>...</td>\n",
       "      <td>nan</td>\n",
       "      <td>0,5918434595360580881707175794</td>\n",
       "      <td>33452221</td>\n",
       "      <td>56522076</td>\n",
       "      <td>0,421782094960691</td>\n",
       "      <td>54,141,183.000</td>\n",
       "      <td>128,362,924.000</td>\n",
       "      <td>0,47388384323878</td>\n",
       "      <td>46,894,994.000</td>\n",
       "      <td>98,958,837.000</td>\n",
       "    </tr>\n",
       "    <tr>\n",
       "      <th>3</th>\n",
       "      <td>Personas_s/RM</td>\n",
       "      <td>6</td>\n",
       "      <td>SURCO</td>\n",
       "      <td>2012-3</td>\n",
       "      <td>5,28517543245643E-02</td>\n",
       "      <td>1,023,863.000</td>\n",
       "      <td>19,372,356.000</td>\n",
       "      <td>NaN</td>\n",
       "      <td>nan</td>\n",
       "      <td>5,284,657.000</td>\n",
       "      <td>...</td>\n",
       "      <td>nan</td>\n",
       "      <td>318,61462722769224444490123127</td>\n",
       "      <td>31000566</td>\n",
       "      <td>97298</td>\n",
       "      <td>0,372488110469793</td>\n",
       "      <td>9,516,993.000</td>\n",
       "      <td>25,549,790.000</td>\n",
       "      <td>0,376081738996534</td>\n",
       "      <td>9,510,393.000</td>\n",
       "      <td>25,288,101.000</td>\n",
       "    </tr>\n",
       "    <tr>\n",
       "      <th>4</th>\n",
       "      <td>Patrimoniales_Mixtas</td>\n",
       "      <td>7</td>\n",
       "      <td>CAMINOS PROTEGIDOS</td>\n",
       "      <td>2012-3</td>\n",
       "      <td>-0</td>\n",
       "      <td>0.000</td>\n",
       "      <td>6,515,693.000</td>\n",
       "      <td>-0</td>\n",
       "      <td>0.000</td>\n",
       "      <td>2,733,053.000</td>\n",
       "      <td>...</td>\n",
       "      <td>0.000</td>\n",
       "      <td>78,684587253461694745725627481</td>\n",
       "      <td>27690916</td>\n",
       "      <td>351923</td>\n",
       "      <td>0,161439910008841</td>\n",
       "      <td>627,453.000</td>\n",
       "      <td>3,886,604.000</td>\n",
       "      <td>0,166781140703654</td>\n",
       "      <td>627,453.000</td>\n",
       "      <td>3,762,134.000</td>\n",
       "    </tr>\n",
       "  </tbody>\n",
       "</table>\n",
       "<p>5 rows × 130 columns</p>\n",
       "</div>"
      ],
      "text/plain": [
       "               Segmento  Cod Cia   DenominacionCorta periodo  \\\n",
       "0         Personas_s/RM      822  INSTITUTO DE JUJUY  2012-2   \n",
       "1  Patrimoniales_Mixtas      823              IÚNIGO  2012-2   \n",
       "2           Automotores        2                 SMG  2012-3   \n",
       "3         Personas_s/RM        6               SURCO  2012-3   \n",
       "4  Patrimoniales_Mixtas        7  CAMINOS PROTEGIDOS  2012-3   \n",
       "\n",
       "                 ind_01     num_Ind_01      den_Ind_01             ind_02  \\\n",
       "0                    -0          0.000           3.000                 -0   \n",
       "1                    -0          0.000   3,665,705.000                 -0   \n",
       "2     0,146802925879989 41,770,748.000 284,536,209.000  0,139001427483297   \n",
       "3  5,28517543245643E-02  1,023,863.000  19,372,356.000                NaN   \n",
       "4                    -0          0.000   6,515,693.000                 -0   \n",
       "\n",
       "     num_Ind_02     den_Ind_02      ...       den_Ind_40  \\\n",
       "0         0.000          3.000      ...            0.000   \n",
       "1         0.000  3,665,705.000      ...            0.000   \n",
       "2 8,058,769.000 57,976,160.000      ...              nan   \n",
       "3           nan  5,284,657.000      ...              nan   \n",
       "4         0.000  2,733,053.000      ...            0.000   \n",
       "\n",
       "                           ind_41  num_Ind_41 den_Ind_41             ind_42  \\\n",
       "0  387,69097668131125380196012166     5735888      14795   15085,8958333333   \n",
       "1   74,16577861587392932931184199    14434218     194621  0,672766652474309   \n",
       "2  0,5918434595360580881707175794    33452221   56522076  0,421782094960691   \n",
       "3  318,61462722769224444490123127    31000566      97298  0,372488110469793   \n",
       "4  78,684587253461694745725627481    27690916     351923  0,161439910008841   \n",
       "\n",
       "      num_Ind_42      den_Ind_42             ind_43     num_Ind_43  \\\n",
       "0    724,123.000          48.000   15085,8958333333    724,123.000   \n",
       "1  3,288,219.000   4,887,607.000  0,672766652474309  3,288,219.000   \n",
       "2 54,141,183.000 128,362,924.000   0,47388384323878 46,894,994.000   \n",
       "3  9,516,993.000  25,549,790.000  0,376081738996534  9,510,393.000   \n",
       "4    627,453.000   3,886,604.000  0,166781140703654    627,453.000   \n",
       "\n",
       "      den_Ind_43  \n",
       "0         48.000  \n",
       "1  4,887,607.000  \n",
       "2 98,958,837.000  \n",
       "3 25,288,101.000  \n",
       "4  3,762,134.000  \n",
       "\n",
       "[5 rows x 130 columns]"
      ]
     },
     "execution_count": 102,
     "metadata": {},
     "output_type": "execute_result"
    }
   ],
   "source": [
    "data.head()"
   ]
  },
  {
   "cell_type": "code",
   "execution_count": 103,
   "metadata": {
    "collapsed": true
   },
   "outputs": [],
   "source": [
    "#Filtro período\n",
    "data = data[(data.periodo=='2019-2')]\n",
    "\n",
    "# Reemplazo NA\n",
    "data = data.fillna(0)\n",
    "\n",
    "# Remplazo los \"den_cero\"\n",
    "data = data.replace(to_replace='den_cero', value=0)\n",
    "\n",
    "# Quito outliers: AGROSALTA, ARGOS, COPAN\n",
    "data=data[(data['Cod Cia']!=389)&(data['Cod Cia']!=241)&(data['Cod Cia']!=248)]\n",
    "\n",
    "# Quito cia: LIDERAR MOTOS QUE NO EMITE HACE 3 MESES\n",
    "\n",
    "data = data[(data['Cod Cia']!=858)]"
   ]
  },
  {
   "cell_type": "code",
   "execution_count": 104,
   "metadata": {
    "collapsed": true
   },
   "outputs": [],
   "source": [
    "#Filtro las columnas\n",
    "\n",
    "colum = ['Cod Cia','Segmento','ind_01','ind_02','ind_03','ind_04','ind_05','ind_06','ind_08','ind_09','ind_10','ind_11','ind_12',\n",
    "'ind_13','ind_14','ind_15','ind_16','ind_17','ind_18','ind_19','ind_20','ind_21','ind_22','ind_23','ind_24','ind_25',\n",
    "'ind_26','ind_27','ind_28','ind_29','ind_30','ind_31','ind_32','ind_33','ind_34','ind_35','ind_36','ind_37','ind_38',\n",
    "'ind_39','ind_40','ind_41','ind_42','ind_43']\n",
    "\n",
    "data = data[colum]"
   ]
  },
  {
   "cell_type": "markdown",
   "metadata": {},
   "source": [
    "### Dataset Automotor"
   ]
  },
  {
   "cell_type": "code",
   "execution_count": 105,
   "metadata": {
    "collapsed": true
   },
   "outputs": [],
   "source": [
    "data_autom= data.copy()\n",
    "\n",
    "# Filtro ramo automotor\n",
    "data_autom= data_autom[(data_autom.Segmento=='Automotores')]\n",
    "\n",
    "# Reseteo el indice\n",
    "data_autom= data_autom.reset_index()\n",
    "\n",
    "# Me quedo a parte con la columna de compañias\n",
    "cias_autom = data_autom['Cod Cia']\n",
    "\n",
    "# Filtro todo lo que no sea indicadores\n",
    "data_autom= data_autom.iloc[:, 3:]\n",
    "\n",
    "# Quito indicadores que no se calculan para AUTOMOTORES (26, 33, 40)\n",
    "data_autom=data_autom.drop({'ind_26','ind_33', 'ind_40'}, 1)"
   ]
  },
  {
   "cell_type": "code",
   "execution_count": 106,
   "metadata": {
    "collapsed": true
   },
   "outputs": [],
   "source": [
    "# Reemplazo punto por coma y lo convierto en flotante\n",
    "\n",
    "for i in data_autom.columns:\n",
    "    data_autom[i] = data_autom[i].map(lambda x: x if isinstance(x,int) else float(x.replace(\",\",\".\")))"
   ]
  },
  {
   "cell_type": "code",
   "execution_count": 107,
   "metadata": {},
   "outputs": [
    {
     "data": {
      "text/html": [
       "<div>\n",
       "<style scoped>\n",
       "    .dataframe tbody tr th:only-of-type {\n",
       "        vertical-align: middle;\n",
       "    }\n",
       "\n",
       "    .dataframe tbody tr th {\n",
       "        vertical-align: top;\n",
       "    }\n",
       "\n",
       "    .dataframe thead th {\n",
       "        text-align: right;\n",
       "    }\n",
       "</style>\n",
       "<table border=\"1\" class=\"dataframe\">\n",
       "  <thead>\n",
       "    <tr style=\"text-align: right;\">\n",
       "      <th></th>\n",
       "      <th>ind_01</th>\n",
       "      <th>ind_02</th>\n",
       "      <th>ind_03</th>\n",
       "      <th>ind_04</th>\n",
       "      <th>ind_05</th>\n",
       "      <th>ind_06</th>\n",
       "      <th>ind_08</th>\n",
       "      <th>ind_09</th>\n",
       "      <th>ind_10</th>\n",
       "      <th>ind_11</th>\n",
       "      <th>...</th>\n",
       "      <th>ind_32</th>\n",
       "      <th>ind_34</th>\n",
       "      <th>ind_35</th>\n",
       "      <th>ind_36</th>\n",
       "      <th>ind_37</th>\n",
       "      <th>ind_38</th>\n",
       "      <th>ind_39</th>\n",
       "      <th>ind_41</th>\n",
       "      <th>ind_42</th>\n",
       "      <th>ind_43</th>\n",
       "    </tr>\n",
       "  </thead>\n",
       "  <tbody>\n",
       "    <tr>\n",
       "      <th>0</th>\n",
       "      <td>0.119</td>\n",
       "      <td>0.068</td>\n",
       "      <td>0.007</td>\n",
       "      <td>0.242</td>\n",
       "      <td>-0.034</td>\n",
       "      <td>0.846</td>\n",
       "      <td>0.000</td>\n",
       "      <td>0.232</td>\n",
       "      <td>0.000</td>\n",
       "      <td>0.050</td>\n",
       "      <td>...</td>\n",
       "      <td>1.679</td>\n",
       "      <td>0.096</td>\n",
       "      <td>0.269</td>\n",
       "      <td>0.291</td>\n",
       "      <td>1.342</td>\n",
       "      <td>0.837</td>\n",
       "      <td>0.725</td>\n",
       "      <td>2.950</td>\n",
       "      <td>0.417</td>\n",
       "      <td>0.504</td>\n",
       "    </tr>\n",
       "    <tr>\n",
       "      <th>1</th>\n",
       "      <td>0.100</td>\n",
       "      <td>0.006</td>\n",
       "      <td>0.011</td>\n",
       "      <td>0.345</td>\n",
       "      <td>-0.015</td>\n",
       "      <td>0.858</td>\n",
       "      <td>0.000</td>\n",
       "      <td>0.526</td>\n",
       "      <td>0.002</td>\n",
       "      <td>0.266</td>\n",
       "      <td>...</td>\n",
       "      <td>1.398</td>\n",
       "      <td>0.199</td>\n",
       "      <td>0.288</td>\n",
       "      <td>0.125</td>\n",
       "      <td>1.156</td>\n",
       "      <td>0.567</td>\n",
       "      <td>0.558</td>\n",
       "      <td>12.987</td>\n",
       "      <td>0.541</td>\n",
       "      <td>0.589</td>\n",
       "    </tr>\n",
       "    <tr>\n",
       "      <th>2</th>\n",
       "      <td>0.115</td>\n",
       "      <td>0.023</td>\n",
       "      <td>0.011</td>\n",
       "      <td>0.270</td>\n",
       "      <td>-0.055</td>\n",
       "      <td>0.874</td>\n",
       "      <td>0.356</td>\n",
       "      <td>0.093</td>\n",
       "      <td>0.000</td>\n",
       "      <td>0.000</td>\n",
       "      <td>...</td>\n",
       "      <td>1.637</td>\n",
       "      <td>0.297</td>\n",
       "      <td>0.209</td>\n",
       "      <td>0.129</td>\n",
       "      <td>1.195</td>\n",
       "      <td>0.612</td>\n",
       "      <td>0.585</td>\n",
       "      <td>5.675</td>\n",
       "      <td>0.537</td>\n",
       "      <td>0.583</td>\n",
       "    </tr>\n",
       "    <tr>\n",
       "      <th>3</th>\n",
       "      <td>0.234</td>\n",
       "      <td>0.233</td>\n",
       "      <td>0.010</td>\n",
       "      <td>0.225</td>\n",
       "      <td>-0.022</td>\n",
       "      <td>0.824</td>\n",
       "      <td>0.324</td>\n",
       "      <td>0.428</td>\n",
       "      <td>0.071</td>\n",
       "      <td>0.061</td>\n",
       "      <td>...</td>\n",
       "      <td>1.639</td>\n",
       "      <td>0.153</td>\n",
       "      <td>0.190</td>\n",
       "      <td>0.333</td>\n",
       "      <td>1.231</td>\n",
       "      <td>0.803</td>\n",
       "      <td>0.846</td>\n",
       "      <td>10.476</td>\n",
       "      <td>0.367</td>\n",
       "      <td>0.428</td>\n",
       "    </tr>\n",
       "    <tr>\n",
       "      <th>4</th>\n",
       "      <td>0.117</td>\n",
       "      <td>0.015</td>\n",
       "      <td>0.049</td>\n",
       "      <td>0.229</td>\n",
       "      <td>-0.030</td>\n",
       "      <td>0.781</td>\n",
       "      <td>0.441</td>\n",
       "      <td>0.627</td>\n",
       "      <td>0.002</td>\n",
       "      <td>0.161</td>\n",
       "      <td>...</td>\n",
       "      <td>1.250</td>\n",
       "      <td>0.260</td>\n",
       "      <td>0.175</td>\n",
       "      <td>0.086</td>\n",
       "      <td>1.027</td>\n",
       "      <td>0.549</td>\n",
       "      <td>0.586</td>\n",
       "      <td>8.565</td>\n",
       "      <td>0.438</td>\n",
       "      <td>0.478</td>\n",
       "    </tr>\n",
       "  </tbody>\n",
       "</table>\n",
       "<p>5 rows × 39 columns</p>\n",
       "</div>"
      ],
      "text/plain": [
       "   ind_01  ind_02  ind_03  ind_04  ind_05  ind_06  ind_08  ind_09  ind_10  \\\n",
       "0   0.119   0.068   0.007   0.242  -0.034   0.846   0.000   0.232   0.000   \n",
       "1   0.100   0.006   0.011   0.345  -0.015   0.858   0.000   0.526   0.002   \n",
       "2   0.115   0.023   0.011   0.270  -0.055   0.874   0.356   0.093   0.000   \n",
       "3   0.234   0.233   0.010   0.225  -0.022   0.824   0.324   0.428   0.071   \n",
       "4   0.117   0.015   0.049   0.229  -0.030   0.781   0.441   0.627   0.002   \n",
       "\n",
       "   ind_11   ...    ind_32  ind_34  ind_35  ind_36  ind_37  ind_38  ind_39  \\\n",
       "0   0.050   ...     1.679   0.096   0.269   0.291   1.342   0.837   0.725   \n",
       "1   0.266   ...     1.398   0.199   0.288   0.125   1.156   0.567   0.558   \n",
       "2   0.000   ...     1.637   0.297   0.209   0.129   1.195   0.612   0.585   \n",
       "3   0.061   ...     1.639   0.153   0.190   0.333   1.231   0.803   0.846   \n",
       "4   0.161   ...     1.250   0.260   0.175   0.086   1.027   0.549   0.586   \n",
       "\n",
       "   ind_41  ind_42  ind_43  \n",
       "0   2.950   0.417   0.504  \n",
       "1  12.987   0.541   0.589  \n",
       "2   5.675   0.537   0.583  \n",
       "3  10.476   0.367   0.428  \n",
       "4   8.565   0.438   0.478  \n",
       "\n",
       "[5 rows x 39 columns]"
      ]
     },
     "execution_count": 107,
     "metadata": {},
     "output_type": "execute_result"
    }
   ],
   "source": [
    "data_autom.head()"
   ]
  },
  {
   "cell_type": "code",
   "execution_count": 108,
   "metadata": {},
   "outputs": [
    {
     "data": {
      "text/plain": [
       "(42, 39)"
      ]
     },
     "execution_count": 108,
     "metadata": {},
     "output_type": "execute_result"
    }
   ],
   "source": [
    "# Cantidad de Filas + Cantidad de Columnas\n",
    "\n",
    "data_autom.shape"
   ]
  },
  {
   "cell_type": "markdown",
   "metadata": {},
   "source": [
    "### Normalización"
   ]
  },
  {
   "cell_type": "code",
   "execution_count": 109,
   "metadata": {
    "collapsed": true
   },
   "outputs": [],
   "source": [
    "# Metodo máximo minimo\n",
    "\n",
    "data_autom_norm = pd.DataFrame()\n",
    "\n",
    "for i in data_autom.columns:\n",
    "    data_autom_norm[i] = (data_autom[i] - data_autom[i].min()) /(data_autom[i].max() - data_autom[i].min())\n",
    "    \n",
    "#data_autom_norm = (data_autom - data_autom.min()) /(data_autom.max() - data_autom.min())"
   ]
  },
  {
   "cell_type": "code",
   "execution_count": 110,
   "metadata": {},
   "outputs": [
    {
     "data": {
      "text/html": [
       "<div>\n",
       "<style scoped>\n",
       "    .dataframe tbody tr th:only-of-type {\n",
       "        vertical-align: middle;\n",
       "    }\n",
       "\n",
       "    .dataframe tbody tr th {\n",
       "        vertical-align: top;\n",
       "    }\n",
       "\n",
       "    .dataframe thead th {\n",
       "        text-align: right;\n",
       "    }\n",
       "</style>\n",
       "<table border=\"1\" class=\"dataframe\">\n",
       "  <thead>\n",
       "    <tr style=\"text-align: right;\">\n",
       "      <th></th>\n",
       "      <th>ind_01</th>\n",
       "      <th>ind_02</th>\n",
       "      <th>ind_03</th>\n",
       "      <th>ind_04</th>\n",
       "      <th>ind_05</th>\n",
       "      <th>ind_06</th>\n",
       "      <th>ind_08</th>\n",
       "      <th>ind_09</th>\n",
       "      <th>ind_10</th>\n",
       "      <th>ind_11</th>\n",
       "      <th>...</th>\n",
       "      <th>ind_32</th>\n",
       "      <th>ind_34</th>\n",
       "      <th>ind_35</th>\n",
       "      <th>ind_36</th>\n",
       "      <th>ind_37</th>\n",
       "      <th>ind_38</th>\n",
       "      <th>ind_39</th>\n",
       "      <th>ind_41</th>\n",
       "      <th>ind_42</th>\n",
       "      <th>ind_43</th>\n",
       "    </tr>\n",
       "  </thead>\n",
       "  <tbody>\n",
       "    <tr>\n",
       "      <th>0</th>\n",
       "      <td>0.241</td>\n",
       "      <td>0.092</td>\n",
       "      <td>0.027</td>\n",
       "      <td>0.410</td>\n",
       "      <td>0.882</td>\n",
       "      <td>0.852</td>\n",
       "      <td>0.000</td>\n",
       "      <td>0.272</td>\n",
       "      <td>0.000</td>\n",
       "      <td>0.150</td>\n",
       "      <td>...</td>\n",
       "      <td>0.375</td>\n",
       "      <td>0.000</td>\n",
       "      <td>0.578</td>\n",
       "      <td>0.672</td>\n",
       "      <td>0.789</td>\n",
       "      <td>0.806</td>\n",
       "      <td>0.656</td>\n",
       "      <td>0.004</td>\n",
       "      <td>0.245</td>\n",
       "      <td>0.671</td>\n",
       "    </tr>\n",
       "    <tr>\n",
       "      <th>1</th>\n",
       "      <td>0.203</td>\n",
       "      <td>0.008</td>\n",
       "      <td>0.044</td>\n",
       "      <td>0.608</td>\n",
       "      <td>0.954</td>\n",
       "      <td>0.870</td>\n",
       "      <td>0.000</td>\n",
       "      <td>0.618</td>\n",
       "      <td>0.003</td>\n",
       "      <td>0.805</td>\n",
       "      <td>...</td>\n",
       "      <td>0.292</td>\n",
       "      <td>0.260</td>\n",
       "      <td>0.654</td>\n",
       "      <td>0.288</td>\n",
       "      <td>0.680</td>\n",
       "      <td>0.386</td>\n",
       "      <td>0.389</td>\n",
       "      <td>0.019</td>\n",
       "      <td>0.502</td>\n",
       "      <td>0.785</td>\n",
       "    </tr>\n",
       "    <tr>\n",
       "      <th>2</th>\n",
       "      <td>0.233</td>\n",
       "      <td>0.031</td>\n",
       "      <td>0.045</td>\n",
       "      <td>0.464</td>\n",
       "      <td>0.802</td>\n",
       "      <td>0.894</td>\n",
       "      <td>0.485</td>\n",
       "      <td>0.110</td>\n",
       "      <td>0.000</td>\n",
       "      <td>0.000</td>\n",
       "      <td>...</td>\n",
       "      <td>0.362</td>\n",
       "      <td>0.506</td>\n",
       "      <td>0.349</td>\n",
       "      <td>0.297</td>\n",
       "      <td>0.703</td>\n",
       "      <td>0.457</td>\n",
       "      <td>0.432</td>\n",
       "      <td>0.008</td>\n",
       "      <td>0.494</td>\n",
       "      <td>0.776</td>\n",
       "    </tr>\n",
       "    <tr>\n",
       "      <th>3</th>\n",
       "      <td>0.473</td>\n",
       "      <td>0.315</td>\n",
       "      <td>0.041</td>\n",
       "      <td>0.379</td>\n",
       "      <td>0.926</td>\n",
       "      <td>0.818</td>\n",
       "      <td>0.442</td>\n",
       "      <td>0.503</td>\n",
       "      <td>0.119</td>\n",
       "      <td>0.184</td>\n",
       "      <td>...</td>\n",
       "      <td>0.363</td>\n",
       "      <td>0.143</td>\n",
       "      <td>0.279</td>\n",
       "      <td>0.768</td>\n",
       "      <td>0.724</td>\n",
       "      <td>0.752</td>\n",
       "      <td>0.850</td>\n",
       "      <td>0.015</td>\n",
       "      <td>0.144</td>\n",
       "      <td>0.570</td>\n",
       "    </tr>\n",
       "    <tr>\n",
       "      <th>4</th>\n",
       "      <td>0.237</td>\n",
       "      <td>0.020</td>\n",
       "      <td>0.200</td>\n",
       "      <td>0.387</td>\n",
       "      <td>0.896</td>\n",
       "      <td>0.754</td>\n",
       "      <td>0.602</td>\n",
       "      <td>0.736</td>\n",
       "      <td>0.004</td>\n",
       "      <td>0.488</td>\n",
       "      <td>...</td>\n",
       "      <td>0.248</td>\n",
       "      <td>0.414</td>\n",
       "      <td>0.219</td>\n",
       "      <td>0.197</td>\n",
       "      <td>0.604</td>\n",
       "      <td>0.358</td>\n",
       "      <td>0.434</td>\n",
       "      <td>0.012</td>\n",
       "      <td>0.291</td>\n",
       "      <td>0.637</td>\n",
       "    </tr>\n",
       "  </tbody>\n",
       "</table>\n",
       "<p>5 rows × 39 columns</p>\n",
       "</div>"
      ],
      "text/plain": [
       "   ind_01  ind_02  ind_03  ind_04  ind_05  ind_06  ind_08  ind_09  ind_10  \\\n",
       "0   0.241   0.092   0.027   0.410   0.882   0.852   0.000   0.272   0.000   \n",
       "1   0.203   0.008   0.044   0.608   0.954   0.870   0.000   0.618   0.003   \n",
       "2   0.233   0.031   0.045   0.464   0.802   0.894   0.485   0.110   0.000   \n",
       "3   0.473   0.315   0.041   0.379   0.926   0.818   0.442   0.503   0.119   \n",
       "4   0.237   0.020   0.200   0.387   0.896   0.754   0.602   0.736   0.004   \n",
       "\n",
       "   ind_11   ...    ind_32  ind_34  ind_35  ind_36  ind_37  ind_38  ind_39  \\\n",
       "0   0.150   ...     0.375   0.000   0.578   0.672   0.789   0.806   0.656   \n",
       "1   0.805   ...     0.292   0.260   0.654   0.288   0.680   0.386   0.389   \n",
       "2   0.000   ...     0.362   0.506   0.349   0.297   0.703   0.457   0.432   \n",
       "3   0.184   ...     0.363   0.143   0.279   0.768   0.724   0.752   0.850   \n",
       "4   0.488   ...     0.248   0.414   0.219   0.197   0.604   0.358   0.434   \n",
       "\n",
       "   ind_41  ind_42  ind_43  \n",
       "0   0.004   0.245   0.671  \n",
       "1   0.019   0.502   0.785  \n",
       "2   0.008   0.494   0.776  \n",
       "3   0.015   0.144   0.570  \n",
       "4   0.012   0.291   0.637  \n",
       "\n",
       "[5 rows x 39 columns]"
      ]
     },
     "execution_count": 110,
     "metadata": {},
     "output_type": "execute_result"
    }
   ],
   "source": [
    "data_autom_norm.head()"
   ]
  },
  {
   "cell_type": "markdown",
   "metadata": {},
   "source": [
    "### Correlación"
   ]
  },
  {
   "cell_type": "code",
   "execution_count": 111,
   "metadata": {},
   "outputs": [
    {
     "data": {
      "text/html": [
       "<div>\n",
       "<style scoped>\n",
       "    .dataframe tbody tr th:only-of-type {\n",
       "        vertical-align: middle;\n",
       "    }\n",
       "\n",
       "    .dataframe tbody tr th {\n",
       "        vertical-align: top;\n",
       "    }\n",
       "\n",
       "    .dataframe thead th {\n",
       "        text-align: right;\n",
       "    }\n",
       "</style>\n",
       "<table border=\"1\" class=\"dataframe\">\n",
       "  <thead>\n",
       "    <tr style=\"text-align: right;\">\n",
       "      <th></th>\n",
       "      <th>ind_01</th>\n",
       "      <th>ind_02</th>\n",
       "      <th>ind_03</th>\n",
       "      <th>ind_04</th>\n",
       "      <th>ind_05</th>\n",
       "      <th>ind_06</th>\n",
       "      <th>ind_08</th>\n",
       "      <th>ind_09</th>\n",
       "      <th>ind_10</th>\n",
       "      <th>ind_11</th>\n",
       "      <th>...</th>\n",
       "      <th>ind_32</th>\n",
       "      <th>ind_34</th>\n",
       "      <th>ind_35</th>\n",
       "      <th>ind_36</th>\n",
       "      <th>ind_37</th>\n",
       "      <th>ind_38</th>\n",
       "      <th>ind_39</th>\n",
       "      <th>ind_41</th>\n",
       "      <th>ind_42</th>\n",
       "      <th>ind_43</th>\n",
       "    </tr>\n",
       "  </thead>\n",
       "  <tbody>\n",
       "    <tr>\n",
       "      <th>ind_01</th>\n",
       "      <td>1.000</td>\n",
       "      <td>0.758</td>\n",
       "      <td>0.263</td>\n",
       "      <td>0.135</td>\n",
       "      <td>-0.004</td>\n",
       "      <td>0.086</td>\n",
       "      <td>0.298</td>\n",
       "      <td>0.244</td>\n",
       "      <td>0.017</td>\n",
       "      <td>0.181</td>\n",
       "      <td>...</td>\n",
       "      <td>0.010</td>\n",
       "      <td>-0.204</td>\n",
       "      <td>-0.228</td>\n",
       "      <td>0.851</td>\n",
       "      <td>0.273</td>\n",
       "      <td>-0.172</td>\n",
       "      <td>-0.010</td>\n",
       "      <td>-0.242</td>\n",
       "      <td>-0.282</td>\n",
       "      <td>0.328</td>\n",
       "    </tr>\n",
       "    <tr>\n",
       "      <th>ind_02</th>\n",
       "      <td>0.758</td>\n",
       "      <td>1.000</td>\n",
       "      <td>0.124</td>\n",
       "      <td>0.068</td>\n",
       "      <td>0.051</td>\n",
       "      <td>0.174</td>\n",
       "      <td>0.281</td>\n",
       "      <td>0.331</td>\n",
       "      <td>-0.014</td>\n",
       "      <td>0.040</td>\n",
       "      <td>...</td>\n",
       "      <td>-0.033</td>\n",
       "      <td>-0.225</td>\n",
       "      <td>-0.209</td>\n",
       "      <td>0.723</td>\n",
       "      <td>0.144</td>\n",
       "      <td>-0.093</td>\n",
       "      <td>-0.044</td>\n",
       "      <td>-0.173</td>\n",
       "      <td>-0.283</td>\n",
       "      <td>0.170</td>\n",
       "    </tr>\n",
       "    <tr>\n",
       "      <th>ind_03</th>\n",
       "      <td>0.263</td>\n",
       "      <td>0.124</td>\n",
       "      <td>1.000</td>\n",
       "      <td>-0.002</td>\n",
       "      <td>-0.131</td>\n",
       "      <td>-0.168</td>\n",
       "      <td>0.241</td>\n",
       "      <td>0.241</td>\n",
       "      <td>-0.054</td>\n",
       "      <td>-0.055</td>\n",
       "      <td>...</td>\n",
       "      <td>0.570</td>\n",
       "      <td>0.286</td>\n",
       "      <td>-0.086</td>\n",
       "      <td>0.121</td>\n",
       "      <td>0.241</td>\n",
       "      <td>-0.250</td>\n",
       "      <td>-0.115</td>\n",
       "      <td>0.106</td>\n",
       "      <td>0.207</td>\n",
       "      <td>0.385</td>\n",
       "    </tr>\n",
       "    <tr>\n",
       "      <th>ind_04</th>\n",
       "      <td>0.135</td>\n",
       "      <td>0.068</td>\n",
       "      <td>-0.002</td>\n",
       "      <td>1.000</td>\n",
       "      <td>-0.050</td>\n",
       "      <td>0.013</td>\n",
       "      <td>-0.073</td>\n",
       "      <td>-0.074</td>\n",
       "      <td>-0.146</td>\n",
       "      <td>-0.058</td>\n",
       "      <td>...</td>\n",
       "      <td>-0.258</td>\n",
       "      <td>0.054</td>\n",
       "      <td>0.282</td>\n",
       "      <td>0.215</td>\n",
       "      <td>-0.059</td>\n",
       "      <td>-0.325</td>\n",
       "      <td>-0.279</td>\n",
       "      <td>-0.227</td>\n",
       "      <td>0.210</td>\n",
       "      <td>-0.011</td>\n",
       "    </tr>\n",
       "    <tr>\n",
       "      <th>ind_05</th>\n",
       "      <td>-0.004</td>\n",
       "      <td>0.051</td>\n",
       "      <td>-0.131</td>\n",
       "      <td>-0.050</td>\n",
       "      <td>1.000</td>\n",
       "      <td>0.391</td>\n",
       "      <td>0.087</td>\n",
       "      <td>0.010</td>\n",
       "      <td>0.116</td>\n",
       "      <td>0.048</td>\n",
       "      <td>...</td>\n",
       "      <td>-0.204</td>\n",
       "      <td>-0.121</td>\n",
       "      <td>0.335</td>\n",
       "      <td>0.046</td>\n",
       "      <td>0.210</td>\n",
       "      <td>-0.117</td>\n",
       "      <td>-0.120</td>\n",
       "      <td>0.171</td>\n",
       "      <td>0.128</td>\n",
       "      <td>0.185</td>\n",
       "    </tr>\n",
       "  </tbody>\n",
       "</table>\n",
       "<p>5 rows × 39 columns</p>\n",
       "</div>"
      ],
      "text/plain": [
       "        ind_01  ind_02  ind_03  ind_04  ind_05  ind_06  ind_08  ind_09  \\\n",
       "ind_01   1.000   0.758   0.263   0.135  -0.004   0.086   0.298   0.244   \n",
       "ind_02   0.758   1.000   0.124   0.068   0.051   0.174   0.281   0.331   \n",
       "ind_03   0.263   0.124   1.000  -0.002  -0.131  -0.168   0.241   0.241   \n",
       "ind_04   0.135   0.068  -0.002   1.000  -0.050   0.013  -0.073  -0.074   \n",
       "ind_05  -0.004   0.051  -0.131  -0.050   1.000   0.391   0.087   0.010   \n",
       "\n",
       "        ind_10  ind_11   ...    ind_32  ind_34  ind_35  ind_36  ind_37  \\\n",
       "ind_01   0.017   0.181   ...     0.010  -0.204  -0.228   0.851   0.273   \n",
       "ind_02  -0.014   0.040   ...    -0.033  -0.225  -0.209   0.723   0.144   \n",
       "ind_03  -0.054  -0.055   ...     0.570   0.286  -0.086   0.121   0.241   \n",
       "ind_04  -0.146  -0.058   ...    -0.258   0.054   0.282   0.215  -0.059   \n",
       "ind_05   0.116   0.048   ...    -0.204  -0.121   0.335   0.046   0.210   \n",
       "\n",
       "        ind_38  ind_39  ind_41  ind_42  ind_43  \n",
       "ind_01  -0.172  -0.010  -0.242  -0.282   0.328  \n",
       "ind_02  -0.093  -0.044  -0.173  -0.283   0.170  \n",
       "ind_03  -0.250  -0.115   0.106   0.207   0.385  \n",
       "ind_04  -0.325  -0.279  -0.227   0.210  -0.011  \n",
       "ind_05  -0.117  -0.120   0.171   0.128   0.185  \n",
       "\n",
       "[5 rows x 39 columns]"
      ]
     },
     "execution_count": 111,
     "metadata": {},
     "output_type": "execute_result"
    }
   ],
   "source": [
    "mat_correl = np.corrcoef(pd.DataFrame.transpose(data_autom))\n",
    "\n",
    "col=['ind_01', 'ind_02', 'ind_03', 'ind_04', 'ind_05', 'ind_06', 'ind_08',\n",
    "       'ind_09', 'ind_10', 'ind_11', 'ind_12', 'ind_13', 'ind_14', 'ind_15',\n",
    "       'ind_16', 'ind_17', 'ind_18', 'ind_19', 'ind_20', 'ind_21', 'ind_22',\n",
    "       'ind_23', 'ind_24', 'ind_25', 'ind_27', 'ind_28', 'ind_29', 'ind_30',\n",
    "       'ind_31', 'ind_32', 'ind_34', 'ind_35', 'ind_36', 'ind_37', 'ind_38',\n",
    "       'ind_39', 'ind_41', 'ind_42', 'ind_43']\n",
    "\n",
    "mat_correl = pd.DataFrame(mat_correl, columns=col , index=col)\n",
    "mat_correl.head()"
   ]
  },
  {
   "cell_type": "code",
   "execution_count": 112,
   "metadata": {
    "collapsed": true,
    "scrolled": true
   },
   "outputs": [],
   "source": [
    "#mat_correl.to_excel(r'output\\Correlación.xlsx')"
   ]
  },
  {
   "cell_type": "code",
   "execution_count": 113,
   "metadata": {
    "collapsed": true
   },
   "outputs": [],
   "source": [
    "# Quito los indicadores correlacionados por más del 85%\n",
    "\n",
    "# 'ind_27','ind_29','ind_25','ind_39','ind_42','ind_43','ind_39'\n",
    "\n",
    "#autom_model = data_autom_norm.drop({'ind_27','ind_29','ind_25','ind_39','ind_42','ind_43','ind_39'},1)"
   ]
  },
  {
   "cell_type": "code",
   "execution_count": 114,
   "metadata": {
    "collapsed": true
   },
   "outputs": [],
   "source": [
    "# Me quedo con los indicadores raíz\n",
    "\n",
    "autom_model = data_autom_norm[['ind_04','ind_20','ind_22','ind_19', 'ind_36']]"
   ]
  },
  {
   "cell_type": "markdown",
   "metadata": {},
   "source": [
    "### Modelo Clustering"
   ]
  },
  {
   "cell_type": "markdown",
   "metadata": {},
   "source": [
    "#### Método del codo (Elbow Method)\n",
    "Este método utiliza los valores de la inercia obtenidos tras aplicar el K-means a diferente número de Clusters (desde 1 a N Clusters), siendo la inercia la suma de las distancias al cuadrado de cada objeto del Cluster a su centroide:\n",
    "\n",
    "<img src=https://jarroba.com/wp-content/uploads/2016/05/kmeans_inercia_jarroba.png>\n",
    "\n",
    "Una vez obtenidos los valores de la inercia tras aplicar el K-means de 1 a N Clusters, representamos en una gráfica lineal la inercia respecto del número de Clusters. En esta gráfica se debería de apreciar un cambio brusco en la evolución de la inercia, teniendo la línea representada una forma similar a la de un brazo y su codo. El punto en el que se observa ese cambio brusco en la inercia nos dirá el número óptimo de Clusters a seleccionar para ese data set; o dicho de otra manera: el punto que representaría al codo del brazo será el número óptimo de Clusters para ese data set."
   ]
  },
  {
   "cell_type": "code",
   "execution_count": 115,
   "metadata": {
    "collapsed": true
   },
   "outputs": [],
   "source": [
    "X = pd.DataFrame(autom_model).values\n",
    "\n",
    "max_k = 10 \n",
    "K = range(1,max_k)\n",
    "ssw = []\n",
    "centroid = [sum(X)/len(X) for i in K]\n",
    "sst = sum(np.min(cdist(X, centroid, 'euclidean'), axis = 1))\n",
    "\n",
    "\n",
    "for k in K:\n",
    "    kmeanModel = KMeans(n_clusters=k).fit(X)\n",
    "    \n",
    "    centers = pd.DataFrame(kmeanModel.cluster_centers_)\n",
    "    labels = kmeanModel.labels_\n",
    "    \n",
    "    ssw_k = sum(np.min(cdist(X, kmeanModel.cluster_centers_, \"euclidean\"), axis = 1))\n",
    "    ssw.append(ssw_k)"
   ]
  },
  {
   "cell_type": "code",
   "execution_count": 116,
   "metadata": {
    "scrolled": true
   },
   "outputs": [
    {
     "data": {
      "image/png": "[encoded data removed]",
      "text/plain": [
       "<Figure size 504x360 with 1 Axes>"
      ]
     },
     "metadata": {
      "needs_background": "light"
     },
     "output_type": "display_data"
    }
   ],
   "source": [
    "#Representación del codo\n",
    "plt.plot(K, ssw, \"bx-\")\n",
    "plt.xlabel(\"k\")\n",
    "plt.ylabel(\"SSw(k)\")\n",
    "plt.title(\"La técnica del codo para encontrar el k óptimo\")\n",
    "plt.show()"
   ]
  },
  {
   "cell_type": "markdown",
   "metadata": {},
   "source": [
    "#### K Means"
   ]
  },
  {
   "cell_type": "code",
   "execution_count": 117,
   "metadata": {},
   "outputs": [
    {
     "data": {
      "text/plain": [
       "(4, 5)"
      ]
     },
     "execution_count": 117,
     "metadata": {},
     "output_type": "execute_result"
    }
   ],
   "source": [
    "# Defino la cantidad de Clusters\n",
    "n_clusters=4\n",
    "\n",
    "# Defino el modelo\n",
    "kmeans = KMeans(n_clusters=n_clusters, random_state=0)\n",
    "\n",
    "# Aplico el modelo al dataset\n",
    "clusters = kmeans.fit_predict(autom_model)\n",
    "\n",
    "# Visualizo la candidad de clusters y centroides\n",
    "kmeans.cluster_centers_.shape\n"
   ]
  },
  {
   "cell_type": "code",
   "execution_count": 118,
   "metadata": {},
   "outputs": [
    {
     "data": {
      "text/html": [
       "<div>\n",
       "<style scoped>\n",
       "    .dataframe tbody tr th:only-of-type {\n",
       "        vertical-align: middle;\n",
       "    }\n",
       "\n",
       "    .dataframe tbody tr th {\n",
       "        vertical-align: top;\n",
       "    }\n",
       "\n",
       "    .dataframe thead th {\n",
       "        text-align: right;\n",
       "    }\n",
       "</style>\n",
       "<table border=\"1\" class=\"dataframe\">\n",
       "  <thead>\n",
       "    <tr style=\"text-align: right;\">\n",
       "      <th></th>\n",
       "      <th>ind_04</th>\n",
       "      <th>ind_20</th>\n",
       "      <th>ind_22</th>\n",
       "      <th>ind_19</th>\n",
       "      <th>ind_36</th>\n",
       "    </tr>\n",
       "  </thead>\n",
       "  <tbody>\n",
       "    <tr>\n",
       "      <th>0</th>\n",
       "      <td>0.410</td>\n",
       "      <td>0.517</td>\n",
       "      <td>0.301</td>\n",
       "      <td>0.489</td>\n",
       "      <td>0.672</td>\n",
       "    </tr>\n",
       "    <tr>\n",
       "      <th>1</th>\n",
       "      <td>0.608</td>\n",
       "      <td>0.836</td>\n",
       "      <td>0.045</td>\n",
       "      <td>0.736</td>\n",
       "      <td>0.288</td>\n",
       "    </tr>\n",
       "    <tr>\n",
       "      <th>2</th>\n",
       "      <td>0.464</td>\n",
       "      <td>0.666</td>\n",
       "      <td>0.001</td>\n",
       "      <td>0.683</td>\n",
       "      <td>0.297</td>\n",
       "    </tr>\n",
       "    <tr>\n",
       "      <th>3</th>\n",
       "      <td>0.379</td>\n",
       "      <td>0.841</td>\n",
       "      <td>0.436</td>\n",
       "      <td>0.624</td>\n",
       "      <td>0.768</td>\n",
       "    </tr>\n",
       "    <tr>\n",
       "      <th>4</th>\n",
       "      <td>0.387</td>\n",
       "      <td>1.000</td>\n",
       "      <td>0.131</td>\n",
       "      <td>0.906</td>\n",
       "      <td>0.197</td>\n",
       "    </tr>\n",
       "  </tbody>\n",
       "</table>\n",
       "</div>"
      ],
      "text/plain": [
       "   ind_04  ind_20  ind_22  ind_19  ind_36\n",
       "0   0.410   0.517   0.301   0.489   0.672\n",
       "1   0.608   0.836   0.045   0.736   0.288\n",
       "2   0.464   0.666   0.001   0.683   0.297\n",
       "3   0.379   0.841   0.436   0.624   0.768\n",
       "4   0.387   1.000   0.131   0.906   0.197"
      ]
     },
     "execution_count": 118,
     "metadata": {},
     "output_type": "execute_result"
    }
   ],
   "source": [
    "autom_model.head()"
   ]
  },
  {
   "cell_type": "code",
   "execution_count": 119,
   "metadata": {},
   "outputs": [
    {
     "data": {
      "text/plain": [
       "array([2, 1, 1, 2, 1, 1, 1, 2, 1, 3, 1, 1, 3, 3, 3, 2, 2, 3, 1, 2, 2, 0,\n",
       "       1, 3, 0, 3, 1, 1, 0, 0, 0, 0, 1, 1, 0, 1, 1, 3, 1, 0, 1, 0])"
      ]
     },
     "execution_count": 119,
     "metadata": {},
     "output_type": "execute_result"
    }
   ],
   "source": [
    "# Visualizo el array de clusters\n",
    "clusters"
   ]
  },
  {
   "cell_type": "code",
   "execution_count": 120,
   "metadata": {},
   "outputs": [
    {
     "data": {
      "text/plain": [
       "array([2, 1, 1, 2, 1, 1, 1, 2, 1, 3, 1, 1, 3, 3, 3, 2, 2, 3, 1, 2, 2, 0,\n",
       "       1, 3, 0, 3, 1, 1, 0, 0, 0, 0, 1, 1, 0, 1, 1, 3, 1, 0, 1, 0])"
      ]
     },
     "execution_count": 120,
     "metadata": {},
     "output_type": "execute_result"
    }
   ],
   "source": [
    "# Visualizo las etiquetas del modelo \n",
    "\n",
    "kmeans.labels_"
   ]
  },
  {
   "cell_type": "code",
   "execution_count": 121,
   "metadata": {
    "collapsed": true
   },
   "outputs": [],
   "source": [
    "# Convierto las etiquetas en una serie \n",
    "\n",
    "md_k = pd.Series(kmeans.labels_)"
   ]
  },
  {
   "cell_type": "code",
   "execution_count": 122,
   "metadata": {},
   "outputs": [
    {
     "data": {
      "text/html": [
       "<div>\n",
       "<style scoped>\n",
       "    .dataframe tbody tr th:only-of-type {\n",
       "        vertical-align: middle;\n",
       "    }\n",
       "\n",
       "    .dataframe tbody tr th {\n",
       "        vertical-align: top;\n",
       "    }\n",
       "\n",
       "    .dataframe thead th {\n",
       "        text-align: right;\n",
       "    }\n",
       "</style>\n",
       "<table border=\"1\" class=\"dataframe\">\n",
       "  <thead>\n",
       "    <tr style=\"text-align: right;\">\n",
       "      <th></th>\n",
       "      <th>ind_04</th>\n",
       "      <th>ind_20</th>\n",
       "      <th>ind_22</th>\n",
       "      <th>ind_19</th>\n",
       "      <th>ind_36</th>\n",
       "      <th>clust_k</th>\n",
       "      <th>cod_cia</th>\n",
       "    </tr>\n",
       "  </thead>\n",
       "  <tbody>\n",
       "    <tr>\n",
       "      <th>0</th>\n",
       "      <td>0.410</td>\n",
       "      <td>0.517</td>\n",
       "      <td>0.301</td>\n",
       "      <td>0.489</td>\n",
       "      <td>0.672</td>\n",
       "      <td>2</td>\n",
       "      <td>2</td>\n",
       "    </tr>\n",
       "    <tr>\n",
       "      <th>1</th>\n",
       "      <td>0.608</td>\n",
       "      <td>0.836</td>\n",
       "      <td>0.045</td>\n",
       "      <td>0.736</td>\n",
       "      <td>0.288</td>\n",
       "      <td>1</td>\n",
       "      <td>25</td>\n",
       "    </tr>\n",
       "    <tr>\n",
       "      <th>2</th>\n",
       "      <td>0.464</td>\n",
       "      <td>0.666</td>\n",
       "      <td>0.001</td>\n",
       "      <td>0.683</td>\n",
       "      <td>0.297</td>\n",
       "      <td>1</td>\n",
       "      <td>32</td>\n",
       "    </tr>\n",
       "    <tr>\n",
       "      <th>3</th>\n",
       "      <td>0.379</td>\n",
       "      <td>0.841</td>\n",
       "      <td>0.436</td>\n",
       "      <td>0.624</td>\n",
       "      <td>0.768</td>\n",
       "      <td>2</td>\n",
       "      <td>36</td>\n",
       "    </tr>\n",
       "    <tr>\n",
       "      <th>4</th>\n",
       "      <td>0.387</td>\n",
       "      <td>1.000</td>\n",
       "      <td>0.131</td>\n",
       "      <td>0.906</td>\n",
       "      <td>0.197</td>\n",
       "      <td>1</td>\n",
       "      <td>39</td>\n",
       "    </tr>\n",
       "  </tbody>\n",
       "</table>\n",
       "</div>"
      ],
      "text/plain": [
       "   ind_04  ind_20  ind_22  ind_19  ind_36  clust_k  cod_cia\n",
       "0   0.410   0.517   0.301   0.489   0.672        2        2\n",
       "1   0.608   0.836   0.045   0.736   0.288        1       25\n",
       "2   0.464   0.666   0.001   0.683   0.297        1       32\n",
       "3   0.379   0.841   0.436   0.624   0.768        2       36\n",
       "4   0.387   1.000   0.131   0.906   0.197        1       39"
      ]
     },
     "execution_count": 122,
     "metadata": {},
     "output_type": "execute_result"
    }
   ],
   "source": [
    "# Genero el dataset con los indicadores, los clusters y la compañía para poder identificarlas \n",
    "\n",
    "Autom_CM = autom_model.copy()\n",
    "Autom_CM[\"clust_k\"] = md_k\n",
    "Autom_CM['cod_cia'] = cias_autom\n",
    "\n",
    "Autom_CM.head()"
   ]
  },
  {
   "cell_type": "code",
   "execution_count": 123,
   "metadata": {},
   "outputs": [
    {
     "data": {
      "text/plain": [
       "(array([ 9.,  0.,  0., 18.,  0.,  0.,  7.,  0.,  0.,  8.]),\n",
       " array([0. , 0.3, 0.6, 0.9, 1.2, 1.5, 1.8, 2.1, 2.4, 2.7, 3. ]),\n",
       " <a list of 10 Patch objects>)"
      ]
     },
     "execution_count": 123,
     "metadata": {},
     "output_type": "execute_result"
    },
    {
     "data": {
      "image/png": "[encoded data removed]",
      "text/plain": [
       "<Figure size 504x360 with 1 Axes>"
      ]
     },
     "metadata": {
      "needs_background": "light"
     },
     "output_type": "display_data"
    }
   ],
   "source": [
    "# Veo la frecuencia de los clusters\n",
    "\n",
    "plt.hist(md_k)"
   ]
  },
  {
   "cell_type": "code",
   "execution_count": 124,
   "metadata": {},
   "outputs": [
    {
     "data": {
      "text/html": [
       "<div>\n",
       "<style scoped>\n",
       "    .dataframe tbody tr th:only-of-type {\n",
       "        vertical-align: middle;\n",
       "    }\n",
       "\n",
       "    .dataframe tbody tr th {\n",
       "        vertical-align: top;\n",
       "    }\n",
       "\n",
       "    .dataframe thead th {\n",
       "        text-align: right;\n",
       "    }\n",
       "</style>\n",
       "<table border=\"1\" class=\"dataframe\">\n",
       "  <thead>\n",
       "    <tr style=\"text-align: right;\">\n",
       "      <th></th>\n",
       "      <th>ind_04</th>\n",
       "      <th>ind_20</th>\n",
       "      <th>ind_22</th>\n",
       "      <th>ind_19</th>\n",
       "      <th>ind_36</th>\n",
       "      <th>clust_k</th>\n",
       "      <th>cod_cia</th>\n",
       "      <th>denominacion_corta</th>\n",
       "    </tr>\n",
       "  </thead>\n",
       "  <tbody>\n",
       "    <tr>\n",
       "      <th>0</th>\n",
       "      <td>0.410</td>\n",
       "      <td>0.517</td>\n",
       "      <td>0.301</td>\n",
       "      <td>0.489</td>\n",
       "      <td>0.672</td>\n",
       "      <td>2</td>\n",
       "      <td>2</td>\n",
       "      <td>SMG</td>\n",
       "    </tr>\n",
       "    <tr>\n",
       "      <th>1</th>\n",
       "      <td>0.608</td>\n",
       "      <td>0.836</td>\n",
       "      <td>0.045</td>\n",
       "      <td>0.736</td>\n",
       "      <td>0.288</td>\n",
       "      <td>1</td>\n",
       "      <td>25</td>\n",
       "      <td>SURA</td>\n",
       "    </tr>\n",
       "    <tr>\n",
       "      <th>2</th>\n",
       "      <td>0.464</td>\n",
       "      <td>0.666</td>\n",
       "      <td>0.001</td>\n",
       "      <td>0.683</td>\n",
       "      <td>0.297</td>\n",
       "      <td>1</td>\n",
       "      <td>32</td>\n",
       "      <td>BOSTON</td>\n",
       "    </tr>\n",
       "    <tr>\n",
       "      <th>3</th>\n",
       "      <td>0.379</td>\n",
       "      <td>0.841</td>\n",
       "      <td>0.436</td>\n",
       "      <td>0.624</td>\n",
       "      <td>0.768</td>\n",
       "      <td>2</td>\n",
       "      <td>36</td>\n",
       "      <td>ALLIANZ</td>\n",
       "    </tr>\n",
       "    <tr>\n",
       "      <th>4</th>\n",
       "      <td>0.387</td>\n",
       "      <td>1.000</td>\n",
       "      <td>0.131</td>\n",
       "      <td>0.906</td>\n",
       "      <td>0.197</td>\n",
       "      <td>1</td>\n",
       "      <td>39</td>\n",
       "      <td>QBE BUENOS AIRES</td>\n",
       "    </tr>\n",
       "  </tbody>\n",
       "</table>\n",
       "</div>"
      ],
      "text/plain": [
       "   ind_04  ind_20  ind_22  ind_19  ind_36  clust_k  cod_cia denominacion_corta\n",
       "0   0.410   0.517   0.301   0.489   0.672        2        2                SMG\n",
       "1   0.608   0.836   0.045   0.736   0.288        1       25               SURA\n",
       "2   0.464   0.666   0.001   0.683   0.297        1       32             BOSTON\n",
       "3   0.379   0.841   0.436   0.624   0.768        2       36            ALLIANZ\n",
       "4   0.387   1.000   0.131   0.906   0.197        1       39   QBE BUENOS AIRES"
      ]
     },
     "execution_count": 124,
     "metadata": {},
     "output_type": "execute_result"
    }
   ],
   "source": [
    "# Agrego la denominación de la compañía\n",
    "\n",
    "den_corta = pd.read_excel(r'C:\\Users\\eangenello\\Desktop\\PYTHON\\input\\ART\\Dataset_Compañías.xlsx', usecols='A,B')\n",
    "\n",
    "Autom_CM = Autom_CM.merge(den_corta, how='left', on=['cod_cia'])\n",
    "\n",
    "Autom_CM.head()"
   ]
  },
  {
   "cell_type": "code",
   "execution_count": 41,
   "metadata": {
    "collapsed": true
   },
   "outputs": [],
   "source": [
    "# Exporto Dataset\n",
    "\n",
    "Autom_CM.to_excel(r'C:\\Users\\eangenello\\Desktop\\PYTHON\\output\\Clustering\\2019-2 Cluster Automotor.xlsx', sheet_name='Autom', index=False)"
   ]
  },
  {
   "cell_type": "markdown",
   "metadata": {},
   "source": [
    "BOXPLOT"
   ]
  },
  {
   "cell_type": "code",
   "execution_count": 125,
   "metadata": {
    "collapsed": true
   },
   "outputs": [],
   "source": [
    "Autom_CM_plot=Autom_CM[['ind_04', 'ind_20', 'ind_22', 'ind_19', 'ind_36']]\n",
    "Autom_CM_plot=Autom_CM_plot.rename(columns = {'ind_04':'Créditos respecto del Activo','ind_20':'ROE','ind_22':'Compromiso del Capital','ind_19':'Resultado Técnico', 'ind_36':'Ration Cesion'})"
   ]
  },
  {
   "cell_type": "code",
   "execution_count": 126,
   "metadata": {},
   "outputs": [
    {
     "name": "stdout",
     "output_type": "stream",
     "text": [
      "    ind_04 denominacion_corta\n",
      "30   0.794        RÍO URUGUAY\n",
      "39   1.000            ESCUDO \n",
      "40   0.000  ASEGURADORA TOTAL\n",
      "\n",
      "\n",
      "    ind_20     denominacion_corta\n",
      "21   0.183              ANTÁRTIDA\n",
      "28   0.000  PRODUCTORES DE FRUTAS\n",
      "\n",
      "\n",
      "   ind_22 denominacion_corta\n",
      "9   1.000            BERKLEY\n",
      "\n",
      "\n",
      "    ind_19 denominacion_corta\n",
      "31   0.000            TRIUNFO\n",
      "\n",
      "\n",
      "    ind_36 denominacion_corta\n",
      "3    0.768            ALLIANZ\n",
      "19   0.930             ZURICH\n",
      "20   1.000         MERIDIONAL\n"
     ]
    }
   ],
   "source": [
    "Q1 =  Autom_CM['ind_04'].quantile(0.25)\n",
    "Q3 = Autom_CM['ind_04'].quantile(0.75)\n",
    "IQR1 = Q3 - Q1\n",
    "\n",
    "Autom_CM1=Autom_CM[['ind_04','denominacion_corta']].copy()\n",
    "Autom_CM1= Autom_CM1[(Autom_CM1['ind_04'] < Q1-1.5*IQR1 ) | (Autom_CM1['ind_04'] > Q3+1.5*IQR1)]\n",
    "print(Autom_CM1)\n",
    "\n",
    "print('\\n')\n",
    "\n",
    "Q1 =  Autom_CM['ind_20'].quantile(0.25)\n",
    "Q3 = Autom_CM['ind_20'].quantile(0.75)\n",
    "IQR2 = Q3 - Q1\n",
    "\n",
    "Autom_CM2=Autom_CM[['ind_20','denominacion_corta']].copy()\n",
    "Autom_CM2= Autom_CM2[(Autom_CM2['ind_20'] < Q1-1.5*IQR2 ) | (Autom_CM2['ind_20'] > Q3+1.5*IQR2)]\n",
    "print(Autom_CM2)\n",
    "\n",
    "print('\\n')\n",
    "\n",
    "Q1 =  Autom_CM['ind_22'].quantile(0.25)\n",
    "Q3 = Autom_CM['ind_22'].quantile(0.75)\n",
    "IQR3 = Q3 - Q1\n",
    "\n",
    "Autom_CM3=Autom_CM[['ind_22','denominacion_corta']].copy()\n",
    "Autom_CM3= Autom_CM3[(Autom_CM3['ind_22'] < Q1-1.5*IQR3 ) | (Autom_CM3['ind_22'] > Q3+1.5*IQR3)]\n",
    "print(Autom_CM3)\n",
    "\n",
    "print('\\n')\n",
    "\n",
    "Q1 =  Autom_CM['ind_19'].quantile(0.25)\n",
    "Q3 = Autom_CM['ind_19'].quantile(0.75)\n",
    "IQR4 = Q3 - Q1\n",
    "\n",
    "Autom_CM4=Autom_CM[['ind_19','denominacion_corta']].copy()\n",
    "Autom_CM4= Autom_CM4[(Autom_CM4['ind_19'] < Q1-1.5*IQR4 ) | (Autom_CM4['ind_19'] > Q3+1.5*IQR4)]\n",
    "print(Autom_CM4)\n",
    "\n",
    "print('\\n')\n",
    "\n",
    "Q1 =  Autom_CM['ind_36'].quantile(0.25)\n",
    "Q3 = Autom_CM['ind_36'].quantile(0.75)\n",
    "IQR5 = Q3 - Q1\n",
    "\n",
    "\n",
    "Autom_CM5=Autom_CM[['ind_36','denominacion_corta']].copy()\n",
    "Autom_CM5= Autom_CM5[(Autom_CM5['ind_36'] < Q1-1.5*IQR5 ) | (Autom_CM5['ind_36'] > Q3+1.5*IQR5)]\n",
    "print(Autom_CM5)\n"
   ]
  },
  {
   "cell_type": "code",
   "execution_count": 127,
   "metadata": {
    "scrolled": true
   },
   "outputs": [
    {
     "name": "stderr",
     "output_type": "stream",
     "text": [
      "C:\\Users\\eangenello\\AppData\\Local\\Continuum\\anaconda3\\lib\\site-packages\\seaborn\\categorical.py:2775: UserWarning: The `split` parameter has been renamed to `dodge`.\n",
      "  warnings.warn(msg, UserWarning)\n"
     ]
    },
    {
     "data": {
      "image/png": "[encoded data removed]",
      "text/plain": [
       "<Figure size 1080x792 with 1 Axes>"
      ]
     },
     "metadata": {},
     "output_type": "display_data"
    }
   ],
   "source": [
    "sns.set_style('white')\n",
    "pal=sns.cubehelix_palette(4)\n",
    "\n",
    "plt.rc(\"figure\", figsize=(15, 11))\n",
    "plt.title('Box Plot Indicadores', fontsize = 13)\n",
    "\n",
    "ax1 = sns.boxplot(data=Autom_CM_plot, palette=pal)\n",
    "ax2 = sns.stripplot(data=Autom_CM_plot,jitter=True, split=True, linewidth=0.5, palette=pal)\n",
    "\n",
    "\n",
    "# Créditos respecto del Activo\n",
    "x1= 0\n",
    "y11, y12, y13= 1, 0.794, 0.000\n",
    "ax2.text( x1+0.05, y11, \"ESCUDO\", horizontalalignment='left', size='medium', color='black', weight='semibold')\n",
    "ax2.text( x1+0.05, y12, \"RÍO URUGUAY\", horizontalalignment='left', size='medium', color='black', weight='semibold')\n",
    "ax2.text( x1+0.05, y13, \"ASEGURADORA TOTAL\", horizontalalignment='left', size='medium', color='black', weight='semibold')\n",
    "\n",
    "#ROE\n",
    "x2= 1\n",
    "y21, y22, y23= 0.409, 0.276, 0.000 \n",
    "ax2.text( x2+0.05, y21, \"ANTÁRTIDA\", horizontalalignment='left', size='medium', color='black', weight='semibold')\n",
    "ax2.text( x2+0.05, y22, \"PRODUCTORES DE FRUTAS\", horizontalalignment='left', size='medium', color='black', weight='semibold')\n",
    "#ax2.text( x2+0.05, y23, \"AGROSALTA\", horizontalalignment='left', size='medium', color='black', weight='semibold')\n",
    "\n",
    "# Compromiso del Capital\n",
    "x3= 2\n",
    "y31= 1\n",
    "ax2.text( x3+0.05, y31, \"BERKLEY\", horizontalalignment='left', size='medium', color='black', weight='semibold')\n",
    "\n",
    "# Resultado Técnico\n",
    "\n",
    "x4= 3\n",
    "y41, y42, y43, y44 = 0.786, 0.837, 0.000 , 0.862\n",
    "#ax2.text( x4+0.05, y41, \"ARGOS\", horizontalalignment='left', size='medium', color='black', weight='semibold')\n",
    "#ax2.text( x4+0.05, y42, \"COPAN\", horizontalalignment='left', size='medium', color='black', weight='semibold')\n",
    "#ax2.text( x4+0.05, y43, \"AGROSALTA\", horizontalalignment='left', size='medium', color='black', weight='semibold')\n",
    "ax2.text( x4+0.05, y44, \"TRIUNFO\", horizontalalignment='left', size='medium', color='black', weight='semibold')\n",
    "\n",
    "\n",
    "# Ration Cesion\n",
    "\n",
    "x5= 4\n",
    "y51, y52, y53, y54 = 0.672, 0.768, 0.930 , 1.000\n",
    "#ax2.text( x5+0.05, y51, \"SMG\", horizontalalignment='left', size='medium', color='black', weight='semibold')\n",
    "ax2.text( x5+0.05, y52, \"ALLIANZ\", horizontalalignment='left', size='medium', color='black', weight='semibold')\n",
    "ax2.text( x5+0.05, y53, \"ZURICH\", horizontalalignment='left', size='medium', color='black', weight='semibold')\n",
    "ax2.text( x5+0.05, y54, \"MERIDIONAL\", horizontalalignment='left', size='medium', color='black', weight='semibold')\n",
    "\n",
    "plt.savefig(r'C:\\Users\\eangenello\\Desktop\\2019-2 Boxplot 5 indicadores raíz sin outliers.png')"
   ]
  },
  {
   "cell_type": "code",
   "execution_count": 42,
   "metadata": {},
   "outputs": [
    {
     "data": {
      "image/png": "[encoded data removed]",
      "text/plain": [
       "<Figure size 720x720 with 1 Axes>"
      ]
     },
     "metadata": {},
     "output_type": "display_data"
    }
   ],
   "source": [
    "x=Autom_CM['ind_20']\n",
    "y=Autom_CM['ind_22']\n",
    "etiq=Autom_CM['denominacion_corta']\n",
    "clust=Autom_CM['clust_k']\n",
    "\n",
    "fig = plt.figure(figsize = (10,10))\n",
    "\n",
    "plt.scatter(x,y, c=clust, cmap='rainbow')\n",
    "for i in Autom_CM.index:\n",
    "    plt.text( x[i], y[i], etiq[i], horizontalalignment='left', size='smaller', color='black', weight='ultralight')\n",
    "\n",
    "plt.xlabel('ROE')\n",
    "plt.ylabel('Compromiso del Capital')\n",
    "\n",
    "plt.savefig(r'C:\\Users\\eangenello\\Desktop\\2019-2 Clusters - ROE vs Comp del Cap.png')"
   ]
  },
  {
   "cell_type": "markdown",
   "metadata": {},
   "source": [
    "### PCA para graficar"
   ]
  },
  {
   "cell_type": "markdown",
   "metadata": {},
   "source": [
    "#### Variabilidad a representar"
   ]
  },
  {
   "cell_type": "code",
   "execution_count": 43,
   "metadata": {
    "scrolled": false
   },
   "outputs": [
    {
     "data": {
      "text/plain": [
       "Text(0,0.5,'varianza explicada acumulada')"
      ]
     },
     "execution_count": 43,
     "metadata": {},
     "output_type": "execute_result"
    },
    {
     "data": {
      "image/png": "[encoded data removed]",
      "text/plain": [
       "<Figure size 360x360 with 1 Axes>"
      ]
     },
     "metadata": {},
     "output_type": "display_data"
    }
   ],
   "source": [
    "pca = sklearnPCA().fit(autom_model)\n",
    "fig = plt.figure(figsize = (5,5))\n",
    "plt.plot(np.cumsum(pca.explained_variance_ratio_))\n",
    "plt.xlabel('cantidad de componentes')\n",
    "plt.ylabel('varianza explicada acumulada')"
   ]
  },
  {
   "cell_type": "code",
   "execution_count": 48,
   "metadata": {},
   "outputs": [
    {
     "data": {
      "text/plain": [
       "2"
      ]
     },
     "execution_count": 48,
     "metadata": {},
     "output_type": "execute_result"
    }
   ],
   "source": [
    "pca_eval = sklearnPCA(0.60).fit(autom_model)\n",
    "pca_eval.n_components_"
   ]
  },
  {
   "cell_type": "markdown",
   "metadata": {},
   "source": [
    "#### Aplico PCA"
   ]
  },
  {
   "cell_type": "code",
   "execution_count": 49,
   "metadata": {
    "collapsed": true
   },
   "outputs": [],
   "source": [
    "# Defino la cantidad de componentes\n",
    "pca = sklearnPCA(n_components=2)\n",
    "\n",
    "# Aplico el modelo al dataset\n",
    "principalComponents = pca.fit_transform(autom_model)"
   ]
  },
  {
   "cell_type": "code",
   "execution_count": 50,
   "metadata": {
    "collapsed": true
   },
   "outputs": [],
   "source": [
    "# Convierto las componentes principales en un dataframe\n",
    "\n",
    "principalDf = pd.DataFrame(data = principalComponents, columns = ['Principal componente 1', 'Principal componente 2'])"
   ]
  },
  {
   "cell_type": "code",
   "execution_count": 51,
   "metadata": {
    "scrolled": true
   },
   "outputs": [
    {
     "data": {
      "text/html": [
       "<div>\n",
       "<style scoped>\n",
       "    .dataframe tbody tr th:only-of-type {\n",
       "        vertical-align: middle;\n",
       "    }\n",
       "\n",
       "    .dataframe tbody tr th {\n",
       "        vertical-align: top;\n",
       "    }\n",
       "\n",
       "    .dataframe thead th {\n",
       "        text-align: right;\n",
       "    }\n",
       "</style>\n",
       "<table border=\"1\" class=\"dataframe\">\n",
       "  <thead>\n",
       "    <tr style=\"text-align: right;\">\n",
       "      <th></th>\n",
       "      <th>Principal componente 1</th>\n",
       "      <th>Principal componente 2</th>\n",
       "    </tr>\n",
       "  </thead>\n",
       "  <tbody>\n",
       "    <tr>\n",
       "      <th>0</th>\n",
       "      <td>0.323</td>\n",
       "      <td>-0.083</td>\n",
       "    </tr>\n",
       "    <tr>\n",
       "      <th>1</th>\n",
       "      <td>0.107</td>\n",
       "      <td>-0.241</td>\n",
       "    </tr>\n",
       "    <tr>\n",
       "      <th>2</th>\n",
       "      <td>0.012</td>\n",
       "      <td>-0.224</td>\n",
       "    </tr>\n",
       "    <tr>\n",
       "      <th>3</th>\n",
       "      <td>0.596</td>\n",
       "      <td>0.052</td>\n",
       "    </tr>\n",
       "    <tr>\n",
       "      <th>4</th>\n",
       "      <td>0.133</td>\n",
       "      <td>-0.029</td>\n",
       "    </tr>\n",
       "  </tbody>\n",
       "</table>\n",
       "</div>"
      ],
      "text/plain": [
       "   Principal componente 1  Principal componente 2\n",
       "0                   0.323                  -0.083\n",
       "1                   0.107                  -0.241\n",
       "2                   0.012                  -0.224\n",
       "3                   0.596                   0.052\n",
       "4                   0.133                  -0.029"
      ]
     },
     "execution_count": 51,
     "metadata": {},
     "output_type": "execute_result"
    }
   ],
   "source": [
    "principalDf.head()"
   ]
  },
  {
   "cell_type": "markdown",
   "metadata": {},
   "source": [
    "#### Pesos de las componentes principales"
   ]
  },
  {
   "cell_type": "code",
   "execution_count": 52,
   "metadata": {
    "scrolled": true
   },
   "outputs": [
    {
     "data": {
      "text/plain": [
       "array([[1., 0., 0., 0., 0.],\n",
       "       [0., 1., 0., 0., 0.],\n",
       "       [0., 0., 1., 0., 0.],\n",
       "       [0., 0., 0., 1., 0.],\n",
       "       [0., 0., 0., 0., 1.]])"
      ]
     },
     "execution_count": 52,
     "metadata": {},
     "output_type": "execute_result"
    }
   ],
   "source": [
    "i = np.identity(autom_model.shape[1])\n",
    "i"
   ]
  },
  {
   "cell_type": "code",
   "execution_count": 53,
   "metadata": {
    "scrolled": true
   },
   "outputs": [
    {
     "data": {
      "text/plain": [
       "array([[-0.57669278, -0.45578016],\n",
       "       [-0.2294574 ,  0.366252  ],\n",
       "       [-0.35551426,  0.8044045 ],\n",
       "       [-0.50775853, -0.12157791],\n",
       "       [ 0.19281456, -0.16939033]])"
      ]
     },
     "execution_count": 53,
     "metadata": {},
     "output_type": "execute_result"
    }
   ],
   "source": [
    "coef = pca.transform(i)\n",
    "coef"
   ]
  },
  {
   "cell_type": "code",
   "execution_count": 54,
   "metadata": {
    "scrolled": true
   },
   "outputs": [
    {
     "data": {
      "text/html": [
       "<div>\n",
       "<style scoped>\n",
       "    .dataframe tbody tr th:only-of-type {\n",
       "        vertical-align: middle;\n",
       "    }\n",
       "\n",
       "    .dataframe tbody tr th {\n",
       "        vertical-align: top;\n",
       "    }\n",
       "\n",
       "    .dataframe thead th {\n",
       "        text-align: right;\n",
       "    }\n",
       "</style>\n",
       "<table border=\"1\" class=\"dataframe\">\n",
       "  <thead>\n",
       "    <tr style=\"text-align: right;\">\n",
       "      <th></th>\n",
       "      <th>PC-1</th>\n",
       "      <th>PC-2</th>\n",
       "    </tr>\n",
       "  </thead>\n",
       "  <tbody>\n",
       "    <tr>\n",
       "      <th>ind_04</th>\n",
       "      <td>-0.577</td>\n",
       "      <td>-0.456</td>\n",
       "    </tr>\n",
       "    <tr>\n",
       "      <th>ind_20</th>\n",
       "      <td>-0.229</td>\n",
       "      <td>0.366</td>\n",
       "    </tr>\n",
       "    <tr>\n",
       "      <th>ind_22</th>\n",
       "      <td>-0.356</td>\n",
       "      <td>0.804</td>\n",
       "    </tr>\n",
       "    <tr>\n",
       "      <th>ind_19</th>\n",
       "      <td>-0.508</td>\n",
       "      <td>-0.122</td>\n",
       "    </tr>\n",
       "    <tr>\n",
       "      <th>ind_36</th>\n",
       "      <td>0.193</td>\n",
       "      <td>-0.169</td>\n",
       "    </tr>\n",
       "  </tbody>\n",
       "</table>\n",
       "</div>"
      ],
      "text/plain": [
       "         PC-1   PC-2\n",
       "ind_04 -0.577 -0.456\n",
       "ind_20 -0.229  0.366\n",
       "ind_22 -0.356  0.804\n",
       "ind_19 -0.508 -0.122\n",
       "ind_36  0.193 -0.169"
      ]
     },
     "execution_count": 54,
     "metadata": {},
     "output_type": "execute_result"
    }
   ],
   "source": [
    "pd.DataFrame(coef, columns=['PC-1', 'PC-2'], index=autom_model.columns)"
   ]
  },
  {
   "cell_type": "markdown",
   "metadata": {},
   "source": [
    "#### Visualización de los clusters"
   ]
  },
  {
   "cell_type": "code",
   "execution_count": 57,
   "metadata": {
    "scrolled": false
   },
   "outputs": [
    {
     "data": {
      "text/html": [
       "<div>\n",
       "<style scoped>\n",
       "    .dataframe tbody tr th:only-of-type {\n",
       "        vertical-align: middle;\n",
       "    }\n",
       "\n",
       "    .dataframe tbody tr th {\n",
       "        vertical-align: top;\n",
       "    }\n",
       "\n",
       "    .dataframe thead th {\n",
       "        text-align: right;\n",
       "    }\n",
       "</style>\n",
       "<table border=\"1\" class=\"dataframe\">\n",
       "  <thead>\n",
       "    <tr style=\"text-align: right;\">\n",
       "      <th></th>\n",
       "      <th>Principal componente 1</th>\n",
       "      <th>Principal componente 2</th>\n",
       "      <th>clust_k</th>\n",
       "      <th>denominacion_corta</th>\n",
       "    </tr>\n",
       "  </thead>\n",
       "  <tbody>\n",
       "    <tr>\n",
       "      <th>0</th>\n",
       "      <td>0.323</td>\n",
       "      <td>-0.083</td>\n",
       "      <td>2</td>\n",
       "      <td>SMG</td>\n",
       "    </tr>\n",
       "    <tr>\n",
       "      <th>1</th>\n",
       "      <td>0.107</td>\n",
       "      <td>-0.241</td>\n",
       "      <td>1</td>\n",
       "      <td>SURA</td>\n",
       "    </tr>\n",
       "    <tr>\n",
       "      <th>2</th>\n",
       "      <td>0.012</td>\n",
       "      <td>-0.224</td>\n",
       "      <td>1</td>\n",
       "      <td>BOSTON</td>\n",
       "    </tr>\n",
       "    <tr>\n",
       "      <th>3</th>\n",
       "      <td>0.596</td>\n",
       "      <td>0.052</td>\n",
       "      <td>2</td>\n",
       "      <td>ALLIANZ</td>\n",
       "    </tr>\n",
       "    <tr>\n",
       "      <th>4</th>\n",
       "      <td>0.133</td>\n",
       "      <td>-0.029</td>\n",
       "      <td>1</td>\n",
       "      <td>QBE BUENOS AIRES</td>\n",
       "    </tr>\n",
       "  </tbody>\n",
       "</table>\n",
       "</div>"
      ],
      "text/plain": [
       "   Principal componente 1  Principal componente 2  clust_k denominacion_corta\n",
       "0                   0.323                  -0.083        2                SMG\n",
       "1                   0.107                  -0.241        1               SURA\n",
       "2                   0.012                  -0.224        1             BOSTON\n",
       "3                   0.596                   0.052        2            ALLIANZ\n",
       "4                   0.133                  -0.029        1   QBE BUENOS AIRES"
      ]
     },
     "execution_count": 57,
     "metadata": {},
     "output_type": "execute_result"
    }
   ],
   "source": [
    "# Le agrego el cluster definido previamente \n",
    "finalDf = pd.concat([principalDf, Autom_CM['clust_k'], Autom_CM['denominacion_corta']] , axis = 1)\n",
    "finalDf.head()"
   ]
  },
  {
   "cell_type": "code",
   "execution_count": 58,
   "metadata": {},
   "outputs": [
    {
     "data": {
      "text/plain": [
       "[0, 1, 2, 3]"
      ]
     },
     "execution_count": 58,
     "metadata": {},
     "output_type": "execute_result"
    }
   ],
   "source": [
    "sorted(finalDf['clust_k'].unique())"
   ]
  },
  {
   "cell_type": "code",
   "execution_count": 60,
   "metadata": {},
   "outputs": [
    {
     "data": {
      "image/png": "[encoded data removed]",
      "text/plain": [
       "<Figure size 720x720 with 1 Axes>"
      ]
     },
     "metadata": {},
     "output_type": "display_data"
    }
   ],
   "source": [
    "x=finalDf['Principal componente 1']\n",
    "y=finalDf['Principal componente 2']\n",
    "etiq=finalDf['denominacion_corta']\n",
    "clust=finalDf['clust_k']\n",
    "\n",
    "fig = plt.figure(figsize = (10,10))\n",
    "\n",
    "plt.scatter(x,y, c=clust, cmap='rainbow')\n",
    "for i in Autom_CM.index:\n",
    "    plt.text( x[i], y[i], etiq[i], horizontalalignment='left', size='smaller', color='black', weight='ultralight')\n",
    "\n",
    "plt.xlabel('Principal Componente 1', fontsize = 12)\n",
    "plt.ylabel('Principal Componente 2', fontsize = 12)\n",
    "plt.title('2 Componentes PCA', fontsize = 15)\n",
    "\n",
    "plt.savefig(r'C:\\Users\\eangenello\\Desktop\\PCA clusters 2019-2.png')"
   ]
  },
  {
   "cell_type": "code",
   "execution_count": 62,
   "metadata": {
    "scrolled": false
   },
   "outputs": [
    {
     "data": {
      "image/png": "[encoded data removed]",
      "text/plain": [
       "<Figure size 432x432 with 1 Axes>"
      ]
     },
     "metadata": {},
     "output_type": "display_data"
    }
   ],
   "source": [
    "# Grafico\n",
    "\n",
    "fig = plt.figure(figsize = (6,6))\n",
    "ax = fig.add_subplot(1,1,1) \n",
    "ax.set_xlabel('Principal Componente 1', fontsize = 12)\n",
    "ax.set_ylabel('Principal Componente 2', fontsize = 12)\n",
    "ax.set_title('2 Componentes PCA', fontsize = 15)\n",
    "\n",
    "\n",
    "targets = sorted(finalDf['clust_k'].unique())\n",
    "colors = ['r', 'g', 'b', 'k', 'c']\n",
    "\n",
    "for target, color in zip(targets,colors):\n",
    "    indicesToKeep = finalDf['clust_k'] == target\n",
    "    ax.scatter(finalDf.loc[indicesToKeep, 'Principal componente 1']\n",
    "               , finalDf.loc[indicesToKeep, 'Principal componente 2']\n",
    "               , c = color\n",
    "               , s = 50)\n",
    "ax.legend(targets)\n",
    "ax.grid()\n",
    "\n",
    "plt.savefig(r'C:\\Users\\eangenello\\Desktop\\PCA2 clusters 2019-2.png')"
   ]
  },
  {
   "cell_type": "markdown",
   "metadata": {},
   "source": [
    "#### Jerárquico"
   ]
  },
  {
   "cell_type": "code",
   "execution_count": 63,
   "metadata": {},
   "outputs": [
    {
     "data": {
      "text/html": [
       "<div>\n",
       "<style scoped>\n",
       "    .dataframe tbody tr th:only-of-type {\n",
       "        vertical-align: middle;\n",
       "    }\n",
       "\n",
       "    .dataframe tbody tr th {\n",
       "        vertical-align: top;\n",
       "    }\n",
       "\n",
       "    .dataframe thead th {\n",
       "        text-align: right;\n",
       "    }\n",
       "</style>\n",
       "<table border=\"1\" class=\"dataframe\">\n",
       "  <thead>\n",
       "    <tr style=\"text-align: right;\">\n",
       "      <th></th>\n",
       "      <th>ind_04</th>\n",
       "      <th>ind_20</th>\n",
       "      <th>ind_22</th>\n",
       "      <th>ind_19</th>\n",
       "      <th>ind_36</th>\n",
       "    </tr>\n",
       "  </thead>\n",
       "  <tbody>\n",
       "    <tr>\n",
       "      <th>0</th>\n",
       "      <td>0.410</td>\n",
       "      <td>0.517</td>\n",
       "      <td>0.301</td>\n",
       "      <td>0.489</td>\n",
       "      <td>0.672</td>\n",
       "    </tr>\n",
       "    <tr>\n",
       "      <th>1</th>\n",
       "      <td>0.608</td>\n",
       "      <td>0.836</td>\n",
       "      <td>0.045</td>\n",
       "      <td>0.736</td>\n",
       "      <td>0.288</td>\n",
       "    </tr>\n",
       "    <tr>\n",
       "      <th>2</th>\n",
       "      <td>0.464</td>\n",
       "      <td>0.666</td>\n",
       "      <td>0.001</td>\n",
       "      <td>0.683</td>\n",
       "      <td>0.297</td>\n",
       "    </tr>\n",
       "    <tr>\n",
       "      <th>3</th>\n",
       "      <td>0.379</td>\n",
       "      <td>0.841</td>\n",
       "      <td>0.436</td>\n",
       "      <td>0.624</td>\n",
       "      <td>0.768</td>\n",
       "    </tr>\n",
       "    <tr>\n",
       "      <th>4</th>\n",
       "      <td>0.387</td>\n",
       "      <td>1.000</td>\n",
       "      <td>0.131</td>\n",
       "      <td>0.906</td>\n",
       "      <td>0.197</td>\n",
       "    </tr>\n",
       "  </tbody>\n",
       "</table>\n",
       "</div>"
      ],
      "text/plain": [
       "   ind_04  ind_20  ind_22  ind_19  ind_36\n",
       "0   0.410   0.517   0.301   0.489   0.672\n",
       "1   0.608   0.836   0.045   0.736   0.288\n",
       "2   0.464   0.666   0.001   0.683   0.297\n",
       "3   0.379   0.841   0.436   0.624   0.768\n",
       "4   0.387   1.000   0.131   0.906   0.197"
      ]
     },
     "execution_count": 63,
     "metadata": {},
     "output_type": "execute_result"
    }
   ],
   "source": [
    "autom_model.head()"
   ]
  },
  {
   "cell_type": "code",
   "execution_count": 64,
   "metadata": {},
   "outputs": [
    {
     "data": {
      "text/plain": [
       "Index(['ind_04', 'ind_20', 'ind_22', 'ind_19', 'ind_36', 'denominacion_corta'], dtype='object')"
      ]
     },
     "execution_count": 64,
     "metadata": {},
     "output_type": "execute_result"
    }
   ],
   "source": [
    "aut_col= Autom_CM.drop({'clust_k', 'cod_cia'},1)\n",
    "aut_col=aut_col.columns\n",
    "aut_col"
   ]
  },
  {
   "cell_type": "code",
   "execution_count": 65,
   "metadata": {},
   "outputs": [
    {
     "data": {
      "text/html": [
       "<div>\n",
       "<style scoped>\n",
       "    .dataframe tbody tr th:only-of-type {\n",
       "        vertical-align: middle;\n",
       "    }\n",
       "\n",
       "    .dataframe tbody tr th {\n",
       "        vertical-align: top;\n",
       "    }\n",
       "\n",
       "    .dataframe thead th {\n",
       "        text-align: right;\n",
       "    }\n",
       "</style>\n",
       "<table border=\"1\" class=\"dataframe\">\n",
       "  <thead>\n",
       "    <tr style=\"text-align: right;\">\n",
       "      <th></th>\n",
       "      <th>ind_04</th>\n",
       "      <th>ind_20</th>\n",
       "      <th>ind_22</th>\n",
       "      <th>ind_19</th>\n",
       "      <th>ind_36</th>\n",
       "      <th>denominacion_corta</th>\n",
       "    </tr>\n",
       "  </thead>\n",
       "  <tbody>\n",
       "    <tr>\n",
       "      <th>0</th>\n",
       "      <td>0.410</td>\n",
       "      <td>0.517</td>\n",
       "      <td>0.301</td>\n",
       "      <td>0.489</td>\n",
       "      <td>0.672</td>\n",
       "      <td>SMG</td>\n",
       "    </tr>\n",
       "    <tr>\n",
       "      <th>1</th>\n",
       "      <td>0.608</td>\n",
       "      <td>0.836</td>\n",
       "      <td>0.045</td>\n",
       "      <td>0.736</td>\n",
       "      <td>0.288</td>\n",
       "      <td>SURA</td>\n",
       "    </tr>\n",
       "    <tr>\n",
       "      <th>2</th>\n",
       "      <td>0.464</td>\n",
       "      <td>0.666</td>\n",
       "      <td>0.001</td>\n",
       "      <td>0.683</td>\n",
       "      <td>0.297</td>\n",
       "      <td>BOSTON</td>\n",
       "    </tr>\n",
       "    <tr>\n",
       "      <th>3</th>\n",
       "      <td>0.379</td>\n",
       "      <td>0.841</td>\n",
       "      <td>0.436</td>\n",
       "      <td>0.624</td>\n",
       "      <td>0.768</td>\n",
       "      <td>ALLIANZ</td>\n",
       "    </tr>\n",
       "    <tr>\n",
       "      <th>4</th>\n",
       "      <td>0.387</td>\n",
       "      <td>1.000</td>\n",
       "      <td>0.131</td>\n",
       "      <td>0.906</td>\n",
       "      <td>0.197</td>\n",
       "      <td>QBE BUENOS AIRES</td>\n",
       "    </tr>\n",
       "  </tbody>\n",
       "</table>\n",
       "</div>"
      ],
      "text/plain": [
       "   ind_04  ind_20  ind_22  ind_19  ind_36 denominacion_corta\n",
       "0   0.410   0.517   0.301   0.489   0.672                SMG\n",
       "1   0.608   0.836   0.045   0.736   0.288               SURA\n",
       "2   0.464   0.666   0.001   0.683   0.297             BOSTON\n",
       "3   0.379   0.841   0.436   0.624   0.768            ALLIANZ\n",
       "4   0.387   1.000   0.131   0.906   0.197   QBE BUENOS AIRES"
      ]
     },
     "execution_count": 65,
     "metadata": {},
     "output_type": "execute_result"
    }
   ],
   "source": [
    "Autom_MJ= Autom_CM[aut_col]\n",
    "Autom_MJ.head()"
   ]
  },
  {
   "cell_type": "code",
   "execution_count": 66,
   "metadata": {
    "scrolled": true
   },
   "outputs": [
    {
     "data": {
      "text/html": [
       "<div>\n",
       "<style scoped>\n",
       "    .dataframe tbody tr th:only-of-type {\n",
       "        vertical-align: middle;\n",
       "    }\n",
       "\n",
       "    .dataframe tbody tr th {\n",
       "        vertical-align: top;\n",
       "    }\n",
       "\n",
       "    .dataframe thead th {\n",
       "        text-align: right;\n",
       "    }\n",
       "</style>\n",
       "<table border=\"1\" class=\"dataframe\">\n",
       "  <thead>\n",
       "    <tr style=\"text-align: right;\">\n",
       "      <th></th>\n",
       "      <th>ind_04</th>\n",
       "      <th>ind_20</th>\n",
       "      <th>ind_22</th>\n",
       "      <th>ind_19</th>\n",
       "      <th>ind_36</th>\n",
       "    </tr>\n",
       "    <tr>\n",
       "      <th>denominacion_corta</th>\n",
       "      <th></th>\n",
       "      <th></th>\n",
       "      <th></th>\n",
       "      <th></th>\n",
       "      <th></th>\n",
       "    </tr>\n",
       "  </thead>\n",
       "  <tbody>\n",
       "    <tr>\n",
       "      <th>SMG</th>\n",
       "      <td>0.410</td>\n",
       "      <td>0.517</td>\n",
       "      <td>0.301</td>\n",
       "      <td>0.489</td>\n",
       "      <td>0.672</td>\n",
       "    </tr>\n",
       "    <tr>\n",
       "      <th>SURA</th>\n",
       "      <td>0.608</td>\n",
       "      <td>0.836</td>\n",
       "      <td>0.045</td>\n",
       "      <td>0.736</td>\n",
       "      <td>0.288</td>\n",
       "    </tr>\n",
       "    <tr>\n",
       "      <th>BOSTON</th>\n",
       "      <td>0.464</td>\n",
       "      <td>0.666</td>\n",
       "      <td>0.001</td>\n",
       "      <td>0.683</td>\n",
       "      <td>0.297</td>\n",
       "    </tr>\n",
       "    <tr>\n",
       "      <th>ALLIANZ</th>\n",
       "      <td>0.379</td>\n",
       "      <td>0.841</td>\n",
       "      <td>0.436</td>\n",
       "      <td>0.624</td>\n",
       "      <td>0.768</td>\n",
       "    </tr>\n",
       "    <tr>\n",
       "      <th>QBE BUENOS AIRES</th>\n",
       "      <td>0.387</td>\n",
       "      <td>1.000</td>\n",
       "      <td>0.131</td>\n",
       "      <td>0.906</td>\n",
       "      <td>0.197</td>\n",
       "    </tr>\n",
       "  </tbody>\n",
       "</table>\n",
       "</div>"
      ],
      "text/plain": [
       "                    ind_04  ind_20  ind_22  ind_19  ind_36\n",
       "denominacion_corta                                        \n",
       "SMG                  0.410   0.517   0.301   0.489   0.672\n",
       "SURA                 0.608   0.836   0.045   0.736   0.288\n",
       "BOSTON               0.464   0.666   0.001   0.683   0.297\n",
       "ALLIANZ              0.379   0.841   0.436   0.624   0.768\n",
       "QBE BUENOS AIRES     0.387   1.000   0.131   0.906   0.197"
      ]
     },
     "execution_count": 66,
     "metadata": {},
     "output_type": "execute_result"
    }
   ],
   "source": [
    "Autom_MJ= Autom_MJ.set_index('denominacion_corta')\n",
    "Autom_MJ.head()"
   ]
  },
  {
   "cell_type": "code",
   "execution_count": 69,
   "metadata": {},
   "outputs": [
    {
     "data": {
      "image/png": "[encoded data removed]",
      "text/plain": [
       "<Figure size 1800x720 with 1 Axes>"
      ]
     },
     "metadata": {},
     "output_type": "display_data"
    }
   ],
   "source": [
    "# se unen los dos clusters para los cuales se tenga el menor incremento en el valor total de la suma de los cuadrados de \n",
    "# las diferencias, dentro de cada cluster, de cada individuo al centroide del cluster\n",
    "\n",
    "Z = linkage(Autom_MJ, method=\"ward\")\n",
    "Z\n",
    "plt.figure(figsize=(25,10))\n",
    "plt.title(\"Dendrograma jerárquico para el Clustering\")\n",
    "plt.xlabel(\"Companía\")\n",
    "plt.ylabel(\"Distancia\")\n",
    "dendrogram(Z, labels=Autom_MJ.index, leaf_rotation=80., leaf_font_size=10.0, color_threshold=0.6*2.21)\n",
    "\n",
    "#color_threshold: puedo establecer un umbral a partir del cual pintar los cluster\n",
    "\n",
    "plt.savefig(r'C:\\Users\\eangenello\\Desktop\\Dendograma sin outliers ind 4,19,20,22 y 23.png')\n",
    "plt.show()"
   ]
  },
  {
   "cell_type": "code",
   "execution_count": 70,
   "metadata": {},
   "outputs": [
    {
     "data": {
      "text/plain": [
       "array([[55.        , 73.        ,  1.14618477,  8.        ],\n",
       "       [76.        , 79.        ,  1.51571785, 26.        ],\n",
       "       [78.        , 80.        ,  1.73592743, 35.        ],\n",
       "       [75.        , 81.        ,  2.21546428, 42.        ]])"
      ]
     },
     "execution_count": 70,
     "metadata": {},
     "output_type": "execute_result"
    }
   ],
   "source": [
    "Z[-4:,]"
   ]
  },
  {
   "cell_type": "code",
   "execution_count": null,
   "metadata": {
    "collapsed": true
   },
   "outputs": [],
   "source": []
  }
 ],
 "metadata": {
  "kernelspec": {
   "display_name": "Python 3",
   "language": "python",
   "name": "python3"
  },
  "language_info": {
   "codemirror_mode": {
    "name": "ipython",
    "version": 3
   },
   "file_extension": ".py",
   "mimetype": "text/x-python",
   "name": "python",
   "nbconvert_exporter": "python",
   "pygments_lexer": "ipython3",
   "version": "3.8.3"
  }
 },
 "nbformat": 4,
 "nbformat_minor": 2
}
