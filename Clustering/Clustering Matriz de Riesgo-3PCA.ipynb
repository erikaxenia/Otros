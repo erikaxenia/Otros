{
 "cells": [
  {
   "cell_type": "markdown",
   "metadata": {},
   "source": [
    "## MATRIZ DE RIESGO - CLUSTERING"
   ]
  },
  {
   "cell_type": "code",
   "execution_count": 7,
   "metadata": {},
   "outputs": [],
   "source": [
    "import pandas as pd\n",
    "import numpy.random as rnd\n",
    "import numpy as np\n",
    "\n",
    "# Cluster \n",
    "from scipy.spatial import distance_matrix\n",
    "from scipy.cluster.vq import vq, kmeans\n",
    "from scipy.spatial.distance import cdist\n",
    "from sklearn.cluster import AffinityPropagation\n",
    "from sklearn import metrics\n",
    "from sklearn.datasets.samples_generator import make_blobs\n",
    "from sklearn.cluster import KMeans\n",
    "from scipy.cluster.hierarchy import dendrogram, linkage\n",
    "\n",
    "# PCA\n",
    "from sklearn.preprocessing import StandardScaler\n",
    "from sklearn.decomposition import PCA as sklearnPCA\n",
    "from sklearn import decomposition\n",
    "from sklearn import preprocessing\n",
    "\n",
    "# Graficas\n",
    "import matplotlib.pyplot as plt\n",
    "from mpl_toolkits.mplot3d import Axes3D\n",
    "from itertools import cycle\n",
    "\n",
    "%matplotlib inline\n",
    "\n",
    "pd.options.display.float_format = '{:,.2f}'.format\n",
    "plt.rcParams['figure.figsize'] = (7, 5)"
   ]
  },
  {
   "cell_type": "code",
   "execution_count": 8,
   "metadata": {},
   "outputs": [],
   "source": [
    "data = pd.read_excel(r'C:\\Users\\eangenello\\Desktop\\Indicadores Matriz de Riesgo.xlsx')"
   ]
  },
  {
   "cell_type": "code",
   "execution_count": 9,
   "metadata": {},
   "outputs": [
    {
     "data": {
      "text/html": [
       "<div>\n",
       "<style scoped>\n",
       "    .dataframe tbody tr th:only-of-type {\n",
       "        vertical-align: middle;\n",
       "    }\n",
       "\n",
       "    .dataframe tbody tr th {\n",
       "        vertical-align: top;\n",
       "    }\n",
       "\n",
       "    .dataframe thead th {\n",
       "        text-align: right;\n",
       "    }\n",
       "</style>\n",
       "<table border=\"1\" class=\"dataframe\">\n",
       "  <thead>\n",
       "    <tr style=\"text-align: right;\">\n",
       "      <th></th>\n",
       "      <th>Segmento</th>\n",
       "      <th>Cod Cia</th>\n",
       "      <th>DenominacionCorta</th>\n",
       "      <th>periodo</th>\n",
       "      <th>ind_01</th>\n",
       "      <th>num_Ind_01</th>\n",
       "      <th>den_Ind_01</th>\n",
       "      <th>ind_02</th>\n",
       "      <th>num_Ind_02</th>\n",
       "      <th>den_Ind_02</th>\n",
       "      <th>...</th>\n",
       "      <th>den_Ind_40</th>\n",
       "      <th>ind_41</th>\n",
       "      <th>num_Ind_41</th>\n",
       "      <th>den_Ind_41</th>\n",
       "      <th>ind_42</th>\n",
       "      <th>num_Ind_42</th>\n",
       "      <th>den_Ind_42</th>\n",
       "      <th>ind_43</th>\n",
       "      <th>num_Ind_43</th>\n",
       "      <th>den_Ind_43</th>\n",
       "    </tr>\n",
       "  </thead>\n",
       "  <tbody>\n",
       "    <tr>\n",
       "      <th>0</th>\n",
       "      <td>Automotores</td>\n",
       "      <td>2</td>\n",
       "      <td>SMG</td>\n",
       "      <td>2012-2</td>\n",
       "      <td>0,105358598743742</td>\n",
       "      <td>26,588,784.00</td>\n",
       "      <td>252,364,632.00</td>\n",
       "      <td>0,144011628153388</td>\n",
       "      <td>8,256,855.00</td>\n",
       "      <td>57,334,641.00</td>\n",
       "      <td>...</td>\n",
       "      <td>nan</td>\n",
       "      <td>0,6242516992754573341734537706</td>\n",
       "      <td>38753538</td>\n",
       "      <td>62079988</td>\n",
       "      <td>0,407543317110874</td>\n",
       "      <td>184,868,832.00</td>\n",
       "      <td>453,617,626.00</td>\n",
       "      <td>0,457614370768765</td>\n",
       "      <td>159,236,187.00</td>\n",
       "      <td>347,970,250.00</td>\n",
       "    </tr>\n",
       "    <tr>\n",
       "      <th>1</th>\n",
       "      <td>Automotores</td>\n",
       "      <td>2</td>\n",
       "      <td>SMG</td>\n",
       "      <td>2012-3</td>\n",
       "      <td>0,146802925879989</td>\n",
       "      <td>41,770,748.00</td>\n",
       "      <td>284,536,209.00</td>\n",
       "      <td>0,139001427483297</td>\n",
       "      <td>8,058,769.00</td>\n",
       "      <td>57,976,160.00</td>\n",
       "      <td>...</td>\n",
       "      <td>nan</td>\n",
       "      <td>0,5918434595360580881707175794</td>\n",
       "      <td>33452221</td>\n",
       "      <td>56522076</td>\n",
       "      <td>0,421782094960691</td>\n",
       "      <td>54,141,183.00</td>\n",
       "      <td>128,362,924.00</td>\n",
       "      <td>0,47388384323878</td>\n",
       "      <td>46,894,994.00</td>\n",
       "      <td>98,958,837.00</td>\n",
       "    </tr>\n",
       "    <tr>\n",
       "      <th>2</th>\n",
       "      <td>Automotores</td>\n",
       "      <td>2</td>\n",
       "      <td>SMG</td>\n",
       "      <td>2012-4</td>\n",
       "      <td>0,2417304900317</td>\n",
       "      <td>79,574,325.00</td>\n",
       "      <td>329,186,132.00</td>\n",
       "      <td>0,128289168322225</td>\n",
       "      <td>7,689,331.00</td>\n",
       "      <td>59,937,492.00</td>\n",
       "      <td>...</td>\n",
       "      <td>nan</td>\n",
       "      <td>0,9615066735282725586051082228</td>\n",
       "      <td>59885324</td>\n",
       "      <td>62282796</td>\n",
       "      <td>0,417950661043329</td>\n",
       "      <td>112,799,323.00</td>\n",
       "      <td>269,886,696.00</td>\n",
       "      <td>0,471497833033185</td>\n",
       "      <td>95,542,764.00</td>\n",
       "      <td>202,636,698.00</td>\n",
       "    </tr>\n",
       "    <tr>\n",
       "      <th>3</th>\n",
       "      <td>Automotores</td>\n",
       "      <td>2</td>\n",
       "      <td>SMG</td>\n",
       "      <td>2012-4</td>\n",
       "      <td>0,2417304900317</td>\n",
       "      <td>79,574,325.00</td>\n",
       "      <td>329,186,132.00</td>\n",
       "      <td>0,128289168322225</td>\n",
       "      <td>7,689,331.00</td>\n",
       "      <td>59,937,492.00</td>\n",
       "      <td>...</td>\n",
       "      <td>nan</td>\n",
       "      <td>0,9615066735282725586051082228</td>\n",
       "      <td>59885324</td>\n",
       "      <td>62282796</td>\n",
       "      <td>0,417950661043329</td>\n",
       "      <td>112,799,323.00</td>\n",
       "      <td>269,886,696.00</td>\n",
       "      <td>0,471497833033185</td>\n",
       "      <td>95,542,764.00</td>\n",
       "      <td>202,636,698.00</td>\n",
       "    </tr>\n",
       "    <tr>\n",
       "      <th>4</th>\n",
       "      <td>Automotores</td>\n",
       "      <td>2</td>\n",
       "      <td>SMG</td>\n",
       "      <td>2013-1</td>\n",
       "      <td>0,219199934520152</td>\n",
       "      <td>71,065,400.00</td>\n",
       "      <td>324,203,564.00</td>\n",
       "      <td>0,156928247543908</td>\n",
       "      <td>9,688,648.00</td>\n",
       "      <td>61,739,350.00</td>\n",
       "      <td>...</td>\n",
       "      <td>nan</td>\n",
       "      <td>0,5367655130253160668835050747</td>\n",
       "      <td>43372939</td>\n",
       "      <td>80804258</td>\n",
       "      <td>0,421370591319193</td>\n",
       "      <td>174,216,882.00</td>\n",
       "      <td>413,452,874.00</td>\n",
       "      <td>0,460833617410025</td>\n",
       "      <td>144,859,790.00</td>\n",
       "      <td>314,342,931.00</td>\n",
       "    </tr>\n",
       "  </tbody>\n",
       "</table>\n",
       "<p>5 rows × 130 columns</p>\n",
       "</div>"
      ],
      "text/plain": [
       "      Segmento  Cod Cia DenominacionCorta periodo             ind_01  \\\n",
       "0  Automotores        2               SMG  2012-2  0,105358598743742   \n",
       "1  Automotores        2               SMG  2012-3  0,146802925879989   \n",
       "2  Automotores        2               SMG  2012-4    0,2417304900317   \n",
       "3  Automotores        2               SMG  2012-4    0,2417304900317   \n",
       "4  Automotores        2               SMG  2013-1  0,219199934520152   \n",
       "\n",
       "     num_Ind_01     den_Ind_01             ind_02   num_Ind_02    den_Ind_02  \\\n",
       "0 26,588,784.00 252,364,632.00  0,144011628153388 8,256,855.00 57,334,641.00   \n",
       "1 41,770,748.00 284,536,209.00  0,139001427483297 8,058,769.00 57,976,160.00   \n",
       "2 79,574,325.00 329,186,132.00  0,128289168322225 7,689,331.00 59,937,492.00   \n",
       "3 79,574,325.00 329,186,132.00  0,128289168322225 7,689,331.00 59,937,492.00   \n",
       "4 71,065,400.00 324,203,564.00  0,156928247543908 9,688,648.00 61,739,350.00   \n",
       "\n",
       "       ...       den_Ind_40                          ind_41  num_Ind_41  \\\n",
       "0      ...              nan  0,6242516992754573341734537706    38753538   \n",
       "1      ...              nan  0,5918434595360580881707175794    33452221   \n",
       "2      ...              nan  0,9615066735282725586051082228    59885324   \n",
       "3      ...              nan  0,9615066735282725586051082228    59885324   \n",
       "4      ...              nan  0,5367655130253160668835050747    43372939   \n",
       "\n",
       "  den_Ind_41             ind_42     num_Ind_42     den_Ind_42  \\\n",
       "0   62079988  0,407543317110874 184,868,832.00 453,617,626.00   \n",
       "1   56522076  0,421782094960691  54,141,183.00 128,362,924.00   \n",
       "2   62282796  0,417950661043329 112,799,323.00 269,886,696.00   \n",
       "3   62282796  0,417950661043329 112,799,323.00 269,886,696.00   \n",
       "4   80804258  0,421370591319193 174,216,882.00 413,452,874.00   \n",
       "\n",
       "              ind_43     num_Ind_43     den_Ind_43  \n",
       "0  0,457614370768765 159,236,187.00 347,970,250.00  \n",
       "1   0,47388384323878  46,894,994.00  98,958,837.00  \n",
       "2  0,471497833033185  95,542,764.00 202,636,698.00  \n",
       "3  0,471497833033185  95,542,764.00 202,636,698.00  \n",
       "4  0,460833617410025 144,859,790.00 314,342,931.00  \n",
       "\n",
       "[5 rows x 130 columns]"
      ]
     },
     "execution_count": 9,
     "metadata": {},
     "output_type": "execute_result"
    }
   ],
   "source": [
    "data.head()"
   ]
  },
  {
   "cell_type": "code",
   "execution_count": 10,
   "metadata": {},
   "outputs": [],
   "source": [
    "#Filtro período\n",
    "data = data[(data.periodo=='2019-1')]\n",
    "\n",
    "# Reemplazo NA\n",
    "data = data.fillna(0)\n",
    "\n",
    "# Remplazo los \"den_cero\"\n",
    "data = data.replace(to_replace='den_cero', value=0)"
   ]
  },
  {
   "cell_type": "code",
   "execution_count": 11,
   "metadata": {},
   "outputs": [],
   "source": [
    "#Filtro las columnas\n",
    "\n",
    "colum = ['Cod Cia','Segmento','ind_01','ind_02','ind_03','ind_04','ind_05','ind_06','ind_08','ind_09','ind_10','ind_11','ind_12',\n",
    "'ind_13','ind_14','ind_15','ind_16','ind_17','ind_18','ind_19','ind_20','ind_21','ind_22','ind_23','ind_24','ind_25',\n",
    "'ind_26','ind_27','ind_28','ind_29','ind_30','ind_31','ind_32','ind_33','ind_34','ind_35','ind_36','ind_37','ind_38',\n",
    "'ind_39','ind_40','ind_41','ind_42','ind_43']\n",
    "\n",
    "data = data[colum]"
   ]
  },
  {
   "cell_type": "markdown",
   "metadata": {},
   "source": [
    "### Dataset Automotor"
   ]
  },
  {
   "cell_type": "code",
   "execution_count": 12,
   "metadata": {},
   "outputs": [],
   "source": [
    "data_autom= data.copy()\n",
    "\n",
    "# Filtro ramo automotor\n",
    "data_autom= data_autom[(data_autom.Segmento=='Automotores')]\n",
    "\n",
    "# Reseteo el indice\n",
    "data_autom= data_autom.reset_index()\n",
    "\n",
    "# Me quedo a parte con la columna de compañias\n",
    "cias_autom = data_autom['Cod Cia']\n",
    "\n",
    "# Filtro todo lo que no sea indicadores\n",
    "data_autom= data_autom.iloc[:, 3:]"
   ]
  },
  {
   "cell_type": "code",
   "execution_count": 13,
   "metadata": {},
   "outputs": [],
   "source": [
    "# Reemplazo punto por coma y lo convierto en flotante\n",
    "\n",
    "for i in data_autom.columns:\n",
    "    data_autom[i] = data_autom[i].map(lambda x: x if isinstance(x,int) else float(x.replace(\",\",\".\")))"
   ]
  },
  {
   "cell_type": "code",
   "execution_count": 14,
   "metadata": {},
   "outputs": [
    {
     "data": {
      "text/html": [
       "<div>\n",
       "<style scoped>\n",
       "    .dataframe tbody tr th:only-of-type {\n",
       "        vertical-align: middle;\n",
       "    }\n",
       "\n",
       "    .dataframe tbody tr th {\n",
       "        vertical-align: top;\n",
       "    }\n",
       "\n",
       "    .dataframe thead th {\n",
       "        text-align: right;\n",
       "    }\n",
       "</style>\n",
       "<table border=\"1\" class=\"dataframe\">\n",
       "  <thead>\n",
       "    <tr style=\"text-align: right;\">\n",
       "      <th></th>\n",
       "      <th>ind_01</th>\n",
       "      <th>ind_02</th>\n",
       "      <th>ind_03</th>\n",
       "      <th>ind_04</th>\n",
       "      <th>ind_05</th>\n",
       "      <th>ind_06</th>\n",
       "      <th>ind_08</th>\n",
       "      <th>ind_09</th>\n",
       "      <th>ind_10</th>\n",
       "      <th>ind_11</th>\n",
       "      <th>...</th>\n",
       "      <th>ind_34</th>\n",
       "      <th>ind_35</th>\n",
       "      <th>ind_36</th>\n",
       "      <th>ind_37</th>\n",
       "      <th>ind_38</th>\n",
       "      <th>ind_39</th>\n",
       "      <th>ind_40</th>\n",
       "      <th>ind_41</th>\n",
       "      <th>ind_42</th>\n",
       "      <th>ind_43</th>\n",
       "    </tr>\n",
       "  </thead>\n",
       "  <tbody>\n",
       "    <tr>\n",
       "      <th>0</th>\n",
       "      <td>0.00</td>\n",
       "      <td>0.00</td>\n",
       "      <td>0.01</td>\n",
       "      <td>0.39</td>\n",
       "      <td>-0.15</td>\n",
       "      <td>0.70</td>\n",
       "      <td>0.00</td>\n",
       "      <td>0.00</td>\n",
       "      <td>0.01</td>\n",
       "      <td>0.00</td>\n",
       "      <td>...</td>\n",
       "      <td>0.31</td>\n",
       "      <td>0.13</td>\n",
       "      <td>0.02</td>\n",
       "      <td>0.00</td>\n",
       "      <td>0.90</td>\n",
       "      <td>0.89</td>\n",
       "      <td>0.00</td>\n",
       "      <td>16.18</td>\n",
       "      <td>0.48</td>\n",
       "      <td>0.00</td>\n",
       "    </tr>\n",
       "    <tr>\n",
       "      <th>1</th>\n",
       "      <td>0.00</td>\n",
       "      <td>0.00</td>\n",
       "      <td>0.00</td>\n",
       "      <td>0.43</td>\n",
       "      <td>-0.07</td>\n",
       "      <td>0.77</td>\n",
       "      <td>0.49</td>\n",
       "      <td>0.00</td>\n",
       "      <td>0.00</td>\n",
       "      <td>0.00</td>\n",
       "      <td>...</td>\n",
       "      <td>0.32</td>\n",
       "      <td>0.36</td>\n",
       "      <td>0.01</td>\n",
       "      <td>1.11</td>\n",
       "      <td>0.39</td>\n",
       "      <td>0.38</td>\n",
       "      <td>0.00</td>\n",
       "      <td>5.09</td>\n",
       "      <td>0.72</td>\n",
       "      <td>0.73</td>\n",
       "    </tr>\n",
       "    <tr>\n",
       "      <th>2</th>\n",
       "      <td>0.08</td>\n",
       "      <td>0.06</td>\n",
       "      <td>0.04</td>\n",
       "      <td>0.33</td>\n",
       "      <td>-0.03</td>\n",
       "      <td>0.22</td>\n",
       "      <td>0.38</td>\n",
       "      <td>0.32</td>\n",
       "      <td>0.00</td>\n",
       "      <td>0.00</td>\n",
       "      <td>...</td>\n",
       "      <td>0.21</td>\n",
       "      <td>0.29</td>\n",
       "      <td>-0.00</td>\n",
       "      <td>1.05</td>\n",
       "      <td>0.54</td>\n",
       "      <td>0.52</td>\n",
       "      <td>0.00</td>\n",
       "      <td>102.41</td>\n",
       "      <td>0.51</td>\n",
       "      <td>0.51</td>\n",
       "    </tr>\n",
       "    <tr>\n",
       "      <th>3</th>\n",
       "      <td>0.00</td>\n",
       "      <td>0.00</td>\n",
       "      <td>0.00</td>\n",
       "      <td>0.25</td>\n",
       "      <td>-0.01</td>\n",
       "      <td>0.72</td>\n",
       "      <td>0.00</td>\n",
       "      <td>0.00</td>\n",
       "      <td>0.00</td>\n",
       "      <td>0.00</td>\n",
       "      <td>...</td>\n",
       "      <td>0.31</td>\n",
       "      <td>0.20</td>\n",
       "      <td>0.01</td>\n",
       "      <td>0.00</td>\n",
       "      <td>0.51</td>\n",
       "      <td>0.50</td>\n",
       "      <td>0.00</td>\n",
       "      <td>3.77</td>\n",
       "      <td>0.56</td>\n",
       "      <td>0.00</td>\n",
       "    </tr>\n",
       "    <tr>\n",
       "      <th>4</th>\n",
       "      <td>0.17</td>\n",
       "      <td>0.04</td>\n",
       "      <td>0.01</td>\n",
       "      <td>0.27</td>\n",
       "      <td>-0.06</td>\n",
       "      <td>0.90</td>\n",
       "      <td>0.35</td>\n",
       "      <td>0.11</td>\n",
       "      <td>0.00</td>\n",
       "      <td>0.00</td>\n",
       "      <td>...</td>\n",
       "      <td>0.30</td>\n",
       "      <td>0.21</td>\n",
       "      <td>0.15</td>\n",
       "      <td>1.22</td>\n",
       "      <td>0.62</td>\n",
       "      <td>0.61</td>\n",
       "      <td>0.00</td>\n",
       "      <td>9.75</td>\n",
       "      <td>0.53</td>\n",
       "      <td>0.60</td>\n",
       "    </tr>\n",
       "  </tbody>\n",
       "</table>\n",
       "<p>5 rows × 42 columns</p>\n",
       "</div>"
      ],
      "text/plain": [
       "   ind_01  ind_02  ind_03  ind_04  ind_05  ind_06  ind_08  ind_09  ind_10  \\\n",
       "0    0.00    0.00    0.01    0.39   -0.15    0.70    0.00    0.00    0.01   \n",
       "1    0.00    0.00    0.00    0.43   -0.07    0.77    0.49    0.00    0.00   \n",
       "2    0.08    0.06    0.04    0.33   -0.03    0.22    0.38    0.32    0.00   \n",
       "3    0.00    0.00    0.00    0.25   -0.01    0.72    0.00    0.00    0.00   \n",
       "4    0.17    0.04    0.01    0.27   -0.06    0.90    0.35    0.11    0.00   \n",
       "\n",
       "   ind_11   ...    ind_34  ind_35  ind_36  ind_37  ind_38  ind_39  ind_40  \\\n",
       "0    0.00   ...      0.31    0.13    0.02    0.00    0.90    0.89    0.00   \n",
       "1    0.00   ...      0.32    0.36    0.01    1.11    0.39    0.38    0.00   \n",
       "2    0.00   ...      0.21    0.29   -0.00    1.05    0.54    0.52    0.00   \n",
       "3    0.00   ...      0.31    0.20    0.01    0.00    0.51    0.50    0.00   \n",
       "4    0.00   ...      0.30    0.21    0.15    1.22    0.62    0.61    0.00   \n",
       "\n",
       "   ind_41  ind_42  ind_43  \n",
       "0   16.18    0.48    0.00  \n",
       "1    5.09    0.72    0.73  \n",
       "2  102.41    0.51    0.51  \n",
       "3    3.77    0.56    0.00  \n",
       "4    9.75    0.53    0.60  \n",
       "\n",
       "[5 rows x 42 columns]"
      ]
     },
     "execution_count": 14,
     "metadata": {},
     "output_type": "execute_result"
    }
   ],
   "source": [
    "data_autom.head()"
   ]
  },
  {
   "cell_type": "code",
   "execution_count": 15,
   "metadata": {},
   "outputs": [
    {
     "data": {
      "text/plain": [
       "(46, 42)"
      ]
     },
     "execution_count": 15,
     "metadata": {},
     "output_type": "execute_result"
    }
   ],
   "source": [
    "# Cantidad de Filas + Cantidad de Columnas\n",
    "\n",
    "data_autom.shape"
   ]
  },
  {
   "cell_type": "code",
   "execution_count": 16,
   "metadata": {},
   "outputs": [],
   "source": [
    "# Normalizo\n",
    "\n",
    "data_autom_norm = (data_autom-data_autom.min())/(data_autom.max()-data_autom.min())"
   ]
  },
  {
   "cell_type": "code",
   "execution_count": 17,
   "metadata": {},
   "outputs": [],
   "source": [
    "# Pruebo con los indicadores raíz\n",
    "\n",
    "autom_model = data_autom_norm[['ind_04','ind_20','ind_22','ind_19','ind_36']]"
   ]
  },
  {
   "cell_type": "code",
   "execution_count": 18,
   "metadata": {},
   "outputs": [
    {
     "data": {
      "text/html": [
       "<div>\n",
       "<style scoped>\n",
       "    .dataframe tbody tr th:only-of-type {\n",
       "        vertical-align: middle;\n",
       "    }\n",
       "\n",
       "    .dataframe tbody tr th {\n",
       "        vertical-align: top;\n",
       "    }\n",
       "\n",
       "    .dataframe thead th {\n",
       "        text-align: right;\n",
       "    }\n",
       "</style>\n",
       "<table border=\"1\" class=\"dataframe\">\n",
       "  <thead>\n",
       "    <tr style=\"text-align: right;\">\n",
       "      <th></th>\n",
       "      <th>ind_04</th>\n",
       "      <th>ind_20</th>\n",
       "      <th>ind_22</th>\n",
       "      <th>ind_19</th>\n",
       "      <th>ind_36</th>\n",
       "    </tr>\n",
       "  </thead>\n",
       "  <tbody>\n",
       "    <tr>\n",
       "      <th>0</th>\n",
       "      <td>0.65</td>\n",
       "      <td>0.00</td>\n",
       "      <td>0.17</td>\n",
       "      <td>0.95</td>\n",
       "      <td>0.04</td>\n",
       "    </tr>\n",
       "    <tr>\n",
       "      <th>1</th>\n",
       "      <td>0.72</td>\n",
       "      <td>0.24</td>\n",
       "      <td>0.06</td>\n",
       "      <td>0.97</td>\n",
       "      <td>0.03</td>\n",
       "    </tr>\n",
       "    <tr>\n",
       "      <th>2</th>\n",
       "      <td>0.54</td>\n",
       "      <td>0.53</td>\n",
       "      <td>0.00</td>\n",
       "      <td>0.98</td>\n",
       "      <td>0.00</td>\n",
       "    </tr>\n",
       "    <tr>\n",
       "      <th>3</th>\n",
       "      <td>0.40</td>\n",
       "      <td>0.22</td>\n",
       "      <td>0.05</td>\n",
       "      <td>0.98</td>\n",
       "      <td>0.02</td>\n",
       "    </tr>\n",
       "    <tr>\n",
       "      <th>4</th>\n",
       "      <td>0.44</td>\n",
       "      <td>0.65</td>\n",
       "      <td>0.02</td>\n",
       "      <td>0.95</td>\n",
       "      <td>0.38</td>\n",
       "    </tr>\n",
       "  </tbody>\n",
       "</table>\n",
       "</div>"
      ],
      "text/plain": [
       "   ind_04  ind_20  ind_22  ind_19  ind_36\n",
       "0    0.65    0.00    0.17    0.95    0.04\n",
       "1    0.72    0.24    0.06    0.97    0.03\n",
       "2    0.54    0.53    0.00    0.98    0.00\n",
       "3    0.40    0.22    0.05    0.98    0.02\n",
       "4    0.44    0.65    0.02    0.95    0.38"
      ]
     },
     "execution_count": 18,
     "metadata": {},
     "output_type": "execute_result"
    }
   ],
   "source": [
    "autom_model.head()"
   ]
  },
  {
   "cell_type": "markdown",
   "metadata": {},
   "source": [
    "### Modelo Clustering"
   ]
  },
  {
   "cell_type": "code",
   "execution_count": 19,
   "metadata": {},
   "outputs": [
    {
     "data": {
      "text/plain": [
       "(5, 5)"
      ]
     },
     "execution_count": 19,
     "metadata": {},
     "output_type": "execute_result"
    }
   ],
   "source": [
    "# Defino la cantidad de Clusters\n",
    "n_clusters=5\n",
    "\n",
    "# Defino el modelo\n",
    "kmeans = KMeans(n_clusters=n_clusters, random_state=0)\n",
    "\n",
    "# Aplico el modelo al dataset\n",
    "clusters = kmeans.fit_predict(autom_model)\n",
    "\n",
    "# Visualizo la candidad de clusters y centroides\n",
    "kmeans.cluster_centers_.shape"
   ]
  },
  {
   "cell_type": "code",
   "execution_count": 20,
   "metadata": {},
   "outputs": [
    {
     "data": {
      "text/plain": [
       "array([3, 3, 3, 3, 2, 0, 0, 0, 3, 3, 3, 0, 0, 2, 3, 2, 0, 0, 0, 3, 2, 2,\n",
       "       1, 1, 4, 3, 1, 1, 1, 3, 2, 0, 2, 2, 1, 0, 2, 1, 1, 2, 0, 1, 1, 1,\n",
       "       0, 0])"
      ]
     },
     "execution_count": 20,
     "metadata": {},
     "output_type": "execute_result"
    }
   ],
   "source": [
    "# Visualizo el array de clusters\n",
    "clusters"
   ]
  },
  {
   "cell_type": "code",
   "execution_count": 21,
   "metadata": {},
   "outputs": [
    {
     "data": {
      "text/plain": [
       "array([3, 3, 3, 3, 2, 0, 0, 0, 3, 3, 3, 0, 0, 2, 3, 2, 0, 0, 0, 3, 2, 2,\n",
       "       1, 1, 4, 3, 1, 1, 1, 3, 2, 0, 2, 2, 1, 0, 2, 1, 1, 2, 0, 1, 1, 1,\n",
       "       0, 0])"
      ]
     },
     "execution_count": 21,
     "metadata": {},
     "output_type": "execute_result"
    }
   ],
   "source": [
    "# Visualizo las etiquetas del modelo \n",
    "\n",
    "kmeans.labels_"
   ]
  },
  {
   "cell_type": "code",
   "execution_count": 22,
   "metadata": {},
   "outputs": [],
   "source": [
    "# Convierto las etiquetas en una serie \n",
    "\n",
    "md_k = pd.Series(kmeans.labels_)"
   ]
  },
  {
   "cell_type": "code",
   "execution_count": 23,
   "metadata": {},
   "outputs": [
    {
     "data": {
      "text/html": [
       "<div>\n",
       "<style scoped>\n",
       "    .dataframe tbody tr th:only-of-type {\n",
       "        vertical-align: middle;\n",
       "    }\n",
       "\n",
       "    .dataframe tbody tr th {\n",
       "        vertical-align: top;\n",
       "    }\n",
       "\n",
       "    .dataframe thead th {\n",
       "        text-align: right;\n",
       "    }\n",
       "</style>\n",
       "<table border=\"1\" class=\"dataframe\">\n",
       "  <thead>\n",
       "    <tr style=\"text-align: right;\">\n",
       "      <th></th>\n",
       "      <th>ind_04</th>\n",
       "      <th>ind_20</th>\n",
       "      <th>ind_22</th>\n",
       "      <th>ind_19</th>\n",
       "      <th>ind_36</th>\n",
       "      <th>clust_k</th>\n",
       "      <th>cod_cia</th>\n",
       "    </tr>\n",
       "  </thead>\n",
       "  <tbody>\n",
       "    <tr>\n",
       "      <th>0</th>\n",
       "      <td>0.65</td>\n",
       "      <td>0.00</td>\n",
       "      <td>0.17</td>\n",
       "      <td>0.95</td>\n",
       "      <td>0.04</td>\n",
       "      <td>3</td>\n",
       "      <td>348</td>\n",
       "    </tr>\n",
       "    <tr>\n",
       "      <th>1</th>\n",
       "      <td>0.72</td>\n",
       "      <td>0.24</td>\n",
       "      <td>0.06</td>\n",
       "      <td>0.97</td>\n",
       "      <td>0.03</td>\n",
       "      <td>3</td>\n",
       "      <td>746</td>\n",
       "    </tr>\n",
       "    <tr>\n",
       "      <th>2</th>\n",
       "      <td>0.54</td>\n",
       "      <td>0.53</td>\n",
       "      <td>0.00</td>\n",
       "      <td>0.98</td>\n",
       "      <td>0.00</td>\n",
       "      <td>3</td>\n",
       "      <td>57</td>\n",
       "    </tr>\n",
       "    <tr>\n",
       "      <th>3</th>\n",
       "      <td>0.40</td>\n",
       "      <td>0.22</td>\n",
       "      <td>0.05</td>\n",
       "      <td>0.98</td>\n",
       "      <td>0.02</td>\n",
       "      <td>3</td>\n",
       "      <td>852</td>\n",
       "    </tr>\n",
       "    <tr>\n",
       "      <th>4</th>\n",
       "      <td>0.44</td>\n",
       "      <td>0.65</td>\n",
       "      <td>0.02</td>\n",
       "      <td>0.95</td>\n",
       "      <td>0.38</td>\n",
       "      <td>2</td>\n",
       "      <td>32</td>\n",
       "    </tr>\n",
       "  </tbody>\n",
       "</table>\n",
       "</div>"
      ],
      "text/plain": [
       "   ind_04  ind_20  ind_22  ind_19  ind_36  clust_k  cod_cia\n",
       "0    0.65    0.00    0.17    0.95    0.04        3      348\n",
       "1    0.72    0.24    0.06    0.97    0.03        3      746\n",
       "2    0.54    0.53    0.00    0.98    0.00        3       57\n",
       "3    0.40    0.22    0.05    0.98    0.02        3      852\n",
       "4    0.44    0.65    0.02    0.95    0.38        2       32"
      ]
     },
     "execution_count": 23,
     "metadata": {},
     "output_type": "execute_result"
    }
   ],
   "source": [
    "# Genero el dataset con los indicadores, los clusters y la compañía para poder identificarlas \n",
    "\n",
    "Autom_CM = autom_model.copy()\n",
    "Autom_CM[\"clust_k\"] = md_k\n",
    "Autom_CM['cod_cia'] = cias_autom\n",
    "\n",
    "Autom_CM.head()"
   ]
  },
  {
   "cell_type": "code",
   "execution_count": 24,
   "metadata": {},
   "outputs": [
    {
     "data": {
      "text/plain": [
       "(array([13.,  0., 11.,  0.,  0., 10.,  0., 11.,  0.,  1.]),\n",
       " array([0. , 0.4, 0.8, 1.2, 1.6, 2. , 2.4, 2.8, 3.2, 3.6, 4. ]),\n",
       " <a list of 10 Patch objects>)"
      ]
     },
     "execution_count": 24,
     "metadata": {},
     "output_type": "execute_result"
    },
    {
     "data": {
      "image/png": "[encoded data removed]",
      "text/plain": [
       "<Figure size 432x288 with 1 Axes>"
      ]
     },
     "metadata": {
      "needs_background": "light"
     },
     "output_type": "display_data"
    }
   ],
   "source": [
    "# Veo la frecuencia de los clusters\n",
    "\n",
    "plt.hist(md_k)"
   ]
  },
  {
   "cell_type": "code",
   "execution_count": 25,
   "metadata": {},
   "outputs": [
    {
     "data": {
      "text/html": [
       "<div>\n",
       "<style scoped>\n",
       "    .dataframe tbody tr th:only-of-type {\n",
       "        vertical-align: middle;\n",
       "    }\n",
       "\n",
       "    .dataframe tbody tr th {\n",
       "        vertical-align: top;\n",
       "    }\n",
       "\n",
       "    .dataframe thead th {\n",
       "        text-align: right;\n",
       "    }\n",
       "</style>\n",
       "<table border=\"1\" class=\"dataframe\">\n",
       "  <thead>\n",
       "    <tr style=\"text-align: right;\">\n",
       "      <th></th>\n",
       "      <th>ind_04</th>\n",
       "      <th>ind_20</th>\n",
       "      <th>ind_22</th>\n",
       "      <th>ind_19</th>\n",
       "      <th>ind_36</th>\n",
       "      <th>clust_k</th>\n",
       "      <th>cod_cia</th>\n",
       "      <th>denominacion_corta</th>\n",
       "    </tr>\n",
       "  </thead>\n",
       "  <tbody>\n",
       "    <tr>\n",
       "      <th>0</th>\n",
       "      <td>0.65</td>\n",
       "      <td>0.00</td>\n",
       "      <td>0.17</td>\n",
       "      <td>0.95</td>\n",
       "      <td>0.04</td>\n",
       "      <td>3</td>\n",
       "      <td>348</td>\n",
       "      <td>PRODUCTORES DE FRUTAS</td>\n",
       "    </tr>\n",
       "    <tr>\n",
       "      <th>1</th>\n",
       "      <td>0.72</td>\n",
       "      <td>0.24</td>\n",
       "      <td>0.06</td>\n",
       "      <td>0.97</td>\n",
       "      <td>0.03</td>\n",
       "      <td>3</td>\n",
       "      <td>746</td>\n",
       "      <td>ESCUDO</td>\n",
       "    </tr>\n",
       "    <tr>\n",
       "      <th>2</th>\n",
       "      <td>0.54</td>\n",
       "      <td>0.53</td>\n",
       "      <td>0.00</td>\n",
       "      <td>0.98</td>\n",
       "      <td>0.00</td>\n",
       "      <td>3</td>\n",
       "      <td>57</td>\n",
       "      <td>CALEDONIA</td>\n",
       "    </tr>\n",
       "    <tr>\n",
       "      <th>3</th>\n",
       "      <td>0.40</td>\n",
       "      <td>0.22</td>\n",
       "      <td>0.05</td>\n",
       "      <td>0.98</td>\n",
       "      <td>0.02</td>\n",
       "      <td>3</td>\n",
       "      <td>852</td>\n",
       "      <td>LIBRA</td>\n",
       "    </tr>\n",
       "    <tr>\n",
       "      <th>4</th>\n",
       "      <td>0.44</td>\n",
       "      <td>0.65</td>\n",
       "      <td>0.02</td>\n",
       "      <td>0.95</td>\n",
       "      <td>0.38</td>\n",
       "      <td>2</td>\n",
       "      <td>32</td>\n",
       "      <td>BOSTON</td>\n",
       "    </tr>\n",
       "  </tbody>\n",
       "</table>\n",
       "</div>"
      ],
      "text/plain": [
       "   ind_04  ind_20  ind_22  ind_19  ind_36  clust_k  cod_cia  \\\n",
       "0    0.65    0.00    0.17    0.95    0.04        3      348   \n",
       "1    0.72    0.24    0.06    0.97    0.03        3      746   \n",
       "2    0.54    0.53    0.00    0.98    0.00        3       57   \n",
       "3    0.40    0.22    0.05    0.98    0.02        3      852   \n",
       "4    0.44    0.65    0.02    0.95    0.38        2       32   \n",
       "\n",
       "      denominacion_corta  \n",
       "0  PRODUCTORES DE FRUTAS  \n",
       "1                ESCUDO   \n",
       "2              CALEDONIA  \n",
       "3                  LIBRA  \n",
       "4                 BOSTON  "
      ]
     },
     "execution_count": 25,
     "metadata": {},
     "output_type": "execute_result"
    }
   ],
   "source": [
    "# Agrego la denominación de la compañía\n",
    "\n",
    "den_corta = pd.read_excel(r'input\\ART\\Dataset_Compañías.xlsx', usecols='A,B')\n",
    "\n",
    "Autom_CM = Autom_CM.merge(den_corta, how='left', on=['cod_cia'])\n",
    "\n",
    "Autom_CM.head()"
   ]
  },
  {
   "cell_type": "code",
   "execution_count": 26,
   "metadata": {},
   "outputs": [],
   "source": [
    "# Exporto Dataset\n",
    "\n",
    "Autom_CM.to_excel(r'output\\Cluster Automotor.xlsx', sheet_name='Autom', index=False)"
   ]
  },
  {
   "cell_type": "markdown",
   "metadata": {},
   "source": [
    "#### Método del codo (Elbow Method)\n",
    "Este método utiliza los valores de la inercia obtenidos tras aplicar el K-means a diferente número de Clusters (desde 1 a N Clusters), siendo la inercia la suma de las distancias al cuadrado de cada objeto del Cluster a su centroide:\n",
    "\n",
    "<img src=https://jarroba.com/wp-content/uploads/2016/05/kmeans_inercia_jarroba.png>\n",
    "\n",
    "Una vez obtenidos los valores de la inercia tras aplicar el K-means de 1 a N Clusters, representamos en una gráfica lineal la inercia respecto del número de Clusters. En esta gráfica se debería de apreciar un cambio brusco en la evolución de la inercia, teniendo la línea representada una forma similar a la de un brazo y su codo. El punto en el que se observa ese cambio brusco en la inercia nos dirá el número óptimo de Clusters a seleccionar para ese data set; o dicho de otra manera: el punto que representaría al codo del brazo será el número óptimo de Clusters para ese data set."
   ]
  },
  {
   "cell_type": "code",
   "execution_count": 27,
   "metadata": {},
   "outputs": [],
   "source": [
    "X = pd.DataFrame(autom_model).values\n",
    "\n",
    "max_k = 10 \n",
    "K = range(1,max_k)\n",
    "ssw = []\n",
    "centroid = [sum(X)/len(X) for i in K]\n",
    "sst = sum(np.min(cdist(X, centroid, 'euclidean'), axis = 1))\n",
    "\n",
    "\n",
    "for k in K:\n",
    "    kmeanModel = KMeans(n_clusters=k).fit(X)\n",
    "    \n",
    "    centers = pd.DataFrame(kmeanModel.cluster_centers_)\n",
    "    labels = kmeanModel.labels_\n",
    "    \n",
    "    ssw_k = sum(np.min(cdist(X, kmeanModel.cluster_centers_, \"euclidean\"), axis = 1))\n",
    "    ssw.append(ssw_k)"
   ]
  },
  {
   "cell_type": "code",
   "execution_count": 28,
   "metadata": {},
   "outputs": [
    {
     "data": {
      "image/png": "[encoded data removed]",
      "text/plain": [
       "<Figure size 432x288 with 1 Axes>"
      ]
     },
     "metadata": {
      "needs_background": "light"
     },
     "output_type": "display_data"
    }
   ],
   "source": [
    "#Representación del codo\n",
    "plt.plot(K, ssw, \"bx-\")\n",
    "plt.xlabel(\"k\")\n",
    "plt.ylabel(\"SSw(k)\")\n",
    "plt.title(\"La técnica del codo para encontrar el k óptimo\")\n",
    "plt.show()"
   ]
  },
  {
   "cell_type": "markdown",
   "metadata": {},
   "source": [
    "### PCA para graficar"
   ]
  },
  {
   "cell_type": "markdown",
   "metadata": {},
   "source": [
    "#### Variabilidad a representar"
   ]
  },
  {
   "cell_type": "code",
   "execution_count": 29,
   "metadata": {
    "scrolled": true
   },
   "outputs": [
    {
     "data": {
      "text/plain": [
       "Text(0,0.5,'varianza explicada acumulada')"
      ]
     },
     "execution_count": 29,
     "metadata": {},
     "output_type": "execute_result"
    },
    {
     "data": {
      "image/png": "[encoded data removed]",
      "text/plain": [
       "<Figure size 432x288 with 1 Axes>"
      ]
     },
     "metadata": {
      "needs_background": "light"
     },
     "output_type": "display_data"
    }
   ],
   "source": [
    "pca = sklearnPCA().fit(autom_model)\n",
    "plt.plot(np.cumsum(pca.explained_variance_ratio_))\n",
    "plt.xlabel('cantidad de componentes')\n",
    "plt.ylabel('varianza explicada acumulada')"
   ]
  },
  {
   "cell_type": "code",
   "execution_count": 30,
   "metadata": {},
   "outputs": [
    {
     "data": {
      "text/plain": [
       "3"
      ]
     },
     "execution_count": 30,
     "metadata": {},
     "output_type": "execute_result"
    }
   ],
   "source": [
    "pca_eval = sklearnPCA(0.80).fit(autom_model)\n",
    "pca_eval.n_components_"
   ]
  },
  {
   "cell_type": "markdown",
   "metadata": {},
   "source": [
    "#### Aplico PCA"
   ]
  },
  {
   "cell_type": "code",
   "execution_count": 31,
   "metadata": {},
   "outputs": [],
   "source": [
    "# Defino la cantidad de componentes\n",
    "pca = sklearnPCA(n_components=3)\n",
    "\n",
    "# Aplico el modelo al dataset\n",
    "principalComponents = pca.fit_transform(autom_model)"
   ]
  },
  {
   "cell_type": "code",
   "execution_count": 32,
   "metadata": {},
   "outputs": [],
   "source": [
    "# Convierto las componentes principales en un dataframe\n",
    "\n",
    "principalDf = pd.DataFrame(data = principalComponents, columns = ['Principal componente 1', 'Principal componente 2', 'Principal componente 3'])"
   ]
  },
  {
   "cell_type": "code",
   "execution_count": 33,
   "metadata": {},
   "outputs": [
    {
     "data": {
      "text/html": [
       "<div>\n",
       "<style scoped>\n",
       "    .dataframe tbody tr th:only-of-type {\n",
       "        vertical-align: middle;\n",
       "    }\n",
       "\n",
       "    .dataframe tbody tr th {\n",
       "        vertical-align: top;\n",
       "    }\n",
       "\n",
       "    .dataframe thead th {\n",
       "        text-align: right;\n",
       "    }\n",
       "</style>\n",
       "<table border=\"1\" class=\"dataframe\">\n",
       "  <thead>\n",
       "    <tr style=\"text-align: right;\">\n",
       "      <th></th>\n",
       "      <th>Principal componente 1</th>\n",
       "      <th>Principal componente 2</th>\n",
       "      <th>Principal componente 3</th>\n",
       "    </tr>\n",
       "  </thead>\n",
       "  <tbody>\n",
       "    <tr>\n",
       "      <th>0</th>\n",
       "      <td>0.61</td>\n",
       "      <td>0.40</td>\n",
       "      <td>0.08</td>\n",
       "    </tr>\n",
       "    <tr>\n",
       "      <th>1</th>\n",
       "      <td>0.50</td>\n",
       "      <td>0.34</td>\n",
       "      <td>-0.04</td>\n",
       "    </tr>\n",
       "    <tr>\n",
       "      <th>2</th>\n",
       "      <td>0.32</td>\n",
       "      <td>0.10</td>\n",
       "      <td>-0.16</td>\n",
       "    </tr>\n",
       "    <tr>\n",
       "      <th>3</th>\n",
       "      <td>0.46</td>\n",
       "      <td>0.16</td>\n",
       "      <td>-0.12</td>\n",
       "    </tr>\n",
       "    <tr>\n",
       "      <th>4</th>\n",
       "      <td>-0.05</td>\n",
       "      <td>0.20</td>\n",
       "      <td>-0.18</td>\n",
       "    </tr>\n",
       "  </tbody>\n",
       "</table>\n",
       "</div>"
      ],
      "text/plain": [
       "   Principal componente 1  Principal componente 2  Principal componente 3\n",
       "0                    0.61                    0.40                    0.08\n",
       "1                    0.50                    0.34                   -0.04\n",
       "2                    0.32                    0.10                   -0.16\n",
       "3                    0.46                    0.16                   -0.12\n",
       "4                   -0.05                    0.20                   -0.18"
      ]
     },
     "execution_count": 33,
     "metadata": {},
     "output_type": "execute_result"
    }
   ],
   "source": [
    "principalDf.head()"
   ]
  },
  {
   "cell_type": "markdown",
   "metadata": {},
   "source": [
    "#### Pesos de las componentes principales"
   ]
  },
  {
   "cell_type": "code",
   "execution_count": 34,
   "metadata": {},
   "outputs": [
    {
     "data": {
      "text/plain": [
       "array([[1., 0., 0., 0., 0.],\n",
       "       [0., 1., 0., 0., 0.],\n",
       "       [0., 0., 1., 0., 0.],\n",
       "       [0., 0., 0., 1., 0.],\n",
       "       [0., 0., 0., 0., 1.]])"
      ]
     },
     "execution_count": 34,
     "metadata": {},
     "output_type": "execute_result"
    }
   ],
   "source": [
    "i = np.identity(autom_model.shape[1])\n",
    "i"
   ]
  },
  {
   "cell_type": "code",
   "execution_count": 35,
   "metadata": {},
   "outputs": [
    {
     "data": {
      "text/plain": [
       "array([[ 0.84410098,  0.74982421,  0.28699701],\n",
       "       [ 0.0629771 , -0.30776925, -0.05207044],\n",
       "       [ 0.50879944, -0.06407869,  0.96326775],\n",
       "       [ 0.55102276,  0.03084613, -0.25208477],\n",
       "       [-0.07207833,  0.77217631,  0.02555205]])"
      ]
     },
     "execution_count": 35,
     "metadata": {},
     "output_type": "execute_result"
    }
   ],
   "source": [
    "coef = pca.transform(i)\n",
    "coef"
   ]
  },
  {
   "cell_type": "code",
   "execution_count": 36,
   "metadata": {},
   "outputs": [
    {
     "data": {
      "text/html": [
       "<div>\n",
       "<style scoped>\n",
       "    .dataframe tbody tr th:only-of-type {\n",
       "        vertical-align: middle;\n",
       "    }\n",
       "\n",
       "    .dataframe tbody tr th {\n",
       "        vertical-align: top;\n",
       "    }\n",
       "\n",
       "    .dataframe thead th {\n",
       "        text-align: right;\n",
       "    }\n",
       "</style>\n",
       "<table border=\"1\" class=\"dataframe\">\n",
       "  <thead>\n",
       "    <tr style=\"text-align: right;\">\n",
       "      <th></th>\n",
       "      <th>PC-1</th>\n",
       "      <th>PC-2</th>\n",
       "      <th>PC-3</th>\n",
       "    </tr>\n",
       "  </thead>\n",
       "  <tbody>\n",
       "    <tr>\n",
       "      <th>ind_04</th>\n",
       "      <td>0.84</td>\n",
       "      <td>0.75</td>\n",
       "      <td>0.29</td>\n",
       "    </tr>\n",
       "    <tr>\n",
       "      <th>ind_20</th>\n",
       "      <td>0.06</td>\n",
       "      <td>-0.31</td>\n",
       "      <td>-0.05</td>\n",
       "    </tr>\n",
       "    <tr>\n",
       "      <th>ind_22</th>\n",
       "      <td>0.51</td>\n",
       "      <td>-0.06</td>\n",
       "      <td>0.96</td>\n",
       "    </tr>\n",
       "    <tr>\n",
       "      <th>ind_19</th>\n",
       "      <td>0.55</td>\n",
       "      <td>0.03</td>\n",
       "      <td>-0.25</td>\n",
       "    </tr>\n",
       "    <tr>\n",
       "      <th>ind_36</th>\n",
       "      <td>-0.07</td>\n",
       "      <td>0.77</td>\n",
       "      <td>0.03</td>\n",
       "    </tr>\n",
       "  </tbody>\n",
       "</table>\n",
       "</div>"
      ],
      "text/plain": [
       "        PC-1  PC-2  PC-3\n",
       "ind_04  0.84  0.75  0.29\n",
       "ind_20  0.06 -0.31 -0.05\n",
       "ind_22  0.51 -0.06  0.96\n",
       "ind_19  0.55  0.03 -0.25\n",
       "ind_36 -0.07  0.77  0.03"
      ]
     },
     "execution_count": 36,
     "metadata": {},
     "output_type": "execute_result"
    }
   ],
   "source": [
    "pd.DataFrame(coef, columns=['PC-1', 'PC-2', 'PC-3'], index=autom_model.columns)"
   ]
  },
  {
   "cell_type": "markdown",
   "metadata": {},
   "source": [
    "#### Visualización de los clusters"
   ]
  },
  {
   "cell_type": "code",
   "execution_count": 37,
   "metadata": {
    "scrolled": true
   },
   "outputs": [
    {
     "data": {
      "text/html": [
       "<div>\n",
       "<style scoped>\n",
       "    .dataframe tbody tr th:only-of-type {\n",
       "        vertical-align: middle;\n",
       "    }\n",
       "\n",
       "    .dataframe tbody tr th {\n",
       "        vertical-align: top;\n",
       "    }\n",
       "\n",
       "    .dataframe thead th {\n",
       "        text-align: right;\n",
       "    }\n",
       "</style>\n",
       "<table border=\"1\" class=\"dataframe\">\n",
       "  <thead>\n",
       "    <tr style=\"text-align: right;\">\n",
       "      <th></th>\n",
       "      <th>Principal componente 1</th>\n",
       "      <th>Principal componente 2</th>\n",
       "      <th>Principal componente 3</th>\n",
       "      <th>clust_k</th>\n",
       "    </tr>\n",
       "  </thead>\n",
       "  <tbody>\n",
       "    <tr>\n",
       "      <th>0</th>\n",
       "      <td>0.61</td>\n",
       "      <td>0.40</td>\n",
       "      <td>0.08</td>\n",
       "      <td>3</td>\n",
       "    </tr>\n",
       "    <tr>\n",
       "      <th>1</th>\n",
       "      <td>0.50</td>\n",
       "      <td>0.34</td>\n",
       "      <td>-0.04</td>\n",
       "      <td>3</td>\n",
       "    </tr>\n",
       "    <tr>\n",
       "      <th>2</th>\n",
       "      <td>0.32</td>\n",
       "      <td>0.10</td>\n",
       "      <td>-0.16</td>\n",
       "      <td>3</td>\n",
       "    </tr>\n",
       "    <tr>\n",
       "      <th>3</th>\n",
       "      <td>0.46</td>\n",
       "      <td>0.16</td>\n",
       "      <td>-0.12</td>\n",
       "      <td>3</td>\n",
       "    </tr>\n",
       "    <tr>\n",
       "      <th>4</th>\n",
       "      <td>-0.05</td>\n",
       "      <td>0.20</td>\n",
       "      <td>-0.18</td>\n",
       "      <td>2</td>\n",
       "    </tr>\n",
       "  </tbody>\n",
       "</table>\n",
       "</div>"
      ],
      "text/plain": [
       "   Principal componente 1  Principal componente 2  Principal componente 3  \\\n",
       "0                    0.61                    0.40                    0.08   \n",
       "1                    0.50                    0.34                   -0.04   \n",
       "2                    0.32                    0.10                   -0.16   \n",
       "3                    0.46                    0.16                   -0.12   \n",
       "4                   -0.05                    0.20                   -0.18   \n",
       "\n",
       "   clust_k  \n",
       "0        3  \n",
       "1        3  \n",
       "2        3  \n",
       "3        3  \n",
       "4        2  "
      ]
     },
     "execution_count": 37,
     "metadata": {},
     "output_type": "execute_result"
    }
   ],
   "source": [
    "# Le agrego el cluster definido previamente \n",
    "finalDf = pd.concat([principalDf, Autom_CM['clust_k']] , axis = 1)\n",
    "finalDf.head()"
   ]
  },
  {
   "cell_type": "code",
   "execution_count": 38,
   "metadata": {},
   "outputs": [
    {
     "data": {
      "text/html": [
       "<div>\n",
       "<style scoped>\n",
       "    .dataframe tbody tr th:only-of-type {\n",
       "        vertical-align: middle;\n",
       "    }\n",
       "\n",
       "    .dataframe tbody tr th {\n",
       "        vertical-align: top;\n",
       "    }\n",
       "\n",
       "    .dataframe thead th {\n",
       "        text-align: right;\n",
       "    }\n",
       "</style>\n",
       "<table border=\"1\" class=\"dataframe\">\n",
       "  <thead>\n",
       "    <tr style=\"text-align: right;\">\n",
       "      <th></th>\n",
       "      <th>Principal componente 1</th>\n",
       "      <th>Principal componente 2</th>\n",
       "      <th>Principal componente 3</th>\n",
       "    </tr>\n",
       "  </thead>\n",
       "  <tbody>\n",
       "    <tr>\n",
       "      <th>0</th>\n",
       "      <td>0.61</td>\n",
       "      <td>0.40</td>\n",
       "      <td>0.08</td>\n",
       "    </tr>\n",
       "    <tr>\n",
       "      <th>1</th>\n",
       "      <td>0.50</td>\n",
       "      <td>0.34</td>\n",
       "      <td>-0.04</td>\n",
       "    </tr>\n",
       "    <tr>\n",
       "      <th>2</th>\n",
       "      <td>0.32</td>\n",
       "      <td>0.10</td>\n",
       "      <td>-0.16</td>\n",
       "    </tr>\n",
       "    <tr>\n",
       "      <th>3</th>\n",
       "      <td>0.46</td>\n",
       "      <td>0.16</td>\n",
       "      <td>-0.12</td>\n",
       "    </tr>\n",
       "    <tr>\n",
       "      <th>4</th>\n",
       "      <td>-0.05</td>\n",
       "      <td>0.20</td>\n",
       "      <td>-0.18</td>\n",
       "    </tr>\n",
       "  </tbody>\n",
       "</table>\n",
       "</div>"
      ],
      "text/plain": [
       "   Principal componente 1  Principal componente 2  Principal componente 3\n",
       "0                    0.61                    0.40                    0.08\n",
       "1                    0.50                    0.34                   -0.04\n",
       "2                    0.32                    0.10                   -0.16\n",
       "3                    0.46                    0.16                   -0.12\n",
       "4                   -0.05                    0.20                   -0.18"
      ]
     },
     "execution_count": 38,
     "metadata": {},
     "output_type": "execute_result"
    }
   ],
   "source": [
    "principalDf.head()"
   ]
  },
  {
   "cell_type": "code",
   "execution_count": null,
   "metadata": {},
   "outputs": [],
   "source": []
  },
  {
   "cell_type": "code",
   "execution_count": 51,
   "metadata": {},
   "outputs": [
    {
     "name": "stderr",
     "output_type": "stream",
     "text": [
      "C:\\Users\\eangenello\\AppData\\Local\\Continuum\\anaconda3\\lib\\site-packages\\matplotlib\\collections.py:902: RuntimeWarning: invalid value encountered in sqrt\n",
      "  scale = np.sqrt(self._sizes) * dpi / 72.0 * self._factor\n"
     ]
    },
    {
     "data": {
      "image/png": "[encoded data removed]",
      "text/plain": [
       "<Figure size 504x504 with 1 Axes>"
      ]
     },
     "metadata": {
      "needs_background": "light"
     },
     "output_type": "display_data"
    }
   ],
   "source": [
    "# Fixing random state for reproducibility\n",
    "\n",
    "fig = plt.figure(figsize = (7,7))\n",
    "plt.title('3 componentes PCA')\n",
    "plt.xlabel('Principal componente 1')\n",
    "plt.ylabel('Principal componente 2')\n",
    "\n",
    "N = 50\n",
    "x = principalDf['Principal componente 1']\n",
    "y = principalDf['Principal componente 2']\n",
    "colors = 'k'\n",
    "area = principalDf['Principal componente 3']*200  \n",
    "\n",
    "plt.scatter(x, y, s=area, c=colors, alpha=0.5)\n",
    "plt.show()"
   ]
  },
  {
   "cell_type": "code",
   "execution_count": 90,
   "metadata": {},
   "outputs": [
    {
     "name": "stderr",
     "output_type": "stream",
     "text": [
      "C:\\Users\\eangenello\\AppData\\Local\\Continuum\\anaconda3\\lib\\site-packages\\matplotlib\\collections.py:902: RuntimeWarning: invalid value encountered in sqrt\n",
      "  scale = np.sqrt(self._sizes) * dpi / 72.0 * self._factor\n"
     ]
    },
    {
     "data": {
      "image/png": "[encoded data removed]",
      "text/plain": [
       "<Figure size 504x504 with 1 Axes>"
      ]
     },
     "metadata": {
      "needs_background": "light"
     },
     "output_type": "display_data"
    }
   ],
   "source": [
    "# Fixing random state for reproducibility\n",
    "\n",
    "fig = plt.figure(figsize = (7,7))\n",
    "plt.title('3 componentes PCA')\n",
    "plt.xlabel('Principal componente 1')\n",
    "plt.ylabel('Principal componente 2')\n",
    "\n",
    "\n",
    "targets = sorted(finalDf['clust_k'].unique())\n",
    "colors = ['r', 'g', 'b', 'k', 'c']\n",
    "\n",
    "for target, color in zip(targets,colors):\n",
    "    indicesToKeep = finalDf['clust_k'] == target\n",
    "    plt.scatter(finalDf.loc[indicesToKeep, 'Principal componente 1']\n",
    "                , finalDf.loc[indicesToKeep, 'Principal componente 2']\n",
    "                , c = color\n",
    "                , s = finalDf.loc[indicesToKeep, 'Principal componente 3']*200)\n",
    "plt.legend(targets)\n",
    "plt.grid()"
   ]
  },
  {
   "cell_type": "code",
   "execution_count": 68,
   "metadata": {},
   "outputs": [
    {
     "data": {
      "image/png": "[encoded data removed]",
      "text/plain": [
       "<Figure size 504x504 with 1 Axes>"
      ]
     },
     "metadata": {
      "needs_background": "light"
     },
     "output_type": "display_data"
    }
   ],
   "source": [
    "# Fixing random state for reproducibility\n",
    "\n",
    "fig = plt.figure(figsize = (7,7))\n",
    "plt.title('3 componentes PCA')\n",
    "plt.xlabel('Principal componente 1')\n",
    "plt.ylabel('Principal componente 2')\n",
    "\n",
    "\n",
    "targets = sorted(finalDf['clust_k'].unique())\n",
    "colors = ['r', 'g', 'b', 'k', 'c']\n",
    "\n",
    "for target, color in zip(targets,colors):\n",
    "    indicesToKeep = finalDf['clust_k'] == target\n",
    "    plt.scatter(principalDf.loc[indicesToKeep, 'Principal componente 1']\n",
    "                , principalDf.loc[indicesToKeep, 'Principal componente 2']\n",
    "                , c = color\n",
    "                , s = 50)\n",
    "plt.legend(targets)\n",
    "plt.grid()"
   ]
  },
  {
   "cell_type": "code",
   "execution_count": 84,
   "metadata": {},
   "outputs": [
    {
     "name": "stderr",
     "output_type": "stream",
     "text": [
      "C:\\Users\\eangenello\\AppData\\Local\\Continuum\\anaconda3\\lib\\site-packages\\matplotlib\\collections.py:902: RuntimeWarning: invalid value encountered in sqrt\n",
      "  scale = np.sqrt(self._sizes) * dpi / 72.0 * self._factor\n"
     ]
    },
    {
     "data": {
      "image/png": "[encoded data removed]",
      "text/plain": [
       "<Figure size 576x576 with 1 Axes>"
      ]
     },
     "metadata": {
      "needs_background": "light"
     },
     "output_type": "display_data"
    }
   ],
   "source": [
    "# Grafico\n",
    "\n",
    "fig = plt.figure(figsize = (8,8))\n",
    "ax = fig.add_subplot(1,1,1) \n",
    "ax.set_xlabel('Principal Componente 1', fontsize = 12)\n",
    "ax.set_ylabel('Principal Componente 2', fontsize = 12)\n",
    "ax.set_title('2 Componentes PCA', fontsize = 15)\n",
    "\n",
    "\n",
    "targets = sorted(finalDf['clust_k'].unique())\n",
    "colors = ['r', 'g', 'b', 'k', 'c']\n",
    "\n",
    "for target, color in zip(targets,colors):\n",
    "    indicesToKeep = finalDf['clust_k'] == target\n",
    "    ax.scatter(finalDf.loc[indicesToKeep, 'Principal componente 1']\n",
    "               , finalDf.loc[indicesToKeep, 'Principal componente 2']\n",
    "               , c = color\n",
    "               , s = finalDf.loc[indicesToKeep, 'Principal componente 3']*100)\n",
    "ax.legend(targets)\n",
    "ax.grid()"
   ]
  },
  {
   "cell_type": "code",
   "execution_count": 35,
   "metadata": {},
   "outputs": [
    {
     "data": {
      "text/html": [
       "<div>\n",
       "<style scoped>\n",
       "    .dataframe tbody tr th:only-of-type {\n",
       "        vertical-align: middle;\n",
       "    }\n",
       "\n",
       "    .dataframe tbody tr th {\n",
       "        vertical-align: top;\n",
       "    }\n",
       "\n",
       "    .dataframe thead th {\n",
       "        text-align: right;\n",
       "    }\n",
       "</style>\n",
       "<table border=\"1\" class=\"dataframe\">\n",
       "  <thead>\n",
       "    <tr style=\"text-align: right;\">\n",
       "      <th></th>\n",
       "      <th>ind_04</th>\n",
       "      <th>ind_20</th>\n",
       "      <th>ind_22</th>\n",
       "      <th>ind_19</th>\n",
       "      <th>ind_36</th>\n",
       "    </tr>\n",
       "  </thead>\n",
       "  <tbody>\n",
       "    <tr>\n",
       "      <th>0</th>\n",
       "      <td>0.65</td>\n",
       "      <td>0.00</td>\n",
       "      <td>0.17</td>\n",
       "      <td>0.95</td>\n",
       "      <td>0.04</td>\n",
       "    </tr>\n",
       "    <tr>\n",
       "      <th>1</th>\n",
       "      <td>0.72</td>\n",
       "      <td>0.24</td>\n",
       "      <td>0.06</td>\n",
       "      <td>0.97</td>\n",
       "      <td>0.03</td>\n",
       "    </tr>\n",
       "    <tr>\n",
       "      <th>2</th>\n",
       "      <td>0.54</td>\n",
       "      <td>0.53</td>\n",
       "      <td>0.00</td>\n",
       "      <td>0.98</td>\n",
       "      <td>0.00</td>\n",
       "    </tr>\n",
       "    <tr>\n",
       "      <th>3</th>\n",
       "      <td>0.40</td>\n",
       "      <td>0.22</td>\n",
       "      <td>0.05</td>\n",
       "      <td>0.98</td>\n",
       "      <td>0.02</td>\n",
       "    </tr>\n",
       "    <tr>\n",
       "      <th>4</th>\n",
       "      <td>0.44</td>\n",
       "      <td>0.65</td>\n",
       "      <td>0.02</td>\n",
       "      <td>0.95</td>\n",
       "      <td>0.38</td>\n",
       "    </tr>\n",
       "  </tbody>\n",
       "</table>\n",
       "</div>"
      ],
      "text/plain": [
       "   ind_04  ind_20  ind_22  ind_19  ind_36\n",
       "0    0.65    0.00    0.17    0.95    0.04\n",
       "1    0.72    0.24    0.06    0.97    0.03\n",
       "2    0.54    0.53    0.00    0.98    0.00\n",
       "3    0.40    0.22    0.05    0.98    0.02\n",
       "4    0.44    0.65    0.02    0.95    0.38"
      ]
     },
     "execution_count": 35,
     "metadata": {},
     "output_type": "execute_result"
    }
   ],
   "source": [
    "autom_model.head()"
   ]
  },
  {
   "cell_type": "code",
   "execution_count": 36,
   "metadata": {},
   "outputs": [
    {
     "data": {
      "text/plain": [
       "Index(['ind_04', 'ind_20', 'ind_22', 'ind_19', 'ind_36', 'clust_k', 'cod_cia',\n",
       "       'denominacion_corta'],\n",
       "      dtype='object')"
      ]
     },
     "execution_count": 36,
     "metadata": {},
     "output_type": "execute_result"
    }
   ],
   "source": [
    "Autom_CM.columns"
   ]
  },
  {
   "cell_type": "code",
   "execution_count": 37,
   "metadata": {},
   "outputs": [
    {
     "data": {
      "text/html": [
       "<div>\n",
       "<style scoped>\n",
       "    .dataframe tbody tr th:only-of-type {\n",
       "        vertical-align: middle;\n",
       "    }\n",
       "\n",
       "    .dataframe tbody tr th {\n",
       "        vertical-align: top;\n",
       "    }\n",
       "\n",
       "    .dataframe thead th {\n",
       "        text-align: right;\n",
       "    }\n",
       "</style>\n",
       "<table border=\"1\" class=\"dataframe\">\n",
       "  <thead>\n",
       "    <tr style=\"text-align: right;\">\n",
       "      <th></th>\n",
       "      <th>ind_04</th>\n",
       "      <th>ind_20</th>\n",
       "      <th>ind_22</th>\n",
       "      <th>ind_19</th>\n",
       "      <th>ind_36</th>\n",
       "      <th>denominacion_corta</th>\n",
       "    </tr>\n",
       "  </thead>\n",
       "  <tbody>\n",
       "    <tr>\n",
       "      <th>0</th>\n",
       "      <td>0.65</td>\n",
       "      <td>0.00</td>\n",
       "      <td>0.17</td>\n",
       "      <td>0.95</td>\n",
       "      <td>0.04</td>\n",
       "      <td>PRODUCTORES DE FRUTAS</td>\n",
       "    </tr>\n",
       "    <tr>\n",
       "      <th>1</th>\n",
       "      <td>0.72</td>\n",
       "      <td>0.24</td>\n",
       "      <td>0.06</td>\n",
       "      <td>0.97</td>\n",
       "      <td>0.03</td>\n",
       "      <td>ESCUDO</td>\n",
       "    </tr>\n",
       "    <tr>\n",
       "      <th>2</th>\n",
       "      <td>0.54</td>\n",
       "      <td>0.53</td>\n",
       "      <td>0.00</td>\n",
       "      <td>0.98</td>\n",
       "      <td>0.00</td>\n",
       "      <td>CALEDONIA</td>\n",
       "    </tr>\n",
       "    <tr>\n",
       "      <th>3</th>\n",
       "      <td>0.40</td>\n",
       "      <td>0.22</td>\n",
       "      <td>0.05</td>\n",
       "      <td>0.98</td>\n",
       "      <td>0.02</td>\n",
       "      <td>LIBRA</td>\n",
       "    </tr>\n",
       "    <tr>\n",
       "      <th>4</th>\n",
       "      <td>0.44</td>\n",
       "      <td>0.65</td>\n",
       "      <td>0.02</td>\n",
       "      <td>0.95</td>\n",
       "      <td>0.38</td>\n",
       "      <td>BOSTON</td>\n",
       "    </tr>\n",
       "  </tbody>\n",
       "</table>\n",
       "</div>"
      ],
      "text/plain": [
       "   ind_04  ind_20  ind_22  ind_19  ind_36     denominacion_corta\n",
       "0    0.65    0.00    0.17    0.95    0.04  PRODUCTORES DE FRUTAS\n",
       "1    0.72    0.24    0.06    0.97    0.03                ESCUDO \n",
       "2    0.54    0.53    0.00    0.98    0.00              CALEDONIA\n",
       "3    0.40    0.22    0.05    0.98    0.02                  LIBRA\n",
       "4    0.44    0.65    0.02    0.95    0.38                 BOSTON"
      ]
     },
     "execution_count": 37,
     "metadata": {},
     "output_type": "execute_result"
    }
   ],
   "source": [
    "Autom_MJ= Autom_CM[['ind_04', 'ind_20', 'ind_22', 'ind_19', 'ind_36', 'denominacion_corta']]\n",
    "Autom_MJ.head()"
   ]
  },
  {
   "cell_type": "code",
   "execution_count": 38,
   "metadata": {},
   "outputs": [
    {
     "data": {
      "text/html": [
       "<div>\n",
       "<style scoped>\n",
       "    .dataframe tbody tr th:only-of-type {\n",
       "        vertical-align: middle;\n",
       "    }\n",
       "\n",
       "    .dataframe tbody tr th {\n",
       "        vertical-align: top;\n",
       "    }\n",
       "\n",
       "    .dataframe thead th {\n",
       "        text-align: right;\n",
       "    }\n",
       "</style>\n",
       "<table border=\"1\" class=\"dataframe\">\n",
       "  <thead>\n",
       "    <tr style=\"text-align: right;\">\n",
       "      <th></th>\n",
       "      <th>ind_04</th>\n",
       "      <th>ind_20</th>\n",
       "      <th>ind_22</th>\n",
       "      <th>ind_19</th>\n",
       "      <th>ind_36</th>\n",
       "    </tr>\n",
       "    <tr>\n",
       "      <th>denominacion_corta</th>\n",
       "      <th></th>\n",
       "      <th></th>\n",
       "      <th></th>\n",
       "      <th></th>\n",
       "      <th></th>\n",
       "    </tr>\n",
       "  </thead>\n",
       "  <tbody>\n",
       "    <tr>\n",
       "      <th>PRODUCTORES DE FRUTAS</th>\n",
       "      <td>0.65</td>\n",
       "      <td>0.00</td>\n",
       "      <td>0.17</td>\n",
       "      <td>0.95</td>\n",
       "      <td>0.04</td>\n",
       "    </tr>\n",
       "    <tr>\n",
       "      <th>ESCUDO</th>\n",
       "      <td>0.72</td>\n",
       "      <td>0.24</td>\n",
       "      <td>0.06</td>\n",
       "      <td>0.97</td>\n",
       "      <td>0.03</td>\n",
       "    </tr>\n",
       "    <tr>\n",
       "      <th>CALEDONIA</th>\n",
       "      <td>0.54</td>\n",
       "      <td>0.53</td>\n",
       "      <td>0.00</td>\n",
       "      <td>0.98</td>\n",
       "      <td>0.00</td>\n",
       "    </tr>\n",
       "    <tr>\n",
       "      <th>LIBRA</th>\n",
       "      <td>0.40</td>\n",
       "      <td>0.22</td>\n",
       "      <td>0.05</td>\n",
       "      <td>0.98</td>\n",
       "      <td>0.02</td>\n",
       "    </tr>\n",
       "    <tr>\n",
       "      <th>BOSTON</th>\n",
       "      <td>0.44</td>\n",
       "      <td>0.65</td>\n",
       "      <td>0.02</td>\n",
       "      <td>0.95</td>\n",
       "      <td>0.38</td>\n",
       "    </tr>\n",
       "  </tbody>\n",
       "</table>\n",
       "</div>"
      ],
      "text/plain": [
       "                       ind_04  ind_20  ind_22  ind_19  ind_36\n",
       "denominacion_corta                                           \n",
       "PRODUCTORES DE FRUTAS    0.65    0.00    0.17    0.95    0.04\n",
       "ESCUDO                   0.72    0.24    0.06    0.97    0.03\n",
       "CALEDONIA                0.54    0.53    0.00    0.98    0.00\n",
       "LIBRA                    0.40    0.22    0.05    0.98    0.02\n",
       "BOSTON                   0.44    0.65    0.02    0.95    0.38"
      ]
     },
     "execution_count": 38,
     "metadata": {},
     "output_type": "execute_result"
    }
   ],
   "source": [
    "Autom_MJ= Autom_MJ.set_index('denominacion_corta')\n",
    "Autom_MJ.head()"
   ]
  },
  {
   "cell_type": "code",
   "execution_count": 39,
   "metadata": {},
   "outputs": [
    {
     "data": {
      "image/png": "[encoded data removed]",
      "text/plain": [
       "<Figure size 1800x720 with 1 Axes>"
      ]
     },
     "metadata": {
      "needs_background": "light"
     },
     "output_type": "display_data"
    }
   ],
   "source": [
    "# se unen los dos clusters para los cuales se tenga el menor incremento en el valor total de la suma de los cuadrados de \n",
    "# las diferencias, dentro de cada cluster, de cada individuo al centroide del cluster\n",
    "\n",
    "Z = linkage(Autom_MJ, method=\"ward\")\n",
    "Z\n",
    "plt.figure(figsize=(25,10))\n",
    "plt.title(\"Dendrograma jerárquico para el Clustering\")\n",
    "plt.xlabel(\"Companía\")\n",
    "plt.ylabel(\"Distancia\")\n",
    "dendrogram(Z, labels=Autom_MJ.index, leaf_rotation=90., leaf_font_size=10.0, color_threshold=0.5*2.36)\n",
    "\n",
    "#color_threshold: puedo establecer un umbral a partir del cual pintar los cluster\n",
    "\n",
    "plt.show()"
   ]
  },
  {
   "cell_type": "code",
   "execution_count": 45,
   "metadata": {},
   "outputs": [
    {
     "data": {
      "text/plain": [
       "array([[4509.        , 4510.        ,    5.28286357,  679.        ],\n",
       "       [4505.        , 4513.        ,    6.98593078,  721.        ],\n",
       "       [4512.        , 4514.        ,    8.0159661 , 1990.        ],\n",
       "       [4511.        , 4515.        ,   10.69276803, 2259.        ]])"
      ]
     },
     "execution_count": 45,
     "metadata": {},
     "output_type": "execute_result"
    }
   ],
   "source": [
    "Z[-4:,]"
   ]
  },
  {
   "cell_type": "code",
   "execution_count": 46,
   "metadata": {},
   "outputs": [
    {
     "name": "stdout",
     "output_type": "stream",
     "text": [
      "[10.69276803  8.0159661   6.98593078  5.28286357  3.717212    3.29376437\n",
      "  2.76815891  2.42900588  2.20159972  1.87793853]\n"
     ]
    },
    {
     "data": {
      "image/png": "[encoded data removed]",
      "text/plain": [
       "<Figure size 504x360 with 1 Axes>"
      ]
     },
     "metadata": {
      "needs_background": "light"
     },
     "output_type": "display_data"
    },
    {
     "name": "stdout",
     "output_type": "stream",
     "text": [
      "El número óptimo de cluster es 2\n"
     ]
    }
   ],
   "source": [
    "last = Z[-10:,2]\n",
    "last_rev = last[::-1]\n",
    "print(last_rev)\n",
    "idx = np.arange(1, len(last)+1)\n",
    "plt.plot(idx, last_rev)\n",
    "\n",
    "acc = np.diff(last,2)\n",
    "acc_rev = acc[::-1]\n",
    "plt.plot(idx[:-2]+1, acc_rev)\n",
    "plt.show()\n",
    "k = acc_rev.argmax() +2\n",
    "print(\"El número óptimo de cluster es %s\"%str(k))"
   ]
  },
  {
   "cell_type": "code",
   "execution_count": null,
   "metadata": {},
   "outputs": [],
   "source": []
  },
  {
   "cell_type": "code",
   "execution_count": null,
   "metadata": {},
   "outputs": [],
   "source": []
  },
  {
   "cell_type": "code",
   "execution_count": null,
   "metadata": {},
   "outputs": [],
   "source": []
  },
  {
   "cell_type": "code",
   "execution_count": null,
   "metadata": {},
   "outputs": [],
   "source": []
  },
  {
   "cell_type": "code",
   "execution_count": null,
   "metadata": {},
   "outputs": [],
   "source": []
  },
  {
   "cell_type": "code",
   "execution_count": null,
   "metadata": {},
   "outputs": [],
   "source": []
  },
  {
   "cell_type": "code",
   "execution_count": null,
   "metadata": {},
   "outputs": [],
   "source": []
  },
  {
   "cell_type": "code",
   "execution_count": null,
   "metadata": {},
   "outputs": [],
   "source": []
  },
  {
   "cell_type": "markdown",
   "metadata": {},
   "source": [
    "#### Propagación de la afinidad\n",
    "\n",
    "Esta técnica nos ayudará a seleccionar un número determinado de clusters para nuestros datos. \n",
    "La propagación por afinidad toma como conjunto de datos principal similitudes entre los datos, donde las similaridades \n",
    "s(i, k) indican cuán adecuados son los datos k para cada punto de i. Cuando elobjetivo es minimizar los errores al cuadrado, cada similaridad se establece como el inverso del error cuadrado (distancia euclídea).\n",
    "Siendo un número real s(k, k) donde para cada punto k sus puntos serán escogidos como puntos principales. Estos puntos se denominarán puntos ejemplares. El número de puntos ejemplares será el número de clusters, influenciado por los valores de entrada ejemplares. En principio, se sugiere que todos los datos pueden ser elegidos como tales, pero este punto puede ser transformado para producir el número de clusters. El valor compartido puede ser la mediana (si proviene de un número moderado de clusters) de las similaridades o sus mínimos (si es el resultado de un número pequeño de clusters)."
   ]
  },
  {
   "cell_type": "code",
   "execution_count": 47,
   "metadata": {},
   "outputs": [],
   "source": [
    "af = AffinityPropagation(preference=-50).fit(X)"
   ]
  },
  {
   "cell_type": "code",
   "execution_count": 48,
   "metadata": {},
   "outputs": [],
   "source": [
    "cluster_center_ids = af.cluster_centers_indices_"
   ]
  },
  {
   "cell_type": "code",
   "execution_count": 49,
   "metadata": {},
   "outputs": [],
   "source": [
    "labels = af.labels_"
   ]
  },
  {
   "cell_type": "code",
   "execution_count": 50,
   "metadata": {
    "scrolled": true
   },
   "outputs": [
    {
     "data": {
      "text/plain": [
       "794"
      ]
     },
     "execution_count": 50,
     "metadata": {},
     "output_type": "execute_result"
    }
   ],
   "source": [
    "n_clust = len(cluster_center_ids)\n",
    "n_clust"
   ]
  },
  {
   "cell_type": "code",
   "execution_count": 51,
   "metadata": {},
   "outputs": [],
   "source": [
    "def report_affinity_propagation(X):\n",
    "    af = AffinityPropagation(preference=-50).fit(X)\n",
    "    cluster_center_ids = af.cluster_centers_indices_\n",
    "    n_clust = len(cluster_center_ids)\n",
    "    clust_labels = af.labels_\n",
    "    \n",
    "    print(\"Número estimado de clusters: %d\"%n_clust)\n",
    "    print(\"Homogeneidad: %0.3f\"%metrics.homogeneity_score(labels, clust_labels))\n",
    "    print(\"Completitud: %0.3f\"%metrics.completeness_score(labels, clust_labels))\n",
    "    print(\"V-measure: %0.3f\"%metrics.v_measure_score(labels, clust_labels))\n",
    "    print(\"R2 ajustado: %0.3f\"%metrics.adjusted_rand_score(labels, clust_labels))\n",
    "    print(\"Información mútua ajustada: %0.3f\"%metrics.adjusted_mutual_info_score(labels, clust_labels))\n",
    "    print(\"Coeficiente de la silueta: %0.3f\"%metrics.silhouette_score(X, labels, metric=\"sqeuclidean\"))\n",
    "    \n",
    "    plt.figure(figsize=(16,9))\n",
    "    plt.clf()\n",
    "    \n",
    "    colors = cycle('bgrcmykbgrcmykbgrcmykbgrcmyk')\n",
    "    for k, col in zip(range(n_clust), colors):\n",
    "        class_members = (clust_labels==k)\n",
    "        clust_center = X[cluster_center_ids[k]]\n",
    "        plt.plot(X[class_members,0], X[class_members, 1], col +'.')\n",
    "        plt.plot(clust_center[0], clust_center[1], 'o', markerfacecolor=col, markeredgecolor='k', markersize=14)\n",
    "        for x in X[class_members]:\n",
    "            plt.plot([clust_center[0],x[0]], [clust_center[1], x[1]], col)\n",
    "            \n",
    "    plt.title(\"Número estimado de clusters %d\"%n_clust)\n",
    "    plt.show()"
   ]
  },
  {
   "cell_type": "code",
   "execution_count": 52,
   "metadata": {},
   "outputs": [
    {
     "name": "stdout",
     "output_type": "stream",
     "text": [
      "Número estimado de clusters: 794\n",
      "Homogeneidad: 1.000\n",
      "Completitud: 1.000\n",
      "V-measure: 1.000\n",
      "R2 ajustado: 1.000\n",
      "Información mútua ajustada: 1.000\n"
     ]
    },
    {
     "name": "stderr",
     "output_type": "stream",
     "text": [
      "C:\\Users\\eangenello\\AppData\\Local\\Continuum\\anaconda3\\lib\\site-packages\\sklearn\\metrics\\cluster\\unsupervised.py:205: RuntimeWarning: invalid value encountered in true_divide\n",
      "  sil_samples /= np.maximum(intra_clust_dists, inter_clust_dists)\n"
     ]
    },
    {
     "name": "stdout",
     "output_type": "stream",
     "text": [
      "Coeficiente de la silueta: 0.077\n"
     ]
    },
    {
     "data": {
      "image/png": "[encoded data removed]",
      "text/plain": [
       "<Figure size 1152x648 with 1 Axes>"
      ]
     },
     "metadata": {
      "needs_background": "light"
     },
     "output_type": "display_data"
    }
   ],
   "source": [
    "report_affinity_propagation(X)"
   ]
  },
  {
   "cell_type": "code",
   "execution_count": null,
   "metadata": {},
   "outputs": [],
   "source": []
  },
  {
   "cell_type": "code",
   "execution_count": null,
   "metadata": {},
   "outputs": [],
   "source": []
  },
  {
   "cell_type": "code",
   "execution_count": null,
   "metadata": {},
   "outputs": [],
   "source": []
  },
  {
   "cell_type": "code",
   "execution_count": null,
   "metadata": {},
   "outputs": [],
   "source": []
  },
  {
   "cell_type": "code",
   "execution_count": null,
   "metadata": {},
   "outputs": [],
   "source": []
  },
  {
   "cell_type": "code",
   "execution_count": null,
   "metadata": {},
   "outputs": [],
   "source": []
  },
  {
   "cell_type": "code",
   "execution_count": null,
   "metadata": {},
   "outputs": [],
   "source": []
  },
  {
   "cell_type": "code",
   "execution_count": null,
   "metadata": {},
   "outputs": [],
   "source": []
  },
  {
   "cell_type": "code",
   "execution_count": null,
   "metadata": {},
   "outputs": [],
   "source": []
  },
  {
   "cell_type": "code",
   "execution_count": null,
   "metadata": {},
   "outputs": [],
   "source": []
  },
  {
   "cell_type": "code",
   "execution_count": null,
   "metadata": {},
   "outputs": [],
   "source": []
  },
  {
   "cell_type": "code",
   "execution_count": null,
   "metadata": {},
   "outputs": [],
   "source": []
  },
  {
   "cell_type": "code",
   "execution_count": null,
   "metadata": {},
   "outputs": [],
   "source": []
  },
  {
   "cell_type": "code",
   "execution_count": null,
   "metadata": {},
   "outputs": [],
   "source": []
  },
  {
   "cell_type": "code",
   "execution_count": null,
   "metadata": {},
   "outputs": [],
   "source": []
  },
  {
   "cell_type": "code",
   "execution_count": null,
   "metadata": {},
   "outputs": [],
   "source": []
  },
  {
   "cell_type": "code",
   "execution_count": null,
   "metadata": {},
   "outputs": [],
   "source": []
  },
  {
   "cell_type": "code",
   "execution_count": null,
   "metadata": {},
   "outputs": [],
   "source": []
  },
  {
   "cell_type": "code",
   "execution_count": null,
   "metadata": {},
   "outputs": [],
   "source": []
  },
  {
   "cell_type": "code",
   "execution_count": null,
   "metadata": {},
   "outputs": [],
   "source": []
  },
  {
   "cell_type": "code",
   "execution_count": null,
   "metadata": {},
   "outputs": [],
   "source": []
  },
  {
   "cell_type": "code",
   "execution_count": null,
   "metadata": {},
   "outputs": [],
   "source": []
  },
  {
   "cell_type": "code",
   "execution_count": null,
   "metadata": {},
   "outputs": [],
   "source": []
  },
  {
   "cell_type": "code",
   "execution_count": null,
   "metadata": {},
   "outputs": [],
   "source": []
  }
 ],
 "metadata": {
  "kernelspec": {
   "display_name": "Python 3",
   "language": "python",
   "name": "python3"
  },
  "language_info": {
   "codemirror_mode": {
    "name": "ipython",
    "version": 3
   },
   "file_extension": ".py",
   "mimetype": "text/x-python",
   "name": "python",
   "nbconvert_exporter": "python",
   "pygments_lexer": "ipython3",
   "version": "3.7.0"
  }
 },
 "nbformat": 4,
 "nbformat_minor": 2
}
