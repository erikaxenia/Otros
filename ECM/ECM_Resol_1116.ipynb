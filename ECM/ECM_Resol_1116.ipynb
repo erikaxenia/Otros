{
 "cells": [
  {
   "cell_type": "markdown",
   "metadata": {},
   "source": [
    "## Estado de Capitales Mínimos"
   ]
  },
  {
   "cell_type": "markdown",
   "metadata": {},
   "source": [
    "Se genera un dataset que permita analizar de la resolución RESOL-2018-1116-APN-SSN#MHA el punto 23.\n",
    "En particular:  \n",
    "\n",
    "**A. EMISION < 5% en una rama** \n",
    "Las aseguradoras deberán acreditar al cierre de cada ejercicio anual una emisión total superior al CINCO POR CIENTO (5%) del capital mínimo exigido en dicho inciso.\n",
    "    * Patrimoniales: 90.000.000 \n",
    "    * Vida: 36.000.000\n",
    "\n",
    "A efectos de realizar el cálculo del párrafo precedente, se entenderá por emisión total a la sumatoria de la emisión de una o más ramas en las que se haya autorizado a operar a la entidad y que se encuentren incluidas en el inciso i) del punto 30.1.1.1."
   ]
  },
  {
   "cell_type": "code",
   "execution_count": 1,
   "metadata": {},
   "outputs": [],
   "source": [
    "import numpy as np\n",
    "import scipy as sp\n",
    "import pandas as pd\n",
    "import matplotlib.pyplot as plt\n",
    "import seaborn as sns\n",
    "import math\n",
    "import time\n",
    "import datetime\n",
    "\n",
    "%matplotlib inline\n",
    "\n",
    "#pd.options.display.max_rows = 10\n",
    "pd.options.display.float_format = '{:,.5f}'.format\n",
    "plt.rcParams['figure.figsize'] = (7, 5)"
   ]
  },
  {
   "cell_type": "markdown",
   "metadata": {},
   "source": [
    "Ramos y subramos"
   ]
  },
  {
   "cell_type": "code",
   "execution_count": 3,
   "metadata": {},
   "outputs": [],
   "source": [
    "sub_ramos=pd.read_excel(r'C:\\Users\\eangenello\\Desktop\\PYTHON\\input\\ECM\\Ramos - Subramo y Tipo.xlsx', sheet_name='tabla ramos')"
   ]
  },
  {
   "cell_type": "markdown",
   "metadata": {},
   "source": [
    "Ramos Autorizados por Cias"
   ]
  },
  {
   "cell_type": "code",
   "execution_count": 4,
   "metadata": {},
   "outputs": [],
   "source": [
    "autorizaciones=pd.read_excel(r'C:\\Users\\eangenello\\Desktop\\PYTHON\\input\\ECM\\Autorizaciones.xlsx', sheet_name='Ramos aut x cia', usecols='A,C,E')"
   ]
  },
  {
   "cell_type": "markdown",
   "metadata": {},
   "source": [
    "Primas"
   ]
  },
  {
   "cell_type": "code",
   "execution_count": 5,
   "metadata": {},
   "outputs": [],
   "source": [
    "PE=pd.read_excel(r'C:\\Users\\eangenello\\Desktop\\PYTHON\\input\\ECM\\ANEXO_12.xlsx', usecols='A, C:E')\n",
    "PE=PE.rename(columns = {'año':'periodo'})\n",
    "PE['año'] = pd.DatetimeIndex(PE['periodo']).year\n",
    "PE['trimestre'] = pd.DatetimeIndex(PE['periodo']).month\n",
    "\n",
    "#Selecciono el período de análisis\n",
    "PE=PE[(PE['año']==2019)&(PE['trimestre']==2)]\n",
    "\n",
    "#Reordeno columnas\n",
    "PE = PE[['cod_cia', 'periodo', 'año', 'trimestre', 'cod_subramo', 'Primas_Emitidas']]"
   ]
  },
  {
   "cell_type": "markdown",
   "metadata": {},
   "source": [
    "Compañías que surgen del dataset de ECM del SINENSUP"
   ]
  },
  {
   "cell_type": "code",
   "execution_count": 101,
   "metadata": {},
   "outputs": [],
   "source": [
    "dt_cias=pd.read_excel(r'C:\\Users\\eangenello\\Desktop\\PYTHON\\input\\ECM\\Cias ECM.xlsx')\n",
    "dt_cias=dt_cias.rename(columns = {'Cia ID':'cod_cia'})"
   ]
  },
  {
   "cell_type": "markdown",
   "metadata": {},
   "source": [
    "Tipos de Ramos"
   ]
  },
  {
   "cell_type": "code",
   "execution_count": 50,
   "metadata": {},
   "outputs": [],
   "source": [
    "ramos=pd.read_excel(r'C:\\Users\\eangenello\\Desktop\\PYTHON\\input\\ECM\\Ramos - Subramo y Tipo.xlsx', sheet_name='tipo ramos')"
   ]
  },
  {
   "cell_type": "markdown",
   "metadata": {},
   "source": [
    "Construcción del dataset"
   ]
  },
  {
   "cell_type": "code",
   "execution_count": 113,
   "metadata": {},
   "outputs": [
    {
     "data": {
      "text/html": [
       "<div>\n",
       "<style scoped>\n",
       "    .dataframe tbody tr th:only-of-type {\n",
       "        vertical-align: middle;\n",
       "    }\n",
       "\n",
       "    .dataframe tbody tr th {\n",
       "        vertical-align: top;\n",
       "    }\n",
       "\n",
       "    .dataframe thead th {\n",
       "        text-align: right;\n",
       "    }\n",
       "</style>\n",
       "<table border=\"1\" class=\"dataframe\">\n",
       "  <thead>\n",
       "    <tr style=\"text-align: right;\">\n",
       "      <th></th>\n",
       "      <th>cod_ramo</th>\n",
       "      <th>des_ramo</th>\n",
       "      <th>Tipo</th>\n",
       "    </tr>\n",
       "  </thead>\n",
       "  <tbody>\n",
       "    <tr>\n",
       "      <th>0</th>\n",
       "      <td>1.010.00</td>\n",
       "      <td>Incendio</td>\n",
       "      <td>Patrimonial</td>\n",
       "    </tr>\n",
       "    <tr>\n",
       "      <th>1</th>\n",
       "      <td>1.020.00</td>\n",
       "      <td>Combinado Familiar e Integral</td>\n",
       "      <td>Patrimonial</td>\n",
       "    </tr>\n",
       "    <tr>\n",
       "      <th>4</th>\n",
       "      <td>1.030.00</td>\n",
       "      <td>Automotores</td>\n",
       "      <td>Patrimonial</td>\n",
       "    </tr>\n",
       "    <tr>\n",
       "      <th>7</th>\n",
       "      <td>1.040.00</td>\n",
       "      <td>Transporte Público de Pasajeros</td>\n",
       "      <td>Patrimonial</td>\n",
       "    </tr>\n",
       "    <tr>\n",
       "      <th>8</th>\n",
       "      <td>1.050.00</td>\n",
       "      <td>Riesgos del Trabajo</td>\n",
       "      <td>ART</td>\n",
       "    </tr>\n",
       "  </tbody>\n",
       "</table>\n",
       "</div>"
      ],
      "text/plain": [
       "   cod_ramo                         des_ramo         Tipo\n",
       "0  1.010.00                         Incendio  Patrimonial\n",
       "1  1.020.00    Combinado Familiar e Integral  Patrimonial\n",
       "4  1.030.00                      Automotores  Patrimonial\n",
       "7  1.040.00  Transporte Público de Pasajeros  Patrimonial\n",
       "8  1.050.00              Riesgos del Trabajo          ART"
      ]
     },
     "execution_count": 113,
     "metadata": {},
     "output_type": "execute_result"
    }
   ],
   "source": [
    "# Me quedo con una parte del sataset de ramos\n",
    "\n",
    "sub_ramos_aut = sub_ramos.drop({'cod_subramo','des_subramo'},1)\n",
    "sub_ramos_aut = sub_ramos_aut.drop_duplicates()\n",
    "sub_ramos_aut = sub_ramos_aut[(sub_ramos_aut['cod_ramo']!='3.000.99')&(sub_ramos_aut['cod_ramo']!='9999')]\n",
    "\n",
    "sub_ramos_aut.head()"
   ]
  },
  {
   "cell_type": "code",
   "execution_count": 114,
   "metadata": {},
   "outputs": [],
   "source": [
    "# Ramo un dataset con cod cia y todos los ramos\n",
    "\n",
    "cias = autorizaciones['cod_cia'].unique()\n",
    "ramos_cias = pd.DataFrame()\n",
    "\n",
    "for i in cias:\n",
    "    dataset = sub_ramos_aut.copy()\n",
    "    dataset['cod_cia'] = i\n",
    "    ramos_cias = ramos_cias.append(dataset)"
   ]
  },
  {
   "cell_type": "code",
   "execution_count": 115,
   "metadata": {},
   "outputs": [
    {
     "data": {
      "text/html": [
       "<div>\n",
       "<style scoped>\n",
       "    .dataframe tbody tr th:only-of-type {\n",
       "        vertical-align: middle;\n",
       "    }\n",
       "\n",
       "    .dataframe tbody tr th {\n",
       "        vertical-align: top;\n",
       "    }\n",
       "\n",
       "    .dataframe thead th {\n",
       "        text-align: right;\n",
       "    }\n",
       "</style>\n",
       "<table border=\"1\" class=\"dataframe\">\n",
       "  <thead>\n",
       "    <tr style=\"text-align: right;\">\n",
       "      <th></th>\n",
       "      <th>cod_cia</th>\n",
       "      <th>cod_ramo</th>\n",
       "      <th>Autorizacion</th>\n",
       "    </tr>\n",
       "  </thead>\n",
       "  <tbody>\n",
       "    <tr>\n",
       "      <th>0</th>\n",
       "      <td>2</td>\n",
       "      <td>1.080.00</td>\n",
       "      <td>Autorizada</td>\n",
       "    </tr>\n",
       "    <tr>\n",
       "      <th>1</th>\n",
       "      <td>2</td>\n",
       "      <td>1.100.00</td>\n",
       "      <td>Autorizada</td>\n",
       "    </tr>\n",
       "    <tr>\n",
       "      <th>2</th>\n",
       "      <td>2</td>\n",
       "      <td>2.030.00</td>\n",
       "      <td>Autorizada</td>\n",
       "    </tr>\n",
       "    <tr>\n",
       "      <th>3</th>\n",
       "      <td>2</td>\n",
       "      <td>1.030.00</td>\n",
       "      <td>Autorizada</td>\n",
       "    </tr>\n",
       "    <tr>\n",
       "      <th>4</th>\n",
       "      <td>2</td>\n",
       "      <td>1.170.00</td>\n",
       "      <td>Autorizada</td>\n",
       "    </tr>\n",
       "  </tbody>\n",
       "</table>\n",
       "</div>"
      ],
      "text/plain": [
       "   cod_cia  cod_ramo Autorizacion\n",
       "0        2  1.080.00   Autorizada\n",
       "1        2  1.100.00   Autorizada\n",
       "2        2  2.030.00   Autorizada\n",
       "3        2  1.030.00   Autorizada\n",
       "4        2  1.170.00   Autorizada"
      ]
     },
     "execution_count": 115,
     "metadata": {},
     "output_type": "execute_result"
    }
   ],
   "source": [
    "autorizaciones.head()"
   ]
  },
  {
   "cell_type": "code",
   "execution_count": 116,
   "metadata": {},
   "outputs": [
    {
     "data": {
      "text/html": [
       "<div>\n",
       "<style scoped>\n",
       "    .dataframe tbody tr th:only-of-type {\n",
       "        vertical-align: middle;\n",
       "    }\n",
       "\n",
       "    .dataframe tbody tr th {\n",
       "        vertical-align: top;\n",
       "    }\n",
       "\n",
       "    .dataframe thead th {\n",
       "        text-align: right;\n",
       "    }\n",
       "</style>\n",
       "<table border=\"1\" class=\"dataframe\">\n",
       "  <thead>\n",
       "    <tr style=\"text-align: right;\">\n",
       "      <th></th>\n",
       "      <th>cod_ramo</th>\n",
       "      <th>des_ramo</th>\n",
       "      <th>Tipo</th>\n",
       "      <th>cod_cia</th>\n",
       "      <th>Autorizacion</th>\n",
       "    </tr>\n",
       "  </thead>\n",
       "  <tbody>\n",
       "    <tr>\n",
       "      <th>0</th>\n",
       "      <td>1.010.00</td>\n",
       "      <td>Incendio</td>\n",
       "      <td>Patrimonial</td>\n",
       "      <td>2</td>\n",
       "      <td>Autorizada</td>\n",
       "    </tr>\n",
       "    <tr>\n",
       "      <th>1</th>\n",
       "      <td>1.020.00</td>\n",
       "      <td>Combinado Familiar e Integral</td>\n",
       "      <td>Patrimonial</td>\n",
       "      <td>2</td>\n",
       "      <td>Autorizada</td>\n",
       "    </tr>\n",
       "    <tr>\n",
       "      <th>2</th>\n",
       "      <td>1.030.00</td>\n",
       "      <td>Automotores</td>\n",
       "      <td>Patrimonial</td>\n",
       "      <td>2</td>\n",
       "      <td>Autorizada</td>\n",
       "    </tr>\n",
       "    <tr>\n",
       "      <th>3</th>\n",
       "      <td>1.040.00</td>\n",
       "      <td>Transporte Público de Pasajeros</td>\n",
       "      <td>Patrimonial</td>\n",
       "      <td>2</td>\n",
       "      <td>Sin_Autorización</td>\n",
       "    </tr>\n",
       "    <tr>\n",
       "      <th>4</th>\n",
       "      <td>1.050.00</td>\n",
       "      <td>Riesgos del Trabajo</td>\n",
       "      <td>ART</td>\n",
       "      <td>2</td>\n",
       "      <td>Sin_Autorización</td>\n",
       "    </tr>\n",
       "  </tbody>\n",
       "</table>\n",
       "</div>"
      ],
      "text/plain": [
       "   cod_ramo                         des_ramo         Tipo  cod_cia  \\\n",
       "0  1.010.00                         Incendio  Patrimonial        2   \n",
       "1  1.020.00    Combinado Familiar e Integral  Patrimonial        2   \n",
       "2  1.030.00                      Automotores  Patrimonial        2   \n",
       "3  1.040.00  Transporte Público de Pasajeros  Patrimonial        2   \n",
       "4  1.050.00              Riesgos del Trabajo          ART        2   \n",
       "\n",
       "       Autorizacion  \n",
       "0        Autorizada  \n",
       "1        Autorizada  \n",
       "2        Autorizada  \n",
       "3  Sin_Autorización  \n",
       "4  Sin_Autorización  "
      ]
     },
     "execution_count": 116,
     "metadata": {},
     "output_type": "execute_result"
    }
   ],
   "source": [
    "# Agrego la descripción y tipo de ramo al dataset de autorizaciones\n",
    "\n",
    "autor_tipo_ramo = ramos_cias.merge(autorizaciones, how='left', on=['cod_ramo', 'cod_cia'])\n",
    "\n",
    "# Reemplazo los nulos por 'Sin Autorización'\n",
    "autor_tipo_ramo['Autorizacion'] = autor_tipo_ramo['Autorizacion'].fillna('Sin_Autorización')\n",
    "autor_tipo_ramo.head()"
   ]
  },
  {
   "cell_type": "code",
   "execution_count": 117,
   "metadata": {},
   "outputs": [
    {
     "data": {
      "text/html": [
       "<div>\n",
       "<style scoped>\n",
       "    .dataframe tbody tr th:only-of-type {\n",
       "        vertical-align: middle;\n",
       "    }\n",
       "\n",
       "    .dataframe tbody tr th {\n",
       "        vertical-align: top;\n",
       "    }\n",
       "\n",
       "    .dataframe thead th {\n",
       "        text-align: right;\n",
       "    }\n",
       "</style>\n",
       "<table border=\"1\" class=\"dataframe\">\n",
       "  <thead>\n",
       "    <tr style=\"text-align: right;\">\n",
       "      <th></th>\n",
       "      <th>cod_cia</th>\n",
       "      <th>cod_ramo</th>\n",
       "      <th>des_ramo</th>\n",
       "      <th>Primas_Emitidas</th>\n",
       "    </tr>\n",
       "  </thead>\n",
       "  <tbody>\n",
       "    <tr>\n",
       "      <th>0</th>\n",
       "      <td>2</td>\n",
       "      <td>1.010.00</td>\n",
       "      <td>Incendio</td>\n",
       "      <td>754062663</td>\n",
       "    </tr>\n",
       "    <tr>\n",
       "      <th>1</th>\n",
       "      <td>2</td>\n",
       "      <td>1.020.00</td>\n",
       "      <td>Combinado Familiar e Integral</td>\n",
       "      <td>303287161</td>\n",
       "    </tr>\n",
       "    <tr>\n",
       "      <th>2</th>\n",
       "      <td>2</td>\n",
       "      <td>1.030.00</td>\n",
       "      <td>Automotores</td>\n",
       "      <td>1533538660</td>\n",
       "    </tr>\n",
       "    <tr>\n",
       "      <th>3</th>\n",
       "      <td>2</td>\n",
       "      <td>1.080.00</td>\n",
       "      <td>Responsabilidad Civil</td>\n",
       "      <td>631732086</td>\n",
       "    </tr>\n",
       "    <tr>\n",
       "      <th>4</th>\n",
       "      <td>2</td>\n",
       "      <td>1.090.00</td>\n",
       "      <td>Robo y Riesgos Similares</td>\n",
       "      <td>13823931</td>\n",
       "    </tr>\n",
       "  </tbody>\n",
       "</table>\n",
       "</div>"
      ],
      "text/plain": [
       "   cod_cia  cod_ramo                       des_ramo  Primas_Emitidas\n",
       "0        2  1.010.00                       Incendio        754062663\n",
       "1        2  1.020.00  Combinado Familiar e Integral        303287161\n",
       "2        2  1.030.00                    Automotores       1533538660\n",
       "3        2  1.080.00          Responsabilidad Civil        631732086\n",
       "4        2  1.090.00       Robo y Riesgos Similares         13823931"
      ]
     },
     "execution_count": 117,
     "metadata": {},
     "output_type": "execute_result"
    }
   ],
   "source": [
    "# Agrego a prima emitida el ramo\n",
    "PE_ramo = PE.merge(sub_ramos, how='left', on=['cod_subramo'])\n",
    "\n",
    "# Agrupo las primas emitidas por ramo\n",
    "PE_ramo = PE_ramo.groupby(['cod_cia','cod_ramo', 'des_ramo'], as_index=False)['Primas_Emitidas'].sum()\n",
    "PE_ramo.head()"
   ]
  },
  {
   "cell_type": "code",
   "execution_count": 118,
   "metadata": {},
   "outputs": [],
   "source": [
    "# JUNTO DATASETS: Autorizaciones con primas \n",
    "\n",
    "ECM = autor_tipo_ramo.merge(PE_ramo, how='left', on=['cod_cia', 'cod_ramo', 'des_ramo'] )\n",
    "\n",
    "# Reemplazo los vales nulos\n",
    "ECM = ECM.replace(to_replace=np.nan, value=0)"
   ]
  },
  {
   "cell_type": "code",
   "execution_count": 119,
   "metadata": {},
   "outputs": [
    {
     "data": {
      "text/html": [
       "<div>\n",
       "<style scoped>\n",
       "    .dataframe tbody tr th:only-of-type {\n",
       "        vertical-align: middle;\n",
       "    }\n",
       "\n",
       "    .dataframe tbody tr th {\n",
       "        vertical-align: top;\n",
       "    }\n",
       "\n",
       "    .dataframe thead th {\n",
       "        text-align: right;\n",
       "    }\n",
       "</style>\n",
       "<table border=\"1\" class=\"dataframe\">\n",
       "  <thead>\n",
       "    <tr style=\"text-align: right;\">\n",
       "      <th></th>\n",
       "      <th>cod_ramo</th>\n",
       "      <th>des_ramo</th>\n",
       "      <th>Tipo</th>\n",
       "      <th>cod_cia</th>\n",
       "      <th>Autorizacion</th>\n",
       "      <th>Primas_Emitidas</th>\n",
       "    </tr>\n",
       "  </thead>\n",
       "  <tbody>\n",
       "    <tr>\n",
       "      <th>0</th>\n",
       "      <td>1.010.00</td>\n",
       "      <td>Incendio</td>\n",
       "      <td>Patrimonial</td>\n",
       "      <td>2</td>\n",
       "      <td>Autorizada</td>\n",
       "      <td>754,062,663.00000</td>\n",
       "    </tr>\n",
       "    <tr>\n",
       "      <th>1</th>\n",
       "      <td>1.020.00</td>\n",
       "      <td>Combinado Familiar e Integral</td>\n",
       "      <td>Patrimonial</td>\n",
       "      <td>2</td>\n",
       "      <td>Autorizada</td>\n",
       "      <td>303,287,161.00000</td>\n",
       "    </tr>\n",
       "    <tr>\n",
       "      <th>2</th>\n",
       "      <td>1.030.00</td>\n",
       "      <td>Automotores</td>\n",
       "      <td>Patrimonial</td>\n",
       "      <td>2</td>\n",
       "      <td>Autorizada</td>\n",
       "      <td>1,533,538,660.00000</td>\n",
       "    </tr>\n",
       "    <tr>\n",
       "      <th>3</th>\n",
       "      <td>1.040.00</td>\n",
       "      <td>Transporte Público de Pasajeros</td>\n",
       "      <td>Patrimonial</td>\n",
       "      <td>2</td>\n",
       "      <td>Sin_Autorización</td>\n",
       "      <td>0.00000</td>\n",
       "    </tr>\n",
       "    <tr>\n",
       "      <th>4</th>\n",
       "      <td>1.050.00</td>\n",
       "      <td>Riesgos del Trabajo</td>\n",
       "      <td>ART</td>\n",
       "      <td>2</td>\n",
       "      <td>Sin_Autorización</td>\n",
       "      <td>0.00000</td>\n",
       "    </tr>\n",
       "    <tr>\n",
       "      <th>5</th>\n",
       "      <td>1.070.00</td>\n",
       "      <td>Riesgos Agropecuarios y Forestales</td>\n",
       "      <td>Patrimonial</td>\n",
       "      <td>2</td>\n",
       "      <td>Autorizada</td>\n",
       "      <td>0.00000</td>\n",
       "    </tr>\n",
       "    <tr>\n",
       "      <th>6</th>\n",
       "      <td>1.080.00</td>\n",
       "      <td>Responsabilidad Civil</td>\n",
       "      <td>Patrimonial</td>\n",
       "      <td>2</td>\n",
       "      <td>Autorizada</td>\n",
       "      <td>631,732,086.00000</td>\n",
       "    </tr>\n",
       "    <tr>\n",
       "      <th>7</th>\n",
       "      <td>1.090.00</td>\n",
       "      <td>Robo y Riesgos Similares</td>\n",
       "      <td>Patrimonial</td>\n",
       "      <td>2</td>\n",
       "      <td>Autorizada</td>\n",
       "      <td>13,823,931.00000</td>\n",
       "    </tr>\n",
       "  </tbody>\n",
       "</table>\n",
       "</div>"
      ],
      "text/plain": [
       "   cod_ramo                            des_ramo         Tipo  cod_cia  \\\n",
       "0  1.010.00                            Incendio  Patrimonial        2   \n",
       "1  1.020.00       Combinado Familiar e Integral  Patrimonial        2   \n",
       "2  1.030.00                         Automotores  Patrimonial        2   \n",
       "3  1.040.00     Transporte Público de Pasajeros  Patrimonial        2   \n",
       "4  1.050.00                 Riesgos del Trabajo          ART        2   \n",
       "5  1.070.00  Riesgos Agropecuarios y Forestales  Patrimonial        2   \n",
       "6  1.080.00               Responsabilidad Civil  Patrimonial        2   \n",
       "7  1.090.00            Robo y Riesgos Similares  Patrimonial        2   \n",
       "\n",
       "       Autorizacion     Primas_Emitidas  \n",
       "0        Autorizada   754,062,663.00000  \n",
       "1        Autorizada   303,287,161.00000  \n",
       "2        Autorizada 1,533,538,660.00000  \n",
       "3  Sin_Autorización             0.00000  \n",
       "4  Sin_Autorización             0.00000  \n",
       "5        Autorizada             0.00000  \n",
       "6        Autorizada   631,732,086.00000  \n",
       "7        Autorizada    13,823,931.00000  "
      ]
     },
     "execution_count": 119,
     "metadata": {},
     "output_type": "execute_result"
    }
   ],
   "source": [
    "ECM.head(8)"
   ]
  },
  {
   "cell_type": "code",
   "execution_count": 120,
   "metadata": {},
   "outputs": [],
   "source": [
    "# Calculo el porcentaje de prima emitida sobre el capital por ramo\n",
    "\n",
    "ECM['Comprobacion'] = np.where(ECM['Tipo'] == 'Patrimonial', ECM['Primas_Emitidas']/90000000 , ECM['Primas_Emitidas']/36000000)"
   ]
  },
  {
   "cell_type": "code",
   "execution_count": 121,
   "metadata": {},
   "outputs": [],
   "source": [
    "# Agrego Denominación corta\n",
    "\n",
    "ECM=ECM.merge(dt_cias, how='left', on=['cod_cia'])"
   ]
  },
  {
   "cell_type": "code",
   "execution_count": 122,
   "metadata": {},
   "outputs": [],
   "source": [
    "# Cambio el orden de las columnas\n",
    "\n",
    "ECM = ECM[['cod_cia','DenominacionCorta','cod_ramo','des_ramo','Tipo','Autorizacion','Primas_Emitidas','Comprobacion']]"
   ]
  },
  {
   "cell_type": "code",
   "execution_count": 123,
   "metadata": {},
   "outputs": [
    {
     "data": {
      "text/html": [
       "<div>\n",
       "<style scoped>\n",
       "    .dataframe tbody tr th:only-of-type {\n",
       "        vertical-align: middle;\n",
       "    }\n",
       "\n",
       "    .dataframe tbody tr th {\n",
       "        vertical-align: top;\n",
       "    }\n",
       "\n",
       "    .dataframe thead th {\n",
       "        text-align: right;\n",
       "    }\n",
       "</style>\n",
       "<table border=\"1\" class=\"dataframe\">\n",
       "  <thead>\n",
       "    <tr style=\"text-align: right;\">\n",
       "      <th></th>\n",
       "      <th>cod_cia</th>\n",
       "      <th>DenominacionCorta</th>\n",
       "      <th>cod_ramo</th>\n",
       "      <th>des_ramo</th>\n",
       "      <th>Tipo</th>\n",
       "      <th>Autorizacion</th>\n",
       "      <th>Primas_Emitidas</th>\n",
       "      <th>Comprobacion</th>\n",
       "    </tr>\n",
       "  </thead>\n",
       "  <tbody>\n",
       "    <tr>\n",
       "      <th>0</th>\n",
       "      <td>2</td>\n",
       "      <td>SMG</td>\n",
       "      <td>1.010.00</td>\n",
       "      <td>Incendio</td>\n",
       "      <td>Patrimonial</td>\n",
       "      <td>Autorizada</td>\n",
       "      <td>754,062,663.00000</td>\n",
       "      <td>8.37847</td>\n",
       "    </tr>\n",
       "    <tr>\n",
       "      <th>1</th>\n",
       "      <td>2</td>\n",
       "      <td>SMG</td>\n",
       "      <td>1.020.00</td>\n",
       "      <td>Combinado Familiar e Integral</td>\n",
       "      <td>Patrimonial</td>\n",
       "      <td>Autorizada</td>\n",
       "      <td>303,287,161.00000</td>\n",
       "      <td>3.36986</td>\n",
       "    </tr>\n",
       "    <tr>\n",
       "      <th>2</th>\n",
       "      <td>2</td>\n",
       "      <td>SMG</td>\n",
       "      <td>1.030.00</td>\n",
       "      <td>Automotores</td>\n",
       "      <td>Patrimonial</td>\n",
       "      <td>Autorizada</td>\n",
       "      <td>1,533,538,660.00000</td>\n",
       "      <td>17.03932</td>\n",
       "    </tr>\n",
       "    <tr>\n",
       "      <th>3</th>\n",
       "      <td>2</td>\n",
       "      <td>SMG</td>\n",
       "      <td>1.040.00</td>\n",
       "      <td>Transporte Público de Pasajeros</td>\n",
       "      <td>Patrimonial</td>\n",
       "      <td>Sin_Autorización</td>\n",
       "      <td>0.00000</td>\n",
       "      <td>0.00000</td>\n",
       "    </tr>\n",
       "    <tr>\n",
       "      <th>4</th>\n",
       "      <td>2</td>\n",
       "      <td>SMG</td>\n",
       "      <td>1.050.00</td>\n",
       "      <td>Riesgos del Trabajo</td>\n",
       "      <td>ART</td>\n",
       "      <td>Sin_Autorización</td>\n",
       "      <td>0.00000</td>\n",
       "      <td>0.00000</td>\n",
       "    </tr>\n",
       "  </tbody>\n",
       "</table>\n",
       "</div>"
      ],
      "text/plain": [
       "   cod_cia DenominacionCorta  cod_ramo                         des_ramo  \\\n",
       "0        2               SMG  1.010.00                         Incendio   \n",
       "1        2               SMG  1.020.00    Combinado Familiar e Integral   \n",
       "2        2               SMG  1.030.00                      Automotores   \n",
       "3        2               SMG  1.040.00  Transporte Público de Pasajeros   \n",
       "4        2               SMG  1.050.00              Riesgos del Trabajo   \n",
       "\n",
       "          Tipo      Autorizacion     Primas_Emitidas  Comprobacion  \n",
       "0  Patrimonial        Autorizada   754,062,663.00000       8.37847  \n",
       "1  Patrimonial        Autorizada   303,287,161.00000       3.36986  \n",
       "2  Patrimonial        Autorizada 1,533,538,660.00000      17.03932  \n",
       "3  Patrimonial  Sin_Autorización             0.00000       0.00000  \n",
       "4          ART  Sin_Autorización             0.00000       0.00000  "
      ]
     },
     "execution_count": 123,
     "metadata": {},
     "output_type": "execute_result"
    }
   ],
   "source": [
    "ECM.head()"
   ]
  },
  {
   "cell_type": "code",
   "execution_count": 125,
   "metadata": {},
   "outputs": [],
   "source": [
    "ECM.to_excel(r'C:\\Users\\eangenello\\Desktop\\PYTHON\\output\\ECM\\Dataset_ECM_Resol1116.xlsx', sheet_name='Dataset_ECM', index=False)"
   ]
  },
  {
   "cell_type": "code",
   "execution_count": null,
   "metadata": {},
   "outputs": [],
   "source": []
  },
  {
   "cell_type": "code",
   "execution_count": null,
   "metadata": {},
   "outputs": [],
   "source": []
  },
  {
   "cell_type": "code",
   "execution_count": 90,
   "metadata": {},
   "outputs": [],
   "source": [
    "# Calculo el porcentaje de prima emitida sobre el capital por ramo\n",
    "\n",
    "#ECM['Comprobacion']=1\n",
    "\n",
    "#for i in ECM.index:\n",
    "#    if ECM.Comprobacion[i]=='Patrimonial':\n",
    "#        ECM.Comprobacion[i]=ECM.Primas_Emitidas[i]/90000000\n",
    "#    else:\n",
    "#        ECM.Comprobacion[i]=ECM.Primas_Emitidas[i]/36000000"
   ]
  }
 ],
 "metadata": {
  "kernelspec": {
   "display_name": "Python 3",
   "language": "python",
   "name": "python3"
  },
  "language_info": {
   "codemirror_mode": {
    "name": "ipython",
    "version": 3
   },
   "file_extension": ".py",
   "mimetype": "text/x-python",
   "name": "python",
   "nbconvert_exporter": "python",
   "pygments_lexer": "ipython3",
   "version": "3.8.3"
  }
 },
 "nbformat": 4,
 "nbformat_minor": 2
}
