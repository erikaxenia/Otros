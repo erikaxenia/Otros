{
 "cells": [
  {
   "cell_type": "code",
   "execution_count": 3,
   "metadata": {},
   "outputs": [],
   "source": [
    "import numpy as np\n",
    "import scipy as sp\n",
    "import pandas as pd\n",
    "import matplotlib.pyplot as plt\n",
    "import seaborn as sns\n",
    "\n",
    "%matplotlib inline"
   ]
  },
  {
   "cell_type": "code",
   "execution_count": null,
   "metadata": {},
   "outputs": [],
   "source": [
    "#Importo tabla de ramos\n",
    "\n",
    "ramos_df=pd.read_excel(r'C:\\Users\\eangenello\\Desktop\\TÉCNICA\\Python Caja Negra\\input\\Dataset_AM\\tabla_ramos.xlsx', index_col = 'cod_subramo')"
   ]
  },
  {
   "cell_type": "code",
   "execution_count": 6,
   "metadata": {},
   "outputs": [],
   "source": [
    "# Importo Anexo 13\n",
    "\n",
    "anexo13_df=pd.read_excel(r'C:\\Users\\eangenello\\Desktop\\ANEXO_13.xlsx', usecols=\"A:E\")\n"
   ]
  },
  {
   "cell_type": "code",
   "execution_count": null,
   "metadata": {},
   "outputs": [],
   "source": [
    "anexo13_df.cod_cia=anexo13_df.cod_cia.astype('O')"
   ]
  },
  {
   "cell_type": "code",
   "execution_count": 12,
   "metadata": {},
   "outputs": [],
   "source": [
    "anexo13_df=anexo13_df.drop(anexo13_df[(anexo13_df.cod_subramo == '3.000.99')|(anexo13_df.cod_subramo == '9999')].index)"
   ]
  },
  {
   "cell_type": "code",
   "execution_count": 18,
   "metadata": {},
   "outputs": [],
   "source": [
    "anexo13_pivot=anexo13_ramo.pivot_table(index=['cod_cia','cod_subramo'], values=['Pagadas_en_el_Ejercicio'], columns=['año'], aggfunc=np.sum)"
   ]
  },
  {
   "cell_type": "code",
   "execution_count": 22,
   "metadata": {},
   "outputs": [],
   "source": [
    "anexo13_pivot=anexo13_pivot.replace(to_replace=np.nan, value=0)"
   ]
  },
  {
   "cell_type": "code",
   "execution_count": null,
   "metadata": {},
   "outputs": [],
   "source": [
    "multi_index=pd.MultiIndex(levels=[list(anexo13_pivot.columns.levels[0]), list(anexo13_pivot.columns.levels[1])],\n",
    "                                    labels=list(anexo12_pivot.columns.labels),\n",
    "                                    names=['variable', 'año'])\n",
    "\n",
    "\n",
    "anexo12_trim=pd.DataFrame(index=anexo12_pivot.index , columns=multi_index)"
   ]
  },
  {
   "cell_type": "code",
   "execution_count": null,
   "metadata": {},
   "outputs": [],
   "source": []
  },
  {
   "cell_type": "code",
   "execution_count": null,
   "metadata": {},
   "outputs": [],
   "source": []
  },
  {
   "cell_type": "code",
   "execution_count": null,
   "metadata": {},
   "outputs": [],
   "source": []
  },
  {
   "cell_type": "code",
   "execution_count": null,
   "metadata": {},
   "outputs": [],
   "source": []
  },
  {
   "cell_type": "code",
   "execution_count": null,
   "metadata": {},
   "outputs": [],
   "source": []
  },
  {
   "cell_type": "code",
   "execution_count": null,
   "metadata": {},
   "outputs": [],
   "source": []
  },
  {
   "cell_type": "code",
   "execution_count": 21,
   "metadata": {},
   "outputs": [],
   "source": [
    "# EXPORTO\n",
    "\n",
    "anexo13_pivot.to_excel(r'C:\\Users\\eangenello\\Desktop\\probando.xlsx')"
   ]
  },
  {
   "cell_type": "code",
   "execution_count": null,
   "metadata": {},
   "outputs": [],
   "source": []
  }
 ],
 "metadata": {
  "kernelspec": {
   "display_name": "Python 3",
   "language": "python",
   "name": "python3"
  },
  "language_info": {
   "codemirror_mode": {
    "name": "ipython",
    "version": 3
   },
   "file_extension": ".py",
   "mimetype": "text/x-python",
   "name": "python",
   "nbconvert_exporter": "python",
   "pygments_lexer": "ipython3",
   "version": "3.7.0"
  }
 },
 "nbformat": 4,
 "nbformat_minor": 2
}
