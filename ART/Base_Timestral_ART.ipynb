{
 "cells": [
  {
   "cell_type": "code",
   "execution_count": 10,
   "metadata": {},
   "outputs": [],
   "source": [
    "import numpy as np\n",
    "import scipy as sp\n",
    "import pandas as pd\n",
    "import matplotlib.pyplot as plt\n",
    "import seaborn as sns\n",
    "\n",
    "%matplotlib inline"
   ]
  },
  {
   "cell_type": "code",
   "execution_count": 11,
   "metadata": {},
   "outputs": [],
   "source": [
    "#Levanto tabla de ramos\n",
    "\n",
    "ramos_df=pd.read_excel(r'C:\\Users\\eangenello\\Desktop\\TÉCNICA\\Python Caja Negra\\input\\tabla_ramos.xlsx', index_col = 'cod_subramo')"
   ]
  },
  {
   "cell_type": "markdown",
   "metadata": {},
   "source": [
    "ANEXO 12 - PRIMAS"
   ]
  },
  {
   "cell_type": "code",
   "execution_count": 12,
   "metadata": {},
   "outputs": [],
   "source": [
    "# Anexo 12 Primas - el primer trimestre tiene que ser 3\n",
    "\n",
    "anexo12_df=pd.read_excel(r'C:\\Users\\eangenello\\Desktop\\TÉCNICA\\Python Caja Negra\\input\\anexo12.xlsx')\n",
    "\n",
    "anexo12_df.cod_cia=anexo12_df.cod_cia.astype('O')"
   ]
  },
  {
   "cell_type": "code",
   "execution_count": 14,
   "metadata": {},
   "outputs": [],
   "source": [
    "# Filtro por los sub-ramos de Riesgos del trabajo\n",
    "\n",
    "anexo12_df=anexo12_df[(anexo12_df.cod_subramo=='1.050.01')|(anexo12_df.cod_subramo=='1.050.99')]"
   ]
  },
  {
   "cell_type": "code",
   "execution_count": 15,
   "metadata": {},
   "outputs": [],
   "source": [
    "# Crea la columna Ramo y la completa buscando la información de la tabla de ramos\n",
    "\n",
    "anexo12_df['ramo']=[ramos_df.loc[anexo12_df.cod_subramo[i],'des_ramo'] for i in anexo12_df.index]"
   ]
  },
  {
   "cell_type": "code",
   "execution_count": 16,
   "metadata": {},
   "outputs": [],
   "source": [
    "# Crea una tabla del tipo \"tabla dinámica de excel\"\n",
    "# Agrupa filas: por ID y ramo, columnas: año (año=aaaa-t) y suma las primas emitidas\n",
    "\n",
    "anexo12_pivot=anexo12_df.pivot_table(index=['cod_cia','ramo'],values=['Primas_Emitidas'], columns=['año'], aggfunc=np.sum)"
   ]
  },
  {
   "cell_type": "code",
   "execution_count": 19,
   "metadata": {},
   "outputs": [],
   "source": [
    "# Reemplaza los missing por nulos\n",
    "\n",
    "anexo12_pivot=anexo12_pivot.replace(to_replace=np.nan, value=0)"
   ]
  },
  {
   "cell_type": "code",
   "execution_count": 20,
   "metadata": {},
   "outputs": [],
   "source": [
    "#Creación base trimestral desacumulada\n",
    "\n",
    "# Creo el esqueleto donde después va a incluir la información con un bucle. Lo que le estoy pidiendo es que utilice como esqueleto\n",
    "# la misma estructura que tengo hasta ahora en 'anexo12_pivot' y que le modifique el nombre de las columnas a partir de 'multi_index'\n",
    "\n",
    "\n",
    "multi_index=pd.MultiIndex(levels=[list(anexo12_pivot.columns.levels[0]), list(anexo12_pivot.columns.levels[1])],\n",
    "                                    labels=list(anexo12_pivot.columns.labels),\n",
    "                                    names=['variable', 'año'])\n",
    "\n",
    "\n",
    "anexo12_trim=pd.DataFrame(index=anexo12_pivot.index , columns=multi_index)\n"
   ]
  },
  {
   "cell_type": "code",
   "execution_count": 21,
   "metadata": {},
   "outputs": [],
   "source": [
    "# Defino la función que voy a utilizar para hacer el cálculo\n",
    "\n",
    "# La función indica que si el período de análidis es 3, entonces que retorne el mismo monto de prima emitida. \n",
    "# Sino que al valor del período actual le reste el período anterior.\n",
    "\n",
    "def trim(row,col,año):\n",
    "    if anexo12_trim.loc[anexo12_trim.iloc[row].name[0]][col][año].name.split('-')[1]=='3':\n",
    "        \n",
    "        return anexo12_pivot.loc[anexo12_trim.iloc[row].name[0],anexo12_trim.iloc[row].name[1]][col][año]\n",
    "    \n",
    "    else:\n",
    "        \n",
    "        return anexo12_pivot.loc[anexo12_trim.iloc[row].name[0],anexo12_trim.iloc[row].name[1]][col][año]-anexo12_pivot.loc[anexo12_trim.iloc[row].name[0],anexo12_trim.iloc[row].name[1]][col][anexo12_trim.columns.levels[1][list(anexo12_trim.columns.levels[1]).index(año)-1]]\n",
    "            "
   ]
  },
  {
   "cell_type": "code",
   "execution_count": 22,
   "metadata": {},
   "outputs": [],
   "source": [
    "# Defino el bucle for al que voy a aplicar la función\n",
    "\n",
    "variables=['Primas_Emitidas']\n",
    "\n",
    "for j in range(len(anexo12_trim.index)):\n",
    "    for col in variables:\n",
    "        for año in list(anexo12_trim.columns.levels[1]):\n",
    "            anexo12_trim.iloc[j][col][año]=trim(j,col,año)"
   ]
  },
  {
   "cell_type": "code",
   "execution_count": 23,
   "metadata": {},
   "outputs": [],
   "source": [
    "anexo12_trim['cod']=[anexo12_trim.iloc[i].name[0] for i in range(len(anexo12_trim.index))]\n",
    "anexo12_trim['ramo']=[anexo12_trim.iloc[i].name[1] for i in range(len(anexo12_trim.index))]"
   ]
  },
  {
   "cell_type": "code",
   "execution_count": 24,
   "metadata": {},
   "outputs": [],
   "source": [
    "anexo12_trim_melt=anexo12_trim.melt(id_vars=['cod','ramo'])"
   ]
  },
  {
   "cell_type": "code",
   "execution_count": 26,
   "metadata": {},
   "outputs": [],
   "source": [
    "anexo12_trim_melt.to_excel(r'C:\\Users\\eangenello\\Desktop\\TÉCNICA\\Python Caja Negra\\output\\anexo12_desacumulado.xlsx')"
   ]
  },
  {
   "cell_type": "code",
   "execution_count": null,
   "metadata": {},
   "outputs": [],
   "source": []
  }
 ],
 "metadata": {
  "kernelspec": {
   "display_name": "Python 3 (ipykernel)",
   "language": "python",
   "name": "python3"
  },
  "language_info": {
   "codemirror_mode": {
    "name": "ipython",
    "version": 3
   },
   "file_extension": ".py",
   "mimetype": "text/x-python",
   "name": "python",
   "nbconvert_exporter": "python",
   "pygments_lexer": "ipython3",
   "version": "3.8.3"
  }
 },
 "nbformat": 4,
 "nbformat_minor": 2
}
