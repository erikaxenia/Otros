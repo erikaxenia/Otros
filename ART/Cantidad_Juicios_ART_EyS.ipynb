{
 "cells": [
  {
   "cell_type": "code",
   "execution_count": 1,
   "metadata": {},
   "outputs": [],
   "source": [
    "import numpy as np\n",
    "import scipy as sp\n",
    "import pandas as pd\n",
    "import matplotlib.pyplot as plt\n",
    "import seaborn as sns\n",
    "\n",
    "%matplotlib inline"
   ]
  },
  {
   "cell_type": "code",
   "execution_count": 2,
   "metadata": {},
   "outputs": [],
   "source": [
    "cant_juicios=pd.read_excel(r'C:\\Users\\eangenello\\Desktop\\TECNICA\\Python\\input\\AUTOMOTOR\\Juicios por ramo.xlsx')"
   ]
  },
  {
   "cell_type": "code",
   "execution_count": 19,
   "metadata": {},
   "outputs": [],
   "source": [
    "Dataset_compañías=pd.read_excel(r'C:\\Users\\eangenello\\Desktop\\TECNICA\\Python\\input\\ART\\Dataset_Compañías.xlsx', usecols='A,B')"
   ]
  },
  {
   "cell_type": "code",
   "execution_count": 3,
   "metadata": {},
   "outputs": [
    {
     "data": {
      "text/html": [
       "<div>\n",
       "<style scoped>\n",
       "    .dataframe tbody tr th:only-of-type {\n",
       "        vertical-align: middle;\n",
       "    }\n",
       "\n",
       "    .dataframe tbody tr th {\n",
       "        vertical-align: top;\n",
       "    }\n",
       "\n",
       "    .dataframe thead th {\n",
       "        text-align: right;\n",
       "    }\n",
       "</style>\n",
       "<table border=\"1\" class=\"dataframe\">\n",
       "  <thead>\n",
       "    <tr style=\"text-align: right;\">\n",
       "      <th></th>\n",
       "      <th>CiaID</th>\n",
       "      <th>Periodo</th>\n",
       "      <th>Juicio Mediacion</th>\n",
       "      <th>Tipo Juicio Mediacion</th>\n",
       "      <th>Ramo - Subramo</th>\n",
       "      <th>cantidad</th>\n",
       "    </tr>\n",
       "  </thead>\n",
       "  <tbody>\n",
       "    <tr>\n",
       "      <th>0</th>\n",
       "      <td>895</td>\n",
       "      <td>Trimestral - 2019-2</td>\n",
       "      <td>JUICIOS</td>\n",
       "      <td>Entrados en el Trimestre</td>\n",
       "      <td>Caución – Otros</td>\n",
       "      <td>1</td>\n",
       "    </tr>\n",
       "    <tr>\n",
       "      <th>1</th>\n",
       "      <td>895</td>\n",
       "      <td>Trimestral - 2019-2</td>\n",
       "      <td>MEDIACIONES</td>\n",
       "      <td>Entrados en el Trimestre</td>\n",
       "      <td>Caución – Otros</td>\n",
       "      <td>5</td>\n",
       "    </tr>\n",
       "    <tr>\n",
       "      <th>2</th>\n",
       "      <td>888</td>\n",
       "      <td>Trimestral - 2019-2</td>\n",
       "      <td>MEDIACIONES</td>\n",
       "      <td>Entrados en el Trimestre</td>\n",
       "      <td>Vida - Colectivo</td>\n",
       "      <td>3</td>\n",
       "    </tr>\n",
       "    <tr>\n",
       "      <th>3</th>\n",
       "      <td>888</td>\n",
       "      <td>Trimestral - 2019-2</td>\n",
       "      <td>MEDIACIONES</td>\n",
       "      <td>Al Inicio del Trimestre</td>\n",
       "      <td>Vida - Colectivo</td>\n",
       "      <td>7</td>\n",
       "    </tr>\n",
       "    <tr>\n",
       "      <th>4</th>\n",
       "      <td>878</td>\n",
       "      <td>Trimestral - 2019-2</td>\n",
       "      <td>MEDIACIONES</td>\n",
       "      <td>Acordados / Pagados en el Trimestre</td>\n",
       "      <td>Automotores - Cascos y Otras Cob.</td>\n",
       "      <td>10</td>\n",
       "    </tr>\n",
       "  </tbody>\n",
       "</table>\n",
       "</div>"
      ],
      "text/plain": [
       "   CiaID              Periodo Juicio Mediacion  \\\n",
       "0    895  Trimestral - 2019-2          JUICIOS   \n",
       "1    895  Trimestral - 2019-2      MEDIACIONES   \n",
       "2    888  Trimestral - 2019-2      MEDIACIONES   \n",
       "3    888  Trimestral - 2019-2      MEDIACIONES   \n",
       "4    878  Trimestral - 2019-2      MEDIACIONES   \n",
       "\n",
       "                 Tipo Juicio Mediacion                     Ramo - Subramo  \\\n",
       "0             Entrados en el Trimestre                    Caución – Otros   \n",
       "1             Entrados en el Trimestre                    Caución – Otros   \n",
       "2             Entrados en el Trimestre                   Vida - Colectivo   \n",
       "3              Al Inicio del Trimestre                   Vida - Colectivo   \n",
       "4  Acordados / Pagados en el Trimestre  Automotores - Cascos y Otras Cob.   \n",
       "\n",
       "   cantidad  \n",
       "0         1  \n",
       "1         5  \n",
       "2         3  \n",
       "3         7  \n",
       "4        10  "
      ]
     },
     "execution_count": 3,
     "metadata": {},
     "output_type": "execute_result"
    }
   ],
   "source": [
    "cant_juicios.head()"
   ]
  },
  {
   "cell_type": "code",
   "execution_count": 4,
   "metadata": {},
   "outputs": [],
   "source": [
    "# Creo la variable año para que tenga el mismo formato que los demás datasets\n",
    "cant_juicios['periodo']=[cant_juicios.Periodo.iloc[row][-6:] for row in range(len(cant_juicios.index))]"
   ]
  },
  {
   "cell_type": "code",
   "execution_count": 5,
   "metadata": {},
   "outputs": [],
   "source": [
    "# Elimino Periodo\n",
    "cant_juicios=cant_juicios.drop('Periodo',1)"
   ]
  },
  {
   "cell_type": "code",
   "execution_count": 6,
   "metadata": {},
   "outputs": [
    {
     "data": {
      "text/html": [
       "<div>\n",
       "<style scoped>\n",
       "    .dataframe tbody tr th:only-of-type {\n",
       "        vertical-align: middle;\n",
       "    }\n",
       "\n",
       "    .dataframe tbody tr th {\n",
       "        vertical-align: top;\n",
       "    }\n",
       "\n",
       "    .dataframe thead th {\n",
       "        text-align: right;\n",
       "    }\n",
       "</style>\n",
       "<table border=\"1\" class=\"dataframe\">\n",
       "  <thead>\n",
       "    <tr style=\"text-align: right;\">\n",
       "      <th></th>\n",
       "      <th>CiaID</th>\n",
       "      <th>Juicio Mediacion</th>\n",
       "      <th>Tipo Juicio Mediacion</th>\n",
       "      <th>Ramo - Subramo</th>\n",
       "      <th>cantidad</th>\n",
       "      <th>periodo</th>\n",
       "    </tr>\n",
       "  </thead>\n",
       "  <tbody>\n",
       "    <tr>\n",
       "      <th>0</th>\n",
       "      <td>895</td>\n",
       "      <td>JUICIOS</td>\n",
       "      <td>Entrados en el Trimestre</td>\n",
       "      <td>Caución – Otros</td>\n",
       "      <td>1</td>\n",
       "      <td>2019-2</td>\n",
       "    </tr>\n",
       "    <tr>\n",
       "      <th>1</th>\n",
       "      <td>895</td>\n",
       "      <td>MEDIACIONES</td>\n",
       "      <td>Entrados en el Trimestre</td>\n",
       "      <td>Caución – Otros</td>\n",
       "      <td>5</td>\n",
       "      <td>2019-2</td>\n",
       "    </tr>\n",
       "    <tr>\n",
       "      <th>2</th>\n",
       "      <td>888</td>\n",
       "      <td>MEDIACIONES</td>\n",
       "      <td>Entrados en el Trimestre</td>\n",
       "      <td>Vida - Colectivo</td>\n",
       "      <td>3</td>\n",
       "      <td>2019-2</td>\n",
       "    </tr>\n",
       "    <tr>\n",
       "      <th>3</th>\n",
       "      <td>888</td>\n",
       "      <td>MEDIACIONES</td>\n",
       "      <td>Al Inicio del Trimestre</td>\n",
       "      <td>Vida - Colectivo</td>\n",
       "      <td>7</td>\n",
       "      <td>2019-2</td>\n",
       "    </tr>\n",
       "    <tr>\n",
       "      <th>4</th>\n",
       "      <td>878</td>\n",
       "      <td>MEDIACIONES</td>\n",
       "      <td>Acordados / Pagados en el Trimestre</td>\n",
       "      <td>Automotores - Cascos y Otras Cob.</td>\n",
       "      <td>10</td>\n",
       "      <td>2019-2</td>\n",
       "    </tr>\n",
       "  </tbody>\n",
       "</table>\n",
       "</div>"
      ],
      "text/plain": [
       "   CiaID Juicio Mediacion                Tipo Juicio Mediacion  \\\n",
       "0    895          JUICIOS             Entrados en el Trimestre   \n",
       "1    895      MEDIACIONES             Entrados en el Trimestre   \n",
       "2    888      MEDIACIONES             Entrados en el Trimestre   \n",
       "3    888      MEDIACIONES              Al Inicio del Trimestre   \n",
       "4    878      MEDIACIONES  Acordados / Pagados en el Trimestre   \n",
       "\n",
       "                      Ramo - Subramo  cantidad periodo  \n",
       "0                    Caución – Otros         1  2019-2  \n",
       "1                    Caución – Otros         5  2019-2  \n",
       "2                   Vida - Colectivo         3  2019-2  \n",
       "3                   Vida - Colectivo         7  2019-2  \n",
       "4  Automotores - Cascos y Otras Cob.        10  2019-2  "
      ]
     },
     "execution_count": 6,
     "metadata": {},
     "output_type": "execute_result"
    }
   ],
   "source": [
    "cant_juicios.head()"
   ]
  },
  {
   "cell_type": "code",
   "execution_count": 7,
   "metadata": {},
   "outputs": [],
   "source": [
    "# Filtro por Juicio\n",
    "cant_juicios=cant_juicios[(cant_juicios['Juicio Mediacion']=='JUICIOS')]"
   ]
  },
  {
   "cell_type": "code",
   "execution_count": 8,
   "metadata": {},
   "outputs": [],
   "source": [
    "# Filtro por ramo automotor\n",
    "cant_juicios=cant_juicios[(cant_juicios['Ramo - Subramo']=='Rs. del Trabajo - Acc. del Trabajo')|(cant_juicios['Ramo - Subramo']=='Rs. del Trabajo - Otros')]"
   ]
  },
  {
   "cell_type": "code",
   "execution_count": 9,
   "metadata": {},
   "outputs": [],
   "source": [
    "#Agrupo por cantidad\n",
    "cant_juicios=cant_juicios.pivot_table(index=['CiaID','periodo'], values='cantidad', columns=['Tipo Juicio Mediacion'], aggfunc=np.sum, fill_value=0)"
   ]
  },
  {
   "cell_type": "code",
   "execution_count": 10,
   "metadata": {},
   "outputs": [],
   "source": [
    "# Creo la variable cod_cia\n",
    "cant_juicios['cod_cia']=[cant_juicios.iloc[row].name[0] for row in range(len(cant_juicios.index))]"
   ]
  },
  {
   "cell_type": "code",
   "execution_count": 11,
   "metadata": {},
   "outputs": [],
   "source": [
    "# Creo la variable año\n",
    "cant_juicios['año']=[cant_juicios.iloc[row].name[1] for row in range(len(cant_juicios.index))]"
   ]
  },
  {
   "cell_type": "code",
   "execution_count": 12,
   "metadata": {},
   "outputs": [],
   "source": [
    "# Creo la variable Cantidad de Juicios\n",
    "cant_juicios['Juicios abiertos']=cant_juicios['Al Inicio del Trimestre'] + cant_juicios['Entrados en el Trimestre']"
   ]
  },
  {
   "cell_type": "code",
   "execution_count": 13,
   "metadata": {},
   "outputs": [],
   "source": [
    "cant_juicios['Juicios cerrados']=cant_juicios['Acordados / Pagados en el Trimestre']"
   ]
  },
  {
   "cell_type": "code",
   "execution_count": 24,
   "metadata": {},
   "outputs": [],
   "source": [
    "reor=['cod_cia', 'año', 'Juicios abiertos', 'Juicios cerrados' ]\n",
    "cant_juicios=cant_juicios[reor]"
   ]
  },
  {
   "cell_type": "code",
   "execution_count": 26,
   "metadata": {},
   "outputs": [],
   "source": [
    "cant_juicios=cant_juicios.merge(Dataset_compañías, how='inner', on='cod_cia')"
   ]
  },
  {
   "cell_type": "code",
   "execution_count": 28,
   "metadata": {},
   "outputs": [],
   "source": [
    "cias_art=[64,79,254,259,261,348,412,440,605,616,618,619,620,621,624,626,726,862,890,9999]\n",
    "cant_juicios['cias_art']=[1 if np.isin(cant_juicios.cod_cia.iloc[i],cias_art)==True else 0 for i in range(len(cant_juicios.index))]\n",
    "\n",
    "cant_juicios=cant_juicios[(cant_juicios.cias_art==1)]\n",
    "\n",
    "cant_juicios=cant_juicios.drop({'cias_art'}, 1)"
   ]
  },
  {
   "cell_type": "code",
   "execution_count": 29,
   "metadata": {},
   "outputs": [
    {
     "data": {
      "text/html": [
       "<div>\n",
       "<style scoped>\n",
       "    .dataframe tbody tr th:only-of-type {\n",
       "        vertical-align: middle;\n",
       "    }\n",
       "\n",
       "    .dataframe tbody tr th {\n",
       "        vertical-align: top;\n",
       "    }\n",
       "\n",
       "    .dataframe thead th {\n",
       "        text-align: right;\n",
       "    }\n",
       "</style>\n",
       "<table border=\"1\" class=\"dataframe\">\n",
       "  <thead>\n",
       "    <tr style=\"text-align: right;\">\n",
       "      <th></th>\n",
       "      <th>cod_cia</th>\n",
       "      <th>año</th>\n",
       "      <th>Juicios abiertos</th>\n",
       "      <th>Juicios cerrados</th>\n",
       "      <th>denominacion_corta</th>\n",
       "    </tr>\n",
       "  </thead>\n",
       "  <tbody>\n",
       "    <tr>\n",
       "      <th>32</th>\n",
       "      <td>64</td>\n",
       "      <td>2017-4</td>\n",
       "      <td>590</td>\n",
       "      <td>0</td>\n",
       "      <td>VICTORIA</td>\n",
       "    </tr>\n",
       "    <tr>\n",
       "      <th>33</th>\n",
       "      <td>64</td>\n",
       "      <td>2018-1</td>\n",
       "      <td>596</td>\n",
       "      <td>0</td>\n",
       "      <td>VICTORIA</td>\n",
       "    </tr>\n",
       "    <tr>\n",
       "      <th>34</th>\n",
       "      <td>64</td>\n",
       "      <td>2018-2</td>\n",
       "      <td>573</td>\n",
       "      <td>0</td>\n",
       "      <td>VICTORIA</td>\n",
       "    </tr>\n",
       "    <tr>\n",
       "      <th>35</th>\n",
       "      <td>64</td>\n",
       "      <td>2018-3</td>\n",
       "      <td>570</td>\n",
       "      <td>0</td>\n",
       "      <td>VICTORIA</td>\n",
       "    </tr>\n",
       "    <tr>\n",
       "      <th>36</th>\n",
       "      <td>64</td>\n",
       "      <td>2018-4</td>\n",
       "      <td>551</td>\n",
       "      <td>0</td>\n",
       "      <td>VICTORIA</td>\n",
       "    </tr>\n",
       "  </tbody>\n",
       "</table>\n",
       "</div>"
      ],
      "text/plain": [
       "    cod_cia     año  Juicios abiertos  Juicios cerrados denominacion_corta\n",
       "32       64  2017-4               590                 0           VICTORIA\n",
       "33       64  2018-1               596                 0           VICTORIA\n",
       "34       64  2018-2               573                 0           VICTORIA\n",
       "35       64  2018-3               570                 0           VICTORIA\n",
       "36       64  2018-4               551                 0           VICTORIA"
      ]
     },
     "execution_count": 29,
     "metadata": {},
     "output_type": "execute_result"
    }
   ],
   "source": [
    "cant_juicios.head()"
   ]
  },
  {
   "cell_type": "code",
   "execution_count": 30,
   "metadata": {},
   "outputs": [],
   "source": [
    "cant_juicios.to_excel(r'C:\\Users\\eangenello\\Desktop\\TECNICA\\Python\\output\\Cantidad de juicios ART SINENSUP.xlsx', index=False)"
   ]
  },
  {
   "cell_type": "code",
   "execution_count": null,
   "metadata": {},
   "outputs": [],
   "source": []
  }
 ],
 "metadata": {
  "kernelspec": {
   "display_name": "Python 3",
   "language": "python",
   "name": "python3"
  },
  "language_info": {
   "codemirror_mode": {
    "name": "ipython",
    "version": 3
   },
   "file_extension": ".py",
   "mimetype": "text/x-python",
   "name": "python",
   "nbconvert_exporter": "python",
   "pygments_lexer": "ipython3",
   "version": "3.7.0"
  }
 },
 "nbformat": 4,
 "nbformat_minor": 2
}
