{
 "cells": [
  {
   "cell_type": "markdown",
   "metadata": {},
   "source": [
    "## Dataset SRT"
   ]
  },
  {
   "cell_type": "code",
   "execution_count": 1,
   "metadata": {},
   "outputs": [],
   "source": [
    "import numpy as np\n",
    "import scipy as sp\n",
    "import pandas as pd\n",
    "import matplotlib.pyplot as plt\n",
    "import seaborn as sns\n",
    "\n",
    "%matplotlib inline"
   ]
  },
  {
   "cell_type": "markdown",
   "metadata": {},
   "source": [
    "Cuadro 1.1: Trabajadores cubiertos según ART y empleadores autoasegurados"
   ]
  },
  {
   "cell_type": "code",
   "execution_count": 2,
   "metadata": {},
   "outputs": [],
   "source": [
    "trab_cub_df=pd.read_excel(r'C:\\Users\\eangenello\\Desktop\\TECNICA\\Python\\input\\ART\\Serie_historica_Segun_ART_o_empleador_autoasegurado.xlsx', sheet_name = 'Cuadro 1.1', skiprows= 4, usecols='A:JP' )\n",
    "\n",
    "trab_cub_df=trab_cub_df.iloc[0:59]\n",
    "\n",
    "trab_cub_df=trab_cub_df.replace('Total Trabajadores en Unidades Productivas (1) ', 'MERCADO')\n",
    "\n",
    "trab_cub_df['COMPAÑIA']=trab_cub_df['ART y empleadores autoasegurados']\n",
    "\n",
    "trab_cub_df=trab_cub_df.drop('ART y empleadores autoasegurados',1)\n",
    "\n",
    "trab_cub_df=pd.melt(trab_cub_df, id_vars=['COMPAÑIA'], var_name='Periodo', value_name=\"Trabajadores_Cubiertos\")"
   ]
  },
  {
   "cell_type": "markdown",
   "metadata": {},
   "source": [
    "Cuadro 1.2: Empleadores asegurados según ART y empleadores autoasegurados"
   ]
  },
  {
   "cell_type": "code",
   "execution_count": 3,
   "metadata": {},
   "outputs": [],
   "source": [
    "emp_aseg_df=pd.read_excel(r'C:\\Users\\eangenello\\Desktop\\TECNICA\\Python\\input\\ART\\Serie_historica_Segun_ART_o_empleador_autoasegurado.xlsx', sheet_name = 'Cuadro 1.2', skiprows= 4, usecols='A:JP')\n",
    "\n",
    "emp_aseg_df=emp_aseg_df.iloc[0:59]\n",
    "\n",
    "emp_aseg_df=emp_aseg_df.replace('Empleadores afiliados con trabajadores declarados en Unidades Productivas (1) ', 'MERCADO')\n",
    "\n",
    "emp_aseg_df['COMPAÑIA']=emp_aseg_df['ART y empleadores autoasegurados']\n",
    "\n",
    "emp_aseg_df=emp_aseg_df.drop('ART y empleadores autoasegurados',1)\n",
    "\n",
    "emp_aseg_df=pd.melt(emp_aseg_df, id_vars=['COMPAÑIA'], var_name='Periodo', value_name=\"Empleadores_Asegurados\")"
   ]
  },
  {
   "cell_type": "code",
   "execution_count": 4,
   "metadata": {},
   "outputs": [],
   "source": [
    "# Junto Cuadro 1.1 + Cuadro 1.2\n",
    "\n",
    "DF = trab_cub_df.merge(emp_aseg_df, how='inner', on=['COMPAÑIA','Periodo'])"
   ]
  },
  {
   "cell_type": "markdown",
   "metadata": {},
   "source": [
    "Cuadro 1.3: Masa salarial según ART y empleadores autoasegurados"
   ]
  },
  {
   "cell_type": "code",
   "execution_count": 5,
   "metadata": {},
   "outputs": [],
   "source": [
    "masa_sal_df=pd.read_excel(r'C:\\Users\\eangenello\\Desktop\\TECNICA\\Python\\input\\ART\\Serie_historica_Segun_ART_o_empleador_autoasegurado.xlsx', sheet_name = 'Cuadro 1.3', skiprows= 4, usecols='A:JP')\n",
    "\n",
    "masa_sal_df=masa_sal_df.iloc[0:59]\n",
    "\n",
    "masa_sal_df=masa_sal_df.replace('Total Unidades Productivas', 'MERCADO')\n",
    "\n",
    "masa_sal_df['COMPAÑIA']=masa_sal_df['ART y empleadores autoasegurados']\n",
    "\n",
    "masa_sal_df=masa_sal_df.drop('ART y empleadores autoasegurados',1)\n",
    "\n",
    "masa_sal_df=pd.melt(masa_sal_df, id_vars=['COMPAÑIA'], var_name='Periodo', value_name=\"Masa_Salarial\")"
   ]
  },
  {
   "cell_type": "code",
   "execution_count": 6,
   "metadata": {},
   "outputs": [],
   "source": [
    "# Junto Cuadro 1.1 + Cuadro 1.2 + Cuadro 1.3\n",
    "\n",
    "DF = DF.merge(masa_sal_df, how='inner', on=['COMPAÑIA','Periodo'])"
   ]
  },
  {
   "cell_type": "markdown",
   "metadata": {},
   "source": [
    "Cuadro 1.4: Cuota pactada en pesos ($) según ART"
   ]
  },
  {
   "cell_type": "code",
   "execution_count": 7,
   "metadata": {},
   "outputs": [],
   "source": [
    "cuo_pact_pe_df=pd.read_excel(r'C:\\Users\\eangenello\\Desktop\\TECNICA\\Python\\input\\ART\\Serie_historica_Segun_ART_o_empleador_autoasegurado.xlsx', sheet_name = 'Cuadro 1.4', skiprows= 4, usecols='A:JP')\n",
    "\n",
    "cuo_pact_pe_df=cuo_pact_pe_df.iloc[0:59]\n",
    "\n",
    "cuo_pact_pe_df=cuo_pact_pe_df.replace('Total Unidades Productivas', 'MERCADO')\n",
    "\n",
    "cuo_pact_pe_df['COMPAÑIA']=cuo_pact_pe_df['ART y empleadores autoasegurados']\n",
    "\n",
    "cuo_pact_pe_df=cuo_pact_pe_df.drop('ART y empleadores autoasegurados',1)\n",
    "\n",
    "cuo_pact_pe_df=pd.melt(cuo_pact_pe_df, id_vars=['COMPAÑIA'], var_name='Periodo', value_name=\"Cuota_Pactada_Pesos\")"
   ]
  },
  {
   "cell_type": "code",
   "execution_count": 8,
   "metadata": {},
   "outputs": [],
   "source": [
    "# Junto Cuadro 1.1 + Cuadro 1.2 + Cuadro 1.3 + Cuadro 1.4\n",
    "\n",
    "DF = DF.merge(cuo_pact_pe_df, how='inner', on=['COMPAÑIA','Periodo'])"
   ]
  },
  {
   "cell_type": "markdown",
   "metadata": {},
   "source": [
    "Cuadro 1.5: Cuota recaudada en pesos ($) según ART"
   ]
  },
  {
   "cell_type": "code",
   "execution_count": 9,
   "metadata": {},
   "outputs": [],
   "source": [
    "cuo_rec_pe_df=pd.read_excel(r'C:\\Users\\eangenello\\Desktop\\TECNICA\\Python\\input\\ART\\Serie_historica_Segun_ART_o_empleador_autoasegurado.xlsx', sheet_name = 'Cuadro 1.5', skiprows= 4, usecols='A:JP')\n",
    "\n",
    "cuo_rec_pe_df=cuo_rec_pe_df.iloc[0:59]\n",
    "\n",
    "cuo_rec_pe_df=cuo_rec_pe_df.replace('Total Unidades Productivas', 'MERCADO')\n",
    "\n",
    "cuo_rec_pe_df['COMPAÑIA']=cuo_rec_pe_df['ART y empleadores autoasegurados']\n",
    "\n",
    "cuo_rec_pe_df=cuo_rec_pe_df.drop('ART y empleadores autoasegurados',1)\n",
    "\n",
    "cuo_rec_pe_df=pd.melt(cuo_rec_pe_df, id_vars=['COMPAÑIA'], var_name='Periodo', value_name=\"Cuota_Recaudada_Pesos\")"
   ]
  },
  {
   "cell_type": "code",
   "execution_count": 10,
   "metadata": {},
   "outputs": [],
   "source": [
    "# Junto Cuadro 1.1 + Cuadro 1.2 + Cuadro 1.3 + Cuadro 1.4 + Cuadro 1.5\n",
    "\n",
    "DF = DF.merge(cuo_rec_pe_df, how='inner', on=['COMPAÑIA','Periodo'])"
   ]
  },
  {
   "cell_type": "markdown",
   "metadata": {},
   "source": [
    "Cuadro 1.6: Cuota pactada como porcentaje (%) de la masa salarial según ART"
   ]
  },
  {
   "cell_type": "code",
   "execution_count": 11,
   "metadata": {},
   "outputs": [],
   "source": [
    "cuo_pac_por_df=pd.read_excel(r'C:\\Users\\eangenello\\Desktop\\TECNICA\\Python\\input\\ART\\Serie_historica_Segun_ART_o_empleador_autoasegurado.xlsx', sheet_name = 'Cuadro 1.6', skiprows= 4, usecols='A:JP')\n",
    "\n",
    "cuo_pac_por_df=cuo_pac_por_df.iloc[0:59]\n",
    "\n",
    "cuo_pac_por_df=cuo_pac_por_df.replace('Total Unidades Productivas', 'MERCADO')\n",
    "\n",
    "cuo_pac_por_df['COMPAÑIA']=cuo_pac_por_df['ART y empleadores autoasegurados']\n",
    "\n",
    "cuo_pac_por_df=cuo_pac_por_df.drop('ART y empleadores autoasegurados',1)\n",
    "\n",
    "cuo_pac_por_df=pd.melt(cuo_pac_por_df, id_vars=['COMPAÑIA'], var_name='Periodo', value_name=\"Cuota_Pactada_Porcentaje\")"
   ]
  },
  {
   "cell_type": "markdown",
   "metadata": {},
   "source": [
    "-> Exporto Alícuota pactada sólo MERCADO"
   ]
  },
  {
   "cell_type": "code",
   "execution_count": 12,
   "metadata": {},
   "outputs": [],
   "source": [
    "cuo_ali_MERC=cuo_pac_por_df[cuo_pac_por_df.COMPAÑIA=='MERCADO']\n",
    "\n",
    "cuo_ali_MERC.to_excel(r'C:\\Users\\eangenello\\Desktop\\TECNICA\\Python\\output\\Dt_SART_merc.xlsx', sheet_name='Dt_SRT_merc', index = False)"
   ]
  },
  {
   "cell_type": "code",
   "execution_count": 13,
   "metadata": {},
   "outputs": [],
   "source": [
    "# Junto Cuadro 1.1 + Cuadro 1.2 + Cuadro 1.3 + Cuadro 1.4 + Cuadro 1.5 + Cuadro 1.6\n",
    "\n",
    "DF = DF.merge(cuo_pac_por_df, how='inner', on=['COMPAÑIA','Periodo'])"
   ]
  },
  {
   "cell_type": "markdown",
   "metadata": {},
   "source": [
    "Cuadro 1.7: Cuota pactada en pesos ($) por trabajador según ART"
   ]
  },
  {
   "cell_type": "code",
   "execution_count": 14,
   "metadata": {},
   "outputs": [],
   "source": [
    "# Importo Cuadro 1.7: Cuota pactada en pesos ($) por trabajador según ART\n",
    "\n",
    "cuo_pac_pr_trab_df=pd.read_excel(r'C:\\Users\\eangenello\\Desktop\\TECNICA\\Python\\input\\ART\\Serie_historica_Segun_ART_o_empleador_autoasegurado.xlsx', sheet_name = 'Cuadro 1.7', skiprows= 4, usecols='A:JP')\n",
    "\n",
    "cuo_pac_pr_trab_df=cuo_pac_pr_trab_df.iloc[0:59]\n",
    "\n",
    "cuo_pac_pr_trab_df=cuo_pac_pr_trab_df.replace('Total Unidades Productivas', 'MERCADO')\n",
    "\n",
    "cuo_pac_pr_trab_df['COMPAÑIA']=cuo_pac_pr_trab_df['ART y empleadores autoasegurados']\n",
    "\n",
    "cuo_pac_pr_trab_df=cuo_pac_pr_trab_df.drop('ART y empleadores autoasegurados',1)\n",
    "\n",
    "cuo_pac_pr_trab_df=pd.melt(cuo_pac_pr_trab_df, id_vars=['COMPAÑIA'], var_name='Periodo', value_name=\"Cuota_Pactada_Pesos_por_Trabajador\")"
   ]
  },
  {
   "cell_type": "code",
   "execution_count": 15,
   "metadata": {},
   "outputs": [],
   "source": [
    "# Junto Cuadro 1.1 + Cuadro 1.2 + Cuadro 1.3 + Cuadro 1.4 + Cuadro 1.5 + Cuadro 1.6 + Cuadro 1.7\n",
    "\n",
    "DF = DF.merge(cuo_pac_pr_trab_df, how='inner', on=['COMPAÑIA','Periodo'])"
   ]
  },
  {
   "cell_type": "code",
   "execution_count": 16,
   "metadata": {},
   "outputs": [],
   "source": [
    "# Creo Variable año y filtro desde 2012 en adelante\n",
    "\n",
    "DF['year'] = pd.DatetimeIndex(DF['Periodo']).year\n",
    "\n",
    "DF_filtro_años = DF.drop(DF[DF.year < 2012].index)\n",
    "\n",
    "DF_exportar = DF_filtro_años.drop('year', 1)"
   ]
  },
  {
   "cell_type": "code",
   "execution_count": 17,
   "metadata": {},
   "outputs": [],
   "source": [
    "#DF_exportar.to_excel(r'C:\\Users\\eangenello\\Desktop\\Dt_SART_merc.xlsx', sheet_name='Dt_SRT_merc', index = False)"
   ]
  },
  {
   "cell_type": "code",
   "execution_count": 18,
   "metadata": {},
   "outputs": [],
   "source": [
    "# Importo dataset de compañías para quedarme solo con las compañías activas y tener el cod_cia\n",
    "\n",
    "Dataset_compañías=pd.read_excel(r'C:\\Users\\eangenello\\Desktop\\TECNICA\\Python\\input\\ART\\Dataset_Compañías.xlsx', sheet_name='SRT')\n",
    "\n",
    "DF_exportar=DF_exportar.merge(Dataset_compañías, how='inner', left_on='COMPAÑIA', right_on= 'des_cia_SART')\n",
    "\n",
    "DF_exportar=DF_exportar.drop({'COMPAÑIA','des_cia_SART'},1)"
   ]
  },
  {
   "cell_type": "code",
   "execution_count": 19,
   "metadata": {},
   "outputs": [],
   "source": [
    "# Ordeno por período\n",
    "\n",
    "DF_exportar=DF_exportar.sort_values('Periodo', ascending=True)\n",
    "\n",
    "DF_exportar['Fecha']=DF_exportar['Periodo']\n"
   ]
  },
  {
   "cell_type": "code",
   "execution_count": 20,
   "metadata": {},
   "outputs": [],
   "source": [
    "DF_exportar['year'] = pd.DatetimeIndex(DF_exportar['Fecha']).year\n",
    "\n",
    "DF_exportar['month'] = pd.DatetimeIndex(DF_exportar['Fecha']).month\n",
    "\n",
    "DF_exportar['Periodo'] = DF_exportar.year.astype(str).str.cat(DF_exportar.month.astype(str), sep='-')\n",
    "\n",
    "DF_exportar=DF_exportar.drop(['year','month'],1)"
   ]
  },
  {
   "cell_type": "code",
   "execution_count": 21,
   "metadata": {},
   "outputs": [],
   "source": [
    "# Reemplazo los valores 'n/c' por cero\n",
    "\n",
    "DF_exportar=DF_exportar.replace('n/c',0)"
   ]
  },
  {
   "cell_type": "code",
   "execution_count": 22,
   "metadata": {},
   "outputs": [
    {
     "data": {
      "text/plain": [
       "['Periodo',\n",
       " 'Trabajadores_Cubiertos',\n",
       " 'Empleadores_Asegurados',\n",
       " 'Masa_Salarial',\n",
       " 'Cuota_Pactada_Pesos',\n",
       " 'Cuota_Recaudada_Pesos',\n",
       " 'Cuota_Pactada_Porcentaje',\n",
       " 'Cuota_Pactada_Pesos_por_Trabajador',\n",
       " 'cod_cia',\n",
       " 'denominacion_corta',\n",
       " 'Fecha']"
      ]
     },
     "execution_count": 22,
     "metadata": {},
     "output_type": "execute_result"
    }
   ],
   "source": [
    "# Listo las etiquetas de las columnas\n",
    "\n",
    "cols = list(DF_exportar.columns.values)\n",
    "cols"
   ]
  },
  {
   "cell_type": "code",
   "execution_count": 23,
   "metadata": {},
   "outputs": [],
   "source": [
    "# Reordeno las columnas\n",
    "\n",
    "reord= ['cod_cia','denominacion_corta','Periodo','Fecha','Trabajadores_Cubiertos','Empleadores_Asegurados','Masa_Salarial',\n",
    "        'Cuota_Pactada_Pesos','Cuota_Recaudada_Pesos','Cuota_Pactada_Porcentaje','Cuota_Pactada_Pesos_por_Trabajador']\n",
    "\n",
    "DF_exportar=DF_exportar[reord]"
   ]
  },
  {
   "cell_type": "code",
   "execution_count": 24,
   "metadata": {},
   "outputs": [],
   "source": [
    "# EXPORTO\n",
    "\n",
    "DF_exportar.to_excel(r'C:\\Users\\eangenello\\Desktop\\TECNICA\\Python\\output\\Dt_SART.xlsx', sheet_name='Dt_SRT', index = False)"
   ]
  },
  {
   "cell_type": "markdown",
   "metadata": {},
   "source": [
    "#### Alícuota Pactada por Sector Económico"
   ]
  },
  {
   "cell_type": "code",
   "execution_count": 25,
   "metadata": {},
   "outputs": [],
   "source": [
    "alic_sect_df=pd.read_excel(r'C:\\Users\\eangenello\\Desktop\\TECNICA\\Python\\input\\ART\\Serie_historica_Segun_Sector_de_actividad_economica.xlsx', sheet_name = 'Cuadro 2.6', skiprows= 4, usecols='A:JP')\n",
    "\n",
    "alic_sect_df=alic_sect_df.iloc[0:11]\n",
    "\n",
    "alic_sect_df=alic_sect_df.replace('Total Unidades Productivas', 'MERCADO')\n",
    "\n",
    "alic_sect_df=pd.melt(alic_sect_df, id_vars=['Sector económico'], var_name='Periodo', value_name=\"Alícuota Pactada\")"
   ]
  },
  {
   "cell_type": "code",
   "execution_count": 26,
   "metadata": {},
   "outputs": [],
   "source": [
    "# EXPORTO\n",
    "\n",
    "alic_sect_df.to_excel(r'C:\\Users\\eangenello\\Desktop\\TECNICA\\Python\\output\\Dt_SART_alic_sect_df.xlsx', sheet_name='Dt_SART_alic_sect_df', index = False)"
   ]
  }
 ],
 "metadata": {
  "kernelspec": {
   "display_name": "Python 3",
   "language": "python",
   "name": "python3"
  },
  "language_info": {
   "codemirror_mode": {
    "name": "ipython",
    "version": 3
   },
   "file_extension": ".py",
   "mimetype": "text/x-python",
   "name": "python",
   "nbconvert_exporter": "python",
   "pygments_lexer": "ipython3",
   "version": "3.8.3"
  }
 },
 "nbformat": 4,
 "nbformat_minor": 2
}
