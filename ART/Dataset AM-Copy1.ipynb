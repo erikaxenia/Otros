{
 "cells": [
  {
   "cell_type": "markdown",
   "metadata": {},
   "source": [
    "### Dataset Anexos Mágicos"
   ]
  },
  {
   "cell_type": "code",
   "execution_count": 1,
   "metadata": {
    "collapsed": true
   },
   "outputs": [],
   "source": [
    "import numpy as np\n",
    "import scipy as sp\n",
    "import pandas as pd\n",
    "import matplotlib.pyplot as plt\n",
    "import seaborn as sns\n",
    "\n",
    "%matplotlib inline"
   ]
  },
  {
   "cell_type": "code",
   "execution_count": 2,
   "metadata": {
    "collapsed": true
   },
   "outputs": [],
   "source": [
    "#Levanto tabla de ramos\n",
    "\n",
    "ramos_df=pd.read_excel(r'C:\\Users\\eangenello\\Desktop\\PYTHON\\input\\ART\\Dataset_AM\\tabla_ramos.xlsx', index_col = 'cod_subramo')"
   ]
  },
  {
   "cell_type": "code",
   "execution_count": 3,
   "metadata": {},
   "outputs": [
    {
     "data": {
      "text/html": [
       "<div>\n",
       "<style scoped>\n",
       "    .dataframe tbody tr th:only-of-type {\n",
       "        vertical-align: middle;\n",
       "    }\n",
       "\n",
       "    .dataframe tbody tr th {\n",
       "        vertical-align: top;\n",
       "    }\n",
       "\n",
       "    .dataframe thead th {\n",
       "        text-align: right;\n",
       "    }\n",
       "</style>\n",
       "<table border=\"1\" class=\"dataframe\">\n",
       "  <thead>\n",
       "    <tr style=\"text-align: right;\">\n",
       "      <th></th>\n",
       "      <th>cod_ramo</th>\n",
       "      <th>des_ramo</th>\n",
       "      <th>des_subramo</th>\n",
       "    </tr>\n",
       "    <tr>\n",
       "      <th>cod_subramo</th>\n",
       "      <th></th>\n",
       "      <th></th>\n",
       "      <th></th>\n",
       "    </tr>\n",
       "  </thead>\n",
       "  <tbody>\n",
       "    <tr>\n",
       "      <th>1.010.99</th>\n",
       "      <td>1.010.00</td>\n",
       "      <td>Incendio</td>\n",
       "      <td>Incendio - Incendio</td>\n",
       "    </tr>\n",
       "    <tr>\n",
       "      <th>1.020.01</th>\n",
       "      <td>1.020.00</td>\n",
       "      <td>Combinado Familiar e Integral</td>\n",
       "      <td>Comb. Fam. e Int. - Comb. Fam.</td>\n",
       "    </tr>\n",
       "  </tbody>\n",
       "</table>\n",
       "</div>"
      ],
      "text/plain": [
       "             cod_ramo                       des_ramo  \\\n",
       "cod_subramo                                            \n",
       "1.010.99     1.010.00                       Incendio   \n",
       "1.020.01     1.020.00  Combinado Familiar e Integral   \n",
       "\n",
       "                                des_subramo  \n",
       "cod_subramo                                  \n",
       "1.010.99                Incendio - Incendio  \n",
       "1.020.01     Comb. Fam. e Int. - Comb. Fam.  "
      ]
     },
     "execution_count": 3,
     "metadata": {},
     "output_type": "execute_result"
    }
   ],
   "source": [
    "ramos_df.head(2)"
   ]
  },
  {
   "cell_type": "markdown",
   "metadata": {},
   "source": [
    "ANEXO 12"
   ]
  },
  {
   "cell_type": "code",
   "execution_count": 4,
   "metadata": {
    "collapsed": true
   },
   "outputs": [],
   "source": [
    "# Anexo 12 Primas - el primer trimestre tiene que ser 3\n",
    "\n",
    "anexo12_df=pd.read_excel(r'C:\\Users\\eangenello\\Desktop\\PYTHON\\input\\ART\\Dataset_AM\\ANEXO_12.xlsx')\n",
    "\n",
    "dataset_missing=pd.read_excel(r'C:\\Users\\eangenello\\Desktop\\PYTHON\\input\\ART\\Dataset_AM\\Missing_AM.xlsx', sheet_name='ANEXO_12')\n",
    "\n",
    "anexo12_df=anexo12_df.append(dataset_missing)\n",
    "\n",
    "anexo12_df.cod_cia=anexo12_df.cod_cia.astype('O')\n",
    "\n",
    "anexo12_df=anexo12_df[(anexo12_df.cod_subramo=='1.050.01')|(anexo12_df.cod_subramo=='1.050.99')]"
   ]
  },
  {
   "cell_type": "code",
   "execution_count": 5,
   "metadata": {},
   "outputs": [
    {
     "data": {
      "text/html": [
       "<div>\n",
       "<style scoped>\n",
       "    .dataframe tbody tr th:only-of-type {\n",
       "        vertical-align: middle;\n",
       "    }\n",
       "\n",
       "    .dataframe tbody tr th {\n",
       "        vertical-align: top;\n",
       "    }\n",
       "\n",
       "    .dataframe thead th {\n",
       "        text-align: right;\n",
       "    }\n",
       "</style>\n",
       "<table border=\"1\" class=\"dataframe\">\n",
       "  <thead>\n",
       "    <tr style=\"text-align: right;\">\n",
       "      <th></th>\n",
       "      <th>cod_cia</th>\n",
       "      <th>des_cia</th>\n",
       "      <th>año</th>\n",
       "      <th>cod_subramo</th>\n",
       "      <th>Primas_Emitidas</th>\n",
       "      <th>Primas_Cedidas_Reaseguro</th>\n",
       "      <th>Compromisos_Tecnicos_del_Ej_Total</th>\n",
       "      <th>Compromisos_Tecnicos_del_Ej_AC_Reaseg</th>\n",
       "      <th>Compromisos_Tecnicos_del_Ej_AC_Asegurad</th>\n",
       "      <th>Compromisos_Tecnicos_del_Ej_Ant_Total</th>\n",
       "      <th>Compromisos_Tecnicos_del_Ej_Ant_AC_Reaseg</th>\n",
       "      <th>Compromisos_Tecnicos_del_Ej_Ant_AC_Asegurad</th>\n",
       "      <th>Primas_Devengadas_SD</th>\n",
       "      <th>Primas_Reaseguros_Activos</th>\n",
       "      <th>Primas_Cedidas_a_Retrocesion</th>\n",
       "      <th>Compromisos_Tecnicos_del_Ej</th>\n",
       "      <th>Compromisos_Tecnicos_del_Ej_Ant</th>\n",
       "      <th>Primas_Devengadas_RA</th>\n",
       "      <th>Primas_Devengadas_Total</th>\n",
       "    </tr>\n",
       "  </thead>\n",
       "  <tbody>\n",
       "    <tr>\n",
       "      <th>193</th>\n",
       "      <td>32</td>\n",
       "      <td>BOSTON COMPAÑÍA ARGENTINA DE SEGUROS SOCIEDAD ...</td>\n",
       "      <td>2008-3</td>\n",
       "      <td>1.050.01</td>\n",
       "      <td>0</td>\n",
       "      <td>0</td>\n",
       "      <td>0</td>\n",
       "      <td>0</td>\n",
       "      <td>0</td>\n",
       "      <td>0</td>\n",
       "      <td>0</td>\n",
       "      <td>0</td>\n",
       "      <td>0</td>\n",
       "      <td>0</td>\n",
       "      <td>0</td>\n",
       "      <td>0</td>\n",
       "      <td>0</td>\n",
       "      <td>0</td>\n",
       "      <td>0</td>\n",
       "    </tr>\n",
       "  </tbody>\n",
       "</table>\n",
       "</div>"
      ],
      "text/plain": [
       "    cod_cia                                            des_cia     año  \\\n",
       "193      32  BOSTON COMPAÑÍA ARGENTINA DE SEGUROS SOCIEDAD ...  2008-3   \n",
       "\n",
       "    cod_subramo  Primas_Emitidas  Primas_Cedidas_Reaseguro  \\\n",
       "193    1.050.01                0                         0   \n",
       "\n",
       "     Compromisos_Tecnicos_del_Ej_Total  Compromisos_Tecnicos_del_Ej_AC_Reaseg  \\\n",
       "193                                  0                                      0   \n",
       "\n",
       "     Compromisos_Tecnicos_del_Ej_AC_Asegurad  \\\n",
       "193                                        0   \n",
       "\n",
       "     Compromisos_Tecnicos_del_Ej_Ant_Total  \\\n",
       "193                                      0   \n",
       "\n",
       "     Compromisos_Tecnicos_del_Ej_Ant_AC_Reaseg  \\\n",
       "193                                          0   \n",
       "\n",
       "     Compromisos_Tecnicos_del_Ej_Ant_AC_Asegurad  Primas_Devengadas_SD  \\\n",
       "193                                            0                     0   \n",
       "\n",
       "     Primas_Reaseguros_Activos  Primas_Cedidas_a_Retrocesion  \\\n",
       "193                          0                             0   \n",
       "\n",
       "     Compromisos_Tecnicos_del_Ej  Compromisos_Tecnicos_del_Ej_Ant  \\\n",
       "193                            0                                0   \n",
       "\n",
       "     Primas_Devengadas_RA  Primas_Devengadas_Total  \n",
       "193                     0                        0  "
      ]
     },
     "execution_count": 5,
     "metadata": {},
     "output_type": "execute_result"
    }
   ],
   "source": [
    "anexo12_df.head(1)"
   ]
  },
  {
   "cell_type": "code",
   "execution_count": 6,
   "metadata": {
    "collapsed": true
   },
   "outputs": [],
   "source": [
    "# Crea la columna Ramo y la completa buscando la información de la tabla de ramos\n",
    "\n",
    "anexo12_ramo=anexo12_df\n",
    "\n",
    "anexo12_ramo['ramo']=[ramos_df.loc[anexo12_df.cod_subramo[i],'des_ramo'] for i in anexo12_df.index]"
   ]
  },
  {
   "cell_type": "code",
   "execution_count": 7,
   "metadata": {
    "collapsed": true
   },
   "outputs": [],
   "source": [
    "# Crea una tabla del tipo \"tabla dinámica de excel\"\n",
    "# Agrupa filas: por ID y ramo, columnas: año (año=aaaa-t) y suma las primas emitidas\n",
    "\n",
    "anexo12_pivot=anexo12_ramo.pivot_table(index=['cod_cia','ramo'], values=['Primas_Emitidas'], columns=['año'], aggfunc=np.sum)"
   ]
  },
  {
   "cell_type": "code",
   "execution_count": 8,
   "metadata": {
    "collapsed": true
   },
   "outputs": [],
   "source": [
    "# Reemplaza los missing por nulos\n",
    "\n",
    "anexo12_pivot=anexo12_pivot.replace(to_replace=np.nan, value=0)"
   ]
  },
  {
   "cell_type": "code",
   "execution_count": 9,
   "metadata": {
    "collapsed": true
   },
   "outputs": [],
   "source": [
    "#Creación base trimestral desacumulada\n",
    "\n",
    "# Creo el esqueleto donde después va a incluir la información con un bucle. Lo que le estoy pidiendo es que utilice como esqueleto\n",
    "# la misma estructura que tengo hasta ahora en 'anexo12_pivot' y que le modifique el nombre de las columnas a partir de 'multi_index'\n",
    "\n",
    "\n",
    "multi_index=pd.MultiIndex(levels=[list(anexo12_pivot.columns.levels[0]), list(anexo12_pivot.columns.levels[1])],\n",
    "                                    labels=list(anexo12_pivot.columns.labels),\n",
    "                                    names=['variable', 'año'])\n",
    "\n",
    "\n",
    "anexo12_trim=pd.DataFrame(index=anexo12_pivot.index , columns=multi_index)\n"
   ]
  },
  {
   "cell_type": "code",
   "execution_count": 10,
   "metadata": {
    "collapsed": true
   },
   "outputs": [],
   "source": [
    "# Defino la función que voy a utilizar para hacer el cálculo\n",
    "\n",
    "# La función indica que si el período de análidis es 3, entonces que retorne el mismo monto de prima emitida. \n",
    "# Sino que al valor del período actual le reste el período anterior.\n",
    "\n",
    "def trim(row,col,año):\n",
    "    if anexo12_trim.loc[anexo12_trim.iloc[row].name[0]][col][año].name.split('-')[1]=='3':\n",
    "        \n",
    "        return anexo12_pivot.loc[anexo12_trim.iloc[row].name[0],anexo12_trim.iloc[row].name[1]][col][año]\n",
    "    \n",
    "    else:\n",
    "        \n",
    "        return anexo12_pivot.loc[anexo12_trim.iloc[row].name[0],anexo12_trim.iloc[row].name[1]][col][año]-anexo12_pivot.loc[anexo12_trim.iloc[row].name[0],anexo12_trim.iloc[row].name[1]][col][anexo12_trim.columns.levels[1][list(anexo12_trim.columns.levels[1]).index(año)-1]]\n",
    "            "
   ]
  },
  {
   "cell_type": "code",
   "execution_count": 11,
   "metadata": {
    "collapsed": true
   },
   "outputs": [],
   "source": [
    "# Defino el bucle for al que voy a aplicar la función\n",
    "\n",
    "variables=['Primas_Emitidas']\n",
    "\n",
    "for j in range(len(anexo12_trim.index)):\n",
    "    for col in variables:\n",
    "        for año in list(anexo12_trim.columns.levels[1]):\n",
    "            anexo12_trim.iloc[j][col][año]=trim(j,col,año)"
   ]
  },
  {
   "cell_type": "code",
   "execution_count": 12,
   "metadata": {
    "collapsed": true
   },
   "outputs": [],
   "source": [
    "anexo12_trim['cod_cia']=[anexo12_trim.iloc[i].name[0] for i in range(len(anexo12_trim.index))]\n",
    "anexo12_trim['ramo']=[anexo12_trim.iloc[i].name[1] for i in range(len(anexo12_trim.index))]"
   ]
  },
  {
   "cell_type": "code",
   "execution_count": 13,
   "metadata": {
    "collapsed": true
   },
   "outputs": [],
   "source": [
    "# Obtengo el dataset con Ramo, Año y Prima Emitida Desagragada\n",
    "\n",
    "anexo12_trim_melt=anexo12_trim.melt(id_vars=['cod_cia','ramo'])\n",
    "\n",
    "anexo12_trim_melt=anexo12_trim_melt.drop({'variable','ramo'}, 1)\n",
    "\n",
    "anexo12_trim_melt=anexo12_trim_melt.rename(columns = {'value':'Primas_Emitidas_Desagregadas'})\n"
   ]
  },
  {
   "cell_type": "code",
   "execution_count": 14,
   "metadata": {
    "collapsed": true
   },
   "outputs": [],
   "source": [
    "# Agrupo el Anexo 12 por año y compañía\n",
    "\n",
    "anexo12_df_agrup=anexo12_df.groupby(['cod_cia','año'], as_index=False)[\"Primas_Emitidas\",\"Primas_Devengadas_Total\"].sum()"
   ]
  },
  {
   "cell_type": "code",
   "execution_count": 15,
   "metadata": {
    "collapsed": true
   },
   "outputs": [],
   "source": [
    "# Junto ambos datasets: Prima emitida desagregada con Prima Emitida\n",
    "\n",
    "Dataset_AM=anexo12_trim_melt.merge(anexo12_df_agrup, how='outer', on=['cod_cia','año'])"
   ]
  },
  {
   "cell_type": "markdown",
   "metadata": {},
   "source": [
    "ANEXO 8"
   ]
  },
  {
   "cell_type": "code",
   "execution_count": 16,
   "metadata": {},
   "outputs": [
    {
     "name": "stderr",
     "output_type": "stream",
     "text": [
      "C:\\Users\\eangenello\\AppData\\Local\\Continuum\\anaconda3\\lib\\site-packages\\pandas\\core\\frame.py:6211: FutureWarning: Sorting because non-concatenation axis is not aligned. A future version\n",
      "of pandas will change to not sort by default.\n",
      "\n",
      "To accept the future behavior, pass 'sort=False'.\n",
      "\n",
      "To retain the current behavior and silence the warning, pass 'sort=True'.\n",
      "\n",
      "  sort=sort)\n"
     ]
    }
   ],
   "source": [
    "anexo8_df=pd.read_excel(r'C:\\Users\\eangenello\\Desktop\\TECNICA\\Python\\input\\ART\\Dataset_AM\\ANEXO_8.xlsx', usecols= \"A:L,N,O,AB\")\n",
    "\n",
    "dataset_missing=pd.read_excel(r'C:\\Users\\eangenello\\Desktop\\TECNICA\\Python\\input\\ART\\Dataset_AM\\Missing_AM.xlsx', sheet_name='ANEXO_8')\n",
    "\n",
    "anexo8_df=anexo8_df.append(dataset_missing)\n",
    "\n",
    "anexo8_df=anexo8_df[(anexo8_df.cod_subramo=='1.050.01')|(anexo8_df.cod_subramo=='1.050.99')]\n",
    "\n",
    "anexo8_df_agrup=anexo8_df.groupby(['cod_cia','año'], as_index=False)['RSP_Administrativos','RSP_Juicios','RSP_Mediaciones','IBNR','IBNER','Acreed_por_Premios_a_Devol','ILT_a_Pagar','Prest_en_Espec_a_pagar','Siniestros_Liquidados_a_Pagar','Siniestros_en_Proceso_de_Liquidacion','Deudas_con_Asegurados'].sum()"
   ]
  },
  {
   "cell_type": "code",
   "execution_count": null,
   "metadata": {
    "collapsed": true
   },
   "outputs": [],
   "source": []
  },
  {
   "cell_type": "code",
   "execution_count": 17,
   "metadata": {
    "collapsed": true
   },
   "outputs": [],
   "source": [
    "# Junto datasets: Anexo 12 + Anexo 8\n",
    "\n",
    "Dataset_AM=Dataset_AM.merge(anexo8_df_agrup, how='outer', on=['cod_cia','año'])"
   ]
  },
  {
   "cell_type": "markdown",
   "metadata": {},
   "source": [
    "ANEXO 11"
   ]
  },
  {
   "cell_type": "code",
   "execution_count": 18,
   "metadata": {},
   "outputs": [
    {
     "name": "stderr",
     "output_type": "stream",
     "text": [
      "C:\\Users\\eangenello\\AppData\\Local\\Continuum\\anaconda3\\lib\\site-packages\\pandas\\core\\frame.py:6211: FutureWarning: Sorting because non-concatenation axis is not aligned. A future version\n",
      "of pandas will change to not sort by default.\n",
      "\n",
      "To accept the future behavior, pass 'sort=False'.\n",
      "\n",
      "To retain the current behavior and silence the warning, pass 'sort=True'.\n",
      "\n",
      "  sort=sort)\n"
     ]
    }
   ],
   "source": [
    "anexo11_df=pd.read_excel(r'C:\\Users\\eangenello\\Desktop\\TECNICA\\Python\\input\\ART\\Dataset_AM\\ANEXO_11.xlsx', usecols='A:D,J,K,AD')\n",
    "\n",
    "dataset_missing=pd.read_excel(r'C:\\Users\\eangenello\\Desktop\\TECNICA\\Python\\input\\ART\\Dataset_AM\\Missing_AM.xlsx', sheet_name='ANEXO_11')\n",
    "\n",
    "anexo11_df=anexo11_df.append(dataset_missing)\n",
    "\n",
    "anexo11_df=anexo11_df[(anexo11_df.cod_subramo=='1.050.01')|(anexo11_df.cod_subramo=='1.050.99')]\n",
    "\n",
    "anexo11_df_agrup=anexo11_df.groupby(['cod_cia','año'], as_index=False)['Conting_y_Desvios_de_Siniestralidad_ART','Por_Resultado_Negativo_ART','Compromisos_Tecnicos'].sum()"
   ]
  },
  {
   "cell_type": "code",
   "execution_count": 19,
   "metadata": {
    "collapsed": true
   },
   "outputs": [],
   "source": [
    "# Junto datasets: Anexo 12 + Anexo 8 + Anexo 11\n",
    "\n",
    "Dataset_AM=Dataset_AM.merge(anexo11_df_agrup, how='outer', on=['cod_cia','año'])"
   ]
  },
  {
   "cell_type": "markdown",
   "metadata": {},
   "source": [
    "ANEXO 14"
   ]
  },
  {
   "cell_type": "code",
   "execution_count": 20,
   "metadata": {},
   "outputs": [
    {
     "name": "stderr",
     "output_type": "stream",
     "text": [
      "C:\\Users\\eangenello\\AppData\\Local\\Continuum\\anaconda3\\lib\\site-packages\\pandas\\core\\frame.py:6211: FutureWarning: Sorting because non-concatenation axis is not aligned. A future version\n",
      "of pandas will change to not sort by default.\n",
      "\n",
      "To accept the future behavior, pass 'sort=False'.\n",
      "\n",
      "To retain the current behavior and silence the warning, pass 'sort=True'.\n",
      "\n",
      "  sort=sort)\n"
     ]
    }
   ],
   "source": [
    "# Importo y preparo Anexo 14\n",
    "\n",
    "anexo14_df=pd.read_excel(r'C:\\Users\\eangenello\\Desktop\\TECNICA\\Python\\input\\ART\\Dataset_AM\\ANEXO_14.xlsx', usecols='A:E,G,N')\n",
    "\n",
    "dataset_missing=pd.read_excel(r'C:\\Users\\eangenello\\Desktop\\TECNICA\\Python\\input\\ART\\Dataset_AM\\Missing_AM.xlsx', sheet_name='ANEXO_14')\n",
    "\n",
    "anexo14_df=anexo14_df.append(dataset_missing)\n",
    "\n",
    "anexo14_df=anexo14_df[(anexo14_df.cod_subramo=='1.050.01')|(anexo14_df.cod_subramo=='1.050.99')]\n",
    "\n",
    "anexo14_df_agrup=anexo14_df.groupby(['cod_cia','año'], as_index=False)['Comisiones','Sub_Total_GP','Sub_total_GE'].sum()"
   ]
  },
  {
   "cell_type": "code",
   "execution_count": 21,
   "metadata": {
    "collapsed": true
   },
   "outputs": [],
   "source": [
    "# Junto datasets: Anexo 12 + Anexo 8 + Anexo 11 + Anexo 14\n",
    "\n",
    "Dataset_AM=Dataset_AM.merge(anexo14_df_agrup, how='outer', on=['cod_cia','año'])"
   ]
  },
  {
   "cell_type": "markdown",
   "metadata": {},
   "source": [
    "BALANCE_2"
   ]
  },
  {
   "cell_type": "code",
   "execution_count": 22,
   "metadata": {},
   "outputs": [
    {
     "name": "stderr",
     "output_type": "stream",
     "text": [
      "C:\\Users\\eangenello\\AppData\\Local\\Continuum\\anaconda3\\lib\\site-packages\\ipykernel_launcher.py:13: SettingWithCopyWarning: \n",
      "A value is trying to be set on a copy of a slice from a DataFrame.\n",
      "Try using .loc[row_indexer,col_indexer] = value instead\n",
      "\n",
      "See the caveats in the documentation: http://pandas.pydata.org/pandas-docs/stable/indexing.html#indexing-view-versus-copy\n",
      "  del sys.path[0]\n",
      "C:\\Users\\eangenello\\AppData\\Local\\Continuum\\anaconda3\\lib\\site-packages\\ipykernel_launcher.py:17: SettingWithCopyWarning: \n",
      "A value is trying to be set on a copy of a slice from a DataFrame.\n",
      "Try using .loc[row_indexer,col_indexer] = value instead\n",
      "\n",
      "See the caveats in the documentation: http://pandas.pydata.org/pandas-docs/stable/indexing.html#indexing-view-versus-copy\n"
     ]
    }
   ],
   "source": [
    "# Importo y preparo Siniestros en Juicio y Pendiente de Liquidación de BALANCE_2\n",
    "\n",
    "balances2_df=pd.read_excel(r'C:\\Users\\eangenello\\Desktop\\TECNICA\\Python\\input\\ART\\Dataset_AM\\BALANCES_2.xlsx', usecols='A:F')\n",
    "dataset_missing=pd.read_excel(r'C:\\Users\\eangenello\\Desktop\\TECNICA\\Python\\input\\ART\\Dataset_AM\\Missing_AM.xlsx', sheet_name='BALANCES_2')\n",
    "balances2_df=balances2_df.append(dataset_missing)\n",
    "\n",
    "#Filtro subramo y codigo de cuenta\n",
    "balances2_df=balances2_df[(balances2_df.cod_subramo=='1.050.01')|(balances2_df.cod_subramo=='1.050.99')]\n",
    "balances2A_df=balances2_df[balances2_df.cod_cuenta=='2.01.01.01.01.18.01.00']\n",
    "balances2B_df=balances2_df[balances2_df.cod_cuenta=='2.01.01.01.01.18.02.00']\n",
    "\n",
    "# Siniestros ART - En mediación\n",
    "balances2A_df['Siniestros ART - En mediación']=balances2A_df['importe']\n",
    "balances2A_df=balances2A_df.drop(['cod_cuenta', 'importe'],1)\n",
    "\n",
    "# Siniestros ART - En juicio\n",
    "balances2B_df['Siniestros ART - En juicio']=balances2B_df['importe']\n",
    "balances2B_df=balances2B_df.drop(['cod_cuenta', 'importe'],1)\n",
    "\n",
    "# Junto ambas variables y agrupo\n",
    "BALANCES_2_df=balances2A_df.merge(balances2B_df, how='outer', on=['cod_cia','des_cia','año','cod_subramo'])\n",
    "BALANCES_2_df_agrup=BALANCES_2_df.groupby(['cod_cia','año'], as_index=False)['Siniestros ART - En mediación','Siniestros ART - En juicio'].sum()"
   ]
  },
  {
   "cell_type": "code",
   "execution_count": 23,
   "metadata": {
    "collapsed": true
   },
   "outputs": [],
   "source": [
    "# Junto datasets: Anexo 12 + Anexo 8 + Anexo 11 + Anexo 14 + BALANCES_2\n",
    "\n",
    "Dataset_AM=Dataset_AM.merge(BALANCES_2_df_agrup, how='outer', on=['cod_cia','año'])"
   ]
  },
  {
   "cell_type": "code",
   "execution_count": 24,
   "metadata": {
    "collapsed": true
   },
   "outputs": [],
   "source": [
    "#Filtro por 2012 en adelante y renombro la columna 'año' por 'periodo'\n",
    "\n",
    "Dataset_AM['year'] = pd.DatetimeIndex(Dataset_AM['año']).year\n",
    "Dataset_AM= Dataset_AM.drop(Dataset_AM[Dataset_AM.year < 2012].index)\n"
   ]
  },
  {
   "cell_type": "code",
   "execution_count": 25,
   "metadata": {
    "collapsed": true
   },
   "outputs": [],
   "source": [
    "    # Creo variables para contruir 'Año-Mes'\n",
    "\n",
    "Dataset_AM['quarter'] = pd.DatetimeIndex(Dataset_AM['año']).month\n",
    "\n",
    "Dataset_AM['month']=Dataset_AM['quarter']"
   ]
  },
  {
   "cell_type": "code",
   "execution_count": 26,
   "metadata": {},
   "outputs": [
    {
     "name": "stderr",
     "output_type": "stream",
     "text": [
      "C:\\Users\\eangenello\\AppData\\Local\\Continuum\\anaconda3\\lib\\site-packages\\ipykernel_launcher.py:5: SettingWithCopyWarning: \n",
      "A value is trying to be set on a copy of a slice from a DataFrame\n",
      "\n",
      "See the caveats in the documentation: http://pandas.pydata.org/pandas-docs/stable/indexing.html#indexing-view-versus-copy\n",
      "  \"\"\"\n",
      "C:\\Users\\eangenello\\AppData\\Local\\Continuum\\anaconda3\\lib\\site-packages\\ipykernel_launcher.py:7: SettingWithCopyWarning: \n",
      "A value is trying to be set on a copy of a slice from a DataFrame\n",
      "\n",
      "See the caveats in the documentation: http://pandas.pydata.org/pandas-docs/stable/indexing.html#indexing-view-versus-copy\n",
      "  import sys\n",
      "C:\\Users\\eangenello\\AppData\\Local\\Continuum\\anaconda3\\lib\\site-packages\\ipykernel_launcher.py:9: SettingWithCopyWarning: \n",
      "A value is trying to be set on a copy of a slice from a DataFrame\n",
      "\n",
      "See the caveats in the documentation: http://pandas.pydata.org/pandas-docs/stable/indexing.html#indexing-view-versus-copy\n",
      "  if __name__ == '__main__':\n",
      "C:\\Users\\eangenello\\AppData\\Local\\Continuum\\anaconda3\\lib\\site-packages\\ipykernel_launcher.py:11: SettingWithCopyWarning: \n",
      "A value is trying to be set on a copy of a slice from a DataFrame\n",
      "\n",
      "See the caveats in the documentation: http://pandas.pydata.org/pandas-docs/stable/indexing.html#indexing-view-versus-copy\n",
      "  # This is added back by InteractiveShellApp.init_path()\n"
     ]
    }
   ],
   "source": [
    "# Redefino month para que quede acorde al último mes del trimestre correspondiente\n",
    "\n",
    "for i in Dataset_AM.index:\n",
    "    if Dataset_AM.quarter[i]==1:\n",
    "        Dataset_AM.month[i]=3\n",
    "    elif Dataset_AM.quarter[i]==2:\n",
    "        Dataset_AM.month[i]=6\n",
    "    elif Dataset_AM.quarter[i]==3:\n",
    "        Dataset_AM.month[i]=9\n",
    "    else:\n",
    "        Dataset_AM.month[i]=12"
   ]
  },
  {
   "cell_type": "code",
   "execution_count": 27,
   "metadata": {
    "collapsed": true
   },
   "outputs": [],
   "source": [
    "Dataset_AM['Periodo'] = Dataset_AM.year.astype(str).str.cat(Dataset_AM.month.astype(str), sep='-')\n",
    "\n",
    "Dataset_AM=Dataset_AM.drop(['year','quarter','month'],1)"
   ]
  },
  {
   "cell_type": "code",
   "execution_count": 28,
   "metadata": {
    "collapsed": true
   },
   "outputs": [],
   "source": [
    "Dataset_AM['Periodo_balance']=Dataset_AM['año']\n",
    "Dataset_AM=Dataset_AM.drop('año',1)"
   ]
  },
  {
   "cell_type": "code",
   "execution_count": 29,
   "metadata": {
    "collapsed": true
   },
   "outputs": [],
   "source": [
    "#Creo variable prima emitida negativa\n",
    "\n",
    "Dataset_AM['pe_negativa']=[1 if Dataset_AM.Primas_Emitidas.iloc[i]<0 else 0 for i in range(len(Dataset_AM.index))]"
   ]
  },
  {
   "cell_type": "markdown",
   "metadata": {},
   "source": [
    "Saldo a amortizar dif. reserva pto. 33.4.1.6 (-) y Reserva Especial ART Res. 41.155"
   ]
  },
  {
   "cell_type": "code",
   "execution_count": 30,
   "metadata": {
    "collapsed": true
   },
   "outputs": [],
   "source": [
    "# Importo base construida a partir del SINENSUP\n",
    "Dataset_Sinensup=pd.read_excel(r'C:\\Users\\eangenello\\Desktop\\TECNICA\\Python\\input\\ART\\Dataset_AM\\Dataset_NEECC_Sinensup.xlsx', sheet_name = 'Sinensup')\n",
    "\n",
    "Dataset_Sinensup=Dataset_Sinensup.drop('des_cia',1)"
   ]
  },
  {
   "cell_type": "code",
   "execution_count": 31,
   "metadata": {
    "collapsed": true
   },
   "outputs": [],
   "source": [
    "# Junto datasets: Anexo 12 + Anexo 8 + Anexo 11 + Anexo 14 + BALANCES2 + Sinensup\n",
    "\n",
    "Dataset_AM=Dataset_AM.merge(Dataset_Sinensup, how='left', on=['cod_cia','Periodo_balance'])"
   ]
  },
  {
   "cell_type": "markdown",
   "metadata": {},
   "source": [
    "NOTAS EECC"
   ]
  },
  {
   "cell_type": "code",
   "execution_count": 32,
   "metadata": {
    "collapsed": true
   },
   "outputs": [],
   "source": [
    "# Importo base construida a partir de las Notas a los Estados Contables\n",
    "# [Reserva por Pasivo Global], [Cantidad de Juicios Abiertos con Pagos Parciales] y [Total de Pagos de los Casos Abiertos con Juicios]\n",
    "\n",
    "Dataset_NEECC=pd.read_excel(r'C:\\Users\\eangenello\\Desktop\\TECNICA\\Python\\input\\ART\\Dataset_AM\\Dataset_NEECC_Sinensup.xlsx', sheet_name = 'NEECC', usecols='A:H')\n",
    "\n",
    "Dataset_NEECC=Dataset_NEECC.drop('des_cia',1)"
   ]
  },
  {
   "cell_type": "code",
   "execution_count": 33,
   "metadata": {
    "collapsed": true
   },
   "outputs": [],
   "source": [
    "# Junto datasets: Anexo 12 + Anexo 8 + Anexo 11 + Anexo 14 + BALANCES2 + Sinensup + NEECC\n",
    "\n",
    "Dataset_AM=Dataset_AM.merge(Dataset_NEECC, how='left', on=['cod_cia','Periodo_balance'])\n"
   ]
  },
  {
   "cell_type": "markdown",
   "metadata": {},
   "source": [
    "Dataset SRT (Masa Salarial y Trabajadores Cubiertos)"
   ]
  },
  {
   "cell_type": "code",
   "execution_count": 34,
   "metadata": {
    "collapsed": true
   },
   "outputs": [],
   "source": [
    "Dt_SRT=pd.read_excel(r'C:\\Users\\eangenello\\Desktop\\TECNICA\\Python\\input\\ART\\Dt_SART.xlsx', usecols='A:G,J' )\n"
   ]
  },
  {
   "cell_type": "code",
   "execution_count": 35,
   "metadata": {
    "collapsed": true
   },
   "outputs": [],
   "source": [
    "# Armo el dataset de Trabajadores Cubiertos: De esta variable sólo necesito la foto al último mes del trimestre\n",
    "\n",
    "# Elimino Masa Salarial\n",
    "\n",
    "Dt_SRT_TC=Dt_SRT.drop('Masa_Salarial', 1)\n",
    "\n",
    "# Elimino los meses que no corresponden al último mes de cada trimestre\n",
    "\n",
    "Dt_SRT_TC['month'] = pd.DatetimeIndex(Dt_SRT_TC['Periodo']).month\n",
    "\n",
    "Dt_SRT_TC = Dt_SRT_TC.drop(Dt_SRT_TC[Dt_SRT_TC.month==1].index,0)\n",
    "Dt_SRT_TC = Dt_SRT_TC.drop(Dt_SRT_TC[Dt_SRT_TC.month==2].index,0)\n",
    "Dt_SRT_TC = Dt_SRT_TC.drop(Dt_SRT_TC[Dt_SRT_TC.month==4].index,0)\n",
    "Dt_SRT_TC = Dt_SRT_TC.drop(Dt_SRT_TC[Dt_SRT_TC.month==5].index,0)\n",
    "Dt_SRT_TC = Dt_SRT_TC.drop(Dt_SRT_TC[Dt_SRT_TC.month==7].index,0)\n",
    "Dt_SRT_TC = Dt_SRT_TC.drop(Dt_SRT_TC[Dt_SRT_TC.month==8].index,0)\n",
    "Dt_SRT_TC = Dt_SRT_TC.drop(Dt_SRT_TC[Dt_SRT_TC.month==10].index,0)\n",
    "Dt_SRT_TC = Dt_SRT_TC.drop(Dt_SRT_TC[Dt_SRT_TC.month==11].index,0)\n",
    "\n",
    "Dt_SRT_TC = Dt_SRT_TC.drop('month',1)\n",
    "Dt_SRT_TC = Dt_SRT_TC.drop('denominacion_corta',1)"
   ]
  },
  {
   "cell_type": "code",
   "execution_count": 36,
   "metadata": {
    "collapsed": true
   },
   "outputs": [],
   "source": [
    "DF_exportar= Dataset_AM.merge(Dt_SRT_TC, how='outer', on=['cod_cia','Periodo'])"
   ]
  },
  {
   "cell_type": "code",
   "execution_count": 37,
   "metadata": {
    "collapsed": true
   },
   "outputs": [],
   "source": [
    "# Armo el dataset de Trabajadores Cubiertos: De esta variable necesito el acumulado trimestral para poder hacer la comparación\n",
    "# con la prima emitida trimestral\n",
    "\n",
    "# Elimino Trabajadores Cubiertos\n",
    "\n",
    "Dt_SRT_MS=Dt_SRT.drop('Trabajadores_Cubiertos', 1)\n",
    "\n",
    "# Creo las variables mes y año para construir la variable Periodo Balance\n",
    "\n",
    "Dt_SRT_MS['year'] = pd.DatetimeIndex(Dt_SRT_MS['Fecha']).year\n",
    "Dt_SRT_MS['month'] = pd.DatetimeIndex(Dt_SRT_MS['Fecha']).month"
   ]
  },
  {
   "cell_type": "code",
   "execution_count": 38,
   "metadata": {
    "collapsed": true
   },
   "outputs": [],
   "source": [
    "# Defino la función que va a asignar el trimestre a partir de la variable mes\n",
    "\n",
    "def trim(row):\n",
    "    if Dt_SRT_MS.month.iloc[row]==1 or Dt_SRT_MS.month.iloc[row]==2 or Dt_SRT_MS.month.iloc[row]==3:\n",
    "        return 1\n",
    "    \n",
    "    elif Dt_SRT_MS.month.iloc[row]==4 or Dt_SRT_MS.month.iloc[row]==5 or Dt_SRT_MS.month.iloc[row]==6:\n",
    "        return 2\n",
    "    \n",
    "    elif Dt_SRT_MS.month.iloc[row]==7 or Dt_SRT_MS.month.iloc[row]==8 or Dt_SRT_MS.month.iloc[row]==9:\n",
    "        return 3\n",
    "    \n",
    "    else:\n",
    "        return 4"
   ]
  },
  {
   "cell_type": "code",
   "execution_count": 39,
   "metadata": {
    "collapsed": true
   },
   "outputs": [],
   "source": [
    "# Creo la variable Trimestre y le aplico la función definida\n",
    "\n",
    "Dt_SRT_MS['trimestre']=[trim(i) for i in range(len(Dt_SRT_MS.index))]"
   ]
  },
  {
   "cell_type": "code",
   "execution_count": 40,
   "metadata": {
    "collapsed": true
   },
   "outputs": [],
   "source": [
    "# Creo la variable Periodo Balance a partir de las varibles year y trimestre\n",
    "\n",
    "Dt_SRT_MS['Periodo_balance'] = Dt_SRT_MS.year.astype(str).str.cat(Dt_SRT_MS.trimestre.astype(str), sep='-')"
   ]
  },
  {
   "cell_type": "code",
   "execution_count": 41,
   "metadata": {
    "collapsed": true
   },
   "outputs": [],
   "source": [
    "# Agrupo en función de las variables cod_cia y Periodo Balance\n",
    "\n",
    "Dt_SRT_MS_agrup=Dt_SRT_MS.groupby(['cod_cia','Periodo_balance'], as_index=False)['Masa_Salarial'].sum()\n",
    "\n",
    "Dt_SRT_MS_agrup=Dt_SRT_MS_agrup[Dt_SRT_MS_agrup.cod_cia!=9999]\n",
    "\n",
    "# A LO NICO!\n",
    "# Masa_Salarial_Trim=Dt_SRT_MS.pivot_table(index=['cod_cia','year','trimestre'], values='Masa_Salarial', aggfunc=np.sum)\n",
    "# Masa_Salarial_Trim['entidad']=[Masa_Salarial_Trim.iloc[i].name[0] for i in range(len(Masa_Salarial_Trim.index))]\n",
    "# Masa_Salarial_Trim['año']=[Masa_Salarial_Trim.iloc[i].name[1] for i in range(len(Masa_Salarial_Trim.index))]\n",
    "# Masa_Salarial_Trim['trim']=[Masa_Salarial_Trim.iloc[i].name[2] for i in range(len(Masa_Salarial_Trim.index))]"
   ]
  },
  {
   "cell_type": "code",
   "execution_count": 42,
   "metadata": {
    "collapsed": true
   },
   "outputs": [],
   "source": [
    "DF_exportar= DF_exportar.merge(Dt_SRT_MS_agrup, how='outer', on=['cod_cia','Periodo_balance'])"
   ]
  },
  {
   "cell_type": "markdown",
   "metadata": {},
   "source": [
    "DENOMINACIÓN CORTA COMPAÑÍAS"
   ]
  },
  {
   "cell_type": "code",
   "execution_count": 43,
   "metadata": {
    "collapsed": true
   },
   "outputs": [],
   "source": [
    "# Importo nombre compañías\n",
    "\n",
    "Dataset_compañías=pd.read_excel(r'C:\\Users\\eangenello\\Desktop\\TECNICA\\Python\\input\\ART\\Dataset_Compañías.xlsx', sheet_name='AM')"
   ]
  },
  {
   "cell_type": "code",
   "execution_count": 44,
   "metadata": {
    "collapsed": true
   },
   "outputs": [],
   "source": [
    "# Junto datasets: Anexo 2 + Anexo 8 + Anexo 11 + Anexo 14 + BALANCES_2 + Sinensup + NEEC + Compañías\n",
    "\n",
    "DF_exportar=DF_exportar.merge(Dataset_compañías, how='left', on='cod_cia')"
   ]
  },
  {
   "cell_type": "markdown",
   "metadata": {},
   "source": [
    "COMPAÑÍAS ACTIVAS"
   ]
  },
  {
   "cell_type": "code",
   "execution_count": 45,
   "metadata": {
    "collapsed": true
   },
   "outputs": [],
   "source": [
    "#Creo variable compañías activas y filtro\n",
    "\n",
    "cias=[64,79,254,259,261,348,412,440,605,616,618,619,620,621,624,626,726,862,890,9999]\n",
    "DF_exportar['cias_activas']=[1 if np.isin(DF_exportar.cod_cia.iloc[i],cias)==True else 0 for i in range(len(DF_exportar.index))]\n",
    "\n",
    "DF_exportar=DF_exportar[(DF_exportar.cias_activas==1)]"
   ]
  },
  {
   "cell_type": "markdown",
   "metadata": {},
   "source": [
    "Reordeno "
   ]
  },
  {
   "cell_type": "code",
   "execution_count": 46,
   "metadata": {
    "scrolled": true
   },
   "outputs": [
    {
     "data": {
      "text/plain": [
       "['cod_cia',\n",
       " 'Primas_Emitidas_Desagregadas',\n",
       " 'Primas_Emitidas',\n",
       " 'Primas_Devengadas_Total',\n",
       " 'RSP_Administrativos',\n",
       " 'RSP_Juicios',\n",
       " 'RSP_Mediaciones',\n",
       " 'IBNR',\n",
       " 'IBNER',\n",
       " 'Acreed_por_Premios_a_Devol',\n",
       " 'ILT_a_Pagar',\n",
       " 'Prest_en_Espec_a_pagar',\n",
       " 'Siniestros_Liquidados_a_Pagar',\n",
       " 'Siniestros_en_Proceso_de_Liquidacion',\n",
       " 'Deudas_con_Asegurados',\n",
       " 'Conting_y_Desvios_de_Siniestralidad_ART',\n",
       " 'Por_Resultado_Negativo_ART',\n",
       " 'Compromisos_Tecnicos',\n",
       " 'Comisiones',\n",
       " 'Sub_Total_GP',\n",
       " 'Sub_total_GE',\n",
       " 'Siniestros ART - En mediación',\n",
       " 'Siniestros ART - En juicio',\n",
       " 'Periodo',\n",
       " 'Periodo_balance',\n",
       " 'pe_negativa',\n",
       " 'Saldo a amortizar dif. reserva pto. 33.4.1.6 (-)',\n",
       " 'Reserva Especial ART Res. 41.155',\n",
       " 'Cantidad de Juicios',\n",
       " 'Reserva por Pasivo Global',\n",
       " 'Cantidad de Juicios Abiertos con Pagos Parciales',\n",
       " 'Total de Pagos de los Casos Abiertos con Juicios',\n",
       " 'Valuación de reservas por reclamaciones judiciales',\n",
       " 'Fecha',\n",
       " 'Trabajadores_Cubiertos',\n",
       " 'Empleadores_Asegurados',\n",
       " 'Cuota_Pactada_Porcentaje',\n",
       " 'Masa_Salarial',\n",
       " 'denominacion_corta',\n",
       " 'des_cia',\n",
       " 'cias_activas']"
      ]
     },
     "execution_count": 46,
     "metadata": {},
     "output_type": "execute_result"
    }
   ],
   "source": [
    "# Listo las etiquetas de las columnas\n",
    "\n",
    "cols = list(DF_exportar.columns.values)\n",
    "cols"
   ]
  },
  {
   "cell_type": "code",
   "execution_count": 47,
   "metadata": {
    "collapsed": true
   },
   "outputs": [],
   "source": [
    "# Reordeno las columnas\n",
    "\n",
    "reord= ['cod_cia',\n",
    " 'denominacion_corta',\n",
    " 'des_cia',\n",
    " 'Periodo',\n",
    " 'Periodo_balance',\n",
    " 'Fecha',\n",
    " 'Primas_Emitidas_Desagregadas',\n",
    " 'Primas_Emitidas',\n",
    " 'Primas_Devengadas_Total',\n",
    " 'RSP_Administrativos',\n",
    " 'RSP_Juicios',\n",
    " 'RSP_Mediaciones',\n",
    " 'IBNR',\n",
    " 'IBNER',\n",
    " 'Acreed_por_Premios_a_Devol',\n",
    " 'ILT_a_Pagar',\n",
    " 'Prest_en_Espec_a_pagar',\n",
    " 'Siniestros_Liquidados_a_Pagar',\n",
    " 'Siniestros_en_Proceso_de_Liquidacion',\n",
    " 'Deudas_con_Asegurados',\n",
    " 'Conting_y_Desvios_de_Siniestralidad_ART',\n",
    " 'Por_Resultado_Negativo_ART',\n",
    " 'Compromisos_Tecnicos',\n",
    " 'Comisiones',\n",
    " 'Sub_Total_GP',\n",
    " 'Sub_total_GE',\n",
    " 'Siniestros ART - En mediación',\n",
    " 'Siniestros ART - En juicio',\n",
    " 'pe_negativa',\n",
    " 'Saldo a amortizar dif. reserva pto. 33.4.1.6 (-)',\n",
    " 'Reserva Especial ART Res. 41.155',\n",
    " 'Cantidad de Juicios',\n",
    " 'Reserva por Pasivo Global',\n",
    " 'Cantidad de Juicios Abiertos con Pagos Parciales',\n",
    " 'Total de Pagos de los Casos Abiertos con Juicios',\n",
    " 'Valuación de reservas por reclamaciones judiciales',\n",
    " 'Trabajadores_Cubiertos',\n",
    " 'Empleadores_Asegurados',\n",
    " 'Cuota_Pactada_Porcentaje',\n",
    " 'Masa_Salarial',\n",
    " 'cias_activas']\n",
    "    \n",
    "DF_exportar=DF_exportar[reord]"
   ]
  },
  {
   "cell_type": "code",
   "execution_count": 48,
   "metadata": {
    "collapsed": true
   },
   "outputs": [],
   "source": [
    "# Reemplazo missing por cero\n",
    "\n",
    "DF_exportar=DF_exportar.replace(to_replace=np.nan, value=0)"
   ]
  },
  {
   "cell_type": "markdown",
   "metadata": {},
   "source": [
    "EXPORTO"
   ]
  },
  {
   "cell_type": "code",
   "execution_count": 49,
   "metadata": {
    "collapsed": true
   },
   "outputs": [],
   "source": [
    "DF_exportar.to_excel(r'C:\\Users\\eangenello\\Desktop\\TECNICA\\Python\\output\\Dt_Anexos_Magicos.xlsx', sheet_name='Dt_Anexos_Magicos', index=False)"
   ]
  }
 ],
 "metadata": {
  "kernelspec": {
   "display_name": "Python 3",
   "language": "python",
   "name": "python3"
  },
  "language_info": {
   "codemirror_mode": {
    "name": "ipython",
    "version": 3
   },
   "file_extension": ".py",
   "mimetype": "text/x-python",
   "name": "python",
   "nbconvert_exporter": "python",
   "pygments_lexer": "ipython3",
   "version": "3.6.3"
  }
 },
 "nbformat": 4,
 "nbformat_minor": 2
}
