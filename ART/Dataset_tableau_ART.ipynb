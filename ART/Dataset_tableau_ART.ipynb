{
 "cells": [
  {
   "cell_type": "markdown",
   "metadata": {},
   "source": [
    "## Dataset Tableau ART"
   ]
  },
  {
   "cell_type": "code",
   "execution_count": 1,
   "metadata": {},
   "outputs": [],
   "source": [
    "import numpy as np\n",
    "import scipy as sp\n",
    "import pandas as pd\n",
    "import matplotlib.pyplot as plt\n",
    "import seaborn as sns\n",
    "\n",
    "%matplotlib inline"
   ]
  },
  {
   "cell_type": "markdown",
   "metadata": {},
   "source": [
    "Ramos"
   ]
  },
  {
   "cell_type": "code",
   "execution_count": 2,
   "metadata": {},
   "outputs": [],
   "source": [
    "ramos_df=pd.read_excel(r'C:\\Users\\eangenello\\Desktop\\TECNICA\\Python\\input\\ART\\Dataset_AM\\tabla_ramos.xlsx', index_col = 'cod_subramo')"
   ]
  },
  {
   "cell_type": "markdown",
   "metadata": {},
   "source": [
    "Prima Emitida"
   ]
  },
  {
   "cell_type": "code",
   "execution_count": 4,
   "metadata": {},
   "outputs": [],
   "source": [
    "balance=pd.read_excel(r'C:\\Users\\eangenello\\Desktop\\TECNICA\\Python\\input\\ART\\Balance.xlsx')"
   ]
  },
  {
   "cell_type": "code",
   "execution_count": null,
   "metadata": {},
   "outputs": [],
   "source": []
  },
  {
   "cell_type": "code",
   "execution_count": null,
   "metadata": {},
   "outputs": [],
   "source": []
  },
  {
   "cell_type": "code",
   "execution_count": null,
   "metadata": {},
   "outputs": [],
   "source": []
  },
  {
   "cell_type": "code",
   "execution_count": null,
   "metadata": {},
   "outputs": [],
   "source": []
  },
  {
   "cell_type": "code",
   "execution_count": null,
   "metadata": {},
   "outputs": [],
   "source": [
    "anexo12_df=pd.read_excel(r'C:\\Users\\eangenello\\Desktop\\TECNICA\\Python\\input\\ART\\Dataset_AM\\ANEXO_12.xlsx')\n",
    "\n",
    "dataset_missing=pd.read_excel(r'C:\\Users\\eangenello\\Desktop\\TECNICA\\Python\\input\\ART\\Dataset_AM\\Missing_AM.xlsx', sheet_name='ANEXO_12')\n",
    "\n",
    "anexo12_df=anexo12_df.append(dataset_missing)\n",
    "\n",
    "anexo12_df.cod_cia=anexo12_df.cod_cia.astype('O')\n",
    "\n",
    "anexo12_df=anexo12_df[(anexo12_df.cod_subramo=='1.050.01')|(anexo12_df.cod_subramo=='1.050.99')]"
   ]
  }
 ],
 "metadata": {
  "kernelspec": {
   "display_name": "Python 3",
   "language": "python",
   "name": "python3"
  },
  "language_info": {
   "codemirror_mode": {
    "name": "ipython",
    "version": 3
   },
   "file_extension": ".py",
   "mimetype": "text/x-python",
   "name": "python",
   "nbconvert_exporter": "python",
   "pygments_lexer": "ipython3",
   "version": "3.7.0"
  }
 },
 "nbformat": 4,
 "nbformat_minor": 2
}
