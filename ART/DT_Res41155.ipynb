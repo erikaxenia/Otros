{
 "cells": [
  {
   "cell_type": "markdown",
   "metadata": {},
   "source": [
    "## ESTADO DE SITUACIÓN RES 41.155"
   ]
  },
  {
   "cell_type": "code",
   "execution_count": 1,
   "metadata": {},
   "outputs": [],
   "source": [
    "import numpy as np\n",
    "import scipy as sp\n",
    "import pandas as pd\n",
    "import matplotlib.pyplot as plt\n",
    "import seaborn as sns\n",
    "\n",
    "%matplotlib inline"
   ]
  },
  {
   "cell_type": "code",
   "execution_count": 2,
   "metadata": {},
   "outputs": [],
   "source": [
    "# Importo base construida a partir de las Notas a los Estados Contables\n",
    "# [Reserva por Pasivo Global], [Cantidad de Juicios Abiertos con Pagos Parciales] y [Total de Pagos de los Casos Abiertos con Juicios]\n",
    "\n",
    "Dataset_NEECC=pd.read_excel(r'C:\\Users\\eangenello\\Desktop\\TECNICA\\Python\\input\\ART\\Dataset_AM\\Dataset_NEECC_Sinensup.xlsx', sheet_name = 'NEECC', usecols='A:G')\n",
    "\n",
    "Dataset_NEECC=Dataset_NEECC.drop('des_cia',1)"
   ]
  },
  {
   "cell_type": "code",
   "execution_count": 3,
   "metadata": {},
   "outputs": [
    {
     "name": "stderr",
     "output_type": "stream",
     "text": [
      "C:\\Users\\eangenello\\AppData\\Local\\Continuum\\anaconda3\\lib\\site-packages\\ipykernel_launcher.py:13: SettingWithCopyWarning: \n",
      "A value is trying to be set on a copy of a slice from a DataFrame.\n",
      "Try using .loc[row_indexer,col_indexer] = value instead\n",
      "\n",
      "See the caveats in the documentation: http://pandas.pydata.org/pandas-docs/stable/indexing.html#indexing-view-versus-copy\n",
      "  del sys.path[0]\n",
      "C:\\Users\\eangenello\\AppData\\Local\\Continuum\\anaconda3\\lib\\site-packages\\ipykernel_launcher.py:17: SettingWithCopyWarning: \n",
      "A value is trying to be set on a copy of a slice from a DataFrame.\n",
      "Try using .loc[row_indexer,col_indexer] = value instead\n",
      "\n",
      "See the caveats in the documentation: http://pandas.pydata.org/pandas-docs/stable/indexing.html#indexing-view-versus-copy\n"
     ]
    }
   ],
   "source": [
    "# Importo y preparo Siniestros en Juicio y Pendiente de Liquidación de BALANCE_2\n",
    "\n",
    "balances2_df=pd.read_excel(r'C:\\Users\\eangenello\\Desktop\\TECNICA\\Python\\input\\ART\\Dataset_AM\\BALANCES_2.xlsx', usecols='A:F')\n",
    "dataset_missing=pd.read_excel(r'C:\\Users\\eangenello\\Desktop\\TECNICA\\Python\\input\\ART\\Dataset_AM\\Missing_AM.xlsx', sheet_name='BALANCES_2')\n",
    "balances2_df=balances2_df.append(dataset_missing)\n",
    "\n",
    "#Filtro subramo y codigo de cuenta\n",
    "balances2_df=balances2_df[(balances2_df.cod_subramo=='1.050.01')|(balances2_df.cod_subramo=='1.050.99')]\n",
    "balances2A_df=balances2_df[balances2_df.cod_cuenta=='2.01.01.01.01.18.01.00']\n",
    "balances2B_df=balances2_df[balances2_df.cod_cuenta=='2.01.01.01.01.18.02.00']\n",
    "\n",
    "# Siniestros ART - En mediación\n",
    "balances2A_df['Siniestros ART - En mediación']=balances2A_df['importe']\n",
    "balances2A_df=balances2A_df.drop(['cod_cuenta', 'importe'],1)\n",
    "\n",
    "# Siniestros ART - En juicio\n",
    "balances2B_df['Siniestros ART - En juicio']=balances2B_df['importe']\n",
    "balances2B_df=balances2B_df.drop(['cod_cuenta', 'importe'],1)\n",
    "\n",
    "# Junto ambas variables y agrupo\n",
    "BALANCES_2_df=balances2A_df.merge(balances2B_df, how='outer', on=['cod_cia','des_cia','año','cod_subramo'])\n",
    "BALANCES_2_df_agrup=BALANCES_2_df.groupby(['cod_cia','año'], as_index=False)['Siniestros ART - En mediación','Siniestros ART - En juicio'].sum()\n",
    "\n",
    "BALANCES_2_df_agrup['Periodo_balance']=BALANCES_2_df_agrup['año']\n",
    "BALANCES_2_df_agrup=BALANCES_2_df_agrup.drop('año',1)\n",
    "#BALANCES_2_df_agrup=BALANCES_2_df_agrup.drop('des_cia',1)"
   ]
  },
  {
   "cell_type": "code",
   "execution_count": 4,
   "metadata": {},
   "outputs": [],
   "source": [
    "# Junto datasets: BALANCES2 + Sinensup\n",
    "\n",
    "Dataset_Res41155=Dataset_NEECC.merge(BALANCES_2_df_agrup, how='left', on=['cod_cia','Periodo_balance'])"
   ]
  },
  {
   "cell_type": "code",
   "execution_count": 5,
   "metadata": {},
   "outputs": [],
   "source": [
    "# Importo base construida a partir del SINENSUP\n",
    "# [Saldo a amortizar dif. reserva pto. 33.4.1.6 (-)] y [Reserva Especial ART Res. 41.155]\n",
    "\n",
    "Dataset_Sinensup=pd.read_excel(r'C:\\Users\\eangenello\\Desktop\\TECNICA\\Python\\input\\ART\\Dataset_AM\\Dataset_NEECC_Sinensup.xlsx', sheet_name = 'Sinensup')\n",
    "\n",
    "Dataset_Sinensup=Dataset_Sinensup.drop('des_cia',1)"
   ]
  },
  {
   "cell_type": "code",
   "execution_count": 6,
   "metadata": {},
   "outputs": [],
   "source": [
    "# Junto datasets: \n",
    "\n",
    "Dataset_Res41155=Dataset_Res41155.merge(Dataset_Sinensup, how='left', on=['cod_cia','Periodo_balance'])"
   ]
  },
  {
   "cell_type": "code",
   "execution_count": 7,
   "metadata": {},
   "outputs": [],
   "source": [
    "# Importo y preparo Anexo 11\n",
    "\n",
    "anexo11_df=pd.read_excel(r'C:\\Users\\eangenello\\Desktop\\TECNICA\\Python\\input\\ART\\Dataset_AM\\ANEXO_11.xlsx', usecols='A,C,D,J')\n",
    "\n",
    "dataset_missing=pd.read_excel(r'C:\\Users\\eangenello\\Desktop\\TECNICA\\Python\\input\\ART\\Dataset_AM\\Missing_AM.xlsx', sheet_name='ANEXO_11', usecols='A,C,D,J')\n",
    "\n",
    "anexo11_df=anexo11_df.append(dataset_missing)\n",
    "\n",
    "anexo11_df=anexo11_df[(anexo11_df.cod_subramo=='1.050.01')|(anexo11_df.cod_subramo=='1.050.99')]\n",
    "\n",
    "anexo11_df_agrup=anexo11_df.groupby(['cod_cia','año'], as_index=False)['Conting_y_Desvios_de_Siniestralidad_ART'].sum()\n",
    "\n",
    "anexo11_df_agrup['Periodo_balance']=anexo11_df_agrup['año']\n",
    "anexo11_df_agrup=anexo11_df_agrup.drop('año',1)\n"
   ]
  },
  {
   "cell_type": "code",
   "execution_count": 12,
   "metadata": {},
   "outputs": [
    {
     "name": "stderr",
     "output_type": "stream",
     "text": [
      "C:\\Users\\eangenello\\AppData\\Local\\Continuum\\anaconda3\\lib\\site-packages\\pandas\\core\\frame.py:6211: FutureWarning: Sorting because non-concatenation axis is not aligned. A future version\n",
      "of pandas will change to not sort by default.\n",
      "\n",
      "To accept the future behavior, pass 'sort=False'.\n",
      "\n",
      "To retain the current behavior and silence the warning, pass 'sort=True'.\n",
      "\n",
      "  sort=sort)\n"
     ]
    }
   ],
   "source": [
    "anexo8_df=pd.read_excel(r'C:\\Users\\eangenello\\Desktop\\TECNICA\\Python\\input\\ART\\Dataset_AM\\ANEXO_8.xlsx', usecols= \"A:L,N,O,AB\")\n",
    "\n",
    "dataset_missing=pd.read_excel(r'C:\\Users\\eangenello\\Desktop\\TECNICA\\Python\\input\\ART\\Dataset_AM\\Missing_AM.xlsx', sheet_name='ANEXO_8')\n",
    "\n",
    "anexo8_df=anexo8_df.append(dataset_missing)\n",
    "\n",
    "anexo8_df=anexo8_df[(anexo8_df.cod_subramo=='1.050.01')|(anexo8_df.cod_subramo=='1.050.99')]\n",
    "\n",
    "anexo8_df_agrup=anexo8_df.groupby(['cod_cia','año'], as_index=False)['IBNR'].sum()\n",
    "\n",
    "anexo8_df_agrup['Periodo_balance']=anexo8_df_agrup['año']\n",
    "anexo8_df_agrup=anexo8_df_agrup.drop('año',1)\n"
   ]
  },
  {
   "cell_type": "code",
   "execution_count": 9,
   "metadata": {},
   "outputs": [],
   "source": [
    "# Junto datasets: Anexo 12 + Anexo 11\n",
    "\n",
    "Dataset_Res41155=Dataset_Res41155.merge(anexo11_df_agrup, how='left', on=['cod_cia','Periodo_balance'])"
   ]
  },
  {
   "cell_type": "code",
   "execution_count": 13,
   "metadata": {},
   "outputs": [],
   "source": [
    "# Junto datasets: Anexo 12 + Anexo 11 + Anexo 8\n",
    "\n",
    "Dataset_Res41155=Dataset_Res41155.merge(anexo8_df_agrup, how='left', on=['cod_cia','Periodo_balance'])"
   ]
  },
  {
   "cell_type": "code",
   "execution_count": 14,
   "metadata": {},
   "outputs": [],
   "source": [
    "Dataset_Res41155=Dataset_Res41155.replace(to_replace=np.nan, value=0)"
   ]
  },
  {
   "cell_type": "code",
   "execution_count": 15,
   "metadata": {},
   "outputs": [],
   "source": [
    "# Importo nombre compañías\n",
    "\n",
    "Dataset_compañías=pd.read_excel(r'C:\\Users\\eangenello\\Desktop\\TECNICA\\Python\\input\\ART\\Dataset_Compañías.xlsx', sheet_name='AM')"
   ]
  },
  {
   "cell_type": "code",
   "execution_count": 16,
   "metadata": {},
   "outputs": [],
   "source": [
    "# Junto datasets: BALANCES_2 + Sinensup + NEEC + Compañías\n",
    "\n",
    "Dataset_Res41155=Dataset_Res41155.merge(Dataset_compañías, how='left', on='cod_cia')"
   ]
  },
  {
   "cell_type": "code",
   "execution_count": 17,
   "metadata": {},
   "outputs": [
    {
     "data": {
      "text/plain": [
       "['cod_cia',\n",
       " 'Periodo_balance',\n",
       " 'Cantidad de Juicios',\n",
       " 'Reserva por Pasivo Global',\n",
       " 'Cantidad de Juicios Abiertos con Pagos Parciales',\n",
       " 'Total de Pagos de los Casos Abiertos con Juicios',\n",
       " 'Siniestros ART - En mediación',\n",
       " 'Siniestros ART - En juicio',\n",
       " 'Saldo a amortizar dif. reserva pto. 33.4.1.6 (-)',\n",
       " 'Reserva Especial ART Res. 41.155',\n",
       " 'Conting_y_Desvios_de_Siniestralidad_ART',\n",
       " 'IBNR',\n",
       " 'denominacion_corta']"
      ]
     },
     "execution_count": 17,
     "metadata": {},
     "output_type": "execute_result"
    }
   ],
   "source": [
    "# Listo las etiquetas de las columnas\n",
    "\n",
    "Dataset_Res41155=Dataset_Res41155.drop('des_cia',1)\n",
    "\n",
    "cols = list(Dataset_Res41155.columns.values)\n",
    "cols\n",
    "\n"
   ]
  },
  {
   "cell_type": "code",
   "execution_count": 18,
   "metadata": {},
   "outputs": [],
   "source": [
    "# Reordeno las columnas\n",
    "\n",
    "reord=['cod_cia','denominacion_corta', 'Periodo_balance',  'Siniestros ART - En mediación',\n",
    " 'Siniestros ART - En juicio',  'Saldo a amortizar dif. reserva pto. 33.4.1.6 (-)',\n",
    " 'Reserva Especial ART Res. 41.155',\n",
    " 'Cantidad de Juicios',\n",
    " 'Reserva por Pasivo Global',\n",
    " 'Cantidad de Juicios Abiertos con Pagos Parciales',\n",
    " 'Total de Pagos de los Casos Abiertos con Juicios', 'Conting_y_Desvios_de_Siniestralidad_ART', 'IBNR']\n",
    "    \n",
    "    \n",
    "Dataset_Res41155=Dataset_Res41155[reord]"
   ]
  },
  {
   "cell_type": "code",
   "execution_count": 19,
   "metadata": {},
   "outputs": [],
   "source": [
    "Dataset_Res41155.to_excel(r'C:\\Users\\eangenello\\Desktop\\Dt_Res41155.xlsx', index=False)"
   ]
  },
  {
   "cell_type": "code",
   "execution_count": null,
   "metadata": {},
   "outputs": [],
   "source": []
  },
  {
   "cell_type": "code",
   "execution_count": null,
   "metadata": {},
   "outputs": [],
   "source": []
  },
  {
   "cell_type": "code",
   "execution_count": null,
   "metadata": {},
   "outputs": [],
   "source": []
  },
  {
   "cell_type": "code",
   "execution_count": null,
   "metadata": {},
   "outputs": [],
   "source": []
  }
 ],
 "metadata": {
  "kernelspec": {
   "display_name": "Python 3",
   "language": "python",
   "name": "python3"
  },
  "language_info": {
   "codemirror_mode": {
    "name": "ipython",
    "version": 3
   },
   "file_extension": ".py",
   "mimetype": "text/x-python",
   "name": "python",
   "nbconvert_exporter": "python",
   "pygments_lexer": "ipython3",
   "version": "3.7.0"
  }
 },
 "nbformat": 4,
 "nbformat_minor": 2
}
