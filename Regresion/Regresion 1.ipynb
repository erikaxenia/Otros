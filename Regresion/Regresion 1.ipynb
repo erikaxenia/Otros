{
 "cells": [
  {
   "cell_type": "markdown",
   "metadata": {},
   "source": [
    "### Regresión Matriz de indicadores"
   ]
  },
  {
   "cell_type": "markdown",
   "metadata": {},
   "source": [
    "REGRESION MULTIPLE"
   ]
  },
  {
   "cell_type": "code",
   "execution_count": 1,
   "metadata": {},
   "outputs": [
    {
     "name": "stderr",
     "output_type": "stream",
     "text": [
      "C:\\Users\\eangenello\\AppData\\Local\\Continuum\\anaconda3\\lib\\site-packages\\ipykernel\\parentpoller.py:116: UserWarning: Parent poll failed.  If the frontend dies,\n",
      "                the kernel may be left running.  Please let us know\n",
      "                about your system (bitness, Python, etc.) at\n",
      "                ipython-dev@scipy.org\n",
      "  ipython-dev@scipy.org\"\"\")\n",
      "C:\\Users\\eangenello\\AppData\\Local\\Continuum\\anaconda3\\lib\\site-packages\\sklearn\\cross_validation.py:41: DeprecationWarning: This module was deprecated in version 0.18 in favor of the model_selection module into which all the refactored classes and functions are moved. Also note that the interface of the new CV iterators are different from that of this module. This module will be removed in 0.20.\n",
      "  \"This module will be removed in 0.20.\", DeprecationWarning)\n"
     ]
    }
   ],
   "source": [
    "import numpy as np\n",
    "import scipy as sp\n",
    "import pandas as pd\n",
    "import matplotlib.pyplot as plt\n",
    "import seaborn as sns\n",
    "import statsmodels.formula.api as smf\n",
    "from sklearn.feature_selection import RFE\n",
    "from sklearn.svm import SVR\n",
    "from sklearn.linear_model import LinearRegression\n",
    "from sklearn.cross_validation import train_test_split\n",
    "\n",
    "%matplotlib inline\n",
    "\n",
    "#https://www.udemy.com/course/machinelearningpython/learn/lecture/9725454#overview  #Dummyes"
   ]
  },
  {
   "cell_type": "code",
   "execution_count": 2,
   "metadata": {},
   "outputs": [],
   "source": [
    "matriz=pd.read_excel(r'C:\\Users\\eangenello\\Desktop\\Indicadores Matriz de Riesgo (1).xlsx')"
   ]
  },
  {
   "cell_type": "code",
   "execution_count": 3,
   "metadata": {},
   "outputs": [],
   "source": [
    "matriz= matriz.fillna(0)"
   ]
  },
  {
   "cell_type": "code",
   "execution_count": 4,
   "metadata": {},
   "outputs": [
    {
     "data": {
      "text/plain": [
       "Index(['Segmento', 'Cod Cia', 'DenominacionCorta', 'periodo', 'ind_01',\n",
       "       'ind_02', 'ind_03', 'ind_04', 'ind_05', 'ind_06', 'ind_08', 'ind_09',\n",
       "       'ind_10', 'ind_11', 'ind_12', 'ind_13', 'ind_14', 'ind_15', 'ind_16',\n",
       "       'ind_17', 'ind_18', 'ind_19', 'ind_20', 'ind_21', 'ind_22', 'ind_23',\n",
       "       'ind_24', 'ind_25', 'ind_26', 'ind_27', 'ind_28', 'ind_29', 'ind_30',\n",
       "       'ind_31', 'ind_32', 'ind_33', 'ind_34', 'ind_35', 'ind_36', 'ind_37',\n",
       "       'ind_38', 'ind_39', 'ind_40', 'ind_41', 'ind_42', 'ind_43'],\n",
       "      dtype='object')"
      ]
     },
     "execution_count": 4,
     "metadata": {},
     "output_type": "execute_result"
    }
   ],
   "source": [
    "matriz.columns"
   ]
  },
  {
   "cell_type": "code",
   "execution_count": 5,
   "metadata": {},
   "outputs": [
    {
     "data": {
      "text/html": [
       "<div>\n",
       "<style scoped>\n",
       "    .dataframe tbody tr th:only-of-type {\n",
       "        vertical-align: middle;\n",
       "    }\n",
       "\n",
       "    .dataframe tbody tr th {\n",
       "        vertical-align: top;\n",
       "    }\n",
       "\n",
       "    .dataframe thead th {\n",
       "        text-align: right;\n",
       "    }\n",
       "</style>\n",
       "<table border=\"1\" class=\"dataframe\">\n",
       "  <thead>\n",
       "    <tr style=\"text-align: right;\">\n",
       "      <th></th>\n",
       "      <th>Segmento</th>\n",
       "      <th>Cod Cia</th>\n",
       "      <th>DenominacionCorta</th>\n",
       "      <th>periodo</th>\n",
       "      <th>ind_01</th>\n",
       "      <th>ind_02</th>\n",
       "      <th>ind_03</th>\n",
       "      <th>ind_04</th>\n",
       "      <th>ind_05</th>\n",
       "      <th>ind_06</th>\n",
       "      <th>...</th>\n",
       "      <th>ind_34</th>\n",
       "      <th>ind_35</th>\n",
       "      <th>ind_36</th>\n",
       "      <th>ind_37</th>\n",
       "      <th>ind_38</th>\n",
       "      <th>ind_39</th>\n",
       "      <th>ind_40</th>\n",
       "      <th>ind_41</th>\n",
       "      <th>ind_42</th>\n",
       "      <th>ind_43</th>\n",
       "    </tr>\n",
       "  </thead>\n",
       "  <tbody>\n",
       "    <tr>\n",
       "      <th>0</th>\n",
       "      <td>Automotores</td>\n",
       "      <td>2</td>\n",
       "      <td>SMG</td>\n",
       "      <td>2012-3</td>\n",
       "      <td>0.146803</td>\n",
       "      <td>0.139001</td>\n",
       "      <td>0.032215</td>\n",
       "      <td>0.361734</td>\n",
       "      <td>-0.014188</td>\n",
       "      <td>0.804980</td>\n",
       "      <td>...</td>\n",
       "      <td>0.149917</td>\n",
       "      <td>0.279136</td>\n",
       "      <td>0.193382</td>\n",
       "      <td>1.128130</td>\n",
       "      <td>0.654247</td>\n",
       "      <td>0.715473</td>\n",
       "      <td>0.000000</td>\n",
       "      <td>0.591843</td>\n",
       "      <td>0.421782</td>\n",
       "      <td>0.473884</td>\n",
       "    </tr>\n",
       "    <tr>\n",
       "      <th>1</th>\n",
       "      <td>Automotores</td>\n",
       "      <td>25</td>\n",
       "      <td>SURA</td>\n",
       "      <td>2012-3</td>\n",
       "      <td>0.169161</td>\n",
       "      <td>0.023642</td>\n",
       "      <td>0.049949</td>\n",
       "      <td>0.426382</td>\n",
       "      <td>-0.014267</td>\n",
       "      <td>0.868305</td>\n",
       "      <td>...</td>\n",
       "      <td>0.203650</td>\n",
       "      <td>0.204828</td>\n",
       "      <td>0.106757</td>\n",
       "      <td>0.992870</td>\n",
       "      <td>0.515578</td>\n",
       "      <td>0.509842</td>\n",
       "      <td>0.000000</td>\n",
       "      <td>10.852803</td>\n",
       "      <td>0.454467</td>\n",
       "      <td>0.477293</td>\n",
       "    </tr>\n",
       "    <tr>\n",
       "      <th>2</th>\n",
       "      <td>Automotores</td>\n",
       "      <td>32</td>\n",
       "      <td>BOSTON</td>\n",
       "      <td>2012-3</td>\n",
       "      <td>0.598821</td>\n",
       "      <td>0.120864</td>\n",
       "      <td>0.167596</td>\n",
       "      <td>0.560279</td>\n",
       "      <td>-0.021333</td>\n",
       "      <td>0.709601</td>\n",
       "      <td>...</td>\n",
       "      <td>0.202446</td>\n",
       "      <td>0.206838</td>\n",
       "      <td>0.300986</td>\n",
       "      <td>1.063682</td>\n",
       "      <td>0.576307</td>\n",
       "      <td>0.507125</td>\n",
       "      <td>0.000000</td>\n",
       "      <td>1.788726</td>\n",
       "      <td>0.366989</td>\n",
       "      <td>0.487375</td>\n",
       "    </tr>\n",
       "    <tr>\n",
       "      <th>3</th>\n",
       "      <td>Automotores</td>\n",
       "      <td>36</td>\n",
       "      <td>ALLIANZ</td>\n",
       "      <td>2012-3</td>\n",
       "      <td>0.456476</td>\n",
       "      <td>0.343485</td>\n",
       "      <td>0.074563</td>\n",
       "      <td>0.377228</td>\n",
       "      <td>-0.033411</td>\n",
       "      <td>0.660797</td>\n",
       "      <td>...</td>\n",
       "      <td>0.158920</td>\n",
       "      <td>0.224556</td>\n",
       "      <td>0.314846</td>\n",
       "      <td>1.055639</td>\n",
       "      <td>0.560171</td>\n",
       "      <td>0.469580</td>\n",
       "      <td>0.011075</td>\n",
       "      <td>0.647965</td>\n",
       "      <td>0.419682</td>\n",
       "      <td>0.495468</td>\n",
       "    </tr>\n",
       "    <tr>\n",
       "      <th>4</th>\n",
       "      <td>Automotores</td>\n",
       "      <td>39</td>\n",
       "      <td>ZURICH ASEGURADORA</td>\n",
       "      <td>2012-3</td>\n",
       "      <td>0.175903</td>\n",
       "      <td>0.079151</td>\n",
       "      <td>0.146605</td>\n",
       "      <td>0.323177</td>\n",
       "      <td>-0.021645</td>\n",
       "      <td>0.668201</td>\n",
       "      <td>...</td>\n",
       "      <td>0.133935</td>\n",
       "      <td>0.300690</td>\n",
       "      <td>0.123949</td>\n",
       "      <td>1.034134</td>\n",
       "      <td>0.524101</td>\n",
       "      <td>0.557524</td>\n",
       "      <td>0.000000</td>\n",
       "      <td>7.553690</td>\n",
       "      <td>0.461257</td>\n",
       "      <td>0.510034</td>\n",
       "    </tr>\n",
       "  </tbody>\n",
       "</table>\n",
       "<p>5 rows × 46 columns</p>\n",
       "</div>"
      ],
      "text/plain": [
       "      Segmento  Cod Cia   DenominacionCorta periodo    ind_01    ind_02  \\\n",
       "0  Automotores        2                 SMG  2012-3  0.146803  0.139001   \n",
       "1  Automotores       25                SURA  2012-3  0.169161  0.023642   \n",
       "2  Automotores       32              BOSTON  2012-3  0.598821  0.120864   \n",
       "3  Automotores       36             ALLIANZ  2012-3  0.456476  0.343485   \n",
       "4  Automotores       39  ZURICH ASEGURADORA  2012-3  0.175903  0.079151   \n",
       "\n",
       "     ind_03    ind_04    ind_05    ind_06    ...       ind_34    ind_35  \\\n",
       "0  0.032215  0.361734 -0.014188  0.804980    ...     0.149917  0.279136   \n",
       "1  0.049949  0.426382 -0.014267  0.868305    ...     0.203650  0.204828   \n",
       "2  0.167596  0.560279 -0.021333  0.709601    ...     0.202446  0.206838   \n",
       "3  0.074563  0.377228 -0.033411  0.660797    ...     0.158920  0.224556   \n",
       "4  0.146605  0.323177 -0.021645  0.668201    ...     0.133935  0.300690   \n",
       "\n",
       "     ind_36    ind_37    ind_38    ind_39    ind_40     ind_41    ind_42  \\\n",
       "0  0.193382  1.128130  0.654247  0.715473  0.000000   0.591843  0.421782   \n",
       "1  0.106757  0.992870  0.515578  0.509842  0.000000  10.852803  0.454467   \n",
       "2  0.300986  1.063682  0.576307  0.507125  0.000000   1.788726  0.366989   \n",
       "3  0.314846  1.055639  0.560171  0.469580  0.011075   0.647965  0.419682   \n",
       "4  0.123949  1.034134  0.524101  0.557524  0.000000   7.553690  0.461257   \n",
       "\n",
       "     ind_43  \n",
       "0  0.473884  \n",
       "1  0.477293  \n",
       "2  0.487375  \n",
       "3  0.495468  \n",
       "4  0.510034  \n",
       "\n",
       "[5 rows x 46 columns]"
      ]
     },
     "execution_count": 5,
     "metadata": {},
     "output_type": "execute_result"
    }
   ],
   "source": [
    "matriz.head()"
   ]
  },
  {
   "cell_type": "code",
   "execution_count": 6,
   "metadata": {},
   "outputs": [],
   "source": [
    "# Quito indicadores que no se calculan para AUTOMOTORES (26, 33, 40)\n",
    "# Quito Siniestralidad Neta y dejo Bruta ind_38\n",
    "\n",
    "indicadores = matriz[['periodo','ind_01',\n",
    "       'ind_02', 'ind_03', 'ind_04', 'ind_05', 'ind_06', 'ind_08', 'ind_09',\n",
    "       'ind_10', 'ind_11', 'ind_12', 'ind_13', 'ind_14', 'ind_15', 'ind_16',\n",
    "       'ind_17', 'ind_18', 'ind_19', 'ind_20', 'ind_21', 'ind_22', 'ind_23',\n",
    "       'ind_24', 'ind_25', 'ind_27', 'ind_28', 'ind_29', 'ind_30',\n",
    "       'ind_31', 'ind_32', 'ind_34', 'ind_35', 'ind_36', 'ind_37',\n",
    "       'ind_38', 'ind_39', 'ind_41', 'ind_42', 'ind_43']].copy()\n",
    "cias = matriz[['Cod Cia', 'DenominacionCorta']].copy()"
   ]
  },
  {
   "cell_type": "code",
   "execution_count": 7,
   "metadata": {},
   "outputs": [],
   "source": [
    "#indicadores['año'] = pd.DatetimeIndex(indicadores['periodo']).year\n",
    "#ind_new = indicadores.drop(indicadores[indicadores['año'] < 2018].index).copy()\n",
    "#ind_new = ind_new.drop({'periodo', 'año'},1)\n",
    "\n",
    "ind_new = indicadores.drop(indicadores[indicadores['periodo'] != '2019-1'].index).copy()\n",
    "ind_new = ind_new.drop({'periodo'},1)"
   ]
  },
  {
   "cell_type": "code",
   "execution_count": 8,
   "metadata": {},
   "outputs": [
    {
     "data": {
      "text/html": [
       "<div>\n",
       "<style scoped>\n",
       "    .dataframe tbody tr th:only-of-type {\n",
       "        vertical-align: middle;\n",
       "    }\n",
       "\n",
       "    .dataframe tbody tr th {\n",
       "        vertical-align: top;\n",
       "    }\n",
       "\n",
       "    .dataframe thead th {\n",
       "        text-align: right;\n",
       "    }\n",
       "</style>\n",
       "<table border=\"1\" class=\"dataframe\">\n",
       "  <thead>\n",
       "    <tr style=\"text-align: right;\">\n",
       "      <th></th>\n",
       "      <th>ind_01</th>\n",
       "      <th>ind_02</th>\n",
       "      <th>ind_03</th>\n",
       "      <th>ind_04</th>\n",
       "      <th>ind_05</th>\n",
       "      <th>ind_06</th>\n",
       "      <th>ind_08</th>\n",
       "      <th>ind_09</th>\n",
       "      <th>ind_10</th>\n",
       "      <th>ind_11</th>\n",
       "      <th>...</th>\n",
       "      <th>ind_31</th>\n",
       "      <th>ind_32</th>\n",
       "      <th>ind_34</th>\n",
       "      <th>ind_35</th>\n",
       "      <th>ind_36</th>\n",
       "      <th>ind_37</th>\n",
       "      <th>ind_39</th>\n",
       "      <th>ind_41</th>\n",
       "      <th>ind_42</th>\n",
       "      <th>ind_43</th>\n",
       "    </tr>\n",
       "  </thead>\n",
       "  <tbody>\n",
       "    <tr>\n",
       "      <th>1236</th>\n",
       "      <td>0.127998</td>\n",
       "      <td>0.068868</td>\n",
       "      <td>0.008017</td>\n",
       "      <td>0.250613</td>\n",
       "      <td>-0.041707</td>\n",
       "      <td>0.850515</td>\n",
       "      <td>0.000000</td>\n",
       "      <td>0.251997</td>\n",
       "      <td>0.000000</td>\n",
       "      <td>0.053436</td>\n",
       "      <td>...</td>\n",
       "      <td>-0.273583</td>\n",
       "      <td>2.094664</td>\n",
       "      <td>0.098712</td>\n",
       "      <td>0.264410</td>\n",
       "      <td>0.318644</td>\n",
       "      <td>1.339742</td>\n",
       "      <td>0.722917</td>\n",
       "      <td>7.592231</td>\n",
       "      <td>0.424091</td>\n",
       "      <td>0.516130</td>\n",
       "    </tr>\n",
       "    <tr>\n",
       "      <th>1237</th>\n",
       "      <td>0.120786</td>\n",
       "      <td>0.001630</td>\n",
       "      <td>0.009827</td>\n",
       "      <td>0.329481</td>\n",
       "      <td>-0.013960</td>\n",
       "      <td>0.890365</td>\n",
       "      <td>0.000000</td>\n",
       "      <td>0.516701</td>\n",
       "      <td>0.001633</td>\n",
       "      <td>0.299972</td>\n",
       "      <td>...</td>\n",
       "      <td>-0.324494</td>\n",
       "      <td>1.840537</td>\n",
       "      <td>0.197024</td>\n",
       "      <td>0.282912</td>\n",
       "      <td>0.137426</td>\n",
       "      <td>1.169053</td>\n",
       "      <td>0.582556</td>\n",
       "      <td>12.497957</td>\n",
       "      <td>0.544630</td>\n",
       "      <td>0.592098</td>\n",
       "    </tr>\n",
       "    <tr>\n",
       "      <th>1238</th>\n",
       "      <td>0.168989</td>\n",
       "      <td>0.040879</td>\n",
       "      <td>0.008567</td>\n",
       "      <td>0.270366</td>\n",
       "      <td>-0.056446</td>\n",
       "      <td>0.895406</td>\n",
       "      <td>0.349806</td>\n",
       "      <td>0.112400</td>\n",
       "      <td>0.000000</td>\n",
       "      <td>0.000000</td>\n",
       "      <td>...</td>\n",
       "      <td>-0.212182</td>\n",
       "      <td>2.085051</td>\n",
       "      <td>0.303832</td>\n",
       "      <td>0.209175</td>\n",
       "      <td>0.154141</td>\n",
       "      <td>1.221646</td>\n",
       "      <td>0.613158</td>\n",
       "      <td>9.748229</td>\n",
       "      <td>0.534830</td>\n",
       "      <td>0.597376</td>\n",
       "    </tr>\n",
       "    <tr>\n",
       "      <th>1239</th>\n",
       "      <td>0.229970</td>\n",
       "      <td>0.062346</td>\n",
       "      <td>0.009422</td>\n",
       "      <td>0.267534</td>\n",
       "      <td>-0.018883</td>\n",
       "      <td>0.852689</td>\n",
       "      <td>0.332760</td>\n",
       "      <td>0.447060</td>\n",
       "      <td>0.097786</td>\n",
       "      <td>0.071428</td>\n",
       "      <td>...</td>\n",
       "      <td>-0.212940</td>\n",
       "      <td>2.491094</td>\n",
       "      <td>0.150541</td>\n",
       "      <td>0.186966</td>\n",
       "      <td>0.344065</td>\n",
       "      <td>1.331397</td>\n",
       "      <td>0.841229</td>\n",
       "      <td>14.842976</td>\n",
       "      <td>0.383124</td>\n",
       "      <td>0.438548</td>\n",
       "    </tr>\n",
       "    <tr>\n",
       "      <th>1240</th>\n",
       "      <td>0.128802</td>\n",
       "      <td>0.019470</td>\n",
       "      <td>0.043907</td>\n",
       "      <td>0.224814</td>\n",
       "      <td>-0.023404</td>\n",
       "      <td>0.831285</td>\n",
       "      <td>0.384425</td>\n",
       "      <td>0.562162</td>\n",
       "      <td>0.001025</td>\n",
       "      <td>0.162020</td>\n",
       "      <td>...</td>\n",
       "      <td>-0.287437</td>\n",
       "      <td>1.575852</td>\n",
       "      <td>0.251481</td>\n",
       "      <td>0.171756</td>\n",
       "      <td>0.100725</td>\n",
       "      <td>0.993827</td>\n",
       "      <td>0.573082</td>\n",
       "      <td>10.504171</td>\n",
       "      <td>0.433718</td>\n",
       "      <td>0.475602</td>\n",
       "    </tr>\n",
       "  </tbody>\n",
       "</table>\n",
       "<p>5 rows × 38 columns</p>\n",
       "</div>"
      ],
      "text/plain": [
       "        ind_01    ind_02    ind_03    ind_04    ind_05    ind_06    ind_08  \\\n",
       "1236  0.127998  0.068868  0.008017  0.250613 -0.041707  0.850515  0.000000   \n",
       "1237  0.120786  0.001630  0.009827  0.329481 -0.013960  0.890365  0.000000   \n",
       "1238  0.168989  0.040879  0.008567  0.270366 -0.056446  0.895406  0.349806   \n",
       "1239  0.229970  0.062346  0.009422  0.267534 -0.018883  0.852689  0.332760   \n",
       "1240  0.128802  0.019470  0.043907  0.224814 -0.023404  0.831285  0.384425   \n",
       "\n",
       "        ind_09    ind_10    ind_11    ...       ind_31    ind_32    ind_34  \\\n",
       "1236  0.251997  0.000000  0.053436    ...    -0.273583  2.094664  0.098712   \n",
       "1237  0.516701  0.001633  0.299972    ...    -0.324494  1.840537  0.197024   \n",
       "1238  0.112400  0.000000  0.000000    ...    -0.212182  2.085051  0.303832   \n",
       "1239  0.447060  0.097786  0.071428    ...    -0.212940  2.491094  0.150541   \n",
       "1240  0.562162  0.001025  0.162020    ...    -0.287437  1.575852  0.251481   \n",
       "\n",
       "        ind_35    ind_36    ind_37    ind_39     ind_41    ind_42    ind_43  \n",
       "1236  0.264410  0.318644  1.339742  0.722917   7.592231  0.424091  0.516130  \n",
       "1237  0.282912  0.137426  1.169053  0.582556  12.497957  0.544630  0.592098  \n",
       "1238  0.209175  0.154141  1.221646  0.613158   9.748229  0.534830  0.597376  \n",
       "1239  0.186966  0.344065  1.331397  0.841229  14.842976  0.383124  0.438548  \n",
       "1240  0.171756  0.100725  0.993827  0.573082  10.504171  0.433718  0.475602  \n",
       "\n",
       "[5 rows x 38 columns]"
      ]
     },
     "execution_count": 8,
     "metadata": {},
     "output_type": "execute_result"
    }
   ],
   "source": [
    "ind_new.head()"
   ]
  },
  {
   "cell_type": "code",
   "execution_count": 9,
   "metadata": {},
   "outputs": [],
   "source": [
    "feature_cols = ind_new.loc[:,ind_new.columns !='ind_19'].columns"
   ]
  },
  {
   "cell_type": "code",
   "execution_count": 10,
   "metadata": {},
   "outputs": [
    {
     "data": {
      "text/plain": [
       "Index(['ind_01', 'ind_02', 'ind_03', 'ind_04', 'ind_05', 'ind_06', 'ind_08',\n",
       "       'ind_09', 'ind_10', 'ind_11', 'ind_12', 'ind_13', 'ind_14', 'ind_15',\n",
       "       'ind_16', 'ind_17', 'ind_18', 'ind_20', 'ind_21', 'ind_22', 'ind_23',\n",
       "       'ind_24', 'ind_25', 'ind_27', 'ind_28', 'ind_29', 'ind_30', 'ind_31',\n",
       "       'ind_32', 'ind_34', 'ind_35', 'ind_36', 'ind_37', 'ind_39', 'ind_41',\n",
       "       'ind_42', 'ind_43'],\n",
       "      dtype='object')"
      ]
     },
     "execution_count": 10,
     "metadata": {},
     "output_type": "execute_result"
    }
   ],
   "source": [
    "feature_cols"
   ]
  },
  {
   "cell_type": "code",
   "execution_count": 11,
   "metadata": {},
   "outputs": [],
   "source": [
    "X = ind_new[feature_cols]\n",
    "Y = ind_new['ind_19']"
   ]
  },
  {
   "cell_type": "code",
   "execution_count": 12,
   "metadata": {},
   "outputs": [],
   "source": [
    "estimator = SVR(kernel='linear')\n",
    "selector = RFE(estimator, 3, step=1)\n",
    "selector = selector.fit(X,Y)"
   ]
  },
  {
   "cell_type": "code",
   "execution_count": 13,
   "metadata": {},
   "outputs": [
    {
     "data": {
      "text/html": [
       "<div>\n",
       "<style scoped>\n",
       "    .dataframe tbody tr th:only-of-type {\n",
       "        vertical-align: middle;\n",
       "    }\n",
       "\n",
       "    .dataframe tbody tr th {\n",
       "        vertical-align: top;\n",
       "    }\n",
       "\n",
       "    .dataframe thead th {\n",
       "        text-align: right;\n",
       "    }\n",
       "</style>\n",
       "<table border=\"1\" class=\"dataframe\">\n",
       "  <thead>\n",
       "    <tr style=\"text-align: right;\">\n",
       "      <th></th>\n",
       "      <th>indicador</th>\n",
       "      <th>selec</th>\n",
       "    </tr>\n",
       "  </thead>\n",
       "  <tbody>\n",
       "    <tr>\n",
       "      <th>26</th>\n",
       "      <td>ind_30</td>\n",
       "      <td>True</td>\n",
       "    </tr>\n",
       "    <tr>\n",
       "      <th>30</th>\n",
       "      <td>ind_35</td>\n",
       "      <td>True</td>\n",
       "    </tr>\n",
       "    <tr>\n",
       "      <th>36</th>\n",
       "      <td>ind_43</td>\n",
       "      <td>True</td>\n",
       "    </tr>\n",
       "  </tbody>\n",
       "</table>\n",
       "</div>"
      ],
      "text/plain": [
       "   indicador  selec\n",
       "26    ind_30   True\n",
       "30    ind_35   True\n",
       "36    ind_43   True"
      ]
     },
     "execution_count": 13,
     "metadata": {},
     "output_type": "execute_result"
    }
   ],
   "source": [
    "ind_selec = pd.DataFrame(feature_cols)\n",
    "ind_selec['selec'] = selector.support_\n",
    "ind_selec = ind_selec[ind_selec['selec']==True]\n",
    "ind_selec = ind_selec.rename(columns = {0:'indicador'})\n",
    "ind_selec"
   ]
  },
  {
   "cell_type": "code",
   "execution_count": 15,
   "metadata": {
    "scrolled": true
   },
   "outputs": [
    {
     "data": {
      "text/html": [
       "<div>\n",
       "<style scoped>\n",
       "    .dataframe tbody tr th:only-of-type {\n",
       "        vertical-align: middle;\n",
       "    }\n",
       "\n",
       "    .dataframe tbody tr th {\n",
       "        vertical-align: top;\n",
       "    }\n",
       "\n",
       "    .dataframe thead th {\n",
       "        text-align: right;\n",
       "    }\n",
       "</style>\n",
       "<table border=\"1\" class=\"dataframe\">\n",
       "  <thead>\n",
       "    <tr style=\"text-align: right;\">\n",
       "      <th></th>\n",
       "      <th>indicador</th>\n",
       "      <th>selec</th>\n",
       "    </tr>\n",
       "  </thead>\n",
       "  <tbody>\n",
       "    <tr>\n",
       "      <th>36</th>\n",
       "      <td>ind_43</td>\n",
       "      <td>1</td>\n",
       "    </tr>\n",
       "    <tr>\n",
       "      <th>30</th>\n",
       "      <td>ind_35</td>\n",
       "      <td>1</td>\n",
       "    </tr>\n",
       "    <tr>\n",
       "      <th>26</th>\n",
       "      <td>ind_30</td>\n",
       "      <td>1</td>\n",
       "    </tr>\n",
       "    <tr>\n",
       "      <th>35</th>\n",
       "      <td>ind_42</td>\n",
       "      <td>2</td>\n",
       "    </tr>\n",
       "    <tr>\n",
       "      <th>32</th>\n",
       "      <td>ind_37</td>\n",
       "      <td>3</td>\n",
       "    </tr>\n",
       "    <tr>\n",
       "      <th>33</th>\n",
       "      <td>ind_39</td>\n",
       "      <td>4</td>\n",
       "    </tr>\n",
       "    <tr>\n",
       "      <th>23</th>\n",
       "      <td>ind_27</td>\n",
       "      <td>5</td>\n",
       "    </tr>\n",
       "    <tr>\n",
       "      <th>24</th>\n",
       "      <td>ind_28</td>\n",
       "      <td>6</td>\n",
       "    </tr>\n",
       "    <tr>\n",
       "      <th>0</th>\n",
       "      <td>ind_01</td>\n",
       "      <td>7</td>\n",
       "    </tr>\n",
       "    <tr>\n",
       "      <th>5</th>\n",
       "      <td>ind_06</td>\n",
       "      <td>8</td>\n",
       "    </tr>\n",
       "    <tr>\n",
       "      <th>27</th>\n",
       "      <td>ind_31</td>\n",
       "      <td>9</td>\n",
       "    </tr>\n",
       "    <tr>\n",
       "      <th>4</th>\n",
       "      <td>ind_05</td>\n",
       "      <td>10</td>\n",
       "    </tr>\n",
       "    <tr>\n",
       "      <th>9</th>\n",
       "      <td>ind_11</td>\n",
       "      <td>11</td>\n",
       "    </tr>\n",
       "    <tr>\n",
       "      <th>1</th>\n",
       "      <td>ind_02</td>\n",
       "      <td>12</td>\n",
       "    </tr>\n",
       "    <tr>\n",
       "      <th>17</th>\n",
       "      <td>ind_20</td>\n",
       "      <td>13</td>\n",
       "    </tr>\n",
       "    <tr>\n",
       "      <th>7</th>\n",
       "      <td>ind_09</td>\n",
       "      <td>14</td>\n",
       "    </tr>\n",
       "    <tr>\n",
       "      <th>29</th>\n",
       "      <td>ind_34</td>\n",
       "      <td>15</td>\n",
       "    </tr>\n",
       "    <tr>\n",
       "      <th>15</th>\n",
       "      <td>ind_17</td>\n",
       "      <td>16</td>\n",
       "    </tr>\n",
       "    <tr>\n",
       "      <th>21</th>\n",
       "      <td>ind_24</td>\n",
       "      <td>17</td>\n",
       "    </tr>\n",
       "    <tr>\n",
       "      <th>20</th>\n",
       "      <td>ind_23</td>\n",
       "      <td>18</td>\n",
       "    </tr>\n",
       "    <tr>\n",
       "      <th>22</th>\n",
       "      <td>ind_25</td>\n",
       "      <td>19</td>\n",
       "    </tr>\n",
       "    <tr>\n",
       "      <th>2</th>\n",
       "      <td>ind_03</td>\n",
       "      <td>20</td>\n",
       "    </tr>\n",
       "    <tr>\n",
       "      <th>8</th>\n",
       "      <td>ind_10</td>\n",
       "      <td>21</td>\n",
       "    </tr>\n",
       "    <tr>\n",
       "      <th>6</th>\n",
       "      <td>ind_08</td>\n",
       "      <td>22</td>\n",
       "    </tr>\n",
       "    <tr>\n",
       "      <th>10</th>\n",
       "      <td>ind_12</td>\n",
       "      <td>23</td>\n",
       "    </tr>\n",
       "    <tr>\n",
       "      <th>31</th>\n",
       "      <td>ind_36</td>\n",
       "      <td>24</td>\n",
       "    </tr>\n",
       "    <tr>\n",
       "      <th>28</th>\n",
       "      <td>ind_32</td>\n",
       "      <td>25</td>\n",
       "    </tr>\n",
       "    <tr>\n",
       "      <th>25</th>\n",
       "      <td>ind_29</td>\n",
       "      <td>26</td>\n",
       "    </tr>\n",
       "    <tr>\n",
       "      <th>18</th>\n",
       "      <td>ind_21</td>\n",
       "      <td>27</td>\n",
       "    </tr>\n",
       "    <tr>\n",
       "      <th>16</th>\n",
       "      <td>ind_18</td>\n",
       "      <td>28</td>\n",
       "    </tr>\n",
       "    <tr>\n",
       "      <th>14</th>\n",
       "      <td>ind_16</td>\n",
       "      <td>29</td>\n",
       "    </tr>\n",
       "    <tr>\n",
       "      <th>12</th>\n",
       "      <td>ind_14</td>\n",
       "      <td>30</td>\n",
       "    </tr>\n",
       "    <tr>\n",
       "      <th>3</th>\n",
       "      <td>ind_04</td>\n",
       "      <td>31</td>\n",
       "    </tr>\n",
       "    <tr>\n",
       "      <th>19</th>\n",
       "      <td>ind_22</td>\n",
       "      <td>32</td>\n",
       "    </tr>\n",
       "    <tr>\n",
       "      <th>11</th>\n",
       "      <td>ind_13</td>\n",
       "      <td>33</td>\n",
       "    </tr>\n",
       "    <tr>\n",
       "      <th>13</th>\n",
       "      <td>ind_15</td>\n",
       "      <td>34</td>\n",
       "    </tr>\n",
       "    <tr>\n",
       "      <th>34</th>\n",
       "      <td>ind_41</td>\n",
       "      <td>35</td>\n",
       "    </tr>\n",
       "  </tbody>\n",
       "</table>\n",
       "</div>"
      ],
      "text/plain": [
       "   indicador  selec\n",
       "36    ind_43      1\n",
       "30    ind_35      1\n",
       "26    ind_30      1\n",
       "35    ind_42      2\n",
       "32    ind_37      3\n",
       "33    ind_39      4\n",
       "23    ind_27      5\n",
       "24    ind_28      6\n",
       "0     ind_01      7\n",
       "5     ind_06      8\n",
       "27    ind_31      9\n",
       "4     ind_05     10\n",
       "9     ind_11     11\n",
       "1     ind_02     12\n",
       "17    ind_20     13\n",
       "7     ind_09     14\n",
       "29    ind_34     15\n",
       "15    ind_17     16\n",
       "21    ind_24     17\n",
       "20    ind_23     18\n",
       "22    ind_25     19\n",
       "2     ind_03     20\n",
       "8     ind_10     21\n",
       "6     ind_08     22\n",
       "10    ind_12     23\n",
       "31    ind_36     24\n",
       "28    ind_32     25\n",
       "25    ind_29     26\n",
       "18    ind_21     27\n",
       "16    ind_18     28\n",
       "14    ind_16     29\n",
       "12    ind_14     30\n",
       "3     ind_04     31\n",
       "19    ind_22     32\n",
       "11    ind_13     33\n",
       "13    ind_15     34\n",
       "34    ind_41     35"
      ]
     },
     "execution_count": 15,
     "metadata": {},
     "output_type": "execute_result"
    }
   ],
   "source": [
    "rank_selec = pd.DataFrame(feature_cols)\n",
    "rank_selec['selec'] = selector.ranking_\n",
    "rank_selec = rank_selec.sort_values(['selec'])\n",
    "rank_selec=rank_selec.rename(columns = {0:'indicador'})\n",
    "rank_selec"
   ]
  },
  {
   "cell_type": "code",
   "execution_count": 16,
   "metadata": {},
   "outputs": [
    {
     "data": {
      "text/plain": [
       "array([ 7, 12, 20, 31, 10,  8, 22, 14, 21, 11, 23, 33, 30, 34, 29, 16, 28,\n",
       "       13, 27, 32, 18, 17, 19,  5,  6, 26,  1,  9, 25, 15,  1, 24,  3,  4,\n",
       "       35,  2,  1])"
      ]
     },
     "execution_count": 16,
     "metadata": {},
     "output_type": "execute_result"
    }
   ],
   "source": [
    "selector.ranking_"
   ]
  },
  {
   "cell_type": "code",
   "execution_count": 17,
   "metadata": {},
   "outputs": [],
   "source": [
    "X_pred = X[['ind_43', 'ind_30', 'ind_39', 'ind_27']]"
   ]
  },
  {
   "cell_type": "code",
   "execution_count": 18,
   "metadata": {},
   "outputs": [
    {
     "data": {
      "text/plain": [
       "LinearRegression(copy_X=True, fit_intercept=True, n_jobs=1, normalize=False)"
      ]
     },
     "execution_count": 18,
     "metadata": {},
     "output_type": "execute_result"
    }
   ],
   "source": [
    "lm = LinearRegression()\n",
    "lm.fit(X_pred, Y)"
   ]
  },
  {
   "cell_type": "code",
   "execution_count": 19,
   "metadata": {},
   "outputs": [
    {
     "name": "stdout",
     "output_type": "stream",
     "text": [
      "intecep 0.9674629004905531\n"
     ]
    }
   ],
   "source": [
    "print('intecep', lm.intercept_)"
   ]
  },
  {
   "cell_type": "code",
   "execution_count": 20,
   "metadata": {},
   "outputs": [
    {
     "data": {
      "text/plain": [
       "[('ind_01', -0.03239446021243338),\n",
       " ('ind_02', -0.9605318485552633),\n",
       " ('ind_03', -0.032855960794116276),\n",
       " ('ind_04', -0.6480317009022181)]"
      ]
     },
     "execution_count": 20,
     "metadata": {},
     "output_type": "execute_result"
    }
   ],
   "source": [
    "list(zip(feature_cols, lm.coef_))"
   ]
  },
  {
   "cell_type": "code",
   "execution_count": 21,
   "metadata": {},
   "outputs": [
    {
     "data": {
      "text/plain": [
       "0.9614749012541862"
      ]
     },
     "execution_count": 21,
     "metadata": {},
     "output_type": "execute_result"
    }
   ],
   "source": [
    "lm.score(X_pred, Y)"
   ]
  },
  {
   "cell_type": "code",
   "execution_count": 43,
   "metadata": {},
   "outputs": [],
   "source": [
    "ind_new['prediction'] = lm.predict(pd.DataFrame(ind_new[X_pred.columns]))"
   ]
  },
  {
   "cell_type": "code",
   "execution_count": 45,
   "metadata": {},
   "outputs": [
    {
     "data": {
      "text/html": [
       "<div>\n",
       "<style scoped>\n",
       "    .dataframe tbody tr th:only-of-type {\n",
       "        vertical-align: middle;\n",
       "    }\n",
       "\n",
       "    .dataframe tbody tr th {\n",
       "        vertical-align: top;\n",
       "    }\n",
       "\n",
       "    .dataframe thead th {\n",
       "        text-align: right;\n",
       "    }\n",
       "</style>\n",
       "<table border=\"1\" class=\"dataframe\">\n",
       "  <thead>\n",
       "    <tr style=\"text-align: right;\">\n",
       "      <th></th>\n",
       "      <th>ind_19</th>\n",
       "      <th>prediction</th>\n",
       "    </tr>\n",
       "  </thead>\n",
       "  <tbody>\n",
       "    <tr>\n",
       "      <th>1236</th>\n",
       "      <td>-0.338360</td>\n",
       "      <td>-0.338360</td>\n",
       "    </tr>\n",
       "    <tr>\n",
       "      <th>1237</th>\n",
       "      <td>-0.168796</td>\n",
       "      <td>-0.168796</td>\n",
       "    </tr>\n",
       "    <tr>\n",
       "      <th>1238</th>\n",
       "      <td>-0.221152</td>\n",
       "      <td>-0.221152</td>\n",
       "    </tr>\n",
       "    <tr>\n",
       "      <th>1239</th>\n",
       "      <td>-0.337169</td>\n",
       "      <td>-0.337169</td>\n",
       "    </tr>\n",
       "    <tr>\n",
       "      <th>1240</th>\n",
       "      <td>0.005379</td>\n",
       "      <td>0.005379</td>\n",
       "    </tr>\n",
       "  </tbody>\n",
       "</table>\n",
       "</div>"
      ],
      "text/plain": [
       "        ind_19  prediction\n",
       "1236 -0.338360   -0.338360\n",
       "1237 -0.168796   -0.168796\n",
       "1238 -0.221152   -0.221152\n",
       "1239 -0.337169   -0.337169\n",
       "1240  0.005379    0.005379"
      ]
     },
     "execution_count": 45,
     "metadata": {},
     "output_type": "execute_result"
    }
   ],
   "source": [
    "ind_new[['ind_19', 'prediction']].head()"
   ]
  },
  {
   "cell_type": "code",
   "execution_count": 97,
   "metadata": {},
   "outputs": [
    {
     "data": {
      "text/plain": [
       "1.7282002156477225"
      ]
     },
     "execution_count": 97,
     "metadata": {},
     "output_type": "execute_result"
    }
   ],
   "source": [
    "SSD = np.sum((ind_new['prediction'] - ind_new['ind_04'])**2)\n",
    "SSD"
   ]
  },
  {
   "cell_type": "code",
   "execution_count": 98,
   "metadata": {},
   "outputs": [
    {
     "data": {
      "text/plain": [
       "0.079130240643074501"
      ]
     },
     "execution_count": 98,
     "metadata": {},
     "output_type": "execute_result"
    }
   ],
   "source": [
    "#RSE = np.sqrt(SSD/len(ind_new)-len(X_pred.columns)-1)\n",
    "RSE = np.sqrt(SSD/len(ind_new))\n",
    "RSE "
   ]
  },
  {
   "cell_type": "code",
   "execution_count": 99,
   "metadata": {},
   "outputs": [
    {
     "data": {
      "text/plain": [
       "0.2375845734316616"
      ]
     },
     "execution_count": 99,
     "metadata": {},
     "output_type": "execute_result"
    }
   ],
   "source": [
    "ind_04_mean = np.mean(ind_new['ind_04'])\n",
    "ind_04_mean"
   ]
  },
  {
   "cell_type": "code",
   "execution_count": 100,
   "metadata": {},
   "outputs": [
    {
     "name": "stdout",
     "output_type": "stream",
     "text": [
      "33.3061357899 %\n"
     ]
    }
   ],
   "source": [
    "error = RSE / ind_04_mean\n",
    "print(error*100, '%')"
   ]
  },
  {
   "cell_type": "markdown",
   "metadata": {},
   "source": [
    "TRANSFORMACIÓN DE VARIABLES PARA CONSEGUIR UNA RELACIÓN NO LINEAL"
   ]
  },
  {
   "cell_type": "code",
   "execution_count": 119,
   "metadata": {},
   "outputs": [],
   "source": [
    "X = pd.DataFrame(ind_new['ind_16'].fillna(ind_new['ind_16'].mean()))\n",
    "Y = pd.DataFrame(ind_new['ind_04'].fillna(ind_new['ind_04'].mean()))"
   ]
  },
  {
   "cell_type": "code",
   "execution_count": 120,
   "metadata": {},
   "outputs": [
    {
     "data": {
      "text/plain": [
       "[<matplotlib.lines.Line2D at 0x1b7aae8c748>]"
      ]
     },
     "execution_count": 120,
     "metadata": {},
     "output_type": "execute_result"
    },
    {
     "data": {
      "image/png": "[encoded data removed]",
      "text/plain": [
       "<matplotlib.figure.Figure at 0x1b7ab0a2240>"
      ]
     },
     "metadata": {},
     "output_type": "display_data"
    }
   ],
   "source": [
    "plt.plot(X, Y, 'ro')"
   ]
  },
  {
   "cell_type": "code",
   "execution_count": 121,
   "metadata": {},
   "outputs": [
    {
     "data": {
      "text/plain": [
       "LinearRegression(copy_X=True, fit_intercept=True, n_jobs=1, normalize=False)"
      ]
     },
     "execution_count": 121,
     "metadata": {},
     "output_type": "execute_result"
    }
   ],
   "source": [
    "lm =  LinearRegression()\n",
    "lm.fit(X,Y)"
   ]
  },
  {
   "cell_type": "code",
   "execution_count": 123,
   "metadata": {},
   "outputs": [
    {
     "data": {
      "text/plain": [
       "[<matplotlib.lines.Line2D at 0x1b7aada47b8>]"
      ]
     },
     "execution_count": 123,
     "metadata": {},
     "output_type": "execute_result"
    },
    {
     "data": {
      "image/png": "[encoded data removed]",
      "text/plain": [
       "<matplotlib.figure.Figure at 0x1b7aada4780>"
      ]
     },
     "metadata": {},
     "output_type": "display_data"
    }
   ],
   "source": [
    "plt.plot(X,Y, 'ro')\n",
    "plt.plot(X, lm.predict(X), color='blue')"
   ]
  },
  {
   "cell_type": "code",
   "execution_count": 125,
   "metadata": {
    "collapsed": true
   },
   "outputs": [],
   "source": [
    "# Contunuar"
   ]
  },
  {
   "cell_type": "code",
   "execution_count": null,
   "metadata": {
    "collapsed": true
   },
   "outputs": [],
   "source": []
  }
 ],
 "metadata": {
  "kernelspec": {
   "display_name": "Python 3",
   "language": "python",
   "name": "python3"
  },
  "language_info": {
   "codemirror_mode": {
    "name": "ipython",
    "version": 3
   },
   "file_extension": ".py",
   "mimetype": "text/x-python",
   "name": "python",
   "nbconvert_exporter": "python",
   "pygments_lexer": "ipython3",
   "version": "3.7.0"
  }
 },
 "nbformat": 4,
 "nbformat_minor": 2
}
