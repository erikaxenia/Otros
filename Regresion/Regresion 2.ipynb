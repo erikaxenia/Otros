{
 "cells": [
  {
   "cell_type": "markdown",
   "metadata": {},
   "source": [
    "### Regresión Matriz de indicadores"
   ]
  },
  {
   "cell_type": "markdown",
   "metadata": {},
   "source": [
    "REGRESION MULTIPLE"
   ]
  },
  {
   "cell_type": "code",
   "execution_count": 7,
   "metadata": {},
   "outputs": [],
   "source": [
    "import numpy as np\n",
    "import scipy as sp\n",
    "import pandas as pd\n",
    "import matplotlib.pyplot as plt\n",
    "import seaborn as sns\n",
    "import statsmodels.formula.api as smf\n",
    "from sklearn.feature_selection import RFE\n",
    "from sklearn.svm import SVR\n",
    "from sklearn.linear_model import LinearRegression\n",
    "from sklearn.cross_validation import train_test_split\n",
    "from sklearn import metrics\n",
    "\n",
    "%matplotlib inline\n",
    "\n",
    "#https://www.udemy.com/course/machinelearningpython/learn/lecture/9725454#overview  #Dummyes"
   ]
  },
  {
   "cell_type": "code",
   "execution_count": 8,
   "metadata": {},
   "outputs": [],
   "source": [
    "matriz=pd.read_excel(r'C:\\Users\\eangenello\\Desktop\\Indicadores Matriz de Riesgo (1).xlsx')"
   ]
  },
  {
   "cell_type": "code",
   "execution_count": 9,
   "metadata": {},
   "outputs": [],
   "source": [
    "matriz= matriz.fillna(0)"
   ]
  },
  {
   "cell_type": "code",
   "execution_count": 10,
   "metadata": {},
   "outputs": [
    {
     "data": {
      "text/plain": [
       "Index(['Segmento', 'Cod Cia', 'DenominacionCorta', 'periodo', 'ind_01',\n",
       "       'ind_02', 'ind_03', 'ind_04', 'ind_05', 'ind_06', 'ind_08', 'ind_09',\n",
       "       'ind_10', 'ind_11', 'ind_12', 'ind_13', 'ind_14', 'ind_15', 'ind_16',\n",
       "       'ind_17', 'ind_18', 'ind_19', 'ind_20', 'ind_21', 'ind_22', 'ind_23',\n",
       "       'ind_24', 'ind_25', 'ind_26', 'ind_27', 'ind_28', 'ind_29', 'ind_30',\n",
       "       'ind_31', 'ind_32', 'ind_33', 'ind_34', 'ind_35', 'ind_36', 'ind_37',\n",
       "       'ind_38', 'ind_39', 'ind_40', 'ind_41', 'ind_42', 'ind_43'],\n",
       "      dtype='object')"
      ]
     },
     "execution_count": 10,
     "metadata": {},
     "output_type": "execute_result"
    }
   ],
   "source": [
    "matriz.columns"
   ]
  },
  {
   "cell_type": "code",
   "execution_count": 11,
   "metadata": {},
   "outputs": [
    {
     "data": {
      "text/html": [
       "<div>\n",
       "<style scoped>\n",
       "    .dataframe tbody tr th:only-of-type {\n",
       "        vertical-align: middle;\n",
       "    }\n",
       "\n",
       "    .dataframe tbody tr th {\n",
       "        vertical-align: top;\n",
       "    }\n",
       "\n",
       "    .dataframe thead th {\n",
       "        text-align: right;\n",
       "    }\n",
       "</style>\n",
       "<table border=\"1\" class=\"dataframe\">\n",
       "  <thead>\n",
       "    <tr style=\"text-align: right;\">\n",
       "      <th></th>\n",
       "      <th>Segmento</th>\n",
       "      <th>Cod Cia</th>\n",
       "      <th>DenominacionCorta</th>\n",
       "      <th>periodo</th>\n",
       "      <th>ind_01</th>\n",
       "      <th>ind_02</th>\n",
       "      <th>ind_03</th>\n",
       "      <th>ind_04</th>\n",
       "      <th>ind_05</th>\n",
       "      <th>ind_06</th>\n",
       "      <th>...</th>\n",
       "      <th>ind_34</th>\n",
       "      <th>ind_35</th>\n",
       "      <th>ind_36</th>\n",
       "      <th>ind_37</th>\n",
       "      <th>ind_38</th>\n",
       "      <th>ind_39</th>\n",
       "      <th>ind_40</th>\n",
       "      <th>ind_41</th>\n",
       "      <th>ind_42</th>\n",
       "      <th>ind_43</th>\n",
       "    </tr>\n",
       "  </thead>\n",
       "  <tbody>\n",
       "    <tr>\n",
       "      <th>0</th>\n",
       "      <td>Automotores</td>\n",
       "      <td>2</td>\n",
       "      <td>SMG</td>\n",
       "      <td>2012-3</td>\n",
       "      <td>0.146803</td>\n",
       "      <td>0.139001</td>\n",
       "      <td>0.032215</td>\n",
       "      <td>0.361734</td>\n",
       "      <td>-0.014188</td>\n",
       "      <td>0.804980</td>\n",
       "      <td>...</td>\n",
       "      <td>0.149917</td>\n",
       "      <td>0.279136</td>\n",
       "      <td>0.193382</td>\n",
       "      <td>1.128130</td>\n",
       "      <td>0.654247</td>\n",
       "      <td>0.715473</td>\n",
       "      <td>0.000000</td>\n",
       "      <td>0.591843</td>\n",
       "      <td>0.421782</td>\n",
       "      <td>0.473884</td>\n",
       "    </tr>\n",
       "    <tr>\n",
       "      <th>1</th>\n",
       "      <td>Automotores</td>\n",
       "      <td>25</td>\n",
       "      <td>SURA</td>\n",
       "      <td>2012-3</td>\n",
       "      <td>0.169161</td>\n",
       "      <td>0.023642</td>\n",
       "      <td>0.049949</td>\n",
       "      <td>0.426382</td>\n",
       "      <td>-0.014267</td>\n",
       "      <td>0.868305</td>\n",
       "      <td>...</td>\n",
       "      <td>0.203650</td>\n",
       "      <td>0.204828</td>\n",
       "      <td>0.106757</td>\n",
       "      <td>0.992870</td>\n",
       "      <td>0.515578</td>\n",
       "      <td>0.509842</td>\n",
       "      <td>0.000000</td>\n",
       "      <td>10.852803</td>\n",
       "      <td>0.454467</td>\n",
       "      <td>0.477293</td>\n",
       "    </tr>\n",
       "    <tr>\n",
       "      <th>2</th>\n",
       "      <td>Automotores</td>\n",
       "      <td>32</td>\n",
       "      <td>BOSTON</td>\n",
       "      <td>2012-3</td>\n",
       "      <td>0.598821</td>\n",
       "      <td>0.120864</td>\n",
       "      <td>0.167596</td>\n",
       "      <td>0.560279</td>\n",
       "      <td>-0.021333</td>\n",
       "      <td>0.709601</td>\n",
       "      <td>...</td>\n",
       "      <td>0.202446</td>\n",
       "      <td>0.206838</td>\n",
       "      <td>0.300986</td>\n",
       "      <td>1.063682</td>\n",
       "      <td>0.576307</td>\n",
       "      <td>0.507125</td>\n",
       "      <td>0.000000</td>\n",
       "      <td>1.788726</td>\n",
       "      <td>0.366989</td>\n",
       "      <td>0.487375</td>\n",
       "    </tr>\n",
       "    <tr>\n",
       "      <th>3</th>\n",
       "      <td>Automotores</td>\n",
       "      <td>36</td>\n",
       "      <td>ALLIANZ</td>\n",
       "      <td>2012-3</td>\n",
       "      <td>0.456476</td>\n",
       "      <td>0.343485</td>\n",
       "      <td>0.074563</td>\n",
       "      <td>0.377228</td>\n",
       "      <td>-0.033411</td>\n",
       "      <td>0.660797</td>\n",
       "      <td>...</td>\n",
       "      <td>0.158920</td>\n",
       "      <td>0.224556</td>\n",
       "      <td>0.314846</td>\n",
       "      <td>1.055639</td>\n",
       "      <td>0.560171</td>\n",
       "      <td>0.469580</td>\n",
       "      <td>0.011075</td>\n",
       "      <td>0.647965</td>\n",
       "      <td>0.419682</td>\n",
       "      <td>0.495468</td>\n",
       "    </tr>\n",
       "    <tr>\n",
       "      <th>4</th>\n",
       "      <td>Automotores</td>\n",
       "      <td>39</td>\n",
       "      <td>ZURICH ASEGURADORA</td>\n",
       "      <td>2012-3</td>\n",
       "      <td>0.175903</td>\n",
       "      <td>0.079151</td>\n",
       "      <td>0.146605</td>\n",
       "      <td>0.323177</td>\n",
       "      <td>-0.021645</td>\n",
       "      <td>0.668201</td>\n",
       "      <td>...</td>\n",
       "      <td>0.133935</td>\n",
       "      <td>0.300690</td>\n",
       "      <td>0.123949</td>\n",
       "      <td>1.034134</td>\n",
       "      <td>0.524101</td>\n",
       "      <td>0.557524</td>\n",
       "      <td>0.000000</td>\n",
       "      <td>7.553690</td>\n",
       "      <td>0.461257</td>\n",
       "      <td>0.510034</td>\n",
       "    </tr>\n",
       "  </tbody>\n",
       "</table>\n",
       "<p>5 rows × 46 columns</p>\n",
       "</div>"
      ],
      "text/plain": [
       "      Segmento  Cod Cia   DenominacionCorta periodo    ind_01    ind_02  \\\n",
       "0  Automotores        2                 SMG  2012-3  0.146803  0.139001   \n",
       "1  Automotores       25                SURA  2012-3  0.169161  0.023642   \n",
       "2  Automotores       32              BOSTON  2012-3  0.598821  0.120864   \n",
       "3  Automotores       36             ALLIANZ  2012-3  0.456476  0.343485   \n",
       "4  Automotores       39  ZURICH ASEGURADORA  2012-3  0.175903  0.079151   \n",
       "\n",
       "     ind_03    ind_04    ind_05    ind_06    ...       ind_34    ind_35  \\\n",
       "0  0.032215  0.361734 -0.014188  0.804980    ...     0.149917  0.279136   \n",
       "1  0.049949  0.426382 -0.014267  0.868305    ...     0.203650  0.204828   \n",
       "2  0.167596  0.560279 -0.021333  0.709601    ...     0.202446  0.206838   \n",
       "3  0.074563  0.377228 -0.033411  0.660797    ...     0.158920  0.224556   \n",
       "4  0.146605  0.323177 -0.021645  0.668201    ...     0.133935  0.300690   \n",
       "\n",
       "     ind_36    ind_37    ind_38    ind_39    ind_40     ind_41    ind_42  \\\n",
       "0  0.193382  1.128130  0.654247  0.715473  0.000000   0.591843  0.421782   \n",
       "1  0.106757  0.992870  0.515578  0.509842  0.000000  10.852803  0.454467   \n",
       "2  0.300986  1.063682  0.576307  0.507125  0.000000   1.788726  0.366989   \n",
       "3  0.314846  1.055639  0.560171  0.469580  0.011075   0.647965  0.419682   \n",
       "4  0.123949  1.034134  0.524101  0.557524  0.000000   7.553690  0.461257   \n",
       "\n",
       "     ind_43  \n",
       "0  0.473884  \n",
       "1  0.477293  \n",
       "2  0.487375  \n",
       "3  0.495468  \n",
       "4  0.510034  \n",
       "\n",
       "[5 rows x 46 columns]"
      ]
     },
     "execution_count": 11,
     "metadata": {},
     "output_type": "execute_result"
    }
   ],
   "source": [
    "matriz.head()"
   ]
  },
  {
   "cell_type": "code",
   "execution_count": 12,
   "metadata": {},
   "outputs": [],
   "source": [
    "indicadores = matriz[['periodo','ind_01',\n",
    "       'ind_02', 'ind_03', 'ind_04', 'ind_05', 'ind_06', 'ind_08', 'ind_09',\n",
    "       'ind_10', 'ind_11', 'ind_12', 'ind_13', 'ind_14', 'ind_15', 'ind_16',\n",
    "       'ind_17', 'ind_18', 'ind_19', 'ind_20', 'ind_21', 'ind_22', 'ind_23',\n",
    "       'ind_24', 'ind_25', 'ind_26', 'ind_27', 'ind_28', 'ind_29', 'ind_30',\n",
    "       'ind_31', 'ind_32', 'ind_33', 'ind_34', 'ind_35', 'ind_36', 'ind_37',\n",
    "       'ind_38', 'ind_39', 'ind_40', 'ind_41', 'ind_42', 'ind_43']].copy()\n",
    "cias = matriz[['Cod Cia', 'DenominacionCorta']].copy()"
   ]
  },
  {
   "cell_type": "code",
   "execution_count": 13,
   "metadata": {},
   "outputs": [],
   "source": [
    "#indicadores['año'] = pd.DatetimeIndex(indicadores['periodo']).year\n",
    "#ind_new = indicadores.drop(indicadores[indicadores['año'] < 2018].index).copy()\n",
    "#ind_new = ind_new.drop({'periodo', 'año'},1)\n",
    "\n",
    "ind_new = indicadores.drop(indicadores[indicadores['periodo'] != '2019-1'].index).copy()"
   ]
  },
  {
   "cell_type": "code",
   "execution_count": 14,
   "metadata": {},
   "outputs": [
    {
     "data": {
      "text/html": [
       "<div>\n",
       "<style scoped>\n",
       "    .dataframe tbody tr th:only-of-type {\n",
       "        vertical-align: middle;\n",
       "    }\n",
       "\n",
       "    .dataframe tbody tr th {\n",
       "        vertical-align: top;\n",
       "    }\n",
       "\n",
       "    .dataframe thead th {\n",
       "        text-align: right;\n",
       "    }\n",
       "</style>\n",
       "<table border=\"1\" class=\"dataframe\">\n",
       "  <thead>\n",
       "    <tr style=\"text-align: right;\">\n",
       "      <th></th>\n",
       "      <th>periodo</th>\n",
       "      <th>ind_01</th>\n",
       "      <th>ind_02</th>\n",
       "      <th>ind_03</th>\n",
       "      <th>ind_04</th>\n",
       "      <th>ind_05</th>\n",
       "      <th>ind_06</th>\n",
       "      <th>ind_08</th>\n",
       "      <th>ind_09</th>\n",
       "      <th>ind_10</th>\n",
       "      <th>...</th>\n",
       "      <th>ind_34</th>\n",
       "      <th>ind_35</th>\n",
       "      <th>ind_36</th>\n",
       "      <th>ind_37</th>\n",
       "      <th>ind_38</th>\n",
       "      <th>ind_39</th>\n",
       "      <th>ind_40</th>\n",
       "      <th>ind_41</th>\n",
       "      <th>ind_42</th>\n",
       "      <th>ind_43</th>\n",
       "    </tr>\n",
       "  </thead>\n",
       "  <tbody>\n",
       "    <tr>\n",
       "      <th>1236</th>\n",
       "      <td>2019-1</td>\n",
       "      <td>0.127998</td>\n",
       "      <td>0.068868</td>\n",
       "      <td>0.008017</td>\n",
       "      <td>0.250613</td>\n",
       "      <td>-0.041707</td>\n",
       "      <td>0.850515</td>\n",
       "      <td>0.000000</td>\n",
       "      <td>0.251997</td>\n",
       "      <td>0.000000</td>\n",
       "      <td>...</td>\n",
       "      <td>0.098712</td>\n",
       "      <td>0.264410</td>\n",
       "      <td>0.318644</td>\n",
       "      <td>1.339742</td>\n",
       "      <td>0.823612</td>\n",
       "      <td>0.722917</td>\n",
       "      <td>0.00000</td>\n",
       "      <td>7.592231</td>\n",
       "      <td>0.424091</td>\n",
       "      <td>0.516130</td>\n",
       "    </tr>\n",
       "    <tr>\n",
       "      <th>1237</th>\n",
       "      <td>2019-1</td>\n",
       "      <td>0.120786</td>\n",
       "      <td>0.001630</td>\n",
       "      <td>0.009827</td>\n",
       "      <td>0.329481</td>\n",
       "      <td>-0.013960</td>\n",
       "      <td>0.890365</td>\n",
       "      <td>0.000000</td>\n",
       "      <td>0.516701</td>\n",
       "      <td>0.001633</td>\n",
       "      <td>...</td>\n",
       "      <td>0.197024</td>\n",
       "      <td>0.282912</td>\n",
       "      <td>0.137426</td>\n",
       "      <td>1.169053</td>\n",
       "      <td>0.576955</td>\n",
       "      <td>0.582556</td>\n",
       "      <td>0.00000</td>\n",
       "      <td>12.497957</td>\n",
       "      <td>0.544630</td>\n",
       "      <td>0.592098</td>\n",
       "    </tr>\n",
       "    <tr>\n",
       "      <th>1238</th>\n",
       "      <td>2019-1</td>\n",
       "      <td>0.168989</td>\n",
       "      <td>0.040879</td>\n",
       "      <td>0.008567</td>\n",
       "      <td>0.270366</td>\n",
       "      <td>-0.056446</td>\n",
       "      <td>0.895406</td>\n",
       "      <td>0.349806</td>\n",
       "      <td>0.112400</td>\n",
       "      <td>0.000000</td>\n",
       "      <td>...</td>\n",
       "      <td>0.303832</td>\n",
       "      <td>0.209175</td>\n",
       "      <td>0.154141</td>\n",
       "      <td>1.221646</td>\n",
       "      <td>0.624270</td>\n",
       "      <td>0.613158</td>\n",
       "      <td>0.00000</td>\n",
       "      <td>9.748229</td>\n",
       "      <td>0.534830</td>\n",
       "      <td>0.597376</td>\n",
       "    </tr>\n",
       "    <tr>\n",
       "      <th>1239</th>\n",
       "      <td>2019-1</td>\n",
       "      <td>0.229970</td>\n",
       "      <td>0.062346</td>\n",
       "      <td>0.009422</td>\n",
       "      <td>0.267534</td>\n",
       "      <td>-0.018883</td>\n",
       "      <td>0.852689</td>\n",
       "      <td>0.332760</td>\n",
       "      <td>0.447060</td>\n",
       "      <td>0.097786</td>\n",
       "      <td>...</td>\n",
       "      <td>0.150541</td>\n",
       "      <td>0.186966</td>\n",
       "      <td>0.344065</td>\n",
       "      <td>1.331397</td>\n",
       "      <td>0.892850</td>\n",
       "      <td>0.841229</td>\n",
       "      <td>0.16785</td>\n",
       "      <td>14.842976</td>\n",
       "      <td>0.383124</td>\n",
       "      <td>0.438548</td>\n",
       "    </tr>\n",
       "    <tr>\n",
       "      <th>1240</th>\n",
       "      <td>2019-1</td>\n",
       "      <td>0.128802</td>\n",
       "      <td>0.019470</td>\n",
       "      <td>0.043907</td>\n",
       "      <td>0.224814</td>\n",
       "      <td>-0.023404</td>\n",
       "      <td>0.831285</td>\n",
       "      <td>0.384425</td>\n",
       "      <td>0.562162</td>\n",
       "      <td>0.001025</td>\n",
       "      <td>...</td>\n",
       "      <td>0.251481</td>\n",
       "      <td>0.171756</td>\n",
       "      <td>0.100725</td>\n",
       "      <td>0.993827</td>\n",
       "      <td>0.518225</td>\n",
       "      <td>0.573082</td>\n",
       "      <td>0.00000</td>\n",
       "      <td>10.504171</td>\n",
       "      <td>0.433718</td>\n",
       "      <td>0.475602</td>\n",
       "    </tr>\n",
       "  </tbody>\n",
       "</table>\n",
       "<p>5 rows × 43 columns</p>\n",
       "</div>"
      ],
      "text/plain": [
       "     periodo    ind_01    ind_02    ind_03    ind_04    ind_05    ind_06  \\\n",
       "1236  2019-1  0.127998  0.068868  0.008017  0.250613 -0.041707  0.850515   \n",
       "1237  2019-1  0.120786  0.001630  0.009827  0.329481 -0.013960  0.890365   \n",
       "1238  2019-1  0.168989  0.040879  0.008567  0.270366 -0.056446  0.895406   \n",
       "1239  2019-1  0.229970  0.062346  0.009422  0.267534 -0.018883  0.852689   \n",
       "1240  2019-1  0.128802  0.019470  0.043907  0.224814 -0.023404  0.831285   \n",
       "\n",
       "        ind_08    ind_09    ind_10    ...       ind_34    ind_35    ind_36  \\\n",
       "1236  0.000000  0.251997  0.000000    ...     0.098712  0.264410  0.318644   \n",
       "1237  0.000000  0.516701  0.001633    ...     0.197024  0.282912  0.137426   \n",
       "1238  0.349806  0.112400  0.000000    ...     0.303832  0.209175  0.154141   \n",
       "1239  0.332760  0.447060  0.097786    ...     0.150541  0.186966  0.344065   \n",
       "1240  0.384425  0.562162  0.001025    ...     0.251481  0.171756  0.100725   \n",
       "\n",
       "        ind_37    ind_38    ind_39   ind_40     ind_41    ind_42    ind_43  \n",
       "1236  1.339742  0.823612  0.722917  0.00000   7.592231  0.424091  0.516130  \n",
       "1237  1.169053  0.576955  0.582556  0.00000  12.497957  0.544630  0.592098  \n",
       "1238  1.221646  0.624270  0.613158  0.00000   9.748229  0.534830  0.597376  \n",
       "1239  1.331397  0.892850  0.841229  0.16785  14.842976  0.383124  0.438548  \n",
       "1240  0.993827  0.518225  0.573082  0.00000  10.504171  0.433718  0.475602  \n",
       "\n",
       "[5 rows x 43 columns]"
      ]
     },
     "execution_count": 14,
     "metadata": {},
     "output_type": "execute_result"
    }
   ],
   "source": [
    "ind_new.head()"
   ]
  },
  {
   "cell_type": "code",
   "execution_count": 10,
   "metadata": {
    "collapsed": true
   },
   "outputs": [],
   "source": [
    "feature_cols=['ind_16', 'ind_35', 'ind_36', 'ind_20', 'ind_10']"
   ]
  },
  {
   "cell_type": "code",
   "execution_count": 11,
   "metadata": {
    "collapsed": true
   },
   "outputs": [],
   "source": [
    "X = ind_new[feature_cols]\n",
    "Y = ind_new['ind_04']"
   ]
  },
  {
   "cell_type": "code",
   "execution_count": 14,
   "metadata": {},
   "outputs": [],
   "source": [
    "X_train, X_test, Y_train, Y_test = train_test_split(X,Y, test_size=0.3 , random_state=0)"
   ]
  },
  {
   "cell_type": "code",
   "execution_count": 15,
   "metadata": {},
   "outputs": [
    {
     "data": {
      "text/plain": [
       "LinearRegression(copy_X=True, fit_intercept=True, n_jobs=1, normalize=False)"
      ]
     },
     "execution_count": 15,
     "metadata": {},
     "output_type": "execute_result"
    }
   ],
   "source": [
    "lm = LinearRegression()\n",
    "lm.fit(X_train, Y_train)"
   ]
  },
  {
   "cell_type": "code",
   "execution_count": 16,
   "metadata": {},
   "outputs": [
    {
     "name": "stdout",
     "output_type": "stream",
     "text": [
      "intecep 0.141596841098\n"
     ]
    }
   ],
   "source": [
    "print('intecep', lm.intercept_)"
   ]
  },
  {
   "cell_type": "code",
   "execution_count": 17,
   "metadata": {},
   "outputs": [
    {
     "data": {
      "text/plain": [
       "[('ind_16', 0.39500794843111686),\n",
       " ('ind_35', 0.26135795493153136),\n",
       " ('ind_36', 0.3809751350915947),\n",
       " ('ind_20', -0.1217720979075189),\n",
       " ('ind_10', -0.096745169254253749)]"
      ]
     },
     "execution_count": 17,
     "metadata": {},
     "output_type": "execute_result"
    }
   ],
   "source": [
    "list(zip(feature_cols, lm.coef_))"
   ]
  },
  {
   "cell_type": "code",
   "execution_count": null,
   "metadata": {
    "collapsed": true
   },
   "outputs": [],
   "source": [
    "lm.score(X_train, Y_train)"
   ]
  },
  {
   "cell_type": "code",
   "execution_count": 28,
   "metadata": {
    "collapsed": true
   },
   "outputs": [],
   "source": [
    "ind_new['prediction'] = lm.predict(pd.DataFrame(ind_new[X_test.columns]))"
   ]
  },
  {
   "cell_type": "code",
   "execution_count": 29,
   "metadata": {},
   "outputs": [
    {
     "data": {
      "text/html": [
       "<div>\n",
       "<style>\n",
       "    .dataframe thead tr:only-child th {\n",
       "        text-align: right;\n",
       "    }\n",
       "\n",
       "    .dataframe thead th {\n",
       "        text-align: left;\n",
       "    }\n",
       "\n",
       "    .dataframe tbody tr th {\n",
       "        vertical-align: top;\n",
       "    }\n",
       "</style>\n",
       "<table border=\"1\" class=\"dataframe\">\n",
       "  <thead>\n",
       "    <tr style=\"text-align: right;\">\n",
       "      <th></th>\n",
       "      <th>ind_04</th>\n",
       "      <th>prediction</th>\n",
       "    </tr>\n",
       "  </thead>\n",
       "  <tbody>\n",
       "    <tr>\n",
       "      <th>1052</th>\n",
       "      <td>0.280971</td>\n",
       "      <td>0.317100</td>\n",
       "    </tr>\n",
       "    <tr>\n",
       "      <th>1053</th>\n",
       "      <td>0.331144</td>\n",
       "      <td>0.235244</td>\n",
       "    </tr>\n",
       "    <tr>\n",
       "      <th>1054</th>\n",
       "      <td>0.245575</td>\n",
       "      <td>0.351794</td>\n",
       "    </tr>\n",
       "    <tr>\n",
       "      <th>1055</th>\n",
       "      <td>0.212797</td>\n",
       "      <td>0.286234</td>\n",
       "    </tr>\n",
       "    <tr>\n",
       "      <th>1056</th>\n",
       "      <td>0.255142</td>\n",
       "      <td>0.195657</td>\n",
       "    </tr>\n",
       "  </tbody>\n",
       "</table>\n",
       "</div>"
      ],
      "text/plain": [
       "        ind_04  prediction\n",
       "1052  0.280971    0.317100\n",
       "1053  0.331144    0.235244\n",
       "1054  0.245575    0.351794\n",
       "1055  0.212797    0.286234\n",
       "1056  0.255142    0.195657"
      ]
     },
     "execution_count": 29,
     "metadata": {},
     "output_type": "execute_result"
    }
   ],
   "source": [
    "ind_new[['ind_04', 'prediction']].head()"
   ]
  },
  {
   "cell_type": "code",
   "execution_count": 30,
   "metadata": {},
   "outputs": [
    {
     "data": {
      "text/plain": [
       "1.738685227966788"
      ]
     },
     "execution_count": 30,
     "metadata": {},
     "output_type": "execute_result"
    }
   ],
   "source": [
    "SSD = np.sum((ind_new['prediction'] - ind_new['ind_04'])**2)\n",
    "SSD"
   ]
  },
  {
   "cell_type": "code",
   "execution_count": 31,
   "metadata": {},
   "outputs": [
    {
     "data": {
      "text/plain": [
       "0.079369919738525349"
      ]
     },
     "execution_count": 31,
     "metadata": {},
     "output_type": "execute_result"
    }
   ],
   "source": [
    "#RSE = np.sqrt(SSD/len(ind_new)-len(X_pred.columns)-1)\n",
    "RSE = np.sqrt(SSD/len(ind_new))\n",
    "RSE "
   ]
  },
  {
   "cell_type": "code",
   "execution_count": 32,
   "metadata": {},
   "outputs": [
    {
     "data": {
      "text/plain": [
       "0.2375845734316616"
      ]
     },
     "execution_count": 32,
     "metadata": {},
     "output_type": "execute_result"
    }
   ],
   "source": [
    "ind_04_mean = np.mean(ind_new['ind_04'])\n",
    "ind_04_mean"
   ]
  },
  {
   "cell_type": "code",
   "execution_count": 33,
   "metadata": {},
   "outputs": [
    {
     "name": "stdout",
     "output_type": "stream",
     "text": [
      "33.40701738 %\n"
     ]
    }
   ],
   "source": [
    "error = RSE / ind_04_mean\n",
    "print(error*100, '%')"
   ]
  },
  {
   "cell_type": "code",
   "execution_count": null,
   "metadata": {
    "collapsed": true
   },
   "outputs": [],
   "source": [
    "#metrics.accuracy_score(Y_test, prediction)"
   ]
  }
 ],
 "metadata": {
  "kernelspec": {
   "display_name": "Python 3",
   "language": "python",
   "name": "python3"
  },
  "language_info": {
   "codemirror_mode": {
    "name": "ipython",
    "version": 3
   },
   "file_extension": ".py",
   "mimetype": "text/x-python",
   "name": "python",
   "nbconvert_exporter": "python",
   "pygments_lexer": "ipython3",
   "version": "3.7.0"
  }
 },
 "nbformat": 4,
 "nbformat_minor": 2
}
