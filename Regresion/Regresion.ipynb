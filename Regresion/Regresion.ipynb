{
 "cells": [
  {
   "cell_type": "markdown",
   "metadata": {},
   "source": [
    "### Regresión Matriz de indicadores"
   ]
  },
  {
   "cell_type": "markdown",
   "metadata": {},
   "source": [
    "REGRESION SIMPLE"
   ]
  },
  {
   "cell_type": "code",
   "execution_count": 74,
   "metadata": {},
   "outputs": [],
   "source": [
    "import numpy as np\n",
    "import scipy as sp\n",
    "import pandas as pd\n",
    "import matplotlib.pyplot as plt\n",
    "import seaborn as sns\n",
    "import statsmodels.formula.api as smf\n",
    "\n",
    "%matplotlib inline"
   ]
  },
  {
   "cell_type": "code",
   "execution_count": 75,
   "metadata": {},
   "outputs": [],
   "source": [
    "matriz = pd.read_excel(r'C:\\Users\\eangenello\\Desktop\\Indicadores Matriz de Riesgo (1).xlsx')"
   ]
  },
  {
   "cell_type": "code",
   "execution_count": 76,
   "metadata": {},
   "outputs": [],
   "source": [
    "matriz = matriz.fillna(0)"
   ]
  },
  {
   "cell_type": "code",
   "execution_count": 77,
   "metadata": {},
   "outputs": [],
   "source": [
    "# Quito indicadores que no se calculan para AUTOMOTORES (26, 33, 40)\n",
    "\n",
    "indicadores = matriz[['Cod Cia', 'DenominacionCorta','periodo','ind_01',\n",
    "       'ind_02', 'ind_03', 'ind_04', 'ind_05', 'ind_06', 'ind_08', 'ind_09',\n",
    "       'ind_10', 'ind_11', 'ind_12', 'ind_13', 'ind_14', 'ind_15', 'ind_16',\n",
    "       'ind_17', 'ind_18', 'ind_19', 'ind_20', 'ind_21', 'ind_22', 'ind_23',\n",
    "       'ind_24', 'ind_25', 'ind_27', 'ind_28', 'ind_29', 'ind_30',\n",
    "       'ind_31', 'ind_32', 'ind_34', 'ind_35', 'ind_36', 'ind_37',\n",
    "       'ind_38', 'ind_39', 'ind_41', 'ind_42', 'ind_43']].copy()"
   ]
  },
  {
   "cell_type": "code",
   "execution_count": 78,
   "metadata": {},
   "outputs": [],
   "source": [
    "ind_2019_1 = indicadores.drop(indicadores[indicadores['periodo'] != '2019-1'].index).copy()\n",
    "ind_2019_1 = ind_2019_1.drop({'periodo'},1)\n",
    "ind_2019_1 = ind_2019_1[(ind_2019_1['Cod Cia']!=389)&(ind_2019_1['Cod Cia']!=858)&(ind_2019_1['Cod Cia']!=241)]\n",
    "\n",
    "ind_2019_2 = indicadores.drop(indicadores[indicadores['periodo'] != '2019-2'].index).copy()\n",
    "ind_2019_2 = ind_2019_2.drop({'periodo'},1)"
   ]
  },
  {
   "cell_type": "code",
   "execution_count": 82,
   "metadata": {},
   "outputs": [
    {
     "name": "stdout",
     "output_type": "stream",
     "text": [
      "        ind_27 DenominacionCorta\n",
      "1245  0.242565           BERKLEY\n"
     ]
    }
   ],
   "source": [
    "Q1 =  ind_2019_1['ind_27'].quantile(0.25)\n",
    "Q3 = ind_2019_1['ind_27'].quantile(0.75)\n",
    "IQR1 = Q3 - Q1\n",
    "\n",
    "ind_2019_1_CM1=ind_2019_1[['ind_27','DenominacionCorta']].copy()\n",
    "ind_2019_1_CM1= ind_2019_1[(ind_2019_1['ind_27'] < Q1-1.5*IQR1 ) | (ind_2019_1['ind_27'] > Q3+1.5*IQR1)]\n",
    "print(ind_2019_1_CM1[['ind_27','DenominacionCorta']])"
   ]
  },
  {
   "cell_type": "code",
   "execution_count": 83,
   "metadata": {},
   "outputs": [
    {
     "name": "stderr",
     "output_type": "stream",
     "text": [
      "C:\\Users\\eangenello\\AppData\\Local\\Continuum\\anaconda3\\lib\\site-packages\\seaborn\\categorical.py:2775: UserWarning: The `split` parameter has been renamed to `dodge`.\n",
      "  warnings.warn(msg, UserWarning)\n"
     ]
    },
    {
     "data": {
      "image/png": "[encoded data removed]",
      "text/plain": [
       "<Figure size 432x648 with 1 Axes>"
      ]
     },
     "metadata": {},
     "output_type": "display_data"
    }
   ],
   "source": [
    "sns.set_style('white')\n",
    "pal=sns.color_palette('Paired')\n",
    "\n",
    "plt.rc(\"figure\", figsize=(6, 9))\n",
    "plt.title('Box Plot Indicadores', fontsize = 13)\n",
    "\n",
    "ax1 = sns.boxplot(data=ind_2019_1[['ind_19', 'ind_27']], palette=pal)\n",
    "ax2 = sns.stripplot(data=ind_2019_1[['ind_19', 'ind_27']], jitter=True, split=True, linewidth=0.5, palette=pal)\n",
    "plt.show()"
   ]
  },
  {
   "cell_type": "code",
   "execution_count": null,
   "metadata": {},
   "outputs": [],
   "source": []
  },
  {
   "cell_type": "code",
   "execution_count": 85,
   "metadata": {},
   "outputs": [],
   "source": [
    "lm = smf.ols(formula='ind_19~ind_27', data=ind_2019_1).fit()"
   ]
  },
  {
   "cell_type": "code",
   "execution_count": 86,
   "metadata": {},
   "outputs": [
    {
     "data": {
      "text/plain": [
       "Intercept   -0.225621\n",
       "ind_27       0.640155\n",
       "dtype: float64"
      ]
     },
     "execution_count": 86,
     "metadata": {},
     "output_type": "execute_result"
    }
   ],
   "source": [
    "lm.params"
   ]
  },
  {
   "cell_type": "code",
   "execution_count": 87,
   "metadata": {},
   "outputs": [
    {
     "data": {
      "text/plain": [
       "Intercept    2.465744e-11\n",
       "ind_27       3.832867e-02\n",
       "dtype: float64"
      ]
     },
     "execution_count": 87,
     "metadata": {},
     "output_type": "execute_result"
    }
   ],
   "source": [
    "lm.pvalues"
   ]
  },
  {
   "cell_type": "code",
   "execution_count": 88,
   "metadata": {},
   "outputs": [
    {
     "name": "stdout",
     "output_type": "stream",
     "text": [
      "0.10049945847054231\n",
      "0.07856042087226289\n"
     ]
    }
   ],
   "source": [
    "print(lm.rsquared)\n",
    "print(lm.rsquared_adj)"
   ]
  },
  {
   "cell_type": "code",
   "execution_count": 89,
   "metadata": {},
   "outputs": [
    {
     "data": {
      "text/html": [
       "<table class=\"simpletable\">\n",
       "<caption>OLS Regression Results</caption>\n",
       "<tr>\n",
       "  <th>Dep. Variable:</th>         <td>ind_19</td>      <th>  R-squared:         </th> <td>   0.100</td>\n",
       "</tr>\n",
       "<tr>\n",
       "  <th>Model:</th>                   <td>OLS</td>       <th>  Adj. R-squared:    </th> <td>   0.079</td>\n",
       "</tr>\n",
       "<tr>\n",
       "  <th>Method:</th>             <td>Least Squares</td>  <th>  F-statistic:       </th> <td>   4.581</td>\n",
       "</tr>\n",
       "<tr>\n",
       "  <th>Date:</th>             <td>Mon, 07 Oct 2019</td> <th>  Prob (F-statistic):</th>  <td>0.0383</td> \n",
       "</tr>\n",
       "<tr>\n",
       "  <th>Time:</th>                 <td>14:46:58</td>     <th>  Log-Likelihood:    </th> <td>  23.724</td>\n",
       "</tr>\n",
       "<tr>\n",
       "  <th>No. Observations:</th>      <td>    43</td>      <th>  AIC:               </th> <td>  -43.45</td>\n",
       "</tr>\n",
       "<tr>\n",
       "  <th>Df Residuals:</th>          <td>    41</td>      <th>  BIC:               </th> <td>  -39.93</td>\n",
       "</tr>\n",
       "<tr>\n",
       "  <th>Df Model:</th>              <td>     1</td>      <th>                     </th>     <td> </td>   \n",
       "</tr>\n",
       "<tr>\n",
       "  <th>Covariance Type:</th>      <td>nonrobust</td>    <th>                     </th>     <td> </td>   \n",
       "</tr>\n",
       "</table>\n",
       "<table class=\"simpletable\">\n",
       "<tr>\n",
       "      <td></td>         <th>coef</th>     <th>std err</th>      <th>t</th>      <th>P>|t|</th>  <th>[0.025</th>    <th>0.975]</th>  \n",
       "</tr>\n",
       "<tr>\n",
       "  <th>Intercept</th> <td>   -0.2256</td> <td>    0.025</td> <td>   -9.058</td> <td> 0.000</td> <td>   -0.276</td> <td>   -0.175</td>\n",
       "</tr>\n",
       "<tr>\n",
       "  <th>ind_27</th>    <td>    0.6402</td> <td>    0.299</td> <td>    2.140</td> <td> 0.038</td> <td>    0.036</td> <td>    1.244</td>\n",
       "</tr>\n",
       "</table>\n",
       "<table class=\"simpletable\">\n",
       "<tr>\n",
       "  <th>Omnibus:</th>       <td>20.652</td> <th>  Durbin-Watson:     </th> <td>   2.191</td>\n",
       "</tr>\n",
       "<tr>\n",
       "  <th>Prob(Omnibus):</th> <td> 0.000</td> <th>  Jarque-Bera (JB):  </th> <td>  33.139</td>\n",
       "</tr>\n",
       "<tr>\n",
       "  <th>Skew:</th>          <td>-1.386</td> <th>  Prob(JB):          </th> <td>6.37e-08</td>\n",
       "</tr>\n",
       "<tr>\n",
       "  <th>Kurtosis:</th>      <td> 6.289</td> <th>  Cond. No.          </th> <td>    13.8</td>\n",
       "</tr>\n",
       "</table><br/><br/>Warnings:<br/>[1] Standard Errors assume that the covariance matrix of the errors is correctly specified."
      ],
      "text/plain": [
       "<class 'statsmodels.iolib.summary.Summary'>\n",
       "\"\"\"\n",
       "                            OLS Regression Results                            \n",
       "==============================================================================\n",
       "Dep. Variable:                 ind_19   R-squared:                       0.100\n",
       "Model:                            OLS   Adj. R-squared:                  0.079\n",
       "Method:                 Least Squares   F-statistic:                     4.581\n",
       "Date:                Mon, 07 Oct 2019   Prob (F-statistic):             0.0383\n",
       "Time:                        14:46:58   Log-Likelihood:                 23.724\n",
       "No. Observations:                  43   AIC:                            -43.45\n",
       "Df Residuals:                      41   BIC:                            -39.93\n",
       "Df Model:                           1                                         \n",
       "Covariance Type:            nonrobust                                         \n",
       "==============================================================================\n",
       "                 coef    std err          t      P>|t|      [0.025      0.975]\n",
       "------------------------------------------------------------------------------\n",
       "Intercept     -0.2256      0.025     -9.058      0.000      -0.276      -0.175\n",
       "ind_27         0.6402      0.299      2.140      0.038       0.036       1.244\n",
       "==============================================================================\n",
       "Omnibus:                       20.652   Durbin-Watson:                   2.191\n",
       "Prob(Omnibus):                  0.000   Jarque-Bera (JB):               33.139\n",
       "Skew:                          -1.386   Prob(JB):                     6.37e-08\n",
       "Kurtosis:                       6.289   Cond. No.                         13.8\n",
       "==============================================================================\n",
       "\n",
       "Warnings:\n",
       "[1] Standard Errors assume that the covariance matrix of the errors is correctly specified.\n",
       "\"\"\""
      ]
     },
     "execution_count": 89,
     "metadata": {},
     "output_type": "execute_result"
    }
   ],
   "source": [
    "lm.summary()"
   ]
  },
  {
   "cell_type": "code",
   "execution_count": 91,
   "metadata": {},
   "outputs": [],
   "source": [
    "ind_19_pred = lm.predict(pd.DataFrame(ind_2019_1['ind_27']))"
   ]
  },
  {
   "cell_type": "code",
   "execution_count": 92,
   "metadata": {},
   "outputs": [
    {
     "data": {
      "text/plain": [
       "[<matplotlib.lines.Line2D at 0x18034e077f0>]"
      ]
     },
     "execution_count": 92,
     "metadata": {},
     "output_type": "execute_result"
    },
    {
     "data": {
      "image/png": "[encoded data removed]",
      "text/plain": [
       "<Figure size 432x648 with 1 Axes>"
      ]
     },
     "metadata": {},
     "output_type": "display_data"
    }
   ],
   "source": [
    "ind_2019_1.plot(kind = 'scatter', x='ind_27', y='ind_19')\n",
    "plt.plot(pd.DataFrame(ind_2019_1['ind_27']), ind_19_pred, c='red', linewidth = 2)"
   ]
  },
  {
   "cell_type": "code",
   "execution_count": 93,
   "metadata": {},
   "outputs": [],
   "source": [
    "# Agrego al dataset el cálculo del modelo línea a línea\n",
    "# Utilizo los betas que me salen de la regresión\n",
    "\n",
    "ind_2019_1['ind_19_pred']= lm.params[0] + lm.params[1] * ind_2019_1['ind_19']"
   ]
  },
  {
   "cell_type": "code",
   "execution_count": 94,
   "metadata": {},
   "outputs": [],
   "source": [
    "# Agrego al dataset el error standard residual\n",
    "\n",
    "ind_2019_1['RSE'] = (ind_2019_1['ind_19'] - ind_2019_1['ind_19_pred'])**2"
   ]
  },
  {
   "cell_type": "code",
   "execution_count": 95,
   "metadata": {},
   "outputs": [
    {
     "data": {
      "text/plain": [
       "1.1368762434415542"
      ]
     },
     "execution_count": 95,
     "metadata": {},
     "output_type": "execute_result"
    }
   ],
   "source": [
    "# Suma cuadrado de las diferencias\n",
    "\n",
    "SSD = sum(ind_2019_1['RSE'])\n",
    "SSD"
   ]
  },
  {
   "cell_type": "code",
   "execution_count": 106,
   "metadata": {},
   "outputs": [
    {
     "data": {
      "text/plain": [
       "0.16651933480658682"
      ]
     },
     "execution_count": 106,
     "metadata": {},
     "output_type": "execute_result"
    }
   ],
   "source": [
    "# Error estandard residual\n",
    "\n",
    "RSE = np.sqrt(SSD/(len(ind_2019_1)-2))\n",
    "RSE"
   ]
  },
  {
   "cell_type": "code",
   "execution_count": 107,
   "metadata": {},
   "outputs": [
    {
     "data": {
      "text/plain": [
       "0.19969311775143347"
      ]
     },
     "execution_count": 107,
     "metadata": {},
     "output_type": "execute_result"
    }
   ],
   "source": [
    "ind_19_mean = -np.mean(ind_2019_1['ind_19'])\n",
    "ind_19_mean "
   ]
  },
  {
   "cell_type": "code",
   "execution_count": 108,
   "metadata": {},
   "outputs": [
    {
     "data": {
      "text/plain": [
       "0.8338761830232954"
      ]
     },
     "execution_count": 108,
     "metadata": {},
     "output_type": "execute_result"
    }
   ],
   "source": [
    "# Error promedio\n",
    "\n",
    "error_prom = RSE/ind_19_mean \n",
    "error_prom "
   ]
  },
  {
   "cell_type": "code",
   "execution_count": 109,
   "metadata": {},
   "outputs": [
    {
     "data": {
      "text/plain": [
       "(array([ 2.,  0.,  0.,  0.,  1.,  6., 12.,  9.,  9.,  4.]),\n",
       " array([-0.03669591, -0.00941793,  0.01786005,  0.04513803,  0.072416  ,\n",
       "         0.09969398,  0.12697196,  0.15424994,  0.18152791,  0.20880589,\n",
       "         0.23608387]),\n",
       " <a list of 10 Patch objects>)"
      ]
     },
     "execution_count": 109,
     "metadata": {},
     "output_type": "execute_result"
    },
    {
     "data": {
      "image/png": "[encoded data removed]",
      "text/plain": [
       "<Figure size 360x360 with 1 Axes>"
      ]
     },
     "metadata": {},
     "output_type": "display_data"
    }
   ],
   "source": [
    "# Histograma de los errores: ¿Parece una normal?\n",
    "\n",
    "plt.rc(\"figure\", figsize=(5, 5))\n",
    "plt.hist((ind_2019_1['ind_19'] - ind_2019_1['ind_19_pred']))"
   ]
  },
  {
   "cell_type": "code",
   "execution_count": null,
   "metadata": {},
   "outputs": [],
   "source": []
  },
  {
   "cell_type": "code",
   "execution_count": null,
   "metadata": {},
   "outputs": [],
   "source": []
  },
  {
   "cell_type": "code",
   "execution_count": null,
   "metadata": {},
   "outputs": [],
   "source": []
  },
  {
   "cell_type": "markdown",
   "metadata": {
    "collapsed": true
   },
   "source": [
    "REGRESION MULTIPLE"
   ]
  },
  {
   "cell_type": "code",
   "execution_count": 24,
   "metadata": {},
   "outputs": [],
   "source": [
    "# Añado variables de a una\n",
    "\n",
    "lm2 = smf.ols('ind_04~ind_19+ind_20', data=ind_new).fit()"
   ]
  },
  {
   "cell_type": "code",
   "execution_count": 25,
   "metadata": {},
   "outputs": [
    {
     "data": {
      "text/plain": [
       "Intercept    0.241533\n",
       "ind_19      -0.039663\n",
       "ind_20      -0.174353\n",
       "dtype: float64"
      ]
     },
     "execution_count": 25,
     "metadata": {},
     "output_type": "execute_result"
    }
   ],
   "source": [
    "lm2.params"
   ]
  },
  {
   "cell_type": "code",
   "execution_count": 26,
   "metadata": {},
   "outputs": [
    {
     "data": {
      "text/plain": [
       "Intercept    3.224777e-94\n",
       "ind_19       5.605936e-05\n",
       "ind_20       3.253500e-10\n",
       "dtype: float64"
      ]
     },
     "execution_count": 26,
     "metadata": {},
     "output_type": "execute_result"
    }
   ],
   "source": [
    "lm2.pvalues"
   ]
  },
  {
   "cell_type": "code",
   "execution_count": 27,
   "metadata": {},
   "outputs": [
    {
     "data": {
      "text/plain": [
       "0.22872211235159412"
      ]
     },
     "execution_count": 27,
     "metadata": {},
     "output_type": "execute_result"
    }
   ],
   "source": [
    "lm2.rsquared"
   ]
  },
  {
   "cell_type": "code",
   "execution_count": 28,
   "metadata": {},
   "outputs": [
    {
     "data": {
      "text/plain": [
       "0.22307172489629445"
      ]
     },
     "execution_count": 28,
     "metadata": {},
     "output_type": "execute_result"
    }
   ],
   "source": [
    "lm2.rsquared_adj"
   ]
  },
  {
   "cell_type": "code",
   "execution_count": 31,
   "metadata": {
    "scrolled": true
   },
   "outputs": [
    {
     "data": {
      "text/plain": [
       "1052    0.238904\n",
       "1053    0.217282\n",
       "1054    0.225648\n",
       "1055    0.236747\n",
       "1056    0.190350\n",
       "1057    0.222387\n",
       "1058    0.270624\n",
       "1059    0.249856\n",
       "1060    0.219894\n",
       "1061    0.188361\n",
       "1062    0.197570\n",
       "1063    0.237642\n",
       "1064    0.248031\n",
       "1065    0.214128\n",
       "1066    0.244088\n",
       "1067    0.210984\n",
       "1068    0.196330\n",
       "1069    0.216158\n",
       "1070    0.198341\n",
       "1071    0.206263\n",
       "1072    0.252186\n",
       "1073    0.267029\n",
       "1074    0.344308\n",
       "1075    0.182681\n",
       "1076    0.255993\n",
       "1077    0.241428\n",
       "1078    0.254205\n",
       "1079    0.215364\n",
       "1080    0.214320\n",
       "1081    0.231915\n",
       "          ...   \n",
       "1298    0.207086\n",
       "1299    0.234614\n",
       "1300    0.215182\n",
       "1301    0.199563\n",
       "1302    0.244684\n",
       "1303    0.228171\n",
       "1304    0.393084\n",
       "1305    0.182360\n",
       "1306    0.205212\n",
       "1307    0.184177\n",
       "1308    0.176631\n",
       "1309    0.148280\n",
       "1310    0.191691\n",
       "1311    0.197132\n",
       "1312    0.207693\n",
       "1313    0.296943\n",
       "1314    0.175734\n",
       "1315    0.177082\n",
       "1316    0.243630\n",
       "1317    0.343140\n",
       "1318    0.242205\n",
       "1319    0.176152\n",
       "1320    0.229576\n",
       "1321    0.243229\n",
       "1322    0.171034\n",
       "1323    0.241395\n",
       "1324    0.138493\n",
       "1325    0.173163\n",
       "1326    0.185617\n",
       "1327    0.186489\n",
       "Length: 276, dtype: float64"
      ]
     },
     "execution_count": 31,
     "metadata": {},
     "output_type": "execute_result"
    }
   ],
   "source": [
    "ind_04_pred2 = lm2.predict(ind_new[['ind_19','ind_20']])\n",
    "ind_04_pred2"
   ]
  },
  {
   "cell_type": "code",
   "execution_count": 36,
   "metadata": {},
   "outputs": [
    {
     "data": {
      "text/plain": [
       "2.9447067717466471"
      ]
     },
     "execution_count": 36,
     "metadata": {},
     "output_type": "execute_result"
    }
   ],
   "source": [
    "# Agrego al dataset el error standard residual\n",
    "\n",
    "SSD1 = sum((ind_new['ind_04'] - ind_04_pred2)**2)\n",
    "SSD1"
   ]
  },
  {
   "cell_type": "code",
   "execution_count": 40,
   "metadata": {},
   "outputs": [
    {
     "data": {
      "text/plain": [
       "0.1038579399534752"
      ]
     },
     "execution_count": 40,
     "metadata": {},
     "output_type": "execute_result"
    }
   ],
   "source": [
    "RSE1 = np.sqrt(SSD1/(len(ind_new)-3))\n",
    "RSE1"
   ]
  },
  {
   "cell_type": "code",
   "execution_count": 43,
   "metadata": {},
   "outputs": [
    {
     "data": {
      "text/plain": [
       "0.43714092398069238"
      ]
     },
     "execution_count": 43,
     "metadata": {},
     "output_type": "execute_result"
    }
   ],
   "source": [
    "error1 = RSE1 / ind_04_mean \n",
    "error1"
   ]
  },
  {
   "cell_type": "code",
   "execution_count": 44,
   "metadata": {},
   "outputs": [
    {
     "data": {
      "text/html": [
       "<table class=\"simpletable\">\n",
       "<caption>OLS Regression Results</caption>\n",
       "<tr>\n",
       "  <th>Dep. Variable:</th>         <td>ind_04</td>      <th>  R-squared:         </th> <td>   0.229</td>\n",
       "</tr>\n",
       "<tr>\n",
       "  <th>Model:</th>                   <td>OLS</td>       <th>  Adj. R-squared:    </th> <td>   0.223</td>\n",
       "</tr>\n",
       "<tr>\n",
       "  <th>Method:</th>             <td>Least Squares</td>  <th>  F-statistic:       </th> <td>   40.48</td>\n",
       "</tr>\n",
       "<tr>\n",
       "  <th>Date:</th>             <td>Sun, 06 Oct 2019</td> <th>  Prob (F-statistic):</th> <td>4.02e-16</td>\n",
       "</tr>\n",
       "<tr>\n",
       "  <th>Time:</th>                 <td>14:33:23</td>     <th>  Log-Likelihood:    </th> <td>  234.95</td>\n",
       "</tr>\n",
       "<tr>\n",
       "  <th>No. Observations:</th>      <td>   276</td>      <th>  AIC:               </th> <td>  -463.9</td>\n",
       "</tr>\n",
       "<tr>\n",
       "  <th>Df Residuals:</th>          <td>   273</td>      <th>  BIC:               </th> <td>  -453.0</td>\n",
       "</tr>\n",
       "<tr>\n",
       "  <th>Df Model:</th>              <td>     2</td>      <th>                     </th>     <td> </td>   \n",
       "</tr>\n",
       "<tr>\n",
       "  <th>Covariance Type:</th>      <td>nonrobust</td>    <th>                     </th>     <td> </td>   \n",
       "</tr>\n",
       "</table>\n",
       "<table class=\"simpletable\">\n",
       "<tr>\n",
       "      <td></td>         <th>coef</th>     <th>std err</th>      <th>t</th>      <th>P>|t|</th>  <th>[0.025</th>    <th>0.975]</th>  \n",
       "</tr>\n",
       "<tr>\n",
       "  <th>Intercept</th> <td>    0.2415</td> <td>    0.008</td> <td>   31.947</td> <td> 0.000</td> <td>    0.227</td> <td>    0.256</td>\n",
       "</tr>\n",
       "<tr>\n",
       "  <th>ind_19</th>    <td>   -0.0397</td> <td>    0.010</td> <td>   -4.093</td> <td> 0.000</td> <td>   -0.059</td> <td>   -0.021</td>\n",
       "</tr>\n",
       "<tr>\n",
       "  <th>ind_20</th>    <td>   -0.1744</td> <td>    0.027</td> <td>   -6.527</td> <td> 0.000</td> <td>   -0.227</td> <td>   -0.122</td>\n",
       "</tr>\n",
       "</table>\n",
       "<table class=\"simpletable\">\n",
       "<tr>\n",
       "  <th>Omnibus:</th>       <td>25.327</td> <th>  Durbin-Watson:     </th> <td>   1.811</td>\n",
       "</tr>\n",
       "<tr>\n",
       "  <th>Prob(Omnibus):</th> <td> 0.000</td> <th>  Jarque-Bera (JB):  </th> <td>  52.806</td>\n",
       "</tr>\n",
       "<tr>\n",
       "  <th>Skew:</th>          <td> 0.470</td> <th>  Prob(JB):          </th> <td>3.41e-12</td>\n",
       "</tr>\n",
       "<tr>\n",
       "  <th>Kurtosis:</th>      <td> 4.926</td> <th>  Cond. No.          </th> <td>    4.65</td>\n",
       "</tr>\n",
       "</table>"
      ],
      "text/plain": [
       "<class 'statsmodels.iolib.summary.Summary'>\n",
       "\"\"\"\n",
       "                            OLS Regression Results                            \n",
       "==============================================================================\n",
       "Dep. Variable:                 ind_04   R-squared:                       0.229\n",
       "Model:                            OLS   Adj. R-squared:                  0.223\n",
       "Method:                 Least Squares   F-statistic:                     40.48\n",
       "Date:                Sun, 06 Oct 2019   Prob (F-statistic):           4.02e-16\n",
       "Time:                        14:33:23   Log-Likelihood:                 234.95\n",
       "No. Observations:                 276   AIC:                            -463.9\n",
       "Df Residuals:                     273   BIC:                            -453.0\n",
       "Df Model:                           2                                         \n",
       "Covariance Type:            nonrobust                                         \n",
       "==============================================================================\n",
       "                 coef    std err          t      P>|t|      [0.025      0.975]\n",
       "------------------------------------------------------------------------------\n",
       "Intercept      0.2415      0.008     31.947      0.000       0.227       0.256\n",
       "ind_19        -0.0397      0.010     -4.093      0.000      -0.059      -0.021\n",
       "ind_20        -0.1744      0.027     -6.527      0.000      -0.227      -0.122\n",
       "==============================================================================\n",
       "Omnibus:                       25.327   Durbin-Watson:                   1.811\n",
       "Prob(Omnibus):                  0.000   Jarque-Bera (JB):               52.806\n",
       "Skew:                           0.470   Prob(JB):                     3.41e-12\n",
       "Kurtosis:                       4.926   Cond. No.                         4.65\n",
       "==============================================================================\n",
       "\n",
       "Warnings:\n",
       "[1] Standard Errors assume that the covariance matrix of the errors is correctly specified.\n",
       "\"\"\""
      ]
     },
     "execution_count": 44,
     "metadata": {},
     "output_type": "execute_result"
    }
   ],
   "source": [
    "lm2.summary()"
   ]
  },
  {
   "cell_type": "code",
   "execution_count": 49,
   "metadata": {
    "collapsed": true
   },
   "outputs": [],
   "source": [
    "# Añado variables de a una\n",
    "\n",
    "lm3 = smf.ols('ind_04~ind_19+ind_20+ind_22', data=ind_new).fit()"
   ]
  },
  {
   "cell_type": "code",
   "execution_count": 50,
   "metadata": {},
   "outputs": [
    {
     "data": {
      "text/html": [
       "<table class=\"simpletable\">\n",
       "<caption>OLS Regression Results</caption>\n",
       "<tr>\n",
       "  <th>Dep. Variable:</th>         <td>ind_04</td>      <th>  R-squared:         </th> <td>   0.234</td>\n",
       "</tr>\n",
       "<tr>\n",
       "  <th>Model:</th>                   <td>OLS</td>       <th>  Adj. R-squared:    </th> <td>   0.225</td>\n",
       "</tr>\n",
       "<tr>\n",
       "  <th>Method:</th>             <td>Least Squares</td>  <th>  F-statistic:       </th> <td>   27.67</td>\n",
       "</tr>\n",
       "<tr>\n",
       "  <th>Date:</th>             <td>Sun, 06 Oct 2019</td> <th>  Prob (F-statistic):</th> <td>1.20e-15</td>\n",
       "</tr>\n",
       "<tr>\n",
       "  <th>Time:</th>                 <td>14:49:19</td>     <th>  Log-Likelihood:    </th> <td>  235.86</td>\n",
       "</tr>\n",
       "<tr>\n",
       "  <th>No. Observations:</th>      <td>   276</td>      <th>  AIC:               </th> <td>  -463.7</td>\n",
       "</tr>\n",
       "<tr>\n",
       "  <th>Df Residuals:</th>          <td>   272</td>      <th>  BIC:               </th> <td>  -449.2</td>\n",
       "</tr>\n",
       "<tr>\n",
       "  <th>Df Model:</th>              <td>     3</td>      <th>                     </th>     <td> </td>   \n",
       "</tr>\n",
       "<tr>\n",
       "  <th>Covariance Type:</th>      <td>nonrobust</td>    <th>                     </th>     <td> </td>   \n",
       "</tr>\n",
       "</table>\n",
       "<table class=\"simpletable\">\n",
       "<tr>\n",
       "      <td></td>         <th>coef</th>     <th>std err</th>      <th>t</th>      <th>P>|t|</th>  <th>[0.025</th>    <th>0.975]</th>  \n",
       "</tr>\n",
       "<tr>\n",
       "  <th>Intercept</th> <td>    0.2384</td> <td>    0.008</td> <td>   30.161</td> <td> 0.000</td> <td>    0.223</td> <td>    0.254</td>\n",
       "</tr>\n",
       "<tr>\n",
       "  <th>ind_19</th>    <td>   -0.0359</td> <td>    0.010</td> <td>   -3.564</td> <td> 0.000</td> <td>   -0.056</td> <td>   -0.016</td>\n",
       "</tr>\n",
       "<tr>\n",
       "  <th>ind_20</th>    <td>   -0.1798</td> <td>    0.027</td> <td>   -6.665</td> <td> 0.000</td> <td>   -0.233</td> <td>   -0.127</td>\n",
       "</tr>\n",
       "<tr>\n",
       "  <th>ind_22</th>    <td>    0.0043</td> <td>    0.003</td> <td>    1.347</td> <td> 0.179</td> <td>   -0.002</td> <td>    0.010</td>\n",
       "</tr>\n",
       "</table>\n",
       "<table class=\"simpletable\">\n",
       "<tr>\n",
       "  <th>Omnibus:</th>       <td>22.925</td> <th>  Durbin-Watson:     </th> <td>   1.816</td>\n",
       "</tr>\n",
       "<tr>\n",
       "  <th>Prob(Omnibus):</th> <td> 0.000</td> <th>  Jarque-Bera (JB):  </th> <td>  43.661</td>\n",
       "</tr>\n",
       "<tr>\n",
       "  <th>Skew:</th>          <td> 0.455</td> <th>  Prob(JB):          </th> <td>3.30e-10</td>\n",
       "</tr>\n",
       "<tr>\n",
       "  <th>Kurtosis:</th>      <td> 4.723</td> <th>  Cond. No.          </th> <td>    10.6</td>\n",
       "</tr>\n",
       "</table>"
      ],
      "text/plain": [
       "<class 'statsmodels.iolib.summary.Summary'>\n",
       "\"\"\"\n",
       "                            OLS Regression Results                            \n",
       "==============================================================================\n",
       "Dep. Variable:                 ind_04   R-squared:                       0.234\n",
       "Model:                            OLS   Adj. R-squared:                  0.225\n",
       "Method:                 Least Squares   F-statistic:                     27.67\n",
       "Date:                Sun, 06 Oct 2019   Prob (F-statistic):           1.20e-15\n",
       "Time:                        14:49:19   Log-Likelihood:                 235.86\n",
       "No. Observations:                 276   AIC:                            -463.7\n",
       "Df Residuals:                     272   BIC:                            -449.2\n",
       "Df Model:                           3                                         \n",
       "Covariance Type:            nonrobust                                         \n",
       "==============================================================================\n",
       "                 coef    std err          t      P>|t|      [0.025      0.975]\n",
       "------------------------------------------------------------------------------\n",
       "Intercept      0.2384      0.008     30.161      0.000       0.223       0.254\n",
       "ind_19        -0.0359      0.010     -3.564      0.000      -0.056      -0.016\n",
       "ind_20        -0.1798      0.027     -6.665      0.000      -0.233      -0.127\n",
       "ind_22         0.0043      0.003      1.347      0.179      -0.002       0.010\n",
       "==============================================================================\n",
       "Omnibus:                       22.925   Durbin-Watson:                   1.816\n",
       "Prob(Omnibus):                  0.000   Jarque-Bera (JB):               43.661\n",
       "Skew:                           0.455   Prob(JB):                     3.30e-10\n",
       "Kurtosis:                       4.723   Cond. No.                         10.6\n",
       "==============================================================================\n",
       "\n",
       "Warnings:\n",
       "[1] Standard Errors assume that the covariance matrix of the errors is correctly specified.\n",
       "\"\"\""
      ]
     },
     "execution_count": 50,
     "metadata": {},
     "output_type": "execute_result"
    }
   ],
   "source": [
    "lm3.summary()"
   ]
  },
  {
   "cell_type": "code",
   "execution_count": 51,
   "metadata": {},
   "outputs": [
    {
     "data": {
      "text/plain": [
       "Intercept    9.576712e-89\n",
       "ind_19       4.308595e-04\n",
       "ind_20       1.466476e-10\n",
       "ind_22       1.792111e-01\n",
       "dtype: float64"
      ]
     },
     "execution_count": 51,
     "metadata": {},
     "output_type": "execute_result"
    }
   ],
   "source": [
    "lm3.pvalues"
   ]
  },
  {
   "cell_type": "markdown",
   "metadata": {},
   "source": [
    "MULTICOLINEALIDAD"
   ]
  },
  {
   "cell_type": "code",
   "execution_count": 56,
   "metadata": {},
   "outputs": [
    {
     "data": {
      "text/html": [
       "<div>\n",
       "<style>\n",
       "    .dataframe thead tr:only-child th {\n",
       "        text-align: right;\n",
       "    }\n",
       "\n",
       "    .dataframe thead th {\n",
       "        text-align: left;\n",
       "    }\n",
       "\n",
       "    .dataframe tbody tr th {\n",
       "        vertical-align: top;\n",
       "    }\n",
       "</style>\n",
       "<table border=\"1\" class=\"dataframe\">\n",
       "  <thead>\n",
       "    <tr style=\"text-align: right;\">\n",
       "      <th></th>\n",
       "      <th>ind_04</th>\n",
       "      <th>ind_19</th>\n",
       "      <th>ind_20</th>\n",
       "      <th>ind_22</th>\n",
       "      <th>ind_36</th>\n",
       "    </tr>\n",
       "  </thead>\n",
       "  <tbody>\n",
       "    <tr>\n",
       "      <th>ind_04</th>\n",
       "      <td>1.000000</td>\n",
       "      <td>-0.329186</td>\n",
       "      <td>-0.425894</td>\n",
       "      <td>0.098641</td>\n",
       "      <td>0.210868</td>\n",
       "    </tr>\n",
       "    <tr>\n",
       "      <th>ind_19</th>\n",
       "      <td>-0.329186</td>\n",
       "      <td>1.000000</td>\n",
       "      <td>0.282954</td>\n",
       "      <td>-0.245654</td>\n",
       "      <td>0.078167</td>\n",
       "    </tr>\n",
       "    <tr>\n",
       "      <th>ind_20</th>\n",
       "      <td>-0.425894</td>\n",
       "      <td>0.282954</td>\n",
       "      <td>1.000000</td>\n",
       "      <td>0.070699</td>\n",
       "      <td>0.168137</td>\n",
       "    </tr>\n",
       "    <tr>\n",
       "      <th>ind_22</th>\n",
       "      <td>0.098641</td>\n",
       "      <td>-0.245654</td>\n",
       "      <td>0.070699</td>\n",
       "      <td>1.000000</td>\n",
       "      <td>0.022091</td>\n",
       "    </tr>\n",
       "    <tr>\n",
       "      <th>ind_36</th>\n",
       "      <td>0.210868</td>\n",
       "      <td>0.078167</td>\n",
       "      <td>0.168137</td>\n",
       "      <td>0.022091</td>\n",
       "      <td>1.000000</td>\n",
       "    </tr>\n",
       "  </tbody>\n",
       "</table>\n",
       "</div>"
      ],
      "text/plain": [
       "          ind_04    ind_19    ind_20    ind_22    ind_36\n",
       "ind_04  1.000000 -0.329186 -0.425894  0.098641  0.210868\n",
       "ind_19 -0.329186  1.000000  0.282954 -0.245654  0.078167\n",
       "ind_20 -0.425894  0.282954  1.000000  0.070699  0.168137\n",
       "ind_22  0.098641 -0.245654  0.070699  1.000000  0.022091\n",
       "ind_36  0.210868  0.078167  0.168137  0.022091  1.000000"
      ]
     },
     "execution_count": 56,
     "metadata": {},
     "output_type": "execute_result"
    }
   ],
   "source": [
    "ind_new[['ind_04', 'ind_19', 'ind_20', 'ind_22', 'ind_36']].corr()"
   ]
  },
  {
   "cell_type": "code",
   "execution_count": 54,
   "metadata": {},
   "outputs": [
    {
     "data": {
      "text/plain": [
       "<matplotlib.image.AxesImage at 0x231aef68898>"
      ]
     },
     "execution_count": 54,
     "metadata": {},
     "output_type": "execute_result"
    },
    {
     "data": {
      "image/png": "[encoded data removed]",
      "text/plain": [
       "<matplotlib.figure.Figure at 0x231aef77710>"
      ]
     },
     "metadata": {},
     "output_type": "display_data"
    }
   ],
   "source": [
    "plt.matshow(ind_new[['ind_04', 'ind_19', 'ind_20', 'ind_22', 'ind_36']].corr())"
   ]
  },
  {
   "cell_type": "markdown",
   "metadata": {},
   "source": [
    "#### Factor de Infación de la Varianza\n",
    "\n",
    "Para decidir con cuál de las variables correlacionadas me voy a quedar tengo que calcular VIF.\n",
    "\n",
    "VIF = 1 / (1-R^2)\n",
    "\n",
    "* VIF = 1 : Las variables no están correlacionadas\n",
    "* VIF < 5 : Las variables tienen una correlación moderada y se pueden quedar en el modelo\n",
    "* VIF > 5 : Las variables están altamente correlacionadas y deben desaparecer del modelo"
   ]
  },
  {
   "cell_type": "code",
   "execution_count": 77,
   "metadata": {},
   "outputs": [
    {
     "data": {
      "text/plain": [
       "1.0889863433066536"
      ]
     },
     "execution_count": 77,
     "metadata": {},
     "output_type": "execute_result"
    }
   ],
   "source": [
    "# ind_22 ~ ind_19 + ind_20 -> R^2 VIF = 1 / (1-R^2)\n",
    "\n",
    "lm_m1 = smf.ols(formula='ind_22~ind_20+ind_19', data=ind_new).fit()\n",
    "rsquared_n1 = lm_m1.rsquared\n",
    "VIF1 = 1 / (1-rsquared_n1)\n",
    "VIF1 #VIF1 es el mejor"
   ]
  },
  {
   "cell_type": "code",
   "execution_count": 78,
   "metadata": {},
   "outputs": [
    {
     "data": {
      "text/plain": [
       "1.1778449370313562"
      ]
     },
     "execution_count": 78,
     "metadata": {},
     "output_type": "execute_result"
    }
   ],
   "source": [
    "# ind_19 ~ ind_22 + ind_20 -> R^2 VIF = 1 / (1-R^2)\n",
    "\n",
    "lm_m2 = smf.ols(formula='ind_19~ind_22+ind_20', data=ind_new).fit()\n",
    "rsquared_n2 = lm_m2.rsquared\n",
    "VIF2 = 1 / (1-rsquared_n2)\n",
    "VIF2"
   ]
  },
  {
   "cell_type": "code",
   "execution_count": 79,
   "metadata": {},
   "outputs": [
    {
     "data": {
      "text/plain": [
       "1.1123265494406145"
      ]
     },
     "execution_count": 79,
     "metadata": {},
     "output_type": "execute_result"
    }
   ],
   "source": [
    "# ind_20 ~ ind_22 + ind_19 -> R^2 VIF = 1 / (1-R^2)\n",
    "\n",
    "lm_m3 = smf.ols(formula='ind_20~ind_22+ind_19', data=ind_new).fit()\n",
    "rsquared_n3 = lm_m3.rsquared\n",
    "VIF3 = 1 / (1-rsquared_n3)\n",
    "VIF3"
   ]
  },
  {
   "cell_type": "markdown",
   "metadata": {},
   "source": [
    "VIF1 es el mejor"
   ]
  },
  {
   "cell_type": "markdown",
   "metadata": {},
   "source": [
    "#### Validar el modelo"
   ]
  },
  {
   "cell_type": "code",
   "execution_count": 83,
   "metadata": {},
   "outputs": [],
   "source": [
    "a = np.random.randn(len(ind_new))"
   ]
  },
  {
   "cell_type": "code",
   "execution_count": 84,
   "metadata": {},
   "outputs": [
    {
     "data": {
      "text/plain": [
       "(array([  6.,   6.,  21.,  34.,  64.,  69.,  35.,  20.,  13.,   8.]),\n",
       " array([-2.61184588, -2.07801382, -1.54418176, -1.01034971, -0.47651765,\n",
       "         0.05731441,  0.59114647,  1.12497852,  1.65881058,  2.19264264,\n",
       "         2.7264747 ]),\n",
       " <a list of 10 Patch objects>)"
      ]
     },
     "execution_count": 84,
     "metadata": {},
     "output_type": "execute_result"
    },
    {
     "data": {
      "image/png": "[encoded data removed]",
      "text/plain": [
       "<matplotlib.figure.Figure at 0x231b0444208>"
      ]
     },
     "metadata": {},
     "output_type": "display_data"
    }
   ],
   "source": [
    "plt.hist(a)"
   ]
  },
  {
   "cell_type": "code",
   "execution_count": 87,
   "metadata": {},
   "outputs": [],
   "source": [
    "check = (a<0.8)\n",
    "training = ind_new[check]\n",
    "testing = ind_new[~check]"
   ]
  },
  {
   "cell_type": "code",
   "execution_count": 88,
   "metadata": {},
   "outputs": [
    {
     "data": {
      "text/plain": [
       "(214, 62)"
      ]
     },
     "execution_count": 88,
     "metadata": {},
     "output_type": "execute_result"
    }
   ],
   "source": [
    "len(training), len(testing)"
   ]
  },
  {
   "cell_type": "code",
   "execution_count": 89,
   "metadata": {
    "collapsed": true
   },
   "outputs": [],
   "source": [
    "lm=smf.ols(formula='ind_04~ind_19+ind_20', data=training).fit()"
   ]
  },
  {
   "cell_type": "code",
   "execution_count": 90,
   "metadata": {},
   "outputs": [
    {
     "data": {
      "text/html": [
       "<table class=\"simpletable\">\n",
       "<caption>OLS Regression Results</caption>\n",
       "<tr>\n",
       "  <th>Dep. Variable:</th>         <td>ind_04</td>      <th>  R-squared:         </th> <td>   0.202</td>\n",
       "</tr>\n",
       "<tr>\n",
       "  <th>Model:</th>                   <td>OLS</td>       <th>  Adj. R-squared:    </th> <td>   0.194</td>\n",
       "</tr>\n",
       "<tr>\n",
       "  <th>Method:</th>             <td>Least Squares</td>  <th>  F-statistic:       </th> <td>   26.63</td>\n",
       "</tr>\n",
       "<tr>\n",
       "  <th>Date:</th>             <td>Sun, 06 Oct 2019</td> <th>  Prob (F-statistic):</th> <td>4.86e-11</td>\n",
       "</tr>\n",
       "<tr>\n",
       "  <th>Time:</th>                 <td>16:04:22</td>     <th>  Log-Likelihood:    </th> <td>  177.80</td>\n",
       "</tr>\n",
       "<tr>\n",
       "  <th>No. Observations:</th>      <td>   214</td>      <th>  AIC:               </th> <td>  -349.6</td>\n",
       "</tr>\n",
       "<tr>\n",
       "  <th>Df Residuals:</th>          <td>   211</td>      <th>  BIC:               </th> <td>  -339.5</td>\n",
       "</tr>\n",
       "<tr>\n",
       "  <th>Df Model:</th>              <td>     2</td>      <th>                     </th>     <td> </td>   \n",
       "</tr>\n",
       "<tr>\n",
       "  <th>Covariance Type:</th>      <td>nonrobust</td>    <th>                     </th>     <td> </td>   \n",
       "</tr>\n",
       "</table>\n",
       "<table class=\"simpletable\">\n",
       "<tr>\n",
       "      <td></td>         <th>coef</th>     <th>std err</th>      <th>t</th>      <th>P>|t|</th>  <th>[0.025</th>    <th>0.975]</th>  \n",
       "</tr>\n",
       "<tr>\n",
       "  <th>Intercept</th> <td>    0.2534</td> <td>    0.009</td> <td>   28.003</td> <td> 0.000</td> <td>    0.236</td> <td>    0.271</td>\n",
       "</tr>\n",
       "<tr>\n",
       "  <th>ind_19</th>    <td>   -0.0130</td> <td>    0.014</td> <td>   -0.957</td> <td> 0.340</td> <td>   -0.040</td> <td>    0.014</td>\n",
       "</tr>\n",
       "<tr>\n",
       "  <th>ind_20</th>    <td>   -0.1991</td> <td>    0.031</td> <td>   -6.455</td> <td> 0.000</td> <td>   -0.260</td> <td>   -0.138</td>\n",
       "</tr>\n",
       "</table>\n",
       "<table class=\"simpletable\">\n",
       "<tr>\n",
       "  <th>Omnibus:</th>       <td>38.640</td> <th>  Durbin-Watson:     </th> <td>   1.786</td>\n",
       "</tr>\n",
       "<tr>\n",
       "  <th>Prob(Omnibus):</th> <td> 0.000</td> <th>  Jarque-Bera (JB):  </th> <td>  74.816</td>\n",
       "</tr>\n",
       "<tr>\n",
       "  <th>Skew:</th>          <td> 0.896</td> <th>  Prob(JB):          </th> <td>5.68e-17</td>\n",
       "</tr>\n",
       "<tr>\n",
       "  <th>Kurtosis:</th>      <td> 5.277</td> <th>  Cond. No.          </th> <td>    4.61</td>\n",
       "</tr>\n",
       "</table>"
      ],
      "text/plain": [
       "<class 'statsmodels.iolib.summary.Summary'>\n",
       "\"\"\"\n",
       "                            OLS Regression Results                            \n",
       "==============================================================================\n",
       "Dep. Variable:                 ind_04   R-squared:                       0.202\n",
       "Model:                            OLS   Adj. R-squared:                  0.194\n",
       "Method:                 Least Squares   F-statistic:                     26.63\n",
       "Date:                Sun, 06 Oct 2019   Prob (F-statistic):           4.86e-11\n",
       "Time:                        16:04:22   Log-Likelihood:                 177.80\n",
       "No. Observations:                 214   AIC:                            -349.6\n",
       "Df Residuals:                     211   BIC:                            -339.5\n",
       "Df Model:                           2                                         \n",
       "Covariance Type:            nonrobust                                         \n",
       "==============================================================================\n",
       "                 coef    std err          t      P>|t|      [0.025      0.975]\n",
       "------------------------------------------------------------------------------\n",
       "Intercept      0.2534      0.009     28.003      0.000       0.236       0.271\n",
       "ind_19        -0.0130      0.014     -0.957      0.340      -0.040       0.014\n",
       "ind_20        -0.1991      0.031     -6.455      0.000      -0.260      -0.138\n",
       "==============================================================================\n",
       "Omnibus:                       38.640   Durbin-Watson:                   1.786\n",
       "Prob(Omnibus):                  0.000   Jarque-Bera (JB):               74.816\n",
       "Skew:                           0.896   Prob(JB):                     5.68e-17\n",
       "Kurtosis:                       5.277   Cond. No.                         4.61\n",
       "==============================================================================\n",
       "\n",
       "Warnings:\n",
       "[1] Standard Errors assume that the covariance matrix of the errors is correctly specified.\n",
       "\"\"\""
      ]
     },
     "execution_count": 90,
     "metadata": {},
     "output_type": "execute_result"
    }
   ],
   "source": [
    "lm.summary()"
   ]
  },
  {
   "cell_type": "markdown",
   "metadata": {},
   "source": [
    "Validación del modelo con el conunto de testing"
   ]
  },
  {
   "cell_type": "code",
   "execution_count": 99,
   "metadata": {},
   "outputs": [
    {
     "data": {
      "text/html": [
       "<div>\n",
       "<style>\n",
       "    .dataframe thead tr:only-child th {\n",
       "        text-align: right;\n",
       "    }\n",
       "\n",
       "    .dataframe thead th {\n",
       "        text-align: left;\n",
       "    }\n",
       "\n",
       "    .dataframe tbody tr th {\n",
       "        vertical-align: top;\n",
       "    }\n",
       "</style>\n",
       "<table border=\"1\" class=\"dataframe\">\n",
       "  <thead>\n",
       "    <tr style=\"text-align: right;\">\n",
       "      <th></th>\n",
       "      <th>ind_04</th>\n",
       "      <th>ind_19</th>\n",
       "      <th>ind_20</th>\n",
       "      <th>ind_22</th>\n",
       "      <th>ind_36</th>\n",
       "      <th>ind_04_pred</th>\n",
       "      <th>RSE</th>\n",
       "    </tr>\n",
       "  </thead>\n",
       "  <tbody>\n",
       "    <tr>\n",
       "      <th>1052</th>\n",
       "      <td>0.280971</td>\n",
       "      <td>-0.221450</td>\n",
       "      <td>0.065456</td>\n",
       "      <td>1.928504</td>\n",
       "      <td>0.260904</td>\n",
       "      <td>-4.722249e-09</td>\n",
       "      <td>0.078945</td>\n",
       "    </tr>\n",
       "    <tr>\n",
       "      <th>1053</th>\n",
       "      <td>0.331144</td>\n",
       "      <td>-0.103658</td>\n",
       "      <td>0.162672</td>\n",
       "      <td>0.210562</td>\n",
       "      <td>0.092525</td>\n",
       "      <td>-2.210416e-09</td>\n",
       "      <td>0.109656</td>\n",
       "    </tr>\n",
       "    <tr>\n",
       "      <th>1054</th>\n",
       "      <td>0.245575</td>\n",
       "      <td>-0.144514</td>\n",
       "      <td>0.123984</td>\n",
       "      <td>0.005170</td>\n",
       "      <td>0.167565</td>\n",
       "      <td>-3.081644e-09</td>\n",
       "      <td>0.060307</td>\n",
       "    </tr>\n",
       "    <tr>\n",
       "      <th>1055</th>\n",
       "      <td>0.212797</td>\n",
       "      <td>-0.290224</td>\n",
       "      <td>0.093475</td>\n",
       "      <td>0.777141</td>\n",
       "      <td>0.291763</td>\n",
       "      <td>-6.188799e-09</td>\n",
       "      <td>0.045283</td>\n",
       "    </tr>\n",
       "    <tr>\n",
       "      <th>1056</th>\n",
       "      <td>0.255142</td>\n",
       "      <td>0.014986</td>\n",
       "      <td>0.290155</td>\n",
       "      <td>0.302936</td>\n",
       "      <td>0.119666</td>\n",
       "      <td>3.195619e-10</td>\n",
       "      <td>0.065098</td>\n",
       "    </tr>\n",
       "  </tbody>\n",
       "</table>\n",
       "</div>"
      ],
      "text/plain": [
       "        ind_04    ind_19    ind_20    ind_22    ind_36   ind_04_pred       RSE\n",
       "1052  0.280971 -0.221450  0.065456  1.928504  0.260904 -4.722249e-09  0.078945\n",
       "1053  0.331144 -0.103658  0.162672  0.210562  0.092525 -2.210416e-09  0.109656\n",
       "1054  0.245575 -0.144514  0.123984  0.005170  0.167565 -3.081644e-09  0.060307\n",
       "1055  0.212797 -0.290224  0.093475  0.777141  0.291763 -6.188799e-09  0.045283\n",
       "1056  0.255142  0.014986  0.290155  0.302936  0.119666  3.195619e-10  0.065098"
      ]
     },
     "execution_count": 99,
     "metadata": {},
     "output_type": "execute_result"
    }
   ],
   "source": [
    "ind_new.head()"
   ]
  },
  {
   "cell_type": "code",
   "execution_count": 91,
   "metadata": {
    "scrolled": true
   },
   "outputs": [
    {
     "data": {
      "text/plain": [
       "1052    0.243215\n",
       "1053    0.222330\n",
       "1054    0.230563\n",
       "1055    0.238529\n",
       "1057    0.227704\n",
       "1062    0.201791\n",
       "1065    0.217211\n",
       "1072    0.243478\n",
       "1075    0.189696\n",
       "1080    0.221250\n",
       "1086    0.268714\n",
       "1087    0.190683\n",
       "1102    0.230550\n",
       "1106    0.216061\n",
       "1110    0.255354\n",
       "1111    0.212456\n",
       "1114    0.180007\n",
       "1117    0.243970\n",
       "1119    0.285885\n",
       "1127    0.252795\n",
       "1128    0.260595\n",
       "1134    0.200598\n",
       "1139    0.188847\n",
       "1143    0.195723\n",
       "1152    0.201258\n",
       "1159    0.231600\n",
       "1162    0.212001\n",
       "1169    0.248937\n",
       "1173    0.202669\n",
       "1175    0.230199\n",
       "          ...   \n",
       "1179    0.232769\n",
       "1182    0.215771\n",
       "1183    0.232012\n",
       "1189    0.220554\n",
       "1191    0.214354\n",
       "1192    0.253265\n",
       "1215    0.246596\n",
       "1219    0.220864\n",
       "1220    0.373198\n",
       "1232    0.267229\n",
       "1235    0.222008\n",
       "1237    0.200975\n",
       "1244    0.192542\n",
       "1248    0.255180\n",
       "1261    0.234258\n",
       "1263    0.213458\n",
       "1269    0.329951\n",
       "1279    0.181359\n",
       "1281    0.207176\n",
       "1289    0.311071\n",
       "1290    0.327833\n",
       "1294    0.241339\n",
       "1298    0.206503\n",
       "1301    0.198790\n",
       "1302    0.250529\n",
       "1304    0.420497\n",
       "1310    0.191997\n",
       "1314    0.174175\n",
       "1316    0.253312\n",
       "1324    0.134803\n",
       "Length: 62, dtype: float64"
      ]
     },
     "execution_count": 91,
     "metadata": {},
     "output_type": "execute_result"
    }
   ],
   "source": [
    "ind_04_pred = lm.predict(testing)\n",
    "ind_04_pred"
   ]
  },
  {
   "cell_type": "code",
   "execution_count": 92,
   "metadata": {},
   "outputs": [
    {
     "data": {
      "text/plain": [
       "0.64911220049829343"
      ]
     },
     "execution_count": 92,
     "metadata": {},
     "output_type": "execute_result"
    }
   ],
   "source": [
    "SSD = sum((testing['ind_04'] - ind_04_pred)**2)\n",
    "SSD"
   ]
  },
  {
   "cell_type": "code",
   "execution_count": 96,
   "metadata": {},
   "outputs": [
    {
     "data": {
      "text/plain": [
       "0.10232082691681209"
      ]
     },
     "execution_count": 96,
     "metadata": {},
     "output_type": "execute_result"
    }
   ],
   "source": [
    "#RSE = np.sqrt(SSD/len(testing)-2-1)\n",
    "RSE = np.sqrt(SSD/len(testing))\n",
    "RSE"
   ]
  },
  {
   "cell_type": "code",
   "execution_count": 95,
   "metadata": {},
   "outputs": [
    {
     "data": {
      "text/plain": [
       "-2.9895304483790595"
      ]
     },
     "execution_count": 95,
     "metadata": {},
     "output_type": "execute_result"
    }
   ],
   "source": [
    "SSD/len(testing)-2-1"
   ]
  },
  {
   "cell_type": "code",
   "execution_count": 98,
   "metadata": {},
   "outputs": [
    {
     "data": {
      "text/plain": [
       "0.4503382672749357"
      ]
     },
     "execution_count": 98,
     "metadata": {},
     "output_type": "execute_result"
    }
   ],
   "source": [
    "# Obtengo el % sin explicar\n",
    "\n",
    "ind_04_mean = np.mean(testing['ind_04'])\n",
    "error = RSE/ind_04_mean\n",
    "error"
   ]
  },
  {
   "cell_type": "code",
   "execution_count": null,
   "metadata": {
    "collapsed": true
   },
   "outputs": [],
   "source": []
  }
 ],
 "metadata": {
  "kernelspec": {
   "display_name": "Python 3",
   "language": "python",
   "name": "python3"
  },
  "language_info": {
   "codemirror_mode": {
    "name": "ipython",
    "version": 3
   },
   "file_extension": ".py",
   "mimetype": "text/x-python",
   "name": "python",
   "nbconvert_exporter": "python",
   "pygments_lexer": "ipython3",
   "version": "3.7.0"
  }
 },
 "nbformat": 4,
 "nbformat_minor": 2
}
