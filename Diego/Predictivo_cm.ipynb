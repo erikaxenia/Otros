{
 "cells": [
  {
   "cell_type": "code",
   "execution_count": 1,
   "metadata": {
    "collapsed": true
   },
   "outputs": [],
   "source": [
    "import pandas as pd\n",
    "import numpy as np"
   ]
  },
  {
   "cell_type": "code",
   "execution_count": 1,
   "metadata": {},
   "outputs": [
    {
     "ename": "NameError",
     "evalue": "name 'pd' is not defined",
     "output_type": "error",
     "traceback": [
      "\u001b[1;31m---------------------------------------------------------------------------\u001b[0m",
      "\u001b[1;31mNameError\u001b[0m                                 Traceback (most recent call last)",
      "\u001b[1;32m<ipython-input-1-15f6e9bfea5d>\u001b[0m in \u001b[0;36m<module>\u001b[1;34m()\u001b[0m\n\u001b[1;32m----> 1\u001b[1;33m \u001b[0mdf\u001b[0m \u001b[1;33m=\u001b[0m \u001b[0mpd\u001b[0m\u001b[1;33m.\u001b[0m\u001b[0mread_excel\u001b[0m\u001b[1;33m(\u001b[0m\u001b[1;34mr'C:\\Users\\dfrigerio\\Desktop\\model\\indica_au_pat.xlsx'\u001b[0m\u001b[1;33m)\u001b[0m\u001b[1;33m\u001b[0m\u001b[0m\n\u001b[0m\u001b[0;32m      2\u001b[0m \u001b[1;33m\u001b[0m\u001b[0m\n\u001b[0;32m      3\u001b[0m \u001b[0mcols\u001b[0m \u001b[1;33m=\u001b[0m \u001b[1;33m[\u001b[0m\u001b[1;34m'cod_cia'\u001b[0m\u001b[1;33m,\u001b[0m\u001b[1;34m'nombre'\u001b[0m\u001b[1;33m,\u001b[0m\u001b[1;34m'periodo'\u001b[0m\u001b[1;33m,\u001b[0m \u001b[1;34m'ind_04'\u001b[0m\u001b[1;33m,\u001b[0m \u001b[1;34m'ind_20'\u001b[0m\u001b[1;33m,\u001b[0m \u001b[1;34m'ind_21'\u001b[0m\u001b[1;33m,\u001b[0m \u001b[1;34m'ind_19'\u001b[0m\u001b[1;33m,\u001b[0m\u001b[1;34m'ind_32'\u001b[0m\u001b[1;33m,\u001b[0m\u001b[1;34m'ind_42'\u001b[0m\u001b[1;33m,\u001b[0m\u001b[1;34m'ind_22'\u001b[0m\u001b[1;33m]\u001b[0m\u001b[1;33m\u001b[0m\u001b[0m\n\u001b[0;32m      4\u001b[0m \u001b[0mind_a_incr\u001b[0m \u001b[1;33m=\u001b[0m \u001b[1;33m[\u001b[0m\u001b[1;34m'ind_04'\u001b[0m\u001b[1;33m,\u001b[0m \u001b[1;34m'ind_20'\u001b[0m\u001b[1;33m,\u001b[0m \u001b[1;34m'ind_21'\u001b[0m\u001b[1;33m,\u001b[0m \u001b[1;34m'ind_19'\u001b[0m\u001b[1;33m,\u001b[0m\u001b[1;34m'ind_32'\u001b[0m\u001b[1;33m,\u001b[0m\u001b[1;34m'ind_42'\u001b[0m\u001b[1;33m]\u001b[0m\u001b[1;33m\u001b[0m\u001b[0m\n\u001b[0;32m      5\u001b[0m \u001b[1;33m\u001b[0m\u001b[0m\n",
      "\u001b[1;31mNameError\u001b[0m: name 'pd' is not defined"
     ]
    }
   ],
   "source": [
    "df = pd.read_excel(r'C:\\Users\\dfrigerio\\Desktop\\model\\indica_au_pat.xlsx')\n",
    "\n",
    "cols = ['cod_cia','nombre','periodo', 'ind_04', 'ind_20', 'ind_21', 'ind_19','ind_32','ind_42','ind_22']\n",
    "ind_a_incr = ['ind_04', 'ind_20', 'ind_21', 'ind_19','ind_32','ind_42']\n",
    "\n",
    "#Quedarnos unicamente con los indicadores buscados\n",
    "ind = df[cols].copy()\n",
    "\n",
    "#Reemplazar los Nan por 0\n",
    "ind.fillna(value = 0, inplace = True)\n",
    "\n",
    "#Reemplazar el campo periodo\n",
    "ind['periodo'] = ind['periodo'].apply(lambda x: int(x.replace('-','0')))\n",
    "\n",
    "ind.sort_values(by = ['cod_cia','periodo'], inplace = True)\n",
    "ind.reset_index(drop = True, inplace = True)\n",
    "\n",
    "#Trabajar con los incrementos\n",
    "grupo_inc = ind.groupby('cod_cia')\n",
    "\n",
    "for p in [1,2,3,4]:\n",
    "    sufijo = str(p)\n",
    "    for i in ind_a_incr:\n",
    "        nombre = i+'_'+sufijo\n",
    "        ind[nombre] = grupo_inc[i].pct_change(periods = int(sufijo))\n",
    "        del nombre\n",
    "    del sufijo\n",
    "\n",
    "#Ver deficit\n",
    "ind_inv = ind[cols].sort_values(by = ['cod_cia','periodo'], ascending = [True,False]).copy()\n",
    "grupo_inv = ind_inv.groupby('cod_cia')['ind_22']\n",
    "\n",
    "for p in [1,2,3,4]:\n",
    "    nombre = 'solv_'+str(p)\n",
    "    ind_inv[nombre] = grupo_inv.shift(int(p))\n",
    "    del nombre\n",
    "    \n",
    "#Reordenar nuevamente las filas\n",
    "ind_inv.sort_values(by = ['cod_cia','periodo'], inplace = True)\n",
    "ind_inv.reset_index(drop = True, inplace = True)\n",
    "\n",
    "#Generar la columna de déficit o superavit de CM para el año siguiente de observacion. 1 Deficit 0 Superavit\n",
    "\n",
    "ind_inv['sup_def'] = np.where((ind_inv['solv_1']<0)|(ind_inv['solv_2']<0)|(ind_inv['solv_3']<0)|(ind_inv['solv_4']<0)\n",
    "                              ,1,0)\n",
    "\n",
    "#Juntar el set original con la columna de sup_deficit\n",
    "conjunto = ind.copy()\n",
    "conjunto['sup_def'] = ind_inv['sup_def']\n",
    "\n",
    "#Generamos la base final únicamente cuando el período de observación no tiene déficit y en el año siguiente SI\n",
    "base = conjunto.loc[~((conjunto['ind_22']<0) & (conjunto['sup_def']==1)) & \n",
    "           (conjunto['periodo']<201803) & (conjunto['periodo']>201301)].copy()\n",
    "\n",
    "base.reset_index(drop = True, inplace = True)\n",
    "    \n",
    "maximo_reemplazo = {i:base[base[i]!= np.inf][i].max() for i in base.columns[10:]}\n",
    "minimo_reemplazo = {i:base[base[i]!= -np.inf][i].min() for i in base.columns[10:]}\n",
    "\n",
    "for i in base.columns[10:]:\n",
    "    base[i] = base[i].replace(np.inf,maximo_reemplazo[i])\n",
    "    base[i] = base[i].replace(-np.inf,minimo_reemplazo[i])"
   ]
  },
  {
   "cell_type": "code",
   "execution_count": 3,
   "metadata": {},
   "outputs": [
    {
     "name": "stdout",
     "output_type": "stream",
     "text": [
      "(2393, 34)\n",
      "(2393, 15)\n",
      "(1662, 35)\n"
     ]
    }
   ],
   "source": [
    "print(ind.shape)\n",
    "print(ind_inv.shape)\n",
    "print(base.shape)"
   ]
  },
  {
   "cell_type": "code",
   "execution_count": 4,
   "metadata": {},
   "outputs": [
    {
     "data": {
      "text/plain": [
       "0    0.93562\n",
       "1    0.06438\n",
       "Name: sup_def, dtype: float64"
      ]
     },
     "execution_count": 4,
     "metadata": {},
     "output_type": "execute_result"
    }
   ],
   "source": [
    "base.sup_def.value_counts(normalize = True)"
   ]
  },
  {
   "cell_type": "code",
   "execution_count": 5,
   "metadata": {
    "collapsed": true
   },
   "outputs": [],
   "source": [
    "base.sort_values(by = ['periodo'], inplace = True)\n",
    "base.reset_index(drop = True, inplace = True)"
   ]
  },
  {
   "cell_type": "code",
   "execution_count": 6,
   "metadata": {},
   "outputs": [
    {
     "data": {
      "text/plain": [
       "array([201302, 201303, 201304, 201401, 201402, 201403, 201404, 201501,\n",
       "       201502, 201503, 201504, 201601, 201602, 201603, 201604, 201701,\n",
       "       201702, 201703, 201704, 201801, 201802], dtype=int64)"
      ]
     },
     "execution_count": 6,
     "metadata": {},
     "output_type": "execute_result"
    }
   ],
   "source": [
    "base.periodo.unique()"
   ]
  },
  {
   "cell_type": "markdown",
   "metadata": {},
   "source": [
    "## Predicciones rápidas"
   ]
  },
  {
   "cell_type": "code",
   "execution_count": 7,
   "metadata": {
    "collapsed": true
   },
   "outputs": [],
   "source": [
    "from sklearn.linear_model import SGDClassifier\n",
    "from sklearn.preprocessing import StandardScaler\n",
    "from sklearn.model_selection import train_test_split\n",
    "from sklearn.metrics import *"
   ]
  },
  {
   "cell_type": "code",
   "execution_count": 8,
   "metadata": {},
   "outputs": [
    {
     "name": "stdout",
     "output_type": "stream",
     "text": [
      "Entrenamiento X:  (1581, 31)\n",
      "Entrenamiento y:  (1581,)\n",
      "Testeo X:  (81, 31)\n",
      "Testeo y:  (81,)\n"
     ]
    }
   ],
   "source": [
    "testeo = base.loc[base['periodo']==201802, base.columns[3:]].copy()\n",
    "testeo.fillna(value=0,inplace = True)\n",
    "X_test = testeo.loc[:, testeo.columns!='sup_def'].copy()\n",
    "y_test = testeo['sup_def']\n",
    "\n",
    "entrenamiento = base.loc[base['periodo']!=201802, base.columns[3:]].copy()\n",
    "entrenamiento.fillna(value=0,inplace = True)\n",
    "X_train = entrenamiento.loc[:, entrenamiento.columns!='sup_def'].copy()\n",
    "y_train = entrenamiento['sup_def']\n",
    "\n",
    "print('Entrenamiento X: ',X_train.shape)\n",
    "print('Entrenamiento y: ',y_train.shape)\n",
    "print('Testeo X: ',X_test.shape)\n",
    "print('Testeo y: ',y_test.shape)"
   ]
  },
  {
   "cell_type": "code",
   "execution_count": 9,
   "metadata": {
    "collapsed": true
   },
   "outputs": [],
   "source": [
    "scalar = StandardScaler()\n",
    "X_tr_sca = scalar.fit_transform(X_train)\n",
    "X_tst_sca = scalar.fit_transform(X_test)"
   ]
  },
  {
   "cell_type": "code",
   "execution_count": 28,
   "metadata": {
    "collapsed": true
   },
   "outputs": [],
   "source": [
    "clf = SGDClassifier(loss=\"log\", penalty=\"l2\", max_iter=1000)"
   ]
  },
  {
   "cell_type": "code",
   "execution_count": 29,
   "metadata": {},
   "outputs": [
    {
     "data": {
      "text/plain": [
       "SGDClassifier(alpha=0.0001, average=False, class_weight=None,\n",
       "              early_stopping=False, epsilon=0.1, eta0=0.0, fit_intercept=True,\n",
       "              l1_ratio=0.15, learning_rate='optimal', loss='log', max_iter=1000,\n",
       "              n_iter_no_change=5, n_jobs=None, penalty='l2', power_t=0.5,\n",
       "              random_state=None, shuffle=True, tol=0.001,\n",
       "              validation_fraction=0.1, verbose=0, warm_start=False)"
      ]
     },
     "execution_count": 29,
     "metadata": {},
     "output_type": "execute_result"
    }
   ],
   "source": [
    "clf.fit(X_tr_sca, y_train)"
   ]
  },
  {
   "cell_type": "code",
   "execution_count": 30,
   "metadata": {},
   "outputs": [
    {
     "data": {
      "text/plain": [
       "65"
      ]
     },
     "execution_count": 30,
     "metadata": {},
     "output_type": "execute_result"
    }
   ],
   "source": [
    "accuracy_score(y_true = y_test, y_pred = clf.predict_proba(X_tst_sca)[:,1].round(), normalize = False)"
   ]
  },
  {
   "cell_type": "code",
   "execution_count": 31,
   "metadata": {},
   "outputs": [
    {
     "data": {
      "text/plain": [
       "array([1., 0., 0., 1., 0., 1., 1., 0., 0., 0., 1., 0., 0., 1., 1., 0., 0.,\n",
       "       0., 0., 0., 0., 0., 0., 0., 0., 0., 0., 0., 0., 0., 0., 0., 0., 0.,\n",
       "       0., 0., 0., 0., 0., 0., 0., 0., 0., 0., 0., 1., 0., 0., 1., 0., 0.,\n",
       "       0., 0., 0., 0., 0., 0., 0., 1., 1., 1., 0., 1., 1., 1., 0., 0., 0.,\n",
       "       0., 0., 0., 0., 0., 0., 0., 0., 0., 0., 0., 0., 0.])"
      ]
     },
     "execution_count": 31,
     "metadata": {},
     "output_type": "execute_result"
    }
   ],
   "source": [
    "clf.predict_proba(X_tst_sca)[:,1].round()"
   ]
  },
  {
   "cell_type": "code",
   "execution_count": 20,
   "metadata": {},
   "outputs": [
    {
     "data": {
      "text/plain": [
       "(81,)"
      ]
     },
     "execution_count": 20,
     "metadata": {},
     "output_type": "execute_result"
    }
   ],
   "source": [
    "y_test.shape"
   ]
  },
  {
   "cell_type": "code",
   "execution_count": null,
   "metadata": {
    "collapsed": true
   },
   "outputs": [],
   "source": []
  }
 ],
 "metadata": {
  "kernelspec": {
   "display_name": "Python 3",
   "language": "python",
   "name": "python3"
  },
  "language_info": {
   "codemirror_mode": {
    "name": "ipython",
    "version": 3
   },
   "file_extension": ".py",
   "mimetype": "text/x-python",
   "name": "python",
   "nbconvert_exporter": "python",
   "pygments_lexer": "ipython3",
   "version": "3.6.3"
  }
 },
 "nbformat": 4,
 "nbformat_minor": 2
}
