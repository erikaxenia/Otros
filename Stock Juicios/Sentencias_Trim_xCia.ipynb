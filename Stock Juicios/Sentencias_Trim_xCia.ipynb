{
 "cells": [
  {
   "cell_type": "code",
   "execution_count": 2,
   "metadata": {},
   "outputs": [],
   "source": [
    "import numpy as np\n",
    "import scipy as sp\n",
    "import pandas as pd\n",
    "import matplotlib.pyplot as plt\n",
    "import seaborn as sns\n",
    "\n",
    "%matplotlib inline"
   ]
  },
  {
   "cell_type": "markdown",
   "metadata": {},
   "source": [
    "## Juicios Cerrados (RENALI)"
   ]
  },
  {
   "cell_type": "code",
   "execution_count": 3,
   "metadata": {},
   "outputs": [],
   "source": [
    "# Importo los datasets Sentencias de Primera Instancia (RENALI)\n",
    "\n",
    "Prim_inst_4T2017=pd.read_excel(r'C:\\Users\\eangenello\\Desktop\\TECNICA\\Python\\input\\ART\\Dataset_Sentencias_Renali\\4-2017 SENTENCIAS.xlsx', sheet_name = 'Sent primera inst')\n",
    "Prim_inst_1T2018=pd.read_excel(r'C:\\Users\\eangenello\\Desktop\\TECNICA\\Python\\input\\ART\\Dataset_Sentencias_Renali\\1-2018 SENTENCIAS.xlsx', sheet_name = 'Sent primera inst')\n",
    "Prim_inst_2T2018=pd.read_excel(r'C:\\Users\\eangenello\\Desktop\\TECNICA\\Python\\input\\ART\\Dataset_Sentencias_Renali\\2-2018 SENTENCIAS.xlsx', sheet_name = 'Sent primera inst')\n",
    "Prim_inst_3T2018=pd.read_excel(r'C:\\Users\\eangenello\\Desktop\\TECNICA\\Python\\input\\ART\\Dataset_Sentencias_Renali\\3-2018 SENTENCIAS.xlsx', sheet_name = 'Sent primera inst')\n",
    "Prim_inst_4T2018=pd.read_excel(r'C:\\Users\\eangenello\\Desktop\\TECNICA\\Python\\input\\ART\\Dataset_Sentencias_Renali\\4-2018 SENTENCIAS.xlsx', sheet_name = 'Sent primera inst')\n",
    "Prim_inst_1T2019=pd.read_excel(r'C:\\Users\\eangenello\\Desktop\\TECNICA\\Python\\input\\ART\\Dataset_Sentencias_Renali\\1-2019 SENTENCIAS.xlsx', sheet_name = 'Sent primera inst')\n",
    "Prim_inst_2T2019=pd.read_excel(r'C:\\Users\\eangenello\\Desktop\\TECNICA\\Python\\input\\ART\\Dataset_Sentencias_Renali\\2-2019 SENTENCIAS.xlsx', sheet_name = 'Sent primera inst')"
   ]
  },
  {
   "cell_type": "code",
   "execution_count": 4,
   "metadata": {},
   "outputs": [
    {
     "name": "stderr",
     "output_type": "stream",
     "text": [
      "C:\\Users\\eangenello\\AppData\\Local\\Continuum\\anaconda3\\lib\\site-packages\\pandas\\core\\frame.py:6211: FutureWarning: Sorting because non-concatenation axis is not aligned. A future version\n",
      "of pandas will change to not sort by default.\n",
      "\n",
      "To accept the future behavior, pass 'sort=False'.\n",
      "\n",
      "To retain the current behavior and silence the warning, pass 'sort=True'.\n",
      "\n",
      "  sort=sort)\n"
     ]
    }
   ],
   "source": [
    "# Junto los datasets\n",
    "\n",
    "PRIM_INST=Prim_inst_4T2017.append(Prim_inst_1T2018)\n",
    "PRIM_INST=PRIM_INST.append(Prim_inst_2T2018)\n",
    "PRIM_INST=PRIM_INST.append(Prim_inst_3T2018)\n",
    "PRIM_INST=PRIM_INST.append(Prim_inst_4T2018)\n",
    "PRIM_INST=PRIM_INST.append(Prim_inst_1T2019)\n",
    "PRIM_INST=PRIM_INST.append(Prim_inst_2T2019)"
   ]
  },
  {
   "cell_type": "code",
   "execution_count": 5,
   "metadata": {},
   "outputs": [],
   "source": [
    "# Importo dataset de compañías para tener el cod_cia y la denominación corta\n",
    "\n",
    "# OJO QUE AÚN NO APARECE MUTUAL PETROLEROS ART, CUANDO APAREZCA HAY QUE AGREGARLA AL DATASET EN \"ASEGURADORA\"\n",
    "\n",
    "Dataset_compañías=pd.read_excel(r'C:\\Users\\eangenello\\Desktop\\TECNICA\\Python\\input\\ART\\Dataset_Compañías.xlsx', sheet_name='Sentencias')\n",
    "\n",
    "PRIM_INST=PRIM_INST.merge(Dataset_compañías, how='inner', on='Aseguradora')\n",
    "\n",
    "PRIM_INST=PRIM_INST.drop('Aseguradora',1)\n",
    "\n",
    "PRIM_INST['Dataset']='Dataset_1ra_instancia'"
   ]
  },
  {
   "cell_type": "code",
   "execution_count": 6,
   "metadata": {
    "scrolled": true
   },
   "outputs": [
    {
     "name": "stderr",
     "output_type": "stream",
     "text": [
      "C:\\Users\\eangenello\\AppData\\Local\\Continuum\\anaconda3\\lib\\site-packages\\ipykernel_launcher.py:14: SettingWithCopyWarning: \n",
      "A value is trying to be set on a copy of a slice from a DataFrame.\n",
      "Try using .loc[row_indexer,col_indexer] = value instead\n",
      "\n",
      "See the caveats in the documentation: http://pandas.pydata.org/pandas-docs/stable/indexing.html#indexing-view-versus-copy\n",
      "  \n"
     ]
    }
   ],
   "source": [
    "# Creo variable Fecha\n",
    "PRIM_INST['Fecha']=PRIM_INST['F_1ra_sent']\n",
    "\n",
    "# Creo variable Monto\n",
    "PRIM_INST['Monto']=PRIM_INST['MONTO PRIMERA INST']\n",
    "\n",
    "# Creo variable instancia\n",
    "PRIM_INST['Instancia']=PRIM_INST['Tipo sentencia 1° inst.']\n",
    "\n",
    "# Filtro y me quedo son con los registros que necesito\n",
    "PRIM_INST_filt=PRIM_INST[(PRIM_INST['Instancia']=='Homologación.')|(PRIM_INST['Instancia']=='Hace lugar a la demanda totalmente.')|(PRIM_INST['Instancia']=='Hace lugar a la demanda parcialmente.')]\n",
    "\n",
    "# Reemplazo\n",
    "PRIM_INST_filt['Instancia']=['Demandas conciliadas' if PRIM_INST_filt['Tipo sentencia 1° inst.'][i]=='Homologación.' else 'Sentencia 1° instancia' for i in PRIM_INST_filt.index]"
   ]
  },
  {
   "cell_type": "code",
   "execution_count": 7,
   "metadata": {},
   "outputs": [
    {
     "data": {
      "text/plain": [
       "['% PRIMERA INST',\n",
       " '% SEGUNDA INST',\n",
       " 'CONTINGENCIA RECLAMADA',\n",
       " 'CUIT EMPLEADOR',\n",
       " 'ENF. RECLAMADA',\n",
       " 'F_1ra_sent',\n",
       " 'F_notificacion',\n",
       " 'MONTO PRIMERA INST',\n",
       " 'MONTO RECLAMADO',\n",
       " 'MONTO SEGUNDA INST',\n",
       " 'N° EXP_JUDICIAL',\n",
       " 'OBJETO DE RECLAMO',\n",
       " 'Posible via adm',\n",
       " 'Tipo sentencia 1° inst.',\n",
       " 'Tipo sentencia 2° inst.',\n",
       " 'caratula',\n",
       " 'f_2da_sent',\n",
       " 'cod_cia',\n",
       " 'denominacion_corta',\n",
       " 'Dataset',\n",
       " 'Fecha',\n",
       " 'Monto',\n",
       " 'Instancia']"
      ]
     },
     "execution_count": 7,
     "metadata": {},
     "output_type": "execute_result"
    }
   ],
   "source": [
    "# Listo las etiquetas de las columnas\n",
    "\n",
    "cols = list(PRIM_INST_filt.columns.values)\n",
    "cols"
   ]
  },
  {
   "cell_type": "code",
   "execution_count": 8,
   "metadata": {},
   "outputs": [],
   "source": [
    "# Reordeno las columnas\n",
    "\n",
    "reord= [ 'cod_cia',\n",
    " 'denominacion_corta',\n",
    " 'N° EXP_JUDICIAL',\n",
    " 'caratula',\n",
    " 'F_notificacion',\n",
    " 'CUIT EMPLEADOR',\n",
    " 'OBJETO DE RECLAMO',\n",
    " 'CONTINGENCIA RECLAMADA',\n",
    " 'ENF. RECLAMADA',\n",
    " 'MONTO RECLAMADO',\n",
    " 'Dataset',\n",
    " 'Fecha',\n",
    " 'Monto',\n",
    " 'Instancia']\n",
    "\n",
    "PRIM_INST_filt=PRIM_INST_filt[reord]"
   ]
  },
  {
   "cell_type": "code",
   "execution_count": 9,
   "metadata": {},
   "outputs": [],
   "source": [
    "#EXPORTO SENTENCIAS DE PRIMER INSTANCIA\n",
    "\n",
    "# PRIM_INST.to_excel(r'C:\\Users\\eangenello\\Desktop\\TÉCNICA\\TABLERO ART\\Datasets\\Dt_Sentencias_Primera_Instancia.xlsx', sheet_name='Dt_Sent_Primera_Inst', index=False)"
   ]
  },
  {
   "cell_type": "code",
   "execution_count": 10,
   "metadata": {},
   "outputs": [],
   "source": [
    "# Importo los datasets Sentencias de Primera Instancia (RENALI)\n",
    "\n",
    "Seg_inst_4T2017=pd.read_excel(r'C:\\Users\\eangenello\\Desktop\\TECNICA\\Python\\input\\ART\\Dataset_Sentencias_Renali\\4-2017 SENTENCIAS.xlsx', sheet_name = 'Sent segunda inst')\n",
    "Seg_inst_1T2018=pd.read_excel(r'C:\\Users\\eangenello\\Desktop\\TECNICA\\Python\\input\\ART\\Dataset_Sentencias_Renali\\1-2018 SENTENCIAS.xlsx', sheet_name = 'Sent segunda inst')\n",
    "Seg_inst_2T2018=pd.read_excel(r'C:\\Users\\eangenello\\Desktop\\TECNICA\\Python\\input\\ART\\Dataset_Sentencias_Renali\\2-2018 SENTENCIAS.xlsx', sheet_name = 'Sent segunda inst')\n",
    "Seg_inst_3T2018=pd.read_excel(r'C:\\Users\\eangenello\\Desktop\\TECNICA\\Python\\input\\ART\\Dataset_Sentencias_Renali\\3-2018 SENTENCIAS.xlsx', sheet_name = 'Sent segunda inst')\n",
    "Seg_inst_4T2018=pd.read_excel(r'C:\\Users\\eangenello\\Desktop\\TECNICA\\Python\\input\\ART\\Dataset_Sentencias_Renali\\4-2018 SENTENCIAS.xlsx', sheet_name = 'Sent segunda inst')\n",
    "Seg_inst_1T2019=pd.read_excel(r'C:\\Users\\eangenello\\Desktop\\TECNICA\\Python\\input\\ART\\Dataset_Sentencias_Renali\\1-2019 SENTENCIAS.xlsx', sheet_name = 'Sent segunda inst')\n",
    "Seg_inst_2T2019=pd.read_excel(r'C:\\Users\\eangenello\\Desktop\\TECNICA\\Python\\input\\ART\\Dataset_Sentencias_Renali\\2-2019 SENTENCIAS.xlsx', sheet_name = 'Sent segunda inst')"
   ]
  },
  {
   "cell_type": "code",
   "execution_count": 11,
   "metadata": {},
   "outputs": [
    {
     "name": "stderr",
     "output_type": "stream",
     "text": [
      "C:\\Users\\eangenello\\AppData\\Local\\Continuum\\anaconda3\\lib\\site-packages\\pandas\\core\\frame.py:6211: FutureWarning: Sorting because non-concatenation axis is not aligned. A future version\n",
      "of pandas will change to not sort by default.\n",
      "\n",
      "To accept the future behavior, pass 'sort=False'.\n",
      "\n",
      "To retain the current behavior and silence the warning, pass 'sort=True'.\n",
      "\n",
      "  sort=sort)\n"
     ]
    }
   ],
   "source": [
    "# Junto los datasets\n",
    "\n",
    "SEG_INST=Seg_inst_4T2017.append(Seg_inst_1T2018)\n",
    "SEG_INST=SEG_INST.append(Seg_inst_2T2018)\n",
    "SEG_INST=SEG_INST.append(Seg_inst_3T2018)\n",
    "SEG_INST=SEG_INST.append(Seg_inst_4T2018)\n",
    "SEG_INST=SEG_INST.append(Seg_inst_1T2019)\n",
    "SEG_INST=SEG_INST.append(Seg_inst_2T2019)"
   ]
  },
  {
   "cell_type": "code",
   "execution_count": 12,
   "metadata": {},
   "outputs": [],
   "source": [
    "SEG_INST=SEG_INST.merge(Dataset_compañías, how='inner', on='Aseguradora')\n",
    "\n",
    "SEG_INST=SEG_INST.drop('Aseguradora',1)\n",
    "\n",
    "SEG_INST['Dataset']='Dataset_2da_instancia'"
   ]
  },
  {
   "cell_type": "code",
   "execution_count": 13,
   "metadata": {},
   "outputs": [
    {
     "name": "stderr",
     "output_type": "stream",
     "text": [
      "C:\\Users\\eangenello\\AppData\\Local\\Continuum\\anaconda3\\lib\\site-packages\\ipykernel_launcher.py:13: SettingWithCopyWarning: \n",
      "A value is trying to be set on a copy of a slice from a DataFrame.\n",
      "Try using .loc[row_indexer,col_indexer] = value instead\n",
      "\n",
      "See the caveats in the documentation: http://pandas.pydata.org/pandas-docs/stable/indexing.html#indexing-view-versus-copy\n",
      "  del sys.path[0]\n"
     ]
    }
   ],
   "source": [
    "# Creo variable Fecha\n",
    "SEG_INST['Fecha']=SEG_INST['f_2da_sent']\n",
    "\n",
    "# Creo variable Monto\n",
    "SEG_INST['Monto']=SEG_INST['MONTO SEGUNDA INST']\n",
    "\n",
    "# Creo variable instancia\n",
    "SEG_INST['Instancia']=SEG_INST['Tipo sentencia 2° inst.']\n",
    "\n",
    "# Filtro y me quedo son con los registros que necesito\n",
    "SEG_INST_filt=SEG_INST[(SEG_INST['Instancia']=='Homologación.')|(SEG_INST['Instancia']=='Hace lugar a la demanda totalmente.')|(SEG_INST['Instancia']=='Hace lugar a la demanda parcialmente.')]\n",
    "\n",
    "SEG_INST_filt['Instancia']='Sentencia 2° instancia'"
   ]
  },
  {
   "cell_type": "code",
   "execution_count": 14,
   "metadata": {},
   "outputs": [
    {
     "data": {
      "text/plain": [
       "['% Corte Pcial',\n",
       " '% Corte Suprema',\n",
       " '% PRIMERA INST',\n",
       " '% SEGUNDA INST',\n",
       " 'CONTINGENCIA RECLAMADA',\n",
       " 'CUIT EMPLEADOR',\n",
       " 'ENF. RECLAMADA',\n",
       " 'F_1ra_sent',\n",
       " 'F_notificacion',\n",
       " 'Fecha Corte Pcial',\n",
       " 'Fecha Corte Suprema',\n",
       " 'MONTO PRIMERA INST',\n",
       " 'MONTO RECLAMADO',\n",
       " 'MONTO SEGUNDA INST',\n",
       " 'Monto Corte Pcial',\n",
       " 'Monto Corte Suprema',\n",
       " 'N° EXP_JUDICIAL',\n",
       " 'OBJETO DE RECLAMO',\n",
       " 'Posible via adm',\n",
       " 'Tipo sentencia 1° inst.',\n",
       " 'Tipo sentencia 2° inst.',\n",
       " 'Tipo sentencia Corte Pcial',\n",
       " 'Tipo sentencia Corte Suprema',\n",
       " 'caratula',\n",
       " 'f_2da_sent',\n",
       " 'cod_cia',\n",
       " 'denominacion_corta',\n",
       " 'Dataset',\n",
       " 'Fecha',\n",
       " 'Monto',\n",
       " 'Instancia']"
      ]
     },
     "execution_count": 14,
     "metadata": {},
     "output_type": "execute_result"
    }
   ],
   "source": [
    "# Listo las etiquetas de las columnas\n",
    "\n",
    "cols = list(SEG_INST_filt.columns.values)\n",
    "cols"
   ]
  },
  {
   "cell_type": "code",
   "execution_count": 15,
   "metadata": {},
   "outputs": [],
   "source": [
    "# Reordeno las columnas\n",
    "\n",
    "reord= [ 'cod_cia',\n",
    " 'denominacion_corta',\n",
    " 'N° EXP_JUDICIAL',\n",
    " 'caratula',\n",
    " 'F_notificacion',\n",
    " 'CUIT EMPLEADOR',\n",
    " 'OBJETO DE RECLAMO',\n",
    " 'CONTINGENCIA RECLAMADA',\n",
    " 'ENF. RECLAMADA',\n",
    " 'MONTO RECLAMADO',\n",
    " 'Dataset',\n",
    " 'Fecha',\n",
    " 'Monto',\n",
    " 'Instancia']\n",
    "\n",
    "SEG_INST_filt=SEG_INST_filt[reord]"
   ]
  },
  {
   "cell_type": "code",
   "execution_count": 16,
   "metadata": {},
   "outputs": [],
   "source": [
    "# Junto Primera y Segunda Instancia\n",
    "\n",
    "DT_Demandas_Instancias=PRIM_INST_filt.append(SEG_INST_filt)"
   ]
  },
  {
   "cell_type": "code",
   "execution_count": 17,
   "metadata": {},
   "outputs": [],
   "source": [
    "DT_Demandas_Instancias['year']= pd.DatetimeIndex(DT_Demandas_Instancias['Fecha']).year\n",
    "DT_Demandas_Instancias['month']= pd.DatetimeIndex(DT_Demandas_Instancias['Fecha']).month"
   ]
  },
  {
   "cell_type": "code",
   "execution_count": 18,
   "metadata": {},
   "outputs": [],
   "source": [
    "# Defino la función que va a asignar el trimestre a partir de la variable mes\n",
    "\n",
    "def trim(row):\n",
    "    if DT_Demandas_Instancias.month.iloc[row]==1 or DT_Demandas_Instancias.month.iloc[row]==2 or DT_Demandas_Instancias.month.iloc[row]==3:\n",
    "        return 1\n",
    "    \n",
    "    elif DT_Demandas_Instancias.month.iloc[row]==4 or DT_Demandas_Instancias.month.iloc[row]==5 or DT_Demandas_Instancias.month.iloc[row]==6:\n",
    "        return 2\n",
    "    \n",
    "    elif DT_Demandas_Instancias.month.iloc[row]==7 or DT_Demandas_Instancias.month.iloc[row]==8 or DT_Demandas_Instancias.month.iloc[row]==9:\n",
    "        return 3\n",
    "    \n",
    "    else:\n",
    "        return 4"
   ]
  },
  {
   "cell_type": "code",
   "execution_count": 19,
   "metadata": {},
   "outputs": [],
   "source": [
    "# Creo la variable Trimestre y le aplico la función definida\n",
    "\n",
    "DT_Demandas_Instancias['trimestre']=[trim(i) for i in range(len(DT_Demandas_Instancias.index))]"
   ]
  },
  {
   "cell_type": "code",
   "execution_count": 20,
   "metadata": {},
   "outputs": [],
   "source": [
    "# Creo la variable Periodo Balance a partir de las varibles year y trimestre\n",
    "\n",
    "DT_Demandas_Instancias['Periodo_balance'] = DT_Demandas_Instancias.year.astype(str).str.cat(DT_Demandas_Instancias.trimestre.astype(str), sep='-')"
   ]
  },
  {
   "cell_type": "code",
   "execution_count": 21,
   "metadata": {},
   "outputs": [],
   "source": [
    "DT_Demandas_Instancias=DT_Demandas_Instancias.drop(['year','month','trimestre'],1)"
   ]
  },
  {
   "cell_type": "code",
   "execution_count": 23,
   "metadata": {},
   "outputs": [
    {
     "data": {
      "text/html": [
       "<div>\n",
       "<style scoped>\n",
       "    .dataframe tbody tr th:only-of-type {\n",
       "        vertical-align: middle;\n",
       "    }\n",
       "\n",
       "    .dataframe tbody tr th {\n",
       "        vertical-align: top;\n",
       "    }\n",
       "\n",
       "    .dataframe thead th {\n",
       "        text-align: right;\n",
       "    }\n",
       "</style>\n",
       "<table border=\"1\" class=\"dataframe\">\n",
       "  <thead>\n",
       "    <tr style=\"text-align: right;\">\n",
       "      <th></th>\n",
       "      <th>cod_cia</th>\n",
       "      <th>denominacion_corta</th>\n",
       "      <th>N° EXP_JUDICIAL</th>\n",
       "      <th>caratula</th>\n",
       "      <th>F_notificacion</th>\n",
       "      <th>CUIT EMPLEADOR</th>\n",
       "      <th>OBJETO DE RECLAMO</th>\n",
       "      <th>CONTINGENCIA RECLAMADA</th>\n",
       "      <th>ENF. RECLAMADA</th>\n",
       "      <th>MONTO RECLAMADO</th>\n",
       "      <th>Dataset</th>\n",
       "      <th>Fecha</th>\n",
       "      <th>Monto</th>\n",
       "      <th>Instancia</th>\n",
       "      <th>Periodo_balance</th>\n",
       "    </tr>\n",
       "  </thead>\n",
       "  <tbody>\n",
       "    <tr>\n",
       "      <th>0</th>\n",
       "      <td>620</td>\n",
       "      <td>ASOCIART ART</td>\n",
       "      <td>0044-0000024668/15</td>\n",
       "      <td>MUOLLO NANCY NOEMI C/ ASOCIART S.A. ART S/ DA#...</td>\n",
       "      <td>2015-08-07</td>\n",
       "      <td>3.061122e+10</td>\n",
       "      <td>Otros</td>\n",
       "      <td>Accidentes de trabajo.</td>\n",
       "      <td>No corresponde</td>\n",
       "      <td>305000</td>\n",
       "      <td>Dataset_1ra_instancia</td>\n",
       "      <td>2017-10-12</td>\n",
       "      <td>249650.54</td>\n",
       "      <td>Sentencia 1° instancia</td>\n",
       "      <td>2017-4</td>\n",
       "    </tr>\n",
       "    <tr>\n",
       "      <th>1</th>\n",
       "      <td>620</td>\n",
       "      <td>ASOCIART ART</td>\n",
       "      <td>0068-0000054526/14</td>\n",
       "      <td>GEREZ ROQUE FERNANDO C/ ASOCIART S.A. ART S/ A...</td>\n",
       "      <td>2014-10-28</td>\n",
       "      <td>3.071215e+10</td>\n",
       "      <td>CC - Art. 1072</td>\n",
       "      <td>Accidentes de trabajo.</td>\n",
       "      <td>No corresponde</td>\n",
       "      <td>117623</td>\n",
       "      <td>Dataset_1ra_instancia</td>\n",
       "      <td>2017-10-01</td>\n",
       "      <td>106440.00</td>\n",
       "      <td>Demandas conciliadas</td>\n",
       "      <td>2017-4</td>\n",
       "    </tr>\n",
       "    <tr>\n",
       "      <th>2</th>\n",
       "      <td>620</td>\n",
       "      <td>ASOCIART ART</td>\n",
       "      <td>0133-0000000014/11</td>\n",
       "      <td>BENITEZ VICTOR HUGO C/ PROTECCION DE RIESGOS S...</td>\n",
       "      <td>2011-03-22</td>\n",
       "      <td>3.070883e+10</td>\n",
       "      <td>CC - Art. 1072</td>\n",
       "      <td>Accidentes in itinere.</td>\n",
       "      <td>No corresponde</td>\n",
       "      <td>134700</td>\n",
       "      <td>Dataset_1ra_instancia</td>\n",
       "      <td>2017-11-14</td>\n",
       "      <td>72000.00</td>\n",
       "      <td>Demandas conciliadas</td>\n",
       "      <td>2017-4</td>\n",
       "    </tr>\n",
       "  </tbody>\n",
       "</table>\n",
       "</div>"
      ],
      "text/plain": [
       "   cod_cia denominacion_corta     N° EXP_JUDICIAL  \\\n",
       "0      620       ASOCIART ART  0044-0000024668/15   \n",
       "1      620       ASOCIART ART  0068-0000054526/14   \n",
       "2      620       ASOCIART ART  0133-0000000014/11   \n",
       "\n",
       "                                            caratula F_notificacion  \\\n",
       "0  MUOLLO NANCY NOEMI C/ ASOCIART S.A. ART S/ DA#...     2015-08-07   \n",
       "1  GEREZ ROQUE FERNANDO C/ ASOCIART S.A. ART S/ A...     2014-10-28   \n",
       "2  BENITEZ VICTOR HUGO C/ PROTECCION DE RIESGOS S...     2011-03-22   \n",
       "\n",
       "   CUIT EMPLEADOR OBJETO DE RECLAMO  CONTINGENCIA RECLAMADA  ENF. RECLAMADA  \\\n",
       "0    3.061122e+10             Otros  Accidentes de trabajo.  No corresponde   \n",
       "1    3.071215e+10    CC - Art. 1072  Accidentes de trabajo.  No corresponde   \n",
       "2    3.070883e+10    CC - Art. 1072  Accidentes in itinere.  No corresponde   \n",
       "\n",
       "  MONTO RECLAMADO                Dataset      Fecha      Monto  \\\n",
       "0          305000  Dataset_1ra_instancia 2017-10-12  249650.54   \n",
       "1          117623  Dataset_1ra_instancia 2017-10-01  106440.00   \n",
       "2          134700  Dataset_1ra_instancia 2017-11-14   72000.00   \n",
       "\n",
       "                Instancia Periodo_balance  \n",
       "0  Sentencia 1° instancia          2017-4  \n",
       "1    Demandas conciliadas          2017-4  \n",
       "2    Demandas conciliadas          2017-4  "
      ]
     },
     "execution_count": 23,
     "metadata": {},
     "output_type": "execute_result"
    }
   ],
   "source": [
    "DT_Demandas_Instancias.head(3)"
   ]
  },
  {
   "cell_type": "code",
   "execution_count": 29,
   "metadata": {},
   "outputs": [],
   "source": [
    "Juicios_Cerrados=DT_Demandas_Instancias.groupby(['cod_cia','Periodo_balance'], as_index=False)['denominacion_corta'].count()\n",
    "\n",
    "Juicios_Cerrados=Juicios_Cerrados.rename(columns = {'denominacion_corta':'Juicios_cerrados'})"
   ]
  },
  {
   "cell_type": "code",
   "execution_count": 33,
   "metadata": {},
   "outputs": [],
   "source": [
    "Juicios_Cerrados=Juicios_Cerrados.merge(Dataset_compañías, how='inner', on='cod_cia')\n",
    "\n",
    "Juicios_Cerrados=Juicios_Cerrados.drop('Aseguradora', 1)"
   ]
  },
  {
   "cell_type": "code",
   "execution_count": 38,
   "metadata": {},
   "outputs": [
    {
     "data": {
      "text/html": [
       "<div>\n",
       "<style scoped>\n",
       "    .dataframe tbody tr th:only-of-type {\n",
       "        vertical-align: middle;\n",
       "    }\n",
       "\n",
       "    .dataframe tbody tr th {\n",
       "        vertical-align: top;\n",
       "    }\n",
       "\n",
       "    .dataframe thead th {\n",
       "        text-align: right;\n",
       "    }\n",
       "</style>\n",
       "<table border=\"1\" class=\"dataframe\">\n",
       "  <thead>\n",
       "    <tr style=\"text-align: right;\">\n",
       "      <th></th>\n",
       "      <th>cod_cia</th>\n",
       "      <th>Periodo_balance</th>\n",
       "      <th>Juicios_cerrados</th>\n",
       "      <th>denominacion_corta</th>\n",
       "    </tr>\n",
       "  </thead>\n",
       "  <tbody>\n",
       "    <tr>\n",
       "      <th>0</th>\n",
       "      <td>7</td>\n",
       "      <td>2017-4</td>\n",
       "      <td>134</td>\n",
       "      <td>CAMINOS PROTEGIDOS</td>\n",
       "    </tr>\n",
       "    <tr>\n",
       "      <th>1</th>\n",
       "      <td>7</td>\n",
       "      <td>2018-1</td>\n",
       "      <td>102</td>\n",
       "      <td>CAMINOS PROTEGIDOS</td>\n",
       "    </tr>\n",
       "    <tr>\n",
       "      <th>2</th>\n",
       "      <td>7</td>\n",
       "      <td>2018-2</td>\n",
       "      <td>180</td>\n",
       "      <td>CAMINOS PROTEGIDOS</td>\n",
       "    </tr>\n",
       "    <tr>\n",
       "      <th>3</th>\n",
       "      <td>7</td>\n",
       "      <td>2018-3</td>\n",
       "      <td>215</td>\n",
       "      <td>CAMINOS PROTEGIDOS</td>\n",
       "    </tr>\n",
       "    <tr>\n",
       "      <th>4</th>\n",
       "      <td>7</td>\n",
       "      <td>2018-4</td>\n",
       "      <td>229</td>\n",
       "      <td>CAMINOS PROTEGIDOS</td>\n",
       "    </tr>\n",
       "  </tbody>\n",
       "</table>\n",
       "</div>"
      ],
      "text/plain": [
       "   cod_cia Periodo_balance  Juicios_cerrados  denominacion_corta\n",
       "0        7          2017-4               134  CAMINOS PROTEGIDOS\n",
       "1        7          2018-1               102  CAMINOS PROTEGIDOS\n",
       "2        7          2018-2               180  CAMINOS PROTEGIDOS\n",
       "3        7          2018-3               215  CAMINOS PROTEGIDOS\n",
       "4        7          2018-4               229  CAMINOS PROTEGIDOS"
      ]
     },
     "execution_count": 38,
     "metadata": {},
     "output_type": "execute_result"
    }
   ],
   "source": [
    "Juicios_Cerrados.head()"
   ]
  },
  {
   "cell_type": "code",
   "execution_count": 39,
   "metadata": {},
   "outputs": [],
   "source": [
    "#EXPORTO \n",
    "\n",
    "Juicios_Cerrados.to_excel(r'C:\\Users\\eangenello\\Desktop\\TECNICA\\Python\\output\\Juicios_Cerrados.xlsx', sheet_name='Juicios_Cerrados', index=False)"
   ]
  },
  {
   "cell_type": "code",
   "execution_count": null,
   "metadata": {},
   "outputs": [],
   "source": []
  }
 ],
 "metadata": {
  "kernelspec": {
   "display_name": "Python 3",
   "language": "python",
   "name": "python3"
  },
  "language_info": {
   "codemirror_mode": {
    "name": "ipython",
    "version": 3
   },
   "file_extension": ".py",
   "mimetype": "text/x-python",
   "name": "python",
   "nbconvert_exporter": "python",
   "pygments_lexer": "ipython3",
   "version": "3.7.0"
  }
 },
 "nbformat": 4,
 "nbformat_minor": 2
}
