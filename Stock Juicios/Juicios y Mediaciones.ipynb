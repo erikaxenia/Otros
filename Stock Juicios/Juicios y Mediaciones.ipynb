{
 "cells": [
  {
   "cell_type": "code",
   "execution_count": 50,
   "metadata": {},
   "outputs": [],
   "source": [
    "import pandas as pd\n",
    "import numpy as np\n",
    "\n",
    "pd.options.display.float_format = '{:.3f}'.format"
   ]
  },
  {
   "cell_type": "code",
   "execution_count": 51,
   "metadata": {},
   "outputs": [],
   "source": [
    "file = pd.read_csv(r'C:\\Users\\dfrigerio\\Desktop\\bajada_raj.csv',  \n",
    "                  usecols = ['ciaid', 'juicio_mediacion','tipo_danio','fecha_demanda','monto_demandado','monto_indeterminado',\n",
    "                            'estado_procesal','[1.030.00]', '[1.030.01]','[1.030.02]', '[1.030.03]', \n",
    "                             '[1.080.00]', '[1.080.01]', '[1.080.02]','[1.080.03]', '[1.080.04]', '[1.080.99]'] ,\n",
    "                   parse_dates = ['fecha_demanda'])\n",
    "\n",
    "factores = pd.read_csv(r'C:\\Users\\dfrigerio\\Desktop\\factores_junio.csv', parse_dates = ['fecha'])"
   ]
  },
  {
   "cell_type": "code",
   "execution_count": 52,
   "metadata": {},
   "outputs": [
    {
     "data": {
      "text/plain": [
       "(615305, 17)"
      ]
     },
     "execution_count": 52,
     "metadata": {},
     "output_type": "execute_result"
    }
   ],
   "source": [
    "file.shape"
   ]
  },
  {
   "cell_type": "markdown",
   "metadata": {},
   "source": [
    "## Quitar los pocos casos que aparecen con ramo Autos y RC en el mismo caso (linea)"
   ]
  },
  {
   "cell_type": "code",
   "execution_count": 53,
   "metadata": {},
   "outputs": [],
   "source": [
    "file = file[~(((file['[1.030.00]'] !=0) | (file['[1.030.01]'] !=0) |(file['[1.030.02]'] !=0) | \n",
    "     (file['[1.030.03]'] !=0)) & ((file['[1.080.99]'] == 1) | (file['[1.080.99]'] == 2)))]"
   ]
  },
  {
   "cell_type": "code",
   "execution_count": 54,
   "metadata": {},
   "outputs": [
    {
     "data": {
      "text/plain": [
       "(615265, 17)"
      ]
     },
     "execution_count": 54,
     "metadata": {},
     "output_type": "execute_result"
    }
   ],
   "source": [
    "file.shape"
   ]
  },
  {
   "cell_type": "code",
   "execution_count": 55,
   "metadata": {},
   "outputs": [
    {
     "data": {
      "text/plain": [
       "7    340056\n",
       "1    232888\n",
       "2     22301\n",
       "5      6756\n",
       "3      5810\n",
       "4      4564\n",
       "6      2871\n",
       "8        19\n",
       "Name: estado_procesal, dtype: int64"
      ]
     },
     "execution_count": 55,
     "metadata": {},
     "output_type": "execute_result"
    }
   ],
   "source": [
    "file.estado_procesal.value_counts()"
   ]
  },
  {
   "cell_type": "markdown",
   "metadata": {},
   "source": [
    "## Seleeción para análisis"
   ]
  },
  {
   "cell_type": "markdown",
   "metadata": {},
   "source": [
    "Solamente utilizar los que esten en estado_procesal 1, 2 ó 3, son Juicios (J), el monto no es indeterminado, tienen fecha de demanda válida y el monto demandado es mayor a $ 10.000"
   ]
  },
  {
   "cell_type": "code",
   "execution_count": 56,
   "metadata": {},
   "outputs": [],
   "source": [
    "file['ramo'] = np.where( ((file['[1.030.00]'] !=0) | (file['[1.030.01]'] !=0) |(file['[1.030.02]'] !=0) | \n",
    "     (file['[1.030.03]'] !=0)) , 'auto', 'rc' )\n",
    "\n",
    "\n",
    "base = file.loc[(file['juicio_mediacion'] == 'J') & (file['estado_procesal'].isin([1,2,3])) &\n",
    "                  (file['fecha_demanda'].notnull()) & (file['monto_indeterminado'] == 0) &\n",
    "                                (file['monto_demandado']>10000),:].copy()\n",
    "         \n",
    "\n",
    "base.drop(labels = ['juicio_mediacion','estado_procesal','[1.030.00]', '[1.030.01]','[1.030.02]', '[1.030.03]', \n",
    "            '[1.080.00]', '[1.080.01]', '[1.080.02]','[1.080.03]', '[1.080.04]', '[1.080.99]',\n",
    "                   'monto_indeterminado'], axis = 1, inplace = True)\n",
    "base.reset_index(drop = True, inplace = True)\n",
    "\n",
    "del file"
   ]
  },
  {
   "cell_type": "code",
   "execution_count": 57,
   "metadata": {},
   "outputs": [],
   "source": [
    "base.columns = ['cia','tipo_d','fecha_demanda','monto_dem','ramo']"
   ]
  },
  {
   "cell_type": "code",
   "execution_count": 58,
   "metadata": {},
   "outputs": [
    {
     "data": {
      "text/plain": [
       "(208919, 5)"
      ]
     },
     "execution_count": 58,
     "metadata": {},
     "output_type": "execute_result"
    }
   ],
   "source": [
    "base.shape"
   ]
  },
  {
   "cell_type": "markdown",
   "metadata": {},
   "source": [
    "## Correción de fechas"
   ]
  },
  {
   "cell_type": "markdown",
   "metadata": {},
   "source": [
    "Para las demandas anteriores a 1991-04-01 se esa fecha como dato válido y se reemplaza. Lo mismo para posteriores a 2019-30-06"
   ]
  },
  {
   "cell_type": "code",
   "execution_count": 59,
   "metadata": {},
   "outputs": [],
   "source": [
    "def cast_fecha(x):\n",
    "    if x < pd.Timestamp(year = 1991, month = 4, day = 1):\n",
    "        return x.replace(year = 1991, month = 4, day = 1)\n",
    "    elif x > pd.Timestamp(year = 2019, month = 6, day = 30):\n",
    "        return x.replace(year = 2019, month = 6, day = 30)\n",
    "    else:    \n",
    "        return x.replace(year = x.year, month = x.month , day = x.day, hour = 0)"
   ]
  },
  {
   "cell_type": "code",
   "execution_count": 60,
   "metadata": {},
   "outputs": [],
   "source": [
    "base['fecha_demanda'] = base['fecha_demanda'].apply(lambda x: cast_fecha(x))\n",
    "base_completa = base.merge(how = 'left', left_on = ['fecha_demanda'], right_on = ['fecha'], right = factores)"
   ]
  },
  {
   "cell_type": "markdown",
   "metadata": {},
   "source": [
    "## Agregado del factor de actualización por tasa pasiva - Comunicación BCRA 14920"
   ]
  },
  {
   "cell_type": "markdown",
   "metadata": {},
   "source": [
    "#### Cálculo del monto actualizado"
   ]
  },
  {
   "cell_type": "code",
   "execution_count": 61,
   "metadata": {},
   "outputs": [],
   "source": [
    "base_completa['monto_actual'] = base_completa['monto_dem'] * base_completa['factor']"
   ]
  },
  {
   "cell_type": "markdown",
   "metadata": {},
   "source": [
    "#### Definición del factor de correción para modificar tramos"
   ]
  },
  {
   "cell_type": "code",
   "execution_count": 62,
   "metadata": {},
   "outputs": [],
   "source": [
    "alfa = 0.5\n",
    "indice = (factores[factores['fecha']=='2017-06-30']['factor']).to_numpy()\n",
    "\n",
    "correc = ((indice-1) * alfa) +1"
   ]
  },
  {
   "cell_type": "code",
   "execution_count": 63,
   "metadata": {},
   "outputs": [
    {
     "data": {
      "text/plain": [
       "array([1.60597089])"
      ]
     },
     "execution_count": 63,
     "metadata": {},
     "output_type": "execute_result"
    }
   ],
   "source": [
    "indice"
   ]
  },
  {
   "cell_type": "markdown",
   "metadata": {},
   "source": [
    "## Separación en Autos y RC"
   ]
  },
  {
   "cell_type": "code",
   "execution_count": 64,
   "metadata": {},
   "outputs": [],
   "source": [
    "base_au = base_completa[base_completa['ramo'] == 'auto'].copy()\n",
    "base_rc = base_completa[base_completa['ramo'] == 'rc'].copy()"
   ]
  },
  {
   "cell_type": "code",
   "execution_count": 65,
   "metadata": {},
   "outputs": [
    {
     "name": "stdout",
     "output_type": "stream",
     "text": [
      "(185767, 8)\n",
      "(23152, 8)\n"
     ]
    }
   ],
   "source": [
    "print(base_au.shape)\n",
    "print(base_rc.shape)"
   ]
  },
  {
   "cell_type": "markdown",
   "metadata": {},
   "source": [
    "## Tablas de tramos - Autos y RC"
   ]
  },
  {
   "cell_type": "code",
   "execution_count": 66,
   "metadata": {},
   "outputs": [],
   "source": [
    "auto_minimos = [0,100000,250000,700000,1500000,3000000,4000000, np.inf]\n",
    "rc_minimos = [0,200000,600000,2000000, np.inf]"
   ]
  },
  {
   "cell_type": "code",
   "execution_count": 67,
   "metadata": {},
   "outputs": [],
   "source": [
    "base_au['tramo'] = pd.cut(base_au['monto_actual'], auto_minimos, include_lowest = True,      \n",
    "      labels = ['T1', 'T2', 'T3', 'T4', 'T5', 'T6', 'T7'])\n",
    "\n",
    "base_rc['tramo'] = pd.cut(base_rc['monto_actual'], rc_minimos, include_lowest = True,      \n",
    "      labels = ['T1', 'T2', 'T3', 'T4'])"
   ]
  },
  {
   "cell_type": "code",
   "execution_count": 68,
   "metadata": {},
   "outputs": [],
   "source": [
    "import matplotlib.pyplot as plt\n",
    "import seaborn as sb\n",
    "\n",
    "%matplotlib inline"
   ]
  },
  {
   "cell_type": "markdown",
   "metadata": {},
   "source": [
    "### Correción de tramos - Prueba"
   ]
  },
  {
   "cell_type": "markdown",
   "metadata": {},
   "source": [
    "Se corrijen los tramos al multiplicarlos por el factor financiero ajustado un %"
   ]
  },
  {
   "cell_type": "code",
   "execution_count": 69,
   "metadata": {},
   "outputs": [],
   "source": [
    "autos_min_c = auto_minimos*(correc)\n",
    "rc_min_c = rc_minimos*(correc)"
   ]
  },
  {
   "cell_type": "code",
   "execution_count": 70,
   "metadata": {},
   "outputs": [],
   "source": [
    "base_au['tramo2'] = pd.cut(base_au['monto_actual'], autos_min_c, include_lowest = True,      \n",
    "      labels = ['T1', 'T2', 'T3', 'T4', 'T5', 'T6', 'T7'])\n",
    "\n",
    "base_rc['tramo2'] = pd.cut(base_rc['monto_actual'], rc_min_c, include_lowest = True,      \n",
    "      labels = ['T1', 'T2', 'T3', 'T4'])"
   ]
  },
  {
   "cell_type": "code",
   "execution_count": 71,
   "metadata": {},
   "outputs": [
    {
     "data": {
      "image/png": "[encoded data removed]",
      "text/plain": [
       "<Figure size 576x720 with 2 Axes>"
      ]
     },
     "metadata": {
      "needs_background": "light"
     },
     "output_type": "display_data"
    }
   ],
   "source": [
    "total = len(base_au)\n",
    "plt.figure(figsize=(8,10))\n",
    "plt.subplot(211)\n",
    "\n",
    "g = sb.countplot(x=\"tramo\", data=base_au, palette=\"ch:.25\")\n",
    "g.set_title('Dist. Tramos - Autos ', fontsize=18)\n",
    "g.set_ylabel(\"Ver\",fontsize= 17)\n",
    "sizes=[]\n",
    "for p in g.patches:\n",
    "    height = p.get_height()\n",
    "    sizes.append(height)\n",
    "    g.text(p.get_x()+p.get_width()/2.,\n",
    "            height + 3,\n",
    "            '{:1.2f}%'.format(height/total*100),\n",
    "            ha=\"center\", fontsize=14) \n",
    "g.set_ylim(0, max(sizes) * 1.15)\n",
    "\n",
    "\n",
    "plt.subplot(212)\n",
    "g2 = sb.countplot(x=\"tramo2\", data=base_au, palette=\"ch:.25\")\n",
    "g2.set_title('Dist. Tramos - Autos Modif - factor = {:1.2f}'.format(float(correc)), fontsize=18)\n",
    "g2.set_ylabel(\"Ver\",fontsize= 17)\n",
    "sizes=[]\n",
    "for p in g2.patches:\n",
    "    height = p.get_height()\n",
    "    sizes.append(height)\n",
    "    g2.text(p.get_x()+p.get_width()/2.,\n",
    "            height + 3,\n",
    "            '{:1.2f}%'.format(height/total*100),\n",
    "            ha=\"center\", fontsize=14) \n",
    "g2.set_ylim(0, max(sizes) * 1.15)\n",
    "\n",
    "\n",
    "plt.subplots_adjust(hspace = 0.3)\n",
    "\n",
    "plt.show()"
   ]
  },
  {
   "cell_type": "code",
   "execution_count": 72,
   "metadata": {},
   "outputs": [
    {
     "data": {
      "image/png": "[encoded data removed]",
      "text/plain": [
       "<Figure size 432x648 with 2 Axes>"
      ]
     },
     "metadata": {
      "needs_background": "light"
     },
     "output_type": "display_data"
    }
   ],
   "source": [
    "totalr = len(base_rc)\n",
    "plt.figure(figsize=(6,9))\n",
    "plt.subplot(211)\n",
    "\n",
    "gr = sb.countplot(x=\"tramo\", data=base_rc, palette=\"ch:.25\")\n",
    "gr.set_title('Distribucion por tramos - RC', fontsize=18)\n",
    "gr.set_ylabel(\"Cantidad\",fontsize= 15)\n",
    "sizes_rc=[]\n",
    "for p in gr.patches:\n",
    "    height_rc = p.get_height()\n",
    "    sizes_rc.append(height_rc)\n",
    "    gr.text(p.get_x()+p.get_width()/2.,\n",
    "            height_rc + 3,\n",
    "            '{:1.2f}%'.format(height_rc/totalr*100),\n",
    "            ha=\"center\", fontsize=12) \n",
    "gr.set_ylim(0, max(sizes_rc) * 1.15)\n",
    "\n",
    "\n",
    "plt.subplot(212)\n",
    "g2r = sb.countplot(x=\"tramo2\", data=base_rc, palette=\"ch:.25\")\n",
    "g2r.set_title('Distribucion por tramos - RC Modif- factor = {:1.2f}'.format(float(correc)), fontsize=18)\n",
    "g2r.set_ylabel(\"Ver\",fontsize= 15)\n",
    "sizes_rc=[]\n",
    "for p in g2r.patches:\n",
    "    height_rc = p.get_height()\n",
    "    sizes_rc.append(height_rc)\n",
    "    g2r.text(p.get_x()+p.get_width()/2.,\n",
    "            height_rc + 3,\n",
    "            '{:1.2f}%'.format(height_rc/totalr*100),\n",
    "            ha=\"center\", fontsize=12) \n",
    "g2r.set_ylim(0, max(sizes_rc) * 1.15)\n",
    "\n",
    "\n",
    "plt.subplots_adjust(hspace = 0.3)\n",
    "\n",
    "plt.show()"
   ]
  },
  {
   "cell_type": "markdown",
   "metadata": {},
   "source": [
    "## Reservas"
   ]
  },
  {
   "cell_type": "code",
   "execution_count": 73,
   "metadata": {},
   "outputs": [],
   "source": [
    "min_rva_autos = {'T1':(0.7,0), \n",
    "                   'T2':(0.45,70000), \n",
    "                   'T3':(0.3,112000), \n",
    "                   'T4':(0.35,245000), \n",
    "                   'T5':(0.25,450000), \n",
    "                   'T6':(0.2,750000), \n",
    "                   'T7':(1,800000)}\n",
    "\n",
    "min_rva_rc = {'T1':(0.3,0), \n",
    "                   'T2':(0.2,60000), \n",
    "                   'T3':(0.125,120000), \n",
    "                   'T4':(0.05,250000)}"
   ]
  },
  {
   "cell_type": "markdown",
   "metadata": {},
   "source": [
    "### Modificación de los mínimos de reserva"
   ]
  },
  {
   "cell_type": "code",
   "execution_count": 74,
   "metadata": {},
   "outputs": [],
   "source": [
    "min_rva_aut_modif = {k:(v[0],int(v[1]*float(correc))) for k,v in min_rva_autos.items()}\n",
    "min_rva_rc_modif = {k:(v[0],int(v[1]*float(correc))) for k,v in min_rva_rc.items()}"
   ]
  },
  {
   "cell_type": "code",
   "execution_count": 75,
   "metadata": {},
   "outputs": [],
   "source": [
    "#Vista de tramos\n",
    "base_au['mape'] = base_au.tramo.map(min_rva_autos)\n",
    "base_au['mape_modif'] = base_au.tramo2.map(min_rva_aut_modif)\n",
    "\n",
    "#Comparables - % de la demanda o mínimo de tramo\n",
    "base_au['m1'] = base_au.mape.apply(lambda x: x[0]) * base_au['monto_actual']\n",
    "base_au['m2'] = base_au.mape.apply(lambda x: x[1]) \n",
    "\n",
    "#Comparables Corregidos - % de la demanda o mínimo de tramo\n",
    "base_au['m1_corr'] = base_au.mape_modif.apply(lambda x: x[0]) * base_au['monto_actual']\n",
    "base_au['m2_corr'] = base_au.mape_modif.apply(lambda x: x[1])"
   ]
  },
  {
   "cell_type": "code",
   "execution_count": 76,
   "metadata": {},
   "outputs": [
    {
     "data": {
      "text/plain": [
       "{'T1': (0.7, 0),\n",
       " 'T2': (0.45, 91208),\n",
       " 'T3': (0.3, 145934),\n",
       " 'T4': (0.35, 319231),\n",
       " 'T5': (0.25, 586343),\n",
       " 'T6': (0.2, 977239),\n",
       " 'T7': (1, 1042388)}"
      ]
     },
     "execution_count": 76,
     "metadata": {},
     "output_type": "execute_result"
    }
   ],
   "source": [
    "min_rva_aut_modif"
   ]
  },
  {
   "cell_type": "markdown",
   "metadata": {},
   "source": [
    "### Reserva"
   ]
  },
  {
   "cell_type": "code",
   "execution_count": 77,
   "metadata": {},
   "outputs": [],
   "source": [
    "base_au['rva'] = base_au[['m1','m2']].max(axis=1)\n",
    "base_au['rva_modif'] = base_au[['m1_corr','m2_corr']].max(axis=1)"
   ]
  },
  {
   "cell_type": "code",
   "execution_count": 79,
   "metadata": {},
   "outputs": [
    {
     "data": {
      "text/plain": [
       "-0.0728670017733335"
      ]
     },
     "execution_count": 79,
     "metadata": {},
     "output_type": "execute_result"
    }
   ],
   "source": [
    "(base_au['rva_modif'].sum() / base_au['rva'].sum()) - 1"
   ]
  },
  {
   "cell_type": "code",
   "execution_count": 80,
   "metadata": {},
   "outputs": [
    {
     "data": {
      "text/html": [
       "<div>\n",
       "<style scoped>\n",
       "    .dataframe tbody tr th:only-of-type {\n",
       "        vertical-align: middle;\n",
       "    }\n",
       "\n",
       "    .dataframe tbody tr th {\n",
       "        vertical-align: top;\n",
       "    }\n",
       "\n",
       "    .dataframe thead th {\n",
       "        text-align: right;\n",
       "    }\n",
       "</style>\n",
       "<table border=\"1\" class=\"dataframe\">\n",
       "  <thead>\n",
       "    <tr style=\"text-align: right;\">\n",
       "      <th></th>\n",
       "      <th>cia</th>\n",
       "      <th>tipo_d</th>\n",
       "      <th>fecha_demanda</th>\n",
       "      <th>monto_dem</th>\n",
       "      <th>ramo</th>\n",
       "      <th>fecha</th>\n",
       "      <th>factor</th>\n",
       "      <th>monto_actual</th>\n",
       "      <th>tramo</th>\n",
       "      <th>tramo2</th>\n",
       "      <th>mape</th>\n",
       "      <th>mape_modif</th>\n",
       "      <th>m1</th>\n",
       "      <th>m2</th>\n",
       "      <th>m1_corr</th>\n",
       "      <th>m2_corr</th>\n",
       "      <th>rva</th>\n",
       "      <th>rva_modif</th>\n",
       "    </tr>\n",
       "  </thead>\n",
       "  <tbody>\n",
       "    <tr>\n",
       "      <th>84644</th>\n",
       "      <td>163</td>\n",
       "      <td>CL</td>\n",
       "      <td>2009-08-27</td>\n",
       "      <td>233500.000</td>\n",
       "      <td>auto</td>\n",
       "      <td>2009-08-27</td>\n",
       "      <td>4.202</td>\n",
       "      <td>981263.984</td>\n",
       "      <td>T4</td>\n",
       "      <td>T4</td>\n",
       "      <td>(0.35, 245000)</td>\n",
       "      <td>(0.35, 319231)</td>\n",
       "      <td>343442.395</td>\n",
       "      <td>245000</td>\n",
       "      <td>343442.395</td>\n",
       "      <td>319231</td>\n",
       "      <td>343442.395</td>\n",
       "      <td>343442.395</td>\n",
       "    </tr>\n",
       "    <tr>\n",
       "      <th>105547</th>\n",
       "      <td>79</td>\n",
       "      <td>M</td>\n",
       "      <td>2006-07-05</td>\n",
       "      <td>873743.000</td>\n",
       "      <td>auto</td>\n",
       "      <td>2006-07-05</td>\n",
       "      <td>5.261</td>\n",
       "      <td>4597135.798</td>\n",
       "      <td>T7</td>\n",
       "      <td>T6</td>\n",
       "      <td>(1, 800000)</td>\n",
       "      <td>(0.2, 977239)</td>\n",
       "      <td>4597135.798</td>\n",
       "      <td>800000</td>\n",
       "      <td>919427.160</td>\n",
       "      <td>977239</td>\n",
       "      <td>4597135.798</td>\n",
       "      <td>977239.000</td>\n",
       "    </tr>\n",
       "    <tr>\n",
       "      <th>35834</th>\n",
       "      <td>293</td>\n",
       "      <td>L</td>\n",
       "      <td>2016-03-15</td>\n",
       "      <td>62348.000</td>\n",
       "      <td>auto</td>\n",
       "      <td>2016-03-15</td>\n",
       "      <td>1.972</td>\n",
       "      <td>122972.622</td>\n",
       "      <td>T2</td>\n",
       "      <td>T1</td>\n",
       "      <td>(0.45, 70000)</td>\n",
       "      <td>(0.7, 0)</td>\n",
       "      <td>55337.680</td>\n",
       "      <td>70000</td>\n",
       "      <td>86080.836</td>\n",
       "      <td>0</td>\n",
       "      <td>70000.000</td>\n",
       "      <td>86080.836</td>\n",
       "    </tr>\n",
       "    <tr>\n",
       "      <th>97932</th>\n",
       "      <td>352</td>\n",
       "      <td>L</td>\n",
       "      <td>2011-08-04</td>\n",
       "      <td>49931.000</td>\n",
       "      <td>auto</td>\n",
       "      <td>2011-08-04</td>\n",
       "      <td>3.643</td>\n",
       "      <td>181879.252</td>\n",
       "      <td>T2</td>\n",
       "      <td>T2</td>\n",
       "      <td>(0.45, 70000)</td>\n",
       "      <td>(0.45, 91208)</td>\n",
       "      <td>81845.664</td>\n",
       "      <td>70000</td>\n",
       "      <td>81845.664</td>\n",
       "      <td>91208</td>\n",
       "      <td>81845.664</td>\n",
       "      <td>91208.000</td>\n",
       "    </tr>\n",
       "    <tr>\n",
       "      <th>76159</th>\n",
       "      <td>726</td>\n",
       "      <td>L</td>\n",
       "      <td>2018-09-26</td>\n",
       "      <td>589000.000</td>\n",
       "      <td>auto</td>\n",
       "      <td>2018-09-26</td>\n",
       "      <td>1.304</td>\n",
       "      <td>767933.770</td>\n",
       "      <td>T4</td>\n",
       "      <td>T3</td>\n",
       "      <td>(0.35, 245000)</td>\n",
       "      <td>(0.3, 145934)</td>\n",
       "      <td>268776.819</td>\n",
       "      <td>245000</td>\n",
       "      <td>230380.131</td>\n",
       "      <td>145934</td>\n",
       "      <td>268776.819</td>\n",
       "      <td>230380.131</td>\n",
       "    </tr>\n",
       "    <tr>\n",
       "      <th>14731</th>\n",
       "      <td>515</td>\n",
       "      <td>CL</td>\n",
       "      <td>2012-06-06</td>\n",
       "      <td>346955.000</td>\n",
       "      <td>auto</td>\n",
       "      <td>2012-06-06</td>\n",
       "      <td>3.367</td>\n",
       "      <td>1168246.236</td>\n",
       "      <td>T4</td>\n",
       "      <td>T4</td>\n",
       "      <td>(0.35, 245000)</td>\n",
       "      <td>(0.35, 319231)</td>\n",
       "      <td>408886.182</td>\n",
       "      <td>245000</td>\n",
       "      <td>408886.182</td>\n",
       "      <td>319231</td>\n",
       "      <td>408886.182</td>\n",
       "      <td>408886.182</td>\n",
       "    </tr>\n",
       "    <tr>\n",
       "      <th>76695</th>\n",
       "      <td>726</td>\n",
       "      <td>M</td>\n",
       "      <td>2016-08-31</td>\n",
       "      <td>3738652.880</td>\n",
       "      <td>auto</td>\n",
       "      <td>2016-08-31</td>\n",
       "      <td>1.799</td>\n",
       "      <td>6724278.152</td>\n",
       "      <td>T7</td>\n",
       "      <td>T7</td>\n",
       "      <td>(1, 800000)</td>\n",
       "      <td>(1, 1042388)</td>\n",
       "      <td>6724278.152</td>\n",
       "      <td>800000</td>\n",
       "      <td>6724278.152</td>\n",
       "      <td>1042388</td>\n",
       "      <td>6724278.152</td>\n",
       "      <td>6724278.152</td>\n",
       "    </tr>\n",
       "    <tr>\n",
       "      <th>67155</th>\n",
       "      <td>501</td>\n",
       "      <td>CL</td>\n",
       "      <td>2015-08-27</td>\n",
       "      <td>544850.000</td>\n",
       "      <td>auto</td>\n",
       "      <td>2015-08-27</td>\n",
       "      <td>2.180</td>\n",
       "      <td>1187948.708</td>\n",
       "      <td>T4</td>\n",
       "      <td>T4</td>\n",
       "      <td>(0.35, 245000)</td>\n",
       "      <td>(0.35, 319231)</td>\n",
       "      <td>415782.048</td>\n",
       "      <td>245000</td>\n",
       "      <td>415782.048</td>\n",
       "      <td>319231</td>\n",
       "      <td>415782.048</td>\n",
       "      <td>415782.048</td>\n",
       "    </tr>\n",
       "    <tr>\n",
       "      <th>166080</th>\n",
       "      <td>163</td>\n",
       "      <td>CL</td>\n",
       "      <td>2016-06-10</td>\n",
       "      <td>548000.000</td>\n",
       "      <td>auto</td>\n",
       "      <td>2016-06-10</td>\n",
       "      <td>1.875</td>\n",
       "      <td>1027617.150</td>\n",
       "      <td>T4</td>\n",
       "      <td>T4</td>\n",
       "      <td>(0.35, 245000)</td>\n",
       "      <td>(0.35, 319231)</td>\n",
       "      <td>359666.002</td>\n",
       "      <td>245000</td>\n",
       "      <td>359666.002</td>\n",
       "      <td>319231</td>\n",
       "      <td>359666.002</td>\n",
       "      <td>359666.002</td>\n",
       "    </tr>\n",
       "    <tr>\n",
       "      <th>177969</th>\n",
       "      <td>352</td>\n",
       "      <td>L</td>\n",
       "      <td>2013-08-21</td>\n",
       "      <td>123500.000</td>\n",
       "      <td>auto</td>\n",
       "      <td>2013-08-21</td>\n",
       "      <td>2.973</td>\n",
       "      <td>367111.419</td>\n",
       "      <td>T3</td>\n",
       "      <td>T3</td>\n",
       "      <td>(0.3, 112000)</td>\n",
       "      <td>(0.3, 145934)</td>\n",
       "      <td>110133.426</td>\n",
       "      <td>112000</td>\n",
       "      <td>110133.426</td>\n",
       "      <td>145934</td>\n",
       "      <td>112000.000</td>\n",
       "      <td>145934.000</td>\n",
       "    </tr>\n",
       "    <tr>\n",
       "      <th>78488</th>\n",
       "      <td>726</td>\n",
       "      <td>L</td>\n",
       "      <td>2018-05-31</td>\n",
       "      <td>330000.000</td>\n",
       "      <td>auto</td>\n",
       "      <td>2018-05-31</td>\n",
       "      <td>1.405</td>\n",
       "      <td>463757.069</td>\n",
       "      <td>T3</td>\n",
       "      <td>T3</td>\n",
       "      <td>(0.3, 112000)</td>\n",
       "      <td>(0.3, 145934)</td>\n",
       "      <td>139127.121</td>\n",
       "      <td>112000</td>\n",
       "      <td>139127.121</td>\n",
       "      <td>145934</td>\n",
       "      <td>139127.121</td>\n",
       "      <td>145934.000</td>\n",
       "    </tr>\n",
       "    <tr>\n",
       "      <th>175393</th>\n",
       "      <td>39</td>\n",
       "      <td>LM</td>\n",
       "      <td>2012-12-01</td>\n",
       "      <td>844000.000</td>\n",
       "      <td>auto</td>\n",
       "      <td>2012-12-01</td>\n",
       "      <td>3.215</td>\n",
       "      <td>2713825.765</td>\n",
       "      <td>T5</td>\n",
       "      <td>T5</td>\n",
       "      <td>(0.25, 450000)</td>\n",
       "      <td>(0.25, 586343)</td>\n",
       "      <td>678456.441</td>\n",
       "      <td>450000</td>\n",
       "      <td>678456.441</td>\n",
       "      <td>586343</td>\n",
       "      <td>678456.441</td>\n",
       "      <td>678456.441</td>\n",
       "    </tr>\n",
       "    <tr>\n",
       "      <th>52550</th>\n",
       "      <td>57</td>\n",
       "      <td>CL</td>\n",
       "      <td>2019-03-12</td>\n",
       "      <td>655000.000</td>\n",
       "      <td>auto</td>\n",
       "      <td>2019-03-12</td>\n",
       "      <td>1.117</td>\n",
       "      <td>731574.547</td>\n",
       "      <td>T4</td>\n",
       "      <td>T3</td>\n",
       "      <td>(0.35, 245000)</td>\n",
       "      <td>(0.3, 145934)</td>\n",
       "      <td>256051.092</td>\n",
       "      <td>245000</td>\n",
       "      <td>219472.364</td>\n",
       "      <td>145934</td>\n",
       "      <td>256051.092</td>\n",
       "      <td>219472.364</td>\n",
       "    </tr>\n",
       "    <tr>\n",
       "      <th>122817</th>\n",
       "      <td>726</td>\n",
       "      <td>L</td>\n",
       "      <td>2018-06-04</td>\n",
       "      <td>810000.000</td>\n",
       "      <td>auto</td>\n",
       "      <td>2018-06-04</td>\n",
       "      <td>1.403</td>\n",
       "      <td>1136395.277</td>\n",
       "      <td>T4</td>\n",
       "      <td>T4</td>\n",
       "      <td>(0.35, 245000)</td>\n",
       "      <td>(0.35, 319231)</td>\n",
       "      <td>397738.347</td>\n",
       "      <td>245000</td>\n",
       "      <td>397738.347</td>\n",
       "      <td>319231</td>\n",
       "      <td>397738.347</td>\n",
       "      <td>397738.347</td>\n",
       "    </tr>\n",
       "    <tr>\n",
       "      <th>94893</th>\n",
       "      <td>726</td>\n",
       "      <td>CL</td>\n",
       "      <td>2010-12-29</td>\n",
       "      <td>30000.000</td>\n",
       "      <td>auto</td>\n",
       "      <td>2010-12-29</td>\n",
       "      <td>3.808</td>\n",
       "      <td>114237.057</td>\n",
       "      <td>T2</td>\n",
       "      <td>T1</td>\n",
       "      <td>(0.45, 70000)</td>\n",
       "      <td>(0.7, 0)</td>\n",
       "      <td>51406.675</td>\n",
       "      <td>70000</td>\n",
       "      <td>79965.940</td>\n",
       "      <td>0</td>\n",
       "      <td>70000.000</td>\n",
       "      <td>79965.940</td>\n",
       "    </tr>\n",
       "    <tr>\n",
       "      <th>6861</th>\n",
       "      <td>501</td>\n",
       "      <td>CL</td>\n",
       "      <td>2019-04-25</td>\n",
       "      <td>638500.000</td>\n",
       "      <td>auto</td>\n",
       "      <td>2019-04-25</td>\n",
       "      <td>1.073</td>\n",
       "      <td>684909.939</td>\n",
       "      <td>T3</td>\n",
       "      <td>T3</td>\n",
       "      <td>(0.3, 112000)</td>\n",
       "      <td>(0.3, 145934)</td>\n",
       "      <td>205472.982</td>\n",
       "      <td>112000</td>\n",
       "      <td>205472.982</td>\n",
       "      <td>145934</td>\n",
       "      <td>205472.982</td>\n",
       "      <td>205472.982</td>\n",
       "    </tr>\n",
       "    <tr>\n",
       "      <th>177905</th>\n",
       "      <td>39</td>\n",
       "      <td>L</td>\n",
       "      <td>2015-06-20</td>\n",
       "      <td>341900.000</td>\n",
       "      <td>auto</td>\n",
       "      <td>2015-06-20</td>\n",
       "      <td>2.246</td>\n",
       "      <td>767750.327</td>\n",
       "      <td>T4</td>\n",
       "      <td>T3</td>\n",
       "      <td>(0.35, 245000)</td>\n",
       "      <td>(0.3, 145934)</td>\n",
       "      <td>268712.615</td>\n",
       "      <td>245000</td>\n",
       "      <td>230325.098</td>\n",
       "      <td>145934</td>\n",
       "      <td>268712.615</td>\n",
       "      <td>230325.098</td>\n",
       "    </tr>\n",
       "    <tr>\n",
       "      <th>140571</th>\n",
       "      <td>515</td>\n",
       "      <td>L</td>\n",
       "      <td>2011-09-21</td>\n",
       "      <td>77100.000</td>\n",
       "      <td>auto</td>\n",
       "      <td>2011-09-21</td>\n",
       "      <td>3.606</td>\n",
       "      <td>277985.827</td>\n",
       "      <td>T3</td>\n",
       "      <td>T2</td>\n",
       "      <td>(0.3, 112000)</td>\n",
       "      <td>(0.45, 91208)</td>\n",
       "      <td>83395.748</td>\n",
       "      <td>112000</td>\n",
       "      <td>125093.622</td>\n",
       "      <td>91208</td>\n",
       "      <td>112000.000</td>\n",
       "      <td>125093.622</td>\n",
       "    </tr>\n",
       "    <tr>\n",
       "      <th>124651</th>\n",
       "      <td>222</td>\n",
       "      <td>C</td>\n",
       "      <td>2018-07-30</td>\n",
       "      <td>729600.000</td>\n",
       "      <td>auto</td>\n",
       "      <td>2018-07-30</td>\n",
       "      <td>1.358</td>\n",
       "      <td>990504.160</td>\n",
       "      <td>T4</td>\n",
       "      <td>T4</td>\n",
       "      <td>(0.35, 245000)</td>\n",
       "      <td>(0.35, 319231)</td>\n",
       "      <td>346676.456</td>\n",
       "      <td>245000</td>\n",
       "      <td>346676.456</td>\n",
       "      <td>319231</td>\n",
       "      <td>346676.456</td>\n",
       "      <td>346676.456</td>\n",
       "    </tr>\n",
       "    <tr>\n",
       "      <th>169583</th>\n",
       "      <td>213</td>\n",
       "      <td>C</td>\n",
       "      <td>2015-10-21</td>\n",
       "      <td>973900.000</td>\n",
       "      <td>auto</td>\n",
       "      <td>2015-10-21</td>\n",
       "      <td>2.128</td>\n",
       "      <td>2071981.425</td>\n",
       "      <td>T5</td>\n",
       "      <td>T5</td>\n",
       "      <td>(0.25, 450000)</td>\n",
       "      <td>(0.25, 586343)</td>\n",
       "      <td>517995.356</td>\n",
       "      <td>450000</td>\n",
       "      <td>517995.356</td>\n",
       "      <td>586343</td>\n",
       "      <td>517995.356</td>\n",
       "      <td>586343.000</td>\n",
       "    </tr>\n",
       "  </tbody>\n",
       "</table>\n",
       "</div>"
      ],
      "text/plain": [
       "        cia tipo_d fecha_demanda   monto_dem  ramo      fecha  factor  \\\n",
       "84644   163     CL    2009-08-27  233500.000  auto 2009-08-27   4.202   \n",
       "105547   79      M    2006-07-05  873743.000  auto 2006-07-05   5.261   \n",
       "35834   293      L    2016-03-15   62348.000  auto 2016-03-15   1.972   \n",
       "97932   352      L    2011-08-04   49931.000  auto 2011-08-04   3.643   \n",
       "76159   726      L    2018-09-26  589000.000  auto 2018-09-26   1.304   \n",
       "14731   515     CL    2012-06-06  346955.000  auto 2012-06-06   3.367   \n",
       "76695   726      M    2016-08-31 3738652.880  auto 2016-08-31   1.799   \n",
       "67155   501     CL    2015-08-27  544850.000  auto 2015-08-27   2.180   \n",
       "166080  163     CL    2016-06-10  548000.000  auto 2016-06-10   1.875   \n",
       "177969  352      L    2013-08-21  123500.000  auto 2013-08-21   2.973   \n",
       "78488   726      L    2018-05-31  330000.000  auto 2018-05-31   1.405   \n",
       "175393   39     LM    2012-12-01  844000.000  auto 2012-12-01   3.215   \n",
       "52550    57     CL    2019-03-12  655000.000  auto 2019-03-12   1.117   \n",
       "122817  726      L    2018-06-04  810000.000  auto 2018-06-04   1.403   \n",
       "94893   726     CL    2010-12-29   30000.000  auto 2010-12-29   3.808   \n",
       "6861    501     CL    2019-04-25  638500.000  auto 2019-04-25   1.073   \n",
       "177905   39      L    2015-06-20  341900.000  auto 2015-06-20   2.246   \n",
       "140571  515      L    2011-09-21   77100.000  auto 2011-09-21   3.606   \n",
       "124651  222      C    2018-07-30  729600.000  auto 2018-07-30   1.358   \n",
       "169583  213      C    2015-10-21  973900.000  auto 2015-10-21   2.128   \n",
       "\n",
       "        monto_actual tramo tramo2            mape      mape_modif          m1  \\\n",
       "84644     981263.984    T4     T4  (0.35, 245000)  (0.35, 319231)  343442.395   \n",
       "105547   4597135.798    T7     T6     (1, 800000)   (0.2, 977239) 4597135.798   \n",
       "35834     122972.622    T2     T1   (0.45, 70000)        (0.7, 0)   55337.680   \n",
       "97932     181879.252    T2     T2   (0.45, 70000)   (0.45, 91208)   81845.664   \n",
       "76159     767933.770    T4     T3  (0.35, 245000)   (0.3, 145934)  268776.819   \n",
       "14731    1168246.236    T4     T4  (0.35, 245000)  (0.35, 319231)  408886.182   \n",
       "76695    6724278.152    T7     T7     (1, 800000)    (1, 1042388) 6724278.152   \n",
       "67155    1187948.708    T4     T4  (0.35, 245000)  (0.35, 319231)  415782.048   \n",
       "166080   1027617.150    T4     T4  (0.35, 245000)  (0.35, 319231)  359666.002   \n",
       "177969    367111.419    T3     T3   (0.3, 112000)   (0.3, 145934)  110133.426   \n",
       "78488     463757.069    T3     T3   (0.3, 112000)   (0.3, 145934)  139127.121   \n",
       "175393   2713825.765    T5     T5  (0.25, 450000)  (0.25, 586343)  678456.441   \n",
       "52550     731574.547    T4     T3  (0.35, 245000)   (0.3, 145934)  256051.092   \n",
       "122817   1136395.277    T4     T4  (0.35, 245000)  (0.35, 319231)  397738.347   \n",
       "94893     114237.057    T2     T1   (0.45, 70000)        (0.7, 0)   51406.675   \n",
       "6861      684909.939    T3     T3   (0.3, 112000)   (0.3, 145934)  205472.982   \n",
       "177905    767750.327    T4     T3  (0.35, 245000)   (0.3, 145934)  268712.615   \n",
       "140571    277985.827    T3     T2   (0.3, 112000)   (0.45, 91208)   83395.748   \n",
       "124651    990504.160    T4     T4  (0.35, 245000)  (0.35, 319231)  346676.456   \n",
       "169583   2071981.425    T5     T5  (0.25, 450000)  (0.25, 586343)  517995.356   \n",
       "\n",
       "            m2     m1_corr  m2_corr         rva   rva_modif  \n",
       "84644   245000  343442.395   319231  343442.395  343442.395  \n",
       "105547  800000  919427.160   977239 4597135.798  977239.000  \n",
       "35834    70000   86080.836        0   70000.000   86080.836  \n",
       "97932    70000   81845.664    91208   81845.664   91208.000  \n",
       "76159   245000  230380.131   145934  268776.819  230380.131  \n",
       "14731   245000  408886.182   319231  408886.182  408886.182  \n",
       "76695   800000 6724278.152  1042388 6724278.152 6724278.152  \n",
       "67155   245000  415782.048   319231  415782.048  415782.048  \n",
       "166080  245000  359666.002   319231  359666.002  359666.002  \n",
       "177969  112000  110133.426   145934  112000.000  145934.000  \n",
       "78488   112000  139127.121   145934  139127.121  145934.000  \n",
       "175393  450000  678456.441   586343  678456.441  678456.441  \n",
       "52550   245000  219472.364   145934  256051.092  219472.364  \n",
       "122817  245000  397738.347   319231  397738.347  397738.347  \n",
       "94893    70000   79965.940        0   70000.000   79965.940  \n",
       "6861    112000  205472.982   145934  205472.982  205472.982  \n",
       "177905  245000  230325.098   145934  268712.615  230325.098  \n",
       "140571  112000  125093.622    91208  112000.000  125093.622  \n",
       "124651  245000  346676.456   319231  346676.456  346676.456  \n",
       "169583  450000  517995.356   586343  517995.356  586343.000  "
      ]
     },
     "execution_count": 80,
     "metadata": {},
     "output_type": "execute_result"
    }
   ],
   "source": [
    "base_au.sample(20)"
   ]
  },
  {
   "cell_type": "code",
   "execution_count": 39,
   "metadata": {},
   "outputs": [
    {
     "data": {
      "text/plain": [
       "106152972556.92354"
      ]
     },
     "execution_count": 39,
     "metadata": {},
     "output_type": "execute_result"
    }
   ],
   "source": [
    "base_au['rva_modif'].sum()"
   ]
  },
  {
   "cell_type": "code",
   "execution_count": 40,
   "metadata": {},
   "outputs": [
    {
     "data": {
      "text/plain": [
       "110658281400.13716"
      ]
     },
     "execution_count": 40,
     "metadata": {},
     "output_type": "execute_result"
    }
   ],
   "source": [
    "base_au['rva'].sum()"
   ]
  },
  {
   "cell_type": "code",
   "execution_count": null,
   "metadata": {},
   "outputs": [],
   "source": []
  }
 ],
 "metadata": {
  "kernelspec": {
   "display_name": "Python 3",
   "language": "python",
   "name": "python3"
  },
  "language_info": {
   "codemirror_mode": {
    "name": "ipython",
    "version": 3
   },
   "file_extension": ".py",
   "mimetype": "text/x-python",
   "name": "python",
   "nbconvert_exporter": "python",
   "pygments_lexer": "ipython3",
   "version": "3.7.0"
  }
 },
 "nbformat": 4,
 "nbformat_minor": 2
}
