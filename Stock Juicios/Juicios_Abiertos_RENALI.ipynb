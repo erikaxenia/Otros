{
 "cells": [
  {
   "cell_type": "markdown",
   "metadata": {},
   "source": [
    "## JUICIOS ABIERTOS RE.NA.LI."
   ]
  },
  {
   "cell_type": "code",
   "execution_count": 15,
   "metadata": {
    "collapsed": true
   },
   "outputs": [],
   "source": [
    "import numpy as np\n",
    "import scipy as sp\n",
    "import pandas as pd\n",
    "import matplotlib.pyplot as plt\n",
    "import seaborn as sns\n",
    "import math\n",
    "import time\n",
    "import datetime\n",
    "\n",
    "%matplotlib inline\n",
    "\n",
    "#pd.options.display.max_rows = 10\n",
    "pd.options.display.float_format = '{:,.2f}'.format\n",
    "plt.rcParams['figure.figsize'] = (7, 5)"
   ]
  },
  {
   "cell_type": "code",
   "execution_count": 16,
   "metadata": {
    "collapsed": true
   },
   "outputs": [],
   "source": [
    "#Importo la base\n",
    "\n",
    "base=pd.read_excel(r'C:\\Users\\eangenello\\Desktop\\PYTHON\\input\\ART\\RENALI\\Juicios abiertos contratos 2019-2.xlsx')"
   ]
  },
  {
   "cell_type": "code",
   "execution_count": 17,
   "metadata": {
    "scrolled": true
   },
   "outputs": [
    {
     "data": {
      "text/html": [
       "<div>\n",
       "<style scoped>\n",
       "    .dataframe tbody tr th:only-of-type {\n",
       "        vertical-align: middle;\n",
       "    }\n",
       "\n",
       "    .dataframe tbody tr th {\n",
       "        vertical-align: top;\n",
       "    }\n",
       "\n",
       "    .dataframe thead th {\n",
       "        text-align: right;\n",
       "    }\n",
       "</style>\n",
       "<table border=\"1\" class=\"dataframe\">\n",
       "  <thead>\n",
       "    <tr style=\"text-align: right;\">\n",
       "      <th></th>\n",
       "      <th>Aseguradora</th>\n",
       "      <th>NRO_EXPJUDICIAL</th>\n",
       "      <th>CARATULA</th>\n",
       "      <th>F_notificacion</th>\n",
       "      <th>DPTO_JUDICIAL</th>\n",
       "      <th>FUERO</th>\n",
       "      <th>JUZGADO</th>\n",
       "      <th>provincia</th>\n",
       "      <th>CUIT_emp</th>\n",
       "      <th>EMPLEADOR</th>\n",
       "      <th>...</th>\n",
       "      <th>MONTO_RECLAMADO_INDETERMINADO</th>\n",
       "      <th>MONTO_RECLAMADO</th>\n",
       "      <th>SENT_PRIMERA</th>\n",
       "      <th>CONTIGENCIA</th>\n",
       "      <th>ENF_RECLAMADA</th>\n",
       "      <th>OBJ_RECLAMADO</th>\n",
       "      <th>fsiniestro</th>\n",
       "      <th>Contrato_PMI</th>\n",
       "      <th>Via Adm</th>\n",
       "      <th>Posible via adm</th>\n",
       "    </tr>\n",
       "  </thead>\n",
       "  <tbody>\n",
       "    <tr>\n",
       "      <th>0</th>\n",
       "      <td>ASOCIART</td>\n",
       "      <td>0002-0000019603/16</td>\n",
       "      <td>ALVAREZ JORGE DANIEL C/ ASOCIART S.A. ART S/ D...</td>\n",
       "      <td>2017-11-02</td>\n",
       "      <td>2</td>\n",
       "      <td>CIVIL</td>\n",
       "      <td>NACIONAL DE 1ª INSTANCIA EN LO CIVIL Nº 27</td>\n",
       "      <td>C.A.B.A.</td>\n",
       "      <td>30693148363</td>\n",
       "      <td>ZARA ARGENTINA S A                            ...</td>\n",
       "      <td>...</td>\n",
       "      <td>N</td>\n",
       "      <td>1,343,082.00</td>\n",
       "      <td>nan</td>\n",
       "      <td>Accidentes de trabajo.</td>\n",
       "      <td>NaN</td>\n",
       "      <td>CC - Art. 1072</td>\n",
       "      <td>2014-10-12</td>\n",
       "      <td>SI</td>\n",
       "      <td>NO</td>\n",
       "      <td>NO</td>\n",
       "    </tr>\n",
       "    <tr>\n",
       "      <th>1</th>\n",
       "      <td>ASOCIART</td>\n",
       "      <td>0002-0000079724/15</td>\n",
       "      <td>MERLO DANIEL FERNANDO C/ ASOCIART S.A. ART S/ ...</td>\n",
       "      <td>2017-04-28</td>\n",
       "      <td>2</td>\n",
       "      <td>CIVIL</td>\n",
       "      <td>NACIONAL DE 1ª INSTANCIA EN LO CIVIL Nº 27</td>\n",
       "      <td>C.A.B.A.</td>\n",
       "      <td>33659119329</td>\n",
       "      <td>TERMINAL PANAMERICANA S A                     ...</td>\n",
       "      <td>...</td>\n",
       "      <td>N</td>\n",
       "      <td>1,231,796.40</td>\n",
       "      <td>nan</td>\n",
       "      <td>Accidentes de trabajo.</td>\n",
       "      <td>NaN</td>\n",
       "      <td>CC - Art. 1072</td>\n",
       "      <td>2013-02-15</td>\n",
       "      <td>SI</td>\n",
       "      <td>NO</td>\n",
       "      <td>NO</td>\n",
       "    </tr>\n",
       "    <tr>\n",
       "      <th>2</th>\n",
       "      <td>ASOCIART</td>\n",
       "      <td>0002-0000087980/11</td>\n",
       "      <td>MESA DARIO ALEJANDRO C/ OSVALDO OLIVARI SRL Y ...</td>\n",
       "      <td>2018-08-13</td>\n",
       "      <td>2</td>\n",
       "      <td>CIVIL</td>\n",
       "      <td>NACIONAL DE 1ª INSTANCIA EN LO CIVIL Nº 27</td>\n",
       "      <td>C.A.B.A.</td>\n",
       "      <td>30709220221</td>\n",
       "      <td>ESTIBAJES DEL DOCK S.A.                       ...</td>\n",
       "      <td>...</td>\n",
       "      <td>N</td>\n",
       "      <td>194,000.00</td>\n",
       "      <td>nan</td>\n",
       "      <td>Accidentes de trabajo.</td>\n",
       "      <td>NaN</td>\n",
       "      <td>CC - Art. 1072</td>\n",
       "      <td>2009-10-23</td>\n",
       "      <td>SI</td>\n",
       "      <td>NO</td>\n",
       "      <td>NO</td>\n",
       "    </tr>\n",
       "    <tr>\n",
       "      <th>3</th>\n",
       "      <td>ASOCIART</td>\n",
       "      <td>0012-0000021945/17</td>\n",
       "      <td>BURGOS HECTOR ALEJANDRO C/ ASOCIART S.A. ART Y...</td>\n",
       "      <td>2019-02-14</td>\n",
       "      <td>12</td>\n",
       "      <td>CIVIL</td>\n",
       "      <td>NACIONAL DE 1ª INSTANCIA EN LO CIVIL Nº 37</td>\n",
       "      <td>C.A.B.A.</td>\n",
       "      <td>20048114645</td>\n",
       "      <td>FAGGIANO JORGE HORACIO                        ...</td>\n",
       "      <td>...</td>\n",
       "      <td>N</td>\n",
       "      <td>290,000.00</td>\n",
       "      <td>nan</td>\n",
       "      <td>Accidentes de trabajo.</td>\n",
       "      <td>NaN</td>\n",
       "      <td>CC - Art. 1072</td>\n",
       "      <td>2015-04-05</td>\n",
       "      <td>SI</td>\n",
       "      <td>NO</td>\n",
       "      <td>NO</td>\n",
       "    </tr>\n",
       "    <tr>\n",
       "      <th>4</th>\n",
       "      <td>ASOCIART</td>\n",
       "      <td>0015-0000095527/12</td>\n",
       "      <td>ZAMBRANO JOSE GUILLERMO C/ EXELTER S.R.L. Y OT...</td>\n",
       "      <td>2014-07-02</td>\n",
       "      <td>15</td>\n",
       "      <td>CIVIL</td>\n",
       "      <td>NACIONAL DE 1ª INSTANCIA EN LO CIVIL Nº 15</td>\n",
       "      <td>C.A.B.A.</td>\n",
       "      <td>30695442846</td>\n",
       "      <td>EXELTAX SRL                                   ...</td>\n",
       "      <td>...</td>\n",
       "      <td>N</td>\n",
       "      <td>201,456.00</td>\n",
       "      <td>nan</td>\n",
       "      <td>Accidentes de trabajo.</td>\n",
       "      <td>NaN</td>\n",
       "      <td>LRT - Prestación dineraria</td>\n",
       "      <td>2011-02-10</td>\n",
       "      <td>SI</td>\n",
       "      <td>NO</td>\n",
       "      <td>NO</td>\n",
       "    </tr>\n",
       "  </tbody>\n",
       "</table>\n",
       "<p>5 rows × 21 columns</p>\n",
       "</div>"
      ],
      "text/plain": [
       "  Aseguradora     NRO_EXPJUDICIAL  \\\n",
       "0    ASOCIART  0002-0000019603/16   \n",
       "1    ASOCIART  0002-0000079724/15   \n",
       "2    ASOCIART  0002-0000087980/11   \n",
       "3    ASOCIART  0012-0000021945/17   \n",
       "4    ASOCIART  0015-0000095527/12   \n",
       "\n",
       "                                            CARATULA F_notificacion  \\\n",
       "0  ALVAREZ JORGE DANIEL C/ ASOCIART S.A. ART S/ D...     2017-11-02   \n",
       "1  MERLO DANIEL FERNANDO C/ ASOCIART S.A. ART S/ ...     2017-04-28   \n",
       "2  MESA DARIO ALEJANDRO C/ OSVALDO OLIVARI SRL Y ...     2018-08-13   \n",
       "3  BURGOS HECTOR ALEJANDRO C/ ASOCIART S.A. ART Y...     2019-02-14   \n",
       "4  ZAMBRANO JOSE GUILLERMO C/ EXELTER S.R.L. Y OT...     2014-07-02   \n",
       "\n",
       "   DPTO_JUDICIAL  FUERO                                     JUZGADO  \\\n",
       "0              2  CIVIL  NACIONAL DE 1ª INSTANCIA EN LO CIVIL Nº 27   \n",
       "1              2  CIVIL  NACIONAL DE 1ª INSTANCIA EN LO CIVIL Nº 27   \n",
       "2              2  CIVIL  NACIONAL DE 1ª INSTANCIA EN LO CIVIL Nº 27   \n",
       "3             12  CIVIL  NACIONAL DE 1ª INSTANCIA EN LO CIVIL Nº 37   \n",
       "4             15  CIVIL  NACIONAL DE 1ª INSTANCIA EN LO CIVIL Nº 15   \n",
       "\n",
       "   provincia     CUIT_emp                                          EMPLEADOR  \\\n",
       "0  C.A.B.A.   30693148363  ZARA ARGENTINA S A                            ...   \n",
       "1  C.A.B.A.   33659119329  TERMINAL PANAMERICANA S A                     ...   \n",
       "2  C.A.B.A.   30709220221  ESTIBAJES DEL DOCK S.A.                       ...   \n",
       "3  C.A.B.A.   20048114645  FAGGIANO JORGE HORACIO                        ...   \n",
       "4  C.A.B.A.   30695442846  EXELTAX SRL                                   ...   \n",
       "\n",
       "        ...       MONTO_RECLAMADO_INDETERMINADO MONTO_RECLAMADO  SENT_PRIMERA  \\\n",
       "0       ...                                   N    1,343,082.00           nan   \n",
       "1       ...                                   N    1,231,796.40           nan   \n",
       "2       ...                                   N      194,000.00           nan   \n",
       "3       ...                                   N      290,000.00           nan   \n",
       "4       ...                                   N      201,456.00           nan   \n",
       "\n",
       "              CONTIGENCIA ENF_RECLAMADA               OBJ_RECLAMADO  \\\n",
       "0  Accidentes de trabajo.           NaN              CC - Art. 1072   \n",
       "1  Accidentes de trabajo.           NaN              CC - Art. 1072   \n",
       "2  Accidentes de trabajo.           NaN              CC - Art. 1072   \n",
       "3  Accidentes de trabajo.           NaN              CC - Art. 1072   \n",
       "4  Accidentes de trabajo.           NaN  LRT - Prestación dineraria   \n",
       "\n",
       "  fsiniestro Contrato_PMI Via Adm Posible via adm  \n",
       "0 2014-10-12           SI      NO              NO  \n",
       "1 2013-02-15           SI      NO              NO  \n",
       "2 2009-10-23           SI      NO              NO  \n",
       "3 2015-04-05           SI      NO              NO  \n",
       "4 2011-02-10           SI      NO              NO  \n",
       "\n",
       "[5 rows x 21 columns]"
      ]
     },
     "execution_count": 17,
     "metadata": {},
     "output_type": "execute_result"
    }
   ],
   "source": [
    "# Visualizo los primeros datos\n",
    "\n",
    "base.head()"
   ]
  },
  {
   "cell_type": "code",
   "execution_count": 18,
   "metadata": {
    "collapsed": true
   },
   "outputs": [],
   "source": [
    "#Cambio el tipo de dato\n",
    "\n",
    "base['DPTO_JUDICIAL'] = base['DPTO_JUDICIAL'].astype(object)\n",
    "base['SENT_PRIMERA'] = base['SENT_PRIMERA'].astype(object)"
   ]
  },
  {
   "cell_type": "code",
   "execution_count": 20,
   "metadata": {
    "collapsed": true
   },
   "outputs": [],
   "source": [
    "Dataset_compañías=pd.read_excel(r'C:\\Users\\eangenello\\Desktop\\PYTHON\\input\\ART\\Dataset_Compañías.xlsx', sheet_name='Sentencias')\n",
    "\n",
    "base=base.merge(Dataset_compañías, how='inner', on='Aseguradora')"
   ]
  },
  {
   "cell_type": "markdown",
   "metadata": {},
   "source": [
    "### Imputación de valores missing"
   ]
  },
  {
   "cell_type": "code",
   "execution_count": 21,
   "metadata": {},
   "outputs": [
    {
     "data": {
      "text/plain": [
       "30051"
      ]
     },
     "execution_count": 21,
     "metadata": {},
     "output_type": "execute_result"
    }
   ],
   "source": [
    "# Veo la cantidad de missing en la variable 'Monto Reclamado'\n",
    "\n",
    "base['MONTO_RECLAMADO'].isna().sum()"
   ]
  },
  {
   "cell_type": "code",
   "execution_count": 22,
   "metadata": {
    "scrolled": true
   },
   "outputs": [
    {
     "name": "stdout",
     "output_type": "stream",
     "text": [
      "Aseguradora\n",
      "\n",
      "False    314686\n",
      "Name: Aseguradora, dtype: int64\n",
      "\n",
      "NRO_EXPJUDICIAL\n",
      "\n",
      "False    314686\n",
      "Name: NRO_EXPJUDICIAL, dtype: int64\n",
      "\n",
      "CARATULA\n",
      "\n",
      "False    314686\n",
      "Name: CARATULA, dtype: int64\n",
      "\n",
      "F_notificacion\n",
      "\n",
      "False    314686\n",
      "Name: F_notificacion, dtype: int64\n",
      "\n",
      "DPTO_JUDICIAL\n",
      "\n",
      "False    314686\n",
      "Name: DPTO_JUDICIAL, dtype: int64\n",
      "\n",
      "FUERO\n",
      "\n",
      "False    314686\n",
      "Name: FUERO, dtype: int64\n",
      "\n",
      "JUZGADO\n",
      "\n",
      "False    314686\n",
      "Name: JUZGADO, dtype: int64\n",
      "\n",
      "provincia\n",
      "\n",
      "False    314686\n",
      "Name: provincia, dtype: int64\n",
      "\n",
      "CUIT_emp\n",
      "\n",
      "False    313834\n",
      "True        852\n",
      "Name: CUIT_emp, dtype: int64\n",
      "\n",
      "EMPLEADOR\n",
      "\n",
      "False    313768\n",
      "True        918\n",
      "Name: EMPLEADOR, dtype: int64\n",
      "\n",
      "N° SINIESTRO\n",
      "\n",
      "False    314686\n",
      "Name: N° SINIESTRO, dtype: int64\n",
      "\n",
      "MONTO_RECLAMADO_INDETERMINADO\n",
      "\n",
      "False    273555\n",
      "True      41131\n",
      "Name: MONTO_RECLAMADO_INDETERMINADO, dtype: int64\n",
      "\n",
      "MONTO_RECLAMADO\n",
      "\n",
      "False    284635\n",
      "True      30051\n",
      "Name: MONTO_RECLAMADO, dtype: int64\n",
      "\n",
      "SENT_PRIMERA\n",
      "\n",
      "True    314686\n",
      "Name: SENT_PRIMERA, dtype: int64\n",
      "\n",
      "CONTIGENCIA\n",
      "\n",
      "False    314310\n",
      "True        376\n",
      "Name: CONTIGENCIA, dtype: int64\n",
      "\n",
      "ENF_RECLAMADA\n",
      "\n",
      "True     218903\n",
      "False     95783\n",
      "Name: ENF_RECLAMADA, dtype: int64\n",
      "\n",
      "OBJ_RECLAMADO\n",
      "\n",
      "False    313599\n",
      "True       1087\n",
      "Name: OBJ_RECLAMADO, dtype: int64\n",
      "\n",
      "fsiniestro\n",
      "\n",
      "False    304632\n",
      "True      10054\n",
      "Name: fsiniestro, dtype: int64\n",
      "\n",
      "Contrato_PMI\n",
      "\n",
      "False    314686\n",
      "Name: Contrato_PMI, dtype: int64\n",
      "\n",
      "Via Adm\n",
      "\n",
      "False    314686\n",
      "Name: Via Adm, dtype: int64\n",
      "\n",
      "Posible via adm\n",
      "\n",
      "False    314686\n",
      "Name: Posible via adm, dtype: int64\n",
      "\n",
      "cod_cia\n",
      "\n",
      "False    314686\n",
      "Name: cod_cia, dtype: int64\n",
      "\n",
      "denominacion_corta\n",
      "\n",
      "False    314686\n",
      "Name: denominacion_corta, dtype: int64\n",
      "\n"
     ]
    }
   ],
   "source": [
    "# Observo por variable, la cantidad de datos, los missing y el tipo de dato\n",
    "\n",
    "for i in base.columns:\n",
    "    print(i)\n",
    "    print(\"\")\n",
    "    print(base[i].isnull().value_counts())\n",
    "    print(\"\")\n"
   ]
  },
  {
   "cell_type": "code",
   "execution_count": 23,
   "metadata": {},
   "outputs": [
    {
     "data": {
      "text/plain": [
       "Index(['Aseguradora', 'NRO_EXPJUDICIAL', 'CARATULA', 'F_notificacion',\n",
       "       'DPTO_JUDICIAL', 'FUERO', 'JUZGADO', 'provincia', 'CUIT_emp',\n",
       "       'EMPLEADOR', 'N° SINIESTRO', 'MONTO_RECLAMADO_INDETERMINADO',\n",
       "       'MONTO_RECLAMADO', 'SENT_PRIMERA', 'CONTIGENCIA', 'ENF_RECLAMADA',\n",
       "       'OBJ_RECLAMADO', 'fsiniestro', 'Contrato_PMI', 'Via Adm',\n",
       "       'Posible via adm', 'cod_cia', 'denominacion_corta'],\n",
       "      dtype='object')"
      ]
     },
     "execution_count": 23,
     "metadata": {},
     "output_type": "execute_result"
    }
   ],
   "source": [
    "# Me muestra una lista con el nombre de las columnas \n",
    "\n",
    "base.columns"
   ]
  },
  {
   "cell_type": "code",
   "execution_count": 24,
   "metadata": {
    "collapsed": true
   },
   "outputs": [],
   "source": [
    "# Creo la variable año\n",
    "\n",
    "base['AÑO'] = pd.DatetimeIndex(base['F_notificacion']).year"
   ]
  },
  {
   "cell_type": "code",
   "execution_count": 26,
   "metadata": {
    "collapsed": true
   },
   "outputs": [],
   "source": [
    "cias_art=[64,79,254,259,261,348,412,440,605,616,618,619,620,621,624,626,726,862,890,9999]\n",
    "base1=base.copy()\n",
    "base1['cias_art']=[1 if np.isin(base.cod_cia.iloc[i],cias_art)==True else 0 for i in range(len(base.index))]\n",
    "\n",
    "base1=base1[(base1.cias_art==1)]\n",
    "\n",
    "base1=base1.drop({'cias_art'}, 1)"
   ]
  },
  {
   "cell_type": "code",
   "execution_count": 27,
   "metadata": {},
   "outputs": [
    {
     "data": {
      "text/html": [
       "<div>\n",
       "<style scoped>\n",
       "    .dataframe tbody tr th:only-of-type {\n",
       "        vertical-align: middle;\n",
       "    }\n",
       "\n",
       "    .dataframe tbody tr th {\n",
       "        vertical-align: top;\n",
       "    }\n",
       "\n",
       "    .dataframe thead th {\n",
       "        text-align: right;\n",
       "    }\n",
       "</style>\n",
       "<table border=\"1\" class=\"dataframe\">\n",
       "  <thead>\n",
       "    <tr style=\"text-align: right;\">\n",
       "      <th></th>\n",
       "      <th>Aseguradora</th>\n",
       "      <th>NRO_EXPJUDICIAL</th>\n",
       "      <th>CARATULA</th>\n",
       "      <th>F_notificacion</th>\n",
       "      <th>DPTO_JUDICIAL</th>\n",
       "      <th>FUERO</th>\n",
       "      <th>JUZGADO</th>\n",
       "      <th>provincia</th>\n",
       "      <th>CUIT_emp</th>\n",
       "      <th>EMPLEADOR</th>\n",
       "      <th>...</th>\n",
       "      <th>CONTIGENCIA</th>\n",
       "      <th>ENF_RECLAMADA</th>\n",
       "      <th>OBJ_RECLAMADO</th>\n",
       "      <th>fsiniestro</th>\n",
       "      <th>Contrato_PMI</th>\n",
       "      <th>Via Adm</th>\n",
       "      <th>Posible via adm</th>\n",
       "      <th>cod_cia</th>\n",
       "      <th>denominacion_corta</th>\n",
       "      <th>AÑO</th>\n",
       "    </tr>\n",
       "  </thead>\n",
       "  <tbody>\n",
       "    <tr>\n",
       "      <th>0</th>\n",
       "      <td>ASOCIART</td>\n",
       "      <td>0002-0000019603/16</td>\n",
       "      <td>ALVAREZ JORGE DANIEL C/ ASOCIART S.A. ART S/ D...</td>\n",
       "      <td>2017-11-02</td>\n",
       "      <td>2</td>\n",
       "      <td>CIVIL</td>\n",
       "      <td>NACIONAL DE 1ª INSTANCIA EN LO CIVIL Nº 27</td>\n",
       "      <td>C.A.B.A.</td>\n",
       "      <td>30693148363</td>\n",
       "      <td>ZARA ARGENTINA S A                            ...</td>\n",
       "      <td>...</td>\n",
       "      <td>Accidentes de trabajo.</td>\n",
       "      <td>NaN</td>\n",
       "      <td>CC - Art. 1072</td>\n",
       "      <td>2014-10-12</td>\n",
       "      <td>SI</td>\n",
       "      <td>NO</td>\n",
       "      <td>NO</td>\n",
       "      <td>620</td>\n",
       "      <td>ASOCIART ART</td>\n",
       "      <td>2017</td>\n",
       "    </tr>\n",
       "    <tr>\n",
       "      <th>1</th>\n",
       "      <td>ASOCIART</td>\n",
       "      <td>0002-0000079724/15</td>\n",
       "      <td>MERLO DANIEL FERNANDO C/ ASOCIART S.A. ART S/ ...</td>\n",
       "      <td>2017-04-28</td>\n",
       "      <td>2</td>\n",
       "      <td>CIVIL</td>\n",
       "      <td>NACIONAL DE 1ª INSTANCIA EN LO CIVIL Nº 27</td>\n",
       "      <td>C.A.B.A.</td>\n",
       "      <td>33659119329</td>\n",
       "      <td>TERMINAL PANAMERICANA S A                     ...</td>\n",
       "      <td>...</td>\n",
       "      <td>Accidentes de trabajo.</td>\n",
       "      <td>NaN</td>\n",
       "      <td>CC - Art. 1072</td>\n",
       "      <td>2013-02-15</td>\n",
       "      <td>SI</td>\n",
       "      <td>NO</td>\n",
       "      <td>NO</td>\n",
       "      <td>620</td>\n",
       "      <td>ASOCIART ART</td>\n",
       "      <td>2017</td>\n",
       "    </tr>\n",
       "  </tbody>\n",
       "</table>\n",
       "<p>2 rows × 24 columns</p>\n",
       "</div>"
      ],
      "text/plain": [
       "  Aseguradora     NRO_EXPJUDICIAL  \\\n",
       "0    ASOCIART  0002-0000019603/16   \n",
       "1    ASOCIART  0002-0000079724/15   \n",
       "\n",
       "                                            CARATULA F_notificacion  \\\n",
       "0  ALVAREZ JORGE DANIEL C/ ASOCIART S.A. ART S/ D...     2017-11-02   \n",
       "1  MERLO DANIEL FERNANDO C/ ASOCIART S.A. ART S/ ...     2017-04-28   \n",
       "\n",
       "  DPTO_JUDICIAL  FUERO                                     JUZGADO  provincia  \\\n",
       "0             2  CIVIL  NACIONAL DE 1ª INSTANCIA EN LO CIVIL Nº 27  C.A.B.A.    \n",
       "1             2  CIVIL  NACIONAL DE 1ª INSTANCIA EN LO CIVIL Nº 27  C.A.B.A.    \n",
       "\n",
       "      CUIT_emp                                          EMPLEADOR  ...   \\\n",
       "0  30693148363  ZARA ARGENTINA S A                            ...  ...    \n",
       "1  33659119329  TERMINAL PANAMERICANA S A                     ...  ...    \n",
       "\n",
       "              CONTIGENCIA ENF_RECLAMADA   OBJ_RECLAMADO fsiniestro  \\\n",
       "0  Accidentes de trabajo.           NaN  CC - Art. 1072 2014-10-12   \n",
       "1  Accidentes de trabajo.           NaN  CC - Art. 1072 2013-02-15   \n",
       "\n",
       "  Contrato_PMI Via Adm Posible via adm cod_cia denominacion_corta   AÑO  \n",
       "0           SI      NO              NO     620       ASOCIART ART  2017  \n",
       "1           SI      NO              NO     620       ASOCIART ART  2017  \n",
       "\n",
       "[2 rows x 24 columns]"
      ]
     },
     "execution_count": 27,
     "metadata": {},
     "output_type": "execute_result"
    }
   ],
   "source": [
    "base1.head(2)"
   ]
  },
  {
   "cell_type": "code",
   "execution_count": 28,
   "metadata": {
    "collapsed": true
   },
   "outputs": [],
   "source": [
    "base_año=base1.groupby(['AÑO'], as_index=False)['NRO_EXPJUDICIAL'].count()"
   ]
  },
  {
   "cell_type": "code",
   "execution_count": 29,
   "metadata": {},
   "outputs": [
    {
     "data": {
      "text/html": [
       "<div>\n",
       "<style scoped>\n",
       "    .dataframe tbody tr th:only-of-type {\n",
       "        vertical-align: middle;\n",
       "    }\n",
       "\n",
       "    .dataframe tbody tr th {\n",
       "        vertical-align: top;\n",
       "    }\n",
       "\n",
       "    .dataframe thead th {\n",
       "        text-align: right;\n",
       "    }\n",
       "</style>\n",
       "<table border=\"1\" class=\"dataframe\">\n",
       "  <thead>\n",
       "    <tr style=\"text-align: right;\">\n",
       "      <th></th>\n",
       "      <th>AÑO</th>\n",
       "      <th>NRO_EXPJUDICIAL</th>\n",
       "    </tr>\n",
       "  </thead>\n",
       "  <tbody>\n",
       "    <tr>\n",
       "      <th>0</th>\n",
       "      <td>2010</td>\n",
       "      <td>3776</td>\n",
       "    </tr>\n",
       "    <tr>\n",
       "      <th>1</th>\n",
       "      <td>2011</td>\n",
       "      <td>7712</td>\n",
       "    </tr>\n",
       "    <tr>\n",
       "      <th>2</th>\n",
       "      <td>2012</td>\n",
       "      <td>9693</td>\n",
       "    </tr>\n",
       "    <tr>\n",
       "      <th>3</th>\n",
       "      <td>2013</td>\n",
       "      <td>13476</td>\n",
       "    </tr>\n",
       "    <tr>\n",
       "      <th>4</th>\n",
       "      <td>2014</td>\n",
       "      <td>20008</td>\n",
       "    </tr>\n",
       "    <tr>\n",
       "      <th>5</th>\n",
       "      <td>2015</td>\n",
       "      <td>31182</td>\n",
       "    </tr>\n",
       "    <tr>\n",
       "      <th>6</th>\n",
       "      <td>2016</td>\n",
       "      <td>49599</td>\n",
       "    </tr>\n",
       "    <tr>\n",
       "      <th>7</th>\n",
       "      <td>2017</td>\n",
       "      <td>72128</td>\n",
       "    </tr>\n",
       "    <tr>\n",
       "      <th>8</th>\n",
       "      <td>2018</td>\n",
       "      <td>57566</td>\n",
       "    </tr>\n",
       "    <tr>\n",
       "      <th>9</th>\n",
       "      <td>2019</td>\n",
       "      <td>27921</td>\n",
       "    </tr>\n",
       "  </tbody>\n",
       "</table>\n",
       "</div>"
      ],
      "text/plain": [
       "    AÑO  NRO_EXPJUDICIAL\n",
       "0  2010             3776\n",
       "1  2011             7712\n",
       "2  2012             9693\n",
       "3  2013            13476\n",
       "4  2014            20008\n",
       "5  2015            31182\n",
       "6  2016            49599\n",
       "7  2017            72128\n",
       "8  2018            57566\n",
       "9  2019            27921"
      ]
     },
     "execution_count": 29,
     "metadata": {},
     "output_type": "execute_result"
    }
   ],
   "source": [
    "base_año"
   ]
  },
  {
   "cell_type": "code",
   "execution_count": 13,
   "metadata": {
    "collapsed": true
   },
   "outputs": [],
   "source": [
    "# Creo la variable 'codigo', que es una concatenación de 'DPTO JUDICIAL', 'CONTINGENCIA' y 'AÑO'\n",
    "\n",
    "base[\"codigo\"]=[str(base[\"DPTO_JUDICIAL\"][i])+\"-\"+str(base[\"CONTIGENCIA\"][i])+\"-\"+str(base[\"AÑO\"][i]) for i in base.index]"
   ]
  },
  {
   "cell_type": "code",
   "execution_count": 14,
   "metadata": {
    "scrolled": true
   },
   "outputs": [
    {
     "data": {
      "text/plain": [
       "244-Enfermedad profesional.-2017           851\n",
       "2213-Enfermedad profesional.-2017          601\n",
       "244-Accidentes de trabajo.-2017            489\n",
       "2214-Enfermedad profesional.-2017          486\n",
       "2213-Enfermedad profesional.-2018          419\n",
       "2214-Enfermedad profesional.-2016          409\n",
       "244-Enfermedad profesional.-2016           402\n",
       "244-Accidentes de trabajo.-2016            393\n",
       "835-Accidentes de trabajo.-2018            388\n",
       "2213-Enfermedad profesional.-2016          384\n",
       "836-Accidentes de trabajo.-2017            376\n",
       "502-Accidentes de trabajo.-2018            375\n",
       "2267-Accidentes de trabajo.-2017           370\n",
       "1089-Accidentes de trabajo.-2017           370\n",
       "268-Accidentes de trabajo.-2017            370\n",
       "2268-Accidentes de trabajo.-2017           368\n",
       "2214-Enfermedad profesional.-2018          365\n",
       "835-Accidentes de trabajo.-2017            361\n",
       "143-Accidentes de trabajo.-2016            360\n",
       "191-Accidentes de trabajo.-2017            359\n",
       "1358-Enfermedad profesional.-2017          352\n",
       "2875-Accidentes de trabajo.-2017           344\n",
       "268-Accidentes de trabajo.-2016            341\n",
       "834-Accidentes de trabajo.-2017            337\n",
       "503-Accidentes de trabajo.-2017            333\n",
       "502-Accidentes de trabajo.-2017            326\n",
       "1616-Accidentes de trabajo.-2017           325\n",
       "2890-Enfermedad profesional.-2017          324\n",
       "200-Accidentes de trabajo.-2017            324\n",
       "2213-Enfermedad profesional.-2015          319\n",
       "                                          ... \n",
       "341-Enfermedad profesional.-2012             1\n",
       "287-Accidentes in itinere.-2013              1\n",
       "303-nan-2012                                 1\n",
       "1620-Enfermedad fuera del listado.-2013      1\n",
       "1979-Accidentes de trabajo.-2010             1\n",
       "361-Accidentes de trabajo.-2013              1\n",
       "46-Enfermedad profesional.-2010              1\n",
       "399-Accidentes de trabajo.-2013              1\n",
       "373-Accidentes in itinere.-2013              1\n",
       "1916-Accidentes de trabajo.-2013             1\n",
       "2860-Accidentes de trabajo.-2012             1\n",
       "2283-Enfermedad fuera del listado.-2015      1\n",
       "674-Enfermedad profesional.-2014             1\n",
       "1068-Enfermedad profesional.-2018            1\n",
       "1952-Accidentes de trabajo.-2013             1\n",
       "1535-Accidentes de trabajo.-2011             1\n",
       "2778-Accidentes in itinere.-2019             1\n",
       "2030-Enfermedad profesional.-2012            1\n",
       "2319-Enfermedad profesional.-2018            1\n",
       "749-Enfermedad profesional.-2012             1\n",
       "2009-Accidentes de trabajo.-2011             1\n",
       "3039-Enfermedad profesional.-2018            1\n",
       "3118-Accidentes de trabajo.-2016             1\n",
       "3119-Accidentes de trabajo.-2019             1\n",
       "1538-Accidentes in itinere.-2014             1\n",
       "683-Accidentes de trabajo.-2013              1\n",
       "6-Accidentes in itinere.-2011                1\n",
       "376-Accidentes de trabajo.-2013              1\n",
       "2292-Accidentes in itinere.-2016             1\n",
       "1544-nan-2012                                1\n",
       "Name: codigo, Length: 16329, dtype: int64"
      ]
     },
     "execution_count": 14,
     "metadata": {},
     "output_type": "execute_result"
    }
   ],
   "source": [
    "# Cuento la canridad de casos diferentes de la variable 'codigo'\n",
    "\n",
    "base[\"codigo\"].value_counts()"
   ]
  },
  {
   "cell_type": "code",
   "execution_count": 15,
   "metadata": {
    "collapsed": true
   },
   "outputs": [],
   "source": [
    "# Remplazo los missing de 'MONTO RECLAMADO' por la media de la variable 'codigo' de cada caso\n",
    "\n",
    "base[\"MONTO_RECLAMADO\"]=[base[\"MONTO_RECLAMADO\"][i] if math.isnan(base[\"MONTO_RECLAMADO\"][i])==False \n",
    "                         else base[base[\"codigo\"]==base[\"codigo\"][i]][\"MONTO_RECLAMADO\"].mean()\n",
    "                        for i in base.index]"
   ]
  },
  {
   "cell_type": "code",
   "execution_count": 16,
   "metadata": {},
   "outputs": [
    {
     "data": {
      "text/plain": [
       "False    313584\n",
       "True       1102\n",
       "Name: MONTO_RECLAMADO, dtype: int64"
      ]
     },
     "execution_count": 16,
     "metadata": {},
     "output_type": "execute_result"
    }
   ],
   "source": [
    "# Evalúo si quedan missing en la variable 'MONTO RECLAMADO'\n",
    "\n",
    "base[\"MONTO_RECLAMADO\"].isnull().value_counts()"
   ]
  },
  {
   "cell_type": "code",
   "execution_count": 17,
   "metadata": {
    "collapsed": true
   },
   "outputs": [],
   "source": [
    "#for i in base[\"codigo\"].unique():\n",
    "#    base[base[\"codigo\"]==i][\"MONTO_RECLAMADO\"].replace(np.nan,base[base[\"codigo\"]==i][\"MONTO_RECLAMADO\"].mean())"
   ]
  },
  {
   "cell_type": "code",
   "execution_count": 18,
   "metadata": {
    "scrolled": true
   },
   "outputs": [
    {
     "data": {
      "text/plain": [
       "7995       281,811.00\n",
       "7996       225,149.22\n",
       "8008       368,561.34\n",
       "8009       528,316.91\n",
       "8010       353,408.09\n",
       "8012       318,491.02\n",
       "8013       361,756.80\n",
       "8016       683,147.69\n",
       "26354      254,034.10\n",
       "26358      191,992.00\n",
       "26359      842,842.18\n",
       "26360      690,280.00\n",
       "35117    1,363,171.00\n",
       "35143       86,299.85\n",
       "35195      155,252.00\n",
       "35209      642,887.13\n",
       "35231      648,578.00\n",
       "35288    1,301,754.00\n",
       "35290    2,886,577.00\n",
       "35291      629,173.94\n",
       "35294    1,750,393.00\n",
       "35295    3,912,694.00\n",
       "35296    1,501,072.00\n",
       "35297    1,430,319.08\n",
       "35298    3,178,934.00\n",
       "35299    2,791,404.00\n",
       "35300    1,622,596.00\n",
       "35302      730,340.00\n",
       "35303    1,307,322.00\n",
       "35305      816,843.42\n",
       "             ...     \n",
       "298799   1,259,439.60\n",
       "298800     801,679.00\n",
       "298801   2,118,213.00\n",
       "298802   2,216,272.00\n",
       "298806   1,504,458.90\n",
       "298807     286,268.16\n",
       "298808     417,328.41\n",
       "298810   1,333,521.00\n",
       "298811   1,014,640.00\n",
       "298813     812,288.19\n",
       "298817   3,102,727.00\n",
       "298818   1,780,392.00\n",
       "298819   1,260,222.00\n",
       "298820   1,334,272.00\n",
       "298821   1,317,262.50\n",
       "298823     350,748.37\n",
       "298826     521,227.00\n",
       "298827     506,847.00\n",
       "298831   1,395,213.00\n",
       "298839   1,593,928.00\n",
       "298842   1,452,449.97\n",
       "298843   2,503,034.40\n",
       "298847   1,218,913.00\n",
       "298848   1,635,954.00\n",
       "298854   1,574,216.40\n",
       "298858   1,120,613.00\n",
       "298860   1,392,190.40\n",
       "298861   1,696,593.60\n",
       "298869   1,022,118.00\n",
       "298871     593,774.11\n",
       "Name: MONTO_RECLAMADO, Length: 851, dtype: float64"
      ]
     },
     "execution_count": 18,
     "metadata": {},
     "output_type": "execute_result"
    }
   ],
   "source": [
    "# Me trae todos los datos de 'MONTO RECLAMADO' que tengan el código =\"244-Enfermedad profesional.-2017\" \n",
    "\n",
    "base[base[\"codigo\"]==\"244-Enfermedad profesional.-2017\"][\"MONTO_RECLAMADO\"]"
   ]
  },
  {
   "cell_type": "code",
   "execution_count": 19,
   "metadata": {},
   "outputs": [
    {
     "data": {
      "text/plain": [
       "1083718.0904481132"
      ]
     },
     "execution_count": 19,
     "metadata": {},
     "output_type": "execute_result"
    }
   ],
   "source": [
    "# Me traela media de 'MONTO RECLAMADO' con el código =\"244-Enfermedad profesional.-2017\" \n",
    "\n",
    "base[base[\"codigo\"]==\"244-Enfermedad profesional.-2017\"][\"MONTO_RECLAMADO\"].mean()"
   ]
  },
  {
   "cell_type": "code",
   "execution_count": 20,
   "metadata": {
    "collapsed": true
   },
   "outputs": [],
   "source": [
    "# Creo la variable 'codigo2', que es una concatenación de 'DPTO JUDICIAL' y 'AÑO'\n",
    "\n",
    "base[\"codigo2\"]=[str(base[\"DPTO_JUDICIAL\"][i])+\"-\"+str(base[\"AÑO\"][i]) for i in base.index]"
   ]
  },
  {
   "cell_type": "code",
   "execution_count": 21,
   "metadata": {
    "scrolled": true
   },
   "outputs": [
    {
     "data": {
      "text/plain": [
       "244-2017     1601\n",
       "244-2016     1035\n",
       "2213-2017     949\n",
       "2214-2017     783\n",
       "836-2017      717\n",
       "268-2017      699\n",
       "2214-2016     674\n",
       "2797-2018     673\n",
       "2798-2018     672\n",
       "502-2018      667\n",
       "2213-2018     663\n",
       "835-2017      657\n",
       "835-2018      657\n",
       "143-2016      654\n",
       "1089-2017     653\n",
       "2890-2017     652\n",
       "2799-2018     649\n",
       "191-2017      641\n",
       "2267-2017     641\n",
       "2214-2018     621\n",
       "2304-2018     618\n",
       "2890-2016     617\n",
       "2213-2016     612\n",
       "2268-2017     607\n",
       "1763-2018     601\n",
       "834-2017      600\n",
       "502-2017      595\n",
       "200-2017      593\n",
       "2797-2019     591\n",
       "268-2016      588\n",
       "             ... \n",
       "436-2012        1\n",
       "1229-2013       1\n",
       "72-2013         1\n",
       "2007-2017       1\n",
       "541-2011        1\n",
       "1043-2014       1\n",
       "3061-2019       1\n",
       "253-2014        1\n",
       "2065-2010       1\n",
       "495-2012        1\n",
       "20-2014         1\n",
       "221-2010        1\n",
       "2038-2013       1\n",
       "38-2017         1\n",
       "374-2012        1\n",
       "8-2013          1\n",
       "1412-2017       1\n",
       "1332-2012       1\n",
       "3143-2015       1\n",
       "2355-2013       1\n",
       "2976-2012       1\n",
       "997-2017        1\n",
       "1335-2018       1\n",
       "377-2013        1\n",
       "13-2014         1\n",
       "1831-2014       1\n",
       "799-2015        1\n",
       "2638-2016       1\n",
       "1817-2016       1\n",
       "395-2014        1\n",
       "Name: codigo2, Length: 6884, dtype: int64"
      ]
     },
     "execution_count": 21,
     "metadata": {},
     "output_type": "execute_result"
    }
   ],
   "source": [
    "# Cuento la canridad de casos diferentes de la variable 'codigo2'\n",
    "\n",
    "base[\"codigo2\"].value_counts()"
   ]
  },
  {
   "cell_type": "code",
   "execution_count": 22,
   "metadata": {
    "collapsed": true
   },
   "outputs": [],
   "source": [
    "# Remplazo los missing de 'MONTO RECLAMADO' por la media de la variable 'codigo2' de cada caso\n",
    "\n",
    "base[\"MONTO_RECLAMADO\"]=[base[\"MONTO_RECLAMADO\"][i] if math.isnan(base[\"MONTO_RECLAMADO\"][i])==False \n",
    "                         else base[base[\"codigo2\"]==base[\"codigo2\"][i]][\"MONTO_RECLAMADO\"].mean()\n",
    "                        for i in base.index]"
   ]
  },
  {
   "cell_type": "code",
   "execution_count": 23,
   "metadata": {},
   "outputs": [
    {
     "data": {
      "text/plain": [
       "False    314103\n",
       "True        583\n",
       "Name: MONTO_RECLAMADO, dtype: int64"
      ]
     },
     "execution_count": 23,
     "metadata": {},
     "output_type": "execute_result"
    }
   ],
   "source": [
    "# Evalúo si quedan missing en la variable 'MONTO RECLAMADO'\n",
    "\n",
    "base[\"MONTO_RECLAMADO\"].isnull().value_counts()"
   ]
  },
  {
   "cell_type": "code",
   "execution_count": 24,
   "metadata": {
    "collapsed": true
   },
   "outputs": [],
   "source": [
    "# Remplazo los missing de 'MONTO RECLAMADO' por la media de la variable 'año' de cada caso\n",
    "\n",
    "base[\"MONTO_RECLAMADO\"]=[base[\"MONTO_RECLAMADO\"][i] if math.isnan(base[\"MONTO_RECLAMADO\"][i])==False \n",
    "                         else base[base[\"AÑO\"]==base[\"AÑO\"][i]][\"MONTO_RECLAMADO\"].mean()\n",
    "                        for i in base.index]"
   ]
  },
  {
   "cell_type": "code",
   "execution_count": 25,
   "metadata": {},
   "outputs": [
    {
     "data": {
      "text/plain": [
       "False    314686\n",
       "Name: MONTO_RECLAMADO, dtype: int64"
      ]
     },
     "execution_count": 25,
     "metadata": {},
     "output_type": "execute_result"
    }
   ],
   "source": [
    "# Evalúo si quedan missing en la variable 'MONTO RECLAMADO'\n",
    "\n",
    "base[\"MONTO_RECLAMADO\"].isnull().value_counts()"
   ]
  },
  {
   "cell_type": "code",
   "execution_count": 26,
   "metadata": {
    "collapsed": true
   },
   "outputs": [],
   "source": [
    "# Exporto el dataset\n",
    "\n",
    "#base.to_excel(r'C:\\Users\\eangenello\\Desktop\\TECNICA\\Python\\output\\Stock Juicios Abiertos al 31-03-2019.xlsx', index=False)"
   ]
  },
  {
   "cell_type": "markdown",
   "metadata": {},
   "source": [
    "### Imputación de valores missing encubiertos"
   ]
  },
  {
   "cell_type": "code",
   "execution_count": 27,
   "metadata": {
    "scrolled": true
   },
   "outputs": [
    {
     "data": {
      "text/plain": [
       "1.00            6899\n",
       "0.00             636\n",
       "240,000.00       332\n",
       "300,000.00       310\n",
       "392,740.20       296\n",
       "150,000.00       264\n",
       "180,000.00       253\n",
       "200,000.00       249\n",
       "327,283.50       232\n",
       "250,000.00       231\n",
       "100,000.00       216\n",
       "120,000.00       203\n",
       "413,400.00       202\n",
       "60,000.00        178\n",
       "400,000.00       176\n",
       "350,000.00       172\n",
       "100.00           169\n",
       "50,000.00        167\n",
       "80,000.00        165\n",
       "620,100.00       162\n",
       "409,026.55       160\n",
       "500,000.00       158\n",
       "458,196.90       157\n",
       "516,750.00       156\n",
       "450,000.00       155\n",
       "261,826.80       150\n",
       "391,487.39       147\n",
       "367,769.03       142\n",
       "416,020.95       142\n",
       "320,574.26       140\n",
       "                ... \n",
       "559,612.63         1\n",
       "882,854.23         1\n",
       "220,713.37         1\n",
       "214,526.00         1\n",
       "429,080.00         1\n",
       "2,408,846.04       1\n",
       "913,232.32         1\n",
       "188,113.27         1\n",
       "272,157.60         1\n",
       "858,199.00         1\n",
       "6,670,444.00       1\n",
       "551,912.52         1\n",
       "830,757.67         1\n",
       "272,154.35         1\n",
       "688,604.48         1\n",
       "858,192.00         1\n",
       "68,037.40          1\n",
       "580,553.11         1\n",
       "237,615.32         1\n",
       "870,638.77         1\n",
       "783,755.43         1\n",
       "528,779.58         1\n",
       "6,865,428.00       1\n",
       "661,077.44         1\n",
       "544,347.70         1\n",
       "509,836.00         1\n",
       "45,118.82          1\n",
       "545,197.80         1\n",
       "326,932.14         1\n",
       "284,313.67         1\n",
       "Name: MONTO_RECLAMADO, Length: 219976, dtype: int64"
      ]
     },
     "execution_count": 27,
     "metadata": {},
     "output_type": "execute_result"
    }
   ],
   "source": [
    "base[\"MONTO_RECLAMADO\"].value_counts()"
   ]
  },
  {
   "cell_type": "code",
   "execution_count": 28,
   "metadata": {
    "collapsed": true
   },
   "outputs": [],
   "source": [
    "base[\"MONTO_RECLAMADO\"]=[base[\"MONTO_RECLAMADO\"][i] if (base[\"MONTO_RECLAMADO\"][i])>999 \n",
    "                         else base[base[\"AÑO\"]==base[\"AÑO\"][i]][\"MONTO_RECLAMADO\"].mean()\n",
    "                        for i in base.index]"
   ]
  },
  {
   "cell_type": "code",
   "execution_count": 29,
   "metadata": {},
   "outputs": [
    {
     "name": "stdout",
     "output_type": "stream",
     "text": [
      "1000 - 427522362\n"
     ]
    }
   ],
   "source": [
    "print(int(base[\"MONTO_RECLAMADO\"].min()), \"-\", int(base[\"MONTO_RECLAMADO\"].max()))"
   ]
  },
  {
   "cell_type": "code",
   "execution_count": 30,
   "metadata": {
    "scrolled": true
   },
   "outputs": [
    {
     "data": {
      "text/plain": [
       "[<matplotlib.lines.Line2D at 0x20d53d59f98>]"
      ]
     },
     "execution_count": 30,
     "metadata": {},
     "output_type": "execute_result"
    },
    {
     "data": {
      "image/png": "[encoded data removed]",
      "text/plain": [
       "<Figure size 432x288 with 1 Axes>"
      ]
     },
     "metadata": {
      "needs_background": "light"
     },
     "output_type": "display_data"
    }
   ],
   "source": [
    "#baseprueba[\"MONTO_RECLAMADO\"].plot()\n",
    "plt.plot(base[\"MONTO_RECLAMADO\"], '.')"
   ]
  },
  {
   "cell_type": "markdown",
   "metadata": {},
   "source": [
    "### Dataset Transformado"
   ]
  },
  {
   "cell_type": "code",
   "execution_count": 31,
   "metadata": {},
   "outputs": [
    {
     "data": {
      "text/html": [
       "<div>\n",
       "<style scoped>\n",
       "    .dataframe tbody tr th:only-of-type {\n",
       "        vertical-align: middle;\n",
       "    }\n",
       "\n",
       "    .dataframe tbody tr th {\n",
       "        vertical-align: top;\n",
       "    }\n",
       "\n",
       "    .dataframe thead th {\n",
       "        text-align: right;\n",
       "    }\n",
       "</style>\n",
       "<table border=\"1\" class=\"dataframe\">\n",
       "  <thead>\n",
       "    <tr style=\"text-align: right;\">\n",
       "      <th></th>\n",
       "      <th>Aseguradora</th>\n",
       "      <th>NRO_EXPJUDICIAL</th>\n",
       "      <th>CARATULA</th>\n",
       "      <th>F_notificacion</th>\n",
       "      <th>DPTO_JUDICIAL</th>\n",
       "      <th>FUERO</th>\n",
       "      <th>JUZGADO</th>\n",
       "      <th>provincia</th>\n",
       "      <th>CUIT_emp</th>\n",
       "      <th>EMPLEADOR</th>\n",
       "      <th>...</th>\n",
       "      <th>OBJ_RECLAMADO</th>\n",
       "      <th>fsiniestro</th>\n",
       "      <th>Contrato_PMI</th>\n",
       "      <th>Via Adm</th>\n",
       "      <th>Posible via adm</th>\n",
       "      <th>cod_cia</th>\n",
       "      <th>denominacion_corta</th>\n",
       "      <th>AÑO</th>\n",
       "      <th>codigo</th>\n",
       "      <th>codigo2</th>\n",
       "    </tr>\n",
       "  </thead>\n",
       "  <tbody>\n",
       "    <tr>\n",
       "      <th>0</th>\n",
       "      <td>ASOCIART</td>\n",
       "      <td>0002-0000019603/16</td>\n",
       "      <td>ALVAREZ JORGE DANIEL C/ ASOCIART S.A. ART S/ D...</td>\n",
       "      <td>2017-11-02</td>\n",
       "      <td>2</td>\n",
       "      <td>CIVIL</td>\n",
       "      <td>NACIONAL DE 1ª INSTANCIA EN LO CIVIL Nº 27</td>\n",
       "      <td>C.A.B.A.</td>\n",
       "      <td>30693148363</td>\n",
       "      <td>ZARA ARGENTINA S A                            ...</td>\n",
       "      <td>...</td>\n",
       "      <td>CC - Art. 1072</td>\n",
       "      <td>2014-10-12</td>\n",
       "      <td>SI</td>\n",
       "      <td>NO</td>\n",
       "      <td>NO</td>\n",
       "      <td>620</td>\n",
       "      <td>ASOCIART ART</td>\n",
       "      <td>2017</td>\n",
       "      <td>2-Accidentes de trabajo.-2017</td>\n",
       "      <td>2-2017</td>\n",
       "    </tr>\n",
       "    <tr>\n",
       "      <th>1</th>\n",
       "      <td>ASOCIART</td>\n",
       "      <td>0002-0000079724/15</td>\n",
       "      <td>MERLO DANIEL FERNANDO C/ ASOCIART S.A. ART S/ ...</td>\n",
       "      <td>2017-04-28</td>\n",
       "      <td>2</td>\n",
       "      <td>CIVIL</td>\n",
       "      <td>NACIONAL DE 1ª INSTANCIA EN LO CIVIL Nº 27</td>\n",
       "      <td>C.A.B.A.</td>\n",
       "      <td>33659119329</td>\n",
       "      <td>TERMINAL PANAMERICANA S A                     ...</td>\n",
       "      <td>...</td>\n",
       "      <td>CC - Art. 1072</td>\n",
       "      <td>2013-02-15</td>\n",
       "      <td>SI</td>\n",
       "      <td>NO</td>\n",
       "      <td>NO</td>\n",
       "      <td>620</td>\n",
       "      <td>ASOCIART ART</td>\n",
       "      <td>2017</td>\n",
       "      <td>2-Accidentes de trabajo.-2017</td>\n",
       "      <td>2-2017</td>\n",
       "    </tr>\n",
       "    <tr>\n",
       "      <th>2</th>\n",
       "      <td>ASOCIART</td>\n",
       "      <td>0002-0000087980/11</td>\n",
       "      <td>MESA DARIO ALEJANDRO C/ OSVALDO OLIVARI SRL Y ...</td>\n",
       "      <td>2018-08-13</td>\n",
       "      <td>2</td>\n",
       "      <td>CIVIL</td>\n",
       "      <td>NACIONAL DE 1ª INSTANCIA EN LO CIVIL Nº 27</td>\n",
       "      <td>C.A.B.A.</td>\n",
       "      <td>30709220221</td>\n",
       "      <td>ESTIBAJES DEL DOCK S.A.                       ...</td>\n",
       "      <td>...</td>\n",
       "      <td>CC - Art. 1072</td>\n",
       "      <td>2009-10-23</td>\n",
       "      <td>SI</td>\n",
       "      <td>NO</td>\n",
       "      <td>NO</td>\n",
       "      <td>620</td>\n",
       "      <td>ASOCIART ART</td>\n",
       "      <td>2018</td>\n",
       "      <td>2-Accidentes de trabajo.-2018</td>\n",
       "      <td>2-2018</td>\n",
       "    </tr>\n",
       "  </tbody>\n",
       "</table>\n",
       "<p>3 rows × 26 columns</p>\n",
       "</div>"
      ],
      "text/plain": [
       "  Aseguradora     NRO_EXPJUDICIAL  \\\n",
       "0    ASOCIART  0002-0000019603/16   \n",
       "1    ASOCIART  0002-0000079724/15   \n",
       "2    ASOCIART  0002-0000087980/11   \n",
       "\n",
       "                                            CARATULA F_notificacion  \\\n",
       "0  ALVAREZ JORGE DANIEL C/ ASOCIART S.A. ART S/ D...     2017-11-02   \n",
       "1  MERLO DANIEL FERNANDO C/ ASOCIART S.A. ART S/ ...     2017-04-28   \n",
       "2  MESA DARIO ALEJANDRO C/ OSVALDO OLIVARI SRL Y ...     2018-08-13   \n",
       "\n",
       "  DPTO_JUDICIAL  FUERO                                     JUZGADO  provincia  \\\n",
       "0             2  CIVIL  NACIONAL DE 1ª INSTANCIA EN LO CIVIL Nº 27  C.A.B.A.    \n",
       "1             2  CIVIL  NACIONAL DE 1ª INSTANCIA EN LO CIVIL Nº 27  C.A.B.A.    \n",
       "2             2  CIVIL  NACIONAL DE 1ª INSTANCIA EN LO CIVIL Nº 27  C.A.B.A.    \n",
       "\n",
       "      CUIT_emp                                          EMPLEADOR   ...    \\\n",
       "0  30693148363  ZARA ARGENTINA S A                            ...   ...     \n",
       "1  33659119329  TERMINAL PANAMERICANA S A                     ...   ...     \n",
       "2  30709220221  ESTIBAJES DEL DOCK S.A.                       ...   ...     \n",
       "\n",
       "    OBJ_RECLAMADO fsiniestro  Contrato_PMI Via Adm Posible via adm cod_cia  \\\n",
       "0  CC - Art. 1072 2014-10-12            SI      NO              NO     620   \n",
       "1  CC - Art. 1072 2013-02-15            SI      NO              NO     620   \n",
       "2  CC - Art. 1072 2009-10-23            SI      NO              NO     620   \n",
       "\n",
       "  denominacion_corta   AÑO                         codigo codigo2  \n",
       "0       ASOCIART ART  2017  2-Accidentes de trabajo.-2017  2-2017  \n",
       "1       ASOCIART ART  2017  2-Accidentes de trabajo.-2017  2-2017  \n",
       "2       ASOCIART ART  2018  2-Accidentes de trabajo.-2018  2-2018  \n",
       "\n",
       "[3 rows x 26 columns]"
      ]
     },
     "execution_count": 31,
     "metadata": {},
     "output_type": "execute_result"
    }
   ],
   "source": [
    "base.head(3)"
   ]
  },
  {
   "cell_type": "code",
   "execution_count": 32,
   "metadata": {
    "collapsed": true
   },
   "outputs": [],
   "source": [
    "# Exporto el dataset\n",
    "\n",
    "base.to_excel(r'C:\\Users\\eangenello\\Desktop\\TECNICA\\Python\\output\\Stock Juicios Abiertos.xlsx', index=False)"
   ]
  },
  {
   "cell_type": "markdown",
   "metadata": {},
   "source": [
    "## Dataset Agrupado por Cia"
   ]
  },
  {
   "cell_type": "code",
   "execution_count": 48,
   "metadata": {
    "collapsed": true
   },
   "outputs": [],
   "source": [
    "base2=base.groupby(['cod_cia','denominacion_corta','Contrato_PMI'], as_index=False)['Aseguradora'].count()"
   ]
  },
  {
   "cell_type": "code",
   "execution_count": 49,
   "metadata": {},
   "outputs": [
    {
     "data": {
      "text/html": [
       "<div>\n",
       "<style scoped>\n",
       "    .dataframe tbody tr th:only-of-type {\n",
       "        vertical-align: middle;\n",
       "    }\n",
       "\n",
       "    .dataframe tbody tr th {\n",
       "        vertical-align: top;\n",
       "    }\n",
       "\n",
       "    .dataframe thead th {\n",
       "        text-align: right;\n",
       "    }\n",
       "</style>\n",
       "<table border=\"1\" class=\"dataframe\">\n",
       "  <thead>\n",
       "    <tr style=\"text-align: right;\">\n",
       "      <th></th>\n",
       "      <th>cod_cia</th>\n",
       "      <th>denominacion_corta</th>\n",
       "      <th>Contrato_PMI</th>\n",
       "      <th>Aseguradora</th>\n",
       "    </tr>\n",
       "  </thead>\n",
       "  <tbody>\n",
       "    <tr>\n",
       "      <th>0</th>\n",
       "      <td>7</td>\n",
       "      <td>CAMINOS PROTEGIDOS</td>\n",
       "      <td>NO</td>\n",
       "      <td>18</td>\n",
       "    </tr>\n",
       "    <tr>\n",
       "      <th>1</th>\n",
       "      <td>7</td>\n",
       "      <td>CAMINOS PROTEGIDOS</td>\n",
       "      <td>SI</td>\n",
       "      <td>1384</td>\n",
       "    </tr>\n",
       "    <tr>\n",
       "      <th>2</th>\n",
       "      <td>39</td>\n",
       "      <td>QBE</td>\n",
       "      <td>NO</td>\n",
       "      <td>81</td>\n",
       "    </tr>\n",
       "    <tr>\n",
       "      <th>3</th>\n",
       "      <td>39</td>\n",
       "      <td>QBE</td>\n",
       "      <td>SI</td>\n",
       "      <td>419</td>\n",
       "    </tr>\n",
       "    <tr>\n",
       "      <th>4</th>\n",
       "      <td>64</td>\n",
       "      <td>VICTORIA</td>\n",
       "      <td>NO</td>\n",
       "      <td>20</td>\n",
       "    </tr>\n",
       "  </tbody>\n",
       "</table>\n",
       "</div>"
      ],
      "text/plain": [
       "   cod_cia  denominacion_corta Contrato_PMI  Aseguradora\n",
       "0        7  CAMINOS PROTEGIDOS           NO           18\n",
       "1        7  CAMINOS PROTEGIDOS           SI         1384\n",
       "2       39                 QBE           NO           81\n",
       "3       39                 QBE           SI          419\n",
       "4       64            VICTORIA           NO           20"
      ]
     },
     "execution_count": 49,
     "metadata": {},
     "output_type": "execute_result"
    }
   ],
   "source": [
    "base2.head()"
   ]
  },
  {
   "cell_type": "code",
   "execution_count": 51,
   "metadata": {
    "collapsed": true
   },
   "outputs": [],
   "source": [
    "base3=base2.pivot_table(index=['cod_cia','denominacion_corta'], values=['Aseguradora'], columns=['Contrato_PMI'])"
   ]
  },
  {
   "cell_type": "code",
   "execution_count": 52,
   "metadata": {},
   "outputs": [
    {
     "data": {
      "text/html": [
       "<div>\n",
       "<style scoped>\n",
       "    .dataframe tbody tr th:only-of-type {\n",
       "        vertical-align: middle;\n",
       "    }\n",
       "\n",
       "    .dataframe tbody tr th {\n",
       "        vertical-align: top;\n",
       "    }\n",
       "\n",
       "    .dataframe thead tr th {\n",
       "        text-align: left;\n",
       "    }\n",
       "\n",
       "    .dataframe thead tr:last-of-type th {\n",
       "        text-align: right;\n",
       "    }\n",
       "</style>\n",
       "<table border=\"1\" class=\"dataframe\">\n",
       "  <thead>\n",
       "    <tr>\n",
       "      <th></th>\n",
       "      <th></th>\n",
       "      <th colspan=\"2\" halign=\"left\">Aseguradora</th>\n",
       "    </tr>\n",
       "    <tr>\n",
       "      <th></th>\n",
       "      <th>Contrato_PMI</th>\n",
       "      <th>NO</th>\n",
       "      <th>SI</th>\n",
       "    </tr>\n",
       "    <tr>\n",
       "      <th>cod_cia</th>\n",
       "      <th>denominacion_corta</th>\n",
       "      <th></th>\n",
       "      <th></th>\n",
       "    </tr>\n",
       "  </thead>\n",
       "  <tbody>\n",
       "    <tr>\n",
       "      <th>64</th>\n",
       "      <th>VICTORIA</th>\n",
       "      <td>20</td>\n",
       "      <td>426</td>\n",
       "    </tr>\n",
       "    <tr>\n",
       "      <th>79</th>\n",
       "      <th>HOLANDO SUDAMERICANA</th>\n",
       "      <td>20</td>\n",
       "      <td>846</td>\n",
       "    </tr>\n",
       "    <tr>\n",
       "      <th>254</th>\n",
       "      <th>INST. AUTÁRQUICO</th>\n",
       "      <td>56</td>\n",
       "      <td>1554</td>\n",
       "    </tr>\n",
       "    <tr>\n",
       "      <th>259</th>\n",
       "      <th>CAJA DE TUCUMÁN</th>\n",
       "      <td>1</td>\n",
       "      <td>313</td>\n",
       "    </tr>\n",
       "    <tr>\n",
       "      <th>261</th>\n",
       "      <th>HORIZONTE</th>\n",
       "      <td>172</td>\n",
       "      <td>3687</td>\n",
       "    </tr>\n",
       "    <tr>\n",
       "      <th>348</th>\n",
       "      <th>PRODUCTORES DE FRUTAS</th>\n",
       "      <td>171</td>\n",
       "      <td>1512</td>\n",
       "    </tr>\n",
       "    <tr>\n",
       "      <th>412</th>\n",
       "      <th>LATITUD SUR</th>\n",
       "      <td>5</td>\n",
       "      <td>171</td>\n",
       "    </tr>\n",
       "    <tr>\n",
       "      <th>440</th>\n",
       "      <th>RECONQUISTA ART</th>\n",
       "      <td>80</td>\n",
       "      <td>797</td>\n",
       "    </tr>\n",
       "    <tr>\n",
       "      <th>605</th>\n",
       "      <th>SWISS MEDICAL ART</th>\n",
       "      <td>1584</td>\n",
       "      <td>26273</td>\n",
       "    </tr>\n",
       "    <tr>\n",
       "      <th>616</th>\n",
       "      <th>EXPERTA ART</th>\n",
       "      <td>1783</td>\n",
       "      <td>25648</td>\n",
       "    </tr>\n",
       "    <tr>\n",
       "      <th>618</th>\n",
       "      <th>SEGUNDA ART</th>\n",
       "      <td>673</td>\n",
       "      <td>23695</td>\n",
       "    </tr>\n",
       "    <tr>\n",
       "      <th>619</th>\n",
       "      <th>GALENO ART</th>\n",
       "      <td>8902</td>\n",
       "      <td>53309</td>\n",
       "    </tr>\n",
       "    <tr>\n",
       "      <th>620</th>\n",
       "      <th>ASOCIART ART</th>\n",
       "      <td>851</td>\n",
       "      <td>24475</td>\n",
       "    </tr>\n",
       "    <tr>\n",
       "      <th>621</th>\n",
       "      <th>PROVINCIA ART</th>\n",
       "      <td>3813</td>\n",
       "      <td>47501</td>\n",
       "    </tr>\n",
       "    <tr>\n",
       "      <th>624</th>\n",
       "      <th>BERKLEY ART</th>\n",
       "      <td>321</td>\n",
       "      <td>2512</td>\n",
       "    </tr>\n",
       "    <tr>\n",
       "      <th>626</th>\n",
       "      <th>PREVENCIÓN ART</th>\n",
       "      <td>2571</td>\n",
       "      <td>31678</td>\n",
       "    </tr>\n",
       "    <tr>\n",
       "      <th>726</th>\n",
       "      <th>FED. PATRONAL</th>\n",
       "      <td>496</td>\n",
       "      <td>22410</td>\n",
       "    </tr>\n",
       "    <tr>\n",
       "      <th>862</th>\n",
       "      <th>OMINT ART</th>\n",
       "      <td>64</td>\n",
       "      <td>4671</td>\n",
       "    </tr>\n",
       "  </tbody>\n",
       "</table>\n",
       "</div>"
      ],
      "text/plain": [
       "                              Aseguradora       \n",
       "Contrato_PMI                           NO     SI\n",
       "cod_cia denominacion_corta                      \n",
       "64      VICTORIA                       20    426\n",
       "79      HOLANDO SUDAMERICANA           20    846\n",
       "254     INST. AUTÁRQUICO               56   1554\n",
       "259     CAJA DE TUCUMÁN                 1    313\n",
       "261     HORIZONTE                     172   3687\n",
       "348     PRODUCTORES DE FRUTAS         171   1512\n",
       "412     LATITUD SUR                     5    171\n",
       "440     RECONQUISTA ART                80    797\n",
       "605     SWISS MEDICAL ART            1584  26273\n",
       "616     EXPERTA ART                  1783  25648\n",
       "618     SEGUNDA ART                   673  23695\n",
       "619     GALENO ART                   8902  53309\n",
       "620     ASOCIART ART                  851  24475\n",
       "621     PROVINCIA ART                3813  47501\n",
       "624     BERKLEY ART                   321   2512\n",
       "626     PREVENCIÓN ART               2571  31678\n",
       "726     FED. PATRONAL                 496  22410\n",
       "862     OMINT ART                      64   4671"
      ]
     },
     "execution_count": 52,
     "metadata": {},
     "output_type": "execute_result"
    }
   ],
   "source": [
    "base3"
   ]
  },
  {
   "cell_type": "code",
   "execution_count": 53,
   "metadata": {
    "collapsed": true
   },
   "outputs": [],
   "source": [
    "base3.to_excel(r'C:\\Users\\eangenello\\Desktop\\TECNICA\\Python\\output\\Stock Juicios Abiertos por cia ART.xlsx')"
   ]
  },
  {
   "cell_type": "code",
   "execution_count": null,
   "metadata": {
    "collapsed": true
   },
   "outputs": [],
   "source": []
  }
 ],
 "metadata": {
  "kernelspec": {
   "display_name": "Python 3",
   "language": "python",
   "name": "python3"
  },
  "language_info": {
   "codemirror_mode": {
    "name": "ipython",
    "version": 3
   },
   "file_extension": ".py",
   "mimetype": "text/x-python",
   "name": "python",
   "nbconvert_exporter": "python",
   "pygments_lexer": "ipython3",
   "version": "3.8.3"
  }
 },
 "nbformat": 4,
 "nbformat_minor": 2
}
