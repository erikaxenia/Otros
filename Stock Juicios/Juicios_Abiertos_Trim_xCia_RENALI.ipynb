{
 "cells": [
  {
   "cell_type": "markdown",
   "metadata": {},
   "source": [
    "## JUICIOS ABIERTOS TRIMESTRAL POR CIA RE.NA.LI."
   ]
  },
  {
   "cell_type": "code",
   "execution_count": 1,
   "metadata": {},
   "outputs": [],
   "source": [
    "import numpy as np\n",
    "import scipy as sp\n",
    "import pandas as pd\n",
    "import matplotlib.pyplot as plt\n",
    "import seaborn as sns\n",
    "import math\n",
    "import time\n",
    "import datetime\n",
    "\n",
    "%matplotlib inline\n",
    "\n",
    "#pd.options.display.max_rows = 10\n",
    "pd.options.display.float_format = '{:,.2f}'.format\n",
    "plt.rcParams['figure.figsize'] = (7, 5)"
   ]
  },
  {
   "cell_type": "code",
   "execution_count": 2,
   "metadata": {},
   "outputs": [],
   "source": [
    "#Importo la base\n",
    "\n",
    "base=pd.read_excel(r'C:\\Users\\eangenello\\Desktop\\TECNICA\\Python\\input\\ART\\RENALI\\Juicios abiertos contratos 2019-2.xlsx')"
   ]
  },
  {
   "cell_type": "code",
   "execution_count": 3,
   "metadata": {
    "scrolled": true
   },
   "outputs": [
    {
     "data": {
      "text/html": [
       "<div>\n",
       "<style scoped>\n",
       "    .dataframe tbody tr th:only-of-type {\n",
       "        vertical-align: middle;\n",
       "    }\n",
       "\n",
       "    .dataframe tbody tr th {\n",
       "        vertical-align: top;\n",
       "    }\n",
       "\n",
       "    .dataframe thead th {\n",
       "        text-align: right;\n",
       "    }\n",
       "</style>\n",
       "<table border=\"1\" class=\"dataframe\">\n",
       "  <thead>\n",
       "    <tr style=\"text-align: right;\">\n",
       "      <th></th>\n",
       "      <th>Aseguradora</th>\n",
       "      <th>NRO_EXPJUDICIAL</th>\n",
       "      <th>CARATULA</th>\n",
       "      <th>F_notificacion</th>\n",
       "      <th>DPTO_JUDICIAL</th>\n",
       "      <th>FUERO</th>\n",
       "      <th>JUZGADO</th>\n",
       "      <th>provincia</th>\n",
       "      <th>CUIT_emp</th>\n",
       "      <th>EMPLEADOR</th>\n",
       "      <th>...</th>\n",
       "      <th>MONTO_RECLAMADO_INDETERMINADO</th>\n",
       "      <th>MONTO_RECLAMADO</th>\n",
       "      <th>SENT_PRIMERA</th>\n",
       "      <th>CONTIGENCIA</th>\n",
       "      <th>ENF_RECLAMADA</th>\n",
       "      <th>OBJ_RECLAMADO</th>\n",
       "      <th>fsiniestro</th>\n",
       "      <th>Contrato_PMI</th>\n",
       "      <th>Via Adm</th>\n",
       "      <th>Posible via adm</th>\n",
       "    </tr>\n",
       "  </thead>\n",
       "  <tbody>\n",
       "    <tr>\n",
       "      <th>0</th>\n",
       "      <td>ASOCIART</td>\n",
       "      <td>0002-0000019603/16</td>\n",
       "      <td>ALVAREZ JORGE DANIEL C/ ASOCIART S.A. ART S/ D...</td>\n",
       "      <td>2017-11-02</td>\n",
       "      <td>2</td>\n",
       "      <td>CIVIL</td>\n",
       "      <td>NACIONAL DE 1ª INSTANCIA EN LO CIVIL Nº 27</td>\n",
       "      <td>C.A.B.A.</td>\n",
       "      <td>30693148363</td>\n",
       "      <td>ZARA ARGENTINA S A                            ...</td>\n",
       "      <td>...</td>\n",
       "      <td>N</td>\n",
       "      <td>1,343,082.00</td>\n",
       "      <td>nan</td>\n",
       "      <td>Accidentes de trabajo.</td>\n",
       "      <td>NaN</td>\n",
       "      <td>CC - Art. 1072</td>\n",
       "      <td>2014-10-12</td>\n",
       "      <td>SI</td>\n",
       "      <td>NO</td>\n",
       "      <td>NO</td>\n",
       "    </tr>\n",
       "    <tr>\n",
       "      <th>1</th>\n",
       "      <td>ASOCIART</td>\n",
       "      <td>0002-0000079724/15</td>\n",
       "      <td>MERLO DANIEL FERNANDO C/ ASOCIART S.A. ART S/ ...</td>\n",
       "      <td>2017-04-28</td>\n",
       "      <td>2</td>\n",
       "      <td>CIVIL</td>\n",
       "      <td>NACIONAL DE 1ª INSTANCIA EN LO CIVIL Nº 27</td>\n",
       "      <td>C.A.B.A.</td>\n",
       "      <td>33659119329</td>\n",
       "      <td>TERMINAL PANAMERICANA S A                     ...</td>\n",
       "      <td>...</td>\n",
       "      <td>N</td>\n",
       "      <td>1,231,796.40</td>\n",
       "      <td>nan</td>\n",
       "      <td>Accidentes de trabajo.</td>\n",
       "      <td>NaN</td>\n",
       "      <td>CC - Art. 1072</td>\n",
       "      <td>2013-02-15</td>\n",
       "      <td>SI</td>\n",
       "      <td>NO</td>\n",
       "      <td>NO</td>\n",
       "    </tr>\n",
       "  </tbody>\n",
       "</table>\n",
       "<p>2 rows × 21 columns</p>\n",
       "</div>"
      ],
      "text/plain": [
       "  Aseguradora     NRO_EXPJUDICIAL  \\\n",
       "0    ASOCIART  0002-0000019603/16   \n",
       "1    ASOCIART  0002-0000079724/15   \n",
       "\n",
       "                                            CARATULA F_notificacion  \\\n",
       "0  ALVAREZ JORGE DANIEL C/ ASOCIART S.A. ART S/ D...     2017-11-02   \n",
       "1  MERLO DANIEL FERNANDO C/ ASOCIART S.A. ART S/ ...     2017-04-28   \n",
       "\n",
       "   DPTO_JUDICIAL  FUERO                                     JUZGADO  \\\n",
       "0              2  CIVIL  NACIONAL DE 1ª INSTANCIA EN LO CIVIL Nº 27   \n",
       "1              2  CIVIL  NACIONAL DE 1ª INSTANCIA EN LO CIVIL Nº 27   \n",
       "\n",
       "   provincia     CUIT_emp                                          EMPLEADOR  \\\n",
       "0  C.A.B.A.   30693148363  ZARA ARGENTINA S A                            ...   \n",
       "1  C.A.B.A.   33659119329  TERMINAL PANAMERICANA S A                     ...   \n",
       "\n",
       "        ...       MONTO_RECLAMADO_INDETERMINADO MONTO_RECLAMADO  SENT_PRIMERA  \\\n",
       "0       ...                                   N    1,343,082.00           nan   \n",
       "1       ...                                   N    1,231,796.40           nan   \n",
       "\n",
       "              CONTIGENCIA ENF_RECLAMADA   OBJ_RECLAMADO fsiniestro  \\\n",
       "0  Accidentes de trabajo.           NaN  CC - Art. 1072 2014-10-12   \n",
       "1  Accidentes de trabajo.           NaN  CC - Art. 1072 2013-02-15   \n",
       "\n",
       "  Contrato_PMI Via Adm Posible via adm  \n",
       "0           SI      NO              NO  \n",
       "1           SI      NO              NO  \n",
       "\n",
       "[2 rows x 21 columns]"
      ]
     },
     "execution_count": 3,
     "metadata": {},
     "output_type": "execute_result"
    }
   ],
   "source": [
    "# Visualizo los primeros datos\n",
    "\n",
    "base.head(2)"
   ]
  },
  {
   "cell_type": "code",
   "execution_count": 4,
   "metadata": {},
   "outputs": [],
   "source": [
    "Dataset_compañías=pd.read_excel(r'C:\\Users\\eangenello\\Desktop\\TECNICA\\Python\\input\\ART\\Dataset_Compañías.xlsx', sheet_name='Sentencias')\n",
    "\n",
    "base=base.merge(Dataset_compañías, how='inner', on='Aseguradora')"
   ]
  },
  {
   "cell_type": "code",
   "execution_count": 5,
   "metadata": {},
   "outputs": [],
   "source": [
    "base=base.groupby(['cod_cia','denominacion_corta'], as_index=False)['Aseguradora'].count()"
   ]
  },
  {
   "cell_type": "code",
   "execution_count": 6,
   "metadata": {},
   "outputs": [],
   "source": [
    "cias_art=[64,79,254,259,261,348,412,440,605,616,618,619,620,621,624,626,726,862,890,9999]\n",
    "base['cias_art']=[1 if np.isin(base.cod_cia.iloc[i],cias_art)==True else 0 for i in range(len(base.index))]\n",
    "\n",
    "base=base[(base.cias_art==1)]\n",
    "\n",
    "base=base.drop({'cias_art'}, 1)"
   ]
  },
  {
   "cell_type": "code",
   "execution_count": 10,
   "metadata": {},
   "outputs": [],
   "source": [
    "base[\"Periodo_balance\"]=\"2019-2\""
   ]
  },
  {
   "cell_type": "code",
   "execution_count": null,
   "metadata": {},
   "outputs": [],
   "source": [
    "base=base.rename(columns = {'Aseguradora':'Juicios abiertos'})"
   ]
  },
  {
   "cell_type": "code",
   "execution_count": 11,
   "metadata": {},
   "outputs": [
    {
     "data": {
      "text/html": [
       "<div>\n",
       "<style scoped>\n",
       "    .dataframe tbody tr th:only-of-type {\n",
       "        vertical-align: middle;\n",
       "    }\n",
       "\n",
       "    .dataframe tbody tr th {\n",
       "        vertical-align: top;\n",
       "    }\n",
       "\n",
       "    .dataframe thead th {\n",
       "        text-align: right;\n",
       "    }\n",
       "</style>\n",
       "<table border=\"1\" class=\"dataframe\">\n",
       "  <thead>\n",
       "    <tr style=\"text-align: right;\">\n",
       "      <th></th>\n",
       "      <th>cod_cia</th>\n",
       "      <th>denominacion_corta</th>\n",
       "      <th>Aseguradora</th>\n",
       "      <th>Periodo_balance</th>\n",
       "    </tr>\n",
       "  </thead>\n",
       "  <tbody>\n",
       "    <tr>\n",
       "      <th>2</th>\n",
       "      <td>64</td>\n",
       "      <td>VICTORIA</td>\n",
       "      <td>446</td>\n",
       "      <td>2019-2</td>\n",
       "    </tr>\n",
       "    <tr>\n",
       "      <th>3</th>\n",
       "      <td>79</td>\n",
       "      <td>HOLANDO SUDAMERICANA</td>\n",
       "      <td>866</td>\n",
       "      <td>2019-2</td>\n",
       "    </tr>\n",
       "    <tr>\n",
       "      <th>4</th>\n",
       "      <td>254</td>\n",
       "      <td>INST. AUTÁRQUICO</td>\n",
       "      <td>1610</td>\n",
       "      <td>2019-2</td>\n",
       "    </tr>\n",
       "    <tr>\n",
       "      <th>5</th>\n",
       "      <td>259</td>\n",
       "      <td>CAJA DE TUCUMÁN</td>\n",
       "      <td>314</td>\n",
       "      <td>2019-2</td>\n",
       "    </tr>\n",
       "    <tr>\n",
       "      <th>6</th>\n",
       "      <td>261</td>\n",
       "      <td>HORIZONTE</td>\n",
       "      <td>3859</td>\n",
       "      <td>2019-2</td>\n",
       "    </tr>\n",
       "  </tbody>\n",
       "</table>\n",
       "</div>"
      ],
      "text/plain": [
       "   cod_cia    denominacion_corta  Aseguradora Periodo_balance\n",
       "2       64              VICTORIA          446          2019-2\n",
       "3       79  HOLANDO SUDAMERICANA          866          2019-2\n",
       "4      254      INST. AUTÁRQUICO         1610          2019-2\n",
       "5      259       CAJA DE TUCUMÁN          314          2019-2\n",
       "6      261             HORIZONTE         3859          2019-2"
      ]
     },
     "execution_count": 11,
     "metadata": {},
     "output_type": "execute_result"
    }
   ],
   "source": [
    "base.head()"
   ]
  },
  {
   "cell_type": "code",
   "execution_count": 12,
   "metadata": {},
   "outputs": [],
   "source": [
    "base.to_excel(r'C:\\Users\\eangenello\\Desktop\\TECNICA\\Python\\output\\Stock Juicios Abiertos por cia ART 2019-2.xlsx', index=False)"
   ]
  },
  {
   "cell_type": "code",
   "execution_count": null,
   "metadata": {},
   "outputs": [],
   "source": []
  }
 ],
 "metadata": {
  "kernelspec": {
   "display_name": "Python 3",
   "language": "python",
   "name": "python3"
  },
  "language_info": {
   "codemirror_mode": {
    "name": "ipython",
    "version": 3
   },
   "file_extension": ".py",
   "mimetype": "text/x-python",
   "name": "python",
   "nbconvert_exporter": "python",
   "pygments_lexer": "ipython3",
   "version": "3.8.3"
  }
 },
 "nbformat": 4,
 "nbformat_minor": 2
}
