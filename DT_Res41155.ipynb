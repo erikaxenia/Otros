{
 "cells": [
  {
   "cell_type": "code",
   "execution_count": 2,
   "metadata": {},
   "outputs": [],
   "source": [
    "import numpy as np\n",
    "import scipy as sp\n",
    "import pandas as pd\n",
    "import matplotlib.pyplot as plt\n",
    "import seaborn as sns\n",
    "\n",
    "%matplotlib inline"
   ]
  },
  {
   "cell_type": "code",
   "execution_count": 3,
   "metadata": {},
   "outputs": [],
   "source": [
    "# Importo base construida a partir de las Notas a los Estados Contables\n",
    "# [Reserva por Pasivo Global], [Cantidad de Juicios Abiertos con Pagos Parciales] y [Total de Pagos de los Casos Abiertos con Juicios]\n",
    "\n",
    "Dataset_NEECC=pd.read_excel(r'C:\\Users\\eangenello\\Desktop\\TECNICA\\Python\\input\\ART\\Dataset_AM\\Dataset_NEECC_Sinensup.xlsx', sheet_name = 'NEECC', usecols='A:G')\n",
    "\n",
    "Dataset_NEECC=Dataset_NEECC.drop('des_cia',1)"
   ]
  },
  {
   "cell_type": "code",
   "execution_count": 4,
   "metadata": {},
   "outputs": [
    {
     "name": "stderr",
     "output_type": "stream",
     "text": [
      "C:\\Users\\eangenello\\AppData\\Local\\Continuum\\anaconda3\\lib\\site-packages\\ipykernel_launcher.py:13: SettingWithCopyWarning: \n",
      "A value is trying to be set on a copy of a slice from a DataFrame.\n",
      "Try using .loc[row_indexer,col_indexer] = value instead\n",
      "\n",
      "See the caveats in the documentation: http://pandas.pydata.org/pandas-docs/stable/indexing.html#indexing-view-versus-copy\n",
      "  del sys.path[0]\n",
      "C:\\Users\\eangenello\\AppData\\Local\\Continuum\\anaconda3\\lib\\site-packages\\ipykernel_launcher.py:17: SettingWithCopyWarning: \n",
      "A value is trying to be set on a copy of a slice from a DataFrame.\n",
      "Try using .loc[row_indexer,col_indexer] = value instead\n",
      "\n",
      "See the caveats in the documentation: http://pandas.pydata.org/pandas-docs/stable/indexing.html#indexing-view-versus-copy\n"
     ]
    }
   ],
   "source": [
    "# Importo y preparo Siniestros en Juicio y Pendiente de Liquidación de BALANCE_2\n",
    "\n",
    "balances2_df=pd.read_excel(r'C:\\Users\\eangenello\\Desktop\\TECNICA\\Python\\input\\ART\\Dataset_AM\\BALANCES_2.xlsx', usecols='A:F')\n",
    "dataset_missing=pd.read_excel(r'C:\\Users\\eangenello\\Desktop\\TECNICA\\Python\\input\\ART\\Dataset_AM\\Missing_AM.xlsx', sheet_name='BALANCES_2')\n",
    "balances2_df=balances2_df.append(dataset_missing)\n",
    "\n",
    "#Filtro subramo y codigo de cuenta\n",
    "balances2_df=balances2_df[(balances2_df.cod_subramo=='1.050.01')|(balances2_df.cod_subramo=='1.050.99')]\n",
    "balances2A_df=balances2_df[balances2_df.cod_cuenta=='2.01.01.01.01.18.01.00']\n",
    "balances2B_df=balances2_df[balances2_df.cod_cuenta=='2.01.01.01.01.18.02.00']\n",
    "\n",
    "# Siniestros ART - En mediación\n",
    "balances2A_df['Siniestros ART - En mediación']=balances2A_df['importe']\n",
    "balances2A_df=balances2A_df.drop(['cod_cuenta', 'importe'],1)\n",
    "\n",
    "# Siniestros ART - En juicio\n",
    "balances2B_df['Siniestros ART - En juicio']=balances2B_df['importe']\n",
    "balances2B_df=balances2B_df.drop(['cod_cuenta', 'importe'],1)\n",
    "\n",
    "# Junto ambas variables y agrupo\n",
    "BALANCES_2_df=balances2A_df.merge(balances2B_df, how='outer', on=['cod_cia','des_cia','año','cod_subramo'])\n",
    "BALANCES_2_df_agrup=BALANCES_2_df.groupby(['cod_cia','año'], as_index=False)['Siniestros ART - En mediación','Siniestros ART - En juicio'].sum()\n",
    "\n",
    "BALANCES_2_df_agrup['Periodo_balance']=BALANCES_2_df_agrup['año']\n",
    "BALANCES_2_df_agrup=BALANCES_2_df_agrup.drop('año',1)\n",
    "#BALANCES_2_df_agrup=BALANCES_2_df_agrup.drop('des_cia',1)"
   ]
  },
  {
   "cell_type": "code",
   "execution_count": 5,
   "metadata": {},
   "outputs": [],
   "source": [
    "# Junto datasets: BALANCES2 + Sinensup\n",
    "\n",
    "Dataset_Res41155=Dataset_NEECC.merge(BALANCES_2_df_agrup, how='left', on=['cod_cia','Periodo_balance'])"
   ]
  },
  {
   "cell_type": "code",
   "execution_count": 6,
   "metadata": {},
   "outputs": [],
   "source": [
    "# Importo base construida a partir del SINENSUP\n",
    "# [Saldo a amortizar dif. reserva pto. 33.4.1.6 (-)] y [Reserva Especial ART Res. 41.155]\n",
    "\n",
    "Dataset_Sinensup=pd.read_excel(r'C:\\Users\\eangenello\\Desktop\\TECNICA\\Python\\input\\ART\\Dataset_AM\\Dataset_NEECC_Sinensup.xlsx', sheet_name = 'Sinensup')\n",
    "\n",
    "Dataset_Sinensup=Dataset_Sinensup.drop('des_cia',1)"
   ]
  },
  {
   "cell_type": "code",
   "execution_count": 7,
   "metadata": {},
   "outputs": [],
   "source": [
    "# Junto datasets: \n",
    "\n",
    "Dataset_Res41155=Dataset_Res41155.merge(Dataset_Sinensup, how='left', on=['cod_cia','Periodo_balance'])"
   ]
  },
  {
   "cell_type": "code",
   "execution_count": 8,
   "metadata": {},
   "outputs": [],
   "source": [
    "# Importo y preparo Anexo 11\n",
    "\n",
    "anexo11_df=pd.read_excel(r'C:\\Users\\eangenello\\Desktop\\TECNICA\\Python\\input\\ART\\Dataset_AM\\ANEXO_11.xlsx', usecols='A,C,D,J')\n",
    "\n",
    "dataset_missing=pd.read_excel(r'C:\\Users\\eangenello\\Desktop\\TECNICA\\Python\\input\\ART\\Dataset_AM\\Missing_AM.xlsx', sheet_name='ANEXO_11', usecols='A,C,D,J')\n",
    "\n",
    "anexo11_df=anexo11_df.append(dataset_missing)\n",
    "\n",
    "anexo11_df=anexo11_df[(anexo11_df.cod_subramo=='1.050.01')|(anexo11_df.cod_subramo=='1.050.99')]\n",
    "\n",
    "anexo11_df_agrup=anexo11_df.groupby(['cod_cia','año'], as_index=False)['Conting_y_Desvios_de_Siniestralidad_ART'].sum()\n",
    "\n",
    "anexo11_df_agrup['Periodo_balance']=anexo11_df_agrup['año']\n",
    "anexo11_df_agrup=anexo11_df_agrup.drop('año',1)\n"
   ]
  },
  {
   "cell_type": "code",
   "execution_count": 9,
   "metadata": {},
   "outputs": [],
   "source": [
    "# Junto datasets: Anexo 12 + Anexo 8 + Anexo 11\n",
    "\n",
    "Dataset_Res41155=Dataset_Res41155.merge(anexo11_df_agrup, how='left', on=['cod_cia','Periodo_balance'])"
   ]
  },
  {
   "cell_type": "code",
   "execution_count": 10,
   "metadata": {},
   "outputs": [],
   "source": [
    "Dataset_Res41155=Dataset_Res41155.replace(to_replace=np.nan, value=0)"
   ]
  },
  {
   "cell_type": "code",
   "execution_count": 11,
   "metadata": {},
   "outputs": [],
   "source": [
    "# Importo nombre compañías\n",
    "\n",
    "Dataset_compañías=pd.read_excel(r'C:\\Users\\eangenello\\Desktop\\TECNICA\\Python\\input\\ART\\Dataset_Compañías.xlsx', sheet_name='AM')"
   ]
  },
  {
   "cell_type": "code",
   "execution_count": 12,
   "metadata": {},
   "outputs": [],
   "source": [
    "# Junto datasets: BALANCES_2 + Sinensup + NEEC + Compañías\n",
    "\n",
    "Dataset_Res41155=Dataset_Res41155.merge(Dataset_compañías, how='left', on='cod_cia')"
   ]
  },
  {
   "cell_type": "code",
   "execution_count": 13,
   "metadata": {},
   "outputs": [
    {
     "data": {
      "text/plain": [
       "['cod_cia',\n",
       " 'Periodo_balance',\n",
       " 'Cantidad de Juicios',\n",
       " 'Reserva por Pasivo Global',\n",
       " 'Cantidad de Juicios Abiertos con Pagos Parciales',\n",
       " 'Total de Pagos de los Casos Abiertos con Juicios',\n",
       " 'Siniestros ART - En mediación',\n",
       " 'Siniestros ART - En juicio',\n",
       " 'Saldo a amortizar dif. reserva pto. 33.4.1.6 (-)',\n",
       " 'Reserva Especial ART Res. 41.155',\n",
       " 'Conting_y_Desvios_de_Siniestralidad_ART',\n",
       " 'denominacion_corta']"
      ]
     },
     "execution_count": 13,
     "metadata": {},
     "output_type": "execute_result"
    }
   ],
   "source": [
    "# Listo las etiquetas de las columnas\n",
    "\n",
    "Dataset_Res41155=Dataset_Res41155.drop('des_cia',1)\n",
    "\n",
    "cols = list(Dataset_Res41155.columns.values)\n",
    "cols\n",
    "\n"
   ]
  },
  {
   "cell_type": "code",
   "execution_count": 14,
   "metadata": {},
   "outputs": [],
   "source": [
    "# Reordeno las columnas\n",
    "\n",
    "reord=['cod_cia','denominacion_corta', 'Periodo_balance',  'Siniestros ART - En mediación',\n",
    " 'Siniestros ART - En juicio',  'Saldo a amortizar dif. reserva pto. 33.4.1.6 (-)',\n",
    " 'Reserva Especial ART Res. 41.155',\n",
    " 'Cantidad de Juicios',\n",
    " 'Reserva por Pasivo Global',\n",
    " 'Cantidad de Juicios Abiertos con Pagos Parciales',\n",
    " 'Total de Pagos de los Casos Abiertos con Juicios', 'Conting_y_Desvios_de_Siniestralidad_ART']\n",
    "    \n",
    "    \n",
    "Dataset_Res41155=Dataset_Res41155[reord]"
   ]
  },
  {
   "cell_type": "code",
   "execution_count": 15,
   "metadata": {},
   "outputs": [],
   "source": [
    "Dataset_Res41155.to_excel(r'C:\\Users\\eangenello\\Desktop\\Dt_Res41155.xlsx', index=False)"
   ]
  },
  {
   "cell_type": "code",
   "execution_count": null,
   "metadata": {},
   "outputs": [],
   "source": []
  },
  {
   "cell_type": "code",
   "execution_count": 15,
   "metadata": {},
   "outputs": [],
   "source": [
    "# Importo los datasets Sentencias de Primera Instancia (RENALI)\n",
    "\n",
    "PRIM_INST=pd.read_excel(r'C:\\Users\\eangenello\\Desktop\\TECNICA\\Python\\input\\ART\\Dataset_Sentencias_Renali\\1-2019 SENTENCIAS.xlsx', sheet_name = 'Sent primera inst')\n",
    "\n",
    "# Importo dataset de compañías para tener el cod_cia y la denominación corta\n",
    "\n",
    "# OJO QUE AÚN NO APARECE MUTUAL PETROLEROS ART, CUANDO APAREZCA HAY QUE AGREGARLA AL DATASET EN \"ASEGURADORA\"\n",
    "\n",
    "Dataset_compañías=pd.read_excel(r'C:\\Users\\eangenello\\Desktop\\TECNICA\\Python\\input\\ART\\Dataset_Compañías.xlsx', sheet_name='Sentencias')\n",
    "\n",
    "PRIM_INST=PRIM_INST.merge(Dataset_compañías, how='inner', on='Aseguradora')\n",
    "\n",
    "PRIM_INST=PRIM_INST.drop('Aseguradora',1)\n",
    "\n",
    "PRIM_INST['Dataset']='Dataset_1ra_instancia'"
   ]
  },
  {
   "cell_type": "code",
   "execution_count": 16,
   "metadata": {},
   "outputs": [
    {
     "name": "stderr",
     "output_type": "stream",
     "text": [
      "C:\\Users\\eangenello\\AppData\\Local\\Continuum\\anaconda3\\lib\\site-packages\\ipykernel_launcher.py:14: SettingWithCopyWarning: \n",
      "A value is trying to be set on a copy of a slice from a DataFrame.\n",
      "Try using .loc[row_indexer,col_indexer] = value instead\n",
      "\n",
      "See the caveats in the documentation: http://pandas.pydata.org/pandas-docs/stable/indexing.html#indexing-view-versus-copy\n",
      "  \n"
     ]
    }
   ],
   "source": [
    "# Creo variable Fecha\n",
    "PRIM_INST['Fecha']=PRIM_INST['F_1ra_sent']\n",
    "\n",
    "# Creo variable Monto\n",
    "PRIM_INST['Monto']=PRIM_INST['MONTO PRIMERA INST']\n",
    "\n",
    "# Creo variable instancia\n",
    "PRIM_INST['Instancia']=PRIM_INST['Tipo sentencia 1° inst.']\n",
    "\n",
    "# Filtro y me quedo son con los registros que necesito\n",
    "PRIM_INST_filt=PRIM_INST[(PRIM_INST['Instancia']=='Hace lugar a la demanda totalmente.')|(PRIM_INST['Instancia']=='Hace lugar a la demanda parcialmente.')]\n",
    "\n",
    "# Reemplazo\n",
    "PRIM_INST_filt['Instancia']=['Demandas conciliadas' if PRIM_INST_filt['Tipo sentencia 1° inst.'][i]=='Homologación.' else 'Sentencia 1° instancia' for i in PRIM_INST_filt.index]"
   ]
  },
  {
   "cell_type": "code",
   "execution_count": 17,
   "metadata": {},
   "outputs": [],
   "source": [
    "reord= [ 'cod_cia',\n",
    " 'denominacion_corta',\n",
    " 'N° EXP_JUDICIAL',\n",
    " 'caratula',\n",
    " 'F_notificacion',\n",
    " 'CUIT EMPLEADOR',\n",
    " 'OBJETO DE RECLAMO',\n",
    " 'CONTINGENCIA RECLAMADA',\n",
    " 'ENF. RECLAMADA',\n",
    " 'MONTO RECLAMADO',\n",
    " 'Tipo sentencia 1° inst.',\n",
    " 'F_1ra_sent',\n",
    " 'MONTO PRIMERA INST',\n",
    " '% PRIMERA INST',\n",
    " 'Tipo sentencia 2° inst.',\n",
    " 'f_2da_sent',\n",
    " 'MONTO SEGUNDA INST',\n",
    " '% SEGUNDA INST',\n",
    " 'Dataset',\n",
    " 'Fecha',\n",
    " 'Monto',\n",
    " 'Instancia']\n",
    "\n",
    "PRIM_INST_filt=PRIM_INST_filt[reord]"
   ]
  },
  {
   "cell_type": "code",
   "execution_count": 19,
   "metadata": {},
   "outputs": [],
   "source": [
    "# Importo los datasets Sentencias de Primera Instancia (RENALI)\n",
    "\n",
    "SEG_INST=pd.read_excel(r'C:\\Users\\eangenello\\Desktop\\TECNICA\\Python\\input\\ART\\Dataset_Sentencias_Renali\\1-2019 SENTENCIAS.xlsx', sheet_name = 'Sent segunda inst')\n"
   ]
  },
  {
   "cell_type": "code",
   "execution_count": 20,
   "metadata": {},
   "outputs": [],
   "source": [
    "SEG_INST=SEG_INST.merge(Dataset_compañías, how='inner', on='Aseguradora')\n",
    "\n",
    "SEG_INST=SEG_INST.drop('Aseguradora',1)\n",
    "\n",
    "SEG_INST['Dataset']='Dataset_2da_instancia'"
   ]
  },
  {
   "cell_type": "code",
   "execution_count": 21,
   "metadata": {},
   "outputs": [
    {
     "name": "stderr",
     "output_type": "stream",
     "text": [
      "C:\\Users\\eangenello\\AppData\\Local\\Continuum\\anaconda3\\lib\\site-packages\\ipykernel_launcher.py:13: SettingWithCopyWarning: \n",
      "A value is trying to be set on a copy of a slice from a DataFrame.\n",
      "Try using .loc[row_indexer,col_indexer] = value instead\n",
      "\n",
      "See the caveats in the documentation: http://pandas.pydata.org/pandas-docs/stable/indexing.html#indexing-view-versus-copy\n",
      "  del sys.path[0]\n"
     ]
    }
   ],
   "source": [
    "# Creo variable Fecha\n",
    "SEG_INST['Fecha']=SEG_INST['f_2da_sent']\n",
    "\n",
    "# Creo variable Monto\n",
    "SEG_INST['Monto']=SEG_INST['MONTO SEGUNDA INST']\n",
    "\n",
    "# Creo variable instancia\n",
    "SEG_INST['Instancia']=SEG_INST['Tipo sentencia 2° inst.']\n",
    "\n",
    "# Filtro y me quedo son con los registros que necesito\n",
    "SEG_INST_filt=SEG_INST[(SEG_INST['Instancia']=='Hace lugar a la demanda totalmente.')|(SEG_INST['Instancia']=='Hace lugar a la demanda parcialmente.')]\n",
    "\n",
    "SEG_INST_filt['Instancia']='Sentencia 2° instancia'"
   ]
  },
  {
   "cell_type": "code",
   "execution_count": 22,
   "metadata": {},
   "outputs": [
    {
     "data": {
      "text/plain": [
       "['N° EXP_JUDICIAL',\n",
       " 'caratula',\n",
       " 'F_notificacion',\n",
       " 'CUIT EMPLEADOR',\n",
       " 'OBJETO DE RECLAMO',\n",
       " 'CONTINGENCIA RECLAMADA',\n",
       " 'ENF. RECLAMADA',\n",
       " 'MONTO RECLAMADO',\n",
       " 'Tipo sentencia 1° inst.',\n",
       " 'F_1ra_sent',\n",
       " 'MONTO PRIMERA INST',\n",
       " '% PRIMERA INST',\n",
       " 'Tipo sentencia 2° inst.',\n",
       " 'f_2da_sent',\n",
       " 'MONTO SEGUNDA INST',\n",
       " '% SEGUNDA INST',\n",
       " 'cod_cia',\n",
       " 'denominacion_corta',\n",
       " 'Dataset',\n",
       " 'Fecha',\n",
       " 'Monto',\n",
       " 'Instancia']"
      ]
     },
     "execution_count": 22,
     "metadata": {},
     "output_type": "execute_result"
    }
   ],
   "source": [
    "# Listo las etiquetas de las columnas\n",
    "\n",
    "cols = list(SEG_INST_filt.columns.values)\n",
    "cols"
   ]
  },
  {
   "cell_type": "code",
   "execution_count": 23,
   "metadata": {},
   "outputs": [],
   "source": [
    "reord= [ 'cod_cia',\n",
    " 'denominacion_corta',\n",
    " 'N° EXP_JUDICIAL',\n",
    " 'caratula',\n",
    " 'F_notificacion',\n",
    " 'CUIT EMPLEADOR',\n",
    " 'OBJETO DE RECLAMO',\n",
    " 'CONTINGENCIA RECLAMADA',\n",
    " 'ENF. RECLAMADA',\n",
    " 'MONTO RECLAMADO',\n",
    " 'Tipo sentencia 1° inst.',\n",
    " 'F_1ra_sent',\n",
    " 'MONTO PRIMERA INST',\n",
    " '% PRIMERA INST',\n",
    " 'Tipo sentencia 2° inst.',\n",
    " 'f_2da_sent',\n",
    " 'MONTO SEGUNDA INST',\n",
    " '% SEGUNDA INST',\n",
    " 'Dataset',\n",
    " 'Fecha',\n",
    " 'Monto',\n",
    " 'Instancia']\n",
    "\n",
    "SEG_INST_filt=SEG_INST_filt[reord]"
   ]
  },
  {
   "cell_type": "code",
   "execution_count": 24,
   "metadata": {},
   "outputs": [],
   "source": [
    "# Junto Primera y Segunda Instancia\n",
    "\n",
    "DT_Demandas_Instancias=PRIM_INST_filt.append(SEG_INST_filt)"
   ]
  },
  {
   "cell_type": "code",
   "execution_count": 25,
   "metadata": {},
   "outputs": [],
   "source": [
    "DT_Demandas_Instancias.to_excel(r'C:\\Users\\eangenello\\Desktop\\Dt_Demandas_Instancias.xlsx', sheet_name='Dt_Demandas_Instancias', index=False)"
   ]
  },
  {
   "cell_type": "code",
   "execution_count": null,
   "metadata": {},
   "outputs": [],
   "source": []
  },
  {
   "cell_type": "code",
   "execution_count": null,
   "metadata": {},
   "outputs": [],
   "source": []
  },
  {
   "cell_type": "code",
   "execution_count": null,
   "metadata": {},
   "outputs": [],
   "source": []
  }
 ],
 "metadata": {
  "kernelspec": {
   "display_name": "Python 3",
   "language": "python",
   "name": "python3"
  },
  "language_info": {
   "codemirror_mode": {
    "name": "ipython",
    "version": 3
   },
   "file_extension": ".py",
   "mimetype": "text/x-python",
   "name": "python",
   "nbconvert_exporter": "python",
   "pygments_lexer": "ipython3",
   "version": "3.7.0"
  }
 },
 "nbformat": 4,
 "nbformat_minor": 2
}
