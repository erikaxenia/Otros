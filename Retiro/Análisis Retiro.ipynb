{
 "cells": [
  {
   "cell_type": "markdown",
   "metadata": {},
   "source": [
    "## ANALISIS RETIRO AL 12/2018"
   ]
  },
  {
   "cell_type": "markdown",
   "metadata": {},
   "source": [
    "Por la forma en la que las compañías presentaron la información y por los puntos que se desea analizar es que no se puede crear un dataset unificado.\n",
    "\n",
    "Se procede a generar lo siguiente:\n",
    "       * Dataset por Póliza: Se obtendrá por cia, poliza y causante la suma de la renta liquidada, renta garantizada y las reservas. Aquí no pueden haber registros duplicados respecto a cia, poliza y causante.\n",
    "       * Dataset por Beneficiario: Se obtendrá por cia la renta liquidada y los datos de los beneficiarios. Aquí necesariamente cia, poliza y causante se repetirán por la cantidad de beneficiarios que tenga cada póliza.\n",
    "       \n",
    "Asimismo, como tampoco las cias expusieron la información de manera homogenea entre ellas, para obtener ambos datasets se tendrán que procesar por grupos."
   ]
  },
  {
   "cell_type": "code",
   "execution_count": 1,
   "metadata": {},
   "outputs": [],
   "source": [
    "import numpy as np\n",
    "import scipy as sp\n",
    "import pandas as pd\n",
    "import matplotlib.pyplot as plt\n",
    "import seaborn as sns\n",
    "import math\n",
    "import time\n",
    "import datetime\n",
    "\n",
    "%matplotlib inline\n",
    "\n",
    "#pd.options.display.max_rows = 10\n",
    "pd.options.display.float_format = '{:,.2f}'.format\n",
    "plt.rcParams['figure.figsize'] = (7, 5)"
   ]
  },
  {
   "cell_type": "markdown",
   "metadata": {},
   "source": [
    "#### GRUPO 1: BINARIA, CREDICOOP, EXPERTA, HSBC, IAPSER, LA SEGUNDA, METLIFE, NACION"
   ]
  },
  {
   "cell_type": "code",
   "execution_count": 2,
   "metadata": {},
   "outputs": [],
   "source": [
    "fullpath = \"C:/Users/eangenello/Desktop/TECNICA/Python/input/RETIRO/Dataset_Retiro.xlsx\"\n",
    "\n",
    "binaria=pd.read_excel(fullpath, sheet_name = \"BINARIA\")\n",
    "credicoop=pd.read_excel(fullpath, sheet_name = \"CREDICOOP\")\n",
    "experta=pd.read_excel(fullpath, sheet_name = \"EXPERTA\")\n",
    "hsbc=pd.read_excel(fullpath, sheet_name = \"HSBC\")\n",
    "iapser=pd.read_excel(fullpath, sheet_name = \"IAPSER\")\n",
    "la_segunda=pd.read_excel(fullpath, sheet_name = \"LA SEGUNDA\")\n",
    "metlife=pd.read_excel(fullpath, sheet_name = \"METLIFE\")\n",
    "nacion=pd.read_excel(fullpath, sheet_name = \"NACION\")"
   ]
  },
  {
   "cell_type": "code",
   "execution_count": 3,
   "metadata": {},
   "outputs": [],
   "source": [
    "data1 = binaria.append(credicoop)\n",
    "data1 = data1.append(experta)\n",
    "data1 = data1.append(hsbc)\n",
    "data1 = data1.append(iapser)\n",
    "data1 = data1.append(la_segunda)\n",
    "data1 = data1.append(metlife)\n",
    "data1 = data1.append(nacion)\n",
    "\n",
    "data1['Cuil Causante'] = data1['Cuil Causante'].astype(object)\n",
    "data1['Cuil Beneficiario'] = data1['Cuil Beneficiario'].astype(object)\n",
    "data1['Nro. Póliza'] = data1['Nro. Póliza'].astype(object)\n",
    "data1['Nro. Beneficio'] = data1['Nro. Beneficio'].astype(object)\n",
    "\n",
    "#Copio los datos para usarlos para los dos distintos datasets\n",
    "data1_poliza=data1.copy()\n",
    "data1_beneficiario=data1.copy()"
   ]
  },
  {
   "cell_type": "markdown",
   "metadata": {},
   "source": [
    "#### GRUPO 2: PROYECCION, GALICIA, ORIGENES, SAN CRISTOBAL, SMG"
   ]
  },
  {
   "cell_type": "code",
   "execution_count": 4,
   "metadata": {},
   "outputs": [],
   "source": [
    "fullpath = \"C:/Users/eangenello/Desktop/TECNICA/Python/input/RETIRO/Dataset_Retiro.xlsx\"\n",
    "\n",
    "proyeccion=pd.read_excel(fullpath, sheet_name = \"PROYECCION\")\n",
    "galicia=pd.read_excel(fullpath, sheet_name = \"GALICIA\")\n",
    "origenes=pd.read_excel(fullpath, sheet_name = \"ORIGENES\")\n",
    "san_cristobal=pd.read_excel(fullpath, sheet_name = \"SAN CRISTOBAL\")\n",
    "smg=pd.read_excel(fullpath, sheet_name = \"SMG\")"
   ]
  },
  {
   "cell_type": "code",
   "execution_count": 5,
   "metadata": {},
   "outputs": [],
   "source": [
    "data2 = proyeccion.append(galicia)\n",
    "data2 = data2.append(origenes)\n",
    "data2 = data2.append(san_cristobal)\n",
    "data2 = data2.append(smg)\n",
    "\n",
    "data2['Cuil Causante'] = data2['Cuil Causante'].astype(object)\n",
    "data2['Cuil Beneficiario'] = data2['Cuil Beneficiario'].astype(object)\n",
    "data2['Nro. Póliza'] = data2['Nro. Póliza'].astype(object)\n",
    "data2['Nro. Beneficio'] = data2['Nro. Beneficio'].astype(object)\n",
    "\n",
    "#Copio los datos para usarlos para los dos distintos datasets\n",
    "data2_poliza=data2.copy()\n",
    "data2_beneficiario=data2.copy()"
   ]
  },
  {
   "cell_type": "markdown",
   "metadata": {},
   "source": [
    "### Dataset por póliza"
   ]
  },
  {
   "cell_type": "markdown",
   "metadata": {},
   "source": [
    "#### GRUPO 1"
   ]
  },
  {
   "cell_type": "code",
   "execution_count": 6,
   "metadata": {},
   "outputs": [],
   "source": [
    "#Sumo las rentas liquidadas y garantizadas\n",
    "data1_poliza_agrup=data1_poliza.groupby(['Entidad','Nro. Póliza','Cuil Causante'], as_index=False)['Renta Liq.','Renta Gar.'].sum() \n",
    "\n",
    "data1_poliza_agrup['Cuil Causante'] = data1_poliza_agrup['Cuil Causante'].astype(object)\n",
    "data1_poliza_agrup['Nro. Póliza'] = data1_poliza_agrup['Nro. Póliza'].astype(object)"
   ]
  },
  {
   "cell_type": "code",
   "execution_count": 7,
   "metadata": {},
   "outputs": [],
   "source": [
    "# Del dataset original le elimino las columnas que agrupé previamente\n",
    "\n",
    "data1_poliza_solo= data1_poliza.drop(['Renta Liq.', 'Renta Gar.'],1)"
   ]
  },
  {
   "cell_type": "code",
   "execution_count": 8,
   "metadata": {},
   "outputs": [],
   "source": [
    "# Elimino los registris duplicados respecto a entidad, poliza y causante\n",
    "\n",
    "data1_poliza_solo = data1_poliza_solo.drop_duplicates(['Entidad','Nro. Póliza','Cuil Causante'], keep='first')"
   ]
  },
  {
   "cell_type": "code",
   "execution_count": 9,
   "metadata": {},
   "outputs": [],
   "source": [
    "# Agrupo ambas tablas\n",
    "\n",
    "data1_poliza = data1_poliza_agrup.merge(data1_poliza_solo, how='left', on=['Entidad','Nro. Póliza','Cuil Causante']) "
   ]
  },
  {
   "cell_type": "code",
   "execution_count": 10,
   "metadata": {},
   "outputs": [],
   "source": [
    "# Reordeno\n",
    "\n",
    "data1_poliza = data1_poliza[['Entidad', 'Nro. Póliza', 'Cuil Causante','Inicio de Vigencia', 'Tipo de Renta', \n",
    "                             'Prestacion', 'Renta Liq.', 'Renta Gar.', 'Reserva',  'Ajuste']]"
   ]
  },
  {
   "cell_type": "markdown",
   "metadata": {},
   "source": [
    "#### GRUPO 2"
   ]
  },
  {
   "cell_type": "code",
   "execution_count": 11,
   "metadata": {},
   "outputs": [],
   "source": [
    "#Sumo sólo las rentas liquidadas\n",
    "data2_poliza_agrup=data2_poliza.groupby(['Entidad','Nro. Póliza','Cuil Causante'], as_index=False)['Renta Liq.'].sum() \n",
    "\n",
    "data2_poliza_agrup['Cuil Causante'] = data2_poliza_agrup['Cuil Causante'].astype(object)\n",
    "data2_poliza_agrup['Nro. Póliza'] = data2_poliza_agrup['Nro. Póliza'].astype(object)"
   ]
  },
  {
   "cell_type": "code",
   "execution_count": 12,
   "metadata": {},
   "outputs": [],
   "source": [
    "# Del dataset original le elimino la columna que agrupé previamente\n",
    "\n",
    "data2_poliza_solo= data2_poliza.drop(['Renta Liq.'],1)"
   ]
  },
  {
   "cell_type": "code",
   "execution_count": 13,
   "metadata": {},
   "outputs": [],
   "source": [
    "# Elimino los registris duplicados respecto a entidad, poliza y causante\n",
    "\n",
    "data2_poliza_solo = data2_poliza_solo.drop_duplicates(['Entidad','Nro. Póliza','Cuil Causante'], keep='first')"
   ]
  },
  {
   "cell_type": "code",
   "execution_count": 14,
   "metadata": {},
   "outputs": [],
   "source": [
    "# Agrupo ambas tablas\n",
    "\n",
    "data2_poliza = data2_poliza_agrup.merge(data2_poliza_solo, how='left', on=['Entidad','Nro. Póliza','Cuil Causante']) "
   ]
  },
  {
   "cell_type": "code",
   "execution_count": 15,
   "metadata": {},
   "outputs": [],
   "source": [
    "# Reordeno\n",
    "\n",
    "data2_poliza = data2_poliza[['Entidad', 'Nro. Póliza', 'Cuil Causante','Inicio de Vigencia', 'Tipo de Renta', \n",
    "                             'Prestacion', 'Renta Liq.', 'Renta Gar.', 'Reserva',  'Ajuste']]"
   ]
  },
  {
   "cell_type": "code",
   "execution_count": 16,
   "metadata": {},
   "outputs": [
    {
     "data": {
      "text/html": [
       "<div>\n",
       "<style scoped>\n",
       "    .dataframe tbody tr th:only-of-type {\n",
       "        vertical-align: middle;\n",
       "    }\n",
       "\n",
       "    .dataframe tbody tr th {\n",
       "        vertical-align: top;\n",
       "    }\n",
       "\n",
       "    .dataframe thead th {\n",
       "        text-align: right;\n",
       "    }\n",
       "</style>\n",
       "<table border=\"1\" class=\"dataframe\">\n",
       "  <thead>\n",
       "    <tr style=\"text-align: right;\">\n",
       "      <th></th>\n",
       "      <th>Entidad</th>\n",
       "      <th>Nro. Póliza</th>\n",
       "      <th>Cuil Causante</th>\n",
       "      <th>Inicio de Vigencia</th>\n",
       "      <th>Tipo de Renta</th>\n",
       "      <th>Prestacion</th>\n",
       "      <th>Renta Liq.</th>\n",
       "      <th>Renta Gar.</th>\n",
       "      <th>Reserva</th>\n",
       "      <th>Ajuste</th>\n",
       "    </tr>\n",
       "  </thead>\n",
       "  <tbody>\n",
       "    <tr>\n",
       "      <th>0</th>\n",
       "      <td>BINARIA</td>\n",
       "      <td>1</td>\n",
       "      <td>20,045,231,373.00</td>\n",
       "      <td>1995-12-01 00:00:00</td>\n",
       "      <td>RVP</td>\n",
       "      <td>PF</td>\n",
       "      <td>2,640.83</td>\n",
       "      <td>2,640.83</td>\n",
       "      <td>313,504.45</td>\n",
       "      <td>TT</td>\n",
       "    </tr>\n",
       "    <tr>\n",
       "      <th>1</th>\n",
       "      <td>BINARIA</td>\n",
       "      <td>2</td>\n",
       "      <td>23,087,065,049.00</td>\n",
       "      <td>1995-12-01 00:00:00</td>\n",
       "      <td>RVP</td>\n",
       "      <td>PF</td>\n",
       "      <td>2,000.87</td>\n",
       "      <td>2,000.87</td>\n",
       "      <td>279,513.71</td>\n",
       "      <td>TT</td>\n",
       "    </tr>\n",
       "    <tr>\n",
       "      <th>2</th>\n",
       "      <td>BINARIA</td>\n",
       "      <td>3</td>\n",
       "      <td>20,068,998,280.00</td>\n",
       "      <td>1995-12-01 00:00:00</td>\n",
       "      <td>RVP</td>\n",
       "      <td>PF</td>\n",
       "      <td>1,755.19</td>\n",
       "      <td>1,755.19</td>\n",
       "      <td>191,574.66</td>\n",
       "      <td>TT</td>\n",
       "    </tr>\n",
       "    <tr>\n",
       "      <th>3</th>\n",
       "      <td>BINARIA</td>\n",
       "      <td>4</td>\n",
       "      <td>20,119,977,526.00</td>\n",
       "      <td>1995-12-01 00:00:00</td>\n",
       "      <td>RVP</td>\n",
       "      <td>PF</td>\n",
       "      <td>1,421.85</td>\n",
       "      <td>1,421.85</td>\n",
       "      <td>311,100.87</td>\n",
       "      <td>TT</td>\n",
       "    </tr>\n",
       "    <tr>\n",
       "      <th>4</th>\n",
       "      <td>BINARIA</td>\n",
       "      <td>5</td>\n",
       "      <td>20,049,739,789.00</td>\n",
       "      <td>1995-12-01 00:00:00</td>\n",
       "      <td>RVP</td>\n",
       "      <td>PF</td>\n",
       "      <td>1,451.13</td>\n",
       "      <td>1,451.13</td>\n",
       "      <td>201,046.98</td>\n",
       "      <td>TT</td>\n",
       "    </tr>\n",
       "  </tbody>\n",
       "</table>\n",
       "</div>"
      ],
      "text/plain": [
       "   Entidad Nro. Póliza     Cuil Causante   Inicio de Vigencia Tipo de Renta  \\\n",
       "0  BINARIA           1 20,045,231,373.00  1995-12-01 00:00:00           RVP   \n",
       "1  BINARIA           2 23,087,065,049.00  1995-12-01 00:00:00           RVP   \n",
       "2  BINARIA           3 20,068,998,280.00  1995-12-01 00:00:00           RVP   \n",
       "3  BINARIA           4 20,119,977,526.00  1995-12-01 00:00:00           RVP   \n",
       "4  BINARIA           5 20,049,739,789.00  1995-12-01 00:00:00           RVP   \n",
       "\n",
       "  Prestacion  Renta Liq.  Renta Gar.    Reserva Ajuste  \n",
       "0         PF    2,640.83    2,640.83 313,504.45     TT  \n",
       "1         PF    2,000.87    2,000.87 279,513.71     TT  \n",
       "2         PF    1,755.19    1,755.19 191,574.66     TT  \n",
       "3         PF    1,421.85    1,421.85 311,100.87     TT  \n",
       "4         PF    1,451.13    1,451.13 201,046.98     TT  "
      ]
     },
     "execution_count": 16,
     "metadata": {},
     "output_type": "execute_result"
    }
   ],
   "source": [
    "data_poliza = data1_poliza.append(data2_poliza)\n",
    "data_poliza.head()"
   ]
  },
  {
   "cell_type": "code",
   "execution_count": 17,
   "metadata": {},
   "outputs": [],
   "source": [
    "data_poliza.to_excel(r'C:\\Users\\eangenello\\Desktop\\TECNICA\\Python\\output\\data_poliza.xlsx', sheet_name='data_poliza', index=False)"
   ]
  },
  {
   "cell_type": "markdown",
   "metadata": {},
   "source": [
    "### Dataset por beneficiario"
   ]
  },
  {
   "cell_type": "code",
   "execution_count": 18,
   "metadata": {},
   "outputs": [
    {
     "data": {
      "text/plain": [
       "Index(['Cuil Causante', 'Apellido', 'Nombres', 'Nro. Póliza',\n",
       "       'Inicio de Vigencia', 'Tipo de Renta', 'Prestacion', 'Renta Liq.',\n",
       "       'Renta Gar.', 'Reserva', 'Ajuste', 'Anses', 'Nro. Beneficio',\n",
       "       'Nro. Beneficiarios', 'Cuil Beneficiario', 'Tipo Beneficiario',\n",
       "       '% Beneficio', 'Sexo', 'Fecha de Nac.', 'Entidad'],\n",
       "      dtype='object')"
      ]
     },
     "execution_count": 18,
     "metadata": {},
     "output_type": "execute_result"
    }
   ],
   "source": [
    "data_beneficiario=data1_beneficiario.append(data2_beneficiario)\n",
    "data_beneficiario.columns"
   ]
  },
  {
   "cell_type": "code",
   "execution_count": 19,
   "metadata": {},
   "outputs": [],
   "source": [
    "data_beneficiario=data_beneficiario[['Entidad', 'Nro. Póliza','Cuil Causante', 'Apellido', 'Nombres', 'Inicio de Vigencia',  \n",
    "                                    'Tipo de Renta', 'Prestacion', 'Renta Liq.',  'Ajuste', 'Anses', 'Nro. Beneficio', \n",
    "                                    'Cuil Beneficiario', 'Tipo Beneficiario', '% Beneficio', 'Sexo', 'Fecha de Nac.']]"
   ]
  },
  {
   "cell_type": "code",
   "execution_count": 20,
   "metadata": {},
   "outputs": [
    {
     "data": {
      "text/html": [
       "<div>\n",
       "<style scoped>\n",
       "    .dataframe tbody tr th:only-of-type {\n",
       "        vertical-align: middle;\n",
       "    }\n",
       "\n",
       "    .dataframe tbody tr th {\n",
       "        vertical-align: top;\n",
       "    }\n",
       "\n",
       "    .dataframe thead th {\n",
       "        text-align: right;\n",
       "    }\n",
       "</style>\n",
       "<table border=\"1\" class=\"dataframe\">\n",
       "  <thead>\n",
       "    <tr style=\"text-align: right;\">\n",
       "      <th></th>\n",
       "      <th>Entidad</th>\n",
       "      <th>Nro. Póliza</th>\n",
       "      <th>Cuil Causante</th>\n",
       "      <th>Apellido</th>\n",
       "      <th>Nombres</th>\n",
       "      <th>Inicio de Vigencia</th>\n",
       "      <th>Tipo de Renta</th>\n",
       "      <th>Prestacion</th>\n",
       "      <th>Renta Liq.</th>\n",
       "      <th>Ajuste</th>\n",
       "      <th>Anses</th>\n",
       "      <th>Nro. Beneficio</th>\n",
       "      <th>Cuil Beneficiario</th>\n",
       "      <th>Tipo Beneficiario</th>\n",
       "      <th>% Beneficio</th>\n",
       "      <th>Sexo</th>\n",
       "      <th>Fecha de Nac.</th>\n",
       "    </tr>\n",
       "  </thead>\n",
       "  <tbody>\n",
       "    <tr>\n",
       "      <th>0</th>\n",
       "      <td>BINARIA</td>\n",
       "      <td>1</td>\n",
       "      <td>20,045,231,373.00</td>\n",
       "      <td>GIMENEZ ARROYO</td>\n",
       "      <td>HORACIO FELIPE</td>\n",
       "      <td>1995-12-01 00:00:00</td>\n",
       "      <td>RVP</td>\n",
       "      <td>PF</td>\n",
       "      <td>2,640.83</td>\n",
       "      <td>TT</td>\n",
       "      <td>SI</td>\n",
       "      <td>15,580,135,340.00</td>\n",
       "      <td>27,049,831,388.00</td>\n",
       "      <td>C</td>\n",
       "      <td>0.70</td>\n",
       "      <td>F</td>\n",
       "      <td>1944-10-08 00:00:00</td>\n",
       "    </tr>\n",
       "    <tr>\n",
       "      <th>1</th>\n",
       "      <td>BINARIA</td>\n",
       "      <td>2</td>\n",
       "      <td>23,087,065,049.00</td>\n",
       "      <td>PEREZ</td>\n",
       "      <td>MILCIADES AMERICO</td>\n",
       "      <td>1995-12-01 00:00:00</td>\n",
       "      <td>RVP</td>\n",
       "      <td>PF</td>\n",
       "      <td>2,000.87</td>\n",
       "      <td>TT</td>\n",
       "      <td>NO</td>\n",
       "      <td>NaN</td>\n",
       "      <td>27,057,941,478.00</td>\n",
       "      <td>C</td>\n",
       "      <td>0.70</td>\n",
       "      <td>F</td>\n",
       "      <td>1948-10-29 00:00:00</td>\n",
       "    </tr>\n",
       "    <tr>\n",
       "      <th>2</th>\n",
       "      <td>BINARIA</td>\n",
       "      <td>3</td>\n",
       "      <td>20,068,998,280.00</td>\n",
       "      <td>LEMOS</td>\n",
       "      <td>ADOLFO CESAR</td>\n",
       "      <td>1995-12-01 00:00:00</td>\n",
       "      <td>RVP</td>\n",
       "      <td>PF</td>\n",
       "      <td>1,755.19</td>\n",
       "      <td>TT</td>\n",
       "      <td>NO</td>\n",
       "      <td>NaN</td>\n",
       "      <td>27,045,629,495.00</td>\n",
       "      <td>C</td>\n",
       "      <td>0.70</td>\n",
       "      <td>F</td>\n",
       "      <td>1942-12-21 00:00:00</td>\n",
       "    </tr>\n",
       "    <tr>\n",
       "      <th>3</th>\n",
       "      <td>BINARIA</td>\n",
       "      <td>4</td>\n",
       "      <td>20,119,977,526.00</td>\n",
       "      <td>CALLEJAS</td>\n",
       "      <td>RICARDO ALFREDO</td>\n",
       "      <td>1995-12-01 00:00:00</td>\n",
       "      <td>RVP</td>\n",
       "      <td>PF</td>\n",
       "      <td>1,421.85</td>\n",
       "      <td>TT</td>\n",
       "      <td>SI</td>\n",
       "      <td>15,580,161,180.00</td>\n",
       "      <td>27,170,686,980.00</td>\n",
       "      <td>C</td>\n",
       "      <td>0.70</td>\n",
       "      <td>F</td>\n",
       "      <td>1965-11-16 00:00:00</td>\n",
       "    </tr>\n",
       "    <tr>\n",
       "      <th>4</th>\n",
       "      <td>BINARIA</td>\n",
       "      <td>5</td>\n",
       "      <td>20,049,739,789.00</td>\n",
       "      <td>BERSI</td>\n",
       "      <td>ATILIO EDUARDO</td>\n",
       "      <td>1995-12-01 00:00:00</td>\n",
       "      <td>RVP</td>\n",
       "      <td>PF</td>\n",
       "      <td>1,451.13</td>\n",
       "      <td>TT</td>\n",
       "      <td>NO</td>\n",
       "      <td>NaN</td>\n",
       "      <td>27,057,643,493.00</td>\n",
       "      <td>C</td>\n",
       "      <td>0.70</td>\n",
       "      <td>F</td>\n",
       "      <td>1948-08-15 00:00:00</td>\n",
       "    </tr>\n",
       "  </tbody>\n",
       "</table>\n",
       "</div>"
      ],
      "text/plain": [
       "   Entidad Nro. Póliza     Cuil Causante                   Apellido  \\\n",
       "0  BINARIA           1 20,045,231,373.00             GIMENEZ ARROYO   \n",
       "1  BINARIA           2 23,087,065,049.00  PEREZ                       \n",
       "2  BINARIA           3 20,068,998,280.00  LEMOS                       \n",
       "3  BINARIA           4 20,119,977,526.00  CALLEJAS                    \n",
       "4  BINARIA           5 20,049,739,789.00  BERSI                       \n",
       "\n",
       "                     Nombres   Inicio de Vigencia Tipo de Renta Prestacion  \\\n",
       "0  HORACIO FELIPE             1995-12-01 00:00:00           RVP         PF   \n",
       "1  MILCIADES AMERICO          1995-12-01 00:00:00           RVP         PF   \n",
       "2  ADOLFO CESAR               1995-12-01 00:00:00           RVP         PF   \n",
       "3  RICARDO ALFREDO            1995-12-01 00:00:00           RVP         PF   \n",
       "4  ATILIO EDUARDO             1995-12-01 00:00:00           RVP         PF   \n",
       "\n",
       "   Renta Liq. Ajuste Anses    Nro. Beneficio Cuil Beneficiario  \\\n",
       "0    2,640.83     TT    SI 15,580,135,340.00 27,049,831,388.00   \n",
       "1    2,000.87     TT    NO               NaN 27,057,941,478.00   \n",
       "2    1,755.19     TT    NO               NaN 27,045,629,495.00   \n",
       "3    1,421.85     TT    SI 15,580,161,180.00 27,170,686,980.00   \n",
       "4    1,451.13     TT    NO               NaN 27,057,643,493.00   \n",
       "\n",
       "  Tipo Beneficiario  % Beneficio Sexo        Fecha de Nac.  \n",
       "0                 C         0.70    F  1944-10-08 00:00:00  \n",
       "1                 C         0.70    F  1948-10-29 00:00:00  \n",
       "2                 C         0.70    F  1942-12-21 00:00:00  \n",
       "3                 C         0.70    F  1965-11-16 00:00:00  \n",
       "4                 C         0.70    F  1948-08-15 00:00:00  "
      ]
     },
     "execution_count": 20,
     "metadata": {},
     "output_type": "execute_result"
    }
   ],
   "source": [
    "data_beneficiario.head()"
   ]
  },
  {
   "cell_type": "code",
   "execution_count": 21,
   "metadata": {},
   "outputs": [],
   "source": [
    "data_beneficiario.to_excel(r'C:\\Users\\eangenello\\Desktop\\TECNICA\\Python\\output\\data_beneficiario.xlsx', sheet_name='data_beneficiario', index=False)"
   ]
  },
  {
   "cell_type": "code",
   "execution_count": null,
   "metadata": {},
   "outputs": [],
   "source": []
  }
 ],
 "metadata": {
  "kernelspec": {
   "display_name": "Python 3",
   "language": "python",
   "name": "python3"
  },
  "language_info": {
   "codemirror_mode": {
    "name": "ipython",
    "version": 3
   },
   "file_extension": ".py",
   "mimetype": "text/x-python",
   "name": "python",
   "nbconvert_exporter": "python",
   "pygments_lexer": "ipython3",
   "version": "3.8.3"
  }
 },
 "nbformat": 4,
 "nbformat_minor": 2
}
