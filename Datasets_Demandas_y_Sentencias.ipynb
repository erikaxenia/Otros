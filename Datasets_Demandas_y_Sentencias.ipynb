{
 "cells": [
  {
   "cell_type": "code",
   "execution_count": 1,
   "metadata": {},
   "outputs": [],
   "source": [
    "import numpy as np\n",
    "import scipy as sp\n",
    "import pandas as pd\n",
    "import matplotlib.pyplot as plt\n",
    "import seaborn as sns\n",
    "\n",
    "%matplotlib inline"
   ]
  },
  {
   "cell_type": "markdown",
   "metadata": {},
   "source": [
    "## Demandas iniciadas por provincia"
   ]
  },
  {
   "cell_type": "code",
   "execution_count": 2,
   "metadata": {
    "scrolled": true
   },
   "outputs": [],
   "source": [
    "# Importo Demandas iniciadas por provincia\n",
    "Dem_prv=pd.read_excel(r'C:\\Users\\eangenello\\Desktop\\TECNICA\\Python\\input\\ART\\Demandas iniciadas por provincia.xlsx', sheet_name = 'Demandas iniciadas ', usecols='A:AK')\n",
    "\n",
    "# Transpongo la información\n",
    "Dem_prv=pd.melt(Dem_prv, id_vars=['Jurisdicción'], var_name='Periodo', value_name=\"Demandas_iniciadas\")\n",
    "\n",
    "#Cambio el tipo de dato\n",
    "Dem_prv['Demandas_iniciadas'] = pd.to_numeric(Dem_prv['Demandas_iniciadas'])\n",
    "\n",
    "#Filtro periodos\n",
    "Dem_prv=Dem_prv[Dem_prv['Periodo']<'2019-05-01']\n",
    "\n",
    "# Redondeo el dato\n",
    "Dem_prv['Demandas_iniciadas']=round(Dem_prv['Demandas_iniciadas'])"
   ]
  },
  {
   "cell_type": "code",
   "execution_count": 3,
   "metadata": {},
   "outputs": [],
   "source": [
    "# EXPORTO DEMANDAS POR PROVINCIA\n",
    "\n",
    "Dem_prv.to_excel(r'C:\\Users\\eangenello\\Desktop\\TECNICA\\Python\\output\\Dt_Demandas_Iniciadas_UART.xlsx', sheet_name='Dt_Demandas_iniciadas', index = False)"
   ]
  },
  {
   "cell_type": "markdown",
   "metadata": {},
   "source": [
    "## Demandas Iniciadas Anuales"
   ]
  },
  {
   "cell_type": "code",
   "execution_count": 4,
   "metadata": {},
   "outputs": [],
   "source": [
    "# Anualizo el dato (2017- Actualidad)\n",
    "\n",
    "# Creo la variable año\n",
    "Dem_prv['Año'] = pd.DatetimeIndex(Dem_prv['Periodo']).year\n",
    "\n",
    "# Agrupo por Año\n",
    "Dem_prv_agrup=Dem_prv.groupby(['Año'], as_index=False)[\"Demandas_iniciadas\"].sum()\n",
    "\n",
    "# Importo Información anual (2010-2016)\n",
    "Dem_prv1=pd.read_excel(r'C:\\Users\\eangenello\\Desktop\\TECNICA\\Python\\input\\ART\\Demandas iniciadas anual.xlsx')\n",
    "\n",
    "# Junto ambas tablas\n",
    "Dem_prv_anual=Dem_prv1.append(Dem_prv_agrup)"
   ]
  },
  {
   "cell_type": "code",
   "execution_count": 5,
   "metadata": {},
   "outputs": [],
   "source": [
    "# EXPORTO STOCK ANUAL DEMANDAS\n",
    "\n",
    "Dem_prv_anual.to_excel(r'C:\\Users\\eangenello\\Desktop\\TECNICA\\Python\\output\\Dt_Demandas_Iniciadas_anual.xlsx', sheet_name='Dt_Demandas_anual', index = False)\n"
   ]
  },
  {
   "cell_type": "markdown",
   "metadata": {},
   "source": [
    "## Juicios Cerrados (RENALI)"
   ]
  },
  {
   "cell_type": "code",
   "execution_count": 6,
   "metadata": {},
   "outputs": [],
   "source": [
    "# Importo los datasets Sentencias de Primera Instancia (RENALI)\n",
    "\n",
    "Prim_inst_4T2017=pd.read_excel(r'C:\\Users\\eangenello\\Desktop\\TECNICA\\Python\\input\\ART\\Dataset_Sentencias_Renali\\4-2017 SENTENCIAS.xlsx', sheet_name = 'Sent primera inst')\n",
    "Prim_inst_1T2018=pd.read_excel(r'C:\\Users\\eangenello\\Desktop\\TECNICA\\Python\\input\\ART\\Dataset_Sentencias_Renali\\1-2018 SENTENCIAS.xlsx', sheet_name = 'Sent primera inst')\n",
    "Prim_inst_2T2018=pd.read_excel(r'C:\\Users\\eangenello\\Desktop\\TECNICA\\Python\\input\\ART\\Dataset_Sentencias_Renali\\2-2018 SENTENCIAS.xlsx', sheet_name = 'Sent primera inst')\n",
    "Prim_inst_3T2018=pd.read_excel(r'C:\\Users\\eangenello\\Desktop\\TECNICA\\Python\\input\\ART\\Dataset_Sentencias_Renali\\3-2018 SENTENCIAS.xlsx', sheet_name = 'Sent primera inst')\n",
    "Prim_inst_4T2018=pd.read_excel(r'C:\\Users\\eangenello\\Desktop\\TECNICA\\Python\\input\\ART\\Dataset_Sentencias_Renali\\4-2018 SENTENCIAS.xlsx', sheet_name = 'Sent primera inst')\n",
    "Prim_inst_1T2019=pd.read_excel(r'C:\\Users\\eangenello\\Desktop\\TECNICA\\Python\\input\\ART\\Dataset_Sentencias_Renali\\1-2019 SENTENCIAS.xlsx', sheet_name = 'Sent primera inst')"
   ]
  },
  {
   "cell_type": "code",
   "execution_count": 7,
   "metadata": {},
   "outputs": [],
   "source": [
    "# Junto los datasets\n",
    "\n",
    "PRIM_INST=Prim_inst_4T2017.append(Prim_inst_1T2018)\n",
    "PRIM_INST=PRIM_INST.append(Prim_inst_2T2018)\n",
    "PRIM_INST=PRIM_INST.append(Prim_inst_3T2018)\n",
    "PRIM_INST=PRIM_INST.append(Prim_inst_4T2018)\n",
    "PRIM_INST=PRIM_INST.append(Prim_inst_1T2019)\n"
   ]
  },
  {
   "cell_type": "code",
   "execution_count": 8,
   "metadata": {},
   "outputs": [],
   "source": [
    "# Importo dataset de compañías para tener el cod_cia y la denominación corta\n",
    "\n",
    "# OJO QUE AÚN NO APARECE MUTUAL PETROLEROS ART, CUANDO APAREZCA HAY QUE AGREGARLA AL DATASET EN \"ASEGURADORA\"\n",
    "\n",
    "Dataset_compañías=pd.read_excel(r'C:\\Users\\eangenello\\Desktop\\TECNICA\\Python\\input\\ART\\Dataset_Compañías.xlsx', sheet_name='Sentencias')\n",
    "\n",
    "PRIM_INST=PRIM_INST.merge(Dataset_compañías, how='inner', on='Aseguradora')\n",
    "\n",
    "PRIM_INST=PRIM_INST.drop('Aseguradora',1)\n",
    "\n",
    "PRIM_INST['Dataset']='Dataset_1ra_instancia'"
   ]
  },
  {
   "cell_type": "code",
   "execution_count": 9,
   "metadata": {
    "scrolled": true
   },
   "outputs": [
    {
     "name": "stderr",
     "output_type": "stream",
     "text": [
      "C:\\Users\\eangenello\\AppData\\Local\\Continuum\\anaconda3\\lib\\site-packages\\ipykernel_launcher.py:14: SettingWithCopyWarning: \n",
      "A value is trying to be set on a copy of a slice from a DataFrame.\n",
      "Try using .loc[row_indexer,col_indexer] = value instead\n",
      "\n",
      "See the caveats in the documentation: http://pandas.pydata.org/pandas-docs/stable/indexing.html#indexing-view-versus-copy\n",
      "  \n"
     ]
    }
   ],
   "source": [
    "# Creo variable Fecha\n",
    "PRIM_INST['Fecha']=PRIM_INST['F_1ra_sent']\n",
    "\n",
    "# Creo variable Monto\n",
    "PRIM_INST['Monto']=PRIM_INST['MONTO PRIMERA INST']\n",
    "\n",
    "# Creo variable instancia\n",
    "PRIM_INST['Instancia']=PRIM_INST['Tipo sentencia 1° inst.']\n",
    "\n",
    "# Filtro y me quedo son con los registros que necesito\n",
    "PRIM_INST_filt=PRIM_INST[(PRIM_INST['Instancia']=='Homologación.')|(PRIM_INST['Instancia']=='Hace lugar a la demanda totalmente.')|(PRIM_INST['Instancia']=='Hace lugar a la demanda parcialmente.')]\n",
    "\n",
    "# Reemplazo\n",
    "PRIM_INST_filt['Instancia']=['Demandas conciliadas' if PRIM_INST_filt['Tipo sentencia 1° inst.'][i]=='Homologación.' else 'Sentencia 1° instancia' for i in PRIM_INST_filt.index]"
   ]
  },
  {
   "cell_type": "code",
   "execution_count": 10,
   "metadata": {},
   "outputs": [
    {
     "data": {
      "text/plain": [
       "['N° EXP_JUDICIAL',\n",
       " 'caratula',\n",
       " 'F_notificacion',\n",
       " 'CUIT EMPLEADOR',\n",
       " 'OBJETO DE RECLAMO',\n",
       " 'CONTINGENCIA RECLAMADA',\n",
       " 'ENF. RECLAMADA',\n",
       " 'MONTO RECLAMADO',\n",
       " 'Tipo sentencia 1° inst.',\n",
       " 'F_1ra_sent',\n",
       " 'MONTO PRIMERA INST',\n",
       " '% PRIMERA INST',\n",
       " 'Tipo sentencia 2° inst.',\n",
       " 'f_2da_sent',\n",
       " 'MONTO SEGUNDA INST',\n",
       " '% SEGUNDA INST',\n",
       " 'cod_cia',\n",
       " 'denominacion_corta',\n",
       " 'Dataset',\n",
       " 'Fecha',\n",
       " 'Monto',\n",
       " 'Instancia']"
      ]
     },
     "execution_count": 10,
     "metadata": {},
     "output_type": "execute_result"
    }
   ],
   "source": [
    "# Listo las etiquetas de las columnas\n",
    "\n",
    "cols = list(PRIM_INST_filt.columns.values)\n",
    "cols"
   ]
  },
  {
   "cell_type": "code",
   "execution_count": 11,
   "metadata": {},
   "outputs": [],
   "source": [
    "# Reordeno las columnas\n",
    "\n",
    "reord= [ 'cod_cia',\n",
    " 'denominacion_corta',\n",
    " 'N° EXP_JUDICIAL',\n",
    " 'caratula',\n",
    " 'F_notificacion',\n",
    " 'CUIT EMPLEADOR',\n",
    " 'OBJETO DE RECLAMO',\n",
    " 'CONTINGENCIA RECLAMADA',\n",
    " 'ENF. RECLAMADA',\n",
    " 'MONTO RECLAMADO',\n",
    " 'Dataset',\n",
    " 'Fecha',\n",
    " 'Monto',\n",
    " 'Instancia']\n",
    "\n",
    "PRIM_INST_filt=PRIM_INST_filt[reord]"
   ]
  },
  {
   "cell_type": "code",
   "execution_count": 12,
   "metadata": {},
   "outputs": [],
   "source": [
    "#EXPORTO SENTENCIAS DE PRIMER INSTANCIA\n",
    "\n",
    "# PRIM_INST.to_excel(r'C:\\Users\\eangenello\\Desktop\\TÉCNICA\\TABLERO ART\\Datasets\\Dt_Sentencias_Primera_Instancia.xlsx', sheet_name='Dt_Sent_Primera_Inst', index=False)"
   ]
  },
  {
   "cell_type": "code",
   "execution_count": 13,
   "metadata": {},
   "outputs": [],
   "source": [
    "# Importo los datasets Sentencias de Primera Instancia (RENALI)\n",
    "\n",
    "Seg_inst_4T2017=pd.read_excel(r'C:\\Users\\eangenello\\Desktop\\TECNICA\\Python\\input\\ART\\Dataset_Sentencias_Renali\\4-2017 SENTENCIAS.xlsx', sheet_name = 'Sent segunda inst')\n",
    "Seg_inst_1T2018=pd.read_excel(r'C:\\Users\\eangenello\\Desktop\\TECNICA\\Python\\input\\ART\\Dataset_Sentencias_Renali\\1-2018 SENTENCIAS.xlsx', sheet_name = 'Sent segunda inst')\n",
    "Seg_inst_2T2018=pd.read_excel(r'C:\\Users\\eangenello\\Desktop\\TECNICA\\Python\\input\\ART\\Dataset_Sentencias_Renali\\2-2018 SENTENCIAS.xlsx', sheet_name = 'Sent segunda inst')\n",
    "Seg_inst_3T2018=pd.read_excel(r'C:\\Users\\eangenello\\Desktop\\TECNICA\\Python\\input\\ART\\Dataset_Sentencias_Renali\\3-2018 SENTENCIAS.xlsx', sheet_name = 'Sent segunda inst')\n",
    "Seg_inst_4T2018=pd.read_excel(r'C:\\Users\\eangenello\\Desktop\\TECNICA\\Python\\input\\ART\\Dataset_Sentencias_Renali\\4-2018 SENTENCIAS.xlsx', sheet_name = 'Sent segunda inst')\n",
    "Seg_inst_1T2019=pd.read_excel(r'C:\\Users\\eangenello\\Desktop\\TECNICA\\Python\\input\\ART\\Dataset_Sentencias_Renali\\1-2019 SENTENCIAS.xlsx', sheet_name = 'Sent segunda inst')"
   ]
  },
  {
   "cell_type": "code",
   "execution_count": 14,
   "metadata": {},
   "outputs": [],
   "source": [
    "# Junto los datasets\n",
    "\n",
    "SEG_INST=Seg_inst_4T2017.append(Seg_inst_1T2018)\n",
    "SEG_INST=SEG_INST.append(Seg_inst_2T2018)\n",
    "SEG_INST=SEG_INST.append(Seg_inst_3T2018)\n",
    "SEG_INST=SEG_INST.append(Seg_inst_4T2018)\n",
    "SEG_INST=SEG_INST.append(Seg_inst_1T2019)"
   ]
  },
  {
   "cell_type": "code",
   "execution_count": 15,
   "metadata": {},
   "outputs": [],
   "source": [
    "SEG_INST=SEG_INST.merge(Dataset_compañías, how='inner', on='Aseguradora')\n",
    "\n",
    "SEG_INST=SEG_INST.drop('Aseguradora',1)\n",
    "\n",
    "SEG_INST['Dataset']='Dataset_2da_instancia'"
   ]
  },
  {
   "cell_type": "code",
   "execution_count": 16,
   "metadata": {},
   "outputs": [
    {
     "name": "stderr",
     "output_type": "stream",
     "text": [
      "C:\\Users\\eangenello\\AppData\\Local\\Continuum\\anaconda3\\lib\\site-packages\\ipykernel_launcher.py:13: SettingWithCopyWarning: \n",
      "A value is trying to be set on a copy of a slice from a DataFrame.\n",
      "Try using .loc[row_indexer,col_indexer] = value instead\n",
      "\n",
      "See the caveats in the documentation: http://pandas.pydata.org/pandas-docs/stable/indexing.html#indexing-view-versus-copy\n",
      "  del sys.path[0]\n"
     ]
    }
   ],
   "source": [
    "# Creo variable Fecha\n",
    "SEG_INST['Fecha']=SEG_INST['f_2da_sent']\n",
    "\n",
    "# Creo variable Monto\n",
    "SEG_INST['Monto']=SEG_INST['MONTO SEGUNDA INST']\n",
    "\n",
    "# Creo variable instancia\n",
    "SEG_INST['Instancia']=SEG_INST['Tipo sentencia 2° inst.']\n",
    "\n",
    "# Filtro y me quedo son con los registros que necesito\n",
    "SEG_INST_filt=SEG_INST[(SEG_INST['Instancia']=='Homologación.')|(SEG_INST['Instancia']=='Hace lugar a la demanda totalmente.')|(SEG_INST['Instancia']=='Hace lugar a la demanda parcialmente.')]\n",
    "\n",
    "SEG_INST_filt['Instancia']='Sentencia 2° instancia'"
   ]
  },
  {
   "cell_type": "code",
   "execution_count": 17,
   "metadata": {},
   "outputs": [
    {
     "data": {
      "text/plain": [
       "['N° EXP_JUDICIAL',\n",
       " 'caratula',\n",
       " 'F_notificacion',\n",
       " 'CUIT EMPLEADOR',\n",
       " 'OBJETO DE RECLAMO',\n",
       " 'CONTINGENCIA RECLAMADA',\n",
       " 'ENF. RECLAMADA',\n",
       " 'MONTO RECLAMADO',\n",
       " 'Tipo sentencia 1° inst.',\n",
       " 'F_1ra_sent',\n",
       " 'MONTO PRIMERA INST',\n",
       " '% PRIMERA INST',\n",
       " 'Tipo sentencia 2° inst.',\n",
       " 'f_2da_sent',\n",
       " 'MONTO SEGUNDA INST',\n",
       " '% SEGUNDA INST',\n",
       " 'cod_cia',\n",
       " 'denominacion_corta',\n",
       " 'Dataset',\n",
       " 'Fecha',\n",
       " 'Monto',\n",
       " 'Instancia']"
      ]
     },
     "execution_count": 17,
     "metadata": {},
     "output_type": "execute_result"
    }
   ],
   "source": [
    "# Listo las etiquetas de las columnas\n",
    "\n",
    "cols = list(SEG_INST_filt.columns.values)\n",
    "cols"
   ]
  },
  {
   "cell_type": "code",
   "execution_count": 18,
   "metadata": {},
   "outputs": [],
   "source": [
    "# Reordeno las columnas\n",
    "\n",
    "reord= [ 'cod_cia',\n",
    " 'denominacion_corta',\n",
    " 'N° EXP_JUDICIAL',\n",
    " 'caratula',\n",
    " 'F_notificacion',\n",
    " 'CUIT EMPLEADOR',\n",
    " 'OBJETO DE RECLAMO',\n",
    " 'CONTINGENCIA RECLAMADA',\n",
    " 'ENF. RECLAMADA',\n",
    " 'MONTO RECLAMADO',\n",
    " 'Dataset',\n",
    " 'Fecha',\n",
    " 'Monto',\n",
    " 'Instancia']\n",
    "\n",
    "SEG_INST_filt=SEG_INST_filt[reord]"
   ]
  },
  {
   "cell_type": "code",
   "execution_count": 19,
   "metadata": {},
   "outputs": [],
   "source": [
    "# Junto Primera y Segunda Instancia\n",
    "\n",
    "DT_Demandas_Instancias=PRIM_INST_filt.append(SEG_INST_filt)"
   ]
  },
  {
   "cell_type": "code",
   "execution_count": 20,
   "metadata": {},
   "outputs": [],
   "source": [
    "DT_Demandas_Instancias['year']= pd.DatetimeIndex(DT_Demandas_Instancias['Fecha']).year\n",
    "DT_Demandas_Instancias['month']= pd.DatetimeIndex(DT_Demandas_Instancias['Fecha']).month"
   ]
  },
  {
   "cell_type": "code",
   "execution_count": 21,
   "metadata": {},
   "outputs": [],
   "source": [
    "# Defino la función que va a asignar el trimestre a partir de la variable mes\n",
    "\n",
    "def trim(row):\n",
    "    if DT_Demandas_Instancias.month.iloc[row]==1 or DT_Demandas_Instancias.month.iloc[row]==2 or DT_Demandas_Instancias.month.iloc[row]==3:\n",
    "        return 1\n",
    "    \n",
    "    elif DT_Demandas_Instancias.month.iloc[row]==4 or DT_Demandas_Instancias.month.iloc[row]==5 or DT_Demandas_Instancias.month.iloc[row]==6:\n",
    "        return 2\n",
    "    \n",
    "    elif DT_Demandas_Instancias.month.iloc[row]==7 or DT_Demandas_Instancias.month.iloc[row]==8 or DT_Demandas_Instancias.month.iloc[row]==9:\n",
    "        return 3\n",
    "    \n",
    "    else:\n",
    "        return 4"
   ]
  },
  {
   "cell_type": "code",
   "execution_count": 22,
   "metadata": {},
   "outputs": [],
   "source": [
    "# Creo la variable Trimestre y le aplico la función definida\n",
    "\n",
    "DT_Demandas_Instancias['trimestre']=[trim(i) for i in range(len(DT_Demandas_Instancias.index))]"
   ]
  },
  {
   "cell_type": "code",
   "execution_count": 23,
   "metadata": {},
   "outputs": [],
   "source": [
    "# Creo la variable Periodo Balance a partir de las varibles year y trimestre\n",
    "\n",
    "DT_Demandas_Instancias['Periodo_balance'] = DT_Demandas_Instancias.year.astype(str).str.cat(DT_Demandas_Instancias.trimestre.astype(str), sep='-')"
   ]
  },
  {
   "cell_type": "code",
   "execution_count": 24,
   "metadata": {},
   "outputs": [],
   "source": [
    "DT_Demandas_Instancias=DT_Demandas_Instancias.drop(['year','month','trimestre'],1)"
   ]
  },
  {
   "cell_type": "code",
   "execution_count": 25,
   "metadata": {},
   "outputs": [],
   "source": [
    "#EXPORTO \n",
    "\n",
    "DT_Demandas_Instancias.to_excel(r'C:\\Users\\eangenello\\Desktop\\TECNICA\\Python\\output\\Dt_Demandas_Instancias.xlsx', sheet_name='Dt_Demandas_Instancias', index=False)"
   ]
  }
 ],
 "metadata": {
  "kernelspec": {
   "display_name": "Python 3",
   "language": "python",
   "name": "python3"
  },
  "language_info": {
   "codemirror_mode": {
    "name": "ipython",
    "version": 3
   },
   "file_extension": ".py",
   "mimetype": "text/x-python",
   "name": "python",
   "nbconvert_exporter": "python",
   "pygments_lexer": "ipython3",
   "version": "3.7.0"
  }
 },
 "nbformat": 4,
 "nbformat_minor": 2
}
