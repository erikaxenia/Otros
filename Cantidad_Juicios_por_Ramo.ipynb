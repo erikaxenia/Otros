{
 "cells": [
  {
   "cell_type": "code",
   "execution_count": 1,
   "metadata": {},
   "outputs": [],
   "source": [
    "import numpy as np\n",
    "import scipy as sp\n",
    "import pandas as pd\n",
    "import matplotlib.pyplot as plt\n",
    "import seaborn as sns\n",
    "\n",
    "%matplotlib inline"
   ]
  },
  {
   "cell_type": "code",
   "execution_count": 2,
   "metadata": {},
   "outputs": [],
   "source": [
    "cant_juicios=pd.read_excel(r'C:\\Users\\eangenello\\Desktop\\TECNICA\\Python\\input\\AUTOMOTOR\\Juicios por ramo.xlsx')"
   ]
  },
  {
   "cell_type": "code",
   "execution_count": 3,
   "metadata": {},
   "outputs": [
    {
     "data": {
      "text/html": [
       "<div>\n",
       "<style scoped>\n",
       "    .dataframe tbody tr th:only-of-type {\n",
       "        vertical-align: middle;\n",
       "    }\n",
       "\n",
       "    .dataframe tbody tr th {\n",
       "        vertical-align: top;\n",
       "    }\n",
       "\n",
       "    .dataframe thead th {\n",
       "        text-align: right;\n",
       "    }\n",
       "</style>\n",
       "<table border=\"1\" class=\"dataframe\">\n",
       "  <thead>\n",
       "    <tr style=\"text-align: right;\">\n",
       "      <th></th>\n",
       "      <th>CiaID</th>\n",
       "      <th>Periodo</th>\n",
       "      <th>Juicio Mediacion</th>\n",
       "      <th>Tipo Juicio Mediacion</th>\n",
       "      <th>Ramo - Subramo</th>\n",
       "      <th>cantidad</th>\n",
       "    </tr>\n",
       "  </thead>\n",
       "  <tbody>\n",
       "    <tr>\n",
       "      <th>0</th>\n",
       "      <td>894</td>\n",
       "      <td>Trimestral - 2017-4</td>\n",
       "      <td>JUICIOS</td>\n",
       "      <td>Al Inicio del Trimestre</td>\n",
       "      <td>Vida - Colectivo</td>\n",
       "      <td>0</td>\n",
       "    </tr>\n",
       "    <tr>\n",
       "      <th>1</th>\n",
       "      <td>878</td>\n",
       "      <td>Trimestral - 2017-4</td>\n",
       "      <td>JUICIOS</td>\n",
       "      <td>Al Inicio del Trimestre</td>\n",
       "      <td>Rs. del Trabajo - Otros</td>\n",
       "      <td>7</td>\n",
       "    </tr>\n",
       "    <tr>\n",
       "      <th>2</th>\n",
       "      <td>878</td>\n",
       "      <td>Trimestral - 2017-4</td>\n",
       "      <td>JUICIOS</td>\n",
       "      <td>Entrados en el Trimestre</td>\n",
       "      <td>Rs. del Trabajo - Otros</td>\n",
       "      <td>2</td>\n",
       "    </tr>\n",
       "    <tr>\n",
       "      <th>3</th>\n",
       "      <td>869</td>\n",
       "      <td>Trimestral - 2017-4</td>\n",
       "      <td>JUICIOS</td>\n",
       "      <td>Entrados en el Trimestre</td>\n",
       "      <td>RC - Otros</td>\n",
       "      <td>1</td>\n",
       "    </tr>\n",
       "    <tr>\n",
       "      <th>4</th>\n",
       "      <td>869</td>\n",
       "      <td>Trimestral - 2017-4</td>\n",
       "      <td>MEDIACIONES</td>\n",
       "      <td>Entrados en el Trimestre</td>\n",
       "      <td>RC - Otros</td>\n",
       "      <td>2</td>\n",
       "    </tr>\n",
       "  </tbody>\n",
       "</table>\n",
       "</div>"
      ],
      "text/plain": [
       "   CiaID              Periodo Juicio Mediacion     Tipo Juicio Mediacion  \\\n",
       "0    894  Trimestral - 2017-4          JUICIOS   Al Inicio del Trimestre   \n",
       "1    878  Trimestral - 2017-4          JUICIOS   Al Inicio del Trimestre   \n",
       "2    878  Trimestral - 2017-4          JUICIOS  Entrados en el Trimestre   \n",
       "3    869  Trimestral - 2017-4          JUICIOS  Entrados en el Trimestre   \n",
       "4    869  Trimestral - 2017-4      MEDIACIONES  Entrados en el Trimestre   \n",
       "\n",
       "            Ramo - Subramo  cantidad  \n",
       "0         Vida - Colectivo         0  \n",
       "1  Rs. del Trabajo - Otros         7  \n",
       "2  Rs. del Trabajo - Otros         2  \n",
       "3               RC - Otros         1  \n",
       "4               RC - Otros         2  "
      ]
     },
     "execution_count": 3,
     "metadata": {},
     "output_type": "execute_result"
    }
   ],
   "source": [
    "cant_juicios.head()"
   ]
  },
  {
   "cell_type": "code",
   "execution_count": 4,
   "metadata": {},
   "outputs": [],
   "source": [
    "# Creo la variable año para que tenga el mismo formato que los demás datasets\n",
    "cant_juicios['periodo']=[cant_juicios.Periodo.iloc[row][-6:] for row in range(len(cant_juicios.index))]"
   ]
  },
  {
   "cell_type": "code",
   "execution_count": 5,
   "metadata": {},
   "outputs": [],
   "source": [
    "# Elimino Periodo\n",
    "cant_juicios=cant_juicios.drop('Periodo',1)"
   ]
  },
  {
   "cell_type": "code",
   "execution_count": 6,
   "metadata": {},
   "outputs": [
    {
     "data": {
      "text/html": [
       "<div>\n",
       "<style scoped>\n",
       "    .dataframe tbody tr th:only-of-type {\n",
       "        vertical-align: middle;\n",
       "    }\n",
       "\n",
       "    .dataframe tbody tr th {\n",
       "        vertical-align: top;\n",
       "    }\n",
       "\n",
       "    .dataframe thead th {\n",
       "        text-align: right;\n",
       "    }\n",
       "</style>\n",
       "<table border=\"1\" class=\"dataframe\">\n",
       "  <thead>\n",
       "    <tr style=\"text-align: right;\">\n",
       "      <th></th>\n",
       "      <th>CiaID</th>\n",
       "      <th>Juicio Mediacion</th>\n",
       "      <th>Tipo Juicio Mediacion</th>\n",
       "      <th>Ramo - Subramo</th>\n",
       "      <th>cantidad</th>\n",
       "      <th>periodo</th>\n",
       "    </tr>\n",
       "  </thead>\n",
       "  <tbody>\n",
       "    <tr>\n",
       "      <th>0</th>\n",
       "      <td>894</td>\n",
       "      <td>JUICIOS</td>\n",
       "      <td>Al Inicio del Trimestre</td>\n",
       "      <td>Vida - Colectivo</td>\n",
       "      <td>0</td>\n",
       "      <td>2017-4</td>\n",
       "    </tr>\n",
       "    <tr>\n",
       "      <th>1</th>\n",
       "      <td>878</td>\n",
       "      <td>JUICIOS</td>\n",
       "      <td>Al Inicio del Trimestre</td>\n",
       "      <td>Rs. del Trabajo - Otros</td>\n",
       "      <td>7</td>\n",
       "      <td>2017-4</td>\n",
       "    </tr>\n",
       "    <tr>\n",
       "      <th>2</th>\n",
       "      <td>878</td>\n",
       "      <td>JUICIOS</td>\n",
       "      <td>Entrados en el Trimestre</td>\n",
       "      <td>Rs. del Trabajo - Otros</td>\n",
       "      <td>2</td>\n",
       "      <td>2017-4</td>\n",
       "    </tr>\n",
       "    <tr>\n",
       "      <th>3</th>\n",
       "      <td>869</td>\n",
       "      <td>JUICIOS</td>\n",
       "      <td>Entrados en el Trimestre</td>\n",
       "      <td>RC - Otros</td>\n",
       "      <td>1</td>\n",
       "      <td>2017-4</td>\n",
       "    </tr>\n",
       "    <tr>\n",
       "      <th>4</th>\n",
       "      <td>869</td>\n",
       "      <td>MEDIACIONES</td>\n",
       "      <td>Entrados en el Trimestre</td>\n",
       "      <td>RC - Otros</td>\n",
       "      <td>2</td>\n",
       "      <td>2017-4</td>\n",
       "    </tr>\n",
       "  </tbody>\n",
       "</table>\n",
       "</div>"
      ],
      "text/plain": [
       "   CiaID Juicio Mediacion     Tipo Juicio Mediacion           Ramo - Subramo  \\\n",
       "0    894          JUICIOS   Al Inicio del Trimestre         Vida - Colectivo   \n",
       "1    878          JUICIOS   Al Inicio del Trimestre  Rs. del Trabajo - Otros   \n",
       "2    878          JUICIOS  Entrados en el Trimestre  Rs. del Trabajo - Otros   \n",
       "3    869          JUICIOS  Entrados en el Trimestre               RC - Otros   \n",
       "4    869      MEDIACIONES  Entrados en el Trimestre               RC - Otros   \n",
       "\n",
       "   cantidad periodo  \n",
       "0         0  2017-4  \n",
       "1         7  2017-4  \n",
       "2         2  2017-4  \n",
       "3         1  2017-4  \n",
       "4         2  2017-4  "
      ]
     },
     "execution_count": 6,
     "metadata": {},
     "output_type": "execute_result"
    }
   ],
   "source": [
    "cant_juicios.head()"
   ]
  },
  {
   "cell_type": "code",
   "execution_count": 7,
   "metadata": {},
   "outputs": [],
   "source": [
    "# Filtro por Juicio\n",
    "cant_juicios=cant_juicios[(cant_juicios['Juicio Mediacion']=='JUICIOS')]"
   ]
  },
  {
   "cell_type": "code",
   "execution_count": 8,
   "metadata": {},
   "outputs": [],
   "source": [
    "# Filtro por ramo automotor\n",
    "cant_juicios=cant_juicios[(cant_juicios['Ramo - Subramo']=='Automotores - Cascos y Otras Cob.')|(cant_juicios['Ramo - Subramo']=='Automotores - RC Exclusivo')|(cant_juicios['Ramo - Subramo']=='Automotores - Sin Uso')]"
   ]
  },
  {
   "cell_type": "code",
   "execution_count": 9,
   "metadata": {},
   "outputs": [],
   "source": [
    "#Agrupo por cantidad\n",
    "cant_juicios=cant_juicios.pivot_table(index=['CiaID','periodo'], values='cantidad', columns=['Tipo Juicio Mediacion'], aggfunc=np.sum, fill_value=0)"
   ]
  },
  {
   "cell_type": "code",
   "execution_count": 10,
   "metadata": {},
   "outputs": [],
   "source": [
    "# Creo la variable cod_cia\n",
    "cant_juicios['cod_cia']=[cant_juicios.iloc[row].name[0] for row in range(len(cant_juicios.index))]"
   ]
  },
  {
   "cell_type": "code",
   "execution_count": 11,
   "metadata": {},
   "outputs": [],
   "source": [
    "# Creo la variable año\n",
    "cant_juicios['año']=[cant_juicios.iloc[row].name[1] for row in range(len(cant_juicios.index))]"
   ]
  },
  {
   "cell_type": "code",
   "execution_count": 12,
   "metadata": {},
   "outputs": [],
   "source": [
    "# Creo la variable Cantidad de Juicios\n",
    "cant_juicios['Juicios']=cant_juicios['Al Inicio del Trimestre'] + cant_juicios['Entrados en el Trimestre']- cant_juicios['Acordados / Pagados en el Trimestre']"
   ]
  },
  {
   "cell_type": "code",
   "execution_count": 13,
   "metadata": {},
   "outputs": [],
   "source": [
    "# a = cant_juicios.reset_index('Tipo Juicio Mediacion').reset_index(drop=True)"
   ]
  },
  {
   "cell_type": "code",
   "execution_count": 14,
   "metadata": {},
   "outputs": [],
   "source": [
    "reor=['cod_cia', 'año', 'Juicios']\n",
    "cant_juicios=cant_juicios[reor]"
   ]
  },
  {
   "cell_type": "code",
   "execution_count": 15,
   "metadata": {},
   "outputs": [],
   "source": [
    "cant_juicios.to_excel(r'C:\\Users\\eangenello\\Desktop\\TECNICA\\Python\\output\\Cantidad de Juicios por ramo.xlsx', index=False)"
   ]
  },
  {
   "cell_type": "code",
   "execution_count": null,
   "metadata": {},
   "outputs": [],
   "source": []
  }
 ],
 "metadata": {
  "kernelspec": {
   "display_name": "Python 3",
   "language": "python",
   "name": "python3"
  },
  "language_info": {
   "codemirror_mode": {
    "name": "ipython",
    "version": 3
   },
   "file_extension": ".py",
   "mimetype": "text/x-python",
   "name": "python",
   "nbconvert_exporter": "python",
   "pygments_lexer": "ipython3",
   "version": "3.7.0"
  }
 },
 "nbformat": 4,
 "nbformat_minor": 2
}
