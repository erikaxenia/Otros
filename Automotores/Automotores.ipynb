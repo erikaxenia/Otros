{
 "cells": [
  {
   "cell_type": "markdown",
   "metadata": {},
   "source": [
    "## Dataset Automotores"
   ]
  },
  {
   "cell_type": "code",
   "execution_count": 1,
   "metadata": {},
   "outputs": [],
   "source": [
    "import numpy as np\n",
    "import scipy as sp\n",
    "import pandas as pd\n",
    "import matplotlib.pyplot as plt\n",
    "import seaborn as sns\n",
    "\n",
    "%matplotlib inline"
   ]
  },
  {
   "cell_type": "code",
   "execution_count": 2,
   "metadata": {},
   "outputs": [],
   "source": [
    "#Levanto tabla de ramos\n",
    "\n",
    "ramos_df=pd.read_excel(r'C:\\Users\\eangenello\\Desktop\\TECNICA\\Python\\input\\ART\\Dataset_AM\\tabla_ramos.xlsx', index_col = 'cod_subramo')"
   ]
  },
  {
   "cell_type": "code",
   "execution_count": 3,
   "metadata": {},
   "outputs": [
    {
     "data": {
      "text/html": [
       "<div>\n",
       "<style scoped>\n",
       "    .dataframe tbody tr th:only-of-type {\n",
       "        vertical-align: middle;\n",
       "    }\n",
       "\n",
       "    .dataframe tbody tr th {\n",
       "        vertical-align: top;\n",
       "    }\n",
       "\n",
       "    .dataframe thead th {\n",
       "        text-align: right;\n",
       "    }\n",
       "</style>\n",
       "<table border=\"1\" class=\"dataframe\">\n",
       "  <thead>\n",
       "    <tr style=\"text-align: right;\">\n",
       "      <th></th>\n",
       "      <th>cod_ramo</th>\n",
       "      <th>des_ramo</th>\n",
       "      <th>des_subramo</th>\n",
       "    </tr>\n",
       "    <tr>\n",
       "      <th>cod_subramo</th>\n",
       "      <th></th>\n",
       "      <th></th>\n",
       "      <th></th>\n",
       "    </tr>\n",
       "  </thead>\n",
       "  <tbody>\n",
       "    <tr>\n",
       "      <th>1.010.99</th>\n",
       "      <td>1.010.00</td>\n",
       "      <td>Incendio</td>\n",
       "      <td>Incendio - Incendio</td>\n",
       "    </tr>\n",
       "    <tr>\n",
       "      <th>1.020.01</th>\n",
       "      <td>1.020.00</td>\n",
       "      <td>Combinado Familiar e Integral</td>\n",
       "      <td>Comb. Fam. e Int. - Comb. Fam.</td>\n",
       "    </tr>\n",
       "  </tbody>\n",
       "</table>\n",
       "</div>"
      ],
      "text/plain": [
       "             cod_ramo                       des_ramo  \\\n",
       "cod_subramo                                            \n",
       "1.010.99     1.010.00                       Incendio   \n",
       "1.020.01     1.020.00  Combinado Familiar e Integral   \n",
       "\n",
       "                                des_subramo  \n",
       "cod_subramo                                  \n",
       "1.010.99                Incendio - Incendio  \n",
       "1.020.01     Comb. Fam. e Int. - Comb. Fam.  "
      ]
     },
     "execution_count": 3,
     "metadata": {},
     "output_type": "execute_result"
    }
   ],
   "source": [
    "ramos_df.head(2)"
   ]
  },
  {
   "cell_type": "markdown",
   "metadata": {},
   "source": [
    "ANEXO 12 (Todos los ramos)"
   ]
  },
  {
   "cell_type": "code",
   "execution_count": 4,
   "metadata": {},
   "outputs": [],
   "source": [
    "# Anexo 12 Primas - el primer trimestre tiene que ser 3\n",
    "\n",
    "anexo12_df=pd.read_excel(r'C:\\Users\\eangenello\\Desktop\\TECNICA\\Python\\input\\ART\\Dataset_AM\\ANEXO_12.xlsx')\n",
    "\n",
    "anexo12_df.cod_cia=anexo12_df.cod_cia.astype('O')\n",
    "\n",
    "anexo12_df=anexo12_df.replace(to_replace=np.nan, value=0)\n",
    "\n",
    "anexo12_df=anexo12_df.drop(anexo12_df[anexo12_df['cod_subramo']=='3.000.99'].index)\n",
    "anexo12_df=anexo12_df.drop(anexo12_df[anexo12_df['cod_subramo']=='9999'].index)\n",
    "anexo12_df=anexo12_df.drop(anexo12_df[anexo12_df['cod_subramo']==0].index)"
   ]
  },
  {
   "cell_type": "code",
   "execution_count": 5,
   "metadata": {},
   "outputs": [
    {
     "data": {
      "text/html": [
       "<div>\n",
       "<style scoped>\n",
       "    .dataframe tbody tr th:only-of-type {\n",
       "        vertical-align: middle;\n",
       "    }\n",
       "\n",
       "    .dataframe tbody tr th {\n",
       "        vertical-align: top;\n",
       "    }\n",
       "\n",
       "    .dataframe thead th {\n",
       "        text-align: right;\n",
       "    }\n",
       "</style>\n",
       "<table border=\"1\" class=\"dataframe\">\n",
       "  <thead>\n",
       "    <tr style=\"text-align: right;\">\n",
       "      <th></th>\n",
       "      <th>cod_cia</th>\n",
       "      <th>des_cia</th>\n",
       "      <th>año</th>\n",
       "      <th>cod_subramo</th>\n",
       "      <th>Primas_Emitidas</th>\n",
       "      <th>Primas_Cedidas_Reaseguro</th>\n",
       "      <th>Compromisos_Tecnicos_del_Ej_Total</th>\n",
       "      <th>Compromisos_Tecnicos_del_Ej_AC_Reaseg</th>\n",
       "      <th>Compromisos_Tecnicos_del_Ej_AC_Asegurad</th>\n",
       "      <th>Compromisos_Tecnicos_del_Ej_Ant_Total</th>\n",
       "      <th>Compromisos_Tecnicos_del_Ej_Ant_AC_Reaseg</th>\n",
       "      <th>Compromisos_Tecnicos_del_Ej_Ant_AC_Asegurad</th>\n",
       "      <th>Primas_Devengadas_SD</th>\n",
       "      <th>Primas_Reaseguros_Activos</th>\n",
       "      <th>Primas_Cedidas_a_Retrocesion</th>\n",
       "      <th>Compromisos_Tecnicos_del_Ej</th>\n",
       "      <th>Compromisos_Tecnicos_del_Ej_Ant</th>\n",
       "      <th>Primas_Devengadas_RA</th>\n",
       "      <th>Primas_Devengadas_Total</th>\n",
       "    </tr>\n",
       "  </thead>\n",
       "  <tbody>\n",
       "    <tr>\n",
       "      <th>0</th>\n",
       "      <td>2</td>\n",
       "      <td>SMG COMPAÑIA ARGENTINA DE SEGUROS S.A.</td>\n",
       "      <td>2008-3</td>\n",
       "      <td>1.010.99</td>\n",
       "      <td>6024283</td>\n",
       "      <td>5691406</td>\n",
       "      <td>5988471</td>\n",
       "      <td>4633711</td>\n",
       "      <td>1354760</td>\n",
       "      <td>4090236</td>\n",
       "      <td>3047768</td>\n",
       "      <td>1042468</td>\n",
       "      <td>20585</td>\n",
       "      <td>0</td>\n",
       "      <td>0</td>\n",
       "      <td>0</td>\n",
       "      <td>0</td>\n",
       "      <td>0</td>\n",
       "      <td>20585</td>\n",
       "    </tr>\n",
       "  </tbody>\n",
       "</table>\n",
       "</div>"
      ],
      "text/plain": [
       "   cod_cia                                 des_cia     año cod_subramo  \\\n",
       "0        2  SMG COMPAÑIA ARGENTINA DE SEGUROS S.A.  2008-3    1.010.99   \n",
       "\n",
       "   Primas_Emitidas  Primas_Cedidas_Reaseguro  \\\n",
       "0          6024283                   5691406   \n",
       "\n",
       "   Compromisos_Tecnicos_del_Ej_Total  Compromisos_Tecnicos_del_Ej_AC_Reaseg  \\\n",
       "0                            5988471                                4633711   \n",
       "\n",
       "   Compromisos_Tecnicos_del_Ej_AC_Asegurad  \\\n",
       "0                                  1354760   \n",
       "\n",
       "   Compromisos_Tecnicos_del_Ej_Ant_Total  \\\n",
       "0                                4090236   \n",
       "\n",
       "   Compromisos_Tecnicos_del_Ej_Ant_AC_Reaseg  \\\n",
       "0                                    3047768   \n",
       "\n",
       "   Compromisos_Tecnicos_del_Ej_Ant_AC_Asegurad  Primas_Devengadas_SD  \\\n",
       "0                                      1042468                 20585   \n",
       "\n",
       "   Primas_Reaseguros_Activos  Primas_Cedidas_a_Retrocesion  \\\n",
       "0                          0                             0   \n",
       "\n",
       "   Compromisos_Tecnicos_del_Ej  Compromisos_Tecnicos_del_Ej_Ant  \\\n",
       "0                            0                                0   \n",
       "\n",
       "   Primas_Devengadas_RA  Primas_Devengadas_Total  \n",
       "0                     0                    20585  "
      ]
     },
     "execution_count": 5,
     "metadata": {},
     "output_type": "execute_result"
    }
   ],
   "source": [
    "anexo12_df.head(1)"
   ]
  },
  {
   "cell_type": "code",
   "execution_count": 6,
   "metadata": {},
   "outputs": [],
   "source": [
    "# Crea la columna Ramo y la completa buscando la información de la tabla de ramos\n",
    "\n",
    "anexo12_ramo=anexo12_df\n",
    "\n",
    "anexo12_ramo['ramo']=[ramos_df.loc[anexo12_df.cod_subramo[i],'des_ramo'] for i in anexo12_df.index]"
   ]
  },
  {
   "cell_type": "code",
   "execution_count": 7,
   "metadata": {},
   "outputs": [],
   "source": [
    "# Crea una tabla del tipo \"tabla dinámica de excel\"\n",
    "# Agrupa filas: por ID y ramo, columnas: año (año=aaaa-t) y suma las primas emitidas\n",
    "\n",
    "anexo12_pivot=anexo12_ramo.pivot_table(index=['cod_cia','ramo'], values=['Primas_Emitidas'], columns=['año'], aggfunc=np.sum)"
   ]
  },
  {
   "cell_type": "code",
   "execution_count": 8,
   "metadata": {},
   "outputs": [],
   "source": [
    "# Reemplaza los missing por nulos\n",
    "\n",
    "anexo12_pivot=anexo12_pivot.replace(to_replace=np.nan, value=0)"
   ]
  },
  {
   "cell_type": "code",
   "execution_count": 9,
   "metadata": {},
   "outputs": [],
   "source": [
    "#Creación base trimestral desacumulada\n",
    "\n",
    "# Creo el esqueleto donde después va a incluir la información con un bucle. Lo que le estoy pidiendo es que utilice como esqueleto\n",
    "# la misma estructura que tengo hasta ahora en 'anexo12_pivot' y que le modifique el nombre de las columnas a partir de 'multi_index'\n",
    "\n",
    "\n",
    "multi_index=pd.MultiIndex(levels=[list(anexo12_pivot.columns.levels[0]), list(anexo12_pivot.columns.levels[1])],\n",
    "                                    labels=list(anexo12_pivot.columns.labels),\n",
    "                                    names=['variable', 'año'])\n",
    "\n",
    "\n",
    "anexo12_trim=pd.DataFrame(index=anexo12_pivot.index , columns=multi_index)"
   ]
  },
  {
   "cell_type": "code",
   "execution_count": 10,
   "metadata": {},
   "outputs": [],
   "source": [
    "# Defino la función que voy a utilizar para hacer el cálculo\n",
    "\n",
    "# La función indica que si el período de análidis es 3, entonces que retorne el mismo monto de prima emitida. \n",
    "# Sino que al valor del período actual le reste el período anterior.\n",
    "\n",
    "def trim(row,col,año):\n",
    "    if anexo12_trim.loc[anexo12_trim.iloc[row].name[0]][col][año].name.split('-')[1]=='3':\n",
    "        \n",
    "        return anexo12_pivot.loc[anexo12_trim.iloc[row].name[0],anexo12_trim.iloc[row].name[1]][col][año]\n",
    "    \n",
    "    else:\n",
    "        \n",
    "        return anexo12_pivot.loc[anexo12_trim.iloc[row].name[0],anexo12_trim.iloc[row].name[1]][col][año]-anexo12_pivot.loc[anexo12_trim.iloc[row].name[0],anexo12_trim.iloc[row].name[1]][col][anexo12_trim.columns.levels[1][list(anexo12_trim.columns.levels[1]).index(año)-1]]\n",
    " "
   ]
  },
  {
   "cell_type": "code",
   "execution_count": 11,
   "metadata": {},
   "outputs": [],
   "source": [
    "# Defino el bucle for al que voy a aplicar la función\n",
    "\n",
    "variables=['Primas_Emitidas']\n",
    "\n",
    "for j in range(len(anexo12_trim.index)):\n",
    "    for col in variables:\n",
    "        for año in list(anexo12_trim.columns.levels[1]):\n",
    "            anexo12_trim.iloc[j][col][año]=trim(j,col,año)"
   ]
  },
  {
   "cell_type": "code",
   "execution_count": 12,
   "metadata": {},
   "outputs": [],
   "source": [
    "# Creo dos variables\n",
    "anexo12_trim['cod_cia']=[anexo12_trim.iloc[i].name[0] for i in range(len(anexo12_trim.index))]\n",
    "anexo12_trim['ramo']=[anexo12_trim.iloc[i].name[1] for i in range(len(anexo12_trim.index))]"
   ]
  },
  {
   "cell_type": "code",
   "execution_count": 13,
   "metadata": {},
   "outputs": [],
   "source": [
    "anexo12_trim_melt_totales=anexo12_trim.melt(id_vars=['cod_cia','ramo'])\n",
    "\n",
    "anexo12_trim_melt_totales=anexo12_trim_melt_totales.drop({'variable','ramo'}, 1)\n",
    "\n",
    "anexo12_trim_melt_totales=anexo12_trim_melt_totales.rename(columns = {'value':'Primas_Emitidas_Desagregadas_Totales'})\n",
    "\n",
    "anexo12_trim_melt_totales=anexo12_trim_melt_totales.groupby(['cod_cia','año'], as_index=False)[\"Primas_Emitidas_Desagregadas_Totales\"].sum()"
   ]
  },
  {
   "cell_type": "markdown",
   "metadata": {},
   "source": [
    "ANEXO 12 (Auutomotor)"
   ]
  },
  {
   "cell_type": "code",
   "execution_count": 14,
   "metadata": {},
   "outputs": [],
   "source": [
    "# Anexo 12 Primas - el primer trimestre tiene que ser 3\n",
    "\n",
    "anexo12_df=pd.read_excel(r'C:\\Users\\eangenello\\Desktop\\TECNICA\\Python\\input\\AUTOMOTOR\\ANEXO_12.xlsx')\n",
    "\n",
    "anexo12_df.cod_cia=anexo12_df.cod_cia.astype('O')\n",
    "\n",
    "anexo12_df=anexo12_df[(anexo12_df.cod_subramo=='1.030.01')|(anexo12_df.cod_subramo=='1.030.02')|(anexo12_df.cod_subramo=='1.030.03')]"
   ]
  },
  {
   "cell_type": "code",
   "execution_count": 15,
   "metadata": {},
   "outputs": [],
   "source": [
    "# Crea la columna Ramo y la completa buscando la información de la tabla de ramos\n",
    "\n",
    "anexo12_ramo=anexo12_df\n",
    "\n",
    "anexo12_ramo['ramo']=[ramos_df.loc[anexo12_df.cod_subramo[i],'des_ramo'] for i in anexo12_df.index]"
   ]
  },
  {
   "cell_type": "code",
   "execution_count": 16,
   "metadata": {},
   "outputs": [],
   "source": [
    "# Crea una tabla del tipo \"tabla dinámica de excel\"\n",
    "# Agrupa filas: por ID y ramo, columnas: año (año=aaaa-t) y suma las primas emitidas\n",
    "\n",
    "anexo12_pivot=anexo12_ramo.pivot_table(index=['cod_cia','ramo'], values=['Primas_Emitidas'], columns=['año'], aggfunc=np.sum)"
   ]
  },
  {
   "cell_type": "code",
   "execution_count": 17,
   "metadata": {},
   "outputs": [],
   "source": [
    "# Reemplaza los missing por nulos\n",
    "\n",
    "anexo12_pivot=anexo12_pivot.replace(to_replace=np.nan, value=0)"
   ]
  },
  {
   "cell_type": "code",
   "execution_count": 18,
   "metadata": {},
   "outputs": [],
   "source": [
    "#Creación base trimestral desacumulada\n",
    "\n",
    "# Creo el esqueleto donde después va a incluir la información con un bucle. Lo que le estoy pidiendo es que utilice como esqueleto\n",
    "# la misma estructura que tengo hasta ahora en 'anexo12_pivot' y que le modifique el nombre de las columnas a partir de 'multi_index'\n",
    "\n",
    "\n",
    "multi_index=pd.MultiIndex(levels=[list(anexo12_pivot.columns.levels[0]), list(anexo12_pivot.columns.levels[1])],\n",
    "                                    labels=list(anexo12_pivot.columns.labels),\n",
    "                                    names=['variable', 'año'])\n",
    "\n",
    "\n",
    "anexo12_trim=pd.DataFrame(index=anexo12_pivot.index , columns=multi_index)\n"
   ]
  },
  {
   "cell_type": "code",
   "execution_count": 19,
   "metadata": {},
   "outputs": [],
   "source": [
    "# Defino la función que voy a utilizar para hacer el cálculo\n",
    "\n",
    "# La función indica que si el período de análidis es 3, entonces que retorne el mismo monto de prima emitida. \n",
    "# Sino que al valor del período actual le reste el período anterior.\n",
    "\n",
    "def trim(row,col,año):\n",
    "    if anexo12_trim.loc[anexo12_trim.iloc[row].name[0]][col][año].name.split('-')[1]=='3':\n",
    "        \n",
    "        return anexo12_pivot.loc[anexo12_trim.iloc[row].name[0],anexo12_trim.iloc[row].name[1]][col][año]\n",
    "    \n",
    "    else:\n",
    "        \n",
    "        return anexo12_pivot.loc[anexo12_trim.iloc[row].name[0],anexo12_trim.iloc[row].name[1]][col][año]-anexo12_pivot.loc[anexo12_trim.iloc[row].name[0],anexo12_trim.iloc[row].name[1]][col][anexo12_trim.columns.levels[1][list(anexo12_trim.columns.levels[1]).index(año)-1]]"
   ]
  },
  {
   "cell_type": "code",
   "execution_count": 20,
   "metadata": {},
   "outputs": [],
   "source": [
    "# Defino el bucle for al que voy a aplicar la función\n",
    "\n",
    "variables=['Primas_Emitidas']\n",
    "\n",
    "for j in range(len(anexo12_trim.index)):\n",
    "    for col in variables:\n",
    "        for año in list(anexo12_trim.columns.levels[1]):\n",
    "            anexo12_trim.iloc[j][col][año]=trim(j,col,año)"
   ]
  },
  {
   "cell_type": "code",
   "execution_count": 21,
   "metadata": {},
   "outputs": [],
   "source": [
    "anexo12_trim['cod_cia']=[anexo12_trim.iloc[i].name[0] for i in range(len(anexo12_trim.index))]\n",
    "anexo12_trim['ramo']=[anexo12_trim.iloc[i].name[1] for i in range(len(anexo12_trim.index))]"
   ]
  },
  {
   "cell_type": "code",
   "execution_count": 22,
   "metadata": {},
   "outputs": [],
   "source": [
    "# Obtengo el dataset con Ramo, Año y Prima Emitida Desagragada\n",
    "\n",
    "anexo12_trim_melt_autom=anexo12_trim.melt(id_vars=['cod_cia','ramo'])\n",
    "\n",
    "anexo12_trim_melt_autom=anexo12_trim_melt_autom.drop({'variable','ramo'}, 1)\n",
    "\n",
    "anexo12_trim_melt_autom=anexo12_trim_melt_autom.rename(columns = {'value':'Primas_Emitidas_Desagregadas'})"
   ]
  },
  {
   "cell_type": "code",
   "execution_count": 23,
   "metadata": {},
   "outputs": [],
   "source": [
    "# Agrupo el Anexo 12 por año y compañía\n",
    "\n",
    "anexo12_df_agrup=anexo12_df.groupby(['cod_cia','año'], as_index=False)[\"Primas_Emitidas\",\"Primas_Devengadas_Total\"].sum()"
   ]
  },
  {
   "cell_type": "code",
   "execution_count": 24,
   "metadata": {},
   "outputs": [],
   "source": [
    "# Junto datasets: Prima emitida desagregada con Prima Emitida\n",
    "\n",
    "Dataset_AUTOM=anexo12_trim_melt_autom.merge(anexo12_trim_melt_totales, how='inner', on=['cod_cia','año'])\n",
    "\n",
    "Dataset_AUTOM=Dataset_AUTOM.merge(anexo12_df_agrup, how='inner', on=['cod_cia','año'])\n"
   ]
  },
  {
   "cell_type": "markdown",
   "metadata": {},
   "source": [
    "ANEXO 13"
   ]
  },
  {
   "cell_type": "code",
   "execution_count": 25,
   "metadata": {},
   "outputs": [],
   "source": [
    "anexo13_df=pd.read_excel(r'C:\\Users\\eangenello\\Desktop\\TECNICA\\Python\\input\\AUTOMOTOR\\ANEXO_13.xlsx', usecols= \"A:D,H,V\")\n",
    "anexo13_df.cod_cia=anexo13_df.cod_cia.astype('O')\n",
    "\n",
    "anexo13_df['Siniestros_pagados netos']=anexo13_df['Pagados_Netos']\n",
    "anexo13_df=anexo13_df.drop('Pagados_Netos',1)\n",
    "anexo13_df['Siniestros_devengados']=anexo13_df['Total_Devengada_Ej_RA']\n",
    "anexo13_df=anexo13_df.drop('Total_Devengada_Ej_RA',1)\n",
    "\n",
    "anexo13_df=anexo13_df[(anexo13_df.cod_subramo=='1.030.01')|(anexo13_df.cod_subramo=='1.030.02')|(anexo13_df.cod_subramo=='1.030.03')]\n",
    "anexo13_df_agrup=anexo13_df.groupby(['cod_cia','año'], as_index=False)['Siniestros_pagados netos','Siniestros_devengados'].sum()"
   ]
  },
  {
   "cell_type": "code",
   "execution_count": 26,
   "metadata": {},
   "outputs": [],
   "source": [
    "# Junto datasets: Anexo 12 + Anexo 13\n",
    "\n",
    "Dataset_AUTOM=Dataset_AUTOM.merge(anexo13_df_agrup, how='outer', on=['cod_cia','año'])"
   ]
  },
  {
   "cell_type": "markdown",
   "metadata": {},
   "source": [
    "ANEXO 14"
   ]
  },
  {
   "cell_type": "code",
   "execution_count": 27,
   "metadata": {},
   "outputs": [],
   "source": [
    "anexo14_df=pd.read_excel(r'C:\\Users\\eangenello\\Desktop\\TECNICA\\Python\\input\\AUTOMOTOR\\ANEXO_14.xlsx', usecols='A:E,G,N')\n",
    "anexo14_df.cod_cia=anexo14_df.cod_cia.astype('O')\n",
    "\n",
    "anexo14_df=anexo14_df[(anexo14_df.cod_subramo=='1.030.01')|(anexo14_df.cod_subramo=='1.030.02')|(anexo14_df.cod_subramo=='1.030.03')]\n",
    "anexo14_df_agrup=anexo14_df.groupby(['cod_cia','año'], as_index=False)['Sub_Total_GP','Sub_total_GE'].sum()"
   ]
  },
  {
   "cell_type": "code",
   "execution_count": 28,
   "metadata": {},
   "outputs": [],
   "source": [
    "# Junto datasets: Anexo 12 + Anexo 13 + Anexo 14\n",
    "\n",
    "Dataset_AUTOM=Dataset_AUTOM.merge(anexo14_df_agrup, how='outer', on=['cod_cia','año'])"
   ]
  },
  {
   "cell_type": "markdown",
   "metadata": {},
   "source": [
    "ANEXO 3"
   ]
  },
  {
   "cell_type": "code",
   "execution_count": 29,
   "metadata": {},
   "outputs": [],
   "source": [
    "anexo3_df=pd.read_excel(r'C:\\Users\\eangenello\\Desktop\\TECNICA\\Python\\input\\AUTOMOTOR\\ANEXO_3.xlsx', usecols='A:E,G')\n",
    "anexo3_df.cod_cia=anexo3_df.cod_cia.astype('O')\n",
    "\n",
    "anexo3_df=anexo3_df[(anexo3_df.cod_subramo=='1.030.01')|(anexo3_df.cod_subramo=='1.030.02')|(anexo3_df.cod_subramo=='1.030.03')]\n",
    "anexo3_df_agrup=anexo3_df.groupby(['cod_cia','año'], as_index=False)['Premios_a_Cobrar','Prevision_para_Incobrabilidad'].sum()"
   ]
  },
  {
   "cell_type": "code",
   "execution_count": 30,
   "metadata": {},
   "outputs": [
    {
     "data": {
      "text/html": [
       "<div>\n",
       "<style scoped>\n",
       "    .dataframe tbody tr th:only-of-type {\n",
       "        vertical-align: middle;\n",
       "    }\n",
       "\n",
       "    .dataframe tbody tr th {\n",
       "        vertical-align: top;\n",
       "    }\n",
       "\n",
       "    .dataframe thead th {\n",
       "        text-align: right;\n",
       "    }\n",
       "</style>\n",
       "<table border=\"1\" class=\"dataframe\">\n",
       "  <thead>\n",
       "    <tr style=\"text-align: right;\">\n",
       "      <th></th>\n",
       "      <th>cod_cia</th>\n",
       "      <th>des_cia</th>\n",
       "      <th>año</th>\n",
       "      <th>cod_subramo</th>\n",
       "      <th>Premios_a_Cobrar</th>\n",
       "      <th>Prevision_para_Incobrabilidad</th>\n",
       "    </tr>\n",
       "  </thead>\n",
       "  <tbody>\n",
       "    <tr>\n",
       "      <th>1514</th>\n",
       "      <td>2</td>\n",
       "      <td>SMG COMPAÑIA ARGENTINA DE SEGUROS S.A.</td>\n",
       "      <td>2014-1</td>\n",
       "      <td>1.030.01</td>\n",
       "      <td>189712844</td>\n",
       "      <td>-2400093</td>\n",
       "    </tr>\n",
       "    <tr>\n",
       "      <th>1515</th>\n",
       "      <td>25</td>\n",
       "      <td>ROYAL &amp; SUN ALLIANCE SEGUROS (ARGENTINA) S.A.</td>\n",
       "      <td>2014-1</td>\n",
       "      <td>1.030.01</td>\n",
       "      <td>948424912</td>\n",
       "      <td>-15141711</td>\n",
       "    </tr>\n",
       "    <tr>\n",
       "      <th>1516</th>\n",
       "      <td>32</td>\n",
       "      <td>BOSTON COMPAÑÍA ARGENTINA DE SEGUROS SOCIEDAD ...</td>\n",
       "      <td>2014-1</td>\n",
       "      <td>1.030.01</td>\n",
       "      <td>85574341</td>\n",
       "      <td>-2474163</td>\n",
       "    </tr>\n",
       "    <tr>\n",
       "      <th>1517</th>\n",
       "      <td>36</td>\n",
       "      <td>ALLIANZ ARGENTINA COMPAÑIA DE SEGUROS S.A.</td>\n",
       "      <td>2014-1</td>\n",
       "      <td>1.030.01</td>\n",
       "      <td>316521017</td>\n",
       "      <td>-7298176</td>\n",
       "    </tr>\n",
       "    <tr>\n",
       "      <th>1518</th>\n",
       "      <td>39</td>\n",
       "      <td>QBE SEGUROS LA BUENOS AIRES SOCIEDAD ANONIMA</td>\n",
       "      <td>2014-1</td>\n",
       "      <td>1.030.01</td>\n",
       "      <td>454123277</td>\n",
       "      <td>-9783150</td>\n",
       "    </tr>\n",
       "  </tbody>\n",
       "</table>\n",
       "</div>"
      ],
      "text/plain": [
       "     cod_cia                                            des_cia     año  \\\n",
       "1514       2             SMG COMPAÑIA ARGENTINA DE SEGUROS S.A.  2014-1   \n",
       "1515      25      ROYAL & SUN ALLIANCE SEGUROS (ARGENTINA) S.A.  2014-1   \n",
       "1516      32  BOSTON COMPAÑÍA ARGENTINA DE SEGUROS SOCIEDAD ...  2014-1   \n",
       "1517      36         ALLIANZ ARGENTINA COMPAÑIA DE SEGUROS S.A.  2014-1   \n",
       "1518      39       QBE SEGUROS LA BUENOS AIRES SOCIEDAD ANONIMA  2014-1   \n",
       "\n",
       "     cod_subramo  Premios_a_Cobrar  Prevision_para_Incobrabilidad  \n",
       "1514    1.030.01         189712844                       -2400093  \n",
       "1515    1.030.01         948424912                      -15141711  \n",
       "1516    1.030.01          85574341                       -2474163  \n",
       "1517    1.030.01         316521017                       -7298176  \n",
       "1518    1.030.01         454123277                       -9783150  "
      ]
     },
     "execution_count": 30,
     "metadata": {},
     "output_type": "execute_result"
    }
   ],
   "source": [
    "anexo3_df.head()"
   ]
  },
  {
   "cell_type": "code",
   "execution_count": 31,
   "metadata": {},
   "outputs": [],
   "source": [
    "# Junto datasets: Anexo 12 + Anexo 13 + Anexo 14 + Anexo 3\n",
    "\n",
    "Dataset_AUTOM=Dataset_AUTOM.merge(anexo3_df_agrup, how='outer', on=['cod_cia','año'])"
   ]
  },
  {
   "cell_type": "markdown",
   "metadata": {},
   "source": [
    "ANEXO 8"
   ]
  },
  {
   "cell_type": "code",
   "execution_count": 32,
   "metadata": {},
   "outputs": [],
   "source": [
    "anexo8_df=pd.read_excel(r'C:\\Users\\eangenello\\Desktop\\TECNICA\\Python\\input\\AUTOMOTOR\\ANEXO_8.xlsx', usecols='A:H')\n",
    "anexo8_df.cod_cia=anexo8_df.cod_cia.astype('O')\n",
    "\n",
    "anexo8_df=anexo8_df[(anexo8_df.cod_subramo=='1.030.01')|(anexo8_df.cod_subramo=='1.030.02')|(anexo8_df.cod_subramo=='1.030.03')]\n",
    "anexo8_df_agrup=anexo8_df.groupby(['cod_cia','año'], as_index=False)['RSP_Administrativos','RSP_Juicios','RSP_Mediaciones', 'IBNR'].sum()"
   ]
  },
  {
   "cell_type": "code",
   "execution_count": 33,
   "metadata": {},
   "outputs": [],
   "source": [
    "# Junto datasets: Anexo 12 + Anexo 13 + Anexo 14 + Anexo 3 + Anexo 8\n",
    "\n",
    "Dataset_AUTOM=Dataset_AUTOM.merge(anexo8_df_agrup, how='outer', on=['cod_cia','año'])"
   ]
  },
  {
   "cell_type": "markdown",
   "metadata": {},
   "source": [
    "ANEXO 11"
   ]
  },
  {
   "cell_type": "code",
   "execution_count": 34,
   "metadata": {},
   "outputs": [],
   "source": [
    "anexo11_df=pd.read_excel(r'C:\\Users\\eangenello\\Desktop\\TECNICA\\Python\\input\\AUTOMOTOR\\ANEXO_11.xlsx', usecols='A:D,H')\n",
    "anexo11_df.cod_cia=anexo11_df.cod_cia.astype('O')\n",
    "\n",
    "anexo11_df=anexo11_df[(anexo11_df.cod_subramo=='1.030.01')|(anexo11_df.cod_subramo=='1.030.02')|(anexo11_df.cod_subramo=='1.030.03')]\n",
    "anexo11_df_agrup=anexo11_df.groupby(['cod_cia','año'], as_index=False)['Reserva_Tecnica_por_Insuficiencia_de_Primas'].sum()"
   ]
  },
  {
   "cell_type": "code",
   "execution_count": 35,
   "metadata": {},
   "outputs": [],
   "source": [
    "# Junto datasets: Anexo 12 + Anexo 13 + Anexo 14 + Anexo 3 + Anexo 8 + Anexo 11\n",
    "\n",
    "Dataset_AUTOM=Dataset_AUTOM.merge(anexo11_df_agrup, how='outer', on=['cod_cia','año'])"
   ]
  },
  {
   "cell_type": "markdown",
   "metadata": {},
   "source": [
    "Cantidad de Vehículos Expuestos"
   ]
  },
  {
   "cell_type": "code",
   "execution_count": 36,
   "metadata": {},
   "outputs": [],
   "source": [
    "ve_exp_df=pd.read_excel(r'C:\\Users\\eangenello\\Desktop\\TECNICA\\Python\\input\\AUTOMOTOR\\Cantidad de Vehículos Expuestos.xlsx')"
   ]
  },
  {
   "cell_type": "code",
   "execution_count": 37,
   "metadata": {},
   "outputs": [],
   "source": [
    "# Junto datasets: Anexo 12 + Anexo 13 + Anexo 14 + Anexo 3 + Anexo 8 + Anexo 11 + Cantidad de Vehículos Expuestos \n",
    "\n",
    "Dataset_AUTOM=Dataset_AUTOM.merge(ve_exp_df, how='outer', on=['cod_cia','año'])"
   ]
  },
  {
   "cell_type": "markdown",
   "metadata": {},
   "source": [
    "Cantidad de Juicios por Ramo"
   ]
  },
  {
   "cell_type": "code",
   "execution_count": 38,
   "metadata": {},
   "outputs": [],
   "source": [
    "cant_jui_df=pd.read_excel(r'C:\\Users\\eangenello\\Desktop\\TECNICA\\Python\\output\\Cantidad de juicios automotor.xlsx')"
   ]
  },
  {
   "cell_type": "code",
   "execution_count": 39,
   "metadata": {},
   "outputs": [
    {
     "data": {
      "text/html": [
       "<div>\n",
       "<style scoped>\n",
       "    .dataframe tbody tr th:only-of-type {\n",
       "        vertical-align: middle;\n",
       "    }\n",
       "\n",
       "    .dataframe tbody tr th {\n",
       "        vertical-align: top;\n",
       "    }\n",
       "\n",
       "    .dataframe thead th {\n",
       "        text-align: right;\n",
       "    }\n",
       "</style>\n",
       "<table border=\"1\" class=\"dataframe\">\n",
       "  <thead>\n",
       "    <tr style=\"text-align: right;\">\n",
       "      <th></th>\n",
       "      <th>cod_cia</th>\n",
       "      <th>año</th>\n",
       "      <th>Juicios</th>\n",
       "    </tr>\n",
       "  </thead>\n",
       "  <tbody>\n",
       "    <tr>\n",
       "      <th>0</th>\n",
       "      <td>2</td>\n",
       "      <td>2017-4</td>\n",
       "      <td>1024</td>\n",
       "    </tr>\n",
       "    <tr>\n",
       "      <th>1</th>\n",
       "      <td>2</td>\n",
       "      <td>2018-1</td>\n",
       "      <td>1079</td>\n",
       "    </tr>\n",
       "    <tr>\n",
       "      <th>2</th>\n",
       "      <td>2</td>\n",
       "      <td>2018-2</td>\n",
       "      <td>1191</td>\n",
       "    </tr>\n",
       "    <tr>\n",
       "      <th>3</th>\n",
       "      <td>2</td>\n",
       "      <td>2018-3</td>\n",
       "      <td>1281</td>\n",
       "    </tr>\n",
       "    <tr>\n",
       "      <th>4</th>\n",
       "      <td>2</td>\n",
       "      <td>2018-4</td>\n",
       "      <td>1385</td>\n",
       "    </tr>\n",
       "  </tbody>\n",
       "</table>\n",
       "</div>"
      ],
      "text/plain": [
       "   cod_cia     año  Juicios\n",
       "0        2  2017-4     1024\n",
       "1        2  2018-1     1079\n",
       "2        2  2018-2     1191\n",
       "3        2  2018-3     1281\n",
       "4        2  2018-4     1385"
      ]
     },
     "execution_count": 39,
     "metadata": {},
     "output_type": "execute_result"
    }
   ],
   "source": [
    "cant_jui_df.head()"
   ]
  },
  {
   "cell_type": "code",
   "execution_count": 40,
   "metadata": {},
   "outputs": [],
   "source": [
    "# Junto datasets: Anexo 12 + Anexo 13 + Anexo 14 + Anexo 3 + Anexo 8 + Anexo 11 + Cantidad de Vehículos Expuestos + Cantidad de Juicios\n",
    "\n",
    "Dataset_AUTOM=Dataset_AUTOM.merge(cant_jui_df, how='left', on=['cod_cia','año'])"
   ]
  },
  {
   "cell_type": "code",
   "execution_count": null,
   "metadata": {},
   "outputs": [],
   "source": []
  },
  {
   "cell_type": "markdown",
   "metadata": {},
   "source": [
    "Compañías"
   ]
  },
  {
   "cell_type": "code",
   "execution_count": 41,
   "metadata": {},
   "outputs": [],
   "source": [
    "# Importo nombre compañías\n",
    "\n",
    "Dataset_compañías=pd.read_excel(r'C:\\Users\\eangenello\\Desktop\\TECNICA\\Python\\input\\AUTOMOTOR\\desc_cia.xlsx', sheet_name='AM')"
   ]
  },
  {
   "cell_type": "code",
   "execution_count": 42,
   "metadata": {},
   "outputs": [],
   "source": [
    "Dataset_AUTOM=Dataset_AUTOM.merge(Dataset_compañías, how='left', on='cod_cia')"
   ]
  },
  {
   "cell_type": "code",
   "execution_count": 43,
   "metadata": {},
   "outputs": [],
   "source": [
    "# Filtro compañías activas\n",
    "\n",
    "comp_act=pd.read_excel(r'C:\\Users\\eangenello\\Desktop\\TECNICA\\Python\\input\\AUTOMOTOR\\cias_activas.xlsx')"
   ]
  },
  {
   "cell_type": "code",
   "execution_count": 44,
   "metadata": {},
   "outputs": [],
   "source": [
    "Dataset_AUTOM=Dataset_AUTOM.merge(comp_act, how='inner', on='cod_cia')"
   ]
  },
  {
   "cell_type": "code",
   "execution_count": 45,
   "metadata": {},
   "outputs": [],
   "source": [
    "cias=[6,202,227,381,404,574,812,820,821,829,855,857,858,744]\n",
    "\n",
    "Dataset_AUTOM['cias_activas']=[1 if np.isin(Dataset_AUTOM.cod_cia.iloc[i],cias)==True else 0 for i in range(len(Dataset_AUTOM.index))]\n",
    "\n",
    "Dataset_AUTOM=Dataset_AUTOM[(Dataset_AUTOM.cias_activas==0)]\n"
   ]
  },
  {
   "cell_type": "markdown",
   "metadata": {},
   "source": [
    "Filtros y Preparación final"
   ]
  },
  {
   "cell_type": "code",
   "execution_count": 46,
   "metadata": {},
   "outputs": [],
   "source": [
    "Dataset_AUTOM['year'] = pd.DatetimeIndex(Dataset_AUTOM['año']).year"
   ]
  },
  {
   "cell_type": "code",
   "execution_count": 47,
   "metadata": {},
   "outputs": [],
   "source": [
    "Dataset_AUTOM= Dataset_AUTOM.drop(Dataset_AUTOM[Dataset_AUTOM.year < 2017].index)"
   ]
  },
  {
   "cell_type": "code",
   "execution_count": 48,
   "metadata": {},
   "outputs": [],
   "source": [
    "Dataset_AUTOM= Dataset_AUTOM.drop(Dataset_AUTOM[Dataset_AUTOM['año']=='2017-1'].index)\n",
    "Dataset_AUTOM= Dataset_AUTOM.drop(Dataset_AUTOM[Dataset_AUTOM['año']=='2017-2'].index)\n",
    "Dataset_AUTOM= Dataset_AUTOM.drop(Dataset_AUTOM[Dataset_AUTOM['año']=='2017-3'].index)"
   ]
  },
  {
   "cell_type": "code",
   "execution_count": 49,
   "metadata": {},
   "outputs": [
    {
     "data": {
      "text/plain": [
       "['cod_cia',\n",
       " 'año',\n",
       " 'Primas_Emitidas_Desagregadas',\n",
       " 'Primas_Emitidas_Desagregadas_Totales',\n",
       " 'Primas_Emitidas',\n",
       " 'Primas_Devengadas_Total',\n",
       " 'Siniestros_pagados netos',\n",
       " 'Siniestros_devengados',\n",
       " 'Sub_Total_GP',\n",
       " 'Sub_total_GE',\n",
       " 'Premios_a_Cobrar',\n",
       " 'Prevision_para_Incobrabilidad',\n",
       " 'RSP_Administrativos',\n",
       " 'RSP_Juicios',\n",
       " 'RSP_Mediaciones',\n",
       " 'IBNR',\n",
       " 'Reserva_Tecnica_por_Insuficiencia_de_Primas',\n",
       " 'cantidad_vehiculos',\n",
       " 'Juicios',\n",
       " 'des_cia',\n",
       " 'denominacion_corta',\n",
       " 'cias_activas',\n",
       " 'year']"
      ]
     },
     "execution_count": 49,
     "metadata": {},
     "output_type": "execute_result"
    }
   ],
   "source": [
    "cols = list(Dataset_AUTOM.columns.values)\n",
    "cols"
   ]
  },
  {
   "cell_type": "code",
   "execution_count": 50,
   "metadata": {},
   "outputs": [],
   "source": [
    "# Reordeno las columnas\n",
    "reord= ['cod_cia', \n",
    " 'denominacion_corta',\n",
    " 'des_cia',\n",
    " 'año',\n",
    " 'Primas_Emitidas_Desagregadas',\n",
    " 'Primas_Emitidas_Desagregadas_Totales',\n",
    " 'Primas_Emitidas',\n",
    " 'Primas_Devengadas_Total',\n",
    " 'Siniestros_pagados netos',\n",
    " 'Siniestros_devengados',\n",
    " 'Sub_Total_GP',\n",
    " 'Sub_total_GE',\n",
    " 'Premios_a_Cobrar',\n",
    " 'Prevision_para_Incobrabilidad',\n",
    " 'RSP_Administrativos',\n",
    " 'RSP_Juicios',\n",
    " 'RSP_Mediaciones',\n",
    " 'IBNR',\n",
    " 'Reserva_Tecnica_por_Insuficiencia_de_Primas',\n",
    " 'cantidad_vehiculos',\n",
    " 'Juicios']\n",
    "\n",
    "Dataset_AUTOM=Dataset_AUTOM[reord]"
   ]
  },
  {
   "cell_type": "code",
   "execution_count": 51,
   "metadata": {},
   "outputs": [],
   "source": [
    "# Reemplaza los missing por nulos\n",
    "\n",
    "Dataset_AUTOM=Dataset_AUTOM.replace(to_replace=np.nan, value=0)"
   ]
  },
  {
   "cell_type": "code",
   "execution_count": 52,
   "metadata": {},
   "outputs": [],
   "source": [
    "Dataset_AUTOM.to_excel(r'C:\\Users\\eangenello\\Desktop\\TECNICA\\Python\\output\\Dataset_AUTOM.xlsx', sheet_name='Dataset_AUTOM', index=False)"
   ]
  },
  {
   "cell_type": "code",
   "execution_count": null,
   "metadata": {},
   "outputs": [],
   "source": []
  },
  {
   "cell_type": "code",
   "execution_count": null,
   "metadata": {},
   "outputs": [],
   "source": []
  }
 ],
 "metadata": {
  "kernelspec": {
   "display_name": "Python 3",
   "language": "python",
   "name": "python3"
  },
  "language_info": {
   "codemirror_mode": {
    "name": "ipython",
    "version": 3
   },
   "file_extension": ".py",
   "mimetype": "text/x-python",
   "name": "python",
   "nbconvert_exporter": "python",
   "pygments_lexer": "ipython3",
   "version": "3.7.0"
  }
 },
 "nbformat": 4,
 "nbformat_minor": 2
}
