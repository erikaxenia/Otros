{
 "cells": [
  {
   "cell_type": "code",
   "execution_count": 1,
   "metadata": {
    "collapsed": true
   },
   "outputs": [],
   "source": [
    "import numpy as np\n",
    "import scipy as sp\n",
    "import pandas as pd\n",
    "import matplotlib.pyplot as plt\n",
    "import seaborn as sns\n",
    "import math\n",
    "import time\n",
    "import datetime\n",
    "\n",
    "%matplotlib inline\n",
    "\n",
    "\n",
    "#pd.options.display.max_rows = 10\n",
    "pd.options.display.float_format = '{:,.2f}'.format\n",
    "plt.rcParams['figure.figsize'] = (7, 5)"
   ]
  },
  {
   "cell_type": "markdown",
   "metadata": {},
   "source": [
    "## JUICIOS ABIERTOS RE.NA.LI."
   ]
  },
  {
   "cell_type": "code",
   "execution_count": 2,
   "metadata": {
    "collapsed": true
   },
   "outputs": [],
   "source": [
    "#Importo la base\n",
    "\n",
    "base=pd.read_excel(r'C:\\Users\\eangenello\\Desktop\\TECNICA\\Python\\input\\ART\\Juicios abiertos al 31-03-19 - SSN.xlsx')"
   ]
  },
  {
   "cell_type": "code",
   "execution_count": 3,
   "metadata": {},
   "outputs": [
    {
     "data": {
      "text/html": [
       "<div>\n",
       "<style scoped>\n",
       "    .dataframe tbody tr th:only-of-type {\n",
       "        vertical-align: middle;\n",
       "    }\n",
       "\n",
       "    .dataframe tbody tr th {\n",
       "        vertical-align: top;\n",
       "    }\n",
       "\n",
       "    .dataframe thead th {\n",
       "        text-align: right;\n",
       "    }\n",
       "</style>\n",
       "<table border=\"1\" class=\"dataframe\">\n",
       "  <thead>\n",
       "    <tr style=\"text-align: right;\">\n",
       "      <th></th>\n",
       "      <th>Aseguradora</th>\n",
       "      <th>NROEXPJUDICIAL</th>\n",
       "      <th>CARATULA</th>\n",
       "      <th>F_notificacion</th>\n",
       "      <th>DPTOJUDICIAL</th>\n",
       "      <th>Fuero</th>\n",
       "      <th>Juzgado</th>\n",
       "      <th>provincia</th>\n",
       "      <th>CUIT</th>\n",
       "      <th>Empleador</th>\n",
       "      <th>NSINIESTRO</th>\n",
       "      <th>MONTO RECLAMADO INDETERMINADO</th>\n",
       "      <th>MONTO RECLAMADO</th>\n",
       "      <th>SENTPRIMERA</th>\n",
       "      <th>Contingencia reclamada</th>\n",
       "      <th>Enfermedad Reclamada</th>\n",
       "      <th>Objeto de reclamo</th>\n",
       "      <th>Objeto de reclamo Clasificado</th>\n",
       "      <th>F_siniestro</th>\n",
       "    </tr>\n",
       "  </thead>\n",
       "  <tbody>\n",
       "    <tr>\n",
       "      <th>0</th>\n",
       "      <td>ASOCIART</td>\n",
       "      <td>0168-0000027680/18</td>\n",
       "      <td>MOREYRA ELSA GRACIELA C/ ASOCIART S.A. ART S/ ...</td>\n",
       "      <td>2018-09-03</td>\n",
       "      <td>168</td>\n",
       "      <td>LABORAL</td>\n",
       "      <td>NACIONAL DE 1ª INSTANCIA DEL TRABAJO Nº 36</td>\n",
       "      <td>C.A.B.A.</td>\n",
       "      <td>20040974041</td>\n",
       "      <td>RUDELIR JAIME JOSE                            ...</td>\n",
       "      <td>411888201603390976</td>\n",
       "      <td>N</td>\n",
       "      <td>206,700.00</td>\n",
       "      <td>nan</td>\n",
       "      <td>Accidentes in itinere.</td>\n",
       "      <td>NaN</td>\n",
       "      <td>LRT - Prestación dineraria</td>\n",
       "      <td>LRT</td>\n",
       "      <td>2016-08-11</td>\n",
       "    </tr>\n",
       "    <tr>\n",
       "      <th>1</th>\n",
       "      <td>ASOCIART</td>\n",
       "      <td>0847-0000015008/17</td>\n",
       "      <td>VILAS NICOLAS ALEJANDRO C/ ASOCIART S.A. ART S...</td>\n",
       "      <td>2017-06-15</td>\n",
       "      <td>847</td>\n",
       "      <td>LABORAL</td>\n",
       "      <td>TRIBUNAL DEL TRABAJO DE BRAGADO</td>\n",
       "      <td>BS.AS.</td>\n",
       "      <td>20042360091</td>\n",
       "      <td>LYNCH RICARDO FLORENCIO                       ...</td>\n",
       "      <td>411327201603256000</td>\n",
       "      <td>N</td>\n",
       "      <td>384,595.75</td>\n",
       "      <td>nan</td>\n",
       "      <td>Accidentes de trabajo.</td>\n",
       "      <td>NaN</td>\n",
       "      <td>LRT - Prestación dineraria</td>\n",
       "      <td>LRT</td>\n",
       "      <td>2016-08-21</td>\n",
       "    </tr>\n",
       "    <tr>\n",
       "      <th>2</th>\n",
       "      <td>ASOCIART</td>\n",
       "      <td>0186-0000050377/14</td>\n",
       "      <td>DOPAZO JULIO HORACIO C/ ASOCIART S.A. ART Y OT...</td>\n",
       "      <td>2015-03-18</td>\n",
       "      <td>186</td>\n",
       "      <td>LABORAL</td>\n",
       "      <td>NACIONAL DE 1ª INSTANCIA DEL TRABAJO Nº 54</td>\n",
       "      <td>C.A.B.A.</td>\n",
       "      <td>20041475073</td>\n",
       "      <td>RACHID HUGO OMAR RENEE                        ...</td>\n",
       "      <td>214212200704480992</td>\n",
       "      <td>N</td>\n",
       "      <td>1,825,162.04</td>\n",
       "      <td>nan</td>\n",
       "      <td>Accidentes de trabajo.</td>\n",
       "      <td>NaN</td>\n",
       "      <td>CC - Art. 1072</td>\n",
       "      <td>CC</td>\n",
       "      <td>2007-09-28</td>\n",
       "    </tr>\n",
       "    <tr>\n",
       "      <th>3</th>\n",
       "      <td>ASOCIART</td>\n",
       "      <td>0193-0000003142/14</td>\n",
       "      <td>BENAVIDEZ JAVIER LEOCADIO C/ ASOCIART S.A. ART...</td>\n",
       "      <td>2014-04-07</td>\n",
       "      <td>193</td>\n",
       "      <td>LABORAL</td>\n",
       "      <td>NACIONAL DE 1ª INSTANCIA DEL TRABAJO Nº 61</td>\n",
       "      <td>C.A.B.A.</td>\n",
       "      <td>20042851567</td>\n",
       "      <td>MAGGI PEDRO JUAN                              ...</td>\n",
       "      <td>12209845201005400064</td>\n",
       "      <td>N</td>\n",
       "      <td>815,000.00</td>\n",
       "      <td>nan</td>\n",
       "      <td>Accidentes de trabajo.</td>\n",
       "      <td>NaN</td>\n",
       "      <td>CC - Art. 1072</td>\n",
       "      <td>CC</td>\n",
       "      <td>2010-12-15</td>\n",
       "    </tr>\n",
       "    <tr>\n",
       "      <th>4</th>\n",
       "      <td>ASOCIART</td>\n",
       "      <td>0169-0000026113/18</td>\n",
       "      <td>JESUS DA SILVA RAMONA MARGARITA C/ ASOCIART AR...</td>\n",
       "      <td>2018-10-16</td>\n",
       "      <td>169</td>\n",
       "      <td>LABORAL</td>\n",
       "      <td>NACIONAL DE 1ª INSTANCIA DEL TRABAJO Nº 37</td>\n",
       "      <td>C.A.B.A.</td>\n",
       "      <td>20018204992</td>\n",
       "      <td>TODOLI ALBERTO                                ...</td>\n",
       "      <td>415907201604384000</td>\n",
       "      <td>N</td>\n",
       "      <td>230,232.00</td>\n",
       "      <td>nan</td>\n",
       "      <td>Accidentes de trabajo.</td>\n",
       "      <td>NaN</td>\n",
       "      <td>LRT - Prestación dineraria</td>\n",
       "      <td>LRT</td>\n",
       "      <td>2016-11-04</td>\n",
       "    </tr>\n",
       "  </tbody>\n",
       "</table>\n",
       "</div>"
      ],
      "text/plain": [
       "  Aseguradora      NROEXPJUDICIAL  \\\n",
       "0    ASOCIART  0168-0000027680/18   \n",
       "1    ASOCIART  0847-0000015008/17   \n",
       "2    ASOCIART  0186-0000050377/14   \n",
       "3    ASOCIART  0193-0000003142/14   \n",
       "4    ASOCIART  0169-0000026113/18   \n",
       "\n",
       "                                            CARATULA F_notificacion  \\\n",
       "0  MOREYRA ELSA GRACIELA C/ ASOCIART S.A. ART S/ ...     2018-09-03   \n",
       "1  VILAS NICOLAS ALEJANDRO C/ ASOCIART S.A. ART S...     2017-06-15   \n",
       "2  DOPAZO JULIO HORACIO C/ ASOCIART S.A. ART Y OT...     2015-03-18   \n",
       "3  BENAVIDEZ JAVIER LEOCADIO C/ ASOCIART S.A. ART...     2014-04-07   \n",
       "4  JESUS DA SILVA RAMONA MARGARITA C/ ASOCIART AR...     2018-10-16   \n",
       "\n",
       "   DPTOJUDICIAL    Fuero                                     Juzgado  \\\n",
       "0           168  LABORAL  NACIONAL DE 1ª INSTANCIA DEL TRABAJO Nº 36   \n",
       "1           847  LABORAL             TRIBUNAL DEL TRABAJO DE BRAGADO   \n",
       "2           186  LABORAL  NACIONAL DE 1ª INSTANCIA DEL TRABAJO Nº 54   \n",
       "3           193  LABORAL  NACIONAL DE 1ª INSTANCIA DEL TRABAJO Nº 61   \n",
       "4           169  LABORAL  NACIONAL DE 1ª INSTANCIA DEL TRABAJO Nº 37   \n",
       "\n",
       "   provincia         CUIT                                          Empleador  \\\n",
       "0  C.A.B.A.   20040974041  RUDELIR JAIME JOSE                            ...   \n",
       "1  BS.AS.     20042360091  LYNCH RICARDO FLORENCIO                       ...   \n",
       "2  C.A.B.A.   20041475073  RACHID HUGO OMAR RENEE                        ...   \n",
       "3  C.A.B.A.   20042851567  MAGGI PEDRO JUAN                              ...   \n",
       "4  C.A.B.A.   20018204992  TODOLI ALBERTO                                ...   \n",
       "\n",
       "             NSINIESTRO MONTO RECLAMADO INDETERMINADO  MONTO RECLAMADO  \\\n",
       "0    411888201603390976                             N       206,700.00   \n",
       "1    411327201603256000                             N       384,595.75   \n",
       "2    214212200704480992                             N     1,825,162.04   \n",
       "3  12209845201005400064                             N       815,000.00   \n",
       "4    415907201604384000                             N       230,232.00   \n",
       "\n",
       "   SENTPRIMERA  Contingencia reclamada Enfermedad Reclamada  \\\n",
       "0          nan  Accidentes in itinere.                  NaN   \n",
       "1          nan  Accidentes de trabajo.                  NaN   \n",
       "2          nan  Accidentes de trabajo.                  NaN   \n",
       "3          nan  Accidentes de trabajo.                  NaN   \n",
       "4          nan  Accidentes de trabajo.                  NaN   \n",
       "\n",
       "            Objeto de reclamo Objeto de reclamo Clasificado F_siniestro  \n",
       "0  LRT - Prestación dineraria                           LRT  2016-08-11  \n",
       "1  LRT - Prestación dineraria                           LRT  2016-08-21  \n",
       "2              CC - Art. 1072                            CC  2007-09-28  \n",
       "3              CC - Art. 1072                            CC  2010-12-15  \n",
       "4  LRT - Prestación dineraria                           LRT  2016-11-04  "
      ]
     },
     "execution_count": 3,
     "metadata": {},
     "output_type": "execute_result"
    }
   ],
   "source": [
    "# Visualizo los primeros datos\n",
    "\n",
    "base.head()"
   ]
  },
  {
   "cell_type": "code",
   "execution_count": 4,
   "metadata": {},
   "outputs": [
    {
     "data": {
      "text/plain": [
       "Aseguradora                              object\n",
       "NROEXPJUDICIAL                           object\n",
       "CARATULA                                 object\n",
       "F_notificacion                   datetime64[ns]\n",
       "DPTOJUDICIAL                              int64\n",
       "Fuero                                    object\n",
       "Juzgado                                  object\n",
       "provincia                                object\n",
       "CUIT                                     object\n",
       "Empleador                                object\n",
       "NSINIESTRO                               object\n",
       "MONTO RECLAMADO INDETERMINADO            object\n",
       "MONTO RECLAMADO                         float64\n",
       "SENTPRIMERA                             float64\n",
       "Contingencia reclamada                   object\n",
       "Enfermedad Reclamada                     object\n",
       "Objeto de reclamo                        object\n",
       "Objeto de reclamo Clasificado            object\n",
       "F_siniestro                      datetime64[ns]\n",
       "dtype: object"
      ]
     },
     "execution_count": 4,
     "metadata": {},
     "output_type": "execute_result"
    }
   ],
   "source": [
    "# Veo el tipo de cada variable\n",
    "\n",
    "base.dtypes"
   ]
  },
  {
   "cell_type": "code",
   "execution_count": 5,
   "metadata": {
    "collapsed": true
   },
   "outputs": [],
   "source": [
    "#Cambio el tipo de dato\n",
    "\n",
    "base['DPTOJUDICIAL'] = base['DPTOJUDICIAL'].astype(object)\n",
    "base['SENTPRIMERA'] = base['SENTPRIMERA'].astype(object)"
   ]
  },
  {
   "cell_type": "code",
   "execution_count": 6,
   "metadata": {
    "collapsed": true
   },
   "outputs": [],
   "source": [
    "Dataset_compañías=pd.read_excel(r'C:\\Users\\eangenello\\Desktop\\TECNICA\\Python\\input\\ART\\Dataset_Compañías.xlsx', sheet_name='Sentencias')\n",
    "\n",
    "base=base.merge(Dataset_compañías, how='inner', on='Aseguradora')"
   ]
  },
  {
   "cell_type": "code",
   "execution_count": 7,
   "metadata": {},
   "outputs": [
    {
     "data": {
      "text/html": [
       "<div>\n",
       "<style scoped>\n",
       "    .dataframe tbody tr th:only-of-type {\n",
       "        vertical-align: middle;\n",
       "    }\n",
       "\n",
       "    .dataframe tbody tr th {\n",
       "        vertical-align: top;\n",
       "    }\n",
       "\n",
       "    .dataframe thead th {\n",
       "        text-align: right;\n",
       "    }\n",
       "</style>\n",
       "<table border=\"1\" class=\"dataframe\">\n",
       "  <thead>\n",
       "    <tr style=\"text-align: right;\">\n",
       "      <th></th>\n",
       "      <th>MONTO RECLAMADO</th>\n",
       "      <th>cod_cia</th>\n",
       "    </tr>\n",
       "  </thead>\n",
       "  <tbody>\n",
       "    <tr>\n",
       "      <th>count</th>\n",
       "      <td>308,208.00</td>\n",
       "      <td>330,567.00</td>\n",
       "    </tr>\n",
       "    <tr>\n",
       "      <th>mean</th>\n",
       "      <td>619,633.80</td>\n",
       "      <td>621.68</td>\n",
       "    </tr>\n",
       "    <tr>\n",
       "      <th>std</th>\n",
       "      <td>1,840,549.17</td>\n",
       "      <td>95.48</td>\n",
       "    </tr>\n",
       "    <tr>\n",
       "      <th>min</th>\n",
       "      <td>0.00</td>\n",
       "      <td>7.00</td>\n",
       "    </tr>\n",
       "    <tr>\n",
       "      <th>25%</th>\n",
       "      <td>168,115.75</td>\n",
       "      <td>618.00</td>\n",
       "    </tr>\n",
       "    <tr>\n",
       "      <th>50%</th>\n",
       "      <td>364,572.20</td>\n",
       "      <td>619.00</td>\n",
       "    </tr>\n",
       "    <tr>\n",
       "      <th>75%</th>\n",
       "      <td>714,292.35</td>\n",
       "      <td>621.00</td>\n",
       "    </tr>\n",
       "    <tr>\n",
       "      <th>max</th>\n",
       "      <td>480,480,000.00</td>\n",
       "      <td>862.00</td>\n",
       "    </tr>\n",
       "  </tbody>\n",
       "</table>\n",
       "</div>"
      ],
      "text/plain": [
       "       MONTO RECLAMADO    cod_cia\n",
       "count       308,208.00 330,567.00\n",
       "mean        619,633.80     621.68\n",
       "std       1,840,549.17      95.48\n",
       "min               0.00       7.00\n",
       "25%         168,115.75     618.00\n",
       "50%         364,572.20     619.00\n",
       "75%         714,292.35     621.00\n",
       "max     480,480,000.00     862.00"
      ]
     },
     "execution_count": 7,
     "metadata": {},
     "output_type": "execute_result"
    }
   ],
   "source": [
    "# Veo la distribución de las variables numéricas\n",
    "\n",
    "base.describe()"
   ]
  },
  {
   "cell_type": "code",
   "execution_count": 8,
   "metadata": {
    "scrolled": true
   },
   "outputs": [
    {
     "data": {
      "text/plain": [
       "<matplotlib.axes._subplots.AxesSubplot at 0x2630748ed30>"
      ]
     },
     "execution_count": 8,
     "metadata": {},
     "output_type": "execute_result"
    },
    {
     "data": {
      "image/png": "[encoded data removed]",
      "text/plain": [
       "<Figure size 432x288 with 1 Axes>"
      ]
     },
     "metadata": {
      "needs_background": "light"
     },
     "output_type": "display_data"
    }
   ],
   "source": [
    "base['MONTO RECLAMADO'].plot()"
   ]
  },
  {
   "cell_type": "markdown",
   "metadata": {},
   "source": [
    "### Imputación de valores missing"
   ]
  },
  {
   "cell_type": "code",
   "execution_count": 9,
   "metadata": {},
   "outputs": [
    {
     "data": {
      "text/plain": [
       "22359"
      ]
     },
     "execution_count": 9,
     "metadata": {},
     "output_type": "execute_result"
    }
   ],
   "source": [
    "# Veo la cantidad de missing en la variable 'Monto Reclamado'\n",
    "\n",
    "base['MONTO RECLAMADO'].isna().sum()"
   ]
  },
  {
   "cell_type": "code",
   "execution_count": 10,
   "metadata": {
    "scrolled": true
   },
   "outputs": [
    {
     "name": "stdout",
     "output_type": "stream",
     "text": [
      "Aseguradora\n",
      "\n",
      "False    330567\n",
      "Name: Aseguradora, dtype: int64\n",
      "\n",
      "NROEXPJUDICIAL\n",
      "\n",
      "False    330567\n",
      "Name: NROEXPJUDICIAL, dtype: int64\n",
      "\n",
      "CARATULA\n",
      "\n",
      "False    330567\n",
      "Name: CARATULA, dtype: int64\n",
      "\n",
      "F_notificacion\n",
      "\n",
      "False    330567\n",
      "Name: F_notificacion, dtype: int64\n",
      "\n",
      "DPTOJUDICIAL\n",
      "\n",
      "False    330567\n",
      "Name: DPTOJUDICIAL, dtype: int64\n",
      "\n",
      "Fuero\n",
      "\n",
      "False    330567\n",
      "Name: Fuero, dtype: int64\n",
      "\n",
      "Juzgado\n",
      "\n",
      "False    330567\n",
      "Name: Juzgado, dtype: int64\n",
      "\n",
      "provincia\n",
      "\n",
      "False    330567\n",
      "Name: provincia, dtype: int64\n",
      "\n",
      "CUIT\n",
      "\n",
      "False    329743\n",
      "True        824\n",
      "Name: CUIT, dtype: int64\n",
      "\n",
      "Empleador\n",
      "\n",
      "False    329676\n",
      "True        891\n",
      "Name: Empleador, dtype: int64\n",
      "\n",
      "NSINIESTRO\n",
      "\n",
      "False    330567\n",
      "Name: NSINIESTRO, dtype: int64\n",
      "\n",
      "MONTO RECLAMADO INDETERMINADO\n",
      "\n",
      "False    284003\n",
      "True      46564\n",
      "Name: MONTO RECLAMADO INDETERMINADO, dtype: int64\n",
      "\n",
      "MONTO RECLAMADO\n",
      "\n",
      "False    308208\n",
      "True      22359\n",
      "Name: MONTO RECLAMADO, dtype: int64\n",
      "\n",
      "SENTPRIMERA\n",
      "\n",
      "True    330567\n",
      "Name: SENTPRIMERA, dtype: int64\n",
      "\n",
      "Contingencia reclamada\n",
      "\n",
      "False    330133\n",
      "True        434\n",
      "Name: Contingencia reclamada, dtype: int64\n",
      "\n",
      "Enfermedad Reclamada\n",
      "\n",
      "True     230983\n",
      "False     99584\n",
      "Name: Enfermedad Reclamada, dtype: int64\n",
      "\n",
      "Objeto de reclamo\n",
      "\n",
      "False    329539\n",
      "True       1028\n",
      "Name: Objeto de reclamo, dtype: int64\n",
      "\n",
      "Objeto de reclamo Clasificado\n",
      "\n",
      "False    330567\n",
      "Name: Objeto de reclamo Clasificado, dtype: int64\n",
      "\n",
      "F_siniestro\n",
      "\n",
      "False    320135\n",
      "True      10432\n",
      "Name: F_siniestro, dtype: int64\n",
      "\n",
      "cod_cia\n",
      "\n",
      "False    330567\n",
      "Name: cod_cia, dtype: int64\n",
      "\n",
      "denominacion_corta\n",
      "\n",
      "False    330567\n",
      "Name: denominacion_corta, dtype: int64\n",
      "\n"
     ]
    }
   ],
   "source": [
    "# Observo por variable, la cantidad de datos, los missing y el tipo de dato\n",
    "\n",
    "for i in base.columns:\n",
    "    print(i)\n",
    "    print(\"\")\n",
    "    print(base[i].isnull().value_counts())\n",
    "    print(\"\")\n"
   ]
  },
  {
   "cell_type": "code",
   "execution_count": 11,
   "metadata": {},
   "outputs": [
    {
     "data": {
      "text/plain": [
       "Index(['Aseguradora', 'NROEXPJUDICIAL', 'CARATULA', 'F_notificacion',\n",
       "       'DPTOJUDICIAL', 'Fuero', 'Juzgado', 'provincia', 'CUIT', 'Empleador',\n",
       "       'NSINIESTRO', 'MONTO RECLAMADO INDETERMINADO', 'MONTO RECLAMADO',\n",
       "       'SENTPRIMERA', 'Contingencia reclamada', 'Enfermedad Reclamada',\n",
       "       'Objeto de reclamo', 'Objeto de reclamo Clasificado', 'F_siniestro',\n",
       "       'cod_cia', 'denominacion_corta'],\n",
       "      dtype='object')"
      ]
     },
     "execution_count": 11,
     "metadata": {},
     "output_type": "execute_result"
    }
   ],
   "source": [
    "# Me muestra una lista con el nombre de las columnas \n",
    "\n",
    "base.columns"
   ]
  },
  {
   "cell_type": "code",
   "execution_count": 12,
   "metadata": {
    "collapsed": true
   },
   "outputs": [],
   "source": [
    "# Creo la variable año\n",
    "\n",
    "base['AÑO'] = pd.DatetimeIndex(base['F_notificacion']).year"
   ]
  },
  {
   "cell_type": "code",
   "execution_count": 13,
   "metadata": {
    "collapsed": true
   },
   "outputs": [],
   "source": [
    "# Creo la variable 'codigo', que es una concatenación de 'DPTO JUDICIAL', 'CONTINGENCIA' y 'AÑO'\n",
    "\n",
    "base[\"codigo\"]=[str(base[\"DPTOJUDICIAL\"][i])+\"-\"+str(base[\"Contingencia reclamada\"][i])+\"-\"+str(base[\"AÑO\"][i]) for i in base.index]"
   ]
  },
  {
   "cell_type": "code",
   "execution_count": 14,
   "metadata": {
    "scrolled": true
   },
   "outputs": [
    {
     "data": {
      "text/plain": [
       "244-Enfermedad profesional.-2017           903\n",
       "2213-Enfermedad profesional.-2017          655\n",
       "244-Accidentes de trabajo.-2017            534\n",
       "2214-Enfermedad profesional.-2017          530\n",
       "2213-Enfermedad profesional.-2018          455\n",
       "2214-Enfermedad profesional.-2016          450\n",
       "244-Enfermedad profesional.-2016           442\n",
       "244-Accidentes de trabajo.-2016            442\n",
       "836-Accidentes de trabajo.-2017            427\n",
       "2267-Accidentes de trabajo.-2017           419\n",
       "2268-Accidentes de trabajo.-2017           418\n",
       "1089-Accidentes de trabajo.-2017           417\n",
       "2213-Enfermedad profesional.-2016          412\n",
       "268-Accidentes de trabajo.-2017            406\n",
       "835-Accidentes de trabajo.-2018            401\n",
       "2214-Enfermedad profesional.-2018          400\n",
       "502-Accidentes de trabajo.-2018            397\n",
       "834-Accidentes de trabajo.-2017            393\n",
       "2875-Accidentes de trabajo.-2017           392\n",
       "143-Accidentes de trabajo.-2016            390\n",
       "835-Accidentes de trabajo.-2017            389\n",
       "268-Accidentes de trabajo.-2016            373\n",
       "503-Accidentes de trabajo.-2017            372\n",
       "191-Accidentes de trabajo.-2017            368\n",
       "2890-Enfermedad profesional.-2017          367\n",
       "502-Accidentes de trabajo.-2017            366\n",
       "1358-Enfermedad profesional.-2017          366\n",
       "200-Accidentes de trabajo.-2017            360\n",
       "2797-Accidentes de trabajo.-2018           357\n",
       "163-Accidentes de trabajo.-2017            347\n",
       "                                          ... \n",
       "2400-Accidentes de trabajo.-2011             1\n",
       "1046-Accidentes de trabajo.-2010             1\n",
       "999-Accidentes de trabajo.-2012              1\n",
       "1434-Enfermedad profesional.-2010            1\n",
       "1702-Accidentes de trabajo.-2010             1\n",
       "2897-nan-2011                                1\n",
       "3059-Accidentes de trabajo.-2012             1\n",
       "366-nan-2011                                 1\n",
       "369-Accidentes in itinere.-2012              1\n",
       "1800-Accidentes de trabajo.-2015             1\n",
       "409-Enfermedad profesional.-2018             1\n",
       "2843-Enfermedad profesional.-2014            1\n",
       "1101-Enfermedad profesional.-2018            1\n",
       "2729-Accidentes de trabajo.-2016             1\n",
       "376-Enfermedad profesional.-2018             1\n",
       "381-Accidentes in itinere.-2013              1\n",
       "1793-Accidentes in itinere.-2016             1\n",
       "2029-Accidentes in itinere.-2011             1\n",
       "474-Enfermedad fuera del listado.-2010       1\n",
       "304-Accidentes in itinere.-2016              1\n",
       "1939-Enfermedad profesional.-2016            1\n",
       "1766-Enfermedad fuera del listado.-2011      1\n",
       "3105-Accidentes de trabajo.-2015             1\n",
       "154-nan-2010                                 1\n",
       "1897-Accidentes de trabajo.-2014             1\n",
       "411-Accidentes de trabajo.-2011              1\n",
       "971-Accidentes de trabajo.-2012              1\n",
       "3105-Accidentes de trabajo.-2018             1\n",
       "543-Enfermedad profesional.-2010             1\n",
       "2824-Accidentes de trabajo.-2015             1\n",
       "Name: codigo, Length: 16624, dtype: int64"
      ]
     },
     "execution_count": 14,
     "metadata": {},
     "output_type": "execute_result"
    }
   ],
   "source": [
    "# Cuento la canridad de casos diferentes de la variable 'codigo'\n",
    "\n",
    "base[\"codigo\"].value_counts()"
   ]
  },
  {
   "cell_type": "code",
   "execution_count": 15,
   "metadata": {
    "collapsed": true
   },
   "outputs": [],
   "source": [
    "# Remplazo los missing de 'MONTO RECLAMADO' por la media de la variable 'codigo' de cada caso\n",
    "\n",
    "base[\"MONTO RECLAMADO\"]=[base[\"MONTO RECLAMADO\"][i] if math.isnan(base[\"MONTO RECLAMADO\"][i])==False \n",
    "                         else base[base[\"codigo\"]==base[\"codigo\"][i]][\"MONTO RECLAMADO\"].mean()\n",
    "                        for i in base.index]"
   ]
  },
  {
   "cell_type": "code",
   "execution_count": 16,
   "metadata": {},
   "outputs": [
    {
     "data": {
      "text/plain": [
       "False    329658\n",
       "True        909\n",
       "Name: MONTO RECLAMADO, dtype: int64"
      ]
     },
     "execution_count": 16,
     "metadata": {},
     "output_type": "execute_result"
    }
   ],
   "source": [
    "# Evalúo si quedan missing en la variable 'MONTO RECLAMADO'\n",
    "\n",
    "base[\"MONTO RECLAMADO\"].isnull().value_counts()"
   ]
  },
  {
   "cell_type": "code",
   "execution_count": 17,
   "metadata": {
    "collapsed": true
   },
   "outputs": [],
   "source": [
    "#for i in base[\"codigo\"].unique():\n",
    "#    base[base[\"codigo\"]==i][\"MONTO_RECLAMADO\"].replace(np.nan,base[base[\"codigo\"]==i][\"MONTO_RECLAMADO\"].mean())"
   ]
  },
  {
   "cell_type": "code",
   "execution_count": 18,
   "metadata": {
    "scrolled": true
   },
   "outputs": [
    {
     "data": {
      "text/plain": [
       "668        225,149.22\n",
       "3003       318,491.02\n",
       "3011       361,756.80\n",
       "3012       528,316.91\n",
       "12041      368,561.34\n",
       "13614      281,811.00\n",
       "18203      683,147.69\n",
       "23569      353,408.09\n",
       "26208      842,842.18\n",
       "26653      254,034.10\n",
       "28545      191,992.00\n",
       "28546      690,280.00\n",
       "30241      415,475.48\n",
       "32031    1,363,171.00\n",
       "32032      867,206.00\n",
       "32036      659,774.50\n",
       "32037      966,540.21\n",
       "32041    2,689,771.00\n",
       "32178    2,423,510.38\n",
       "32187    1,960,161.44\n",
       "32588    1,501,072.00\n",
       "32839    1,348,378.00\n",
       "33671    2,886,577.00\n",
       "34994      642,887.13\n",
       "35802      155,252.00\n",
       "38728       86,299.85\n",
       "39042      648,578.00\n",
       "40811    1,307,322.00\n",
       "42997    1,954,149.09\n",
       "42998      629,173.94\n",
       "             ...     \n",
       "303122   1,574,216.40\n",
       "303141     537,172.97\n",
       "303164     397,073.00\n",
       "307520   1,926,968.00\n",
       "307521   1,958,230.00\n",
       "309914     290,635.52\n",
       "310426   1,183,552.00\n",
       "310464   1,361,867.44\n",
       "310465   1,203,929.20\n",
       "310496     617,047.00\n",
       "311250     506,847.00\n",
       "311257     521,227.00\n",
       "313773     259,842.73\n",
       "314586     286,268.16\n",
       "314607     623,818.00\n",
       "315993     751,952.00\n",
       "315995     352,132.00\n",
       "316003     397,305.00\n",
       "316004     516,750.00\n",
       "316040     536,625.00\n",
       "316041     336,285.00\n",
       "320244     735,786.16\n",
       "321506   1,488,240.00\n",
       "321632     350,748.37\n",
       "322111     600,918.00\n",
       "323886   1,186,338.60\n",
       "325747     603,224.08\n",
       "326711     797,938.48\n",
       "326719   1,120,613.00\n",
       "329515   1,333,521.00\n",
       "Name: MONTO RECLAMADO, Length: 903, dtype: float64"
      ]
     },
     "execution_count": 18,
     "metadata": {},
     "output_type": "execute_result"
    }
   ],
   "source": [
    "# Me trae todos los datos de 'MONTO RECLAMADO' que tengan el código =\"244-Enfermedad profesional.-2017\" \n",
    "\n",
    "base[base[\"codigo\"]==\"244-Enfermedad profesional.-2017\"][\"MONTO RECLAMADO\"]"
   ]
  },
  {
   "cell_type": "code",
   "execution_count": 19,
   "metadata": {},
   "outputs": [
    {
     "data": {
      "text/plain": [
       "1071095.2392761686"
      ]
     },
     "execution_count": 19,
     "metadata": {},
     "output_type": "execute_result"
    }
   ],
   "source": [
    "# Me traela media de 'MONTO RECLAMADO' con el código =\"244-Enfermedad profesional.-2017\" \n",
    "\n",
    "base[base[\"codigo\"]==\"244-Enfermedad profesional.-2017\"][\"MONTO RECLAMADO\"].mean()"
   ]
  },
  {
   "cell_type": "code",
   "execution_count": 20,
   "metadata": {
    "collapsed": true
   },
   "outputs": [],
   "source": [
    "# Creo la variable 'codigo2', que es una concatenación de 'DPTO JUDICIAL' y 'AÑO'\n",
    "\n",
    "base[\"codigo2\"]=[str(base[\"DPTOJUDICIAL\"][i])+\"-\"+str(base[\"AÑO\"][i]) for i in base.index]"
   ]
  },
  {
   "cell_type": "code",
   "execution_count": 21,
   "metadata": {
    "scrolled": true
   },
   "outputs": [
    {
     "data": {
      "text/plain": [
       "244-2017     1710\n",
       "244-2016     1142\n",
       "2213-2017    1022\n",
       "2214-2017     847\n",
       "836-2017      810\n",
       "2797-2018     804\n",
       "2798-2018     789\n",
       "268-2017      755\n",
       "1089-2017     744\n",
       "2799-2018     740\n",
       "2890-2017     734\n",
       "2214-2016     734\n",
       "2267-2017     716\n",
       "2213-2018     714\n",
       "835-2017      711\n",
       "502-2018      703\n",
       "2268-2017     701\n",
       "143-2016      698\n",
       "2304-2018     694\n",
       "3053-2018     691\n",
       "1763-2018     690\n",
       "834-2017      686\n",
       "835-2018      675\n",
       "2890-2016     674\n",
       "2214-2018     672\n",
       "502-2017      665\n",
       "2875-2017     663\n",
       "191-2017      658\n",
       "2213-2016     649\n",
       "503-2017      646\n",
       "             ... \n",
       "1045-2011       1\n",
       "2843-2013       1\n",
       "582-2012        1\n",
       "630-2013        1\n",
       "234-2017        1\n",
       "1121-2011       1\n",
       "582-2016        1\n",
       "2364-2019       1\n",
       "2374-2015       1\n",
       "212-2016        1\n",
       "805-2013        1\n",
       "437-2016        1\n",
       "76-2014         1\n",
       "221-2017        1\n",
       "454-2016        1\n",
       "256-2011        1\n",
       "2312-2018       1\n",
       "3156-2015       1\n",
       "500-2012        1\n",
       "2850-2016       1\n",
       "1447-2015       1\n",
       "2322-2010       1\n",
       "467-2010        1\n",
       "1636-2011       1\n",
       "75-2011         1\n",
       "662-2011        1\n",
       "18-2011         1\n",
       "1754-2017       1\n",
       "1942-2010       1\n",
       "219-2010        1\n",
       "Name: codigo2, Length: 6959, dtype: int64"
      ]
     },
     "execution_count": 21,
     "metadata": {},
     "output_type": "execute_result"
    }
   ],
   "source": [
    "# Cuento la canridad de casos diferentes de la variable 'codigo2'\n",
    "\n",
    "base[\"codigo2\"].value_counts()"
   ]
  },
  {
   "cell_type": "code",
   "execution_count": 22,
   "metadata": {
    "collapsed": true
   },
   "outputs": [],
   "source": [
    "# Remplazo los missing de 'MONTO RECLAMADO' por la media de la variable 'codigo2' de cada caso\n",
    "\n",
    "base[\"MONTO RECLAMADO\"]=[base[\"MONTO RECLAMADO\"][i] if math.isnan(base[\"MONTO RECLAMADO\"][i])==False \n",
    "                         else base[base[\"codigo2\"]==base[\"codigo2\"][i]][\"MONTO RECLAMADO\"].mean()\n",
    "                        for i in base.index]"
   ]
  },
  {
   "cell_type": "code",
   "execution_count": 23,
   "metadata": {},
   "outputs": [
    {
     "data": {
      "text/plain": [
       "False    330064\n",
       "True        503\n",
       "Name: MONTO RECLAMADO, dtype: int64"
      ]
     },
     "execution_count": 23,
     "metadata": {},
     "output_type": "execute_result"
    }
   ],
   "source": [
    "# Evalúo si quedan missing en la variable 'MONTO RECLAMADO'\n",
    "\n",
    "base[\"MONTO RECLAMADO\"].isnull().value_counts()"
   ]
  },
  {
   "cell_type": "code",
   "execution_count": 24,
   "metadata": {
    "collapsed": true
   },
   "outputs": [],
   "source": [
    "# Remplazo los missing de 'MONTO RECLAMADO' por la media de la variable 'año' de cada caso\n",
    "\n",
    "base[\"MONTO RECLAMADO\"]=[base[\"MONTO RECLAMADO\"][i] if math.isnan(base[\"MONTO RECLAMADO\"][i])==False \n",
    "                         else base[base[\"AÑO\"]==base[\"AÑO\"][i]][\"MONTO RECLAMADO\"].mean()\n",
    "                        for i in base.index]"
   ]
  },
  {
   "cell_type": "code",
   "execution_count": 25,
   "metadata": {},
   "outputs": [
    {
     "data": {
      "text/plain": [
       "False    330567\n",
       "Name: MONTO RECLAMADO, dtype: int64"
      ]
     },
     "execution_count": 25,
     "metadata": {},
     "output_type": "execute_result"
    }
   ],
   "source": [
    "# Evalúo si quedan missing en la variable 'MONTO RECLAMADO'\n",
    "\n",
    "base[\"MONTO RECLAMADO\"].isnull().value_counts()"
   ]
  },
  {
   "cell_type": "code",
   "execution_count": 26,
   "metadata": {
    "collapsed": true
   },
   "outputs": [],
   "source": [
    "# Exporto el dataset\n",
    "\n",
    "#base.to_excel(r'C:\\Users\\eangenello\\Desktop\\TECNICA\\Python\\output\\Stock Juicios Abiertos al 31-03-2019.xlsx', index=False)"
   ]
  },
  {
   "cell_type": "markdown",
   "metadata": {},
   "source": [
    "### Imputación de valores missing encubiertos"
   ]
  },
  {
   "cell_type": "code",
   "execution_count": 27,
   "metadata": {
    "scrolled": true
   },
   "outputs": [
    {
     "data": {
      "text/plain": [
       "1.00            10073\n",
       "0.00             4596\n",
       "240,000.00        339\n",
       "300,000.00        315\n",
       "392,740.20        311\n",
       "150,000.00        282\n",
       "180,000.00        268\n",
       "200,000.00        258\n",
       "327,283.50        247\n",
       "100,000.00        240\n",
       "250,000.00        231\n",
       "120,000.00        219\n",
       "413,400.00        206\n",
       "50,000.00         187\n",
       "80,000.00         186\n",
       "60,000.00         185\n",
       "620,100.00        173\n",
       "400,000.00        172\n",
       "458,196.90        172\n",
       "100.00            171\n",
       "350,000.00        168\n",
       "30,000.00         167\n",
       "516,750.00        165\n",
       "261,826.80        160\n",
       "36,000.00         158\n",
       "312,200.42        157\n",
       "355,609.62        156\n",
       "500,000.00        151\n",
       "90,000.00         147\n",
       "45,000.00         144\n",
       "                ...  \n",
       "858,251.50          1\n",
       "38,929.71           1\n",
       "1,029,042.35        1\n",
       "169,064.00          1\n",
       "1,090,201.60        1\n",
       "1,716,654.00        1\n",
       "451,370.48          1\n",
       "1,716,750.00        1\n",
       "284,616.00          1\n",
       "539,912.37          1\n",
       "415,288.71          1\n",
       "578,688.39          1\n",
       "858,361.50          1\n",
       "332,938.03          1\n",
       "330,609.72          1\n",
       "128,632.95          1\n",
       "429,177.50          1\n",
       "235,916.46          1\n",
       "13,790.07           1\n",
       "429,173.00          1\n",
       "858,345.00          1\n",
       "107,293.00          1\n",
       "435,232.76          1\n",
       "64,450.90           1\n",
       "2,407,743.21        1\n",
       "217,617.13          1\n",
       "1,716,666.00        1\n",
       "515,592.70          1\n",
       "1,579,584.34        1\n",
       "271,192.39          1\n",
       "Name: MONTO RECLAMADO, Length: 231702, dtype: int64"
      ]
     },
     "execution_count": 27,
     "metadata": {},
     "output_type": "execute_result"
    }
   ],
   "source": [
    "base[\"MONTO RECLAMADO\"].value_counts()"
   ]
  },
  {
   "cell_type": "code",
   "execution_count": 28,
   "metadata": {
    "collapsed": true
   },
   "outputs": [],
   "source": [
    "base1=base.copy()"
   ]
  },
  {
   "cell_type": "code",
   "execution_count": 29,
   "metadata": {
    "collapsed": true
   },
   "outputs": [],
   "source": [
    "base1[\"MONTO RECLAMADO\"]=[base1[\"MONTO RECLAMADO\"][i] if (base[\"MONTO RECLAMADO\"][i])>999 \n",
    "                         else base[base1[\"AÑO\"]==base1[\"AÑO\"][i]][\"MONTO RECLAMADO\"].mean()\n",
    "                        for i in base.index]"
   ]
  },
  {
   "cell_type": "code",
   "execution_count": 30,
   "metadata": {},
   "outputs": [
    {
     "data": {
      "text/html": [
       "<div>\n",
       "<style scoped>\n",
       "    .dataframe tbody tr th:only-of-type {\n",
       "        vertical-align: middle;\n",
       "    }\n",
       "\n",
       "    .dataframe tbody tr th {\n",
       "        vertical-align: top;\n",
       "    }\n",
       "\n",
       "    .dataframe thead th {\n",
       "        text-align: right;\n",
       "    }\n",
       "</style>\n",
       "<table border=\"1\" class=\"dataframe\">\n",
       "  <thead>\n",
       "    <tr style=\"text-align: right;\">\n",
       "      <th></th>\n",
       "      <th>MONTO RECLAMADO</th>\n",
       "      <th>cod_cia</th>\n",
       "      <th>AÑO</th>\n",
       "    </tr>\n",
       "  </thead>\n",
       "  <tbody>\n",
       "    <tr>\n",
       "      <th>count</th>\n",
       "      <td>330,567.00</td>\n",
       "      <td>330,567.00</td>\n",
       "      <td>330,567.00</td>\n",
       "    </tr>\n",
       "    <tr>\n",
       "      <th>mean</th>\n",
       "      <td>628,639.83</td>\n",
       "      <td>621.68</td>\n",
       "      <td>2,015.80</td>\n",
       "    </tr>\n",
       "    <tr>\n",
       "      <th>std</th>\n",
       "      <td>1,776,480.84</td>\n",
       "      <td>95.48</td>\n",
       "      <td>2.17</td>\n",
       "    </tr>\n",
       "    <tr>\n",
       "      <th>min</th>\n",
       "      <td>1,000.00</td>\n",
       "      <td>7.00</td>\n",
       "      <td>2,010.00</td>\n",
       "    </tr>\n",
       "    <tr>\n",
       "      <th>25%</th>\n",
       "      <td>200,884.65</td>\n",
       "      <td>618.00</td>\n",
       "      <td>2,015.00</td>\n",
       "    </tr>\n",
       "    <tr>\n",
       "      <th>50%</th>\n",
       "      <td>385,445.00</td>\n",
       "      <td>619.00</td>\n",
       "      <td>2,016.00</td>\n",
       "    </tr>\n",
       "    <tr>\n",
       "      <th>75%</th>\n",
       "      <td>730,952.72</td>\n",
       "      <td>621.00</td>\n",
       "      <td>2,017.00</td>\n",
       "    </tr>\n",
       "    <tr>\n",
       "      <th>max</th>\n",
       "      <td>480,480,000.00</td>\n",
       "      <td>862.00</td>\n",
       "      <td>2,019.00</td>\n",
       "    </tr>\n",
       "  </tbody>\n",
       "</table>\n",
       "</div>"
      ],
      "text/plain": [
       "       MONTO RECLAMADO    cod_cia        AÑO\n",
       "count       330,567.00 330,567.00 330,567.00\n",
       "mean        628,639.83     621.68   2,015.80\n",
       "std       1,776,480.84      95.48       2.17\n",
       "min           1,000.00       7.00   2,010.00\n",
       "25%         200,884.65     618.00   2,015.00\n",
       "50%         385,445.00     619.00   2,016.00\n",
       "75%         730,952.72     621.00   2,017.00\n",
       "max     480,480,000.00     862.00   2,019.00"
      ]
     },
     "execution_count": 30,
     "metadata": {},
     "output_type": "execute_result"
    }
   ],
   "source": [
    "base1.describe()"
   ]
  },
  {
   "cell_type": "code",
   "execution_count": 31,
   "metadata": {},
   "outputs": [
    {
     "name": "stdout",
     "output_type": "stream",
     "text": [
      "1000 - 480480000\n"
     ]
    }
   ],
   "source": [
    "print(int(base1[\"MONTO RECLAMADO\"].min()), \"-\", int(base1[\"MONTO RECLAMADO\"].max()))"
   ]
  },
  {
   "cell_type": "code",
   "execution_count": 32,
   "metadata": {
    "scrolled": true
   },
   "outputs": [
    {
     "data": {
      "text/plain": [
       "[<matplotlib.lines.Line2D at 0x2637f1b5eb8>]"
      ]
     },
     "execution_count": 32,
     "metadata": {},
     "output_type": "execute_result"
    },
    {
     "data": {
      "image/png": "[encoded data removed]",
      "text/plain": [
       "<Figure size 432x288 with 1 Axes>"
      ]
     },
     "metadata": {
      "needs_background": "light"
     },
     "output_type": "display_data"
    }
   ],
   "source": [
    "#baseprueba[\"MONTO_RECLAMADO\"].plot()\n",
    "plt.plot(base1[\"MONTO RECLAMADO\"], '.')"
   ]
  },
  {
   "cell_type": "code",
   "execution_count": 33,
   "metadata": {
    "collapsed": true
   },
   "outputs": [],
   "source": [
    "# Exporto el dataset\n",
    "\n",
    "base1.to_excel(r'C:\\Users\\eangenello\\Desktop\\TECNICA\\Python\\output\\Stock Juicios Abiertos al 31-03-2019.xlsx.xlsx', index=False)"
   ]
  }
 ],
 "metadata": {
  "kernelspec": {
   "display_name": "Python 3",
   "language": "python",
   "name": "python3"
  },
  "language_info": {
   "codemirror_mode": {
    "name": "ipython",
    "version": 3
   },
   "file_extension": ".py",
   "mimetype": "text/x-python",
   "name": "python",
   "nbconvert_exporter": "python",
   "pygments_lexer": "ipython3",
   "version": "3.6.3"
  }
 },
 "nbformat": 4,
 "nbformat_minor": 2
}
